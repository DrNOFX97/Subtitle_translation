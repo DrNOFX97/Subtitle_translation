{
 "cells": [
  {
   "cell_type": "markdown",
   "id": "ae3925f3-bfa4-4924-9d43-09a1e048564e",
   "metadata": {},
   "source": [
    "# **Translate an MKV subtitle from english to european portuguese**"
   ]
  },
  {
   "cell_type": "markdown",
   "id": "59000d7e-363b-4479-9133-9cce9fdc5656",
   "metadata": {},
   "source": [
    "### Breakdown of the Code:\n",
    "\n",
    "1. **Environment Setup:**\n",
    "   - **Loading Environment Variables:** Handles the loading of environment variables from a `.env` file.\n",
    "   - **OpenAI Client Initialization:** Sets up the OpenAI client with the API key.\n",
    "\n",
    "2. **Translation Function:**\n",
    "   - **`translate_text`:** Translates text using the OpenAI GPT-4 model and handles errors.\n",
    "\n",
    "3. **SRT Parsing and Writing:**\n",
    "   - **`parse_srt`:** Parses SRT files into a list of subtitle segments.\n",
    "   - **`write_srt`:** Writes subtitle segments to a new SRT file.\n",
    "\n",
    "4. **Subtitle Extraction and Track Information:**\n",
    "   - **`extract_subtitles`:** Extracts subtitles from MKV files using `mkvextract`.\n",
    "   - **`get_subtitle_track_details`:** Retrieves details about subtitle tracks from an MKV file using `mkvinfo`.\n",
    "\n",
    "5. **User Interaction:**\n",
    "   - **`get_user_confirmation`:** Prompts the user for a yes/no confirmation using a Tkinter messagebox.\n",
    "   - **`select_mkv_file`:** Opens a file dialog to let the user select an MKV file.\n",
    "\n",
    "6. **Main Function:**\n",
    "   - **`main`:** Coordinates the overall process, including file selection, subtitle extraction, user prompts, and translation."
   ]
  },
  {
   "cell_type": "code",
   "execution_count": 1,
   "id": "a87625a2-9ad7-461d-875f-9deb019e7fab",
   "metadata": {},
   "outputs": [],
   "source": [
    "#!pip install --upgrade httpx\n",
    "#!pip install transformers torch pysrt tqdm sacremoses nest_asyncio"
   ]
  },
  {
   "cell_type": "markdown",
   "id": "284b73bb-ff7c-4e7a-be17-cd74971a4f25",
   "metadata": {},
   "source": [
    "# Import necessary libraries"
   ]
  },
  {
   "cell_type": "code",
   "execution_count": 2,
   "id": "1ba19fd5-758e-4cd5-a0e5-d78a4d04ed4a",
   "metadata": {},
   "outputs": [],
   "source": [
    "import os\n",
    "import subprocess\n",
    "import re\n",
    "import tkinter as tk\n",
    "from tkinter import filedialog, messagebox\n",
    "from dotenv import load_dotenv\n",
    "from openai import OpenAI\n",
    "from tqdm.auto import tqdm\n",
    "from IPython.display import display, Markdown"
   ]
  },
  {
   "cell_type": "markdown",
   "id": "43f14cfc-9525-46fd-9cee-ea59398da061",
   "metadata": {},
   "source": [
    "# --- Environment Setup ---"
   ]
  },
  {
   "cell_type": "code",
   "execution_count": 3,
   "id": "e94385ea-f4b9-4746-96b4-5fe79f66b381",
   "metadata": {},
   "outputs": [],
   "source": [
    "# Load environment variables from .env file\n",
    "load_dotenv()\n",
    "\n",
    "# Retrieve the OpenAI API key from environment variables\n",
    "OPENAI_API_KEY = os.getenv(\"OPENAI_API_KEY\")\n",
    "if not OPENAI_API_KEY:\n",
    "    raise ValueError(\"API key not found. Set the OPENAI_API_KEY environment variable in your .env file.\")\n",
    "\n",
    "# Initialize OpenAI client\n",
    "client = OpenAI(api_key=OPENAI_API_KEY)"
   ]
  },
  {
   "cell_type": "markdown",
   "id": "ecc7e91c-b368-4ce1-8941-ac1a813f2738",
   "metadata": {},
   "source": [
    "# --- Translation Function ---"
   ]
  },
  {
   "cell_type": "code",
   "execution_count": 4,
   "id": "c6430cde-ead5-45f8-bad9-c54bcd6b240d",
   "metadata": {},
   "outputs": [
    {
     "name": "stdout",
     "output_type": "stream",
     "text": [
      "\u001b[36mReading file: /Users/f.nuno/Downloads/Despicable.Me.4.2024.720p.WEBRip.800MB.x264-GalaxyRG[TGx]/Extracted_Subtitles/subtitle_track_3.srt\u001b[0m\n"
     ]
    },
    {
     "data": {
      "application/vnd.jupyter.widget-view+json": {
       "model_id": "e2a0696c6b3742de81dfc42f9ee2ef80",
       "version_major": 2,
       "version_minor": 0
      },
      "text/plain": [
       "Translating Subtitles:   0%|          | 0/1859 [00:00<?, ?it/s]"
      ]
     },
     "metadata": {},
     "output_type": "display_data"
    },
    {
     "data": {
      "text/markdown": [
       "**Translating text:** `Ah. Hmm....`"
      ],
      "text/plain": [
       "<IPython.core.display.Markdown object>"
      ]
     },
     "metadata": {},
     "output_type": "display_data"
    },
    {
     "ename": "APIRemovedInV1",
     "evalue": "\n\nYou tried to access openai.ChatCompletion, but this is no longer supported in openai>=1.0.0 - see the README at https://github.com/openai/openai-python for the API.\n\nYou can run `openai migrate` to automatically upgrade your codebase to use the 1.0.0 interface. \n\nAlternatively, you can pin your installation to the old version, e.g. `pip install openai==0.28`\n\nA detailed migration guide is available here: https://github.com/openai/openai-python/discussions/742\n",
     "output_type": "error",
     "traceback": [
      "\u001b[0;31m---------------------------------------------------------------------------\u001b[0m",
      "\u001b[0;31mAPIRemovedInV1\u001b[0m                            Traceback (most recent call last)",
      "Cell \u001b[0;32mIn[4], line 113\u001b[0m\n\u001b[1;32m    111\u001b[0m \u001b[38;5;66;03m# Check if a file was selected\u001b[39;00m\n\u001b[1;32m    112\u001b[0m \u001b[38;5;28;01mif\u001b[39;00m input_subtitle_path:\n\u001b[0;32m--> 113\u001b[0m     main(input_subtitle_path)\n\u001b[1;32m    114\u001b[0m \u001b[38;5;28;01melse\u001b[39;00m:\n\u001b[1;32m    115\u001b[0m     \u001b[38;5;28mprint\u001b[39m(colored(\u001b[38;5;124m\"\u001b[39m\u001b[38;5;124mNo file selected. Exiting.\u001b[39m\u001b[38;5;124m\"\u001b[39m, \u001b[38;5;124m\"\u001b[39m\u001b[38;5;124mred\u001b[39m\u001b[38;5;124m\"\u001b[39m))\n",
      "Cell \u001b[0;32mIn[4], line 84\u001b[0m, in \u001b[0;36mmain\u001b[0;34m(input_file)\u001b[0m\n\u001b[1;32m     81\u001b[0m     \u001b[38;5;28;01mcontinue\u001b[39;00m\n\u001b[1;32m     83\u001b[0m \u001b[38;5;66;03m# Translate and correct the text\u001b[39;00m\n\u001b[0;32m---> 84\u001b[0m translated_text \u001b[38;5;241m=\u001b[39m translate_text(text)\n\u001b[1;32m     86\u001b[0m \u001b[38;5;66;03m# Ensure text fits in 2 lines\u001b[39;00m\n\u001b[1;32m     87\u001b[0m lines \u001b[38;5;241m=\u001b[39m translated_text\u001b[38;5;241m.\u001b[39msplit(\u001b[38;5;124m'\u001b[39m\u001b[38;5;130;01m\\n\u001b[39;00m\u001b[38;5;124m'\u001b[39m)\n",
      "Cell \u001b[0;32mIn[4], line 26\u001b[0m, in \u001b[0;36mtranslate_text\u001b[0;34m(text, source_lang, target_lang)\u001b[0m\n\u001b[1;32m     23\u001b[0m \u001b[38;5;66;03m# Display the first 100 characters of the text being translated\u001b[39;00m\n\u001b[1;32m     24\u001b[0m display(Markdown(\u001b[38;5;124mf\u001b[39m\u001b[38;5;124m\"\u001b[39m\u001b[38;5;124m**Translating text:** `\u001b[39m\u001b[38;5;132;01m{\u001b[39;00mtext[:\u001b[38;5;241m100\u001b[39m]\u001b[38;5;132;01m}\u001b[39;00m\u001b[38;5;124m...`\u001b[39m\u001b[38;5;124m\"\u001b[39m))\n\u001b[0;32m---> 26\u001b[0m response \u001b[38;5;241m=\u001b[39m openai\u001b[38;5;241m.\u001b[39mChatCompletion\u001b[38;5;241m.\u001b[39mcreate(\n\u001b[1;32m     27\u001b[0m     model\u001b[38;5;241m=\u001b[39m\u001b[38;5;124m\"\u001b[39m\u001b[38;5;124mgpt-4-turbo\u001b[39m\u001b[38;5;124m\"\u001b[39m,  \u001b[38;5;66;03m# or the appropriate model for your use case\u001b[39;00m\n\u001b[1;32m     28\u001b[0m     messages\u001b[38;5;241m=\u001b[39m[\n\u001b[1;32m     29\u001b[0m         {\u001b[38;5;124m\"\u001b[39m\u001b[38;5;124mrole\u001b[39m\u001b[38;5;124m\"\u001b[39m: \u001b[38;5;124m\"\u001b[39m\u001b[38;5;124msystem\u001b[39m\u001b[38;5;124m\"\u001b[39m, \u001b[38;5;124m\"\u001b[39m\u001b[38;5;124mcontent\u001b[39m\u001b[38;5;124m\"\u001b[39m: \u001b[38;5;124mf\u001b[39m\u001b[38;5;124m\"\u001b[39m\u001b[38;5;124mYou are a translator. Translate from \u001b[39m\u001b[38;5;132;01m{\u001b[39;00msource_lang\u001b[38;5;132;01m}\u001b[39;00m\u001b[38;5;124m to \u001b[39m\u001b[38;5;132;01m{\u001b[39;00mtarget_lang\u001b[38;5;132;01m}\u001b[39;00m\u001b[38;5;124m.\u001b[39m\u001b[38;5;124m\"\u001b[39m},\n\u001b[1;32m     30\u001b[0m         {\u001b[38;5;124m\"\u001b[39m\u001b[38;5;124mrole\u001b[39m\u001b[38;5;124m\"\u001b[39m: \u001b[38;5;124m\"\u001b[39m\u001b[38;5;124muser\u001b[39m\u001b[38;5;124m\"\u001b[39m, \u001b[38;5;124m\"\u001b[39m\u001b[38;5;124mcontent\u001b[39m\u001b[38;5;124m\"\u001b[39m: text}\n\u001b[1;32m     31\u001b[0m     ],\n\u001b[1;32m     32\u001b[0m     temperature\u001b[38;5;241m=\u001b[39m\u001b[38;5;241m0\u001b[39m,  \u001b[38;5;66;03m# Adjust temperature if needed\u001b[39;00m\n\u001b[1;32m     33\u001b[0m     max_tokens\u001b[38;5;241m=\u001b[39m\u001b[38;5;241m500\u001b[39m\n\u001b[1;32m     34\u001b[0m )\n\u001b[1;32m     35\u001b[0m translation \u001b[38;5;241m=\u001b[39m response\u001b[38;5;241m.\u001b[39mchoices[\u001b[38;5;241m0\u001b[39m]\u001b[38;5;241m.\u001b[39mmessage[\u001b[38;5;124m'\u001b[39m\u001b[38;5;124mcontent\u001b[39m\u001b[38;5;124m'\u001b[39m]\u001b[38;5;241m.\u001b[39mstrip()\n\u001b[1;32m     36\u001b[0m \u001b[38;5;28;01mreturn\u001b[39;00m translation\n",
      "File \u001b[0;32m/opt/anaconda3/lib/python3.12/site-packages/openai/lib/_old_api.py:39\u001b[0m, in \u001b[0;36mAPIRemovedInV1Proxy.__call__\u001b[0;34m(self, *_args, **_kwargs)\u001b[0m\n\u001b[1;32m     38\u001b[0m \u001b[38;5;28;01mdef\u001b[39;00m \u001b[38;5;21m__call__\u001b[39m(\u001b[38;5;28mself\u001b[39m, \u001b[38;5;241m*\u001b[39m_args: Any, \u001b[38;5;241m*\u001b[39m\u001b[38;5;241m*\u001b[39m_kwargs: Any) \u001b[38;5;241m-\u001b[39m\u001b[38;5;241m>\u001b[39m Any:\n\u001b[0;32m---> 39\u001b[0m     \u001b[38;5;28;01mraise\u001b[39;00m APIRemovedInV1(symbol\u001b[38;5;241m=\u001b[39m\u001b[38;5;28mself\u001b[39m\u001b[38;5;241m.\u001b[39m_symbol)\n",
      "\u001b[0;31mAPIRemovedInV1\u001b[0m: \n\nYou tried to access openai.ChatCompletion, but this is no longer supported in openai>=1.0.0 - see the README at https://github.com/openai/openai-python for the API.\n\nYou can run `openai migrate` to automatically upgrade your codebase to use the 1.0.0 interface. \n\nAlternatively, you can pin your installation to the old version, e.g. `pip install openai==0.28`\n\nA detailed migration guide is available here: https://github.com/openai/openai-python/discussions/742\n"
     ]
    }
   ],
   "source": [
    "import os\n",
    "import re\n",
    "import openai\n",
    "from tqdm.auto import tqdm\n",
    "from dotenv import load_dotenv\n",
    "from tkinter import Tk, filedialog\n",
    "from termcolor import colored\n",
    "from IPython.display import display, Markdown\n",
    "\n",
    "# Load environment variables from .env file\n",
    "load_dotenv()\n",
    "\n",
    "# Retrieve the OpenAI API key from environment variables\n",
    "OPENAI_API_KEY = os.getenv(\"OPENAI_API_KEY\")\n",
    "if not OPENAI_API_KEY:\n",
    "    raise ValueError(\"API key not found. Set the OPENAI_API_KEY environment variable in your .env file.\")\n",
    "\n",
    "# Initialize OpenAI client\n",
    "openai.api_key = OPENAI_API_KEY\n",
    "\n",
    "def translate_text(text, source_lang=\"en\", target_lang=\"pt-PT\"):\n",
    "    \"\"\"Translate text using GPT-4-turbo.\"\"\"\n",
    "    # Display the first 100 characters of the text being translated\n",
    "    display(Markdown(f\"**Translating text:** `{text[:100]}...`\"))\n",
    "\n",
    "    response = openai.ChatCompletion.create(\n",
    "        model=\"gpt-4-turbo\",  # or the appropriate model for your use case\n",
    "        messages=[\n",
    "            {\"role\": \"system\", \"content\": f\"You are a translator. Translate from {source_lang} to {target_lang}.\"},\n",
    "            {\"role\": \"user\", \"content\": text}\n",
    "        ],\n",
    "        temperature=0,  # Adjust temperature if needed\n",
    "        max_tokens=500\n",
    "    )\n",
    "    translation = response.choices[0].message['content'].strip()\n",
    "    return translation\n",
    "\n",
    "def parse_srt(file_path):\n",
    "    \"\"\"Parse SRT file into a list of tuples (index, timestamp, text).\"\"\"\n",
    "    with open(file_path, 'r', encoding='utf-8') as file:\n",
    "        content = file.read()\n",
    "    \n",
    "    subtitles = []\n",
    "    parts = re.split(r'\\n\\n', content.strip())\n",
    "    for part in parts:\n",
    "        lines = part.split('\\n')\n",
    "        if len(lines) >= 3:\n",
    "            index = lines[0]\n",
    "            timestamp = lines[1]\n",
    "            text = '\\n'.join(lines[2:])\n",
    "            subtitles.append((index, timestamp, text))\n",
    "    return subtitles\n",
    "\n",
    "def write_srt(subtitles, file_path):\n",
    "    \"\"\"Write translated subtitles to a new SRT file.\"\"\"\n",
    "    with open(file_path, 'w', encoding='utf-8') as file:\n",
    "        for index, timestamp, text in subtitles:\n",
    "            file.write(f\"{index}\\n{timestamp}\\n{text}\\n\\n\")\n",
    "\n",
    "def display_translations(original, translated):\n",
    "    \"\"\"Display original and translated texts in colored markdown.\"\"\"\n",
    "    display(Markdown(f\"<span style='color: blue'>**Original:** {original}</span>\"))\n",
    "    display(Markdown(f\"<span style='color: green'>**Translated:** {translated}</span>\"))\n",
    "    print(colored(f\"Original: {original}\", \"blue\"))\n",
    "    print(colored(f\"Translated: {translated}\", \"green\"))\n",
    "\n",
    "def main(input_file):\n",
    "    print(colored(f\"Reading file: {input_file}\", \"cyan\"))\n",
    "    subtitles = parse_srt(input_file)\n",
    "    \n",
    "    # Generate the output file name\n",
    "    base, ext = os.path.splitext(input_file)\n",
    "    output_file = f\"{base}_PT-PT{ext}\"\n",
    "    \n",
    "    # Translate subtitles with a progress bar\n",
    "    translated_subtitles = []\n",
    "    for index, timestamp, text in tqdm(subtitles, desc=\"Translating Subtitles\"):\n",
    "        # Skip sounds or comments\n",
    "        if re.search(r'\\[.*?\\]', text):\n",
    "            translated_subtitles.append((index, timestamp, text))\n",
    "            continue\n",
    "        \n",
    "        # Translate and correct the text\n",
    "        translated_text = translate_text(text)\n",
    "        \n",
    "        # Ensure text fits in 2 lines\n",
    "        lines = translated_text.split('\\n')\n",
    "        if len(lines) > 2:\n",
    "            translated_text = '\\n'.join(lines[:2])\n",
    "        \n",
    "        # Display original and translated texts\n",
    "        display_translations(text, translated_text)\n",
    "        \n",
    "        translated_subtitles.append((index, timestamp, translated_text))\n",
    "    \n",
    "    # Write the translated subtitles to a new SRT file\n",
    "    write_srt(translated_subtitles, output_file)\n",
    "    print(colored(f\"Translation complete! Translated file saved as {output_file}\", \"green\"))\n",
    "\n",
    "if __name__ == \"__main__\":\n",
    "    # Create a Tkinter root window and hide it\n",
    "    root = Tk()\n",
    "    root.withdraw()\n",
    "    \n",
    "    # Ask the user to select an SRT file\n",
    "    input_subtitle_path = filedialog.askopenfilename(\n",
    "        title=\"Select the English SRT file\",\n",
    "        filetypes=[(\"SRT files\", \"*.srt\"), (\"All files\", \"*.*\")]\n",
    "    )\n",
    "    \n",
    "    # Check if a file was selected\n",
    "    if input_subtitle_path:\n",
    "        main(input_subtitle_path)\n",
    "    else:\n",
    "        print(colored(\"No file selected. Exiting.\", \"red\"))\n"
   ]
  },
  {
   "cell_type": "markdown",
   "id": "e83f5807-a2a8-44da-a4f4-630143c8b7e8",
   "metadata": {},
   "source": [
    "# --- SRT Parsing and Writing ---"
   ]
  },
  {
   "cell_type": "code",
   "execution_count": null,
   "id": "bdfcffae-74da-474c-bb8b-b7d0bca24a2c",
   "metadata": {},
   "outputs": [],
   "source": [
    "def parse_srt(file_path):\n",
    "    \"\"\"Parse SRT file into a list of tuples (index, timestamp, text).\"\"\"\n",
    "    with open(file_path, 'r', encoding='utf-8') as file:\n",
    "        content = file.read()\n",
    "    \n",
    "    subtitles = []\n",
    "    parts = re.split(r'\\n\\n', content.strip())\n",
    "    for part in parts:\n",
    "        lines = part.split('\\n')\n",
    "        if len(lines) >= 3:\n",
    "            index = lines[0]\n",
    "            timestamp = lines[1]\n",
    "            text = '\\n'.join(lines[2:])\n",
    "            # Filter out comments or sound indicators\n",
    "            if not re.match(r'^\\[.*\\]$', text.strip()):\n",
    "                subtitles.append((index, timestamp, text))\n",
    "    return subtitles\n",
    "\n",
    "def write_srt(subtitles, file_path):\n",
    "    \"\"\"Write subtitles to a new SRT file.\"\"\"\n",
    "    with open(file_path, 'w', encoding='utf-8') as file:\n",
    "        for index, timestamp, text in subtitles:\n",
    "            file.write(f\"{index}\\n{timestamp}\\n{text}\\n\\n\")"
   ]
  },
  {
   "cell_type": "markdown",
   "id": "bc9e3c9d-f563-4f46-ac38-b6371a55e156",
   "metadata": {},
   "source": [
    "# --- Subtitle Extraction and Track Information ---"
   ]
  },
  {
   "cell_type": "code",
   "execution_count": null,
   "id": "c0df1b83-6126-4c34-a328-7f537606b586",
   "metadata": {},
   "outputs": [],
   "source": [
    "def extract_subtitles(file_path, output_dir, track_id):\n",
    "    \"\"\"Extract subtitles from MKV file using mkvextract.\"\"\"\n",
    "    srt_path = os.path.join(output_dir, f'subtitle_track_{track_id}.srt')\n",
    "    try:\n",
    "        subprocess.run(['/usr/local/bin/mkvextract', 'tracks', file_path, f'{track_id}:{srt_path}'], check=True)\n",
    "        return srt_path\n",
    "    except subprocess.CalledProcessError as e:\n",
    "        display(Markdown(f\"**Failed to extract subtitles:** {e}\"))\n",
    "        return None\n",
    "\n",
    "def get_subtitle_track_details(file_path):\n",
    "    \"\"\"Get subtitle track details from MKV file.\"\"\"\n",
    "    mkvinfo_path = '/usr/local/bin/mkvinfo'\n",
    "    mkvextract_path = '/usr/local/bin/mkvextract'\n",
    "\n",
    "    if not os.path.isfile(mkvinfo_path) or not os.access(mkvinfo_path, os.X_OK):\n",
    "        display(Markdown(f\"**Error:** '{mkvinfo_path}' is not found or not executable.\"))\n",
    "        return \"Unknown Title\", [], \"\"\n",
    "\n",
    "    if not os.path.isfile(mkvextract_path) or not os.access(mkvextract_path, os.X_OK):\n",
    "        display(Markdown(f\"**Error:** '{mkvextract_path}' is not found or not executable.\"))\n",
    "        return \"Unknown Title\", [], \"\"\n",
    "\n",
    "    try:\n",
    "        result = subprocess.run([mkvinfo_path, file_path], capture_output=True, text=True, check=True)\n",
    "        lines = result.stdout.splitlines()\n",
    "        track_details = []\n",
    "        track_info = {}\n",
    "        title = \"Unknown Title\"\n",
    "        for i, line in enumerate(lines):\n",
    "            if \"Title:\" in line:\n",
    "                title = line.split(\":\")[1].strip()\n",
    "            if \"Track number\" in line:\n",
    "                track_id = int(line.split(\":\")[1].split()[0])\n",
    "                track_info = {\"id\": track_id}\n",
    "            if \"Track type: subtitles\" in line:\n",
    "                track_info[\"type\"] = \"subtitles\"\n",
    "                for j in range(i+1, i+10):\n",
    "                    if \"Language:\" in lines[j]:\n",
    "                        track_info[\"language\"] = lines[j].split(\":\")[1].strip()\n",
    "                    if \"Codec ID:\" in lines[j]:\n",
    "                        track_info[\"codec\"] = lines[j].split(\":\")[1].strip()\n",
    "                track_details.append(track_info)\n",
    "                track_info = {}\n",
    "        return title, track_details, result.stdout\n",
    "    except subprocess.CalledProcessError as e:\n",
    "        display(Markdown(f\"**Failed to get MKV file information:** {e}\"))\n",
    "        return \"Unknown Title\", [], \"\"\n",
    "    except FileNotFoundError as e:\n",
    "        display(Markdown(f\"**Error:** {e}\"))\n",
    "        return \"Unknown Title\", [], \"\""
   ]
  },
  {
   "cell_type": "markdown",
   "id": "b259a057-b6b3-4267-8b62-196886a48507",
   "metadata": {},
   "source": [
    "# --- User Interaction ---"
   ]
  },
  {
   "cell_type": "code",
   "execution_count": null,
   "id": "b3044364-0a4c-48f8-84a9-d2cf97f965ea",
   "metadata": {},
   "outputs": [],
   "source": [
    "def get_user_confirmation(message):\n",
    "    \"\"\"Prompt the user for confirmation.\"\"\"\n",
    "    root = tk.Tk()\n",
    "    root.withdraw()  # Hide the root window\n",
    "    return messagebox.askyesno(\"Confirmation\", message)\n",
    "\n",
    "def select_mkv_file():\n",
    "    \"\"\"Ask the user to select an MKV file.\"\"\"\n",
    "    root = tk.Tk()\n",
    "    root.withdraw()  # Hide the root window\n",
    "    file_path = filedialog.askopenfilename(\n",
    "        title=\"Select MKV file\",\n",
    "        filetypes=[(\"MKV files\", \"*.mkv\"), (\"All files\", \"*.*\")]\n",
    "    )\n",
    "    root.destroy()\n",
    "    return file_path"
   ]
  },
  {
   "cell_type": "markdown",
   "id": "e20fe26a-c44a-433c-8205-4b7ef819028a",
   "metadata": {},
   "source": [
    "# --- Main Function ---"
   ]
  },
  {
   "cell_type": "code",
   "execution_count": null,
   "id": "5bec8ece-f452-4300-96e1-67e4f9af3e49",
   "metadata": {},
   "outputs": [],
   "source": [
    "def main():\n",
    "    # Select the MKV file through GUI\n",
    "    file_path = select_mkv_file()\n",
    "    if not file_path:\n",
    "        display(Markdown(\"**No file selected.**\"))\n",
    "        return\n",
    "\n",
    "    # Output directory for the extracted subtitles\n",
    "    output_dir = os.path.join(os.path.dirname(file_path), 'Extracted_Subtitles')\n",
    "    os.makedirs(output_dir, exist_ok=True)\n",
    "\n",
    "    # Get detailed information about subtitle tracks and the movie title\n",
    "    movie_title, subtitle_tracks, mkv_info = get_subtitle_track_details(file_path)\n",
    "    if not subtitle_tracks:\n",
    "        display(Markdown(f\"**No subtitle tracks found in the MKV file '{movie_title}'.**\"))\n",
    "        return\n",
    "\n",
    "    # Display the movie title\n",
    "    display(Markdown(f\"**Movie Title:** {movie_title}\"))\n",
    "\n",
    "    # Check for English subtitles and extract them\n",
    "    english_found = False\n",
    "    for track in subtitle_tracks:\n",
    "        if track.get('language') == 'eng':\n",
    "            english_found = True\n",
    "            srt_path = extract_subtitles(file_path, output_dir, track['id'])\n",
    "            if srt_path:\n",
    "                display(Markdown(f\"**English subtitle extracted to:** `{srt_path}`\"))\n",
    "                break\n",
    "\n",
    "    if not english_found:\n",
    "        display(Markdown(\"**English subtitle not found**\"))\n",
    "        return\n",
    "\n",
    "    # Check for Portuguese subtitles\n",
    "    portuguese_found = any(track.get('language') == 'por' for track in subtitle_tracks)\n",
    "    if portuguese_found:\n",
    "        proceed = get_user_confirmation(\"Portuguese subtitles found. Do you still want to proceed with translation?\")\n",
    "        if not proceed:\n",
    "            display(Markdown(\"**Translation aborted by user.**\"))\n",
    "            return\n",
    "\n",
    "    # Translate subtitles if English subtitle was found\n",
    "    translated_srt_path = os.path.join(output_dir, 'subtitle_track_eng_pt-PT.srt')\n",
    "    subtitles = parse_srt(srt_path)\n",
    "    display(Markdown(f\"**Parsed {len(subtitles)} subtitle segments.**\"))\n",
    "\n",
    "    # Translate subtitles with progress tracking\n",
    "    translated_subtitles = []\n",
    "    for index, timestamp, text in tqdm(subtitles, desc=\"Translating Subtitles\"):\n",
    "        translated_text = translate_text(text)\n",
    "        if text != translated_text:  # Only display if text is actually translated\n",
    "            display_translations(text, translated_text)\n",
    "        translated_subtitles.append((index, timestamp, translated_text))\n",
    "    \n",
    "    write_srt(translated_subtitles, translated_srt_path)\n",
    "    display(Markdown(f\"**Translated subtitles written to {translated_srt_path}**\"))\n",
    "\n",
    "# Run the main function\n",
    "main()"
   ]
  }
 ],
 "metadata": {
  "kernelspec": {
   "display_name": "Python 3 (ipykernel)",
   "language": "python",
   "name": "python3"
  },
  "language_info": {
   "codemirror_mode": {
    "name": "ipython",
    "version": 3
   },
   "file_extension": ".py",
   "mimetype": "text/x-python",
   "name": "python",
   "nbconvert_exporter": "python",
   "pygments_lexer": "ipython3",
   "version": "3.12.2"
  }
 },
 "nbformat": 4,
 "nbformat_minor": 5
}
