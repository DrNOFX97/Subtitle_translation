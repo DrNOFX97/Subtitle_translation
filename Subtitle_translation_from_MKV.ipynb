{
 "cells": [
  {
   "cell_type": "markdown",
   "id": "ae3925f3-bfa4-4924-9d43-09a1e048564e",
   "metadata": {},
   "source": [
    "# **Translate an MKV subtitle from english to european portuguese**"
   ]
  },
  {
   "cell_type": "markdown",
   "id": "59000d7e-363b-4479-9133-9cce9fdc5656",
   "metadata": {},
   "source": [
    "### Breakdown of the Code:\n",
    "\n",
    "1. **Environment Setup:**\n",
    "   - **Loading Environment Variables:** Handles the loading of environment variables from a `.env` file.\n",
    "   - **OpenAI Client Initialization:** Sets up the OpenAI client with the API key.\n",
    "\n",
    "2. **Translation Function:**\n",
    "   - **`translate_text`:** Translates text using the OpenAI GPT-4 model and handles errors.\n",
    "\n",
    "3. **SRT Parsing and Writing:**\n",
    "   - **`parse_srt`:** Parses SRT files into a list of subtitle segments.\n",
    "   - **`write_srt`:** Writes subtitle segments to a new SRT file.\n",
    "\n",
    "4. **Subtitle Extraction and Track Information:**\n",
    "   - **`extract_subtitles`:** Extracts subtitles from MKV files using `mkvextract`.\n",
    "   - **`get_subtitle_track_details`:** Retrieves details about subtitle tracks from an MKV file using `mkvinfo`.\n",
    "\n",
    "5. **User Interaction:**\n",
    "   - **`get_user_confirmation`:** Prompts the user for a yes/no confirmation using a Tkinter messagebox.\n",
    "   - **`select_mkv_file`:** Opens a file dialog to let the user select an MKV file.\n",
    "\n",
    "6. **Main Function:**\n",
    "   - **`main`:** Coordinates the overall process, including file selection, subtitle extraction, user prompts, and translation."
   ]
  },
  {
   "cell_type": "code",
   "execution_count": 1,
   "id": "55d77ad2-6cac-48c9-9026-6b0a217d49ee",
   "metadata": {},
   "outputs": [],
   "source": [
    "#!pip install --upgrade httpx\n",
    "#!pip install transformers torch pysrt tqdm sacremoses nest_asyncio"
   ]
  },
  {
   "cell_type": "code",
   "execution_count": 2,
   "id": "36fe9465-c01b-4fc1-a662-7e750d4b2a91",
   "metadata": {},
   "outputs": [],
   "source": [
    "import os\n",
    "import re\n",
    "import subprocess\n",
    "import tkinter as tk\n",
    "from tkinter import filedialog, messagebox, Tk\n",
    "from dotenv import load_dotenv\n",
    "import openai\n",
    "from tqdm.auto import tqdm\n",
    "from IPython.display import display, Markdown, HTML\n",
    "from termcolor import colored\n",
    "\n",
    "# --- Environment Setup ---\n",
    "load_dotenv()\n",
    "OPENAI_API_KEY = os.getenv(\"OPENAI_API_KEY\")\n",
    "if not OPENAI_API_KEY:\n",
    "    raise ValueError(\"API key not found. Set the OPENAI_API_KEY environment variable in your .env file.\")\n",
    "openai.api_key = OPENAI_API_KEY\n",
    "\n",
    "# --- Translation Function ---\n",
    "def translate_text(text, source_lang=\"en\", target_lang=\"pt-PT\"):\n",
    "    response = openai.chat.completions.create(\n",
    "        model=\"gpt-4-turbo\",\n",
    "        messages=[\n",
    "            {\"role\": \"system\", \"content\": f\"You are a translator. Translate from {source_lang} to {target_lang}.\"},\n",
    "            {\"role\": \"user\", \"content\": text}\n",
    "        ],\n",
    "        temperature=0,\n",
    "        max_tokens=500\n",
    "    )\n",
    "    return response.choices[0].message.content.strip()"
   ]
  },
  {
   "cell_type": "markdown",
   "id": "61e8756d-f98d-4fe2-9815-9c5910920058",
   "metadata": {},
   "source": [
    "# --- SRT Parsing and Writing ---"
   ]
  },
  {
   "cell_type": "code",
   "execution_count": 4,
   "id": "2faf79ef-f1cd-429e-94cf-17c0a3a5de2f",
   "metadata": {},
   "outputs": [],
   "source": [
    "def parse_srt(file_path):\n",
    "    with open(file_path, 'r', encoding='utf-8') as file:\n",
    "        content = file.read()\n",
    "    subtitles = []\n",
    "    parts = re.split(r'\\n\\n', content.strip())\n",
    "    for part in parts:\n",
    "        lines = part.split('\\n')\n",
    "        if len(lines) >= 3:\n",
    "            index = lines[0]\n",
    "            timestamp = lines[1]\n",
    "            text = '\\n'.join(lines[2:])\n",
    "            if not re.match(r'^\\[.*\\]$', text.strip()):\n",
    "                subtitles.append((index, timestamp, text))\n",
    "    return subtitles\n",
    "\n",
    "def write_srt(subtitles, file_path):\n",
    "    with open(file_path, 'w', encoding='utf-8') as file:\n",
    "        for index, timestamp, text in subtitles:\n",
    "            file.write(f\"{index}\\n{timestamp}\\n{text}\\n\\n\")"
   ]
  },
  {
   "cell_type": "markdown",
   "id": "9e0e2031-90b0-4d7e-b179-4a9a6798e656",
   "metadata": {},
   "source": [
    "# --- Display Function ---"
   ]
  },
  {
   "cell_type": "code",
   "execution_count": 6,
   "id": "266f5ef5-514e-4a73-b86e-5fdeae3335f0",
   "metadata": {},
   "outputs": [],
   "source": [
    "def display_translations(original, translated):\n",
    "    html_content = f\"\"\"\n",
    "    <div style='color: blue; font-weight: bold;'>Original: {original}</div>\n",
    "    <div style='color: green; font-weight: bold;'>Translated: {translated}</div>\n",
    "    \"\"\"\n",
    "    display(HTML(html_content))"
   ]
  },
  {
   "cell_type": "markdown",
   "id": "51171f73-4341-4c15-a279-b42887a2efbf",
   "metadata": {},
   "source": [
    "# --- Subtitle Extraction and Track Information ---"
   ]
  },
  {
   "cell_type": "code",
   "execution_count": 8,
   "id": "432e534f-24f7-4305-8ab1-79158431e63f",
   "metadata": {},
   "outputs": [],
   "source": [
    "def extract_subtitles(file_path, output_dir, track_id):\n",
    "    srt_path = os.path.join(output_dir, f'subtitle_track_{track_id}.srt')\n",
    "    try:\n",
    "        subprocess.run(['/usr/local/bin/mkvextract', 'tracks', file_path, f'{track_id}:{srt_path}'], check=True)\n",
    "        return srt_path\n",
    "    except subprocess.CalledProcessError as e:\n",
    "        display(Markdown(f\"**Failed to extract subtitles:** {e}\"))\n",
    "        return None\n",
    "\n",
    "def get_subtitle_track_details(file_path):\n",
    "    mkvinfo_path = '/usr/local/bin/mkvinfo'\n",
    "    mkvextract_path = '/usr/local/bin/mkvextract'\n",
    "\n",
    "    if not os.path.isfile(mkvinfo_path) or not os.access(mkvinfo_path, os.X_OK):\n",
    "        display(Markdown(f\"**Error:** '{mkvinfo_path}' is not found or not executable.\"))\n",
    "        return \"Unknown Title\", [], \"\"\n",
    "\n",
    "    if not os.path.isfile(mkvextract_path) or not os.access(mkvextract_path, os.X_OK):\n",
    "        display(Markdown(f\"**Error:** '{mkvextract_path}' is not found or not executable.\"))\n",
    "        return \"Unknown Title\", [], \"\"\n",
    "\n",
    "    try:\n",
    "        result = subprocess.run([mkvinfo_path, file_path], capture_output=True, text=True, check=True)\n",
    "        lines = result.stdout.splitlines()\n",
    "        track_details = []\n",
    "        track_info = {}\n",
    "        title = \"Unknown Title\"\n",
    "        for i, line in enumerate(lines):\n",
    "            if \"Title:\" in line:\n",
    "                title = line.split(\":\")[1].strip()\n",
    "            if \"Track number\" in line:\n",
    "                track_id = int(line.split(\":\")[1].split()[0])\n",
    "                track_info = {\"id\": track_id}\n",
    "            if \"Track type: subtitles\" in line:\n",
    "                track_info[\"type\"] = \"subtitles\"\n",
    "                for j in range(i+1, i+10):\n",
    "                    if \"Language:\" in lines[j]:\n",
    "                        track_info[\"language\"] = lines[j].split(\":\")[1].strip()\n",
    "                    if \"Codec ID:\" in lines[j]:\n",
    "                        track_info[\"codec\"] = lines[j].split(\":\")[1].strip()\n",
    "                track_details.append(track_info)\n",
    "                track_info = {}\n",
    "        return title, track_details, result.stdout\n",
    "    except subprocess.CalledProcessError as e:\n",
    "        display(Markdown(f\"**Failed to get MKV file information:** {e}\"))\n",
    "        return \"Unknown Title\", [], \"\""
   ]
  },
  {
   "cell_type": "markdown",
   "id": "97e12091-6b7c-40f1-b957-608da917abe3",
   "metadata": {},
   "source": [
    "# --- User Interaction ---"
   ]
  },
  {
   "cell_type": "code",
   "execution_count": 10,
   "id": "e8528265-db4a-4b22-a6ea-d8b76b034c8c",
   "metadata": {},
   "outputs": [],
   "source": [
    "def get_user_confirmation(message):\n",
    "    root = tk.Tk()\n",
    "    root.withdraw()\n",
    "    return messagebox.askyesno(\"Confirmation\", message)\n",
    "\n",
    "def select_mkv_file():\n",
    "    root = tk.Tk()\n",
    "    root.withdraw()\n",
    "    file_path = filedialog.askopenfilename(\n",
    "        title=\"Select MKV file\",\n",
    "        filetypes=[(\"MKV files\", \"*.mkv\"), (\"All files\", \"*.*\")]\n",
    "    )\n",
    "    root.destroy()\n",
    "    return file_path"
   ]
  },
  {
   "cell_type": "markdown",
   "id": "e9668beb-b265-49ff-9af8-68a347d52fec",
   "metadata": {},
   "source": [
    "# --- Main Function ---"
   ]
  },
  {
   "cell_type": "code",
   "execution_count": 12,
   "id": "27726c85-2394-4032-9516-67aedff10a4f",
   "metadata": {},
   "outputs": [
    {
     "data": {
      "text/markdown": [
       "**Movie Title:** House.of.the.Dragon.S01E10.720p.HMAX.WEBRip.x264-GalaxyTV"
      ],
      "text/plain": [
       "<IPython.core.display.Markdown object>"
      ]
     },
     "metadata": {},
     "output_type": "display_data"
    },
    {
     "name": "stdout",
     "output_type": "stream",
     "text": [
      "Extracting track 3 with the CodecID 'S_TEXT/UTF8' to the file '/Users/f.nuno/Downloads/House.of.the.Dragon.S01.COMPLETE.720p.HMAX.WEBRip.x264-GalaxyTV[TGx]/Extracted_Subtitles/subtitle_track_3.srt'. Container format: SRT text subtitles\n",
      "Progress: 100%\n"
     ]
    },
    {
     "data": {
      "text/markdown": [
       "**English subtitle extracted to:** `/Users/f.nuno/Downloads/House.of.the.Dragon.S01.COMPLETE.720p.HMAX.WEBRip.x264-GalaxyTV[TGx]/Extracted_Subtitles/subtitle_track_3.srt`"
      ],
      "text/plain": [
       "<IPython.core.display.Markdown object>"
      ]
     },
     "metadata": {},
     "output_type": "display_data"
    },
    {
     "data": {
      "text/markdown": [
       "**Parsed 499 subtitle segments.**"
      ],
      "text/plain": [
       "<IPython.core.display.Markdown object>"
      ]
     },
     "metadata": {},
     "output_type": "display_data"
    },
    {
     "data": {
      "application/vnd.jupyter.widget-view+json": {
       "model_id": "f7460d517d3e44d48cd312a15aba4d75",
       "version_major": 2,
       "version_minor": 0
      },
      "text/plain": [
       "Translating Subtitles:   0%|          | 0/499 [00:00<?, ?it/s]"
      ]
     },
     "metadata": {},
     "output_type": "display_data"
    },
    {
     "data": {
      "text/html": [
       "\n",
       "    <div style='color: blue; font-weight: bold;'>Original: There you are.</div>\n",
       "    <div style='color: green; font-weight: bold;'>Translated: Aí estás tu.</div>\n",
       "    "
      ],
      "text/plain": [
       "<IPython.core.display.HTML object>"
      ]
     },
     "metadata": {},
     "output_type": "display_data"
    },
    {
     "data": {
      "text/html": [
       "\n",
       "    <div style='color: blue; font-weight: bold;'>Original: The Sea Snake is going to die,\n",
       "isn't he?</div>\n",
       "    <div style='color: green; font-weight: bold;'>Translated: O Serpente do Mar vai morrer,\n",
       "não vai?</div>\n",
       "    "
      ],
      "text/plain": [
       "<IPython.core.display.HTML object>"
      ]
     },
     "metadata": {},
     "output_type": "display_data"
    },
    {
     "data": {
      "text/html": [
       "\n",
       "    <div style='color: blue; font-weight: bold;'>Original: -Luke--\n",
       "-I can't be Lord of the Tides.</div>\n",
       "    <div style='color: green; font-weight: bold;'>Translated: -Luke--\n",
       "-Não posso ser o Senhor das Marés.</div>\n",
       "    "
      ],
      "text/plain": [
       "<IPython.core.display.HTML object>"
      ]
     },
     "metadata": {},
     "output_type": "display_data"
    },
    {
     "data": {
      "text/html": [
       "\n",
       "    <div style='color: blue; font-weight: bold;'>Original: Grandsire was the greatest sailor\n",
       "who ever lived.</div>\n",
       "    <div style='color: green; font-weight: bold;'>Translated: O avô era o maior marinheiro que alguma vez existiu.</div>\n",
       "    "
      ],
      "text/plain": [
       "<IPython.core.display.HTML object>"
      ]
     },
     "metadata": {},
     "output_type": "display_data"
    },
    {
     "data": {
      "text/html": [
       "\n",
       "    <div style='color: blue; font-weight: bold;'>Original: I get greensick before the ship\n",
       "even leaves the harbor.</div>\n",
       "    <div style='color: green; font-weight: bold;'>Translated: Fico enjoado antes mesmo de o navio\n",
       "sair do porto.</div>\n",
       "    "
      ],
      "text/plain": [
       "<IPython.core.display.HTML object>"
      ]
     },
     "metadata": {},
     "output_type": "display_data"
    },
    {
     "data": {
      "text/html": [
       "\n",
       "    <div style='color: blue; font-weight: bold;'>Original: I'll just ruin everything.</div>\n",
       "    <div style='color: green; font-weight: bold;'>Translated: Eu vou estragar tudo.</div>\n",
       "    "
      ],
      "text/plain": [
       "<IPython.core.display.HTML object>"
      ]
     },
     "metadata": {},
     "output_type": "display_data"
    },
    {
     "data": {
      "text/html": [
       "\n",
       "    <div style='color: blue; font-weight: bold;'>Original: I don't want Driftmark.</div>\n",
       "    <div style='color: green; font-weight: bold;'>Translated: Eu não quero Driftmark.</div>\n",
       "    "
      ],
      "text/plain": [
       "<IPython.core.display.HTML object>"
      ]
     },
     "metadata": {},
     "output_type": "display_data"
    },
    {
     "data": {
      "text/html": [
       "\n",
       "    <div style='color: blue; font-weight: bold;'>Original: It should've passed on to Ser Vaemond.</div>\n",
       "    <div style='color: green; font-weight: bold;'>Translated: Deveria ter passado para o Ser Vaemond.</div>\n",
       "    "
      ],
      "text/plain": [
       "<IPython.core.display.HTML object>"
      ]
     },
     "metadata": {},
     "output_type": "display_data"
    },
    {
     "data": {
      "text/html": [
       "\n",
       "    <div style='color: blue; font-weight: bold;'>Original: We don't choose our destiny, Luke.\n",
       "It chooses us.</div>\n",
       "    <div style='color: green; font-weight: bold;'>Translated: Nós não escolhemos o nosso destino, Luke.\n",
       "Ele escolhe-nos.</div>\n",
       "    "
      ],
      "text/plain": [
       "<IPython.core.display.HTML object>"
      ]
     },
     "metadata": {},
     "output_type": "display_data"
    },
    {
     "data": {
      "text/html": [
       "\n",
       "    <div style='color: blue; font-weight: bold;'>Original: Grandsire let you choose\n",
       "whether you'd be his heir.</div>\n",
       "    <div style='color: green; font-weight: bold;'>Translated: O avô deixou-te escolher\n",
       "se serias o seu herdeiro.</div>\n",
       "    "
      ],
      "text/plain": [
       "<IPython.core.display.HTML object>"
      ]
     },
     "metadata": {},
     "output_type": "display_data"
    },
    {
     "data": {
      "text/html": [
       "\n",
       "    <div style='color: blue; font-weight: bold;'>Original: You told us so.</div>\n",
       "    <div style='color: green; font-weight: bold;'>Translated: Disseste-nos isso.</div>\n",
       "    "
      ],
      "text/plain": [
       "<IPython.core.display.HTML object>"
      ]
     },
     "metadata": {},
     "output_type": "display_data"
    },
    {
     "data": {
      "text/html": [
       "\n",
       "    <div style='color: blue; font-weight: bold;'>Original: And do you want to know the truth of it?</div>\n",
       "    <div style='color: green; font-weight: bold;'>Translated: E queres saber a verdade sobre isso?</div>\n",
       "    "
      ],
      "text/plain": [
       "<IPython.core.display.HTML object>"
      ]
     },
     "metadata": {},
     "output_type": "display_data"
    },
    {
     "data": {
      "text/html": [
       "\n",
       "    <div style='color: blue; font-weight: bold;'>Original: I was frightened.</div>\n",
       "    <div style='color: green; font-weight: bold;'>Translated: Eu estava assustado.</div>\n",
       "    "
      ],
      "text/plain": [
       "<IPython.core.display.HTML object>"
      ]
     },
     "metadata": {},
     "output_type": "display_data"
    },
    {
     "data": {
      "text/html": [
       "\n",
       "    <div style='color: blue; font-weight: bold;'>Original: I was four-and-ten.</div>\n",
       "    <div style='color: green; font-weight: bold;'>Translated: Eu tinha catorze anos.</div>\n",
       "    "
      ],
      "text/plain": [
       "<IPython.core.display.HTML object>"
      ]
     },
     "metadata": {},
     "output_type": "display_data"
    },
    {
     "data": {
      "text/html": [
       "\n",
       "    <div style='color: blue; font-weight: bold;'>Original: Same as you are now.</div>\n",
       "    <div style='color: green; font-weight: bold;'>Translated: Tal como és agora.</div>\n",
       "    "
      ],
      "text/plain": [
       "<IPython.core.display.HTML object>"
      ]
     },
     "metadata": {},
     "output_type": "display_data"
    },
    {
     "data": {
      "text/html": [
       "\n",
       "    <div style='color: blue; font-weight: bold;'>Original: I wasn't ready\n",
       "to be Queen of the Seven Kingdoms.</div>\n",
       "    <div style='color: green; font-weight: bold;'>Translated: Eu não estava preparada para ser Rainha dos Sete Reinos.</div>\n",
       "    "
      ],
      "text/plain": [
       "<IPython.core.display.HTML object>"
      ]
     },
     "metadata": {},
     "output_type": "display_data"
    },
    {
     "data": {
      "text/html": [
       "\n",
       "    <div style='color: blue; font-weight: bold;'>Original: But it was my duty.</div>\n",
       "    <div style='color: green; font-weight: bold;'>Translated: Mas era o meu dever.</div>\n",
       "    "
      ],
      "text/plain": [
       "<IPython.core.display.HTML object>"
      ]
     },
     "metadata": {},
     "output_type": "display_data"
    },
    {
     "data": {
      "text/html": [
       "\n",
       "    <div style='color: blue; font-weight: bold;'>Original: And, in time, I came to understand</div>\n",
       "    <div style='color: green; font-weight: bold;'>Translated: E, com o tempo, cheguei a compreender</div>\n",
       "    "
      ],
      "text/plain": [
       "<IPython.core.display.HTML object>"
      ]
     },
     "metadata": {},
     "output_type": "display_data"
    },
    {
     "data": {
      "text/html": [
       "\n",
       "    <div style='color: blue; font-weight: bold;'>Original: I had to earn my inheritance.</div>\n",
       "    <div style='color: green; font-weight: bold;'>Translated: Tive de ganhar a minha herança.</div>\n",
       "    "
      ],
      "text/plain": [
       "<IPython.core.display.HTML object>"
      ]
     },
     "metadata": {},
     "output_type": "display_data"
    },
    {
     "data": {
      "text/html": [
       "\n",
       "    <div style='color: blue; font-weight: bold;'>Original: I'm not like you.</div>\n",
       "    <div style='color: green; font-weight: bold;'>Translated: Eu não sou como tu.</div>\n",
       "    "
      ],
      "text/plain": [
       "<IPython.core.display.HTML object>"
      ]
     },
     "metadata": {},
     "output_type": "display_data"
    },
    {
     "data": {
      "text/html": [
       "\n",
       "    <div style='color: blue; font-weight: bold;'>Original: -In what way, sweet boy?\n",
       "-I'm not so...</div>\n",
       "    <div style='color: green; font-weight: bold;'>Translated: -De que maneira, querido menino?\n",
       "-Não estou assim tão...</div>\n",
       "    "
      ],
      "text/plain": [
       "<IPython.core.display.HTML object>"
      ]
     },
     "metadata": {},
     "output_type": "display_data"
    },
    {
     "data": {
      "text/html": [
       "\n",
       "    <div style='color: blue; font-weight: bold;'>Original: perfect.</div>\n",
       "    <div style='color: green; font-weight: bold;'>Translated: perfeito.</div>\n",
       "    "
      ],
      "text/plain": [
       "<IPython.core.display.HTML object>"
      ]
     },
     "metadata": {},
     "output_type": "display_data"
    },
    {
     "data": {
      "text/html": [
       "\n",
       "    <div style='color: blue; font-weight: bold;'>Original: I am anything but.</div>\n",
       "    <div style='color: green; font-weight: bold;'>Translated: Eu sou tudo menos isso.</div>\n",
       "    "
      ],
      "text/plain": [
       "<IPython.core.display.HTML object>"
      ]
     },
     "metadata": {},
     "output_type": "display_data"
    },
    {
     "data": {
      "text/html": [
       "\n",
       "    <div style='color: blue; font-weight: bold;'>Original: My father looked after me\n",
       "and helped to prepare me for my duties.</div>\n",
       "    <div style='color: green; font-weight: bold;'>Translated: O meu pai cuidou de mim\n",
       "e ajudou-me a preparar para as minhas responsabilidades.</div>\n",
       "    "
      ],
      "text/plain": [
       "<IPython.core.display.HTML object>"
      ]
     },
     "metadata": {},
     "output_type": "display_data"
    },
    {
     "data": {
      "text/html": [
       "\n",
       "    <div style='color: blue; font-weight: bold;'>Original: Your mother will do the same for you.</div>\n",
       "    <div style='color: green; font-weight: bold;'>Translated: A tua mãe fará o mesmo por ti.</div>\n",
       "    "
      ],
      "text/plain": [
       "<IPython.core.display.HTML object>"
      ]
     },
     "metadata": {},
     "output_type": "display_data"
    },
    {
     "data": {
      "text/html": [
       "\n",
       "    <div style='color: blue; font-weight: bold;'>Original: Good morrow, Princess.</div>\n",
       "    <div style='color: green; font-weight: bold;'>Translated: Bom dia, Princesa.</div>\n",
       "    "
      ],
      "text/plain": [
       "<IPython.core.display.HTML object>"
      ]
     },
     "metadata": {},
     "output_type": "display_data"
    },
    {
     "data": {
      "text/html": [
       "\n",
       "    <div style='color: blue; font-weight: bold;'>Original: Good morrow, Ser Lorent.</div>\n",
       "    <div style='color: green; font-weight: bold;'>Translated: Bom dia, Senhor Lorent.</div>\n",
       "    "
      ],
      "text/plain": [
       "<IPython.core.display.HTML object>"
      ]
     },
     "metadata": {},
     "output_type": "display_data"
    },
    {
     "data": {
      "text/html": [
       "\n",
       "    <div style='color: blue; font-weight: bold;'>Original: Princess Rhaenys\n",
       "has just arrived on dragonback.</div>\n",
       "    <div style='color: green; font-weight: bold;'>Translated: A princesa Rhaenys\n",
       "acaba de chegar montada num dragão.</div>\n",
       "    "
      ],
      "text/plain": [
       "<IPython.core.display.HTML object>"
      ]
     },
     "metadata": {},
     "output_type": "display_data"
    },
    {
     "data": {
      "text/html": [
       "\n",
       "    <div style='color: blue; font-weight: bold;'>Original: She urgently requests an audience\n",
       "with you and Prince Daemon.</div>\n",
       "    <div style='color: green; font-weight: bold;'>Translated: Ela pede urgentemente uma audiência\n",
       "com você e com o Príncipe Daemon.</div>\n",
       "    "
      ],
      "text/plain": [
       "<IPython.core.display.HTML object>"
      ]
     },
     "metadata": {},
     "output_type": "display_data"
    },
    {
     "data": {
      "text/html": [
       "\n",
       "    <div style='color: blue; font-weight: bold;'>Original: The Princess Rhaenys Targaryen.</div>\n",
       "    <div style='color: green; font-weight: bold;'>Translated: A Princesa Rhaenys Targaryen.</div>\n",
       "    "
      ],
      "text/plain": [
       "<IPython.core.display.HTML object>"
      ]
     },
     "metadata": {},
     "output_type": "display_data"
    },
    {
     "data": {
      "text/html": [
       "\n",
       "    <div style='color: blue; font-weight: bold;'>Original: Thank you, Ser Lorent.</div>\n",
       "    <div style='color: green; font-weight: bold;'>Translated: Obrigado, Ser Lorent.</div>\n",
       "    "
      ],
      "text/plain": [
       "<IPython.core.display.HTML object>"
      ]
     },
     "metadata": {},
     "output_type": "display_data"
    },
    {
     "data": {
      "text/html": [
       "\n",
       "    <div style='color: blue; font-weight: bold;'>Original: Princess Rhaenys,</div>\n",
       "    <div style='color: green; font-weight: bold;'>Translated: Princesa Rhaenys,</div>\n",
       "    "
      ],
      "text/plain": [
       "<IPython.core.display.HTML object>"
      ]
     },
     "metadata": {},
     "output_type": "display_data"
    },
    {
     "data": {
      "text/html": [
       "\n",
       "    <div style='color: blue; font-weight: bold;'>Original: might we hope for news\n",
       "of Lord Corlys's recovery?</div>\n",
       "    <div style='color: green; font-weight: bold;'>Translated: podemos esperar notícias\n",
       "da recuperação do Lorde Corlys?</div>\n",
       "    "
      ],
      "text/plain": [
       "<IPython.core.display.HTML object>"
      ]
     },
     "metadata": {},
     "output_type": "display_data"
    },
    {
     "data": {
      "text/html": [
       "\n",
       "    <div style='color: blue; font-weight: bold;'>Original: Viserys is dead.</div>\n",
       "    <div style='color: green; font-weight: bold;'>Translated: Viserys está morto.</div>\n",
       "    "
      ],
      "text/plain": [
       "<IPython.core.display.HTML object>"
      ]
     },
     "metadata": {},
     "output_type": "display_data"
    },
    {
     "data": {
      "text/html": [
       "\n",
       "    <div style='color: blue; font-weight: bold;'>Original: I grieve this loss with you, Rhaenyra.</div>\n",
       "    <div style='color: green; font-weight: bold;'>Translated: Eu lamento esta perda contigo, Rhaenyra.</div>\n",
       "    "
      ],
      "text/plain": [
       "<IPython.core.display.HTML object>"
      ]
     },
     "metadata": {},
     "output_type": "display_data"
    },
    {
     "data": {
      "text/html": [
       "\n",
       "    <div style='color: blue; font-weight: bold;'>Original: My cousin, your father...</div>\n",
       "    <div style='color: green; font-weight: bold;'>Translated: O meu primo, o teu pai...</div>\n",
       "    "
      ],
      "text/plain": [
       "<IPython.core.display.HTML object>"
      ]
     },
     "metadata": {},
     "output_type": "display_data"
    },
    {
     "data": {
      "text/html": [
       "\n",
       "    <div style='color: blue; font-weight: bold;'>Original: possessed a kind heart.</div>\n",
       "    <div style='color: green; font-weight: bold;'>Translated: possuía um coração bondoso.</div>\n",
       "    "
      ],
      "text/plain": [
       "<IPython.core.display.HTML object>"
      ]
     },
     "metadata": {},
     "output_type": "display_data"
    },
    {
     "data": {
      "text/html": [
       "\n",
       "    <div style='color: blue; font-weight: bold;'>Original: There is more.</div>\n",
       "    <div style='color: green; font-weight: bold;'>Translated: Há mais.</div>\n",
       "    "
      ],
      "text/plain": [
       "<IPython.core.display.HTML object>"
      ]
     },
     "metadata": {},
     "output_type": "display_data"
    },
    {
     "data": {
      "text/html": [
       "\n",
       "    <div style='color: blue; font-weight: bold;'>Original: Aegon has been crowned as his successor.</div>\n",
       "    <div style='color: green; font-weight: bold;'>Translated: Aegon foi coroado como seu sucessor.</div>\n",
       "    "
      ],
      "text/plain": [
       "<IPython.core.display.HTML object>"
      ]
     },
     "metadata": {},
     "output_type": "display_data"
    },
    {
     "data": {
      "text/html": [
       "\n",
       "    <div style='color: blue; font-weight: bold;'>Original: They crowned him?</div>\n",
       "    <div style='color: green; font-weight: bold;'>Translated: Eles coroaram-no?</div>\n",
       "    "
      ],
      "text/plain": [
       "<IPython.core.display.HTML object>"
      ]
     },
     "metadata": {},
     "output_type": "display_data"
    },
    {
     "data": {
      "text/html": [
       "\n",
       "    <div style='color: blue; font-weight: bold;'>Original: How did Viserys die?</div>\n",
       "    <div style='color: green; font-weight: bold;'>Translated: Como morreu o Viserys?</div>\n",
       "    "
      ],
      "text/plain": [
       "<IPython.core.display.HTML object>"
      ]
     },
     "metadata": {},
     "output_type": "display_data"
    },
    {
     "data": {
      "text/html": [
       "\n",
       "    <div style='color: blue; font-weight: bold;'>Original: I could not say.</div>\n",
       "    <div style='color: green; font-weight: bold;'>Translated: Não poderia dizer.</div>\n",
       "    "
      ],
      "text/plain": [
       "<IPython.core.display.HTML object>"
      ]
     },
     "metadata": {},
     "output_type": "display_data"
    },
    {
     "data": {
      "text/html": [
       "\n",
       "    <div style='color: blue; font-weight: bold;'>Original: -How long ago?\n",
       "-A day past, perhaps two.</div>\n",
       "    <div style='color: green; font-weight: bold;'>Translated: -Há quanto tempo?\n",
       "-Há um dia, talvez dois.</div>\n",
       "    "
      ],
      "text/plain": [
       "<IPython.core.display.HTML object>"
      ]
     },
     "metadata": {},
     "output_type": "display_data"
    },
    {
     "data": {
      "text/html": [
       "\n",
       "    <div style='color: blue; font-weight: bold;'>Original: I was made a prisoner in my quarters\n",
       "while the Queen made her preparations.</div>\n",
       "    <div style='color: green; font-weight: bold;'>Translated: Fui feito prisioneiro nos meus aposentos enquanto a Rainha fazia os seus preparativos.</div>\n",
       "    "
      ],
      "text/plain": [
       "<IPython.core.display.HTML object>"
      ]
     },
     "metadata": {},
     "output_type": "display_data"
    },
    {
     "data": {
      "text/html": [
       "\n",
       "    <div style='color: blue; font-weight: bold;'>Original: Viserys has been slain.</div>\n",
       "    <div style='color: green; font-weight: bold;'>Translated: Viserys foi assassinado.</div>\n",
       "    "
      ],
      "text/plain": [
       "<IPython.core.display.HTML object>"
      ]
     },
     "metadata": {},
     "output_type": "display_data"
    },
    {
     "data": {
      "text/html": [
       "\n",
       "    <div style='color: blue; font-weight: bold;'>Original: Alicent demanded you declare for Aegon.</div>\n",
       "    <div style='color: green; font-weight: bold;'>Translated: Alicent exigiu que te declarasses a favor de Aegon.</div>\n",
       "    "
      ],
      "text/plain": [
       "<IPython.core.display.HTML object>"
      ]
     },
     "metadata": {},
     "output_type": "display_data"
    },
    {
     "data": {
      "text/html": [
       "\n",
       "    <div style='color: blue; font-weight: bold;'>Original: She did.</div>\n",
       "    <div style='color: green; font-weight: bold;'>Translated: Ela fez.</div>\n",
       "    "
      ],
      "text/plain": [
       "<IPython.core.display.HTML object>"
      ]
     },
     "metadata": {},
     "output_type": "display_data"
    },
    {
     "data": {
      "text/html": [
       "\n",
       "    <div style='color: blue; font-weight: bold;'>Original: -I refused her.\n",
       "-And yet you are alive.</div>\n",
       "    <div style='color: green; font-weight: bold;'>Translated: -Recusei-a.\n",
       "-E mesmo assim estás vivo.</div>\n",
       "    "
      ],
      "text/plain": [
       "<IPython.core.display.HTML object>"
      ]
     },
     "metadata": {},
     "output_type": "display_data"
    },
    {
     "data": {
      "text/html": [
       "\n",
       "    <div style='color: blue; font-weight: bold;'>Original: The High Septon crowned Aegon\n",
       "in the Dragonpit.</div>\n",
       "    <div style='color: green; font-weight: bold;'>Translated: O Alto Septão coroou Aegon no Fosso dos Dragões.</div>\n",
       "    "
      ],
      "text/plain": [
       "<IPython.core.display.HTML object>"
      ]
     },
     "metadata": {},
     "output_type": "display_data"
    },
    {
     "data": {
      "text/html": [
       "\n",
       "    <div style='color: blue; font-weight: bold;'>Original: I witnessed it myself\n",
       "just before I fled on Meleys.</div>\n",
       "    <div style='color: green; font-weight: bold;'>Translated: Eu testemunhei isso pessoalmente\n",
       "justo antes de fugir no Meleys.</div>\n",
       "    "
      ],
      "text/plain": [
       "<IPython.core.display.HTML object>"
      ]
     },
     "metadata": {},
     "output_type": "display_data"
    },
    {
     "data": {
      "text/html": [
       "\n",
       "    <div style='color: blue; font-weight: bold;'>Original: They crowned him before the masses.</div>\n",
       "    <div style='color: green; font-weight: bold;'>Translated: Coroaram-no perante as massas.</div>\n",
       "    "
      ],
      "text/plain": [
       "<IPython.core.display.HTML object>"
      ]
     },
     "metadata": {},
     "output_type": "display_data"
    },
    {
     "data": {
      "text/html": [
       "\n",
       "    <div style='color: blue; font-weight: bold;'>Original: So that the masses would see him\n",
       "as their rightful king.</div>\n",
       "    <div style='color: green; font-weight: bold;'>Translated: Para que as massas o vissem como o seu legítimo rei.</div>\n",
       "    "
      ],
      "text/plain": [
       "<IPython.core.display.HTML object>"
      ]
     },
     "metadata": {},
     "output_type": "display_data"
    },
    {
     "data": {
      "text/html": [
       "\n",
       "    <div style='color: blue; font-weight: bold;'>Original: That whore of a Queen murdered my brother\n",
       "and stole his throne.</div>\n",
       "    <div style='color: green; font-weight: bold;'>Translated: Essa prostituta de Rainha assassinou o meu irmão e roubou o seu trono.</div>\n",
       "    "
      ],
      "text/plain": [
       "<IPython.core.display.HTML object>"
      ]
     },
     "metadata": {},
     "output_type": "display_data"
    },
    {
     "data": {
      "text/html": [
       "\n",
       "    <div style='color: blue; font-weight: bold;'>Original: And you could have burned them all for it.</div>\n",
       "    <div style='color: green; font-weight: bold;'>Translated: E podias ter queimado todos por isso.</div>\n",
       "    "
      ],
      "text/plain": [
       "<IPython.core.display.HTML object>"
      ]
     },
     "metadata": {},
     "output_type": "display_data"
    },
    {
     "data": {
      "text/html": [
       "\n",
       "    <div style='color: blue; font-weight: bold;'>Original: A war is like to be fought\n",
       "over this treachery, to be sure.</div>\n",
       "    <div style='color: green; font-weight: bold;'>Translated: É certo que uma guerra está prestes a ser travada por causa desta traição.</div>\n",
       "    "
      ],
      "text/plain": [
       "<IPython.core.display.HTML object>"
      ]
     },
     "metadata": {},
     "output_type": "display_data"
    },
    {
     "data": {
      "text/html": [
       "\n",
       "    <div style='color: blue; font-weight: bold;'>Original: But that war is not mine to begin.</div>\n",
       "    <div style='color: green; font-weight: bold;'>Translated: Mas essa guerra não é minha para começar.</div>\n",
       "    "
      ],
      "text/plain": [
       "<IPython.core.display.HTML object>"
      ]
     },
     "metadata": {},
     "output_type": "display_data"
    },
    {
     "data": {
      "text/html": [
       "\n",
       "    <div style='color: blue; font-weight: bold;'>Original: I only rushed this warning to you</div>\n",
       "    <div style='color: green; font-weight: bold;'>Translated: Apenas te enviei este aviso às pressas.</div>\n",
       "    "
      ],
      "text/plain": [
       "<IPython.core.display.HTML object>"
      ]
     },
     "metadata": {},
     "output_type": "display_data"
    },
    {
     "data": {
      "text/html": [
       "\n",
       "    <div style='color: blue; font-weight: bold;'>Original: out of loyalty to my husband\n",
       "and to my house.</div>\n",
       "    <div style='color: green; font-weight: bold;'>Translated: por lealdade ao meu marido\n",
       "e à minha casa.</div>\n",
       "    "
      ],
      "text/plain": [
       "<IPython.core.display.HTML object>"
      ]
     },
     "metadata": {},
     "output_type": "display_data"
    },
    {
     "data": {
      "text/html": [
       "\n",
       "    <div style='color: blue; font-weight: bold;'>Original: The Greens are coming for you, Rhaenyra.</div>\n",
       "    <div style='color: green; font-weight: bold;'>Translated: Os Verdes estão a vir atrás de ti, Rhaenyra.</div>\n",
       "    "
      ],
      "text/plain": [
       "<IPython.core.display.HTML object>"
      ]
     },
     "metadata": {},
     "output_type": "display_data"
    },
    {
     "data": {
      "text/html": [
       "\n",
       "    <div style='color: blue; font-weight: bold;'>Original: And for your children.</div>\n",
       "    <div style='color: green; font-weight: bold;'>Translated: E para os seus filhos.</div>\n",
       "    "
      ],
      "text/plain": [
       "<IPython.core.display.HTML object>"
      ]
     },
     "metadata": {},
     "output_type": "display_data"
    },
    {
     "data": {
      "text/html": [
       "\n",
       "    <div style='color: blue; font-weight: bold;'>Original: You should leave Dragonstone at once.</div>\n",
       "    <div style='color: green; font-weight: bold;'>Translated: Deves partir de Pedra do Dragão imediatamente.</div>\n",
       "    "
      ],
      "text/plain": [
       "<IPython.core.display.HTML object>"
      ]
     },
     "metadata": {},
     "output_type": "display_data"
    },
    {
     "data": {
      "text/html": [
       "\n",
       "    <div style='color: blue; font-weight: bold;'>Original: The babe is coming.</div>\n",
       "    <div style='color: green; font-weight: bold;'>Translated: O bebé está a chegar.</div>\n",
       "    "
      ],
      "text/plain": [
       "<IPython.core.display.HTML object>"
      ]
     },
     "metadata": {},
     "output_type": "display_data"
    },
    {
     "data": {
      "text/html": [
       "\n",
       "    <div style='color: blue; font-weight: bold;'>Original: Her term is far from complete.</div>\n",
       "    <div style='color: green; font-weight: bold;'>Translated: O seu mandato está longe de estar completo.</div>\n",
       "    "
      ],
      "text/plain": [
       "<IPython.core.display.HTML object>"
      ]
     },
     "metadata": {},
     "output_type": "display_data"
    },
    {
     "data": {
      "text/html": [
       "\n",
       "    <div style='color: blue; font-weight: bold;'>Original: This should not be happening.</div>\n",
       "    <div style='color: green; font-weight: bold;'>Translated: Isto não deveria estar a acontecer.</div>\n",
       "    "
      ],
      "text/plain": [
       "<IPython.core.display.HTML object>"
      ]
     },
     "metadata": {},
     "output_type": "display_data"
    },
    {
     "data": {
      "text/html": [
       "\n",
       "    <div style='color: blue; font-weight: bold;'>Original: It is fucking happening.</div>\n",
       "    <div style='color: green; font-weight: bold;'>Translated: Está mesmo a acontecer.</div>\n",
       "    "
      ],
      "text/plain": [
       "<IPython.core.display.HTML object>"
      ]
     },
     "metadata": {},
     "output_type": "display_data"
    },
    {
     "data": {
      "text/html": [
       "\n",
       "    <div style='color: blue; font-weight: bold;'>Original: Keep your head about you, Princess.\n",
       "Come.</div>\n",
       "    <div style='color: green; font-weight: bold;'>Translated: Mantenha a calma, Princesa.\n",
       "Vamos.</div>\n",
       "    "
      ],
      "text/plain": [
       "<IPython.core.display.HTML object>"
      ]
     },
     "metadata": {},
     "output_type": "display_data"
    },
    {
     "data": {
      "text/html": [
       "\n",
       "    <div style='color: blue; font-weight: bold;'>Original: We've done this five times before.</div>\n",
       "    <div style='color: green; font-weight: bold;'>Translated: Já fizemos isto cinco vezes antes.</div>\n",
       "    "
      ],
      "text/plain": [
       "<IPython.core.display.HTML object>"
      ]
     },
     "metadata": {},
     "output_type": "display_data"
    },
    {
     "data": {
      "text/html": [
       "\n",
       "    <div style='color: blue; font-weight: bold;'>Original: Keep your spirit,\n",
       "and the sixth will be no different.</div>\n",
       "    <div style='color: green; font-weight: bold;'>Translated: Mantém o teu espírito,\n",
       "e o sexto não será diferente.</div>\n",
       "    "
      ],
      "text/plain": [
       "<IPython.core.display.HTML object>"
      ]
     },
     "metadata": {},
     "output_type": "display_data"
    },
    {
     "data": {
      "text/html": [
       "\n",
       "    <div style='color: blue; font-weight: bold;'>Original: Get off, get off, get off, get off!</div>\n",
       "    <div style='color: green; font-weight: bold;'>Translated: Sai, sai, sai, sai!</div>\n",
       "    "
      ],
      "text/plain": [
       "<IPython.core.display.HTML object>"
      ]
     },
     "metadata": {},
     "output_type": "display_data"
    },
    {
     "data": {
      "text/html": [
       "\n",
       "    <div style='color: blue; font-weight: bold;'>Original: Ow, ow, ow.</div>\n",
       "    <div style='color: green; font-weight: bold;'>Translated: Ai, ai, ai.</div>\n",
       "    "
      ],
      "text/plain": [
       "<IPython.core.display.HTML object>"
      ]
     },
     "metadata": {},
     "output_type": "display_data"
    },
    {
     "data": {
      "text/html": [
       "\n",
       "    <div style='color: blue; font-weight: bold;'>Original: I want patrols along\n",
       "the island's perimeter,</div>\n",
       "    <div style='color: green; font-weight: bold;'>Translated: Quero patrulhas ao longo do perímetro da ilha,</div>\n",
       "    "
      ],
      "text/plain": [
       "<IPython.core.display.HTML object>"
      ]
     },
     "metadata": {},
     "output_type": "display_data"
    },
    {
     "data": {
      "text/html": [
       "\n",
       "    <div style='color: blue; font-weight: bold;'>Original: looking for any small ships\n",
       "that might set ashore.</div>\n",
       "    <div style='color: green; font-weight: bold;'>Translated: procurando por quaisquer pequenos navios\n",
       "que possam chegar à costa.</div>\n",
       "    "
      ],
      "text/plain": [
       "<IPython.core.display.HTML object>"
      ]
     },
     "metadata": {},
     "output_type": "display_data"
    },
    {
     "data": {
      "text/html": [
       "\n",
       "    <div style='color: blue; font-weight: bold;'>Original: If the Greens attack now,\n",
       "it will be by stealth...</div>\n",
       "    <div style='color: green; font-weight: bold;'>Translated: Se os Verdes atacarem agora,\n",
       "será de forma furtiva...</div>\n",
       "    "
      ],
      "text/plain": [
       "<IPython.core.display.HTML object>"
      ]
     },
     "metadata": {},
     "output_type": "display_data"
    },
    {
     "data": {
      "text/html": [
       "\n",
       "    <div style='color: blue; font-weight: bold;'>Original: not directly.</div>\n",
       "    <div style='color: green; font-weight: bold;'>Translated: não diretamente.</div>\n",
       "    "
      ],
      "text/plain": [
       "<IPython.core.display.HTML object>"
      ]
     },
     "metadata": {},
     "output_type": "display_data"
    },
    {
     "data": {
      "text/html": [
       "\n",
       "    <div style='color: blue; font-weight: bold;'>Original: We don't have enough men\n",
       "to surround the island,</div>\n",
       "    <div style='color: green; font-weight: bold;'>Translated: Não temos homens suficientes\n",
       "para cercar a ilha,</div>\n",
       "    "
      ],
      "text/plain": [
       "<IPython.core.display.HTML object>"
      ]
     },
     "metadata": {},
     "output_type": "display_data"
    },
    {
     "data": {
      "text/html": [
       "\n",
       "    <div style='color: blue; font-weight: bold;'>Original: but we can make ourselves\n",
       "appear stronger than they are.</div>\n",
       "    <div style='color: green; font-weight: bold;'>Translated: mas podemos fazer com que pareçamos mais fortes do que eles.</div>\n",
       "    "
      ],
      "text/plain": [
       "<IPython.core.display.HTML object>"
      ]
     },
     "metadata": {},
     "output_type": "display_data"
    },
    {
     "data": {
      "text/html": [
       "\n",
       "    <div style='color: blue; font-weight: bold;'>Original: Conscript the Dragonkeepers.\n",
       "They're capable fighters.</div>\n",
       "    <div style='color: green; font-weight: bold;'>Translated: Recrute os Guardiões dos Dragões.\n",
       "São lutadores capazes.</div>\n",
       "    "
      ],
      "text/plain": [
       "<IPython.core.display.HTML object>"
      ]
     },
     "metadata": {},
     "output_type": "display_data"
    },
    {
     "data": {
      "text/html": [
       "\n",
       "    <div style='color: blue; font-weight: bold;'>Original: -Waste no time.\n",
       "-It will be done, my Prince.</div>\n",
       "    <div style='color: green; font-weight: bold;'>Translated: -Não percas tempo.\n",
       "-Será feito, meu Príncipe.</div>\n",
       "    "
      ],
      "text/plain": [
       "<IPython.core.display.HTML object>"
      ]
     },
     "metadata": {},
     "output_type": "display_data"
    },
    {
     "data": {
      "text/html": [
       "\n",
       "    <div style='color: blue; font-weight: bold;'>Original: -What was that?\n",
       "- I'm sorry.</div>\n",
       "    <div style='color: green; font-weight: bold;'>Translated: - O que foi isso?\n",
       "- Desculpa.</div>\n",
       "    "
      ],
      "text/plain": [
       "<IPython.core.display.HTML object>"
      ]
     },
     "metadata": {},
     "output_type": "display_data"
    },
    {
     "data": {
      "text/html": [
       "\n",
       "    <div style='color: blue; font-weight: bold;'>Original: You might go easier</div>\n",
       "    <div style='color: green; font-weight: bold;'>Translated: Podes ir com mais calma.</div>\n",
       "    "
      ],
      "text/plain": [
       "<IPython.core.display.HTML object>"
      ]
     },
     "metadata": {},
     "output_type": "display_data"
    },
    {
     "data": {
      "text/html": [
       "\n",
       "    <div style='color: blue; font-weight: bold;'>Original: on him, my Prince,</div>\n",
       "    <div style='color: green; font-weight: bold;'>Translated: nele, meu Príncipe,</div>\n",
       "    "
      ],
      "text/plain": [
       "<IPython.core.display.HTML object>"
      ]
     },
     "metadata": {},
     "output_type": "display_data"
    },
    {
     "data": {
      "text/html": [
       "\n",
       "    <div style='color: blue; font-weight: bold;'>Original: so he can learn what\n",
       "you're trying to teach.</div>\n",
       "    <div style='color: green; font-weight: bold;'>Translated: para que ele possa aprender o que\n",
       "estás a tentar ensinar.</div>\n",
       "    "
      ],
      "text/plain": [
       "<IPython.core.display.HTML object>"
      ]
     },
     "metadata": {},
     "output_type": "display_data"
    },
    {
     "data": {
      "text/html": [
       "\n",
       "    <div style='color: blue; font-weight: bold;'>Original: Your lady mother needs to see you!</div>\n",
       "    <div style='color: green; font-weight: bold;'>Translated: A tua mãe precisa de te ver!</div>\n",
       "    "
      ],
      "text/plain": [
       "<IPython.core.display.HTML object>"
      ]
     },
     "metadata": {},
     "output_type": "display_data"
    },
    {
     "data": {
      "text/html": [
       "\n",
       "    <div style='color: blue; font-weight: bold;'>Original: Both of you.</div>\n",
       "    <div style='color: green; font-weight: bold;'>Translated: Ambos vocês.</div>\n",
       "    "
      ],
      "text/plain": [
       "<IPython.core.display.HTML object>"
      ]
     },
     "metadata": {},
     "output_type": "display_data"
    },
    {
     "data": {
      "text/html": [
       "\n",
       "    <div style='color: blue; font-weight: bold;'>Original: Mother?</div>\n",
       "    <div style='color: green; font-weight: bold;'>Translated: Mãe?</div>\n",
       "    "
      ],
      "text/plain": [
       "<IPython.core.display.HTML object>"
      ]
     },
     "metadata": {},
     "output_type": "display_data"
    },
    {
     "data": {
      "text/html": [
       "\n",
       "    <div style='color: blue; font-weight: bold;'>Original: Fuck.</div>\n",
       "    <div style='color: green; font-weight: bold;'>Translated: Palavrão.</div>\n",
       "    "
      ],
      "text/plain": [
       "<IPython.core.display.HTML object>"
      ]
     },
     "metadata": {},
     "output_type": "display_data"
    },
    {
     "data": {
      "text/html": [
       "\n",
       "    <div style='color: blue; font-weight: bold;'>Original: Princess.</div>\n",
       "    <div style='color: green; font-weight: bold;'>Translated: Princesa.</div>\n",
       "    "
      ],
      "text/plain": [
       "<IPython.core.display.HTML object>"
      ]
     },
     "metadata": {},
     "output_type": "display_data"
    },
    {
     "data": {
      "text/html": [
       "\n",
       "    <div style='color: blue; font-weight: bold;'>Original: Your grandsire, King Viserys, has passed.</div>\n",
       "    <div style='color: green; font-weight: bold;'>Translated: O vosso avô, o Rei Viserys, faleceu.</div>\n",
       "    "
      ],
      "text/plain": [
       "<IPython.core.display.HTML object>"
      ]
     },
     "metadata": {},
     "output_type": "display_data"
    },
    {
     "data": {
      "text/html": [
       "\n",
       "    <div style='color: blue; font-weight: bold;'>Original: The Greens have\n",
       "repudiated the succession</div>\n",
       "    <div style='color: green; font-weight: bold;'>Translated: Os Verdes repudiaram a sucessão.</div>\n",
       "    "
      ],
      "text/plain": [
       "<IPython.core.display.HTML object>"
      ]
     },
     "metadata": {},
     "output_type": "display_data"
    },
    {
     "data": {
      "text/html": [
       "\n",
       "    <div style='color: blue; font-weight: bold;'>Original: and claimed the Iron Throne.</div>\n",
       "    <div style='color: green; font-weight: bold;'>Translated: e reclamou o Trono de Ferro.</div>\n",
       "    "
      ],
      "text/plain": [
       "<IPython.core.display.HTML object>"
      ]
     },
     "metadata": {},
     "output_type": "display_data"
    },
    {
     "data": {
      "text/html": [
       "\n",
       "    <div style='color: blue; font-weight: bold;'>Original: Aegon has been crowned king.</div>\n",
       "    <div style='color: green; font-weight: bold;'>Translated: Aegon foi coroado rei.</div>\n",
       "    "
      ],
      "text/plain": [
       "<IPython.core.display.HTML object>"
      ]
     },
     "metadata": {},
     "output_type": "display_data"
    },
    {
     "data": {
      "text/html": [
       "\n",
       "    <div style='color: blue; font-weight: bold;'>Original: -What is to be done about it?\n",
       "-Nothing yet.</div>\n",
       "    <div style='color: green; font-weight: bold;'>Translated: -O que se deve fazer a respeito?\n",
       "-Por enquanto, nada.</div>\n",
       "    "
      ],
      "text/plain": [
       "<IPython.core.display.HTML object>"
      ]
     },
     "metadata": {},
     "output_type": "display_data"
    },
    {
     "data": {
      "text/html": [
       "\n",
       "    <div style='color: blue; font-weight: bold;'>Original: -And where is Daemon?\n",
       "-I don't know.</div>\n",
       "    <div style='color: green; font-weight: bold;'>Translated: -E onde está o Daemon?\n",
       "-Não sei.</div>\n",
       "    "
      ],
      "text/plain": [
       "<IPython.core.display.HTML object>"
      ]
     },
     "metadata": {},
     "output_type": "display_data"
    },
    {
     "data": {
      "text/html": [
       "\n",
       "    <div style='color: blue; font-weight: bold;'>Original: Gone to madness.</div>\n",
       "    <div style='color: green; font-weight: bold;'>Translated: Enlouquecido.</div>\n",
       "    "
      ],
      "text/plain": [
       "<IPython.core.display.HTML object>"
      ]
     },
     "metadata": {},
     "output_type": "display_data"
    },
    {
     "data": {
      "text/html": [
       "\n",
       "    <div style='color: blue; font-weight: bold;'>Original: Gone to plot his war.</div>\n",
       "    <div style='color: green; font-weight: bold;'>Translated: Foi planear a sua guerra.</div>\n",
       "    "
      ],
      "text/plain": [
       "<IPython.core.display.HTML object>"
      ]
     },
     "metadata": {},
     "output_type": "display_data"
    },
    {
     "data": {
      "text/html": [
       "\n",
       "    <div style='color: blue; font-weight: bold;'>Original: -Leave Daemon with me.\n",
       "-Jace.</div>\n",
       "    <div style='color: green; font-weight: bold;'>Translated: -Deixa o Daemon comigo.\n",
       "-Jace.</div>\n",
       "    "
      ],
      "text/plain": [
       "<IPython.core.display.HTML object>"
      ]
     },
     "metadata": {},
     "output_type": "display_data"
    },
    {
     "data": {
      "text/html": [
       "\n",
       "    <div style='color: blue; font-weight: bold;'>Original: Whatever claim remains to me,\n",
       "you are now its heir.</div>\n",
       "    <div style='color: green; font-weight: bold;'>Translated: Qualquer direito que me reste,\n",
       "és agora o seu herdeiro.</div>\n",
       "    "
      ],
      "text/plain": [
       "<IPython.core.display.HTML object>"
      ]
     },
     "metadata": {},
     "output_type": "display_data"
    },
    {
     "data": {
      "text/html": [
       "\n",
       "    <div style='color: blue; font-weight: bold;'>Original: Naught is to be done but by my command.</div>\n",
       "    <div style='color: green; font-weight: bold;'>Translated: Nada deve ser feito senão por minha ordem.</div>\n",
       "    "
      ],
      "text/plain": [
       "<IPython.core.display.HTML object>"
      ]
     },
     "metadata": {},
     "output_type": "display_data"
    },
    {
     "data": {
      "text/html": [
       "\n",
       "    <div style='color: blue; font-weight: bold;'>Original: A raven flew in this morning.</div>\n",
       "    <div style='color: green; font-weight: bold;'>Translated: Um corvo voou esta manhã.</div>\n",
       "    "
      ],
      "text/plain": [
       "<IPython.core.display.HTML object>"
      ]
     },
     "metadata": {},
     "output_type": "display_data"
    },
    {
     "data": {
      "text/html": [
       "\n",
       "    <div style='color: blue; font-weight: bold;'>Original: The Sea Snake's fever has broken,\n",
       "and he has left Evenfall.</div>\n",
       "    <div style='color: green; font-weight: bold;'>Translated: A febre da Serpente do Mar passou,\n",
       "e ele deixou Evenfall.</div>\n",
       "    "
      ],
      "text/plain": [
       "<IPython.core.display.HTML object>"
      ]
     },
     "metadata": {},
     "output_type": "display_data"
    },
    {
     "data": {
      "text/html": [
       "\n",
       "    <div style='color: blue; font-weight: bold;'>Original: -Where is he sailing?\n",
       "-That much is unclear, my Prince.</div>\n",
       "    <div style='color: green; font-weight: bold;'>Translated: -Para onde ele está a navegar?\n",
       "-Isso é incerto, meu Príncipe.</div>\n",
       "    "
      ],
      "text/plain": [
       "<IPython.core.display.HTML object>"
      ]
     },
     "metadata": {},
     "output_type": "display_data"
    },
    {
     "data": {
      "text/html": [
       "\n",
       "    <div style='color: blue; font-weight: bold;'>Original: We'll send ravens to our nearest allies:</div>\n",
       "    <div style='color: green; font-weight: bold;'>Translated: Enviaremos corvos aos nossos aliados mais próximos:</div>\n",
       "    "
      ],
      "text/plain": [
       "<IPython.core.display.HTML object>"
      ]
     },
     "metadata": {},
     "output_type": "display_data"
    },
    {
     "data": {
      "text/html": [
       "\n",
       "    <div style='color: blue; font-weight: bold;'>Original: Lords Darklyn, Massey...</div>\n",
       "    <div style='color: green; font-weight: bold;'>Translated: Senhores Darklyn, Massey...</div>\n",
       "    "
      ],
      "text/plain": [
       "<IPython.core.display.HTML object>"
      ]
     },
     "metadata": {},
     "output_type": "display_data"
    },
    {
     "data": {
      "text/html": [
       "\n",
       "    <div style='color: blue; font-weight: bold;'>Original: -and Bar Emmon.\n",
       "-Daemon!</div>\n",
       "    <div style='color: green; font-weight: bold;'>Translated: -e Bar Emmon.\n",
       "-Daemon!</div>\n",
       "    "
      ],
      "text/plain": [
       "<IPython.core.display.HTML object>"
      ]
     },
     "metadata": {},
     "output_type": "display_data"
    },
    {
     "data": {
      "text/html": [
       "\n",
       "    <div style='color: blue; font-weight: bold;'>Original: Do you want to speak\n",
       "to the maester, my Prince?</div>\n",
       "    <div style='color: green; font-weight: bold;'>Translated: Quer falar com o meistre, meu Príncipe?</div>\n",
       "    "
      ],
      "text/plain": [
       "<IPython.core.display.HTML object>"
      ]
     },
     "metadata": {},
     "output_type": "display_data"
    },
    {
     "data": {
      "text/html": [
       "\n",
       "    <div style='color: blue; font-weight: bold;'>Original: I'll fly to the Riverlands myself\n",
       "and affirm Lord Tully's support.</div>\n",
       "    <div style='color: green; font-weight: bold;'>Translated: Vou voar até às Terras Fluviais pessoalmente\n",
       "e confirmar o apoio do Lorde Tully.</div>\n",
       "    "
      ],
      "text/plain": [
       "<IPython.core.display.HTML object>"
      ]
     },
     "metadata": {},
     "output_type": "display_data"
    },
    {
     "data": {
      "text/html": [
       "\n",
       "    <div style='color: blue; font-weight: bold;'>Original: You will do no such thing.</div>\n",
       "    <div style='color: green; font-weight: bold;'>Translated: Não farás tal coisa.</div>\n",
       "    "
      ],
      "text/plain": [
       "<IPython.core.display.HTML object>"
      ]
     },
     "metadata": {},
     "output_type": "display_data"
    },
    {
     "data": {
      "text/html": [
       "\n",
       "    <div style='color: blue; font-weight: bold;'>Original: My mother has decreed no action be taken\n",
       "while she's abed.</div>\n",
       "    <div style='color: green; font-weight: bold;'>Translated: A minha mãe decretou que nenhuma ação seja tomada enquanto ela estiver na cama.</div>\n",
       "    "
      ],
      "text/plain": [
       "<IPython.core.display.HTML object>"
      ]
     },
     "metadata": {},
     "output_type": "display_data"
    },
    {
     "data": {
      "text/html": [
       "\n",
       "    <div style='color: blue; font-weight: bold;'>Original: It's good you're here, young Prince.</div>\n",
       "    <div style='color: green; font-weight: bold;'>Translated: Ainda bem que estás aqui, jovem Príncipe.</div>\n",
       "    "
      ],
      "text/plain": [
       "<IPython.core.display.HTML object>"
      ]
     },
     "metadata": {},
     "output_type": "display_data"
    },
    {
     "data": {
      "text/html": [
       "\n",
       "    <div style='color: blue; font-weight: bold;'>Original: You're needed to patrol\n",
       "the skies on Vermax.</div>\n",
       "    <div style='color: green; font-weight: bold;'>Translated: É necessário patrulhar\n",
       "os céus em Vermax.</div>\n",
       "    "
      ],
      "text/plain": [
       "<IPython.core.display.HTML object>"
      ]
     },
     "metadata": {},
     "output_type": "display_data"
    },
    {
     "data": {
      "text/html": [
       "\n",
       "    <div style='color: blue; font-weight: bold;'>Original: Did you hear what I said?</div>\n",
       "    <div style='color: green; font-weight: bold;'>Translated: Ouviste o que eu disse?</div>\n",
       "    "
      ],
      "text/plain": [
       "<IPython.core.display.HTML object>"
      ]
     },
     "metadata": {},
     "output_type": "display_data"
    },
    {
     "data": {
      "text/html": [
       "\n",
       "    <div style='color: blue; font-weight: bold;'>Original: The ravens, Lord Bartimos.</div>\n",
       "    <div style='color: green; font-weight: bold;'>Translated: Os corvos, Senhor Bartimos.</div>\n",
       "    "
      ],
      "text/plain": [
       "<IPython.core.display.HTML object>"
      ]
     },
     "metadata": {},
     "output_type": "display_data"
    },
    {
     "data": {
      "text/html": [
       "\n",
       "    <div style='color: blue; font-weight: bold;'>Original: I shall see it done.</div>\n",
       "    <div style='color: green; font-weight: bold;'>Translated: Eu farei com que seja feito.</div>\n",
       "    "
      ],
      "text/plain": [
       "<IPython.core.display.HTML object>"
      ]
     },
     "metadata": {},
     "output_type": "display_data"
    },
    {
     "data": {
      "text/html": [
       "\n",
       "    <div style='color: blue; font-weight: bold;'>Original: Summon Ser Steffon.</div>\n",
       "    <div style='color: green; font-weight: bold;'>Translated: Chame o Sr. Steffon.</div>\n",
       "    "
      ],
      "text/plain": [
       "<IPython.core.display.HTML object>"
      ]
     },
     "metadata": {},
     "output_type": "display_data"
    },
    {
     "data": {
      "text/html": [
       "\n",
       "    <div style='color: blue; font-weight: bold;'>Original: Our Kingsguard are needed\n",
       "on the Dragonmont.</div>\n",
       "    <div style='color: green; font-weight: bold;'>Translated: Os nossos Guardas Reais são necessários no Monte Dragão.</div>\n",
       "    "
      ],
      "text/plain": [
       "<IPython.core.display.HTML object>"
      ]
     },
     "metadata": {},
     "output_type": "display_data"
    },
    {
     "data": {
      "text/html": [
       "\n",
       "    <div style='color: blue; font-weight: bold;'>Original: Come with me.\n",
       "I'll show you the true meaning of loyalty.</div>\n",
       "    <div style='color: green; font-weight: bold;'>Translated: Vem comigo.\n",
       "Vou-te mostrar o verdadeiro significado de lealdade.</div>\n",
       "    "
      ],
      "text/plain": [
       "<IPython.core.display.HTML object>"
      ]
     },
     "metadata": {},
     "output_type": "display_data"
    },
    {
     "data": {
      "text/html": [
       "\n",
       "    <div style='color: blue; font-weight: bold;'>Original: You swore an oath\n",
       "as knights of the Kingsguard.</div>\n",
       "    <div style='color: green; font-weight: bold;'>Translated: Juraram um juramento\n",
       "como cavaleiros da Guarda Real.</div>\n",
       "    "
      ],
      "text/plain": [
       "<IPython.core.display.HTML object>"
      ]
     },
     "metadata": {},
     "output_type": "display_data"
    },
    {
     "data": {
      "text/html": [
       "\n",
       "    <div style='color: blue; font-weight: bold;'>Original: As do all who wear\n",
       "the white cloak, my Prince.</div>\n",
       "    <div style='color: green; font-weight: bold;'>Translated: Como todos aqueles que vestem\n",
       "a capa branca, meu Príncipe.</div>\n",
       "    "
      ],
      "text/plain": [
       "<IPython.core.display.HTML object>"
      ]
     },
     "metadata": {},
     "output_type": "display_data"
    },
    {
     "data": {
      "text/html": [
       "\n",
       "    <div style='color: blue; font-weight: bold;'>Original: To whom?</div>\n",
       "    <div style='color: green; font-weight: bold;'>Translated: Para quem?</div>\n",
       "    "
      ],
      "text/plain": [
       "<IPython.core.display.HTML object>"
      ]
     },
     "metadata": {},
     "output_type": "display_data"
    },
    {
     "data": {
      "text/html": [
       "\n",
       "    <div style='color: blue; font-weight: bold;'>Original: I swore first to King Jaehaerys,\n",
       "my Prince.</div>\n",
       "    <div style='color: green; font-weight: bold;'>Translated: Eu jurei primeiro ao Rei Jaehaerys,\n",
       "meu Príncipe.</div>\n",
       "    "
      ],
      "text/plain": [
       "<IPython.core.display.HTML object>"
      ]
     },
     "metadata": {},
     "output_type": "display_data"
    },
    {
     "data": {
      "text/html": [
       "\n",
       "    <div style='color: blue; font-weight: bold;'>Original: And then to His Grace,</div>\n",
       "    <div style='color: green; font-weight: bold;'>Translated: E então para Sua Graça,</div>\n",
       "    "
      ],
      "text/plain": [
       "<IPython.core.display.HTML object>"
      ]
     },
     "metadata": {},
     "output_type": "display_data"
    },
    {
     "data": {
      "text/html": [
       "\n",
       "    <div style='color: blue; font-weight: bold;'>Original: King Viserys, when he succeeded him.</div>\n",
       "    <div style='color: green; font-weight: bold;'>Translated: Rei Viserys, quando lhe sucedeu.</div>\n",
       "    "
      ],
      "text/plain": [
       "<IPython.core.display.HTML object>"
      ]
     },
     "metadata": {},
     "output_type": "display_data"
    },
    {
     "data": {
      "text/html": [
       "\n",
       "    <div style='color: blue; font-weight: bold;'>Original: Do you acknowledge\n",
       "the true line of succession?</div>\n",
       "    <div style='color: green; font-weight: bold;'>Translated: Reconhece a verdadeira linha de sucessão?</div>\n",
       "    "
      ],
      "text/plain": [
       "<IPython.core.display.HTML object>"
      ]
     },
     "metadata": {},
     "output_type": "display_data"
    },
    {
     "data": {
      "text/html": [
       "\n",
       "    <div style='color: blue; font-weight: bold;'>Original: -Yes.\n",
       "-Yes, my Prince.</div>\n",
       "    <div style='color: green; font-weight: bold;'>Translated: -Sim.\n",
       "-Sim, meu Príncipe.</div>\n",
       "    "
      ],
      "text/plain": [
       "<IPython.core.display.HTML object>"
      ]
     },
     "metadata": {},
     "output_type": "display_data"
    },
    {
     "data": {
      "text/html": [
       "\n",
       "    <div style='color: blue; font-weight: bold;'>Original: Do you recall</div>\n",
       "    <div style='color: green; font-weight: bold;'>Translated: Lembras-te?</div>\n",
       "    "
      ],
      "text/plain": [
       "<IPython.core.display.HTML object>"
      ]
     },
     "metadata": {},
     "output_type": "display_data"
    },
    {
     "data": {
      "text/html": [
       "\n",
       "    <div style='color: blue; font-weight: bold;'>Original: who King Viserys named\n",
       "as his heir before his death?</div>\n",
       "    <div style='color: green; font-weight: bold;'>Translated: Quem o Rei Viserys nomeou como seu herdeiro antes da sua morte?</div>\n",
       "    "
      ],
      "text/plain": [
       "<IPython.core.display.HTML object>"
      ]
     },
     "metadata": {},
     "output_type": "display_data"
    },
    {
     "data": {
      "text/html": [
       "\n",
       "    <div style='color: blue; font-weight: bold;'>Original: Princess Rhaenyra.</div>\n",
       "    <div style='color: green; font-weight: bold;'>Translated: Princesa Rhaenyra.</div>\n",
       "    "
      ],
      "text/plain": [
       "<IPython.core.display.HTML object>"
      ]
     },
     "metadata": {},
     "output_type": "display_data"
    },
    {
     "data": {
      "text/html": [
       "\n",
       "    <div style='color: blue; font-weight: bold;'>Original: I'm grateful for\n",
       "your long service to the crown.</div>\n",
       "    <div style='color: green; font-weight: bold;'>Translated: Estou grato pelo\n",
       "seu longo serviço à coroa.</div>\n",
       "    "
      ],
      "text/plain": [
       "<IPython.core.display.HTML object>"
      ]
     },
     "metadata": {},
     "output_type": "display_data"
    },
    {
     "data": {
      "text/html": [
       "\n",
       "    <div style='color: blue; font-weight: bold;'>Original: So I'm presenting you with a choice.</div>\n",
       "    <div style='color: green; font-weight: bold;'>Translated: Então estou a apresentar-te uma escolha.</div>\n",
       "    "
      ],
      "text/plain": [
       "<IPython.core.display.HTML object>"
      ]
     },
     "metadata": {},
     "output_type": "display_data"
    },
    {
     "data": {
      "text/html": [
       "\n",
       "    <div style='color: blue; font-weight: bold;'>Original: Swear anew your oath\n",
       "to Rhaenyra as your queen...</div>\n",
       "    <div style='color: green; font-weight: bold;'>Translated: Jura de novo o teu juramento\n",
       "a Rhaenyra como tua rainha...</div>\n",
       "    "
      ],
      "text/plain": [
       "<IPython.core.display.HTML object>"
      ]
     },
     "metadata": {},
     "output_type": "display_data"
    },
    {
     "data": {
      "text/html": [
       "\n",
       "    <div style='color: blue; font-weight: bold;'>Original: to Prince Jacaerys as the heir\n",
       "to the Iron Throne.</div>\n",
       "    <div style='color: green; font-weight: bold;'>Translated: para o Príncipe Jacaerys como o herdeiro\n",
       "do Trono de Ferro.</div>\n",
       "    "
      ],
      "text/plain": [
       "<IPython.core.display.HTML object>"
      ]
     },
     "metadata": {},
     "output_type": "display_data"
    },
    {
     "data": {
      "text/html": [
       "\n",
       "    <div style='color: blue; font-weight: bold;'>Original: Or...</div>\n",
       "    <div style='color: green; font-weight: bold;'>Translated: Ou...</div>\n",
       "    "
      ],
      "text/plain": [
       "<IPython.core.display.HTML object>"
      ]
     },
     "metadata": {},
     "output_type": "display_data"
    },
    {
     "data": {
      "text/html": [
       "\n",
       "    <div style='color: blue; font-weight: bold;'>Original: if you support the usurper,\n",
       "speak it now...</div>\n",
       "    <div style='color: green; font-weight: bold;'>Translated: se apoias o usurpador,\n",
       "diz agora...</div>\n",
       "    "
      ],
      "text/plain": [
       "<IPython.core.display.HTML object>"
      ]
     },
     "metadata": {},
     "output_type": "display_data"
    },
    {
     "data": {
      "text/html": [
       "\n",
       "    <div style='color: blue; font-weight: bold;'>Original: and you will have a clean\n",
       "and honorable death.</div>\n",
       "    <div style='color: green; font-weight: bold;'>Translated: e terás uma morte limpa e honrosa.</div>\n",
       "    "
      ],
      "text/plain": [
       "<IPython.core.display.HTML object>"
      ]
     },
     "metadata": {},
     "output_type": "display_data"
    },
    {
     "data": {
      "text/html": [
       "\n",
       "    <div style='color: blue; font-weight: bold;'>Original: But if you choose treachery,</div>\n",
       "    <div style='color: green; font-weight: bold;'>Translated: Mas se escolheres a traição,</div>\n",
       "    "
      ],
      "text/plain": [
       "<IPython.core.display.HTML object>"
      ]
     },
     "metadata": {},
     "output_type": "display_data"
    },
    {
     "data": {
      "text/html": [
       "\n",
       "    <div style='color: blue; font-weight: bold;'>Original: if you swear fealty now\n",
       "only to later turn your cloaks...</div>\n",
       "    <div style='color: green; font-weight: bold;'>Translated: se agora jurares fidelidade\n",
       "para mais tarde mudares de lado...</div>\n",
       "    "
      ],
      "text/plain": [
       "<IPython.core.display.HTML object>"
      ]
     },
     "metadata": {},
     "output_type": "display_data"
    },
    {
     "data": {
      "text/html": [
       "\n",
       "    <div style='color: blue; font-weight: bold;'>Original: know that you will die</div>\n",
       "    <div style='color: green; font-weight: bold;'>Translated: sabe que vai morrer</div>\n",
       "    "
      ],
      "text/plain": [
       "<IPython.core.display.HTML object>"
      ]
     },
     "metadata": {},
     "output_type": "display_data"
    },
    {
     "data": {
      "text/html": [
       "\n",
       "    <div style='color: blue; font-weight: bold;'>Original: screaming.</div>\n",
       "    <div style='color: green; font-weight: bold;'>Translated: gritando.</div>\n",
       "    "
      ],
      "text/plain": [
       "<IPython.core.display.HTML object>"
      ]
     },
     "metadata": {},
     "output_type": "display_data"
    },
    {
     "data": {
      "text/html": [
       "\n",
       "    <div style='color: blue; font-weight: bold;'>Original: Princess, let us help you.</div>\n",
       "    <div style='color: green; font-weight: bold;'>Translated: Princesa, deixe-nos ajudá-la.</div>\n",
       "    "
      ],
      "text/plain": [
       "<IPython.core.display.HTML object>"
      ]
     },
     "metadata": {},
     "output_type": "display_data"
    },
    {
     "data": {
      "text/html": [
       "\n",
       "    <div style='color: blue; font-weight: bold;'>Original: No.</div>\n",
       "    <div style='color: green; font-weight: bold;'>Translated: Não.</div>\n",
       "    "
      ],
      "text/plain": [
       "<IPython.core.display.HTML object>"
      ]
     },
     "metadata": {},
     "output_type": "display_data"
    },
    {
     "data": {
      "text/html": [
       "\n",
       "    <div style='color: blue; font-weight: bold;'>Original: - Get out!\n",
       "-Princess, please.</div>\n",
       "    <div style='color: green; font-weight: bold;'>Translated: - Sai!\n",
       "- Princesa, por favor.</div>\n",
       "    "
      ],
      "text/plain": [
       "<IPython.core.display.HTML object>"
      ]
     },
     "metadata": {},
     "output_type": "display_data"
    },
    {
     "data": {
      "text/html": [
       "\n",
       "    <div style='color: blue; font-weight: bold;'>Original: -Get out.\n",
       "-You should not do this alone, Princess.</div>\n",
       "    <div style='color: green; font-weight: bold;'>Translated: -Saia.\n",
       "-Não deveria fazer isto sozinha, Princesa.</div>\n",
       "    "
      ],
      "text/plain": [
       "<IPython.core.display.HTML object>"
      ]
     },
     "metadata": {},
     "output_type": "display_data"
    },
    {
     "data": {
      "text/html": [
       "\n",
       "    <div style='color: blue; font-weight: bold;'>Original: Let us help you.</div>\n",
       "    <div style='color: green; font-weight: bold;'>Translated: Deixe-nos ajudá-lo.</div>\n",
       "    "
      ],
      "text/plain": [
       "<IPython.core.display.HTML object>"
      ]
     },
     "metadata": {},
     "output_type": "display_data"
    },
    {
     "data": {
      "text/html": [
       "\n",
       "    <div style='color: blue; font-weight: bold;'>Original: I mean no harm, brothers.</div>\n",
       "    <div style='color: green; font-weight: bold;'>Translated: Não quero causar mal, irmãos.</div>\n",
       "    "
      ],
      "text/plain": [
       "<IPython.core.display.HTML object>"
      ]
     },
     "metadata": {},
     "output_type": "display_data"
    },
    {
     "data": {
      "text/html": [
       "\n",
       "    <div style='color: blue; font-weight: bold;'>Original: I swear to ward the Queen...</div>\n",
       "    <div style='color: green; font-weight: bold;'>Translated: Eu juro proteger a Rainha...</div>\n",
       "    "
      ],
      "text/plain": [
       "<IPython.core.display.HTML object>"
      ]
     },
     "metadata": {},
     "output_type": "display_data"
    },
    {
     "data": {
      "text/html": [
       "\n",
       "    <div style='color: blue; font-weight: bold;'>Original: with all my strength...</div>\n",
       "    <div style='color: green; font-weight: bold;'>Translated: com toda a minha força...</div>\n",
       "    "
      ],
      "text/plain": [
       "<IPython.core.display.HTML object>"
      ]
     },
     "metadata": {},
     "output_type": "display_data"
    },
    {
     "data": {
      "text/html": [
       "\n",
       "    <div style='color: blue; font-weight: bold;'>Original: and give my blood for hers.</div>\n",
       "    <div style='color: green; font-weight: bold;'>Translated: e dou o meu sangue pelo dela.</div>\n",
       "    "
      ],
      "text/plain": [
       "<IPython.core.display.HTML object>"
      ]
     },
     "metadata": {},
     "output_type": "display_data"
    },
    {
     "data": {
      "text/html": [
       "\n",
       "    <div style='color: blue; font-weight: bold;'>Original: I shall take no wife...</div>\n",
       "    <div style='color: green; font-weight: bold;'>Translated: Não tomarei esposa...</div>\n",
       "    "
      ],
      "text/plain": [
       "<IPython.core.display.HTML object>"
      ]
     },
     "metadata": {},
     "output_type": "display_data"
    },
    {
     "data": {
      "text/html": [
       "\n",
       "    <div style='color: blue; font-weight: bold;'>Original: hold no lands...</div>\n",
       "    <div style='color: green; font-weight: bold;'>Translated: não possuir terras...</div>\n",
       "    "
      ],
      "text/plain": [
       "<IPython.core.display.HTML object>"
      ]
     },
     "metadata": {},
     "output_type": "display_data"
    },
    {
     "data": {
      "text/html": [
       "\n",
       "    <div style='color: blue; font-weight: bold;'>Original: father no children.</div>\n",
       "    <div style='color: green; font-weight: bold;'>Translated: pai sem filhos.</div>\n",
       "    "
      ],
      "text/plain": [
       "<IPython.core.display.HTML object>"
      ]
     },
     "metadata": {},
     "output_type": "display_data"
    },
    {
     "data": {
      "text/html": [
       "\n",
       "    <div style='color: blue; font-weight: bold;'>Original: I shall guard her secrets...</div>\n",
       "    <div style='color: green; font-weight: bold;'>Translated: Vou guardar os seus segredos...</div>\n",
       "    "
      ],
      "text/plain": [
       "<IPython.core.display.HTML object>"
      ]
     },
     "metadata": {},
     "output_type": "display_data"
    },
    {
     "data": {
      "text/html": [
       "\n",
       "    <div style='color: blue; font-weight: bold;'>Original: obey her commands...</div>\n",
       "    <div style='color: green; font-weight: bold;'>Translated: obedece às ordens dela...</div>\n",
       "    "
      ],
      "text/plain": [
       "<IPython.core.display.HTML object>"
      ]
     },
     "metadata": {},
     "output_type": "display_data"
    },
    {
     "data": {
      "text/html": [
       "\n",
       "    <div style='color: blue; font-weight: bold;'>Original: ride at her side, and defend her name\n",
       "and honor.</div>\n",
       "    <div style='color: green; font-weight: bold;'>Translated: cavalgar ao lado dela e defender o seu nome\n",
       "e honra.</div>\n",
       "    "
      ],
      "text/plain": [
       "<IPython.core.display.HTML object>"
      ]
     },
     "metadata": {},
     "output_type": "display_data"
    },
    {
     "data": {
      "text/html": [
       "\n",
       "    <div style='color: blue; font-weight: bold;'>Original: My Queen.</div>\n",
       "    <div style='color: green; font-weight: bold;'>Translated: Minha Rainha.</div>\n",
       "    "
      ],
      "text/plain": [
       "<IPython.core.display.HTML object>"
      ]
     },
     "metadata": {},
     "output_type": "display_data"
    },
    {
     "data": {
      "text/html": [
       "\n",
       "    <div style='color: blue; font-weight: bold;'>Original: Queen Rhaenyra Targaryen,\n",
       "First of Her Name,</div>\n",
       "    <div style='color: green; font-weight: bold;'>Translated: Rainha Rhaenyra Targaryen,\n",
       "Primeira do Seu Nome,</div>\n",
       "    "
      ],
      "text/plain": [
       "<IPython.core.display.HTML object>"
      ]
     },
     "metadata": {},
     "output_type": "display_data"
    },
    {
     "data": {
      "text/html": [
       "\n",
       "    <div style='color: blue; font-weight: bold;'>Original: Queen of the Andals and the Rhoynar\n",
       "and the First Men.</div>\n",
       "    <div style='color: green; font-weight: bold;'>Translated: Rainha dos Ândalos e dos Roinares e dos Primeiros Homens.</div>\n",
       "    "
      ],
      "text/plain": [
       "<IPython.core.display.HTML object>"
      ]
     },
     "metadata": {},
     "output_type": "display_data"
    },
    {
     "data": {
      "text/html": [
       "\n",
       "    <div style='color: blue; font-weight: bold;'>Original: Lady of the Seven Kingdoms\n",
       "and Protector of the Realm.</div>\n",
       "    <div style='color: green; font-weight: bold;'>Translated: Senhora dos Sete Reinos\n",
       "e Protetora do Reino.</div>\n",
       "    "
      ],
      "text/plain": [
       "<IPython.core.display.HTML object>"
      ]
     },
     "metadata": {},
     "output_type": "display_data"
    },
    {
     "data": {
      "text/html": [
       "\n",
       "    <div style='color: blue; font-weight: bold;'>Original: Your Grace.</div>\n",
       "    <div style='color: green; font-weight: bold;'>Translated: Vossa Graça.</div>\n",
       "    "
      ],
      "text/plain": [
       "<IPython.core.display.HTML object>"
      ]
     },
     "metadata": {},
     "output_type": "display_data"
    },
    {
     "data": {
      "text/html": [
       "\n",
       "    <div style='color: blue; font-weight: bold;'>Original: Wine, my Queen.</div>\n",
       "    <div style='color: green; font-weight: bold;'>Translated: Vinho, minha Rainha.</div>\n",
       "    "
      ],
      "text/plain": [
       "<IPython.core.display.HTML object>"
      ]
     },
     "metadata": {},
     "output_type": "display_data"
    },
    {
     "data": {
      "text/html": [
       "\n",
       "    <div style='color: blue; font-weight: bold;'>Original: Thank you, Rhaena.</div>\n",
       "    <div style='color: green; font-weight: bold;'>Translated: Obrigado, Rhaena.</div>\n",
       "    "
      ],
      "text/plain": [
       "<IPython.core.display.HTML object>"
      ]
     },
     "metadata": {},
     "output_type": "display_data"
    },
    {
     "data": {
      "text/html": [
       "\n",
       "    <div style='color: blue; font-weight: bold;'>Original: Come.</div>\n",
       "    <div style='color: green; font-weight: bold;'>Translated: Vem.</div>\n",
       "    "
      ],
      "text/plain": [
       "<IPython.core.display.HTML object>"
      ]
     },
     "metadata": {},
     "output_type": "display_data"
    },
    {
     "data": {
      "text/html": [
       "\n",
       "    <div style='color: blue; font-weight: bold;'>Original: -What is our standing?\n",
       "-We have 30 knights,</div>\n",
       "    <div style='color: green; font-weight: bold;'>Translated: -Qual é a nossa posição?\n",
       "-Temos 30 cavaleiros,</div>\n",
       "    "
      ],
      "text/plain": [
       "<IPython.core.display.HTML object>"
      ]
     },
     "metadata": {},
     "output_type": "display_data"
    },
    {
     "data": {
      "text/html": [
       "\n",
       "    <div style='color: blue; font-weight: bold;'>Original: a hundred crossbowmen,\n",
       "and 300 men-at-arms.</div>\n",
       "    <div style='color: green; font-weight: bold;'>Translated: cem besteiros,\n",
       "e 300 homens de armas.</div>\n",
       "    "
      ],
      "text/plain": [
       "<IPython.core.display.HTML object>"
      ]
     },
     "metadata": {},
     "output_type": "display_data"
    },
    {
     "data": {
      "text/html": [
       "\n",
       "    <div style='color: blue; font-weight: bold;'>Original: Dragonstone is relatively easy to defend,\n",
       "but as an instrument of conquest,</div>\n",
       "    <div style='color: green; font-weight: bold;'>Translated: Dragonstone é relativamente fácil de defender,\n",
       "mas como instrumento de conquista,</div>\n",
       "    "
      ],
      "text/plain": [
       "<IPython.core.display.HTML object>"
      ]
     },
     "metadata": {},
     "output_type": "display_data"
    },
    {
     "data": {
      "text/html": [
       "\n",
       "    <div style='color: blue; font-weight: bold;'>Original: our army leaves a lot to be desired.</div>\n",
       "    <div style='color: green; font-weight: bold;'>Translated: o nosso exército deixa muito a desejar.</div>\n",
       "    "
      ],
      "text/plain": [
       "<IPython.core.display.HTML object>"
      ]
     },
     "metadata": {},
     "output_type": "display_data"
    },
    {
     "data": {
      "text/html": [
       "\n",
       "    <div style='color: blue; font-weight: bold;'>Original: We have sent word to my loyal men\n",
       "in the City Watch.</div>\n",
       "    <div style='color: green; font-weight: bold;'>Translated: Enviamos mensagem aos meus homens leais na Guarda da Cidade.</div>\n",
       "    "
      ],
      "text/plain": [
       "<IPython.core.display.HTML object>"
      ]
     },
     "metadata": {},
     "output_type": "display_data"
    },
    {
     "data": {
      "text/html": [
       "\n",
       "    <div style='color: blue; font-weight: bold;'>Original: I'll have some support there,\n",
       "but I cannot speak to the numbers.</div>\n",
       "    <div style='color: green; font-weight: bold;'>Translated: Terei algum apoio lá,\n",
       "mas não posso falar sobre os números.</div>\n",
       "    "
      ],
      "text/plain": [
       "<IPython.core.display.HTML object>"
      ]
     },
     "metadata": {},
     "output_type": "display_data"
    },
    {
     "data": {
      "text/html": [
       "\n",
       "    <div style='color: blue; font-weight: bold;'>Original: We already have declarations\n",
       "from Celtigar and Staunton,</div>\n",
       "    <div style='color: green; font-weight: bold;'>Translated: Já temos declarações\n",
       "de Celtigar e Staunton,</div>\n",
       "    "
      ],
      "text/plain": [
       "<IPython.core.display.HTML object>"
      ]
     },
     "metadata": {},
     "output_type": "display_data"
    },
    {
     "data": {
      "text/html": [
       "\n",
       "    <div style='color: blue; font-weight: bold;'>Original: My lady mother was an Arryn.</div>\n",
       "    <div style='color: green; font-weight: bold;'>Translated: A minha mãe era uma Arryn.</div>\n",
       "    "
      ],
      "text/plain": [
       "<IPython.core.display.HTML object>"
      ]
     },
     "metadata": {},
     "output_type": "display_data"
    },
    {
     "data": {
      "text/html": [
       "\n",
       "    <div style='color: blue; font-weight: bold;'>Original: The Vale will not turn cloak\n",
       "against their own kin.</div>\n",
       "    <div style='color: green; font-weight: bold;'>Translated: O Vale não vai trair os seus próprios parentes.</div>\n",
       "    "
      ],
      "text/plain": [
       "<IPython.core.display.HTML object>"
      ]
     },
     "metadata": {},
     "output_type": "display_data"
    },
    {
     "data": {
      "text/html": [
       "\n",
       "    <div style='color: blue; font-weight: bold;'>Original: Riverrun was always a close friend\n",
       "to your father, Your Grace.</div>\n",
       "    <div style='color: green; font-weight: bold;'>Translated: Riverrun sempre foi um grande amigo do seu pai, Vossa Graça.</div>\n",
       "    "
      ],
      "text/plain": [
       "<IPython.core.display.HTML object>"
      ]
     },
     "metadata": {},
     "output_type": "display_data"
    },
    {
     "data": {
      "text/html": [
       "\n",
       "    <div style='color: blue; font-weight: bold;'>Original: With Prince Daemon's acquiescence,</div>\n",
       "    <div style='color: green; font-weight: bold;'>Translated: Com a aquiescência do Príncipe Daemon,</div>\n",
       "    "
      ],
      "text/plain": [
       "<IPython.core.display.HTML object>"
      ]
     },
     "metadata": {},
     "output_type": "display_data"
    },
    {
     "data": {
      "text/html": [
       "\n",
       "    <div style='color: blue; font-weight: bold;'>Original: I've already sent ravens to Lord Grover.</div>\n",
       "    <div style='color: green; font-weight: bold;'>Translated: Já enviei corvos ao Senhor Grover.</div>\n",
       "    "
      ],
      "text/plain": [
       "<IPython.core.display.HTML object>"
      ]
     },
     "metadata": {},
     "output_type": "display_data"
    },
    {
     "data": {
      "text/html": [
       "\n",
       "    <div style='color: blue; font-weight: bold;'>Original: Lord Grover is fickle and easily swayed.</div>\n",
       "    <div style='color: green; font-weight: bold;'>Translated: O Senhor Grover é volúvel e facilmente influenciável.</div>\n",
       "    "
      ],
      "text/plain": [
       "<IPython.core.display.HTML object>"
      ]
     },
     "metadata": {},
     "output_type": "display_data"
    },
    {
     "data": {
      "text/html": [
       "\n",
       "    <div style='color: blue; font-weight: bold;'>Original: He will need to be convinced\n",
       "of the strength of our position</div>\n",
       "    <div style='color: green; font-weight: bold;'>Translated: Ele precisará ser convencido\n",
       "da força da nossa posição.</div>\n",
       "    "
      ],
      "text/plain": [
       "<IPython.core.display.HTML object>"
      ]
     },
     "metadata": {},
     "output_type": "display_data"
    },
    {
     "data": {
      "text/html": [
       "\n",
       "    <div style='color: blue; font-weight: bold;'>Original: and that we will support him\n",
       "should it come to war.</div>\n",
       "    <div style='color: green; font-weight: bold;'>Translated: e que o apoiaremos\n",
       "caso venha a acontecer uma guerra.</div>\n",
       "    "
      ],
      "text/plain": [
       "<IPython.core.display.HTML object>"
      ]
     },
     "metadata": {},
     "output_type": "display_data"
    },
    {
     "data": {
      "text/html": [
       "\n",
       "    <div style='color: blue; font-weight: bold;'>Original: I'm going to treat with him myself.</div>\n",
       "    <div style='color: green; font-weight: bold;'>Translated: Vou tratar disso com ele pessoalmente.</div>\n",
       "    "
      ],
      "text/plain": [
       "<IPython.core.display.HTML object>"
      ]
     },
     "metadata": {},
     "output_type": "display_data"
    },
    {
     "data": {
      "text/html": [
       "\n",
       "    <div style='color: blue; font-weight: bold;'>Original: What of Storm's End and Winterfell?</div>\n",
       "    <div style='color: green; font-weight: bold;'>Translated: O que acontece com Storm's End e Winterfell?</div>\n",
       "    "
      ],
      "text/plain": [
       "<IPython.core.display.HTML object>"
      ]
     },
     "metadata": {},
     "output_type": "display_data"
    },
    {
     "data": {
      "text/html": [
       "\n",
       "    <div style='color: blue; font-weight: bold;'>Original: There has never\n",
       "lived a Stark who forgot an oath.</div>\n",
       "    <div style='color: green; font-weight: bold;'>Translated: Nunca viveu um Stark que esquecesse um juramento.</div>\n",
       "    "
      ],
      "text/plain": [
       "<IPython.core.display.HTML object>"
      ]
     },
     "metadata": {},
     "output_type": "display_data"
    },
    {
     "data": {
      "text/html": [
       "\n",
       "    <div style='color: blue; font-weight: bold;'>Original: And with House Stark,\n",
       "the North will follow.</div>\n",
       "    <div style='color: green; font-weight: bold;'>Translated: E com a Casa Stark,\n",
       "o Norte seguirá.</div>\n",
       "    "
      ],
      "text/plain": [
       "<IPython.core.display.HTML object>"
      ]
     },
     "metadata": {},
     "output_type": "display_data"
    },
    {
     "data": {
      "text/html": [
       "\n",
       "    <div style='color: blue; font-weight: bold;'>Original: Lord Borros Baratheon will need\n",
       "to be reminded of his father's promises.</div>\n",
       "    <div style='color: green; font-weight: bold;'>Translated: O Senhor Borros Baratheon precisará ser lembrado das promessas do seu pai.</div>\n",
       "    "
      ],
      "text/plain": [
       "<IPython.core.display.HTML object>"
      ]
     },
     "metadata": {},
     "output_type": "display_data"
    },
    {
     "data": {
      "text/html": [
       "\n",
       "    <div style='color: blue; font-weight: bold;'>Original: What news from Driftmark?</div>\n",
       "    <div style='color: green; font-weight: bold;'>Translated: Que novidades de Driftmark?</div>\n",
       "    "
      ],
      "text/plain": [
       "<IPython.core.display.HTML object>"
      ]
     },
     "metadata": {},
     "output_type": "display_data"
    },
    {
     "data": {
      "text/html": [
       "\n",
       "    <div style='color: blue; font-weight: bold;'>Original: Lord Corlys sails for Dragonstone.</div>\n",
       "    <div style='color: green; font-weight: bold;'>Translated: O Lorde Corlys navega para Pedra do Dragão.</div>\n",
       "    "
      ],
      "text/plain": [
       "<IPython.core.display.HTML object>"
      ]
     },
     "metadata": {},
     "output_type": "display_data"
    },
    {
     "data": {
      "text/html": [
       "\n",
       "    <div style='color: blue; font-weight: bold;'>Original: To declare for his Queen.</div>\n",
       "    <div style='color: green; font-weight: bold;'>Translated: Declarar-se pela sua Rainha.</div>\n",
       "    "
      ],
      "text/plain": [
       "<IPython.core.display.HTML object>"
      ]
     },
     "metadata": {},
     "output_type": "display_data"
    },
    {
     "data": {
      "text/html": [
       "\n",
       "    <div style='color: blue; font-weight: bold;'>Original: The Velaryon fleet\n",
       "is in my husband's yoke.</div>\n",
       "    <div style='color: green; font-weight: bold;'>Translated: A frota Velaryon\n",
       "está sob o jugo do meu marido.</div>\n",
       "    "
      ],
      "text/plain": [
       "<IPython.core.display.HTML object>"
      ]
     },
     "metadata": {},
     "output_type": "display_data"
    },
    {
     "data": {
      "text/html": [
       "\n",
       "    <div style='color: blue; font-weight: bold;'>Original: He decides where they sail.</div>\n",
       "    <div style='color: green; font-weight: bold;'>Translated: Ele decide para onde navegam.</div>\n",
       "    "
      ],
      "text/plain": [
       "<IPython.core.display.HTML object>"
      ]
     },
     "metadata": {},
     "output_type": "display_data"
    },
    {
     "data": {
      "text/html": [
       "\n",
       "    <div style='color: blue; font-weight: bold;'>Original: We shall pray for both you\n",
       "and your husband's support.</div>\n",
       "    <div style='color: green; font-weight: bold;'>Translated: Vamos rezar por ti e pelo apoio do teu marido.</div>\n",
       "    "
      ],
      "text/plain": [
       "<IPython.core.display.HTML object>"
      ]
     },
     "metadata": {},
     "output_type": "display_data"
    },
    {
     "data": {
      "text/html": [
       "\n",
       "    <div style='color: blue; font-weight: bold;'>Original: Just as we prayed nightly\n",
       "for the Sea Snake's return to good health.</div>\n",
       "    <div style='color: green; font-weight: bold;'>Translated: Assim como rezávamos todas as noites\n",
       "pela recuperação da saúde do Serpente do Mar.</div>\n",
       "    "
      ],
      "text/plain": [
       "<IPython.core.display.HTML object>"
      ]
     },
     "metadata": {},
     "output_type": "display_data"
    },
    {
     "data": {
      "text/html": [
       "\n",
       "    <div style='color: blue; font-weight: bold;'>Original: There's no port on the Narrow Sea\n",
       "would dare to make</div>\n",
       "    <div style='color: green; font-weight: bold;'>Translated: Não há porto no Mar Estreito\n",
       "que ousasse fazer</div>\n",
       "    "
      ],
      "text/plain": [
       "<IPython.core.display.HTML object>"
      ]
     },
     "metadata": {},
     "output_type": "display_data"
    },
    {
     "data": {
      "text/html": [
       "\n",
       "    <div style='color: blue; font-weight: bold;'>Original: an enemy of the Velaryon fleet.</div>\n",
       "    <div style='color: green; font-weight: bold;'>Translated: um inimigo da frota Velaryon.</div>\n",
       "    "
      ],
      "text/plain": [
       "<IPython.core.display.HTML object>"
      ]
     },
     "metadata": {},
     "output_type": "display_data"
    },
    {
     "data": {
      "text/html": [
       "\n",
       "    <div style='color: blue; font-weight: bold;'>Original: -And our enemies?\n",
       "-We have no friends among the Lannisters.</div>\n",
       "    <div style='color: green; font-weight: bold;'>Translated: -E os nossos inimigos?\n",
       "-Não temos amigos entre os Lannisters.</div>\n",
       "    "
      ],
      "text/plain": [
       "<IPython.core.display.HTML object>"
      ]
     },
     "metadata": {},
     "output_type": "display_data"
    },
    {
     "data": {
      "text/html": [
       "\n",
       "    <div style='color: blue; font-weight: bold;'>Original: Tyland has served the Hand\n",
       "too long to turn against him.</div>\n",
       "    <div style='color: green; font-weight: bold;'>Translated: Tyland serviu a Mão\n",
       "há demasiado tempo para se voltar contra ele.</div>\n",
       "    "
      ],
      "text/plain": [
       "<IPython.core.display.HTML object>"
      ]
     },
     "metadata": {},
     "output_type": "display_data"
    },
    {
     "data": {
      "text/html": [
       "\n",
       "    <div style='color: blue; font-weight: bold;'>Original: And Otto Hightower\n",
       "needs the Lannister fleet.</div>\n",
       "    <div style='color: green; font-weight: bold;'>Translated: E Otto Hightower\n",
       "precisa da frota Lannister.</div>\n",
       "    "
      ],
      "text/plain": [
       "<IPython.core.display.HTML object>"
      ]
     },
     "metadata": {},
     "output_type": "display_data"
    },
    {
     "data": {
      "text/html": [
       "\n",
       "    <div style='color: blue; font-weight: bold;'>Original: Without the Lannisters,\n",
       "we are not like to find</div>\n",
       "    <div style='color: green; font-weight: bold;'>Translated: Sem os Lannisters,\n",
       "não é provável que encontremos</div>\n",
       "    "
      ],
      "text/plain": [
       "<IPython.core.display.HTML object>"
      ]
     },
     "metadata": {},
     "output_type": "display_data"
    },
    {
     "data": {
      "text/html": [
       "\n",
       "    <div style='color: blue; font-weight: bold;'>Original: -any allies west of the Golden Tooth.\n",
       "-No.</div>\n",
       "    <div style='color: green; font-weight: bold;'>Translated: -aliados a oeste do Dente Dourado.\n",
       "-Não.</div>\n",
       "    "
      ],
      "text/plain": [
       "<IPython.core.display.HTML object>"
      ]
     },
     "metadata": {},
     "output_type": "display_data"
    },
    {
     "data": {
      "text/html": [
       "\n",
       "    <div style='color: blue; font-weight: bold;'>Original: The Riverlands are essential,\n",
       "Your Grace.</div>\n",
       "    <div style='color: green; font-weight: bold;'>Translated: Os Territórios Fluviais são essenciais,\n",
       "Vossa Graça.</div>\n",
       "    "
      ],
      "text/plain": [
       "<IPython.core.display.HTML object>"
      ]
     },
     "metadata": {},
     "output_type": "display_data"
    },
    {
     "data": {
      "text/html": [
       "\n",
       "    <div style='color: blue; font-weight: bold;'>Original: Pray forgive my bluntness, Your Grace,\n",
       "but talk of men is moot.</div>\n",
       "    <div style='color: green; font-weight: bold;'>Translated: Peço perdão pela minha franqueza, Vossa Graça,\n",
       "mas falar de homens é inútil.</div>\n",
       "    "
      ],
      "text/plain": [
       "<IPython.core.display.HTML object>"
      ]
     },
     "metadata": {},
     "output_type": "display_data"
    },
    {
     "data": {
      "text/html": [
       "\n",
       "    <div style='color: blue; font-weight: bold;'>Original: Your cause owns a power\n",
       "that has not been seen in this world</div>\n",
       "    <div style='color: green; font-weight: bold;'>Translated: A tua causa possui um poder\n",
       "que nunca foi visto neste mundo</div>\n",
       "    "
      ],
      "text/plain": [
       "<IPython.core.display.HTML object>"
      ]
     },
     "metadata": {},
     "output_type": "display_data"
    },
    {
     "data": {
      "text/html": [
       "\n",
       "    <div style='color: blue; font-weight: bold;'>Original: since the days of Old Valyria.</div>\n",
       "    <div style='color: green; font-weight: bold;'>Translated: desde os tempos da Velha Valíria.</div>\n",
       "    "
      ],
      "text/plain": [
       "<IPython.core.display.HTML object>"
      ]
     },
     "metadata": {},
     "output_type": "display_data"
    },
    {
     "data": {
      "text/html": [
       "\n",
       "    <div style='color: blue; font-weight: bold;'>Original: Dragons.</div>\n",
       "    <div style='color: green; font-weight: bold;'>Translated: Dragões.</div>\n",
       "    "
      ],
      "text/plain": [
       "<IPython.core.display.HTML object>"
      ]
     },
     "metadata": {},
     "output_type": "display_data"
    },
    {
     "data": {
      "text/html": [
       "\n",
       "    <div style='color: blue; font-weight: bold;'>Original: The Greens have dragons as well.</div>\n",
       "    <div style='color: green; font-weight: bold;'>Translated: Os Verdes também têm dragões.</div>\n",
       "    "
      ],
      "text/plain": [
       "<IPython.core.display.HTML object>"
      ]
     },
     "metadata": {},
     "output_type": "display_data"
    },
    {
     "data": {
      "text/html": [
       "\n",
       "    <div style='color: blue; font-weight: bold;'>Original: They have three adults, by my count.</div>\n",
       "    <div style='color: green; font-weight: bold;'>Translated: Eles têm três adultos, segundo as minhas contas.</div>\n",
       "    "
      ],
      "text/plain": [
       "<IPython.core.display.HTML object>"
      ]
     },
     "metadata": {},
     "output_type": "display_data"
    },
    {
     "data": {
      "text/html": [
       "\n",
       "    <div style='color: blue; font-weight: bold;'>Original: We have Syrax, Caraxes, and Meleys.</div>\n",
       "    <div style='color: green; font-weight: bold;'>Translated: Temos Syrax, Caraxes e Meleys.</div>\n",
       "    "
      ],
      "text/plain": [
       "<IPython.core.display.HTML object>"
      ]
     },
     "metadata": {},
     "output_type": "display_data"
    },
    {
     "data": {
      "text/html": [
       "\n",
       "    <div style='color: blue; font-weight: bold;'>Original: Your sons have Vermax, Arrax, and Tyraxes.</div>\n",
       "    <div style='color: green; font-weight: bold;'>Translated: Os seus filhos têm o Vermax, o Arrax e o Tyraxes.</div>\n",
       "    "
      ],
      "text/plain": [
       "<IPython.core.display.HTML object>"
      ]
     },
     "metadata": {},
     "output_type": "display_data"
    },
    {
     "data": {
      "text/html": [
       "\n",
       "    <div style='color: blue; font-weight: bold;'>Original: Baela has Moondancer.</div>\n",
       "    <div style='color: green; font-weight: bold;'>Translated: Baela tem o Moondancer.</div>\n",
       "    "
      ],
      "text/plain": [
       "<IPython.core.display.HTML object>"
      ]
     },
     "metadata": {},
     "output_type": "display_data"
    },
    {
     "data": {
      "text/html": [
       "\n",
       "    <div style='color: blue; font-weight: bold;'>Original: Daemon, none of our dragons\n",
       "have been to war.</div>\n",
       "    <div style='color: green; font-weight: bold;'>Translated: Daemon, nenhum dos nossos dragões\n",
       "esteve em guerra.</div>\n",
       "    "
      ],
      "text/plain": [
       "<IPython.core.display.HTML object>"
      ]
     },
     "metadata": {},
     "output_type": "display_data"
    },
    {
     "data": {
      "text/html": [
       "\n",
       "    <div style='color: blue; font-weight: bold;'>Original: There are also unclaimed dragons.</div>\n",
       "    <div style='color: green; font-weight: bold;'>Translated: Também existem dragões não reclamados.</div>\n",
       "    "
      ],
      "text/plain": [
       "<IPython.core.display.HTML object>"
      ]
     },
     "metadata": {},
     "output_type": "display_data"
    },
    {
     "data": {
      "text/html": [
       "\n",
       "    <div style='color: blue; font-weight: bold;'>Original: Seasmoke still resides on Driftmark.</div>\n",
       "    <div style='color: green; font-weight: bold;'>Translated: O Seasmoke ainda reside em Driftmark.</div>\n",
       "    "
      ],
      "text/plain": [
       "<IPython.core.display.HTML object>"
      ]
     },
     "metadata": {},
     "output_type": "display_data"
    },
    {
     "data": {
      "text/html": [
       "\n",
       "    <div style='color: blue; font-weight: bold;'>Original: Vermithor and Silverwing\n",
       "dwell on the Dragonmont,</div>\n",
       "    <div style='color: green; font-weight: bold;'>Translated: Vermithor e Silverwing\n",
       "habitam no Monte Dragão,</div>\n",
       "    "
      ],
      "text/plain": [
       "<IPython.core.display.HTML object>"
      ]
     },
     "metadata": {},
     "output_type": "display_data"
    },
    {
     "data": {
      "text/html": [
       "\n",
       "    <div style='color: blue; font-weight: bold;'>Original: still riderless.</div>\n",
       "    <div style='color: green; font-weight: bold;'>Translated: ainda sem cavaleiro.</div>\n",
       "    "
      ],
      "text/plain": [
       "<IPython.core.display.HTML object>"
      ]
     },
     "metadata": {},
     "output_type": "display_data"
    },
    {
     "data": {
      "text/html": [
       "\n",
       "    <div style='color: blue; font-weight: bold;'>Original: Then there are the three wild dragons,\n",
       "all of whom nest here.</div>\n",
       "    <div style='color: green; font-weight: bold;'>Translated: Depois, há os três dragões selvagens,\n",
       "todos eles nidificam aqui.</div>\n",
       "    "
      ],
      "text/plain": [
       "<IPython.core.display.HTML object>"
      ]
     },
     "metadata": {},
     "output_type": "display_data"
    },
    {
     "data": {
      "text/html": [
       "\n",
       "    <div style='color: blue; font-weight: bold;'>Original: And who is to ride them?</div>\n",
       "    <div style='color: green; font-weight: bold;'>Translated: E quem vai montá-los?</div>\n",
       "    "
      ],
      "text/plain": [
       "<IPython.core.display.HTML object>"
      ]
     },
     "metadata": {},
     "output_type": "display_data"
    },
    {
     "data": {
      "text/html": [
       "\n",
       "    <div style='color: blue; font-weight: bold;'>Original: Dragonstone has 13 to their 4.</div>\n",
       "    <div style='color: green; font-weight: bold;'>Translated: Dragonstone tem 13 para os 4 deles.</div>\n",
       "    "
      ],
      "text/plain": [
       "<IPython.core.display.HTML object>"
      ]
     },
     "metadata": {},
     "output_type": "display_data"
    },
    {
     "data": {
      "text/html": [
       "\n",
       "    <div style='color: blue; font-weight: bold;'>Original: I also have a score of eggs\n",
       "incubating in the Dragonmont.</div>\n",
       "    <div style='color: green; font-weight: bold;'>Translated: Também tenho uma ninhada de ovos a incubar no Monte Dragão.</div>\n",
       "    "
      ],
      "text/plain": [
       "<IPython.core.display.HTML object>"
      ]
     },
     "metadata": {},
     "output_type": "display_data"
    },
    {
     "data": {
      "text/html": [
       "\n",
       "    <div style='color: blue; font-weight: bold;'>Original: Now... we need a place to gather,</div>\n",
       "    <div style='color: green; font-weight: bold;'>Translated: Agora... precisamos de um lugar para nos reunirmos,</div>\n",
       "    "
      ],
      "text/plain": [
       "<IPython.core.display.HTML object>"
      ]
     },
     "metadata": {},
     "output_type": "display_data"
    },
    {
     "data": {
      "text/html": [
       "\n",
       "    <div style='color: blue; font-weight: bold;'>Original: a toehold large enough\n",
       "to house a sizable host.</div>\n",
       "    <div style='color: green; font-weight: bold;'>Translated: um ponto de apoio suficientemente grande\n",
       "para albergar um grupo considerável.</div>\n",
       "    "
      ],
      "text/plain": [
       "<IPython.core.display.HTML object>"
      ]
     },
     "metadata": {},
     "output_type": "display_data"
    },
    {
     "data": {
      "text/html": [
       "\n",
       "    <div style='color: blue; font-weight: bold;'>Original: Here, at Harrenhal.</div>\n",
       "    <div style='color: green; font-weight: bold;'>Translated: Aqui, em Harrenhal.</div>\n",
       "    "
      ],
      "text/plain": [
       "<IPython.core.display.HTML object>"
      ]
     },
     "metadata": {},
     "output_type": "display_data"
    },
    {
     "data": {
      "text/html": [
       "\n",
       "    <div style='color: blue; font-weight: bold;'>Original: We cut off the west,\n",
       "surround King's Landing with the dragons.</div>\n",
       "    <div style='color: green; font-weight: bold;'>Translated: Cortamos o oeste,\n",
       "cercamos Porto Real com os dragões.</div>\n",
       "    "
      ],
      "text/plain": [
       "<IPython.core.display.HTML object>"
      ]
     },
     "metadata": {},
     "output_type": "display_data"
    },
    {
     "data": {
      "text/html": [
       "\n",
       "    <div style='color: blue; font-weight: bold;'>Original: And we could have every Green head\n",
       "mounted on spikes</div>\n",
       "    <div style='color: green; font-weight: bold;'>Translated: E poderíamos ter todas as cabeças verdes\n",
       "montadas em estacas</div>\n",
       "    "
      ],
      "text/plain": [
       "<IPython.core.display.HTML object>"
      ]
     },
     "metadata": {},
     "output_type": "display_data"
    },
    {
     "data": {
      "text/html": [
       "\n",
       "    <div style='color: blue; font-weight: bold;'>Original: before the fucking moon turns.</div>\n",
       "    <div style='color: green; font-weight: bold;'>Translated: antes que a maldita lua vire.</div>\n",
       "    "
      ],
      "text/plain": [
       "<IPython.core.display.HTML object>"
      ]
     },
     "metadata": {},
     "output_type": "display_data"
    },
    {
     "data": {
      "text/html": [
       "\n",
       "    <div style='color: blue; font-weight: bold;'>Original: Your Grace...</div>\n",
       "    <div style='color: green; font-weight: bold;'>Translated: Vossa Graça...</div>\n",
       "    "
      ],
      "text/plain": [
       "<IPython.core.display.HTML object>"
      ]
     },
     "metadata": {},
     "output_type": "display_data"
    },
    {
     "data": {
      "text/html": [
       "\n",
       "    <div style='color: blue; font-weight: bold;'>Original: a ship has been sighted offshore:</div>\n",
       "    <div style='color: green; font-weight: bold;'>Translated: foi avistado um navio ao largo da costa:</div>\n",
       "    "
      ],
      "text/plain": [
       "<IPython.core.display.HTML object>"
      ]
     },
     "metadata": {},
     "output_type": "display_data"
    },
    {
     "data": {
      "text/html": [
       "\n",
       "    <div style='color: blue; font-weight: bold;'>Original: a lone galleon, flying a banner\n",
       "of a three-headed green dragon.</div>\n",
       "    <div style='color: green; font-weight: bold;'>Translated: um galeão solitário, ostentando uma bandeira\n",
       "de um dragão verde de três cabeças.</div>\n",
       "    "
      ],
      "text/plain": [
       "<IPython.core.display.HTML object>"
      ]
     },
     "metadata": {},
     "output_type": "display_data"
    },
    {
     "data": {
      "text/html": [
       "\n",
       "    <div style='color: blue; font-weight: bold;'>Original: Alert the watchtowers. Sight the skies.</div>\n",
       "    <div style='color: green; font-weight: bold;'>Translated: Alertem as torres de vigia. Observem os céus.</div>\n",
       "    "
      ],
      "text/plain": [
       "<IPython.core.display.HTML object>"
      ]
     },
     "metadata": {},
     "output_type": "display_data"
    },
    {
     "data": {
      "text/html": [
       "\n",
       "    <div style='color: blue; font-weight: bold;'>Original: I come at the behest\n",
       "of the Dowager Queen Alicent,</div>\n",
       "    <div style='color: green; font-weight: bold;'>Translated: Venho a mando\n",
       "da Rainha Viúva Alicent,</div>\n",
       "    "
      ],
      "text/plain": [
       "<IPython.core.display.HTML object>"
      ]
     },
     "metadata": {},
     "output_type": "display_data"
    },
    {
     "data": {
      "text/html": [
       "\n",
       "    <div style='color: blue; font-weight: bold;'>Original: mother of King Aegon, Second of His Name,</div>\n",
       "    <div style='color: green; font-weight: bold;'>Translated: mãe do Rei Aegon, Segundo do Seu Nome,</div>\n",
       "    "
      ],
      "text/plain": [
       "<IPython.core.display.HTML object>"
      ]
     },
     "metadata": {},
     "output_type": "display_data"
    },
    {
     "data": {
      "text/html": [
       "\n",
       "    <div style='color: blue; font-weight: bold;'>Original: Lord and Protector of the Seven Kingdoms.</div>\n",
       "    <div style='color: green; font-weight: bold;'>Translated: Senhor e Protetor dos Sete Reinos.</div>\n",
       "    "
      ],
      "text/plain": [
       "<IPython.core.display.HTML object>"
      ]
     },
     "metadata": {},
     "output_type": "display_data"
    },
    {
     "data": {
      "text/html": [
       "\n",
       "    <div style='color: blue; font-weight: bold;'>Original: I've been directed to deliver her message\n",
       "only to Princess Rhaenyra.</div>\n",
       "    <div style='color: green; font-weight: bold;'>Translated: Fui encarregado de entregar a mensagem dela\n",
       "apenas à Princesa Rhaenyra.</div>\n",
       "    "
      ],
      "text/plain": [
       "<IPython.core.display.HTML object>"
      ]
     },
     "metadata": {},
     "output_type": "display_data"
    },
    {
     "data": {
      "text/html": [
       "\n",
       "    <div style='color: blue; font-weight: bold;'>Original: Where is the Princess?</div>\n",
       "    <div style='color: green; font-weight: bold;'>Translated: Onde está a Princesa?</div>\n",
       "    "
      ],
      "text/plain": [
       "<IPython.core.display.HTML object>"
      ]
     },
     "metadata": {},
     "output_type": "display_data"
    },
    {
     "data": {
      "text/html": [
       "\n",
       "    <div style='color: blue; font-weight: bold;'>Original: Princess Rhaenyra.</div>\n",
       "    <div style='color: green; font-weight: bold;'>Translated: Princesa Rhaenyra.</div>\n",
       "    "
      ],
      "text/plain": [
       "<IPython.core.display.HTML object>"
      ]
     },
     "metadata": {},
     "output_type": "display_data"
    },
    {
     "data": {
      "text/html": [
       "\n",
       "    <div style='color: blue; font-weight: bold;'>Original: I'm Queen Rhaenyra now.</div>\n",
       "    <div style='color: green; font-weight: bold;'>Translated: Sou a Rainha Rhaenyra agora.</div>\n",
       "    "
      ],
      "text/plain": [
       "<IPython.core.display.HTML object>"
      ]
     },
     "metadata": {},
     "output_type": "display_data"
    },
    {
     "data": {
      "text/html": [
       "\n",
       "    <div style='color: blue; font-weight: bold;'>Original: And you all are traitors to the realm.</div>\n",
       "    <div style='color: green; font-weight: bold;'>Translated: E todos vocês são traidores do reino.</div>\n",
       "    "
      ],
      "text/plain": [
       "<IPython.core.display.HTML object>"
      ]
     },
     "metadata": {},
     "output_type": "display_data"
    },
    {
     "data": {
      "text/html": [
       "\n",
       "    <div style='color: blue; font-weight: bold;'>Original: King Aegon Targaryen,\n",
       "Second of His Name...</div>\n",
       "    <div style='color: green; font-weight: bold;'>Translated: Rei Aegon Targaryen,\n",
       "Segundo do Seu Nome...</div>\n",
       "    "
      ],
      "text/plain": [
       "<IPython.core.display.HTML object>"
      ]
     },
     "metadata": {},
     "output_type": "display_data"
    },
    {
     "data": {
      "text/html": [
       "\n",
       "    <div style='color: blue; font-weight: bold;'>Original: in his wisdom and desire for peace,</div>\n",
       "    <div style='color: green; font-weight: bold;'>Translated: na sua sabedoria e desejo de paz,</div>\n",
       "    "
      ],
      "text/plain": [
       "<IPython.core.display.HTML object>"
      ]
     },
     "metadata": {},
     "output_type": "display_data"
    },
    {
     "data": {
      "text/html": [
       "\n",
       "    <div style='color: blue; font-weight: bold;'>Original: is offering terms.</div>\n",
       "    <div style='color: green; font-weight: bold;'>Translated: está a oferecer condições.</div>\n",
       "    "
      ],
      "text/plain": [
       "<IPython.core.display.HTML object>"
      ]
     },
     "metadata": {},
     "output_type": "display_data"
    },
    {
     "data": {
      "text/html": [
       "\n",
       "    <div style='color: blue; font-weight: bold;'>Original: Acknowledge Aegon as king</div>\n",
       "    <div style='color: green; font-weight: bold;'>Translated: Reconhece Aegon como rei</div>\n",
       "    "
      ],
      "text/plain": [
       "<IPython.core.display.HTML object>"
      ]
     },
     "metadata": {},
     "output_type": "display_data"
    },
    {
     "data": {
      "text/html": [
       "\n",
       "    <div style='color: blue; font-weight: bold;'>Original: and swear obeisance\n",
       "before the Iron Throne.</div>\n",
       "    <div style='color: green; font-weight: bold;'>Translated: e prestar obediência\n",
       "perante o Trono de Ferro.</div>\n",
       "    "
      ],
      "text/plain": [
       "<IPython.core.display.HTML object>"
      ]
     },
     "metadata": {},
     "output_type": "display_data"
    },
    {
     "data": {
      "text/html": [
       "\n",
       "    <div style='color: blue; font-weight: bold;'>Original: In exchange, His Grace will confirm\n",
       "your possession of Dragonstone.</div>\n",
       "    <div style='color: green; font-weight: bold;'>Translated: Em troca, Sua Graça confirmará\n",
       "a sua posse de Pedra do Dragão.</div>\n",
       "    "
      ],
      "text/plain": [
       "<IPython.core.display.HTML object>"
      ]
     },
     "metadata": {},
     "output_type": "display_data"
    },
    {
     "data": {
      "text/html": [
       "\n",
       "    <div style='color: blue; font-weight: bold;'>Original: It will pass to your trueborn son,\n",
       "Jacaerys, upon your death.</div>\n",
       "    <div style='color: green; font-weight: bold;'>Translated: Passará para o teu filho legítimo, Jacaerys, após a tua morte.</div>\n",
       "    "
      ],
      "text/plain": [
       "<IPython.core.display.HTML object>"
      ]
     },
     "metadata": {},
     "output_type": "display_data"
    },
    {
     "data": {
      "text/html": [
       "\n",
       "    <div style='color: blue; font-weight: bold;'>Original: Lucerys will be confirmed\n",
       "as the legitimate heir to Driftmark</div>\n",
       "    <div style='color: green; font-weight: bold;'>Translated: Lucerys será confirmado\n",
       "como o herdeiro legítimo de Driftmark</div>\n",
       "    "
      ],
      "text/plain": [
       "<IPython.core.display.HTML object>"
      ]
     },
     "metadata": {},
     "output_type": "display_data"
    },
    {
     "data": {
      "text/html": [
       "\n",
       "    <div style='color: blue; font-weight: bold;'>Original: and all the lands and holdings\n",
       "of House Velaryon.</div>\n",
       "    <div style='color: green; font-weight: bold;'>Translated: e todas as terras e posses\n",
       "da Casa Velaryon.</div>\n",
       "    "
      ],
      "text/plain": [
       "<IPython.core.display.HTML object>"
      ]
     },
     "metadata": {},
     "output_type": "display_data"
    },
    {
     "data": {
      "text/html": [
       "\n",
       "    <div style='color: blue; font-weight: bold;'>Original: Your sons by Prince Daemon</div>\n",
       "    <div style='color: green; font-weight: bold;'>Translated: Os vossos filhos do Príncipe Daemon</div>\n",
       "    "
      ],
      "text/plain": [
       "<IPython.core.display.HTML object>"
      ]
     },
     "metadata": {},
     "output_type": "display_data"
    },
    {
     "data": {
      "text/html": [
       "\n",
       "    <div style='color: blue; font-weight: bold;'>Original: will also be given places\n",
       "of high honor at court:</div>\n",
       "    <div style='color: green; font-weight: bold;'>Translated: também receberão lugares\n",
       "de grande honra na corte:</div>\n",
       "    "
      ],
      "text/plain": [
       "<IPython.core.display.HTML object>"
      ]
     },
     "metadata": {},
     "output_type": "display_data"
    },
    {
     "data": {
      "text/html": [
       "\n",
       "    <div style='color: blue; font-weight: bold;'>Original: Aegon the Younger as the King's squire,</div>\n",
       "    <div style='color: green; font-weight: bold;'>Translated: Aegon, o Jovem, como escudeiro do Rei,</div>\n",
       "    "
      ],
      "text/plain": [
       "<IPython.core.display.HTML object>"
      ]
     },
     "metadata": {},
     "output_type": "display_data"
    },
    {
     "data": {
      "text/html": [
       "\n",
       "    <div style='color: blue; font-weight: bold;'>Original: Viserys as his cupbearer.</div>\n",
       "    <div style='color: green; font-weight: bold;'>Translated: Viserys como seu copeiro.</div>\n",
       "    "
      ],
      "text/plain": [
       "<IPython.core.display.HTML object>"
      ]
     },
     "metadata": {},
     "output_type": "display_data"
    },
    {
     "data": {
      "text/html": [
       "\n",
       "    <div style='color: blue; font-weight: bold;'>Original: Finally, the King, in his good grace,</div>\n",
       "    <div style='color: green; font-weight: bold;'>Translated: Finalmente, o Rei, na sua boa graça,</div>\n",
       "    "
      ],
      "text/plain": [
       "<IPython.core.display.HTML object>"
      ]
     },
     "metadata": {},
     "output_type": "display_data"
    },
    {
     "data": {
      "text/html": [
       "\n",
       "    <div style='color: blue; font-weight: bold;'>Original: will pardon any knight or lord\n",
       "who conspired against his ascent.</div>\n",
       "    <div style='color: green; font-weight: bold;'>Translated: perdoará qualquer cavaleiro ou senhor\n",
       "que conspirou contra a sua ascensão.</div>\n",
       "    "
      ],
      "text/plain": [
       "<IPython.core.display.HTML object>"
      ]
     },
     "metadata": {},
     "output_type": "display_data"
    },
    {
     "data": {
      "text/html": [
       "\n",
       "    <div style='color: blue; font-weight: bold;'>Original: I would rather feed my sons to the dragons</div>\n",
       "    <div style='color: green; font-weight: bold;'>Translated: Prefiro alimentar os meus filhos aos dragões.</div>\n",
       "    "
      ],
      "text/plain": [
       "<IPython.core.display.HTML object>"
      ]
     },
     "metadata": {},
     "output_type": "display_data"
    },
    {
     "data": {
      "text/html": [
       "\n",
       "    <div style='color: blue; font-weight: bold;'>Original: than have them carry shields and cups</div>\n",
       "    <div style='color: green; font-weight: bold;'>Translated: do que tê-los a carregar escudos e copos</div>\n",
       "    "
      ],
      "text/plain": [
       "<IPython.core.display.HTML object>"
      ]
     },
     "metadata": {},
     "output_type": "display_data"
    },
    {
     "data": {
      "text/html": [
       "\n",
       "    <div style='color: blue; font-weight: bold;'>Original: for your drunken, usurper cunt of a king.</div>\n",
       "    <div style='color: green; font-weight: bold;'>Translated: para o teu rei bêbado e usurpador.</div>\n",
       "    "
      ],
      "text/plain": [
       "<IPython.core.display.HTML object>"
      ]
     },
     "metadata": {},
     "output_type": "display_data"
    },
    {
     "data": {
      "text/html": [
       "\n",
       "    <div style='color: blue; font-weight: bold;'>Original: Aegon Targaryen sits the Iron Throne.</div>\n",
       "    <div style='color: green; font-weight: bold;'>Translated: Aegon Targaryen ocupa o Trono de Ferro.</div>\n",
       "    "
      ],
      "text/plain": [
       "<IPython.core.display.HTML object>"
      ]
     },
     "metadata": {},
     "output_type": "display_data"
    },
    {
     "data": {
      "text/html": [
       "\n",
       "    <div style='color: blue; font-weight: bold;'>Original: He wears the Conqueror's crown,</div>\n",
       "    <div style='color: green; font-weight: bold;'>Translated: Ele usa a coroa do Conquistador,</div>\n",
       "    "
      ],
      "text/plain": [
       "<IPython.core.display.HTML object>"
      ]
     },
     "metadata": {},
     "output_type": "display_data"
    },
    {
     "data": {
      "text/html": [
       "\n",
       "    <div style='color: blue; font-weight: bold;'>Original: wields the Conqueror's sword,</div>\n",
       "    <div style='color: green; font-weight: bold;'>Translated: empunha a espada do Conquistador,</div>\n",
       "    "
      ],
      "text/plain": [
       "<IPython.core.display.HTML object>"
      ]
     },
     "metadata": {},
     "output_type": "display_data"
    },
    {
     "data": {
      "text/html": [
       "\n",
       "    <div style='color: blue; font-weight: bold;'>Original: has the Conqueror's name.</div>\n",
       "    <div style='color: green; font-weight: bold;'>Translated: tem o nome do Conquistador.</div>\n",
       "    "
      ],
      "text/plain": [
       "<IPython.core.display.HTML object>"
      ]
     },
     "metadata": {},
     "output_type": "display_data"
    },
    {
     "data": {
      "text/html": [
       "\n",
       "    <div style='color: blue; font-weight: bold;'>Original: He was anointed by a septon of the Faith</div>\n",
       "    <div style='color: green; font-weight: bold;'>Translated: Ele foi ungido por um septão da Fé.</div>\n",
       "    "
      ],
      "text/plain": [
       "<IPython.core.display.HTML object>"
      ]
     },
     "metadata": {},
     "output_type": "display_data"
    },
    {
     "data": {
      "text/html": [
       "\n",
       "    <div style='color: blue; font-weight: bold;'>Original: before the eyes of thousands.</div>\n",
       "    <div style='color: green; font-weight: bold;'>Translated: perante os olhos de milhares.</div>\n",
       "    "
      ],
      "text/plain": [
       "<IPython.core.display.HTML object>"
      ]
     },
     "metadata": {},
     "output_type": "display_data"
    },
    {
     "data": {
      "text/html": [
       "\n",
       "    <div style='color: blue; font-weight: bold;'>Original: Every symbol of legitimacy belongs to him.</div>\n",
       "    <div style='color: green; font-weight: bold;'>Translated: Todos os símbolos de legitimidade pertencem-lhe.</div>\n",
       "    "
      ],
      "text/plain": [
       "<IPython.core.display.HTML object>"
      ]
     },
     "metadata": {},
     "output_type": "display_data"
    },
    {
     "data": {
      "text/html": [
       "\n",
       "    <div style='color: blue; font-weight: bold;'>Original: And then there is Stark, Tully, Baratheon.</div>\n",
       "    <div style='color: green; font-weight: bold;'>Translated: E depois há Stark, Tully, Baratheon.</div>\n",
       "    "
      ],
      "text/plain": [
       "<IPython.core.display.HTML object>"
      ]
     },
     "metadata": {},
     "output_type": "display_data"
    },
    {
     "data": {
      "text/html": [
       "\n",
       "    <div style='color: blue; font-weight: bold;'>Original: Houses that have also received,\n",
       "and are at present,</div>\n",
       "    <div style='color: green; font-weight: bold;'>Translated: Casas que também receberam,\n",
       "e estão atualmente,</div>\n",
       "    "
      ],
      "text/plain": [
       "<IPython.core.display.HTML object>"
      ]
     },
     "metadata": {},
     "output_type": "display_data"
    },
    {
     "data": {
      "text/html": [
       "\n",
       "    <div style='color: blue; font-weight: bold;'>Original: considering generous terms\n",
       "from their king.</div>\n",
       "    <div style='color: green; font-weight: bold;'>Translated: considerando os termos generosos\n",
       "do seu rei.</div>\n",
       "    "
      ],
      "text/plain": [
       "<IPython.core.display.HTML object>"
      ]
     },
     "metadata": {},
     "output_type": "display_data"
    },
    {
     "data": {
      "text/html": [
       "\n",
       "    <div style='color: blue; font-weight: bold;'>Original: Stark, Tully, and Baratheon\n",
       "all swore to me</div>\n",
       "    <div style='color: green; font-weight: bold;'>Translated: Stark, Tully e Baratheon\n",
       "todos me juraram lealdade</div>\n",
       "    "
      ],
      "text/plain": [
       "<IPython.core.display.HTML object>"
      ]
     },
     "metadata": {},
     "output_type": "display_data"
    },
    {
     "data": {
      "text/html": [
       "\n",
       "    <div style='color: blue; font-weight: bold;'>Original: when King Viserys named me his heir.</div>\n",
       "    <div style='color: green; font-weight: bold;'>Translated: quando o Rei Viserys me nomeou seu herdeiro.</div>\n",
       "    "
      ],
      "text/plain": [
       "<IPython.core.display.HTML object>"
      ]
     },
     "metadata": {},
     "output_type": "display_data"
    },
    {
     "data": {
      "text/html": [
       "\n",
       "    <div style='color: blue; font-weight: bold;'>Original: Stale oaths will not put you\n",
       "on the Iron Throne, Princess.</div>\n",
       "    <div style='color: green; font-weight: bold;'>Translated: Juramentos obsoletos não te colocarão no Trono de Ferro, Princesa.</div>\n",
       "    "
      ],
      "text/plain": [
       "<IPython.core.display.HTML object>"
      ]
     },
     "metadata": {},
     "output_type": "display_data"
    },
    {
     "data": {
      "text/html": [
       "\n",
       "    <div style='color: blue; font-weight: bold;'>Original: The succession changed the day\n",
       "your father sired a son.</div>\n",
       "    <div style='color: green; font-weight: bold;'>Translated: A sucessão mudou no dia\n",
       "em que teu pai gerou um filho.</div>\n",
       "    "
      ],
      "text/plain": [
       "<IPython.core.display.HTML object>"
      ]
     },
     "metadata": {},
     "output_type": "display_data"
    },
    {
     "data": {
      "text/html": [
       "\n",
       "    <div style='color: blue; font-weight: bold;'>Original: I only regret that you and he\n",
       "were the last to see the truth of it.</div>\n",
       "    <div style='color: green; font-weight: bold;'>Translated: Lamento apenas que tu e ele\n",
       "tenham sido os últimos a ver a verdade disso.</div>\n",
       "    "
      ],
      "text/plain": [
       "<IPython.core.display.HTML object>"
      ]
     },
     "metadata": {},
     "output_type": "display_data"
    },
    {
     "data": {
      "text/html": [
       "\n",
       "    <div style='color: blue; font-weight: bold;'>Original: You are no more Hand than Aegon is king.</div>\n",
       "    <div style='color: green; font-weight: bold;'>Translated: Não és mais Mão do que Aegon é rei.</div>\n",
       "    "
      ],
      "text/plain": [
       "<IPython.core.display.HTML object>"
      ]
     },
     "metadata": {},
     "output_type": "display_data"
    },
    {
     "data": {
      "text/html": [
       "\n",
       "    <div style='color: blue; font-weight: bold;'>Original: Fucking traitor.</div>\n",
       "    <div style='color: green; font-weight: bold;'>Translated: Traidor maldito.</div>\n",
       "    "
      ],
      "text/plain": [
       "<IPython.core.display.HTML object>"
      ]
     },
     "metadata": {},
     "output_type": "display_data"
    },
    {
     "data": {
      "text/html": [
       "\n",
       "    <div style='color: blue; font-weight: bold;'>Original: Grand Maester.</div>\n",
       "    <div style='color: green; font-weight: bold;'>Translated: Grande Meistre.</div>\n",
       "    "
      ],
      "text/plain": [
       "<IPython.core.display.HTML object>"
      ]
     },
     "metadata": {},
     "output_type": "display_data"
    },
    {
     "data": {
      "text/html": [
       "\n",
       "    <div style='color: blue; font-weight: bold;'>Original: What the fuck is this?</div>\n",
       "    <div style='color: green; font-weight: bold;'>Translated: O que raio é isto?</div>\n",
       "    "
      ],
      "text/plain": [
       "<IPython.core.display.HTML object>"
      ]
     },
     "metadata": {},
     "output_type": "display_data"
    },
    {
     "data": {
      "text/html": [
       "\n",
       "    <div style='color: blue; font-weight: bold;'>Original: Queen Alicent has not forgotten the love\n",
       "you once had for each other.</div>\n",
       "    <div style='color: green; font-weight: bold;'>Translated: A Rainha Alicent não esqueceu o amor\n",
       "que um dia tiveram um pelo outro.</div>\n",
       "    "
      ],
      "text/plain": [
       "<IPython.core.display.HTML object>"
      ]
     },
     "metadata": {},
     "output_type": "display_data"
    },
    {
     "data": {
      "text/html": [
       "\n",
       "    <div style='color: blue; font-weight: bold;'>Original: No blood need be spilled,\n",
       "so the realm can carry on in peace.</div>\n",
       "    <div style='color: green; font-weight: bold;'>Translated: Não é necessário derramar sangue,\n",
       "para que o reino possa continuar em paz.</div>\n",
       "    "
      ],
      "text/plain": [
       "<IPython.core.display.HTML object>"
      ]
     },
     "metadata": {},
     "output_type": "display_data"
    },
    {
     "data": {
      "text/html": [
       "\n",
       "    <div style='color: blue; font-weight: bold;'>Original: Queen Alicent eagerly awaits your answer.</div>\n",
       "    <div style='color: green; font-weight: bold;'>Translated: A Rainha Alicent aguarda ansiosamente pela sua resposta.</div>\n",
       "    "
      ],
      "text/plain": [
       "<IPython.core.display.HTML object>"
      ]
     },
     "metadata": {},
     "output_type": "display_data"
    },
    {
     "data": {
      "text/html": [
       "\n",
       "    <div style='color: blue; font-weight: bold;'>Original: She can have her answer now,\n",
       "stuffed in her father's mouth</div>\n",
       "    <div style='color: green; font-weight: bold;'>Translated: Ela pode ter a sua resposta agora,\n",
       "enfiada na boca do seu pai</div>\n",
       "    "
      ],
      "text/plain": [
       "<IPython.core.display.HTML object>"
      ]
     },
     "metadata": {},
     "output_type": "display_data"
    },
    {
     "data": {
      "text/html": [
       "\n",
       "    <div style='color: blue; font-weight: bold;'>Original: along with his withered cock.</div>\n",
       "    <div style='color: green; font-weight: bold;'>Translated: junto com o seu galo mirrado.</div>\n",
       "    "
      ],
      "text/plain": [
       "<IPython.core.display.HTML object>"
      ]
     },
     "metadata": {},
     "output_type": "display_data"
    },
    {
     "data": {
      "text/html": [
       "\n",
       "    <div style='color: blue; font-weight: bold;'>Original: Let's end this mummer's farce.</div>\n",
       "    <div style='color: green; font-weight: bold;'>Translated: Vamos acabar com esta farsa de mascarados.</div>\n",
       "    "
      ],
      "text/plain": [
       "<IPython.core.display.HTML object>"
      ]
     },
     "metadata": {},
     "output_type": "display_data"
    },
    {
     "data": {
      "text/html": [
       "\n",
       "    <div style='color: blue; font-weight: bold;'>Original: Ser Erryk, bring me Lord Hightower\n",
       "so I may take the pleasure myself.</div>\n",
       "    <div style='color: green; font-weight: bold;'>Translated: Ser Erryk, traga-me o Lorde Hightower para que eu possa ter o prazer pessoalmente.</div>\n",
       "    "
      ],
      "text/plain": [
       "<IPython.core.display.HTML object>"
      ]
     },
     "metadata": {},
     "output_type": "display_data"
    },
    {
     "data": {
      "text/html": [
       "\n",
       "    <div style='color: blue; font-weight: bold;'>Original: No.</div>\n",
       "    <div style='color: green; font-weight: bold;'>Translated: Não.</div>\n",
       "    "
      ],
      "text/plain": [
       "<IPython.core.display.HTML object>"
      ]
     },
     "metadata": {},
     "output_type": "display_data"
    },
    {
     "data": {
      "text/html": [
       "\n",
       "    <div style='color: blue; font-weight: bold;'>Original: King's Landing will have\n",
       "my answer on the morrow.</div>\n",
       "    <div style='color: green; font-weight: bold;'>Translated: Aterragem do Rei terá a minha resposta amanhã.</div>\n",
       "    "
      ],
      "text/plain": [
       "<IPython.core.display.HTML object>"
      ]
     },
     "metadata": {},
     "output_type": "display_data"
    },
    {
     "data": {
      "text/html": [
       "\n",
       "    <div style='color: blue; font-weight: bold;'>Original: It's no easy thing for a man\n",
       "to be a dragonslayer.</div>\n",
       "    <div style='color: green; font-weight: bold;'>Translated: Não é fácil para um homem\n",
       "ser um matador de dragões.</div>\n",
       "    "
      ],
      "text/plain": [
       "<IPython.core.display.HTML object>"
      ]
     },
     "metadata": {},
     "output_type": "display_data"
    },
    {
     "data": {
      "text/html": [
       "\n",
       "    <div style='color: blue; font-weight: bold;'>Original: But dragons can kill dragons. And have.</div>\n",
       "    <div style='color: green; font-weight: bold;'>Translated: Mas os dragões podem matar dragões. E já o fizeram.</div>\n",
       "    "
      ],
      "text/plain": [
       "<IPython.core.display.HTML object>"
      ]
     },
     "metadata": {},
     "output_type": "display_data"
    },
    {
     "data": {
      "text/html": [
       "\n",
       "    <div style='color: blue; font-weight: bold;'>Original: The simple truth is this:\n",
       "we have more dragons than Aegon.</div>\n",
       "    <div style='color: green; font-weight: bold;'>Translated: A verdade simples é esta:\n",
       "temos mais dragões do que Aegon.</div>\n",
       "    "
      ],
      "text/plain": [
       "<IPython.core.display.HTML object>"
      ]
     },
     "metadata": {},
     "output_type": "display_data"
    },
    {
     "data": {
      "text/html": [
       "\n",
       "    <div style='color: blue; font-weight: bold;'>Original: Viserys spoke often\n",
       "of the Valyrian histories.</div>\n",
       "    <div style='color: green; font-weight: bold;'>Translated: Viserys falava frequentemente\n",
       "das histórias de Valyria.</div>\n",
       "    "
      ],
      "text/plain": [
       "<IPython.core.display.HTML object>"
      ]
     },
     "metadata": {},
     "output_type": "display_data"
    },
    {
     "data": {
      "text/html": [
       "\n",
       "    <div style='color: blue; font-weight: bold;'>Original: I know them well.</div>\n",
       "    <div style='color: green; font-weight: bold;'>Translated: Conheço-os bem.</div>\n",
       "    "
      ],
      "text/plain": [
       "<IPython.core.display.HTML object>"
      ]
     },
     "metadata": {},
     "output_type": "display_data"
    },
    {
     "data": {
      "text/html": [
       "\n",
       "    <div style='color: blue; font-weight: bold;'>Original: When dragons flew to war...</div>\n",
       "    <div style='color: green; font-weight: bold;'>Translated: Quando os dragões voaram para a guerra...</div>\n",
       "    "
      ],
      "text/plain": [
       "<IPython.core.display.HTML object>"
      ]
     },
     "metadata": {},
     "output_type": "display_data"
    },
    {
     "data": {
      "text/html": [
       "\n",
       "    <div style='color: blue; font-weight: bold;'>Original: everything burned.</div>\n",
       "    <div style='color: green; font-weight: bold;'>Translated: tudo ardeu.</div>\n",
       "    "
      ],
      "text/plain": [
       "<IPython.core.display.HTML object>"
      ]
     },
     "metadata": {},
     "output_type": "display_data"
    },
    {
     "data": {
      "text/html": [
       "\n",
       "    <div style='color: blue; font-weight: bold;'>Original: I do not wish to rule\n",
       "over a kingdom of ash and bone.</div>\n",
       "    <div style='color: green; font-weight: bold;'>Translated: Não desejo governar\n",
       "um reino de cinza e osso.</div>\n",
       "    "
      ],
      "text/plain": [
       "<IPython.core.display.HTML object>"
      ]
     },
     "metadata": {},
     "output_type": "display_data"
    },
    {
     "data": {
      "text/html": [
       "\n",
       "    <div style='color: blue; font-weight: bold;'>Original: Are you considering the Hightowers' terms,\n",
       "Your Grace?</div>\n",
       "    <div style='color: green; font-weight: bold;'>Translated: Está a considerar os termos dos Hightowers, Vossa Graça?</div>\n",
       "    "
      ],
      "text/plain": [
       "<IPython.core.display.HTML object>"
      ]
     },
     "metadata": {},
     "output_type": "display_data"
    },
    {
     "data": {
      "text/html": [
       "\n",
       "    <div style='color: blue; font-weight: bold;'>Original: As Queen, what is my true duty\n",
       "to the realm, Lord Bartimos?</div>\n",
       "    <div style='color: green; font-weight: bold;'>Translated: Como Rainha, qual é o meu verdadeiro dever para com o reino, Lorde Bartimos?</div>\n",
       "    "
      ],
      "text/plain": [
       "<IPython.core.display.HTML object>"
      ]
     },
     "metadata": {},
     "output_type": "display_data"
    },
    {
     "data": {
      "text/html": [
       "\n",
       "    <div style='color: blue; font-weight: bold;'>Original: Ensuring peace and unity?</div>\n",
       "    <div style='color: green; font-weight: bold;'>Translated: Garantir a paz e a unidade?</div>\n",
       "    "
      ],
      "text/plain": [
       "<IPython.core.display.HTML object>"
      ]
     },
     "metadata": {},
     "output_type": "display_data"
    },
    {
     "data": {
      "text/html": [
       "\n",
       "    <div style='color: blue; font-weight: bold;'>Original: Or that I sit the Iron Throne,\n",
       "no matter the cost?</div>\n",
       "    <div style='color: green; font-weight: bold;'>Translated: Ou que eu ocupe o Trono de Ferro,\n",
       "independentemente do custo?</div>\n",
       "    "
      ],
      "text/plain": [
       "<IPython.core.display.HTML object>"
      ]
     },
     "metadata": {},
     "output_type": "display_data"
    },
    {
     "data": {
      "text/html": [
       "\n",
       "    <div style='color: blue; font-weight: bold;'>Original: -That's your father talking.\n",
       "-My father's dead.</div>\n",
       "    <div style='color: green; font-weight: bold;'>Translated: -É o teu pai a falar.\n",
       "-O meu pai está morto.</div>\n",
       "    "
      ],
      "text/plain": [
       "<IPython.core.display.HTML object>"
      ]
     },
     "metadata": {},
     "output_type": "display_data"
    },
    {
     "data": {
      "text/html": [
       "\n",
       "    <div style='color: blue; font-weight: bold;'>Original: And he chose me as his successor...</div>\n",
       "    <div style='color: green; font-weight: bold;'>Translated: E ele escolheu-me como seu sucessor...</div>\n",
       "    "
      ],
      "text/plain": [
       "<IPython.core.display.HTML object>"
      ]
     },
     "metadata": {},
     "output_type": "display_data"
    },
    {
     "data": {
      "text/html": [
       "\n",
       "    <div style='color: blue; font-weight: bold;'>Original: to defend the realm,\n",
       "not cast it headlong into war.</div>\n",
       "    <div style='color: green; font-weight: bold;'>Translated: defender o reino,\n",
       "não lançá-lo precipitadamente na guerra.</div>\n",
       "    "
      ],
      "text/plain": [
       "<IPython.core.display.HTML object>"
      ]
     },
     "metadata": {},
     "output_type": "display_data"
    },
    {
     "data": {
      "text/html": [
       "\n",
       "    <div style='color: blue; font-weight: bold;'>Original: Well, the enemy have declared war.</div>\n",
       "    <div style='color: green; font-weight: bold;'>Translated: Bem, o inimigo declarou guerra.</div>\n",
       "    "
      ],
      "text/plain": [
       "<IPython.core.display.HTML object>"
      ]
     },
     "metadata": {},
     "output_type": "display_data"
    },
    {
     "data": {
      "text/html": [
       "\n",
       "    <div style='color: blue; font-weight: bold;'>Original: What are you gonna do about it?</div>\n",
       "    <div style='color: green; font-weight: bold;'>Translated: O que vais fazer a respeito?</div>\n",
       "    "
      ],
      "text/plain": [
       "<IPython.core.display.HTML object>"
      ]
     },
     "metadata": {},
     "output_type": "display_data"
    },
    {
     "data": {
      "text/html": [
       "\n",
       "    <div style='color: blue; font-weight: bold;'>Original: Clear the room.</div>\n",
       "    <div style='color: green; font-weight: bold;'>Translated: Desocupem a sala.</div>\n",
       "    "
      ],
      "text/plain": [
       "<IPython.core.display.HTML object>"
      ]
     },
     "metadata": {},
     "output_type": "display_data"
    },
    {
     "data": {
      "text/html": [
       "\n",
       "    <div style='color: blue; font-weight: bold;'>Original: Does the promise of war excite you?</div>\n",
       "    <div style='color: green; font-weight: bold;'>Translated: A promessa de guerra excita-te?</div>\n",
       "    "
      ],
      "text/plain": [
       "<IPython.core.display.HTML object>"
      ]
     },
     "metadata": {},
     "output_type": "display_data"
    },
    {
     "data": {
      "text/html": [
       "\n",
       "    <div style='color: blue; font-weight: bold;'>Original: You cannot bend the knee\n",
       "to the Hightowers.</div>\n",
       "    <div style='color: green; font-weight: bold;'>Translated: Não podes ajoelhar-te perante os Hightowers.</div>\n",
       "    "
      ],
      "text/plain": [
       "<IPython.core.display.HTML object>"
      ]
     },
     "metadata": {},
     "output_type": "display_data"
    },
    {
     "data": {
      "text/html": [
       "\n",
       "    <div style='color: blue; font-weight: bold;'>Original: They stole your birthright.</div>\n",
       "    <div style='color: green; font-weight: bold;'>Translated: Roubaram o teu direito de nascimento.</div>\n",
       "    "
      ],
      "text/plain": [
       "<IPython.core.display.HTML object>"
      ]
     },
     "metadata": {},
     "output_type": "display_data"
    },
    {
     "data": {
      "text/html": [
       "\n",
       "    <div style='color: blue; font-weight: bold;'>Original: If you could take the Iron Throne</div>\n",
       "    <div style='color: green; font-weight: bold;'>Translated: Se pudesses tomar o Trono de Ferro</div>\n",
       "    "
      ],
      "text/plain": [
       "<IPython.core.display.HTML object>"
      ]
     },
     "metadata": {},
     "output_type": "display_data"
    },
    {
     "data": {
      "text/html": [
       "\n",
       "    <div style='color: blue; font-weight: bold;'>Original: without putting Otto Hightower's\n",
       "head on a spike,</div>\n",
       "    <div style='color: green; font-weight: bold;'>Translated: sem colocar a cabeça de Otto Hightower numa estaca,</div>\n",
       "    "
      ],
      "text/plain": [
       "<IPython.core.display.HTML object>"
      ]
     },
     "metadata": {},
     "output_type": "display_data"
    },
    {
     "data": {
      "text/html": [
       "\n",
       "    <div style='color: blue; font-weight: bold;'>Original: -would you?\n",
       "-Are you not angry?</div>\n",
       "    <div style='color: green; font-weight: bold;'>Translated: -aceitarias?\n",
       "-Não estás zangado?</div>\n",
       "    "
      ],
      "text/plain": [
       "<IPython.core.display.HTML object>"
      ]
     },
     "metadata": {},
     "output_type": "display_data"
    },
    {
     "data": {
      "text/html": [
       "\n",
       "    <div style='color: blue; font-weight: bold;'>Original: -I should declare war because I'm angry?\n",
       "-No.</div>\n",
       "    <div style='color: green; font-weight: bold;'>Translated: -Devo declarar guerra porque estou zangado?\n",
       "-Não.</div>\n",
       "    "
      ],
      "text/plain": [
       "<IPython.core.display.HTML object>"
      ]
     },
     "metadata": {},
     "output_type": "display_data"
    },
    {
     "data": {
      "text/html": [
       "\n",
       "    <div style='color: blue; font-weight: bold;'>Original: Because it's your duty\n",
       "as Queen to crush rebellion.</div>\n",
       "    <div style='color: green; font-weight: bold;'>Translated: Porque é o teu dever\n",
       "como Rainha esmagar a rebelião.</div>\n",
       "    "
      ],
      "text/plain": [
       "<IPython.core.display.HTML object>"
      ]
     },
     "metadata": {},
     "output_type": "display_data"
    },
    {
     "data": {
      "text/html": [
       "\n",
       "    <div style='color: blue; font-weight: bold;'>Original: You know my oath\n",
       "reaches beyond our personal ambitions.</div>\n",
       "    <div style='color: green; font-weight: bold;'>Translated: Sabes que o meu juramento\n",
       "ultrapassa as nossas ambições pessoais.</div>\n",
       "    "
      ],
      "text/plain": [
       "<IPython.core.display.HTML object>"
      ]
     },
     "metadata": {},
     "output_type": "display_data"
    },
    {
     "data": {
      "text/html": [
       "\n",
       "    <div style='color: blue; font-weight: bold;'>Original: A Song of Ice and Fire.</div>\n",
       "    <div style='color: green; font-weight: bold;'>Translated: Uma Canção de Gelo e Fogo.</div>\n",
       "    "
      ],
      "text/plain": [
       "<IPython.core.display.HTML object>"
      ]
     },
     "metadata": {},
     "output_type": "display_data"
    },
    {
     "data": {
      "text/html": [
       "\n",
       "    <div style='color: blue; font-weight: bold;'>Original: What?</div>\n",
       "    <div style='color: green; font-weight: bold;'>Translated: O quê?</div>\n",
       "    "
      ],
      "text/plain": [
       "<IPython.core.display.HTML object>"
      ]
     },
     "metadata": {},
     "output_type": "display_data"
    },
    {
     "data": {
      "text/html": [
       "\n",
       "    <div style='color: blue; font-weight: bold;'>Original: The coming war against\n",
       "the darkness in the North,</div>\n",
       "    <div style='color: green; font-weight: bold;'>Translated: A guerra iminente contra\n",
       "a escuridão no Norte,</div>\n",
       "    "
      ],
      "text/plain": [
       "<IPython.core.display.HTML object>"
      ]
     },
     "metadata": {},
     "output_type": "display_data"
    },
    {
     "data": {
      "text/html": [
       "\n",
       "    <div style='color: blue; font-weight: bold;'>Original: The Conqueror's Dream.</div>\n",
       "    <div style='color: green; font-weight: bold;'>Translated: O Sonho do Conquistador.</div>\n",
       "    "
      ],
      "text/plain": [
       "<IPython.core.display.HTML object>"
      ]
     },
     "metadata": {},
     "output_type": "display_data"
    },
    {
     "data": {
      "text/html": [
       "\n",
       "    <div style='color: blue; font-weight: bold;'>Original: Viserys shared it with me\n",
       "when he named me heir.</div>\n",
       "    <div style='color: green; font-weight: bold;'>Translated: Viserys partilhou isso comigo\n",
       "quando me nomeou herdeiro.</div>\n",
       "    "
      ],
      "text/plain": [
       "<IPython.core.display.HTML object>"
      ]
     },
     "metadata": {},
     "output_type": "display_data"
    },
    {
     "data": {
      "text/html": [
       "\n",
       "    <div style='color: blue; font-weight: bold;'>Original: My brother... was a slave to his\n",
       "omens and portents.</div>\n",
       "    <div style='color: green; font-weight: bold;'>Translated: O meu irmão... era escravo dos seus presságios e sinais.</div>\n",
       "    "
      ],
      "text/plain": [
       "<IPython.core.display.HTML object>"
      ]
     },
     "metadata": {},
     "output_type": "display_data"
    },
    {
     "data": {
      "text/html": [
       "\n",
       "    <div style='color: blue; font-weight: bold;'>Original: Anything to make his feckless reign\n",
       "appear to have purpose.</div>\n",
       "    <div style='color: green; font-weight: bold;'>Translated: Qualquer coisa para fazer com que o seu reinado irresponsável pareça ter um propósito.</div>\n",
       "    "
      ],
      "text/plain": [
       "<IPython.core.display.HTML object>"
      ]
     },
     "metadata": {},
     "output_type": "display_data"
    },
    {
     "data": {
      "text/html": [
       "\n",
       "    <div style='color: blue; font-weight: bold;'>Original: Dreams didn't make us kings.</div>\n",
       "    <div style='color: green; font-weight: bold;'>Translated: Os sonhos não nos tornaram reis.</div>\n",
       "    "
      ],
      "text/plain": [
       "<IPython.core.display.HTML object>"
      ]
     },
     "metadata": {},
     "output_type": "display_data"
    },
    {
     "data": {
      "text/html": [
       "\n",
       "    <div style='color: blue; font-weight: bold;'>Original: Dragons did.</div>\n",
       "    <div style='color: green; font-weight: bold;'>Translated: Os dragões fizeram.</div>\n",
       "    "
      ],
      "text/plain": [
       "<IPython.core.display.HTML object>"
      ]
     },
     "metadata": {},
     "output_type": "display_data"
    },
    {
     "data": {
      "text/html": [
       "\n",
       "    <div style='color: blue; font-weight: bold;'>Original: He never told you...</div>\n",
       "    <div style='color: green; font-weight: bold;'>Translated: Ele nunca te disse...</div>\n",
       "    "
      ],
      "text/plain": [
       "<IPython.core.display.HTML object>"
      ]
     },
     "metadata": {},
     "output_type": "display_data"
    },
    {
     "data": {
      "text/html": [
       "\n",
       "    <div style='color: blue; font-weight: bold;'>Original: did he?</div>\n",
       "    <div style='color: green; font-weight: bold;'>Translated: ele fez?</div>\n",
       "    "
      ],
      "text/plain": [
       "<IPython.core.display.HTML object>"
      ]
     },
     "metadata": {},
     "output_type": "display_data"
    },
    {
     "data": {
      "text/html": [
       "\n",
       "    <div style='color: blue; font-weight: bold;'>Original: I've had men whipped for falling asleep\n",
       "on their watch.</div>\n",
       "    <div style='color: green; font-weight: bold;'>Translated: Já mandei chicotear homens por adormecerem durante a vigia.</div>\n",
       "    "
      ],
      "text/plain": [
       "<IPython.core.display.HTML object>"
      ]
     },
     "metadata": {},
     "output_type": "display_data"
    },
    {
     "data": {
      "text/html": [
       "\n",
       "    <div style='color: blue; font-weight: bold;'>Original: You are no man.</div>\n",
       "    <div style='color: green; font-weight: bold;'>Translated: Tu não és um homem.</div>\n",
       "    "
      ],
      "text/plain": [
       "<IPython.core.display.HTML object>"
      ]
     },
     "metadata": {},
     "output_type": "display_data"
    },
    {
     "data": {
      "text/html": [
       "\n",
       "    <div style='color: blue; font-weight: bold;'>Original: You abandoned me...</div>\n",
       "    <div style='color: green; font-weight: bold;'>Translated: Abandonaste-me...</div>\n",
       "    "
      ],
      "text/plain": [
       "<IPython.core.display.HTML object>"
      ]
     },
     "metadata": {},
     "output_type": "display_data"
    },
    {
     "data": {
      "text/html": [
       "\n",
       "    <div style='color: blue; font-weight: bold;'>Original: when I most needed you.</div>\n",
       "    <div style='color: green; font-weight: bold;'>Translated: quando mais precisei de ti.</div>\n",
       "    "
      ],
      "text/plain": [
       "<IPython.core.display.HTML object>"
      ]
     },
     "metadata": {},
     "output_type": "display_data"
    },
    {
     "data": {
      "text/html": [
       "\n",
       "    <div style='color: blue; font-weight: bold;'>Original: Both our children stolen from us.</div>\n",
       "    <div style='color: green; font-weight: bold;'>Translated: Os nossos dois filhos foram-nos roubados.</div>\n",
       "    "
      ],
      "text/plain": [
       "<IPython.core.display.HTML object>"
      ]
     },
     "metadata": {},
     "output_type": "display_data"
    },
    {
     "data": {
      "text/html": [
       "\n",
       "    <div style='color: blue; font-weight: bold;'>Original: I needed you.</div>\n",
       "    <div style='color: green; font-weight: bold;'>Translated: Eu precisava de ti.</div>\n",
       "    "
      ],
      "text/plain": [
       "<IPython.core.display.HTML object>"
      ]
     },
     "metadata": {},
     "output_type": "display_data"
    },
    {
     "data": {
      "text/html": [
       "\n",
       "    <div style='color: blue; font-weight: bold;'>Original: Baela and Rhaena needed you,</div>\n",
       "    <div style='color: green; font-weight: bold;'>Translated: Baela e Rhaena precisavam de ti,</div>\n",
       "    "
      ],
      "text/plain": [
       "<IPython.core.display.HTML object>"
      ]
     },
     "metadata": {},
     "output_type": "display_data"
    },
    {
     "data": {
      "text/html": [
       "\n",
       "    <div style='color: blue; font-weight: bold;'>Original: and you abandoned us\n",
       "for more adventure at sea.</div>\n",
       "    <div style='color: green; font-weight: bold;'>Translated: e abandonaste-nos\n",
       "por mais aventuras no mar.</div>\n",
       "    "
      ],
      "text/plain": [
       "<IPython.core.display.HTML object>"
      ]
     },
     "metadata": {},
     "output_type": "display_data"
    },
    {
     "data": {
      "text/html": [
       "\n",
       "    <div style='color: blue; font-weight: bold;'>Original: As has always been your way.</div>\n",
       "    <div style='color: green; font-weight: bold;'>Translated: Como sempre foi o teu jeito.</div>\n",
       "    "
      ],
      "text/plain": [
       "<IPython.core.display.HTML object>"
      ]
     },
     "metadata": {},
     "output_type": "display_data"
    },
    {
     "data": {
      "text/html": [
       "\n",
       "    <div style='color: blue; font-weight: bold;'>Original: I had no other place to turn.</div>\n",
       "    <div style='color: green; font-weight: bold;'>Translated: Não tinha mais para onde me virar.</div>\n",
       "    "
      ],
      "text/plain": [
       "<IPython.core.display.HTML object>"
      ]
     },
     "metadata": {},
     "output_type": "display_data"
    },
    {
     "data": {
      "text/html": [
       "\n",
       "    <div style='color: blue; font-weight: bold;'>Original: -I lost everything.\n",
       "-We lost, Corlys.</div>\n",
       "    <div style='color: green; font-weight: bold;'>Translated: -Perdi tudo.\n",
       "-Perdemos, Corlys.</div>\n",
       "    "
      ],
      "text/plain": [
       "<IPython.core.display.HTML object>"
      ]
     },
     "metadata": {},
     "output_type": "display_data"
    },
    {
     "data": {
      "text/html": [
       "\n",
       "    <div style='color: blue; font-weight: bold;'>Original: We.</div>\n",
       "    <div style='color: green; font-weight: bold;'>Translated: Nós.</div>\n",
       "    "
      ],
      "text/plain": [
       "<IPython.core.display.HTML object>"
      ]
     },
     "metadata": {},
     "output_type": "display_data"
    },
    {
     "data": {
      "text/html": [
       "\n",
       "    <div style='color: blue; font-weight: bold;'>Original: I understand we have a new king.</div>\n",
       "    <div style='color: green; font-weight: bold;'>Translated: Eu percebo que temos um novo rei.</div>\n",
       "    "
      ],
      "text/plain": [
       "<IPython.core.display.HTML object>"
      ]
     },
     "metadata": {},
     "output_type": "display_data"
    },
    {
     "data": {
      "text/html": [
       "\n",
       "    <div style='color: blue; font-weight: bold;'>Original: The Stranger casts a long shadow\n",
       "over this family.</div>\n",
       "    <div style='color: green; font-weight: bold;'>Translated: O Estranho projeta uma longa sombra\n",
       "sobre esta família.</div>\n",
       "    "
      ],
      "text/plain": [
       "<IPython.core.display.HTML object>"
      ]
     },
     "metadata": {},
     "output_type": "display_data"
    },
    {
     "data": {
      "text/html": [
       "\n",
       "    <div style='color: blue; font-weight: bold;'>Original: Your brother is also dead.</div>\n",
       "    <div style='color: green; font-weight: bold;'>Translated: O teu irmão também está morto.</div>\n",
       "    "
      ],
      "text/plain": [
       "<IPython.core.display.HTML object>"
      ]
     },
     "metadata": {},
     "output_type": "display_data"
    },
    {
     "data": {
      "text/html": [
       "\n",
       "    <div style='color: blue; font-weight: bold;'>Original: In his haste to bury you\n",
       "and claim your seat,</div>\n",
       "    <div style='color: green; font-weight: bold;'>Translated: Na sua pressa de te enterrar\n",
       "e reclamar o teu lugar,</div>\n",
       "    "
      ],
      "text/plain": [
       "<IPython.core.display.HTML object>"
      ]
     },
     "metadata": {},
     "output_type": "display_data"
    },
    {
     "data": {
      "text/html": [
       "\n",
       "    <div style='color: blue; font-weight: bold;'>Original: he stood before the King</div>\n",
       "    <div style='color: green; font-weight: bold;'>Translated: ele estava perante o Rei</div>\n",
       "    "
      ],
      "text/plain": [
       "<IPython.core.display.HTML object>"
      ]
     },
     "metadata": {},
     "output_type": "display_data"
    },
    {
     "data": {
      "text/html": [
       "\n",
       "    <div style='color: blue; font-weight: bold;'>Original: and denounced\n",
       "Laenor's sons as illegitimate.</div>\n",
       "    <div style='color: green; font-weight: bold;'>Translated: e denunciou os filhos de Laenor como ilegítimos.</div>\n",
       "    "
      ],
      "text/plain": [
       "<IPython.core.display.HTML object>"
      ]
     },
     "metadata": {},
     "output_type": "display_data"
    },
    {
     "data": {
      "text/html": [
       "\n",
       "    <div style='color: blue; font-weight: bold;'>Original: Daemon took his head for it.</div>\n",
       "    <div style='color: green; font-weight: bold;'>Translated: Daemon tirou-lhe a cabeça por isso.</div>\n",
       "    "
      ],
      "text/plain": [
       "<IPython.core.display.HTML object>"
      ]
     },
     "metadata": {},
     "output_type": "display_data"
    },
    {
     "data": {
      "text/html": [
       "\n",
       "    <div style='color: blue; font-weight: bold;'>Original: Heedless ambition has always been\n",
       "a Velaryon weakness.</div>\n",
       "    <div style='color: green; font-weight: bold;'>Translated: A ambição desmedida sempre foi\n",
       "uma fraqueza dos Velaryon.</div>\n",
       "    "
      ],
      "text/plain": [
       "<IPython.core.display.HTML object>"
      ]
     },
     "metadata": {},
     "output_type": "display_data"
    },
    {
     "data": {
      "text/html": [
       "\n",
       "    <div style='color: blue; font-weight: bold;'>Original: You were right, Rhaenys.</div>\n",
       "    <div style='color: green; font-weight: bold;'>Translated: Tinhas razão, Rhaenys.</div>\n",
       "    "
      ],
      "text/plain": [
       "<IPython.core.display.HTML object>"
      ]
     },
     "metadata": {},
     "output_type": "display_data"
    },
    {
     "data": {
      "text/html": [
       "\n",
       "    <div style='color: blue; font-weight: bold;'>Original: I reached too far. And for nothing.</div>\n",
       "    <div style='color: green; font-weight: bold;'>Translated: Estendi-me demais. E por nada.</div>\n",
       "    "
      ],
      "text/plain": [
       "<IPython.core.display.HTML object>"
      ]
     },
     "metadata": {},
     "output_type": "display_data"
    },
    {
     "data": {
      "text/html": [
       "\n",
       "    <div style='color: blue; font-weight: bold;'>Original: Our pursuit of the Iron Throne...\n",
       "is at an end.</div>\n",
       "    <div style='color: green; font-weight: bold;'>Translated: A nossa busca pelo Trono de Ferro...\n",
       "chegou ao fim.</div>\n",
       "    "
      ],
      "text/plain": [
       "<IPython.core.display.HTML object>"
      ]
     },
     "metadata": {},
     "output_type": "display_data"
    },
    {
     "data": {
      "text/html": [
       "\n",
       "    <div style='color: blue; font-weight: bold;'>Original: We shall declare for no one.</div>\n",
       "    <div style='color: green; font-weight: bold;'>Translated: Não nos declararemos por ninguém.</div>\n",
       "    "
      ],
      "text/plain": [
       "<IPython.core.display.HTML object>"
      ]
     },
     "metadata": {},
     "output_type": "display_data"
    },
    {
     "data": {
      "text/html": [
       "\n",
       "    <div style='color: blue; font-weight: bold;'>Original: We will retire to High Tide</div>\n",
       "    <div style='color: green; font-weight: bold;'>Translated: Vamos retirar-nos para a Maré Alta.</div>\n",
       "    "
      ],
      "text/plain": [
       "<IPython.core.display.HTML object>"
      ]
     },
     "metadata": {},
     "output_type": "display_data"
    },
    {
     "data": {
      "text/html": [
       "\n",
       "    <div style='color: blue; font-weight: bold;'>Original: to be content...</div>\n",
       "    <div style='color: green; font-weight: bold;'>Translated: estar contente...</div>\n",
       "    "
      ],
      "text/plain": [
       "<IPython.core.display.HTML object>"
      ]
     },
     "metadata": {},
     "output_type": "display_data"
    },
    {
     "data": {
      "text/html": [
       "\n",
       "    <div style='color: blue; font-weight: bold;'>Original: with our grandchildren and--</div>\n",
       "    <div style='color: green; font-weight: bold;'>Translated: com os nossos netos e--</div>\n",
       "    "
      ],
      "text/plain": [
       "<IPython.core.display.HTML object>"
      ]
     },
     "metadata": {},
     "output_type": "display_data"
    },
    {
     "data": {
      "text/html": [
       "\n",
       "    <div style='color: blue; font-weight: bold;'>Original: Jace, Luke, and Joff\n",
       "are claimants to the throne.</div>\n",
       "    <div style='color: green; font-weight: bold;'>Translated: Jace, Luke e Joff\n",
       "são pretendentes ao trono.</div>\n",
       "    "
      ],
      "text/plain": [
       "<IPython.core.display.HTML object>"
      ]
     },
     "metadata": {},
     "output_type": "display_data"
    },
    {
     "data": {
      "text/html": [
       "\n",
       "    <div style='color: blue; font-weight: bold;'>Original: Those boys'll not be safe\n",
       "so long as Aegon is king.</div>\n",
       "    <div style='color: green; font-weight: bold;'>Translated: Esses rapazes não estarão seguros\n",
       "enquanto o Aegon for rei.</div>\n",
       "    "
      ],
      "text/plain": [
       "<IPython.core.display.HTML object>"
      ]
     },
     "metadata": {},
     "output_type": "display_data"
    },
    {
     "data": {
      "text/html": [
       "\n",
       "    <div style='color: blue; font-weight: bold;'>Original: Rhaenyra was complicit in our son's death.</div>\n",
       "    <div style='color: green; font-weight: bold;'>Translated: Rhaenyra foi cúmplice na morte do nosso filho.</div>\n",
       "    "
      ],
      "text/plain": [
       "<IPython.core.display.HTML object>"
      ]
     },
     "metadata": {},
     "output_type": "display_data"
    },
    {
     "data": {
      "text/html": [
       "\n",
       "    <div style='color: blue; font-weight: bold;'>Original: That girl destroys everything she touches.</div>\n",
       "    <div style='color: green; font-weight: bold;'>Translated: Essa rapariga destrói tudo o que toca.</div>\n",
       "    "
      ],
      "text/plain": [
       "<IPython.core.display.HTML object>"
      ]
     },
     "metadata": {},
     "output_type": "display_data"
    },
    {
     "data": {
      "text/html": [
       "\n",
       "    <div style='color: blue; font-weight: bold;'>Original: That \"girl\"...</div>\n",
       "    <div style='color: green; font-weight: bold;'>Translated: Essa \"rapariga\"...</div>\n",
       "    "
      ],
      "text/plain": [
       "<IPython.core.display.HTML object>"
      ]
     },
     "metadata": {},
     "output_type": "display_data"
    },
    {
     "data": {
      "text/html": [
       "\n",
       "    <div style='color: blue; font-weight: bold;'>Original: is holding the realm together at present.</div>\n",
       "    <div style='color: green; font-weight: bold;'>Translated: está a manter o reino unido neste momento.</div>\n",
       "    "
      ],
      "text/plain": [
       "<IPython.core.display.HTML object>"
      ]
     },
     "metadata": {},
     "output_type": "display_data"
    },
    {
     "data": {
      "text/html": [
       "\n",
       "    <div style='color: blue; font-weight: bold;'>Original: Every man standing\n",
       "'round the Painted Table</div>\n",
       "    <div style='color: green; font-weight: bold;'>Translated: Todos os homens de pé\n",
       "à volta da Mesa Pintada</div>\n",
       "    "
      ],
      "text/plain": [
       "<IPython.core.display.HTML object>"
      ]
     },
     "metadata": {},
     "output_type": "display_data"
    },
    {
     "data": {
      "text/html": [
       "\n",
       "    <div style='color: blue; font-weight: bold;'>Original: urges her to plunge the realm into war.</div>\n",
       "    <div style='color: green; font-weight: bold;'>Translated: insta-a a mergulhar o reino na guerra.</div>\n",
       "    "
      ],
      "text/plain": [
       "<IPython.core.display.HTML object>"
      ]
     },
     "metadata": {},
     "output_type": "display_data"
    },
    {
     "data": {
      "text/html": [
       "\n",
       "    <div style='color: blue; font-weight: bold;'>Original: Rhaenyra's the only one\n",
       "who's demonstrated restraint.</div>\n",
       "    <div style='color: green; font-weight: bold;'>Translated: A Rhaenyra é a única que demonstrou contenção.</div>\n",
       "    "
      ],
      "text/plain": [
       "<IPython.core.display.HTML object>"
      ]
     },
     "metadata": {},
     "output_type": "display_data"
    },
    {
     "data": {
      "text/html": [
       "\n",
       "    <div style='color: blue; font-weight: bold;'>Original: The purpose of war is to fill graveyards,\n",
       "my dear Lord Staunton.</div>\n",
       "    <div style='color: green; font-weight: bold;'>Translated: O propósito da guerra é encher cemitérios,\n",
       "meu caro Lord Staunton.</div>\n",
       "    "
      ],
      "text/plain": [
       "<IPython.core.display.HTML object>"
      ]
     },
     "metadata": {},
     "output_type": "display_data"
    },
    {
     "data": {
      "text/html": [
       "\n",
       "    <div style='color: blue; font-weight: bold;'>Original: The trick is to put more of their men\n",
       "in the ground than your own.</div>\n",
       "    <div style='color: green; font-weight: bold;'>Translated: O truque é colocar mais dos homens deles\n",
       "no chão do que os seus próprios.</div>\n",
       "    "
      ],
      "text/plain": [
       "<IPython.core.display.HTML object>"
      ]
     },
     "metadata": {},
     "output_type": "display_data"
    },
    {
     "data": {
      "text/html": [
       "\n",
       "    <div style='color: blue; font-weight: bold;'>Original: Easy words for a lord who commands</div>\n",
       "    <div style='color: green; font-weight: bold;'>Translated: Palavras simples para um senhor que comanda</div>\n",
       "    "
      ],
      "text/plain": [
       "<IPython.core.display.HTML object>"
      ]
     },
     "metadata": {},
     "output_type": "display_data"
    },
    {
     "data": {
      "text/html": [
       "\n",
       "    <div style='color: blue; font-weight: bold;'>Original: -from the safety of his castle.\n",
       "-Doesn't make it any less true.</div>\n",
       "    <div style='color: green; font-weight: bold;'>Translated: -do conforto do seu castelo.\n",
       "-Isso não o torna menos verdadeiro.</div>\n",
       "    "
      ],
      "text/plain": [
       "<IPython.core.display.HTML object>"
      ]
     },
     "metadata": {},
     "output_type": "display_data"
    },
    {
     "data": {
      "text/html": [
       "\n",
       "    <div style='color: blue; font-weight: bold;'>Original: The Lord of the Tides!</div>\n",
       "    <div style='color: green; font-weight: bold;'>Translated: O Senhor das Marés!</div>\n",
       "    "
      ],
      "text/plain": [
       "<IPython.core.display.HTML object>"
      ]
     },
     "metadata": {},
     "output_type": "display_data"
    },
    {
     "data": {
      "text/html": [
       "\n",
       "    <div style='color: blue; font-weight: bold;'>Original: Lord Corlys Velaryon...</div>\n",
       "    <div style='color: green; font-weight: bold;'>Translated: Lorde Corlys Velaryon...</div>\n",
       "    "
      ],
      "text/plain": [
       "<IPython.core.display.HTML object>"
      ]
     },
     "metadata": {},
     "output_type": "display_data"
    },
    {
     "data": {
      "text/html": [
       "\n",
       "    <div style='color: blue; font-weight: bold;'>Original: and his wife,\n",
       "the Princess Rhaenys Targaryen.</div>\n",
       "    <div style='color: green; font-weight: bold;'>Translated: e a sua esposa,\n",
       "a Princesa Rhaenys Targaryen.</div>\n",
       "    "
      ],
      "text/plain": [
       "<IPython.core.display.HTML object>"
      ]
     },
     "metadata": {},
     "output_type": "display_data"
    },
    {
     "data": {
      "text/html": [
       "\n",
       "    <div style='color: blue; font-weight: bold;'>Original: My lords.</div>\n",
       "    <div style='color: green; font-weight: bold;'>Translated: Meus senhores.</div>\n",
       "    "
      ],
      "text/plain": [
       "<IPython.core.display.HTML object>"
      ]
     },
     "metadata": {},
     "output_type": "display_data"
    },
    {
     "data": {
      "text/html": [
       "\n",
       "    <div style='color: blue; font-weight: bold;'>Original: Lord Corlys.</div>\n",
       "    <div style='color: green; font-weight: bold;'>Translated: Senhor Corlys.</div>\n",
       "    "
      ],
      "text/plain": [
       "<IPython.core.display.HTML object>"
      ]
     },
     "metadata": {},
     "output_type": "display_data"
    },
    {
     "data": {
      "text/html": [
       "\n",
       "    <div style='color: blue; font-weight: bold;'>Original: It brings much relief to see you hale\n",
       "and healthy again.</div>\n",
       "    <div style='color: green; font-weight: bold;'>Translated: É um grande alívio ver-te são e de boa saúde novamente.</div>\n",
       "    "
      ],
      "text/plain": [
       "<IPython.core.display.HTML object>"
      ]
     },
     "metadata": {},
     "output_type": "display_data"
    },
    {
     "data": {
      "text/html": [
       "\n",
       "    <div style='color: blue; font-weight: bold;'>Original: I'm very sorry about your father,\n",
       "Princess.</div>\n",
       "    <div style='color: green; font-weight: bold;'>Translated: Lamento muito pelo seu pai, princesa.</div>\n",
       "    "
      ],
      "text/plain": [
       "<IPython.core.display.HTML object>"
      ]
     },
     "metadata": {},
     "output_type": "display_data"
    },
    {
     "data": {
      "text/html": [
       "\n",
       "    <div style='color: blue; font-weight: bold;'>Original: He was a good man.</div>\n",
       "    <div style='color: green; font-weight: bold;'>Translated: Ele era um bom homem.</div>\n",
       "    "
      ],
      "text/plain": [
       "<IPython.core.display.HTML object>"
      ]
     },
     "metadata": {},
     "output_type": "display_data"
    },
    {
     "data": {
      "text/html": [
       "\n",
       "    <div style='color: blue; font-weight: bold;'>Original: Where is Daemon?</div>\n",
       "    <div style='color: green; font-weight: bold;'>Translated: Onde está o Daemon?</div>\n",
       "    "
      ],
      "text/plain": [
       "<IPython.core.display.HTML object>"
      ]
     },
     "metadata": {},
     "output_type": "display_data"
    },
    {
     "data": {
      "text/html": [
       "\n",
       "    <div style='color: blue; font-weight: bold;'>Original: There were other concerns which\n",
       "demanded the Prince's attention.</div>\n",
       "    <div style='color: green; font-weight: bold;'>Translated: Havia outras preocupações que\n",
       "exigiam a atenção do Príncipe.</div>\n",
       "    "
      ],
      "text/plain": [
       "<IPython.core.display.HTML object>"
      ]
     },
     "metadata": {},
     "output_type": "display_data"
    },
    {
     "data": {
      "text/html": [
       "\n",
       "    <div style='color: blue; font-weight: bold;'>Original: Your declared allies?</div>\n",
       "    <div style='color: green; font-weight: bold;'>Translated: Os vossos aliados declarados?</div>\n",
       "    "
      ],
      "text/plain": [
       "<IPython.core.display.HTML object>"
      ]
     },
     "metadata": {},
     "output_type": "display_data"
    },
    {
     "data": {
      "text/html": [
       "\n",
       "    <div style='color: blue; font-weight: bold;'>Original: -Yes.\n",
       "-Too few to win a war for the throne.</div>\n",
       "    <div style='color: green; font-weight: bold;'>Translated: -Sim.\n",
       "-Demasiado poucos para ganhar uma guerra pelo trono.</div>\n",
       "    "
      ],
      "text/plain": [
       "<IPython.core.display.HTML object>"
      ]
     },
     "metadata": {},
     "output_type": "display_data"
    },
    {
     "data": {
      "text/html": [
       "\n",
       "    <div style='color: blue; font-weight: bold;'>Original: Well, we would also\n",
       "hope to have the support</div>\n",
       "    <div style='color: green; font-weight: bold;'>Translated: Bem, também esperaríamos ter o apoio</div>\n",
       "    "
      ],
      "text/plain": [
       "<IPython.core.display.HTML object>"
      ]
     },
     "metadata": {},
     "output_type": "display_data"
    },
    {
     "data": {
      "text/html": [
       "\n",
       "    <div style='color: blue; font-weight: bold;'>Original: -of Houses Arryn, Baratheon, and Stark.\n",
       "-Hope...</div>\n",
       "    <div style='color: green; font-weight: bold;'>Translated: -das Casas Arryn, Baratheon e Stark.\n",
       "-Esperança...</div>\n",
       "    "
      ],
      "text/plain": [
       "<IPython.core.display.HTML object>"
      ]
     },
     "metadata": {},
     "output_type": "display_data"
    },
    {
     "data": {
      "text/html": [
       "\n",
       "    <div style='color: blue; font-weight: bold;'>Original: is the fool's ally.</div>\n",
       "    <div style='color: green; font-weight: bold;'>Translated: é o aliado do tolo.</div>\n",
       "    "
      ],
      "text/plain": [
       "<IPython.core.display.HTML object>"
      ]
     },
     "metadata": {},
     "output_type": "display_data"
    },
    {
     "data": {
      "text/html": [
       "\n",
       "    <div style='color: blue; font-weight: bold;'>Original: Both Arryn and Baratheon\n",
       "share blood with my house.</div>\n",
       "    <div style='color: green; font-weight: bold;'>Translated: Tanto os Arryn como os Baratheon\n",
       "partilham sangue com a minha casa.</div>\n",
       "    "
      ],
      "text/plain": [
       "<IPython.core.display.HTML object>"
      ]
     },
     "metadata": {},
     "output_type": "display_data"
    },
    {
     "data": {
      "text/html": [
       "\n",
       "    <div style='color: blue; font-weight: bold;'>Original: But all of them swore oaths to me.</div>\n",
       "    <div style='color: green; font-weight: bold;'>Translated: Mas todos eles me juraram fidelidade.</div>\n",
       "    "
      ],
      "text/plain": [
       "<IPython.core.display.HTML object>"
      ]
     },
     "metadata": {},
     "output_type": "display_data"
    },
    {
     "data": {
      "text/html": [
       "\n",
       "    <div style='color: blue; font-weight: bold;'>Original: As did House Hightower...</div>\n",
       "    <div style='color: green; font-weight: bold;'>Translated: Como fez a Casa Hightower...</div>\n",
       "    "
      ],
      "text/plain": [
       "<IPython.core.display.HTML object>"
      ]
     },
     "metadata": {},
     "output_type": "display_data"
    },
    {
     "data": {
      "text/html": [
       "\n",
       "    <div style='color: blue; font-weight: bold;'>Original: if I remember.</div>\n",
       "    <div style='color: green; font-weight: bold;'>Translated: se me lembro.</div>\n",
       "    "
      ],
      "text/plain": [
       "<IPython.core.display.HTML object>"
      ]
     },
     "metadata": {},
     "output_type": "display_data"
    },
    {
     "data": {
      "text/html": [
       "\n",
       "    <div style='color: blue; font-weight: bold;'>Original: As did you, Lord Corlys.</div>\n",
       "    <div style='color: green; font-weight: bold;'>Translated: Como fez vós, Lorde Corlys.</div>\n",
       "    "
      ],
      "text/plain": [
       "<IPython.core.display.HTML object>"
      ]
     },
     "metadata": {},
     "output_type": "display_data"
    },
    {
     "data": {
      "text/html": [
       "\n",
       "    <div style='color: blue; font-weight: bold;'>Original: Your father's realm...</div>\n",
       "    <div style='color: green; font-weight: bold;'>Translated: O reino do teu pai...</div>\n",
       "    "
      ],
      "text/plain": [
       "<IPython.core.display.HTML object>"
      ]
     },
     "metadata": {},
     "output_type": "display_data"
    },
    {
     "data": {
      "text/html": [
       "\n",
       "    <div style='color: blue; font-weight: bold;'>Original: was one of justice and honor.</div>\n",
       "    <div style='color: green; font-weight: bold;'>Translated: era de justiça e honra.</div>\n",
       "    "
      ],
      "text/plain": [
       "<IPython.core.display.HTML object>"
      ]
     },
     "metadata": {},
     "output_type": "display_data"
    },
    {
     "data": {
      "text/html": [
       "\n",
       "    <div style='color: blue; font-weight: bold;'>Original: Our houses are bound by common blood\n",
       "and common cause.</div>\n",
       "    <div style='color: green; font-weight: bold;'>Translated: As nossas casas estão unidas por sangue comum e causa comum.</div>\n",
       "    "
      ],
      "text/plain": [
       "<IPython.core.display.HTML object>"
      ]
     },
     "metadata": {},
     "output_type": "display_data"
    },
    {
     "data": {
      "text/html": [
       "\n",
       "    <div style='color: blue; font-weight: bold;'>Original: This Hightower treason cannot stand.</div>\n",
       "    <div style='color: green; font-weight: bold;'>Translated: Esta traição dos Hightower não pode prevalecer.</div>\n",
       "    "
      ],
      "text/plain": [
       "<IPython.core.display.HTML object>"
      ]
     },
     "metadata": {},
     "output_type": "display_data"
    },
    {
     "data": {
      "text/html": [
       "\n",
       "    <div style='color: blue; font-weight: bold;'>Original: You have the full support\n",
       "of our fleet and house.</div>\n",
       "    <div style='color: green; font-weight: bold;'>Translated: Tens o total apoio da nossa frota e casa.</div>\n",
       "    "
      ],
      "text/plain": [
       "<IPython.core.display.HTML object>"
      ]
     },
     "metadata": {},
     "output_type": "display_data"
    },
    {
     "data": {
      "text/html": [
       "\n",
       "    <div style='color: blue; font-weight: bold;'>Original: Your Grace.</div>\n",
       "    <div style='color: green; font-weight: bold;'>Translated: Vossa Graça.</div>\n",
       "    "
      ],
      "text/plain": [
       "<IPython.core.display.HTML object>"
      ]
     },
     "metadata": {},
     "output_type": "display_data"
    },
    {
     "data": {
      "text/html": [
       "\n",
       "    <div style='color: blue; font-weight: bold;'>Original: You honor me, Lord Corlys.</div>\n",
       "    <div style='color: green; font-weight: bold;'>Translated: Honra-me, Lorde Corlys.</div>\n",
       "    "
      ],
      "text/plain": [
       "<IPython.core.display.HTML object>"
      ]
     },
     "metadata": {},
     "output_type": "display_data"
    },
    {
     "data": {
      "text/html": [
       "\n",
       "    <div style='color: blue; font-weight: bold;'>Original: Princess Rhaenys.</div>\n",
       "    <div style='color: green; font-weight: bold;'>Translated: Princesa Rhaenys.</div>\n",
       "    "
      ],
      "text/plain": [
       "<IPython.core.display.HTML object>"
      ]
     },
     "metadata": {},
     "output_type": "display_data"
    },
    {
     "data": {
      "text/html": [
       "\n",
       "    <div style='color: blue; font-weight: bold;'>Original: But, as I said to my bannermen,</div>\n",
       "    <div style='color: green; font-weight: bold;'>Translated: Mas, como eu disse aos meus vassalos,</div>\n",
       "    "
      ],
      "text/plain": [
       "<IPython.core.display.HTML object>"
      ]
     },
     "metadata": {},
     "output_type": "display_data"
    },
    {
     "data": {
      "text/html": [
       "\n",
       "    <div style='color: blue; font-weight: bold;'>Original: I made a promise to my father\n",
       "to hold the realm strong and united.</div>\n",
       "    <div style='color: green; font-weight: bold;'>Translated: Fiz uma promessa ao meu pai\n",
       "de manter o reino forte e unido.</div>\n",
       "    "
      ],
      "text/plain": [
       "<IPython.core.display.HTML object>"
      ]
     },
     "metadata": {},
     "output_type": "display_data"
    },
    {
     "data": {
      "text/html": [
       "\n",
       "    <div style='color: blue; font-weight: bold;'>Original: If war's first stroke is to fall,\n",
       "it will not be by my hand.</div>\n",
       "    <div style='color: green; font-weight: bold;'>Translated: Se o primeiro golpe da guerra for desferido,\n",
       "não será pela minha mão.</div>\n",
       "    "
      ],
      "text/plain": [
       "<IPython.core.display.HTML object>"
      ]
     },
     "metadata": {},
     "output_type": "display_data"
    },
    {
     "data": {
      "text/html": [
       "\n",
       "    <div style='color: blue; font-weight: bold;'>Original: You do not mean to act?</div>\n",
       "    <div style='color: green; font-weight: bold;'>Translated: Não tenciona agir?</div>\n",
       "    "
      ],
      "text/plain": [
       "<IPython.core.display.HTML object>"
      ]
     },
     "metadata": {},
     "output_type": "display_data"
    },
    {
     "data": {
      "text/html": [
       "\n",
       "    <div style='color: blue; font-weight: bold;'>Original: Taking caution\n",
       "does not mean standing fast.</div>\n",
       "    <div style='color: green; font-weight: bold;'>Translated: Ser cauteloso\n",
       "não significa ficar parado.</div>\n",
       "    "
      ],
      "text/plain": [
       "<IPython.core.display.HTML object>"
      ]
     },
     "metadata": {},
     "output_type": "display_data"
    },
    {
     "data": {
      "text/html": [
       "\n",
       "    <div style='color: blue; font-weight: bold;'>Original: I wish to know who my allies are\n",
       "before I send them to war.</div>\n",
       "    <div style='color: green; font-weight: bold;'>Translated: Desejo saber quem são os meus aliados\n",
       "antes de os enviar para a guerra.</div>\n",
       "    "
      ],
      "text/plain": [
       "<IPython.core.display.HTML object>"
      ]
     },
     "metadata": {},
     "output_type": "display_data"
    },
    {
     "data": {
      "text/html": [
       "\n",
       "    <div style='color: blue; font-weight: bold;'>Original: The consequence of my...</div>\n",
       "    <div style='color: green; font-weight: bold;'>Translated: A consequência do meu...</div>\n",
       "    "
      ],
      "text/plain": [
       "<IPython.core.display.HTML object>"
      ]
     },
     "metadata": {},
     "output_type": "display_data"
    },
    {
     "data": {
      "text/html": [
       "\n",
       "    <div style='color: blue; font-weight: bold;'>Original: near-demise in the Stepstones...</div>\n",
       "    <div style='color: green; font-weight: bold;'>Translated: quase-morte nas Ilhas Pedregosas...</div>\n",
       "    "
      ],
      "text/plain": [
       "<IPython.core.display.HTML object>"
      ]
     },
     "metadata": {},
     "output_type": "display_data"
    },
    {
     "data": {
      "text/html": [
       "\n",
       "    <div style='color: blue; font-weight: bold;'>Original: is that we now control them.</div>\n",
       "    <div style='color: green; font-weight: bold;'>Translated: é que agora os controlamos.</div>\n",
       "    "
      ],
      "text/plain": [
       "<IPython.core.display.HTML object>"
      ]
     },
     "metadata": {},
     "output_type": "display_data"
    },
    {
     "data": {
      "text/html": [
       "\n",
       "    <div style='color: blue; font-weight: bold;'>Original: I took care to fully garrison\n",
       "the territory this time.</div>\n",
       "    <div style='color: green; font-weight: bold;'>Translated: Desta vez, tomei o cuidado de guarnecer completamente o território.</div>\n",
       "    "
      ],
      "text/plain": [
       "<IPython.core.display.HTML object>"
      ]
     },
     "metadata": {},
     "output_type": "display_data"
    },
    {
     "data": {
      "text/html": [
       "\n",
       "    <div style='color: blue; font-weight: bold;'>Original: A total blockade of the shipping lanes\n",
       "will be in place in days, if not already.</div>\n",
       "    <div style='color: green; font-weight: bold;'>Translated: Um bloqueio total das rotas de navegação\n",
       "estará em vigor em dias, se já não estiver.</div>\n",
       "    "
      ],
      "text/plain": [
       "<IPython.core.display.HTML object>"
      ]
     },
     "metadata": {},
     "output_type": "display_data"
    },
    {
     "data": {
      "text/html": [
       "\n",
       "    <div style='color: blue; font-weight: bold;'>Original: The Triarchy have been routed.</div>\n",
       "    <div style='color: green; font-weight: bold;'>Translated: A Triarquia foi derrotada.</div>\n",
       "    "
      ],
      "text/plain": [
       "<IPython.core.display.HTML object>"
      ]
     },
     "metadata": {},
     "output_type": "display_data"
    },
    {
     "data": {
      "text/html": [
       "\n",
       "    <div style='color: blue; font-weight: bold;'>Original: The Narrow Sea is ours.</div>\n",
       "    <div style='color: green; font-weight: bold;'>Translated: O Mar Estreito é nosso.</div>\n",
       "    "
      ],
      "text/plain": [
       "<IPython.core.display.HTML object>"
      ]
     },
     "metadata": {},
     "output_type": "display_data"
    },
    {
     "data": {
      "text/html": [
       "\n",
       "    <div style='color: blue; font-weight: bold;'>Original: If we further seal the Gullet,</div>\n",
       "    <div style='color: green; font-weight: bold;'>Translated: Se selarmos ainda mais o Gullet,</div>\n",
       "    "
      ],
      "text/plain": [
       "<IPython.core.display.HTML object>"
      ]
     },
     "metadata": {},
     "output_type": "display_data"
    },
    {
     "data": {
      "text/html": [
       "\n",
       "    <div style='color: blue; font-weight: bold;'>Original: we can cut off\n",
       "all seaborne travel and trade</div>\n",
       "    <div style='color: green; font-weight: bold;'>Translated: podemos cortar\n",
       "toda a viagem e comércio marítimo</div>\n",
       "    "
      ],
      "text/plain": [
       "<IPython.core.display.HTML object>"
      ]
     },
     "metadata": {},
     "output_type": "display_data"
    },
    {
     "data": {
      "text/html": [
       "\n",
       "    <div style='color: blue; font-weight: bold;'>Original: to King's Landing.</div>\n",
       "    <div style='color: green; font-weight: bold;'>Translated: para Porto Real.</div>\n",
       "    "
      ],
      "text/plain": [
       "<IPython.core.display.HTML object>"
      ]
     },
     "metadata": {},
     "output_type": "display_data"
    },
    {
     "data": {
      "text/html": [
       "\n",
       "    <div style='color: blue; font-weight: bold;'>Original: I shall take Meleys\n",
       "and patrol the Gullet myself.</div>\n",
       "    <div style='color: green; font-weight: bold;'>Translated: Eu levarei Meleys e patrulharei o Gullet pessoalmente.</div>\n",
       "    "
      ],
      "text/plain": [
       "<IPython.core.display.HTML object>"
      ]
     },
     "metadata": {},
     "output_type": "display_data"
    },
    {
     "data": {
      "text/html": [
       "\n",
       "    <div style='color: blue; font-weight: bold;'>Original: When we drain the Narrow Sea,</div>\n",
       "    <div style='color: green; font-weight: bold;'>Translated: Quando drenarmos o Mar Estreito,</div>\n",
       "    "
      ],
      "text/plain": [
       "<IPython.core.display.HTML object>"
      ]
     },
     "metadata": {},
     "output_type": "display_data"
    },
    {
     "data": {
      "text/html": [
       "\n",
       "    <div style='color: blue; font-weight: bold;'>Original: we can surround King's Landing,</div>\n",
       "    <div style='color: green; font-weight: bold;'>Translated: podemos cercar a Fortaleza Vermelha,</div>\n",
       "    "
      ],
      "text/plain": [
       "<IPython.core.display.HTML object>"
      ]
     },
     "metadata": {},
     "output_type": "display_data"
    },
    {
     "data": {
      "text/html": [
       "\n",
       "    <div style='color: blue; font-weight: bold;'>Original: lay siege to the Red Keep,</div>\n",
       "    <div style='color: green; font-weight: bold;'>Translated: cerque o Forte Vermelho,</div>\n",
       "    "
      ],
      "text/plain": [
       "<IPython.core.display.HTML object>"
      ]
     },
     "metadata": {},
     "output_type": "display_data"
    },
    {
     "data": {
      "text/html": [
       "\n",
       "    <div style='color: blue; font-weight: bold;'>Original: and force the Greens' surrender.</div>\n",
       "    <div style='color: green; font-weight: bold;'>Translated: e forçar a rendição dos Verdes.</div>\n",
       "    "
      ],
      "text/plain": [
       "<IPython.core.display.HTML object>"
      ]
     },
     "metadata": {},
     "output_type": "display_data"
    },
    {
     "data": {
      "text/html": [
       "\n",
       "    <div style='color: blue; font-weight: bold;'>Original: If we are to have enough swords\n",
       "to surround King's Landing,</div>\n",
       "    <div style='color: green; font-weight: bold;'>Translated: Se quisermos ter espadas suficientes\n",
       "para cercar Porto Real,</div>\n",
       "    "
      ],
      "text/plain": [
       "<IPython.core.display.HTML object>"
      ]
     },
     "metadata": {},
     "output_type": "display_data"
    },
    {
     "data": {
      "text/html": [
       "\n",
       "    <div style='color: blue; font-weight: bold;'>Original: we must first secure the support\n",
       "of Winterfell, the Eyrie, and Storm's End.</div>\n",
       "    <div style='color: green; font-weight: bold;'>Translated: devemos primeiro garantir o apoio de Winterfell, do Ninho da Águia e de Ponta Tempestade.</div>\n",
       "    "
      ],
      "text/plain": [
       "<IPython.core.display.HTML object>"
      ]
     },
     "metadata": {},
     "output_type": "display_data"
    },
    {
     "data": {
      "text/html": [
       "\n",
       "    <div style='color: blue; font-weight: bold;'>Original: I'll prepare the ravens, Your Grace.</div>\n",
       "    <div style='color: green; font-weight: bold;'>Translated: Prepararei os corvos, Vossa Graça.</div>\n",
       "    "
      ],
      "text/plain": [
       "<IPython.core.display.HTML object>"
      ]
     },
     "metadata": {},
     "output_type": "display_data"
    },
    {
     "data": {
      "text/html": [
       "\n",
       "    <div style='color: blue; font-weight: bold;'>Original: We should bear those messages.</div>\n",
       "    <div style='color: green; font-weight: bold;'>Translated: Devemos suportar essas mensagens.</div>\n",
       "    "
      ],
      "text/plain": [
       "<IPython.core.display.HTML object>"
      ]
     },
     "metadata": {},
     "output_type": "display_data"
    },
    {
     "data": {
      "text/html": [
       "\n",
       "    <div style='color: blue; font-weight: bold;'>Original: Dragons can fly faster than ravens</div>\n",
       "    <div style='color: green; font-weight: bold;'>Translated: Os dragões podem voar mais rápido do que os corvos.</div>\n",
       "    "
      ],
      "text/plain": [
       "<IPython.core.display.HTML object>"
      ]
     },
     "metadata": {},
     "output_type": "display_data"
    },
    {
     "data": {
      "text/html": [
       "\n",
       "    <div style='color: blue; font-weight: bold;'>Original: and they're more convincing.</div>\n",
       "    <div style='color: green; font-weight: bold;'>Translated: e são mais convincentes.</div>\n",
       "    "
      ],
      "text/plain": [
       "<IPython.core.display.HTML object>"
      ]
     },
     "metadata": {},
     "output_type": "display_data"
    },
    {
     "data": {
      "text/html": [
       "\n",
       "    <div style='color: blue; font-weight: bold;'>Original: Send us.</div>\n",
       "    <div style='color: green; font-weight: bold;'>Translated: Envie-nos.</div>\n",
       "    "
      ],
      "text/plain": [
       "<IPython.core.display.HTML object>"
      ]
     },
     "metadata": {},
     "output_type": "display_data"
    },
    {
     "data": {
      "text/html": [
       "\n",
       "    <div style='color: blue; font-weight: bold;'>Original: The Prince is right, Your Grace.</div>\n",
       "    <div style='color: green; font-weight: bold;'>Translated: O Príncipe tem razão, Vossa Graça.</div>\n",
       "    "
      ],
      "text/plain": [
       "<IPython.core.display.HTML object>"
      ]
     },
     "metadata": {},
     "output_type": "display_data"
    },
    {
     "data": {
      "text/html": [
       "\n",
       "    <div style='color: blue; font-weight: bold;'>Original: Very well.</div>\n",
       "    <div style='color: green; font-weight: bold;'>Translated: Muito bem.</div>\n",
       "    "
      ],
      "text/plain": [
       "<IPython.core.display.HTML object>"
      ]
     },
     "metadata": {},
     "output_type": "display_data"
    },
    {
     "data": {
      "text/html": [
       "\n",
       "    <div style='color: blue; font-weight: bold;'>Original: Prince Jacaerys will fly north.</div>\n",
       "    <div style='color: green; font-weight: bold;'>Translated: O príncipe Jacaerys voará para norte.</div>\n",
       "    "
      ],
      "text/plain": [
       "<IPython.core.display.HTML object>"
      ]
     },
     "metadata": {},
     "output_type": "display_data"
    },
    {
     "data": {
      "text/html": [
       "\n",
       "    <div style='color: blue; font-weight: bold;'>Original: First to the Eyrie to see\n",
       "my mother's cousin, the Lady Jeyne Arryn,</div>\n",
       "    <div style='color: green; font-weight: bold;'>Translated: Primeiro ao Ninho da Águia para ver\n",
       "a minha prima em segundo grau, a Senhora Jeyne Arryn,</div>\n",
       "    "
      ],
      "text/plain": [
       "<IPython.core.display.HTML object>"
      ]
     },
     "metadata": {},
     "output_type": "display_data"
    },
    {
     "data": {
      "text/html": [
       "\n",
       "    <div style='color: blue; font-weight: bold;'>Original: and then to Winterfell\n",
       "to treat with Lord Cregan Stark</div>\n",
       "    <div style='color: green; font-weight: bold;'>Translated: e depois para Winterfell\n",
       "para negociar com o Lorde Cregan Stark</div>\n",
       "    "
      ],
      "text/plain": [
       "<IPython.core.display.HTML object>"
      ]
     },
     "metadata": {},
     "output_type": "display_data"
    },
    {
     "data": {
      "text/html": [
       "\n",
       "    <div style='color: blue; font-weight: bold;'>Original: for the support of the North.</div>\n",
       "    <div style='color: green; font-weight: bold;'>Translated: para o apoio do Norte.</div>\n",
       "    "
      ],
      "text/plain": [
       "<IPython.core.display.HTML object>"
      ]
     },
     "metadata": {},
     "output_type": "display_data"
    },
    {
     "data": {
      "text/html": [
       "\n",
       "    <div style='color: blue; font-weight: bold;'>Original: Prince Lucerys will fly\n",
       "south to Storm's End</div>\n",
       "    <div style='color: green; font-weight: bold;'>Translated: O príncipe Lucerys voará\n",
       "para sul até Storm's End</div>\n",
       "    "
      ],
      "text/plain": [
       "<IPython.core.display.HTML object>"
      ]
     },
     "metadata": {},
     "output_type": "display_data"
    },
    {
     "data": {
      "text/html": [
       "\n",
       "    <div style='color: blue; font-weight: bold;'>Original: and treat with Lord Borros Baratheon.</div>\n",
       "    <div style='color: green; font-weight: bold;'>Translated: e tratar com o Senhor Borros Baratheon.</div>\n",
       "    "
      ],
      "text/plain": [
       "<IPython.core.display.HTML object>"
      ]
     },
     "metadata": {},
     "output_type": "display_data"
    },
    {
     "data": {
      "text/html": [
       "\n",
       "    <div style='color: blue; font-weight: bold;'>Original: We must remind these lords\n",
       "of the oaths they swore.</div>\n",
       "    <div style='color: green; font-weight: bold;'>Translated: Devemos lembrar a estes senhores\n",
       "dos juramentos que prestaram.</div>\n",
       "    "
      ],
      "text/plain": [
       "<IPython.core.display.HTML object>"
      ]
     },
     "metadata": {},
     "output_type": "display_data"
    },
    {
     "data": {
      "text/html": [
       "\n",
       "    <div style='color: blue; font-weight: bold;'>Original: And... the cost of breaking them.</div>\n",
       "    <div style='color: green; font-weight: bold;'>Translated: E... o custo de as quebrar.</div>\n",
       "    "
      ],
      "text/plain": [
       "<IPython.core.display.HTML object>"
      ]
     },
     "metadata": {},
     "output_type": "display_data"
    },
    {
     "data": {
      "text/html": [
       "\n",
       "    <div style='color: blue; font-weight: bold;'>Original: It's been said that as Targaryens,\n",
       "we are closer to gods than to men.</div>\n",
       "    <div style='color: green; font-weight: bold;'>Translated: Diz-se que, como Targaryens,\n",
       "estamos mais próximos dos deuses do que dos homens.</div>\n",
       "    "
      ],
      "text/plain": [
       "<IPython.core.display.HTML object>"
      ]
     },
     "metadata": {},
     "output_type": "display_data"
    },
    {
     "data": {
      "text/html": [
       "\n",
       "    <div style='color: blue; font-weight: bold;'>Original: And the Iron Throne\n",
       "puts us a touch closer, perhaps.</div>\n",
       "    <div style='color: green; font-weight: bold;'>Translated: E o Trono de Ferro\n",
       "coloca-nos um pouco mais perto, talvez.</div>\n",
       "    "
      ],
      "text/plain": [
       "<IPython.core.display.HTML object>"
      ]
     },
     "metadata": {},
     "output_type": "display_data"
    },
    {
     "data": {
      "text/html": [
       "\n",
       "    <div style='color: blue; font-weight: bold;'>Original: But, if we are to serve\n",
       "the Seven Kingdoms...</div>\n",
       "    <div style='color: green; font-weight: bold;'>Translated: Mas, se vamos servir\n",
       "os Sete Reinos...</div>\n",
       "    "
      ],
      "text/plain": [
       "<IPython.core.display.HTML object>"
      ]
     },
     "metadata": {},
     "output_type": "display_data"
    },
    {
     "data": {
      "text/html": [
       "\n",
       "    <div style='color: blue; font-weight: bold;'>Original: we must answer to their gods.</div>\n",
       "    <div style='color: green; font-weight: bold;'>Translated: devemos responder aos seus deuses.</div>\n",
       "    "
      ],
      "text/plain": [
       "<IPython.core.display.HTML object>"
      ]
     },
     "metadata": {},
     "output_type": "display_data"
    },
    {
     "data": {
      "text/html": [
       "\n",
       "    <div style='color: blue; font-weight: bold;'>Original: If you take this errand,\n",
       "you go as messengers... not as warriors.</div>\n",
       "    <div style='color: green; font-weight: bold;'>Translated: Se aceitares esta tarefa,\n",
       "vais como mensageiros... não como guerreiros.</div>\n",
       "    "
      ],
      "text/plain": [
       "<IPython.core.display.HTML object>"
      ]
     },
     "metadata": {},
     "output_type": "display_data"
    },
    {
     "data": {
      "text/html": [
       "\n",
       "    <div style='color: blue; font-weight: bold;'>Original: You must take no part in any fighting.</div>\n",
       "    <div style='color: green; font-weight: bold;'>Translated: Não deves participar em qualquer luta.</div>\n",
       "    "
      ],
      "text/plain": [
       "<IPython.core.display.HTML object>"
      ]
     },
     "metadata": {},
     "output_type": "display_data"
    },
    {
     "data": {
      "text/html": [
       "\n",
       "    <div style='color: blue; font-weight: bold;'>Original: Swear it to me now\n",
       "under the eyes of the Seven.</div>\n",
       "    <div style='color: green; font-weight: bold;'>Translated: Jura-me agora\n",
       "sob o olhar dos Sete.</div>\n",
       "    "
      ],
      "text/plain": [
       "<IPython.core.display.HTML object>"
      ]
     },
     "metadata": {},
     "output_type": "display_data"
    },
    {
     "data": {
      "text/html": [
       "\n",
       "    <div style='color: blue; font-weight: bold;'>Original: I swear it.</div>\n",
       "    <div style='color: green; font-weight: bold;'>Translated: Eu juro.</div>\n",
       "    "
      ],
      "text/plain": [
       "<IPython.core.display.HTML object>"
      ]
     },
     "metadata": {},
     "output_type": "display_data"
    },
    {
     "data": {
      "text/html": [
       "\n",
       "    <div style='color: blue; font-weight: bold;'>Original: I swear it.</div>\n",
       "    <div style='color: green; font-weight: bold;'>Translated: Eu juro.</div>\n",
       "    "
      ],
      "text/plain": [
       "<IPython.core.display.HTML object>"
      ]
     },
     "metadata": {},
     "output_type": "display_data"
    },
    {
     "data": {
      "text/html": [
       "\n",
       "    <div style='color: blue; font-weight: bold;'>Original: Thank you.</div>\n",
       "    <div style='color: green; font-weight: bold;'>Translated: Obrigado.</div>\n",
       "    "
      ],
      "text/plain": [
       "<IPython.core.display.HTML object>"
      ]
     },
     "metadata": {},
     "output_type": "display_data"
    },
    {
     "data": {
      "text/html": [
       "\n",
       "    <div style='color: blue; font-weight: bold;'>Original: Cregan Stark is...</div>\n",
       "    <div style='color: green; font-weight: bold;'>Translated: Cregan Stark é...</div>\n",
       "    "
      ],
      "text/plain": [
       "<IPython.core.display.HTML object>"
      ]
     },
     "metadata": {},
     "output_type": "display_data"
    },
    {
     "data": {
      "text/html": [
       "\n",
       "    <div style='color: blue; font-weight: bold;'>Original: close to your age than is mine.</div>\n",
       "    <div style='color: green; font-weight: bold;'>Translated: mais próximo da tua idade do que da minha.</div>\n",
       "    "
      ],
      "text/plain": [
       "<IPython.core.display.HTML object>"
      ]
     },
     "metadata": {},
     "output_type": "display_data"
    },
    {
     "data": {
      "text/html": [
       "\n",
       "    <div style='color: blue; font-weight: bold;'>Original: I would hope, that as men,\n",
       "you can find some common interest.</div>\n",
       "    <div style='color: green; font-weight: bold;'>Translated: Espero que, como homens, possam encontrar algum interesse comum.</div>\n",
       "    "
      ],
      "text/plain": [
       "<IPython.core.display.HTML object>"
      ]
     },
     "metadata": {},
     "output_type": "display_data"
    },
    {
     "data": {
      "text/html": [
       "\n",
       "    <div style='color: blue; font-weight: bold;'>Original: Yes, Your Grace.</div>\n",
       "    <div style='color: green; font-weight: bold;'>Translated: Sim, Vossa Graça.</div>\n",
       "    "
      ],
      "text/plain": [
       "<IPython.core.display.HTML object>"
      ]
     },
     "metadata": {},
     "output_type": "display_data"
    },
    {
     "data": {
      "text/html": [
       "\n",
       "    <div style='color: blue; font-weight: bold;'>Original: Storm's End is a short flight from here.</div>\n",
       "    <div style='color: green; font-weight: bold;'>Translated: Storm's End fica a um curto voo daqui.</div>\n",
       "    "
      ],
      "text/plain": [
       "<IPython.core.display.HTML object>"
      ]
     },
     "metadata": {},
     "output_type": "display_data"
    },
    {
     "data": {
      "text/html": [
       "\n",
       "    <div style='color: blue; font-weight: bold;'>Original: You have Baratheon blood\n",
       "from your grandmother, Rhaenys.</div>\n",
       "    <div style='color: green; font-weight: bold;'>Translated: Tens sangue Baratheon\n",
       "da tua avó, Rhaenys.</div>\n",
       "    "
      ],
      "text/plain": [
       "<IPython.core.display.HTML object>"
      ]
     },
     "metadata": {},
     "output_type": "display_data"
    },
    {
     "data": {
      "text/html": [
       "\n",
       "    <div style='color: blue; font-weight: bold;'>Original: And...</div>\n",
       "    <div style='color: green; font-weight: bold;'>Translated: E...</div>\n",
       "    "
      ],
      "text/plain": [
       "<IPython.core.display.HTML object>"
      ]
     },
     "metadata": {},
     "output_type": "display_data"
    },
    {
     "data": {
      "text/html": [
       "\n",
       "    <div style='color: blue; font-weight: bold;'>Original: Lord Borros is an eternally proud man.</div>\n",
       "    <div style='color: green; font-weight: bold;'>Translated: O Senhor Borros é um homem eternamente orgulhoso.</div>\n",
       "    "
      ],
      "text/plain": [
       "<IPython.core.display.HTML object>"
      ]
     },
     "metadata": {},
     "output_type": "display_data"
    },
    {
     "data": {
      "text/html": [
       "\n",
       "    <div style='color: blue; font-weight: bold;'>Original: He will be honored\n",
       "to host a prince of the realm...</div>\n",
       "    <div style='color: green; font-weight: bold;'>Translated: Ele terá a honra\n",
       "de receber um príncipe do reino...</div>\n",
       "    "
      ],
      "text/plain": [
       "<IPython.core.display.HTML object>"
      ]
     },
     "metadata": {},
     "output_type": "display_data"
    },
    {
     "data": {
      "text/html": [
       "\n",
       "    <div style='color: blue; font-weight: bold;'>Original: and his dragon.</div>\n",
       "    <div style='color: green; font-weight: bold;'>Translated: e o seu dragão.</div>\n",
       "    "
      ],
      "text/plain": [
       "<IPython.core.display.HTML object>"
      ]
     },
     "metadata": {},
     "output_type": "display_data"
    },
    {
     "data": {
      "text/html": [
       "\n",
       "    <div style='color: blue; font-weight: bold;'>Original: I expect you will receive\n",
       "a very warm welcome.</div>\n",
       "    <div style='color: green; font-weight: bold;'>Translated: Espero que recebas\n",
       "uma receção muito calorosa.</div>\n",
       "    "
      ],
      "text/plain": [
       "<IPython.core.display.HTML object>"
      ]
     },
     "metadata": {},
     "output_type": "display_data"
    },
    {
     "data": {
      "text/html": [
       "\n",
       "    <div style='color: blue; font-weight: bold;'>Original: Yes, Mother. Your Grace.</div>\n",
       "    <div style='color: green; font-weight: bold;'>Translated: Sim, mãe. Vossa Graça.</div>\n",
       "    "
      ],
      "text/plain": [
       "<IPython.core.display.HTML object>"
      ]
     },
     "metadata": {},
     "output_type": "display_data"
    },
    {
     "data": {
      "text/html": [
       "\n",
       "    <div style='color: blue; font-weight: bold;'>Original: Go to it then.</div>\n",
       "    <div style='color: green; font-weight: bold;'>Translated: Vai a isso, então.</div>\n",
       "    "
      ],
      "text/plain": [
       "<IPython.core.display.HTML object>"
      ]
     },
     "metadata": {},
     "output_type": "display_data"
    },
    {
     "data": {
      "text/html": [
       "\n",
       "    <div style='color: blue; font-weight: bold;'>Original: I am Prince Lucerys Velaryon.</div>\n",
       "    <div style='color: green; font-weight: bold;'>Translated: Eu sou o Príncipe Lucerys Velaryon.</div>\n",
       "    "
      ],
      "text/plain": [
       "<IPython.core.display.HTML object>"
      ]
     },
     "metadata": {},
     "output_type": "display_data"
    },
    {
     "data": {
      "text/html": [
       "\n",
       "    <div style='color: blue; font-weight: bold;'>Original: I bring a message to Lord Borros\n",
       "from the Queen.</div>\n",
       "    <div style='color: green; font-weight: bold;'>Translated: Trago uma mensagem para o Senhor Borros da Rainha.</div>\n",
       "    "
      ],
      "text/plain": [
       "<IPython.core.display.HTML object>"
      ]
     },
     "metadata": {},
     "output_type": "display_data"
    },
    {
     "data": {
      "text/html": [
       "\n",
       "    <div style='color: blue; font-weight: bold;'>Original: Prince Lucerys Velaryon.</div>\n",
       "    <div style='color: green; font-weight: bold;'>Translated: Príncipe Lucerys Velaryon.</div>\n",
       "    "
      ],
      "text/plain": [
       "<IPython.core.display.HTML object>"
      ]
     },
     "metadata": {},
     "output_type": "display_data"
    },
    {
     "data": {
      "text/html": [
       "\n",
       "    <div style='color: blue; font-weight: bold;'>Original: Son of Princess Rhaenyra Targaryen.</div>\n",
       "    <div style='color: green; font-weight: bold;'>Translated: Filho da Princesa Rhaenyra Targaryen.</div>\n",
       "    "
      ],
      "text/plain": [
       "<IPython.core.display.HTML object>"
      ]
     },
     "metadata": {},
     "output_type": "display_data"
    },
    {
     "data": {
      "text/html": [
       "\n",
       "    <div style='color: blue; font-weight: bold;'>Original: Lord Borros...</div>\n",
       "    <div style='color: green; font-weight: bold;'>Translated: Senhor Borros...</div>\n",
       "    "
      ],
      "text/plain": [
       "<IPython.core.display.HTML object>"
      ]
     },
     "metadata": {},
     "output_type": "display_data"
    },
    {
     "data": {
      "text/html": [
       "\n",
       "    <div style='color: blue; font-weight: bold;'>Original: I brought you a message from my mother...</div>\n",
       "    <div style='color: green; font-weight: bold;'>Translated: Trouxe-te uma mensagem da minha mãe...</div>\n",
       "    "
      ],
      "text/plain": [
       "<IPython.core.display.HTML object>"
      ]
     },
     "metadata": {},
     "output_type": "display_data"
    },
    {
     "data": {
      "text/html": [
       "\n",
       "    <div style='color: blue; font-weight: bold;'>Original: the Queen.</div>\n",
       "    <div style='color: green; font-weight: bold;'>Translated: a Rainha.</div>\n",
       "    "
      ],
      "text/plain": [
       "<IPython.core.display.HTML object>"
      ]
     },
     "metadata": {},
     "output_type": "display_data"
    },
    {
     "data": {
      "text/html": [
       "\n",
       "    <div style='color: blue; font-weight: bold;'>Original: Yet earlier this day,\n",
       "I received an envoy from the King.</div>\n",
       "    <div style='color: green; font-weight: bold;'>Translated: Ainda hoje, mais cedo,\n",
       "Recebi um enviado do Rei.</div>\n",
       "    "
      ],
      "text/plain": [
       "<IPython.core.display.HTML object>"
      ]
     },
     "metadata": {},
     "output_type": "display_data"
    },
    {
     "data": {
      "text/html": [
       "\n",
       "    <div style='color: blue; font-weight: bold;'>Original: Which is it?</div>\n",
       "    <div style='color: green; font-weight: bold;'>Translated: Qual é?</div>\n",
       "    "
      ],
      "text/plain": [
       "<IPython.core.display.HTML object>"
      ]
     },
     "metadata": {},
     "output_type": "display_data"
    },
    {
     "data": {
      "text/html": [
       "\n",
       "    <div style='color: blue; font-weight: bold;'>Original: King or Queen?</div>\n",
       "    <div style='color: green; font-weight: bold;'>Translated: Rei ou Rainha?</div>\n",
       "    "
      ],
      "text/plain": [
       "<IPython.core.display.HTML object>"
      ]
     },
     "metadata": {},
     "output_type": "display_data"
    },
    {
     "data": {
      "text/html": [
       "\n",
       "    <div style='color: blue; font-weight: bold;'>Original: The House of the Dragon\n",
       "does not seem to know who rules it.</div>\n",
       "    <div style='color: green; font-weight: bold;'>Translated: A Casa do Dragão parece não saber quem a governa.</div>\n",
       "    "
      ],
      "text/plain": [
       "<IPython.core.display.HTML object>"
      ]
     },
     "metadata": {},
     "output_type": "display_data"
    },
    {
     "data": {
      "text/html": [
       "\n",
       "    <div style='color: blue; font-weight: bold;'>Original: What's your mother's message?</div>\n",
       "    <div style='color: green; font-weight: bold;'>Translated: Qual é a mensagem da tua mãe?</div>\n",
       "    "
      ],
      "text/plain": [
       "<IPython.core.display.HTML object>"
      ]
     },
     "metadata": {},
     "output_type": "display_data"
    },
    {
     "data": {
      "text/html": [
       "\n",
       "    <div style='color: blue; font-weight: bold;'>Original: Where's the bloody maester?</div>\n",
       "    <div style='color: green; font-weight: bold;'>Translated: Onde está o maldito meistre?</div>\n",
       "    "
      ],
      "text/plain": [
       "<IPython.core.display.HTML object>"
      ]
     },
     "metadata": {},
     "output_type": "display_data"
    },
    {
     "data": {
      "text/html": [
       "\n",
       "    <div style='color: blue; font-weight: bold;'>Original: \"Remind\" me of my father's oath.</div>\n",
       "    <div style='color: green; font-weight: bold;'>Translated: \"Lembra-me\" do juramento do meu pai.</div>\n",
       "    "
      ],
      "text/plain": [
       "<IPython.core.display.HTML object>"
      ]
     },
     "metadata": {},
     "output_type": "display_data"
    },
    {
     "data": {
      "text/html": [
       "\n",
       "    <div style='color: blue; font-weight: bold;'>Original: King Aegon at least came with an offer:</div>\n",
       "    <div style='color: green; font-weight: bold;'>Translated: O Rei Aegon pelo menos veio com uma proposta:</div>\n",
       "    "
      ],
      "text/plain": [
       "<IPython.core.display.HTML object>"
      ]
     },
     "metadata": {},
     "output_type": "display_data"
    },
    {
     "data": {
      "text/html": [
       "\n",
       "    <div style='color: blue; font-weight: bold;'>Original: my swords and banners for a marriage pact.</div>\n",
       "    <div style='color: green; font-weight: bold;'>Translated: as minhas espadas e estandartes por um pacto de casamento.</div>\n",
       "    "
      ],
      "text/plain": [
       "<IPython.core.display.HTML object>"
      ]
     },
     "metadata": {},
     "output_type": "display_data"
    },
    {
     "data": {
      "text/html": [
       "\n",
       "    <div style='color: blue; font-weight: bold;'>Original: If I do as your mother bids...</div>\n",
       "    <div style='color: green; font-weight: bold;'>Translated: Se eu fizer o que a tua mãe pede...</div>\n",
       "    "
      ],
      "text/plain": [
       "<IPython.core.display.HTML object>"
      ]
     },
     "metadata": {},
     "output_type": "display_data"
    },
    {
     "data": {
      "text/html": [
       "\n",
       "    <div style='color: blue; font-weight: bold;'>Original: which one of my daughters will you wed...</div>\n",
       "    <div style='color: green; font-weight: bold;'>Translated: qual das minhas filhas vais casar...</div>\n",
       "    "
      ],
      "text/plain": [
       "<IPython.core.display.HTML object>"
      ]
     },
     "metadata": {},
     "output_type": "display_data"
    },
    {
     "data": {
      "text/html": [
       "\n",
       "    <div style='color: blue; font-weight: bold;'>Original: boy?</div>\n",
       "    <div style='color: green; font-weight: bold;'>Translated: rapaz?</div>\n",
       "    "
      ],
      "text/plain": [
       "<IPython.core.display.HTML object>"
      ]
     },
     "metadata": {},
     "output_type": "display_data"
    },
    {
     "data": {
      "text/html": [
       "\n",
       "    <div style='color: blue; font-weight: bold;'>Original: My lord... I am not free to marry.</div>\n",
       "    <div style='color: green; font-weight: bold;'>Translated: Meu senhor... Não sou livre para casar.</div>\n",
       "    "
      ],
      "text/plain": [
       "<IPython.core.display.HTML object>"
      ]
     },
     "metadata": {},
     "output_type": "display_data"
    },
    {
     "data": {
      "text/html": [
       "\n",
       "    <div style='color: blue; font-weight: bold;'>Original: I'm already betrothed.</div>\n",
       "    <div style='color: green; font-weight: bold;'>Translated: Já estou noivo(a).</div>\n",
       "    "
      ],
      "text/plain": [
       "<IPython.core.display.HTML object>"
      ]
     },
     "metadata": {},
     "output_type": "display_data"
    },
    {
     "data": {
      "text/html": [
       "\n",
       "    <div style='color: blue; font-weight: bold;'>Original: So you come with empty hands.</div>\n",
       "    <div style='color: green; font-weight: bold;'>Translated: Então vens de mãos vazias.</div>\n",
       "    "
      ],
      "text/plain": [
       "<IPython.core.display.HTML object>"
      ]
     },
     "metadata": {},
     "output_type": "display_data"
    },
    {
     "data": {
      "text/html": [
       "\n",
       "    <div style='color: blue; font-weight: bold;'>Original: Go home, pup.</div>\n",
       "    <div style='color: green; font-weight: bold;'>Translated: Vai para casa, cachorro.</div>\n",
       "    "
      ],
      "text/plain": [
       "<IPython.core.display.HTML object>"
      ]
     },
     "metadata": {},
     "output_type": "display_data"
    },
    {
     "data": {
      "text/html": [
       "\n",
       "    <div style='color: blue; font-weight: bold;'>Original: And tell your mother\n",
       "that the Lord of Storm's End</div>\n",
       "    <div style='color: green; font-weight: bold;'>Translated: E diga à sua mãe\n",
       "que o Senhor de Ponta Tempestade</div>\n",
       "    "
      ],
      "text/plain": [
       "<IPython.core.display.HTML object>"
      ]
     },
     "metadata": {},
     "output_type": "display_data"
    },
    {
     "data": {
      "text/html": [
       "\n",
       "    <div style='color: blue; font-weight: bold;'>Original: is not some dog that she can whistle up\n",
       "at need to set against her foes.</div>\n",
       "    <div style='color: green; font-weight: bold;'>Translated: não é algum cão que ela possa chamar com um assobio\n",
       "quando precisa para enfrentar os seus inimigos.</div>\n",
       "    "
      ],
      "text/plain": [
       "<IPython.core.display.HTML object>"
      ]
     },
     "metadata": {},
     "output_type": "display_data"
    },
    {
     "data": {
      "text/html": [
       "\n",
       "    <div style='color: blue; font-weight: bold;'>Original: I shall take your answer\n",
       "to the Queen, my lord.</div>\n",
       "    <div style='color: green; font-weight: bold;'>Translated: Levarei a sua resposta\n",
       "à Rainha, meu senhor.</div>\n",
       "    "
      ],
      "text/plain": [
       "<IPython.core.display.HTML object>"
      ]
     },
     "metadata": {},
     "output_type": "display_data"
    },
    {
     "data": {
      "text/html": [
       "\n",
       "    <div style='color: blue; font-weight: bold;'>Original: Wait...</div>\n",
       "    <div style='color: green; font-weight: bold;'>Translated: Espera...</div>\n",
       "    "
      ],
      "text/plain": [
       "<IPython.core.display.HTML object>"
      ]
     },
     "metadata": {},
     "output_type": "display_data"
    },
    {
     "data": {
      "text/html": [
       "\n",
       "    <div style='color: blue; font-weight: bold;'>Original: my Lord Strong.</div>\n",
       "    <div style='color: green; font-weight: bold;'>Translated: meu Senhor Forte.</div>\n",
       "    "
      ],
      "text/plain": [
       "<IPython.core.display.HTML object>"
      ]
     },
     "metadata": {},
     "output_type": "display_data"
    },
    {
     "data": {
      "text/html": [
       "\n",
       "    <div style='color: blue; font-weight: bold;'>Original: Did you really think\n",
       "that you could just fly about the realm</div>\n",
       "    <div style='color: green; font-weight: bold;'>Translated: Achaste mesmo que\n",
       "podias simplesmente voar pelo reino</div>\n",
       "    "
      ],
      "text/plain": [
       "<IPython.core.display.HTML object>"
      ]
     },
     "metadata": {},
     "output_type": "display_data"
    },
    {
     "data": {
      "text/html": [
       "\n",
       "    <div style='color: blue; font-weight: bold;'>Original: trying to steal my brother's throne\n",
       "at no cost?</div>\n",
       "    <div style='color: green; font-weight: bold;'>Translated: tentar roubar o trono do meu irmão\n",
       "sem custos?</div>\n",
       "    "
      ],
      "text/plain": [
       "<IPython.core.display.HTML object>"
      ]
     },
     "metadata": {},
     "output_type": "display_data"
    },
    {
     "data": {
      "text/html": [
       "\n",
       "    <div style='color: blue; font-weight: bold;'>Original: I will not fight you.</div>\n",
       "    <div style='color: green; font-weight: bold;'>Translated: Eu não vou lutar contigo.</div>\n",
       "    "
      ],
      "text/plain": [
       "<IPython.core.display.HTML object>"
      ]
     },
     "metadata": {},
     "output_type": "display_data"
    },
    {
     "data": {
      "text/html": [
       "\n",
       "    <div style='color: blue; font-weight: bold;'>Original: I came as a messenger, not a warrior.</div>\n",
       "    <div style='color: green; font-weight: bold;'>Translated: Eu vim como mensageiro, não como guerreiro.</div>\n",
       "    "
      ],
      "text/plain": [
       "<IPython.core.display.HTML object>"
      ]
     },
     "metadata": {},
     "output_type": "display_data"
    },
    {
     "data": {
      "text/html": [
       "\n",
       "    <div style='color: blue; font-weight: bold;'>Original: A fight would be little challenge.</div>\n",
       "    <div style='color: green; font-weight: bold;'>Translated: Uma luta seria pouco desafiante.</div>\n",
       "    "
      ],
      "text/plain": [
       "<IPython.core.display.HTML object>"
      ]
     },
     "metadata": {},
     "output_type": "display_data"
    },
    {
     "data": {
      "text/html": [
       "\n",
       "    <div style='color: blue; font-weight: bold;'>Original: No.</div>\n",
       "    <div style='color: green; font-weight: bold;'>Translated: Não.</div>\n",
       "    "
      ],
      "text/plain": [
       "<IPython.core.display.HTML object>"
      ]
     },
     "metadata": {},
     "output_type": "display_data"
    },
    {
     "data": {
      "text/html": [
       "\n",
       "    <div style='color: blue; font-weight: bold;'>Original: I want you to put out your eye.</div>\n",
       "    <div style='color: green; font-weight: bold;'>Translated: Quero que tires o teu olho.</div>\n",
       "    "
      ],
      "text/plain": [
       "<IPython.core.display.HTML object>"
      ]
     },
     "metadata": {},
     "output_type": "display_data"
    },
    {
     "data": {
      "text/html": [
       "\n",
       "    <div style='color: blue; font-weight: bold;'>Original: As payment for mine.</div>\n",
       "    <div style='color: green; font-weight: bold;'>Translated: Como pagamento pelo meu.</div>\n",
       "    "
      ],
      "text/plain": [
       "<IPython.core.display.HTML object>"
      ]
     },
     "metadata": {},
     "output_type": "display_data"
    },
    {
     "data": {
      "text/html": [
       "\n",
       "    <div style='color: blue; font-weight: bold;'>Original: One will serve.</div>\n",
       "    <div style='color: green; font-weight: bold;'>Translated: Um servirá.</div>\n",
       "    "
      ],
      "text/plain": [
       "<IPython.core.display.HTML object>"
      ]
     },
     "metadata": {},
     "output_type": "display_data"
    },
    {
     "data": {
      "text/html": [
       "\n",
       "    <div style='color: blue; font-weight: bold;'>Original: I would not blind you.</div>\n",
       "    <div style='color: green; font-weight: bold;'>Translated: Eu não te cegaria.</div>\n",
       "    "
      ],
      "text/plain": [
       "<IPython.core.display.HTML object>"
      ]
     },
     "metadata": {},
     "output_type": "display_data"
    },
    {
     "data": {
      "text/html": [
       "\n",
       "    <div style='color: blue; font-weight: bold;'>Original: Plan to make a gift of it to my mother.</div>\n",
       "    <div style='color: green; font-weight: bold;'>Translated: Plano de oferecer-lhe isso como presente à minha mãe.</div>\n",
       "    "
      ],
      "text/plain": [
       "<IPython.core.display.HTML object>"
      ]
     },
     "metadata": {},
     "output_type": "display_data"
    },
    {
     "data": {
      "text/html": [
       "\n",
       "    <div style='color: blue; font-weight: bold;'>Original: No.</div>\n",
       "    <div style='color: green; font-weight: bold;'>Translated: Não.</div>\n",
       "    "
      ],
      "text/plain": [
       "<IPython.core.display.HTML object>"
      ]
     },
     "metadata": {},
     "output_type": "display_data"
    },
    {
     "data": {
      "text/html": [
       "\n",
       "    <div style='color: blue; font-weight: bold;'>Original: Then you are craven as well as a traitor.</div>\n",
       "    <div style='color: green; font-weight: bold;'>Translated: Então és um covarde, além de traidor.</div>\n",
       "    "
      ],
      "text/plain": [
       "<IPython.core.display.HTML object>"
      ]
     },
     "metadata": {},
     "output_type": "display_data"
    },
    {
     "data": {
      "text/html": [
       "\n",
       "    <div style='color: blue; font-weight: bold;'>Original: -Not here.\n",
       "-Give me your eye</div>\n",
       "    <div style='color: green; font-weight: bold;'>Translated: -Não aqui.\n",
       "-Dá-me o teu olho.</div>\n",
       "    "
      ],
      "text/plain": [
       "<IPython.core.display.HTML object>"
      ]
     },
     "metadata": {},
     "output_type": "display_data"
    },
    {
     "data": {
      "text/html": [
       "\n",
       "    <div style='color: blue; font-weight: bold;'>Original: or I will take it, bastard!</div>\n",
       "    <div style='color: green; font-weight: bold;'>Translated: ou eu vou levá-lo, seu bastardo!</div>\n",
       "    "
      ],
      "text/plain": [
       "<IPython.core.display.HTML object>"
      ]
     },
     "metadata": {},
     "output_type": "display_data"
    },
    {
     "data": {
      "text/html": [
       "\n",
       "    <div style='color: blue; font-weight: bold;'>Original: Not in my hall!</div>\n",
       "    <div style='color: green; font-weight: bold;'>Translated: Não no meu corredor!</div>\n",
       "    "
      ],
      "text/plain": [
       "<IPython.core.display.HTML object>"
      ]
     },
     "metadata": {},
     "output_type": "display_data"
    },
    {
     "data": {
      "text/html": [
       "\n",
       "    <div style='color: blue; font-weight: bold;'>Original: The boy came as an envoy.</div>\n",
       "    <div style='color: green; font-weight: bold;'>Translated: O rapaz veio como um enviado.</div>\n",
       "    "
      ],
      "text/plain": [
       "<IPython.core.display.HTML object>"
      ]
     },
     "metadata": {},
     "output_type": "display_data"
    },
    {
     "data": {
      "text/html": [
       "\n",
       "    <div style='color: blue; font-weight: bold;'>Original: I'll not have bloodshed beneath my roof.</div>\n",
       "    <div style='color: green; font-weight: bold;'>Translated: Não permitirei derramamento de sangue debaixo do meu teto.</div>\n",
       "    "
      ],
      "text/plain": [
       "<IPython.core.display.HTML object>"
      ]
     },
     "metadata": {},
     "output_type": "display_data"
    },
    {
     "data": {
      "text/html": [
       "\n",
       "    <div style='color: blue; font-weight: bold;'>Original: Take Prince Lucerys back to his dragon.</div>\n",
       "    <div style='color: green; font-weight: bold;'>Translated: Leve o Príncipe Lucerys de volta ao seu dragão.</div>\n",
       "    "
      ],
      "text/plain": [
       "<IPython.core.display.HTML object>"
      ]
     },
     "metadata": {},
     "output_type": "display_data"
    },
    {
     "data": {
      "text/html": [
       "\n",
       "    <div style='color: blue; font-weight: bold;'>Original: Now.</div>\n",
       "    <div style='color: green; font-weight: bold;'>Translated: Agora.</div>\n",
       "    "
      ],
      "text/plain": [
       "<IPython.core.display.HTML object>"
      ]
     },
     "metadata": {},
     "output_type": "display_data"
    },
    {
     "data": {
      "text/html": [
       "\n",
       "    <div style='color: blue; font-weight: bold;'>Original: No, no, no, no, no! No, Vhagar! No!</div>\n",
       "    <div style='color: green; font-weight: bold;'>Translated: Não, não, não, não, não! Não, Vhagar! Não!</div>\n",
       "    "
      ],
      "text/plain": [
       "<IPython.core.display.HTML object>"
      ]
     },
     "metadata": {},
     "output_type": "display_data"
    },
    {
     "data": {
      "text/html": [
       "\n",
       "    <div style='color: blue; font-weight: bold;'>Original: Serve me, Vhagar! No!</div>\n",
       "    <div style='color: green; font-weight: bold;'>Translated: Serve-me, Vhagar! Não!</div>\n",
       "    "
      ],
      "text/plain": [
       "<IPython.core.display.HTML object>"
      ]
     },
     "metadata": {},
     "output_type": "display_data"
    },
    {
     "data": {
      "text/html": [
       "\n",
       "    <div style='color: blue; font-weight: bold;'>Original: Vhagar! No! No.</div>\n",
       "    <div style='color: green; font-weight: bold;'>Translated: Vhagar! Não! Não.</div>\n",
       "    "
      ],
      "text/plain": [
       "<IPython.core.display.HTML object>"
      ]
     },
     "metadata": {},
     "output_type": "display_data"
    },
    {
     "data": {
      "text/markdown": [
       "**Translated subtitles written to /Users/f.nuno/Downloads/House.of.the.Dragon.S01.COMPLETE.720p.HMAX.WEBRip.x264-GalaxyTV[TGx]/Extracted_Subtitles/subtitle_track_eng_pt-PT.srt**"
      ],
      "text/plain": [
       "<IPython.core.display.Markdown object>"
      ]
     },
     "metadata": {},
     "output_type": "display_data"
    }
   ],
   "source": [
    "def main():\n",
    "    file_path = select_mkv_file()\n",
    "    if not file_path:\n",
    "        display(Markdown(\"**No file selected.**\"))\n",
    "        return\n",
    "\n",
    "    output_dir = os.path.join(os.path.dirname(file_path), 'Extracted_Subtitles')\n",
    "    os.makedirs(output_dir, exist_ok=True)\n",
    "\n",
    "    movie_title, subtitle_tracks, mkv_info = get_subtitle_track_details(file_path)\n",
    "    if not subtitle_tracks:\n",
    "        display(Markdown(f\"**No subtitle tracks found in the MKV file '{movie_title}'.**\"))\n",
    "        return\n",
    "\n",
    "    display(Markdown(f\"**Movie Title:** {movie_title}\"))\n",
    "\n",
    "    english_found = False\n",
    "    for track in subtitle_tracks:\n",
    "        if track.get('language') == 'eng':\n",
    "            english_found = True\n",
    "            srt_path = extract_subtitles(file_path, output_dir, track['id'])\n",
    "            if srt_path:\n",
    "                display(Markdown(f\"**English subtitle extracted to:** `{srt_path}`\"))\n",
    "                break\n",
    "\n",
    "    if not english_found:\n",
    "        display(Markdown(\"**English subtitle not found**\"))\n",
    "        return\n",
    "\n",
    "    portuguese_found = any(track.get('language') == 'por' for track in subtitle_tracks)\n",
    "    if portuguese_found:\n",
    "        proceed = get_user_confirmation(\"Portuguese subtitles found. Do you still want to proceed with translation?\")\n",
    "        if not proceed:\n",
    "            display(Markdown(\"**Translation aborted by user.**\"))\n",
    "            return\n",
    "\n",
    "    translated_srt_path = os.path.join(output_dir, 'subtitle_track_eng_pt-PT.srt')\n",
    "    subtitles = parse_srt(srt_path)\n",
    "    display(Markdown(f\"**Parsed {len(subtitles)} subtitle segments.**\"))\n",
    "\n",
    "    translated_subtitles = []\n",
    "    for index, timestamp, text in tqdm(subtitles, desc=\"Translating Subtitles\"):\n",
    "        translated_text = translate_text(text)\n",
    "        if text != translated_text:\n",
    "            display_translations(text, translated_text)\n",
    "        translated_subtitles.append((index, timestamp, translated_text))\n",
    "    \n",
    "    write_srt(translated_subtitles, translated_srt_path)\n",
    "    display(Markdown(f\"**Translated subtitles written to {translated_srt_path}**\"))\n",
    "\n",
    "# Run the main function\n",
    "if __name__ == \"__main__\":\n",
    "    main()"
   ]
  },
  {
   "cell_type": "code",
   "execution_count": null,
   "id": "5bbc791e-75c6-4356-a74d-4c37c3aedb20",
   "metadata": {},
   "outputs": [],
   "source": []
  }
 ],
 "metadata": {
  "kernelspec": {
   "display_name": "Python 3 (ipykernel)",
   "language": "python",
   "name": "python3"
  },
  "language_info": {
   "codemirror_mode": {
    "name": "ipython",
    "version": 3
   },
   "file_extension": ".py",
   "mimetype": "text/x-python",
   "name": "python",
   "nbconvert_exporter": "python",
   "pygments_lexer": "ipython3",
   "version": "3.12.2"
  }
 },
 "nbformat": 4,
 "nbformat_minor": 5
}
