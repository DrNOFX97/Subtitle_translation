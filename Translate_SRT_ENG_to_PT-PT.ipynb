{
 "cells": [
  {
   "cell_type": "code",
   "execution_count": 2,
   "id": "4f272526-654b-40b8-9bba-13560a97175c",
   "metadata": {},
   "outputs": [
    {
     "name": "stdout",
     "output_type": "stream",
     "text": [
      "\u001b[36mReading file: /Users/f.nuno/Downloads/Extracted_Subtitles/subtitle_track_2.srt\u001b[0m\n"
     ]
    },
    {
     "data": {
      "application/vnd.jupyter.widget-view+json": {
       "model_id": "e2c08e28787449619a1fd8c15d90714e",
       "version_major": 2,
       "version_minor": 0
      },
      "text/plain": [
       "Translating Subtitles:   0%|          | 0/1380 [00:00<?, ?it/s]"
      ]
     },
     "metadata": {},
     "output_type": "display_data"
    },
    {
     "data": {
      "text/html": [
       "\n",
       "    <div style='color: blue; font-weight: bold;'>Original: Ah. Hmm.</div>\n",
       "    <div style='color: green; font-weight: bold;'>Translated: Ah. Hmm.</div>\n",
       "    "
      ],
      "text/plain": [
       "<IPython.core.display.HTML object>"
      ]
     },
     "metadata": {},
     "output_type": "display_data"
    },
    {
     "data": {
      "text/html": [
       "\n",
       "    <div style='color: blue; font-weight: bold;'>Original: Stuart.</div>\n",
       "    <div style='color: green; font-weight: bold;'>Translated: Stuart.</div>\n",
       "    "
      ],
      "text/plain": [
       "<IPython.core.display.HTML object>"
      ]
     },
     "metadata": {},
     "output_type": "display_data"
    },
    {
     "data": {
      "text/html": [
       "\n",
       "    <div style='color: blue; font-weight: bold;'>Original: Illumination!</div>\n",
       "    <div style='color: green; font-weight: bold;'>Translated: Iluminação!</div>\n",
       "    "
      ],
      "text/plain": [
       "<IPython.core.display.HTML object>"
      ]
     },
     "metadata": {},
     "output_type": "display_data"
    },
    {
     "data": {
      "text/html": [
       "\n",
       "    <div style='color: blue; font-weight: bold;'>Original: <i>♪ That's the question ♪</i></div>\n",
       "    <div style='color: green; font-weight: bold;'>Translated: <i>♪ Essa é a questão ♪</i></div>\n",
       "    "
      ],
      "text/plain": [
       "<IPython.core.display.HTML object>"
      ]
     },
     "metadata": {},
     "output_type": "display_data"
    },
    {
     "data": {
      "text/html": [
       "\n",
       "    <div style='color: blue; font-weight: bold;'>Original: <i>♪ Who will Gru be tonight? ♪</i></div>\n",
       "    <div style='color: green; font-weight: bold;'>Translated: <i>♪ Quem será o Gru esta noite? ♪</i></div>\n",
       "    "
      ],
      "text/plain": [
       "<IPython.core.display.HTML object>"
      ]
     },
     "metadata": {},
     "output_type": "display_data"
    },
    {
     "data": {
      "text/html": [
       "\n",
       "    <div style='color: blue; font-weight: bold;'>Original: <i>♪ That's the question ♪</i></div>\n",
       "    <div style='color: green; font-weight: bold;'>Translated: <i>♪ Essa é a questão ♪</i></div>\n",
       "    "
      ],
      "text/plain": [
       "<IPython.core.display.HTML object>"
      ]
     },
     "metadata": {},
     "output_type": "display_data"
    },
    {
     "data": {
      "text/html": [
       "\n",
       "    <div style='color: blue; font-weight: bold;'>Original: <i>♪ Hey, what are you hiding? ♪</i></div>\n",
       "    <div style='color: green; font-weight: bold;'>Translated: <i>♪ Olá, o que estás a esconder? ♪</i></div>\n",
       "    "
      ],
      "text/plain": [
       "<IPython.core.display.HTML object>"
      ]
     },
     "metadata": {},
     "output_type": "display_data"
    },
    {
     "data": {
      "text/html": [
       "\n",
       "    <div style='color: blue; font-weight: bold;'>Original: <i>♪ Whatcha doing\n",
       "When you gone? ♪</i></div>\n",
       "    <div style='color: green; font-weight: bold;'>Translated: <i>♪ O que fazes\n",
       "Quando te vais embora? ♪</i></div>\n",
       "    "
      ],
      "text/plain": [
       "<IPython.core.display.HTML object>"
      ]
     },
     "metadata": {},
     "output_type": "display_data"
    },
    {
     "data": {
      "text/html": [
       "\n",
       "    <div style='color: blue; font-weight: bold;'>Original: <i>♪ Nothing wrong being private ♪</i></div>\n",
       "    <div style='color: green; font-weight: bold;'>Translated: <i>♪ Não há nada de errado em ser reservado ♪</i></div>\n",
       "    "
      ],
      "text/plain": [
       "<IPython.core.display.HTML object>"
      ]
     },
     "metadata": {},
     "output_type": "display_data"
    },
    {
     "data": {
      "text/html": [
       "\n",
       "    <div style='color: blue; font-weight: bold;'>Original: <i>♪ Make sure it ain't wrong ♪</i></div>\n",
       "    <div style='color: green; font-weight: bold;'>Translated: <i>♪ Certifica-te que não está errado ♪</i></div>\n",
       "    "
      ],
      "text/plain": [
       "<IPython.core.display.HTML object>"
      ]
     },
     "metadata": {},
     "output_type": "display_data"
    },
    {
     "data": {
      "text/html": [
       "\n",
       "    <div style='color: blue; font-weight: bold;'>Original: <i>♪ Your life, double-sided ♪</i></div>\n",
       "    <div style='color: green; font-weight: bold;'>Translated: <i>♪ A tua vida, de dois lados ♪</i></div>\n",
       "    "
      ],
      "text/plain": [
       "<IPython.core.display.HTML object>"
      ]
     },
     "metadata": {},
     "output_type": "display_data"
    },
    {
     "data": {
      "text/html": [
       "\n",
       "    <div style='color: blue; font-weight: bold;'>Original: <i>♪ Two-faced like coins ♪</i></div>\n",
       "    <div style='color: green; font-weight: bold;'>Translated: <i>♪ Bipolar como moedas ♪</i></div>\n",
       "    "
      ],
      "text/plain": [
       "<IPython.core.display.HTML object>"
      ]
     },
     "metadata": {},
     "output_type": "display_data"
    },
    {
     "data": {
      "text/html": [
       "\n",
       "    <div style='color: blue; font-weight: bold;'>Original: <i>♪ What side do I get? ♪</i></div>\n",
       "    <div style='color: green; font-weight: bold;'>Translated: <i>♪ De que lado eu fico? ♪</i></div>\n",
       "    "
      ],
      "text/plain": [
       "<IPython.core.display.HTML object>"
      ]
     },
     "metadata": {},
     "output_type": "display_data"
    },
    {
     "data": {
      "text/html": [
       "\n",
       "    <div style='color: blue; font-weight: bold;'>Original: <i>♪ Which side are you on? ♪</i></div>\n",
       "    <div style='color: green; font-weight: bold;'>Translated: <i>♪ De que lado estás? ♪</i></div>\n",
       "    "
      ],
      "text/plain": [
       "<IPython.core.display.HTML object>"
      ]
     },
     "metadata": {},
     "output_type": "display_data"
    },
    {
     "data": {
      "text/html": [
       "\n",
       "    <div style='color: blue; font-weight: bold;'>Original: <i>♪ So what have you done? ♪</i></div>\n",
       "    <div style='color: green; font-weight: bold;'>Translated: <i>♪ Então o que fizeste? ♪</i></div>\n",
       "    "
      ],
      "text/plain": [
       "<IPython.core.display.HTML object>"
      ]
     },
     "metadata": {},
     "output_type": "display_data"
    },
    {
     "data": {
      "text/html": [
       "\n",
       "    <div style='color: blue; font-weight: bold;'>Original: <i>♪ Some of your dirt\n",
       "Has come to light ♪</i></div>\n",
       "    <div style='color: green; font-weight: bold;'>Translated: <i>♪ Parte da tua sujidade\n",
       "Veio à tona ♪</i></div>\n",
       "    "
      ],
      "text/plain": [
       "<IPython.core.display.HTML object>"
      ]
     },
     "metadata": {},
     "output_type": "display_data"
    },
    {
     "data": {
      "text/html": [
       "\n",
       "    <div style='color: blue; font-weight: bold;'>Original: <i>♪ Why were you ♪</i></div>\n",
       "    <div style='color: green; font-weight: bold;'>Translated: <i>♪ Porque eras tu ♪</i></div>\n",
       "    "
      ],
      "text/plain": [
       "<IPython.core.display.HTML object>"
      ]
     },
     "metadata": {},
     "output_type": "display_data"
    },
    {
     "data": {
      "text/html": [
       "\n",
       "    <div style='color: blue; font-weight: bold;'>Original: <i>♪ Speeding up that hill\n",
       "Until the brakes came off? ♪</i></div>\n",
       "    <div style='color: green; font-weight: bold;'>Translated: <i>♪ A acelerar por essa colina\n",
       "Até que os travões se soltaram? ♪</i></div>\n",
       "    "
      ],
      "text/plain": [
       "<IPython.core.display.HTML object>"
      ]
     },
     "metadata": {},
     "output_type": "display_data"
    },
    {
     "data": {
      "text/html": [
       "\n",
       "    <div style='color: blue; font-weight: bold;'>Original: <i>♪ And someone saw you\n",
       "In a fight ♪</i></div>\n",
       "    <div style='color: green; font-weight: bold;'>Translated: <i>♪ E alguém te viu\n",
       "Numa luta ♪</i></div>\n",
       "    "
      ],
      "text/plain": [
       "<IPython.core.display.HTML object>"
      ]
     },
     "metadata": {},
     "output_type": "display_data"
    },
    {
     "data": {
      "text/html": [
       "\n",
       "    <div style='color: blue; font-weight: bold;'>Original: <i>♪ Am I right? ♪</i></div>\n",
       "    <div style='color: green; font-weight: bold;'>Translated: <i>♪ Estou certo? ♪</i></div>\n",
       "    "
      ],
      "text/plain": [
       "<IPython.core.display.HTML object>"
      ]
     },
     "metadata": {},
     "output_type": "display_data"
    },
    {
     "data": {
      "text/html": [
       "\n",
       "    <div style='color: blue; font-weight: bold;'>Original: <i>♪ I know\n",
       "You heard the rumors ♪</i></div>\n",
       "    <div style='color: green; font-weight: bold;'>Translated: <i>♪ Eu sei\n",
       "Ouviu os rumores ♪</i></div>\n",
       "    "
      ],
      "text/plain": [
       "<IPython.core.display.HTML object>"
      ]
     },
     "metadata": {},
     "output_type": "display_data"
    },
    {
     "data": {
      "text/html": [
       "\n",
       "    <div style='color: blue; font-weight: bold;'>Original: <i>♪ You must get over to it\n",
       "Right away ♪</i></div>\n",
       "    <div style='color: green; font-weight: bold;'>Translated: <i>♪ Tens de ultrapassar isso\n",
       "Imediatamente ♪</i></div>\n",
       "    "
      ],
      "text/plain": [
       "<IPython.core.display.HTML object>"
      ]
     },
     "metadata": {},
     "output_type": "display_data"
    },
    {
     "data": {
      "text/html": [
       "\n",
       "    <div style='color: blue; font-weight: bold;'>Original: <i>♪ If anyone can do it ♪</i></div>\n",
       "    <div style='color: green; font-weight: bold;'>Translated: <i>♪ Se alguém consegue fazer, esse alguém sou eu ♪</i></div>\n",
       "    "
      ],
      "text/plain": [
       "<IPython.core.display.HTML object>"
      ]
     },
     "metadata": {},
     "output_type": "display_data"
    },
    {
     "data": {
      "text/html": [
       "\n",
       "    <div style='color: blue; font-weight: bold;'>Original: <i>♪ You gotta get there soon ♪</i></div>\n",
       "    <div style='color: green; font-weight: bold;'>Translated: <i>♪ Tens de chegar lá depressa ♪</i></div>\n",
       "    "
      ],
      "text/plain": [
       "<IPython.core.display.HTML object>"
      ]
     },
     "metadata": {},
     "output_type": "display_data"
    },
    {
     "data": {
      "text/html": [
       "\n",
       "    <div style='color: blue; font-weight: bold;'>Original: <i>♪ It's not okay ♪</i></div>\n",
       "    <div style='color: green; font-weight: bold;'>Translated: <i>♪ Não está bem ♪</i></div>\n",
       "    "
      ],
      "text/plain": [
       "<IPython.core.display.HTML object>"
      ]
     },
     "metadata": {},
     "output_type": "display_data"
    },
    {
     "data": {
      "text/html": [
       "\n",
       "    <div style='color: blue; font-weight: bold;'>Original: <i>♪ You got cars to drive ♪</i></div>\n",
       "    <div style='color: green; font-weight: bold;'>Translated: <i>♪ Tens carros para conduzir ♪</i></div>\n",
       "    "
      ],
      "text/plain": [
       "<IPython.core.display.HTML object>"
      ]
     },
     "metadata": {},
     "output_type": "display_data"
    },
    {
     "data": {
      "text/html": [
       "\n",
       "    <div style='color: blue; font-weight: bold;'>Original: <i>♪ Plenty jets to fly ♪</i></div>\n",
       "    <div style='color: green; font-weight: bold;'>Translated: <i>♪ Muitos jatos para voar ♪</i></div>\n",
       "    "
      ],
      "text/plain": [
       "<IPython.core.display.HTML object>"
      ]
     },
     "metadata": {},
     "output_type": "display_data"
    },
    {
     "data": {
      "text/html": [
       "\n",
       "    <div style='color: blue; font-weight: bold;'>Original: <i>♪ When will you arrive? ♪</i></div>\n",
       "    <div style='color: green; font-weight: bold;'>Translated: <i>♪ Quando chegarás? ♪</i></div>\n",
       "    "
      ],
      "text/plain": [
       "<IPython.core.display.HTML object>"
      ]
     },
     "metadata": {},
     "output_type": "display_data"
    },
    {
     "data": {
      "text/html": [
       "\n",
       "    <div style='color: blue; font-weight: bold;'>Original: <i>♪ You're running out of time ♪</i></div>\n",
       "    <div style='color: green; font-weight: bold;'>Translated: <i>♪ Estás a ficar sem tempo ♪</i></div>\n",
       "    "
      ],
      "text/plain": [
       "<IPython.core.display.HTML object>"
      ]
     },
     "metadata": {},
     "output_type": "display_data"
    },
    {
     "data": {
      "text/html": [
       "\n",
       "    <div style='color: blue; font-weight: bold;'>Original: <i>♪ Don't you see that everything\n",
       "Is on the line? ♪</i></div>\n",
       "    <div style='color: green; font-weight: bold;'>Translated: <i>♪ Não vês que tudo\n",
       "Está em jogo? ♪</i></div>\n",
       "    "
      ],
      "text/plain": [
       "<IPython.core.display.HTML object>"
      ]
     },
     "metadata": {},
     "output_type": "display_data"
    },
    {
     "data": {
      "text/html": [
       "\n",
       "    <div style='color: blue; font-weight: bold;'>Original: <i>♪ Am I right? ♪</i></div>\n",
       "    <div style='color: green; font-weight: bold;'>Translated: <i>♪ Estou certo? ♪</i></div>\n",
       "    "
      ],
      "text/plain": [
       "<IPython.core.display.HTML object>"
      ]
     },
     "metadata": {},
     "output_type": "display_data"
    },
    {
     "data": {
      "text/html": [
       "\n",
       "    <div style='color: blue; font-weight: bold;'>Original: <i>♪ Who will you be tonight? ♪</i></div>\n",
       "    <div style='color: green; font-weight: bold;'>Translated: <i>♪ Quem serás tu esta noite? ♪</i></div>\n",
       "    "
      ],
      "text/plain": [
       "<IPython.core.display.HTML object>"
      ]
     },
     "metadata": {},
     "output_type": "display_data"
    },
    {
     "data": {
      "text/html": [
       "\n",
       "    <div style='color: blue; font-weight: bold;'>Original: <i>♪ That's the question ♪</i></div>\n",
       "    <div style='color: green; font-weight: bold;'>Translated: <i>♪ Essa é a questão ♪</i></div>\n",
       "    "
      ],
      "text/plain": [
       "<IPython.core.display.HTML object>"
      ]
     },
     "metadata": {},
     "output_type": "display_data"
    },
    {
     "data": {
      "text/html": [
       "\n",
       "    <div style='color: blue; font-weight: bold;'>Original: <i>♪ Who will Gru be tonight? ♪</i></div>\n",
       "    <div style='color: green; font-weight: bold;'>Translated: <i>♪ Quem será o Gru esta noite? ♪</i></div>\n",
       "    "
      ],
      "text/plain": [
       "<IPython.core.display.HTML object>"
      ]
     },
     "metadata": {},
     "output_type": "display_data"
    },
    {
     "data": {
      "text/html": [
       "\n",
       "    <div style='color: blue; font-weight: bold;'>Original: <i>♪ That's the question ♪</i></div>\n",
       "    <div style='color: green; font-weight: bold;'>Translated: <i>♪ Essa é a questão ♪</i></div>\n",
       "    "
      ],
      "text/plain": [
       "<IPython.core.display.HTML object>"
      ]
     },
     "metadata": {},
     "output_type": "display_data"
    },
    {
     "data": {
      "text/html": [
       "\n",
       "    <div style='color: blue; font-weight: bold;'>Original: <i>♪ The thrill\n",
       "Of the double life ♪</i></div>\n",
       "    <div style='color: green; font-weight: bold;'>Translated: <i>♪ A emoção\n",
       "Da vida dupla ♪</i></div>\n",
       "    "
      ],
      "text/plain": [
       "<IPython.core.display.HTML object>"
      ]
     },
     "metadata": {},
     "output_type": "display_data"
    },
    {
     "data": {
      "text/html": [
       "\n",
       "    <div style='color: blue; font-weight: bold;'>Original: Phil, Ron, Ralph! Stay focused.</div>\n",
       "    <div style='color: green; font-weight: bold;'>Translated: Phil, Ron, Ralph! Mantenham-se concentrados.</div>\n",
       "    "
      ],
      "text/plain": [
       "<IPython.core.display.HTML object>"
      ]
     },
     "metadata": {},
     "output_type": "display_data"
    },
    {
     "data": {
      "text/html": [
       "\n",
       "    <div style='color: blue; font-weight: bold;'>Original: Uh. Uh, okay, okay.</div>\n",
       "    <div style='color: green; font-weight: bold;'>Translated: Uh. Uh, está bem, está bem.</div>\n",
       "    "
      ],
      "text/plain": [
       "<IPython.core.display.HTML object>"
      ]
     },
     "metadata": {},
     "output_type": "display_data"
    },
    {
     "data": {
      "text/html": [
       "\n",
       "    <div style='color: blue; font-weight: bold;'>Original: Hmm.</div>\n",
       "    <div style='color: green; font-weight: bold;'>Translated: Hmm.</div>\n",
       "    "
      ],
      "text/plain": [
       "<IPython.core.display.HTML object>"
      ]
     },
     "metadata": {},
     "output_type": "display_data"
    },
    {
     "data": {
      "text/html": [
       "\n",
       "    <div style='color: blue; font-weight: bold;'>Original: Okay, our target\n",
       "is Maxime Le Mal,</div>\n",
       "    <div style='color: green; font-weight: bold;'>Translated: Certo, o nosso alvo\n",
       "é Maxime Le Mal,</div>\n",
       "    "
      ],
      "text/plain": [
       "<IPython.core.display.HTML object>"
      ]
     },
     "metadata": {},
     "output_type": "display_data"
    },
    {
     "data": {
      "text/html": [
       "\n",
       "    <div style='color: blue; font-weight: bold;'>Original: one of the Anti-Villain League's\n",
       "most wanted.</div>\n",
       "    <div style='color: green; font-weight: bold;'>Translated: um dos mais procurados da Liga Anti-Vilões.</div>\n",
       "    "
      ],
      "text/plain": [
       "<IPython.core.display.HTML object>"
      ]
     },
     "metadata": {},
     "output_type": "display_data"
    },
    {
     "data": {
      "text/html": [
       "\n",
       "    <div style='color: blue; font-weight: bold;'>Original: And, trust me, a real jerk.</div>\n",
       "    <div style='color: green; font-weight: bold;'>Translated: E, acredita em mim, um verdadeiro idiota.</div>\n",
       "    "
      ],
      "text/plain": [
       "<IPython.core.display.HTML object>"
      ]
     },
     "metadata": {},
     "output_type": "display_data"
    },
    {
     "data": {
      "text/html": [
       "\n",
       "    <div style='color: blue; font-weight: bold;'>Original: So, there is no room\n",
       "for error. Got it?</div>\n",
       "    <div style='color: green; font-weight: bold;'>Translated: Portanto, não há margem para erro. Entendido?</div>\n",
       "    "
      ],
      "text/plain": [
       "<IPython.core.display.HTML object>"
      ]
     },
     "metadata": {},
     "output_type": "display_data"
    },
    {
     "data": {
      "text/html": [
       "\n",
       "    <div style='color: blue; font-weight: bold;'>Original: <i>Sí,</i> boss.</div>\n",
       "    <div style='color: green; font-weight: bold;'>Translated: Sim, chefe.</div>\n",
       "    "
      ],
      "text/plain": [
       "<IPython.core.display.HTML object>"
      ]
     },
     "metadata": {},
     "output_type": "display_data"
    },
    {
     "data": {
      "text/html": [
       "\n",
       "    <div style='color: blue; font-weight: bold;'>Original: Phil, Ron!</div>\n",
       "    <div style='color: green; font-weight: bold;'>Translated: Phil, Ron!</div>\n",
       "    "
      ],
      "text/plain": [
       "<IPython.core.display.HTML object>"
      ]
     },
     "metadata": {},
     "output_type": "display_data"
    },
    {
     "data": {
      "text/html": [
       "\n",
       "    <div style='color: blue; font-weight: bold;'>Original: Ah.</div>\n",
       "    <div style='color: green; font-weight: bold;'>Translated: Ah.</div>\n",
       "    "
      ],
      "text/plain": [
       "<IPython.core.display.HTML object>"
      ]
     },
     "metadata": {},
     "output_type": "display_data"
    },
    {
     "data": {
      "text/html": [
       "\n",
       "    <div style='color: blue; font-weight: bold;'>Original: Ah!</div>\n",
       "    <div style='color: green; font-weight: bold;'>Translated: Ah!</div>\n",
       "    "
      ],
      "text/plain": [
       "<IPython.core.display.HTML object>"
      ]
     },
     "metadata": {},
     "output_type": "display_data"
    },
    {
     "data": {
      "text/html": [
       "\n",
       "    <div style='color: blue; font-weight: bold;'>Original: Kids can be so cruel,\n",
       "but Maxime can be even crueler.</div>\n",
       "    <div style='color: green; font-weight: bold;'>Translated: As crianças podem ser tão cruéis,\n",
       "mas o Maxime pode ser ainda mais cruel.</div>\n",
       "    "
      ],
      "text/plain": [
       "<IPython.core.display.HTML object>"
      ]
     },
     "metadata": {},
     "output_type": "display_data"
    },
    {
     "data": {
      "text/html": [
       "\n",
       "    <div style='color: blue; font-weight: bold;'>Original: Ho, ho, ho.\n",
       "Well, well, well.</div>\n",
       "    <div style='color: green; font-weight: bold;'>Translated: Ho, ho, ho.\n",
       "Pois, pois, pois.</div>\n",
       "    "
      ],
      "text/plain": [
       "<IPython.core.display.HTML object>"
      ]
     },
     "metadata": {},
     "output_type": "display_data"
    },
    {
     "data": {
      "text/html": [
       "\n",
       "    <div style='color: blue; font-weight: bold;'>Original: Look who it is.</div>\n",
       "    <div style='color: green; font-weight: bold;'>Translated: Vê quem é.</div>\n",
       "    "
      ],
      "text/plain": [
       "<IPython.core.display.HTML object>"
      ]
     },
     "metadata": {},
     "output_type": "display_data"
    },
    {
     "data": {
      "text/html": [
       "\n",
       "    <div style='color: blue; font-weight: bold;'>Original: If it isn't Gru-ser the Loser.</div>\n",
       "    <div style='color: green; font-weight: bold;'>Translated: Se não é o Gru, o Fracassado.</div>\n",
       "    "
      ],
      "text/plain": [
       "<IPython.core.display.HTML object>"
      ]
     },
     "metadata": {},
     "output_type": "display_data"
    },
    {
     "data": {
      "text/html": [
       "\n",
       "    <div style='color: blue; font-weight: bold;'>Original: Well, if it isn't Maxime Le Mal.\n",
       "You look--</div>\n",
       "    <div style='color: green; font-weight: bold;'>Translated: Bem, se não é o Maxime Le Mal.\n",
       "Pareces...</div>\n",
       "    "
      ],
      "text/plain": [
       "<IPython.core.display.HTML object>"
      ]
     },
     "metadata": {},
     "output_type": "display_data"
    },
    {
     "data": {
      "text/html": [
       "\n",
       "    <div style='color: blue; font-weight: bold;'>Original: Magnificent? Yes, I know.</div>\n",
       "    <div style='color: green; font-weight: bold;'>Translated: Magnífico? Sim, eu sei.</div>\n",
       "    "
      ],
      "text/plain": [
       "<IPython.core.display.HTML object>"
      ]
     },
     "metadata": {},
     "output_type": "display_data"
    },
    {
     "data": {
      "text/html": [
       "\n",
       "    <div style='color: blue; font-weight: bold;'>Original: What did you think, huh?</div>\n",
       "    <div style='color: green; font-weight: bold;'>Translated: O que achaste, hein?</div>\n",
       "    "
      ],
      "text/plain": [
       "<IPython.core.display.HTML object>"
      ]
     },
     "metadata": {},
     "output_type": "display_data"
    },
    {
     "data": {
      "text/html": [
       "\n",
       "    <div style='color: blue; font-weight: bold;'>Original: I was going to look\n",
       "like a bald loser\n",
       "with a dad bod?</div>\n",
       "    <div style='color: green; font-weight: bold;'>Translated: Ia parecer\n",
       "um perdedor careca</div>\n",
       "    "
      ],
      "text/plain": [
       "<IPython.core.display.HTML object>"
      ]
     },
     "metadata": {},
     "output_type": "display_data"
    },
    {
     "data": {
      "text/html": [
       "\n",
       "    <div style='color: blue; font-weight: bold;'>Original: Oops. Looks like\n",
       "you beat me to it, no?</div>\n",
       "    <div style='color: green; font-weight: bold;'>Translated: Ups. Parece que me ganhaste de antemão, não é verdade?</div>\n",
       "    "
      ],
      "text/plain": [
       "<IPython.core.display.HTML object>"
      ]
     },
     "metadata": {},
     "output_type": "display_data"
    },
    {
     "data": {
      "text/html": [
       "\n",
       "    <div style='color: blue; font-weight: bold;'>Original: Ooh.\n",
       "Ooh!</div>\n",
       "    <div style='color: green; font-weight: bold;'>Translated: Ah.\n",
       "Ah!</div>\n",
       "    "
      ],
      "text/plain": [
       "<IPython.core.display.HTML object>"
      ]
     },
     "metadata": {},
     "output_type": "display_data"
    },
    {
     "data": {
      "text/html": [
       "\n",
       "    <div style='color: blue; font-weight: bold;'>Original: Oh.</div>\n",
       "    <div style='color: green; font-weight: bold;'>Translated: Ah.</div>\n",
       "    "
      ],
      "text/plain": [
       "<IPython.core.display.HTML object>"
      ]
     },
     "metadata": {},
     "output_type": "display_data"
    },
    {
     "data": {
      "text/html": [
       "\n",
       "    <div style='color: blue; font-weight: bold;'>Original: It's good to laugh, no?</div>\n",
       "    <div style='color: green; font-weight: bold;'>Translated: É bom rir, não é?</div>\n",
       "    "
      ],
      "text/plain": [
       "<IPython.core.display.HTML object>"
      ]
     },
     "metadata": {},
     "output_type": "display_data"
    },
    {
     "data": {
      "text/html": [
       "\n",
       "    <div style='color: blue; font-weight: bold;'>Original: Anyway, you remember\n",
       "my girlfriend, Valentina?</div>\n",
       "    <div style='color: green; font-weight: bold;'>Translated: De qualquer forma, lembras-te da minha namorada, Valentina?</div>\n",
       "    "
      ],
      "text/plain": [
       "<IPython.core.display.HTML object>"
      ]
     },
     "metadata": {},
     "output_type": "display_data"
    },
    {
     "data": {
      "text/html": [
       "\n",
       "    <div style='color: blue; font-weight: bold;'>Original: She was captain of\n",
       "the Femme Fatale cheer squad,</div>\n",
       "    <div style='color: green; font-weight: bold;'>Translated: Ela era a capitã\n",
       "da equipa de cheerleaders Femme Fatale,</div>\n",
       "    "
      ],
      "text/plain": [
       "<IPython.core.display.HTML object>"
      ]
     },
     "metadata": {},
     "output_type": "display_data"
    },
    {
     "data": {
      "text/html": [
       "\n",
       "    <div style='color: blue; font-weight: bold;'>Original: and the most popular girl\n",
       "at school, huh?</div>\n",
       "    <div style='color: green; font-weight: bold;'>Translated: e a rapariga mais popular\n",
       "da escola, hein?</div>\n",
       "    "
      ],
      "text/plain": [
       "<IPython.core.display.HTML object>"
      ]
     },
     "metadata": {},
     "output_type": "display_data"
    },
    {
     "data": {
      "text/html": [
       "\n",
       "    <div style='color: blue; font-weight: bold;'>Original: I remember.</div>\n",
       "    <div style='color: green; font-weight: bold;'>Translated: Eu lembro-me.</div>\n",
       "    "
      ],
      "text/plain": [
       "<IPython.core.display.HTML object>"
      ]
     },
     "metadata": {},
     "output_type": "display_data"
    },
    {
     "data": {
      "text/html": [
       "\n",
       "    <div style='color: blue; font-weight: bold;'>Original: Good to see you, Valentina.</div>\n",
       "    <div style='color: green; font-weight: bold;'>Translated: Bom ver-te, Valentina.</div>\n",
       "    "
      ],
      "text/plain": [
       "<IPython.core.display.HTML object>"
      ]
     },
     "metadata": {},
     "output_type": "display_data"
    },
    {
     "data": {
      "text/html": [
       "\n",
       "    <div style='color: blue; font-weight: bold;'>Original: What happened, Gru?</div>\n",
       "    <div style='color: green; font-weight: bold;'>Translated: O que aconteceu, Gru?</div>\n",
       "    "
      ],
      "text/plain": [
       "<IPython.core.display.HTML object>"
      ]
     },
     "metadata": {},
     "output_type": "display_data"
    },
    {
     "data": {
      "text/html": [
       "\n",
       "    <div style='color: blue; font-weight: bold;'>Original: All your dreams of becoming\n",
       "a famous villain,\n",
       "they go poof-poof, huh?</div>\n",
       "    <div style='color: green; font-weight: bold;'>Translated: Todos os teus sonhos de te tornares\n",
       "um vilão famoso,</div>\n",
       "    "
      ],
      "text/plain": [
       "<IPython.core.display.HTML object>"
      ]
     },
     "metadata": {},
     "output_type": "display_data"
    },
    {
     "data": {
      "text/html": [
       "\n",
       "    <div style='color: blue; font-weight: bold;'>Original: Well, I don't know if you know,</div>\n",
       "    <div style='color: green; font-weight: bold;'>Translated: Bem, não sei se sabes,</div>\n",
       "    "
      ],
      "text/plain": [
       "<IPython.core.display.HTML object>"
      ]
     },
     "metadata": {},
     "output_type": "display_data"
    },
    {
     "data": {
      "text/html": [
       "\n",
       "    <div style='color: blue; font-weight: bold;'>Original: but I did manage\n",
       "to steal the moon.</div>\n",
       "    <div style='color: green; font-weight: bold;'>Translated: mas consegui\n",
       "roubar a lua.</div>\n",
       "    "
      ],
      "text/plain": [
       "<IPython.core.display.HTML object>"
      ]
     },
     "metadata": {},
     "output_type": "display_data"
    },
    {
     "data": {
      "text/html": [
       "\n",
       "    <div style='color: blue; font-weight: bold;'>Original: Really?</div>\n",
       "    <div style='color: green; font-weight: bold;'>Translated: A sério?</div>\n",
       "    "
      ],
      "text/plain": [
       "<IPython.core.display.HTML object>"
      ]
     },
     "metadata": {},
     "output_type": "display_data"
    },
    {
     "data": {
      "text/html": [
       "\n",
       "    <div style='color: blue; font-weight: bold;'>Original: You mean, that moon?</div>\n",
       "    <div style='color: green; font-weight: bold;'>Translated: Queres dizer, essa lua?</div>\n",
       "    "
      ],
      "text/plain": [
       "<IPython.core.display.HTML object>"
      ]
     },
     "metadata": {},
     "output_type": "display_data"
    },
    {
     "data": {
      "text/html": [
       "\n",
       "    <div style='color: blue; font-weight: bold;'>Original: Is this on?</div>\n",
       "    <div style='color: green; font-weight: bold;'>Translated: Isto está ligado?</div>\n",
       "    "
      ],
      "text/plain": [
       "<IPython.core.display.HTML object>"
      ]
     },
     "metadata": {},
     "output_type": "display_data"
    },
    {
     "data": {
      "text/html": [
       "\n",
       "    <div style='color: blue; font-weight: bold;'>Original: Can I have\n",
       "everyone's attention, please?</div>\n",
       "    <div style='color: green; font-weight: bold;'>Translated: Posso ter a atenção de todos, por favor?</div>\n",
       "    "
      ],
      "text/plain": [
       "<IPython.core.display.HTML object>"
      ]
     },
     "metadata": {},
     "output_type": "display_data"
    },
    {
     "data": {
      "text/html": [
       "\n",
       "    <div style='color: blue; font-weight: bold;'>Original: Good evening and welcome,\n",
       "Lycée Pas Bon alumni.</div>\n",
       "    <div style='color: green; font-weight: bold;'>Translated: Boa noite e bem-vindos,\n",
       "antigos alunos do Lycée Pas Bon.</div>\n",
       "    "
      ],
      "text/plain": [
       "<IPython.core.display.HTML object>"
      ]
     },
     "metadata": {},
     "output_type": "display_data"
    },
    {
     "data": {
      "text/html": [
       "\n",
       "    <div style='color: blue; font-weight: bold;'>Original: Now, we're going to\n",
       "kick off the festivities</div>\n",
       "    <div style='color: green; font-weight: bold;'>Translated: Agora, vamos dar início às festividades.</div>\n",
       "    "
      ],
      "text/plain": [
       "<IPython.core.display.HTML object>"
      ]
     },
     "metadata": {},
     "output_type": "display_data"
    },
    {
     "data": {
      "text/html": [
       "\n",
       "    <div style='color: blue; font-weight: bold;'>Original: by announcing the winner\n",
       "of our most coveted award,</div>\n",
       "    <div style='color: green; font-weight: bold;'>Translated: ao anunciar o vencedor\n",
       "do nosso prémio mais cobiçado,</div>\n",
       "    "
      ],
      "text/plain": [
       "<IPython.core.display.HTML object>"
      ]
     },
     "metadata": {},
     "output_type": "display_data"
    },
    {
     "data": {
      "text/html": [
       "\n",
       "    <div style='color: blue; font-weight: bold;'>Original: The Golden Alumni.</div>\n",
       "    <div style='color: green; font-weight: bold;'>Translated: Os Antigos Alunos Dourados.</div>\n",
       "    "
      ],
      "text/plain": [
       "<IPython.core.display.HTML object>"
      ]
     },
     "metadata": {},
     "output_type": "display_data"
    },
    {
     "data": {
      "text/html": [
       "\n",
       "    <div style='color: blue; font-weight: bold;'>Original: And so, without further ado,</div>\n",
       "    <div style='color: green; font-weight: bold;'>Translated: E assim, sem mais demoras,</div>\n",
       "    "
      ],
      "text/plain": [
       "<IPython.core.display.HTML object>"
      ]
     },
     "metadata": {},
     "output_type": "display_data"
    },
    {
     "data": {
      "text/html": [
       "\n",
       "    <div style='color: blue; font-weight: bold;'>Original: the winner of this year's\n",
       "Golden Alumni is, uh...</div>\n",
       "    <div style='color: green; font-weight: bold;'>Translated: o vencedor deste ano do\n",
       "Golden Alumni é, uh...</div>\n",
       "    "
      ],
      "text/plain": [
       "<IPython.core.display.HTML object>"
      ]
     },
     "metadata": {},
     "output_type": "display_data"
    },
    {
     "data": {
      "text/html": [
       "\n",
       "    <div style='color: blue; font-weight: bold;'>Original: Oh, my favorite student.</div>\n",
       "    <div style='color: green; font-weight: bold;'>Translated: Ah, o meu aluno preferido.</div>\n",
       "    "
      ],
      "text/plain": [
       "<IPython.core.display.HTML object>"
      ]
     },
     "metadata": {},
     "output_type": "display_data"
    },
    {
     "data": {
      "text/html": [
       "\n",
       "    <div style='color: blue; font-weight: bold;'>Original: Maxime Le Mal.</div>\n",
       "    <div style='color: green; font-weight: bold;'>Translated: Maxime Le Mal.</div>\n",
       "    "
      ],
      "text/plain": [
       "<IPython.core.display.HTML object>"
      ]
     },
     "metadata": {},
     "output_type": "display_data"
    },
    {
     "data": {
      "text/html": [
       "\n",
       "    <div style='color: blue; font-weight: bold;'>Original: What?\n",
       "Are you kidding me?\n",
       "Thank you. Thank you.</div>\n",
       "    <div style='color: green; font-weight: bold;'>Translated: O quê?\n",
       "Estás a brincar comigo?</div>\n",
       "    "
      ],
      "text/plain": [
       "<IPython.core.display.HTML object>"
      ]
     },
     "metadata": {},
     "output_type": "display_data"
    },
    {
     "data": {
      "text/html": [
       "\n",
       "    <div style='color: blue; font-weight: bold;'>Original: <i>Merci. Merci beaucoup.</i></div>\n",
       "    <div style='color: green; font-weight: bold;'>Translated: Obrigado. Muito obrigado.</div>\n",
       "    "
      ],
      "text/plain": [
       "<IPython.core.display.HTML object>"
      ]
     },
     "metadata": {},
     "output_type": "display_data"
    },
    {
     "data": {
      "text/html": [
       "\n",
       "    <div style='color: blue; font-weight: bold;'>Original: No, you don't have to.</div>\n",
       "    <div style='color: green; font-weight: bold;'>Translated: Não, não precisas.</div>\n",
       "    "
      ],
      "text/plain": [
       "<IPython.core.display.HTML object>"
      ]
     },
     "metadata": {},
     "output_type": "display_data"
    },
    {
     "data": {
      "text/html": [
       "\n",
       "    <div style='color: blue; font-weight: bold;'>Original: Oh, thank you. Thank you.</div>\n",
       "    <div style='color: green; font-weight: bold;'>Translated: Oh, obrigado. Obrigado.</div>\n",
       "    "
      ],
      "text/plain": [
       "<IPython.core.display.HTML object>"
      ]
     },
     "metadata": {},
     "output_type": "display_data"
    },
    {
     "data": {
      "text/html": [
       "\n",
       "    <div style='color: blue; font-weight: bold;'>Original: Thank you.</div>\n",
       "    <div style='color: green; font-weight: bold;'>Translated: Obrigado.</div>\n",
       "    "
      ],
      "text/plain": [
       "<IPython.core.display.HTML object>"
      ]
     },
     "metadata": {},
     "output_type": "display_data"
    },
    {
     "data": {
      "text/html": [
       "\n",
       "    <div style='color: blue; font-weight: bold;'>Original: I'm sure you all know</div>\n",
       "    <div style='color: green; font-weight: bold;'>Translated: Tenho a certeza que todos sabem</div>\n",
       "    "
      ],
      "text/plain": [
       "<IPython.core.display.HTML object>"
      ]
     },
     "metadata": {},
     "output_type": "display_data"
    },
    {
     "data": {
      "text/html": [
       "\n",
       "    <div style='color: blue; font-weight: bold;'>Original: that I have something\n",
       "very big in the works.</div>\n",
       "    <div style='color: green; font-weight: bold;'>Translated: que tenho algo muito grande em preparação.</div>\n",
       "    "
      ],
      "text/plain": [
       "<IPython.core.display.HTML object>"
      ]
     },
     "metadata": {},
     "output_type": "display_data"
    },
    {
     "data": {
      "text/html": [
       "\n",
       "    <div style='color: blue; font-weight: bold;'>Original: Now, some of you laughed at\n",
       "my childhood obsession\n",
       "with cockroaches.</div>\n",
       "    <div style='color: green; font-weight: bold;'>Translated: Agora, alguns de vocês riram-se\n",
       "da minha obsessão de infância</div>\n",
       "    "
      ],
      "text/plain": [
       "<IPython.core.display.HTML object>"
      ]
     },
     "metadata": {},
     "output_type": "display_data"
    },
    {
     "data": {
      "text/html": [
       "\n",
       "    <div style='color: blue; font-weight: bold;'>Original: But I quickly learned\n",
       "that they are\n",
       "a miracle of evolution.</div>\n",
       "    <div style='color: green; font-weight: bold;'>Translated: Mas rapidamente aprendi\n",
       "que eles são</div>\n",
       "    "
      ],
      "text/plain": [
       "<IPython.core.display.HTML object>"
      ]
     },
     "metadata": {},
     "output_type": "display_data"
    },
    {
     "data": {
      "text/html": [
       "\n",
       "    <div style='color: blue; font-weight: bold;'>Original: And I have found a way\n",
       "to harness the strength</div>\n",
       "    <div style='color: green; font-weight: bold;'>Translated: E encontrei uma forma\n",
       "de aproveitar a força</div>\n",
       "    "
      ],
      "text/plain": [
       "<IPython.core.display.HTML object>"
      ]
     },
     "metadata": {},
     "output_type": "display_data"
    },
    {
     "data": {
      "text/html": [
       "\n",
       "    <div style='color: blue; font-weight: bold;'>Original: and the speed and the--\n",
       "What is the word?</div>\n",
       "    <div style='color: green; font-weight: bold;'>Translated: e a velocidade e o--\n",
       "Qual é a palavra?</div>\n",
       "    "
      ],
      "text/plain": [
       "<IPython.core.display.HTML object>"
      ]
     },
     "metadata": {},
     "output_type": "display_data"
    },
    {
     "data": {
      "text/html": [
       "\n",
       "    <div style='color: blue; font-weight: bold;'>Original: \"Unsquishability\" of the most\n",
       "powerful creature on the planet.</div>\n",
       "    <div style='color: green; font-weight: bold;'>Translated: \"Inesmagabilidade\" da criatura mais poderosa do planeta.</div>\n",
       "    "
      ],
      "text/plain": [
       "<IPython.core.display.HTML object>"
      ]
     },
     "metadata": {},
     "output_type": "display_data"
    },
    {
     "data": {
      "text/html": [
       "\n",
       "    <div style='color: blue; font-weight: bold;'>Original: Which makes me\n",
       "indestructible and unstoppable!</div>\n",
       "    <div style='color: green; font-weight: bold;'>Translated: O que me torna\n",
       "indestrutível e imparável!</div>\n",
       "    "
      ],
      "text/plain": [
       "<IPython.core.display.HTML object>"
      ]
     },
     "metadata": {},
     "output_type": "display_data"
    },
    {
     "data": {
      "text/html": [
       "\n",
       "    <div style='color: blue; font-weight: bold;'>Original: Maxime! Maxime! Maxime!</div>\n",
       "    <div style='color: green; font-weight: bold;'>Translated: Máximo! Máximo! Máximo!</div>\n",
       "    "
      ],
      "text/plain": [
       "<IPython.core.display.HTML object>"
      ]
     },
     "metadata": {},
     "output_type": "display_data"
    },
    {
     "data": {
      "text/html": [
       "\n",
       "    <div style='color: blue; font-weight: bold;'>Original: Behold the power\n",
       "of the cockroach!</div>\n",
       "    <div style='color: green; font-weight: bold;'>Translated: Contempla o poder\n",
       "da barata!</div>\n",
       "    "
      ],
      "text/plain": [
       "<IPython.core.display.HTML object>"
      ]
     },
     "metadata": {},
     "output_type": "display_data"
    },
    {
     "data": {
      "text/html": [
       "\n",
       "    <div style='color: blue; font-weight: bold;'>Original: So, my sad little friend,\n",
       "what do you say about that, huh?</div>\n",
       "    <div style='color: green; font-weight: bold;'>Translated: Então, meu triste pequeno amigo,\n",
       "o que tens a dizer sobre isso, hein?</div>\n",
       "    "
      ],
      "text/plain": [
       "<IPython.core.display.HTML object>"
      ]
     },
     "metadata": {},
     "output_type": "display_data"
    },
    {
     "data": {
      "text/html": [
       "\n",
       "    <div style='color: blue; font-weight: bold;'>Original: Well, I'd say you're...</div>\n",
       "    <div style='color: green; font-weight: bold;'>Translated: Bem, eu diria que és...</div>\n",
       "    "
      ],
      "text/plain": [
       "<IPython.core.display.HTML object>"
      ]
     },
     "metadata": {},
     "output_type": "display_data"
    },
    {
     "data": {
      "text/html": [
       "\n",
       "    <div style='color: blue; font-weight: bold;'>Original: under arrest,\n",
       "courtesy of\n",
       "the Anti-Villain League.</div>\n",
       "    <div style='color: green; font-weight: bold;'>Translated: sob detenção,\n",
       "cortesia da</div>\n",
       "    "
      ],
      "text/plain": [
       "<IPython.core.display.HTML object>"
      ]
     },
     "metadata": {},
     "output_type": "display_data"
    },
    {
     "data": {
      "text/html": [
       "\n",
       "    <div style='color: blue; font-weight: bold;'>Original: Oh...\n",
       "...I don't think so, <i>mon ami.</i></div>\n",
       "    <div style='color: green; font-weight: bold;'>Translated: Oh...\n",
       "...acho que não, <i>meu amigo</i>.</div>\n",
       "    "
      ],
      "text/plain": [
       "<IPython.core.display.HTML object>"
      ]
     },
     "metadata": {},
     "output_type": "display_data"
    },
    {
     "data": {
      "text/html": [
       "\n",
       "    <div style='color: blue; font-weight: bold;'>Original: Oh, yeah? Goop grenade!</div>\n",
       "    <div style='color: green; font-weight: bold;'>Translated: Ah, sim? Granada de gosma!</div>\n",
       "    "
      ],
      "text/plain": [
       "<IPython.core.display.HTML object>"
      ]
     },
     "metadata": {},
     "output_type": "display_data"
    },
    {
     "data": {
      "text/html": [
       "\n",
       "    <div style='color: blue; font-weight: bold;'>Original: No!</div>\n",
       "    <div style='color: green; font-weight: bold;'>Translated: Não!</div>\n",
       "    "
      ],
      "text/plain": [
       "<IPython.core.display.HTML object>"
      ]
     },
     "metadata": {},
     "output_type": "display_data"
    },
    {
     "data": {
      "text/html": [
       "\n",
       "    <div style='color: blue; font-weight: bold;'>Original: Hi-yah!</div>\n",
       "    <div style='color: green; font-weight: bold;'>Translated: Olá!</div>\n",
       "    "
      ],
      "text/plain": [
       "<IPython.core.display.HTML object>"
      ]
     },
     "metadata": {},
     "output_type": "display_data"
    },
    {
     "data": {
      "text/html": [
       "\n",
       "    <div style='color: blue; font-weight: bold;'>Original: Move in.</div>\n",
       "    <div style='color: green; font-weight: bold;'>Translated: Mude-se.</div>\n",
       "    "
      ],
      "text/plain": [
       "<IPython.core.display.HTML object>"
      ]
     },
     "metadata": {},
     "output_type": "display_data"
    },
    {
     "data": {
      "text/html": [
       "\n",
       "    <div style='color: blue; font-weight: bold;'>Original: AVL!\n",
       "Everybody, freeze!</div>\n",
       "    <div style='color: green; font-weight: bold;'>Translated: AVL!\n",
       "Todos, fiquem imóveis!</div>\n",
       "    "
      ],
      "text/plain": [
       "<IPython.core.display.HTML object>"
      ]
     },
     "metadata": {},
     "output_type": "display_data"
    },
    {
     "data": {
      "text/html": [
       "\n",
       "    <div style='color: blue; font-weight: bold;'>Original: Stay where you are.\n",
       "Move!</div>\n",
       "    <div style='color: green; font-weight: bold;'>Translated: Fica onde estás.\n",
       "Mexa-se!</div>\n",
       "    "
      ],
      "text/plain": [
       "<IPython.core.display.HTML object>"
      ]
     },
     "metadata": {},
     "output_type": "display_data"
    },
    {
     "data": {
      "text/html": [
       "\n",
       "    <div style='color: blue; font-weight: bold;'>Original: Ha!</div>\n",
       "    <div style='color: green; font-weight: bold;'>Translated: Ah!</div>\n",
       "    "
      ],
      "text/plain": [
       "<IPython.core.display.HTML object>"
      ]
     },
     "metadata": {},
     "output_type": "display_data"
    },
    {
     "data": {
      "text/html": [
       "\n",
       "    <div style='color: blue; font-weight: bold;'>Original: Stay there!</div>\n",
       "    <div style='color: green; font-weight: bold;'>Translated: Fica aí!</div>\n",
       "    "
      ],
      "text/plain": [
       "<IPython.core.display.HTML object>"
      ]
     },
     "metadata": {},
     "output_type": "display_data"
    },
    {
     "data": {
      "text/html": [
       "\n",
       "    <div style='color: blue; font-weight: bold;'>Original: Freeze!</div>\n",
       "    <div style='color: green; font-weight: bold;'>Translated: Não se mexa!</div>\n",
       "    "
      ],
      "text/plain": [
       "<IPython.core.display.HTML object>"
      ]
     },
     "metadata": {},
     "output_type": "display_data"
    },
    {
     "data": {
      "text/html": [
       "\n",
       "    <div style='color: blue; font-weight: bold;'>Original: Gotcha!</div>\n",
       "    <div style='color: green; font-weight: bold;'>Translated: Entendi!</div>\n",
       "    "
      ],
      "text/plain": [
       "<IPython.core.display.HTML object>"
      ]
     },
     "metadata": {},
     "output_type": "display_data"
    },
    {
     "data": {
      "text/html": [
       "\n",
       "    <div style='color: blue; font-weight: bold;'>Original: No, no, no! No!</div>\n",
       "    <div style='color: green; font-weight: bold;'>Translated: Não, não, não! Não!</div>\n",
       "    "
      ],
      "text/plain": [
       "<IPython.core.display.HTML object>"
      ]
     },
     "metadata": {},
     "output_type": "display_data"
    },
    {
     "data": {
      "text/html": [
       "\n",
       "    <div style='color: blue; font-weight: bold;'>Original: This is not happening!</div>\n",
       "    <div style='color: green; font-weight: bold;'>Translated: Isto não está a acontecer!</div>\n",
       "    "
      ],
      "text/plain": [
       "<IPython.core.display.HTML object>"
      ]
     },
     "metadata": {},
     "output_type": "display_data"
    },
    {
     "data": {
      "text/html": [
       "\n",
       "    <div style='color: blue; font-weight: bold;'>Original: <i>C'est impossible.</i></div>\n",
       "    <div style='color: green; font-weight: bold;'>Translated: É impossível.</div>\n",
       "    "
      ],
      "text/plain": [
       "<IPython.core.display.HTML object>"
      ]
     },
     "metadata": {},
     "output_type": "display_data"
    },
    {
     "data": {
      "text/html": [
       "\n",
       "    <div style='color: blue; font-weight: bold;'>Original: Get your hands off of me!</div>\n",
       "    <div style='color: green; font-weight: bold;'>Translated: Tira as mãos de mim!</div>\n",
       "    "
      ],
      "text/plain": [
       "<IPython.core.display.HTML object>"
      ]
     },
     "metadata": {},
     "output_type": "display_data"
    },
    {
     "data": {
      "text/html": [
       "\n",
       "    <div style='color: blue; font-weight: bold;'>Original: - I am commanding you\n",
       "to let me go.</div>\n",
       "    <div style='color: green; font-weight: bold;'>Translated: - Estou a ordenar-te que me deixes ir.</div>\n",
       "    "
      ],
      "text/plain": [
       "<IPython.core.display.HTML object>"
      ]
     },
     "metadata": {},
     "output_type": "display_data"
    },
    {
     "data": {
      "text/html": [
       "\n",
       "    <div style='color: blue; font-weight: bold;'>Original: So long, Maxime!</div>\n",
       "    <div style='color: green; font-weight: bold;'>Translated: Adeus, Maxime!</div>\n",
       "    "
      ],
      "text/plain": [
       "<IPython.core.display.HTML object>"
      ]
     },
     "metadata": {},
     "output_type": "display_data"
    },
    {
     "data": {
      "text/html": [
       "\n",
       "    <div style='color: blue; font-weight: bold;'>Original: Who's the loser now?</div>\n",
       "    <div style='color: green; font-weight: bold;'>Translated: Quem é o perdedor agora?</div>\n",
       "    "
      ],
      "text/plain": [
       "<IPython.core.display.HTML object>"
      ]
     },
     "metadata": {},
     "output_type": "display_data"
    },
    {
     "data": {
      "text/html": [
       "\n",
       "    <div style='color: blue; font-weight: bold;'>Original: Loser, loser, loser!</div>\n",
       "    <div style='color: green; font-weight: bold;'>Translated: Perdedor, perdedor, perdedor!</div>\n",
       "    "
      ],
      "text/plain": [
       "<IPython.core.display.HTML object>"
      ]
     },
     "metadata": {},
     "output_type": "display_data"
    },
    {
     "data": {
      "text/html": [
       "\n",
       "    <div style='color: blue; font-weight: bold;'>Original: This is not over!</div>\n",
       "    <div style='color: green; font-weight: bold;'>Translated: Isto ainda não acabou!</div>\n",
       "    "
      ],
      "text/plain": [
       "<IPython.core.display.HTML object>"
      ]
     },
     "metadata": {},
     "output_type": "display_data"
    },
    {
     "data": {
      "text/html": [
       "\n",
       "    <div style='color: blue; font-weight: bold;'>Original: You won't always\n",
       "have the AVL</div>\n",
       "    <div style='color: green; font-weight: bold;'>Translated: Nem sempre terás o AVL</div>\n",
       "    "
      ],
      "text/plain": [
       "<IPython.core.display.HTML object>"
      ]
     },
     "metadata": {},
     "output_type": "display_data"
    },
    {
     "data": {
      "text/html": [
       "\n",
       "    <div style='color: blue; font-weight: bold;'>Original: to fight your battles,\n",
       "you coward!</div>\n",
       "    <div style='color: green; font-weight: bold;'>Translated: para lutares as tuas batalhas,\n",
       "seu covarde!</div>\n",
       "    "
      ],
      "text/plain": [
       "<IPython.core.display.HTML object>"
      ]
     },
     "metadata": {},
     "output_type": "display_data"
    },
    {
     "data": {
      "text/html": [
       "\n",
       "    <div style='color: blue; font-weight: bold;'>Original: Mark my words!\n",
       "I will exterminate you!</div>\n",
       "    <div style='color: green; font-weight: bold;'>Translated: Marca as minhas palavras!\n",
       "Eu vou exterminar-te!</div>\n",
       "    "
      ],
      "text/plain": [
       "<IPython.core.display.HTML object>"
      ]
     },
     "metadata": {},
     "output_type": "display_data"
    },
    {
     "data": {
      "text/html": [
       "\n",
       "    <div style='color: blue; font-weight: bold;'>Original: Not, uh--\n",
       "Not scary at all.</div>\n",
       "    <div style='color: green; font-weight: bold;'>Translated: Nada, uh--\n",
       "Nada assustador.</div>\n",
       "    "
      ],
      "text/plain": [
       "<IPython.core.display.HTML object>"
      ]
     },
     "metadata": {},
     "output_type": "display_data"
    },
    {
     "data": {
      "text/html": [
       "\n",
       "    <div style='color: blue; font-weight: bold;'>Original: Hello, everybody!</div>\n",
       "    <div style='color: green; font-weight: bold;'>Translated: Olá a todos!</div>\n",
       "    "
      ],
      "text/plain": [
       "<IPython.core.display.HTML object>"
      ]
     },
     "metadata": {},
     "output_type": "display_data"
    },
    {
     "data": {
      "text/html": [
       "\n",
       "    <div style='color: blue; font-weight: bold;'>Original: Gru, what's up?\n",
       "Yay, Gru!</div>\n",
       "    <div style='color: green; font-weight: bold;'>Translated: Gru, como estás?\n",
       "Viva, Gru!</div>\n",
       "    "
      ],
      "text/plain": [
       "<IPython.core.display.HTML object>"
      ]
     },
     "metadata": {},
     "output_type": "display_data"
    },
    {
     "data": {
      "text/html": [
       "\n",
       "    <div style='color: blue; font-weight: bold;'>Original: Hey, Gru.\n",
       "I'm so happy\n",
       "you're here!</div>\n",
       "    <div style='color: green; font-weight: bold;'>Translated: Olá, Gru.\n",
       "Estou tão feliz</div>\n",
       "    "
      ],
      "text/plain": [
       "<IPython.core.display.HTML object>"
      ]
     },
     "metadata": {},
     "output_type": "display_data"
    },
    {
     "data": {
      "text/html": [
       "\n",
       "    <div style='color: blue; font-weight: bold;'>Original: What's shaking\n",
       "in the Gru house?</div>\n",
       "    <div style='color: green; font-weight: bold;'>Translated: O que se passa na casa dos Gru?</div>\n",
       "    "
      ],
      "text/plain": [
       "<IPython.core.display.HTML object>"
      ]
     },
     "metadata": {},
     "output_type": "display_data"
    },
    {
     "data": {
      "text/html": [
       "\n",
       "    <div style='color: blue; font-weight: bold;'>Original: Look what I taught Lucky.</div>\n",
       "    <div style='color: green; font-weight: bold;'>Translated: Vê o que ensinei ao Lucky.</div>\n",
       "    "
      ],
      "text/plain": [
       "<IPython.core.display.HTML object>"
      ]
     },
     "metadata": {},
     "output_type": "display_data"
    },
    {
     "data": {
      "text/html": [
       "\n",
       "    <div style='color: blue; font-weight: bold;'>Original: - Lucky, sit.</div>\n",
       "    <div style='color: green; font-weight: bold;'>Translated: - Lucky, senta-te.</div>\n",
       "    "
      ],
      "text/plain": [
       "<IPython.core.display.HTML object>"
      ]
     },
     "metadata": {},
     "output_type": "display_data"
    },
    {
     "data": {
      "text/html": [
       "\n",
       "    <div style='color: blue; font-weight: bold;'>Original: Aw, Lucky, I said sit.</div>\n",
       "    <div style='color: green; font-weight: bold;'>Translated: Ai, Lucky, eu disse para te sentares.</div>\n",
       "    "
      ],
      "text/plain": [
       "<IPython.core.display.HTML object>"
      ]
     },
     "metadata": {},
     "output_type": "display_data"
    },
    {
     "data": {
      "text/html": [
       "\n",
       "    <div style='color: blue; font-weight: bold;'>Original: Well, it is only\n",
       "his first lesson.</div>\n",
       "    <div style='color: green; font-weight: bold;'>Translated: Bem, é apenas a sua primeira lição.</div>\n",
       "    "
      ],
      "text/plain": [
       "<IPython.core.display.HTML object>"
      ]
     },
     "metadata": {},
     "output_type": "display_data"
    },
    {
     "data": {
      "text/html": [
       "\n",
       "    <div style='color: blue; font-weight: bold;'>Original: Uh, maybe we practice\n",
       "outside from now on.</div>\n",
       "    <div style='color: green; font-weight: bold;'>Translated: Uh, talvez devamos praticar lá fora a partir de agora.</div>\n",
       "    "
      ],
      "text/plain": [
       "<IPython.core.display.HTML object>"
      ]
     },
     "metadata": {},
     "output_type": "display_data"
    },
    {
     "data": {
      "text/html": [
       "\n",
       "    <div style='color: blue; font-weight: bold;'>Original: There's my favorite husband!</div>\n",
       "    <div style='color: green; font-weight: bold;'>Translated: Aí está o meu marido preferido!</div>\n",
       "    "
      ],
      "text/plain": [
       "<IPython.core.display.HTML object>"
      ]
     },
     "metadata": {},
     "output_type": "display_data"
    },
    {
     "data": {
      "text/html": [
       "\n",
       "    <div style='color: blue; font-weight: bold;'>Original: Did you remember\n",
       "to get the milk?</div>\n",
       "    <div style='color: green; font-weight: bold;'>Translated: Lembraste-te de comprar o leite?</div>\n",
       "    "
      ],
      "text/plain": [
       "<IPython.core.display.HTML object>"
      ]
     },
     "metadata": {},
     "output_type": "display_data"
    },
    {
     "data": {
      "text/html": [
       "\n",
       "    <div style='color: blue; font-weight: bold;'>Original: Well, yes. They had a few kinds.</div>\n",
       "    <div style='color: green; font-weight: bold;'>Translated: Sim, tinham alguns tipos.</div>\n",
       "    "
      ],
      "text/plain": [
       "<IPython.core.display.HTML object>"
      ]
     },
     "metadata": {},
     "output_type": "display_data"
    },
    {
     "data": {
      "text/html": [
       "\n",
       "    <div style='color: blue; font-weight: bold;'>Original: They got the almond milk,\n",
       "soy milk, hemp milk,</div>\n",
       "    <div style='color: green; font-weight: bold;'>Translated: Eles têm leite de amêndoa,\n",
       "leite de soja, leite de cânhamo,</div>\n",
       "    "
      ],
      "text/plain": [
       "<IPython.core.display.HTML object>"
      ]
     },
     "metadata": {},
     "output_type": "display_data"
    },
    {
     "data": {
      "text/html": [
       "\n",
       "    <div style='color: blue; font-weight: bold;'>Original: oat milk, goat milk,\n",
       "chocolate milk, half-and-half,</div>\n",
       "    <div style='color: green; font-weight: bold;'>Translated: leite de aveia, leite de cabra,\n",
       "leite de chocolate, meio a meio,</div>\n",
       "    "
      ],
      "text/plain": [
       "<IPython.core.display.HTML object>"
      ]
     },
     "metadata": {},
     "output_type": "display_data"
    },
    {
     "data": {
      "text/html": [
       "\n",
       "    <div style='color: blue; font-weight: bold;'>Original: powdered, and of magnesia.</div>\n",
       "    <div style='color: green; font-weight: bold;'>Translated: em pó e de magnésia.</div>\n",
       "    "
      ],
      "text/plain": [
       "<IPython.core.display.HTML object>"
      ]
     },
     "metadata": {},
     "output_type": "display_data"
    },
    {
     "data": {
      "text/html": [
       "\n",
       "    <div style='color: blue; font-weight: bold;'>Original: What about regular milk?</div>\n",
       "    <div style='color: green; font-weight: bold;'>Translated: E quanto ao leite normal?</div>\n",
       "    "
      ],
      "text/plain": [
       "<IPython.core.display.HTML object>"
      ]
     },
     "metadata": {},
     "output_type": "display_data"
    },
    {
     "data": {
      "text/html": [
       "\n",
       "    <div style='color: blue; font-weight: bold;'>Original: No, they don't\n",
       "make that anymore.</div>\n",
       "    <div style='color: green; font-weight: bold;'>Translated: Não, já não fabricam isso.</div>\n",
       "    "
      ],
      "text/plain": [
       "<IPython.core.display.HTML object>"
      ]
     },
     "metadata": {},
     "output_type": "display_data"
    },
    {
     "data": {
      "text/html": [
       "\n",
       "    <div style='color: blue; font-weight: bold;'>Original: Oh!</div>\n",
       "    <div style='color: green; font-weight: bold;'>Translated: Ah!</div>\n",
       "    "
      ],
      "text/plain": [
       "<IPython.core.display.HTML object>"
      ]
     },
     "metadata": {},
     "output_type": "display_data"
    },
    {
     "data": {
      "text/html": [
       "\n",
       "    <div style='color: blue; font-weight: bold;'>Original: Wait a minute.</div>\n",
       "    <div style='color: green; font-weight: bold;'>Translated: Espera um minuto.</div>\n",
       "    "
      ],
      "text/plain": [
       "<IPython.core.display.HTML object>"
      ]
     },
     "metadata": {},
     "output_type": "display_data"
    },
    {
     "data": {
      "text/html": [
       "\n",
       "    <div style='color: blue; font-weight: bold;'>Original: One, two, three girls.</div>\n",
       "    <div style='color: green; font-weight: bold;'>Translated: Uma, duas, três raparigas.</div>\n",
       "    "
      ],
      "text/plain": [
       "<IPython.core.display.HTML object>"
      ]
     },
     "metadata": {},
     "output_type": "display_data"
    },
    {
     "data": {
      "text/html": [
       "\n",
       "    <div style='color: blue; font-weight: bold;'>Original: One wife.</div>\n",
       "    <div style='color: green; font-weight: bold;'>Translated: Uma esposa.</div>\n",
       "    "
      ],
      "text/plain": [
       "<IPython.core.display.HTML object>"
      ]
     },
     "metadata": {},
     "output_type": "display_data"
    },
    {
     "data": {
      "text/html": [
       "\n",
       "    <div style='color: blue; font-weight: bold;'>Original: Something is missing.</div>\n",
       "    <div style='color: green; font-weight: bold;'>Translated: Está a faltar algo.</div>\n",
       "    "
      ],
      "text/plain": [
       "<IPython.core.display.HTML object>"
      ]
     },
     "metadata": {},
     "output_type": "display_data"
    },
    {
     "data": {
      "text/html": [
       "\n",
       "    <div style='color: blue; font-weight: bold;'>Original: No, I think\n",
       "that's all of us. Yeah.</div>\n",
       "    <div style='color: green; font-weight: bold;'>Translated: Não, acho que somos todos nós. Sim.</div>\n",
       "    "
      ],
      "text/plain": [
       "<IPython.core.display.HTML object>"
      ]
     },
     "metadata": {},
     "output_type": "display_data"
    },
    {
     "data": {
      "text/html": [
       "\n",
       "    <div style='color: blue; font-weight: bold;'>Original: You know what?\n",
       "I keep forgetting...</div>\n",
       "    <div style='color: green; font-weight: bold;'>Translated: Sabes uma coisa?\n",
       "Eu continuo a esquecer-me...</div>\n",
       "    "
      ],
      "text/plain": [
       "<IPython.core.display.HTML object>"
      ]
     },
     "metadata": {},
     "output_type": "display_data"
    },
    {
     "data": {
      "text/html": [
       "\n",
       "    <div style='color: blue; font-weight: bold;'>Original: this guy!</div>\n",
       "    <div style='color: green; font-weight: bold;'>Translated: este tipo!</div>\n",
       "    "
      ],
      "text/plain": [
       "<IPython.core.display.HTML object>"
      ]
     },
     "metadata": {},
     "output_type": "display_data"
    },
    {
     "data": {
      "text/html": [
       "\n",
       "    <div style='color: blue; font-weight: bold;'>Original: Oh, ho, ho! There's my boy!</div>\n",
       "    <div style='color: green; font-weight: bold;'>Translated: Oh, ho, ho! Lá está o meu rapaz!</div>\n",
       "    "
      ],
      "text/plain": [
       "<IPython.core.display.HTML object>"
      ]
     },
     "metadata": {},
     "output_type": "display_data"
    },
    {
     "data": {
      "text/html": [
       "\n",
       "    <div style='color: blue; font-weight: bold;'>Original: There he is!</div>\n",
       "    <div style='color: green; font-weight: bold;'>Translated: Lá está ele!</div>\n",
       "    "
      ],
      "text/plain": [
       "<IPython.core.display.HTML object>"
      ]
     },
     "metadata": {},
     "output_type": "display_data"
    },
    {
     "data": {
      "text/html": [
       "\n",
       "    <div style='color: blue; font-weight: bold;'>Original: Ah, coochy, coochy, coochy.</div>\n",
       "    <div style='color: green; font-weight: bold;'>Translated: Ah, cócegas, cócegas, cócegas.</div>\n",
       "    "
      ],
      "text/plain": [
       "<IPython.core.display.HTML object>"
      ]
     },
     "metadata": {},
     "output_type": "display_data"
    },
    {
     "data": {
      "text/html": [
       "\n",
       "    <div style='color: blue; font-weight: bold;'>Original: Where is Daddy's hug?</div>\n",
       "    <div style='color: green; font-weight: bold;'>Translated: Onde está o abraço do papá?</div>\n",
       "    "
      ],
      "text/plain": [
       "<IPython.core.display.HTML object>"
      ]
     },
     "metadata": {},
     "output_type": "display_data"
    },
    {
     "data": {
      "text/html": [
       "\n",
       "    <div style='color: blue; font-weight: bold;'>Original: Oh, looks like\n",
       "somebody's a little cranky!</div>\n",
       "    <div style='color: green; font-weight: bold;'>Translated: Ah, parece que\n",
       "alguém está um pouco irritado!</div>\n",
       "    "
      ],
      "text/plain": [
       "<IPython.core.display.HTML object>"
      ]
     },
     "metadata": {},
     "output_type": "display_data"
    },
    {
     "data": {
      "text/html": [
       "\n",
       "    <div style='color: blue; font-weight: bold;'>Original: Behind that sourpuss,\n",
       "I know you love your dada!</div>\n",
       "    <div style='color: green; font-weight: bold;'>Translated: Por trás desse mau humor,\n",
       "Eu sei que adoras o teu papá!</div>\n",
       "    "
      ],
      "text/plain": [
       "<IPython.core.display.HTML object>"
      ]
     },
     "metadata": {},
     "output_type": "display_data"
    },
    {
     "data": {
      "text/html": [
       "\n",
       "    <div style='color: blue; font-weight: bold;'>Original: Go on, say it.</div>\n",
       "    <div style='color: green; font-weight: bold;'>Translated: Vá lá, diz.</div>\n",
       "    "
      ],
      "text/plain": [
       "<IPython.core.display.HTML object>"
      ]
     },
     "metadata": {},
     "output_type": "display_data"
    },
    {
     "data": {
      "text/html": [
       "\n",
       "    <div style='color: blue; font-weight: bold;'>Original: Dada. Dada.</div>\n",
       "    <div style='color: green; font-weight: bold;'>Translated: Dada. Dada.</div>\n",
       "    "
      ],
      "text/plain": [
       "<IPython.core.display.HTML object>"
      ]
     },
     "metadata": {},
     "output_type": "display_data"
    },
    {
     "data": {
      "text/html": [
       "\n",
       "    <div style='color: blue; font-weight: bold;'>Original: Yes, of course\n",
       "he loves you! He just--</div>\n",
       "    <div style='color: green; font-weight: bold;'>Translated: Sim, claro que ele te ama! Ele apenas--</div>\n",
       "    "
      ],
      "text/plain": [
       "<IPython.core.display.HTML object>"
      ]
     },
     "metadata": {},
     "output_type": "display_data"
    },
    {
     "data": {
      "text/html": [
       "\n",
       "    <div style='color: blue; font-weight: bold;'>Original: He just doesn't show it\n",
       "on his face,</div>\n",
       "    <div style='color: green; font-weight: bold;'>Translated: Ele simplesmente não o mostra\n",
       "na sua expressão facial,</div>\n",
       "    "
      ],
      "text/plain": [
       "<IPython.core.display.HTML object>"
      ]
     },
     "metadata": {},
     "output_type": "display_data"
    },
    {
     "data": {
      "text/html": [
       "\n",
       "    <div style='color: blue; font-weight: bold;'>Original: or with his body language.</div>\n",
       "    <div style='color: green; font-weight: bold;'>Translated: ou com a sua linguagem corporal.</div>\n",
       "    "
      ],
      "text/plain": [
       "<IPython.core.display.HTML object>"
      ]
     },
     "metadata": {},
     "output_type": "display_data"
    },
    {
     "data": {
      "text/html": [
       "\n",
       "    <div style='color: blue; font-weight: bold;'>Original: Right, Gru Jr? Come on.</div>\n",
       "    <div style='color: green; font-weight: bold;'>Translated: Certo, Gru Jr.? Vamos lá.</div>\n",
       "    "
      ],
      "text/plain": [
       "<IPython.core.display.HTML object>"
      ]
     },
     "metadata": {},
     "output_type": "display_data"
    },
    {
     "data": {
      "text/html": [
       "\n",
       "    <div style='color: blue; font-weight: bold;'>Original: Show Daddy how much\n",
       "you love him.</div>\n",
       "    <div style='color: green; font-weight: bold;'>Translated: Mostra ao papá o quanto\n",
       "gostas dele.</div>\n",
       "    "
      ],
      "text/plain": [
       "<IPython.core.display.HTML object>"
      ]
     },
     "metadata": {},
     "output_type": "display_data"
    },
    {
     "data": {
      "text/html": [
       "\n",
       "    <div style='color: blue; font-weight: bold;'>Original: Oh, I know what\n",
       "will make you happy!</div>\n",
       "    <div style='color: green; font-weight: bold;'>Translated: Ah, eu sei o que\n",
       "te vai fazer feliz!</div>\n",
       "    "
      ],
      "text/plain": [
       "<IPython.core.display.HTML object>"
      ]
     },
     "metadata": {},
     "output_type": "display_data"
    },
    {
     "data": {
      "text/html": [
       "\n",
       "    <div style='color: blue; font-weight: bold;'>Original: Mmm, Bahama Medley!</div>\n",
       "    <div style='color: green; font-weight: bold;'>Translated: Mmm, Mistura das Bahamas!</div>\n",
       "    "
      ],
      "text/plain": [
       "<IPython.core.display.HTML object>"
      ]
     },
     "metadata": {},
     "output_type": "display_data"
    },
    {
     "data": {
      "text/html": [
       "\n",
       "    <div style='color: blue; font-weight: bold;'>Original: No? It's from The Bahamas.</div>\n",
       "    <div style='color: green; font-weight: bold;'>Translated: Não? É das Bahamas.</div>\n",
       "    "
      ],
      "text/plain": [
       "<IPython.core.display.HTML object>"
      ]
     },
     "metadata": {},
     "output_type": "display_data"
    },
    {
     "data": {
      "text/html": [
       "\n",
       "    <div style='color: blue; font-weight: bold;'>Original: All of them. Look.</div>\n",
       "    <div style='color: green; font-weight: bold;'>Translated: Todos eles. Olha.</div>\n",
       "    "
      ],
      "text/plain": [
       "<IPython.core.display.HTML object>"
      ]
     },
     "metadata": {},
     "output_type": "display_data"
    },
    {
     "data": {
      "text/html": [
       "\n",
       "    <div style='color: blue; font-weight: bold;'>Original: Oh, so yummy!</div>\n",
       "    <div style='color: green; font-weight: bold;'>Translated: Oh, tão delicioso!</div>\n",
       "    "
      ],
      "text/plain": [
       "<IPython.core.display.HTML object>"
      ]
     },
     "metadata": {},
     "output_type": "display_data"
    },
    {
     "data": {
      "text/html": [
       "\n",
       "    <div style='color: blue; font-weight: bold;'>Original: Mmm, mmm, mmm.</div>\n",
       "    <div style='color: green; font-weight: bold;'>Translated: Mmm, mmm, mmm.</div>\n",
       "    "
      ],
      "text/plain": [
       "<IPython.core.display.HTML object>"
      ]
     },
     "metadata": {},
     "output_type": "display_data"
    },
    {
     "data": {
      "text/html": [
       "\n",
       "    <div style='color: blue; font-weight: bold;'>Original: Oh, that really tastes\n",
       "like The Bahamas!</div>\n",
       "    <div style='color: green; font-weight: bold;'>Translated: Oh, isso realmente tem um sabor\n",
       "como das Bahamas!</div>\n",
       "    "
      ],
      "text/plain": [
       "<IPython.core.display.HTML object>"
      ]
     },
     "metadata": {},
     "output_type": "display_data"
    },
    {
     "data": {
      "text/html": [
       "\n",
       "    <div style='color: blue; font-weight: bold;'>Original: See? He loves his daddy!</div>\n",
       "    <div style='color: green; font-weight: bold;'>Translated: Vês? Ele adora o pai dele!</div>\n",
       "    "
      ],
      "text/plain": [
       "<IPython.core.display.HTML object>"
      ]
     },
     "metadata": {},
     "output_type": "display_data"
    },
    {
     "data": {
      "text/html": [
       "\n",
       "    <div style='color: blue; font-weight: bold;'>Original: He's sharing.</div>\n",
       "    <div style='color: green; font-weight: bold;'>Translated: Ele está a partilhar.</div>\n",
       "    "
      ],
      "text/plain": [
       "<IPython.core.display.HTML object>"
      ]
     },
     "metadata": {},
     "output_type": "display_data"
    },
    {
     "data": {
      "text/html": [
       "\n",
       "    <div style='color: blue; font-weight: bold;'>Original: Phil, Ralph, Ron!</div>\n",
       "    <div style='color: green; font-weight: bold;'>Translated: Phil, Ralph, Ron!</div>\n",
       "    "
      ],
      "text/plain": [
       "<IPython.core.display.HTML object>"
      ]
     },
     "metadata": {},
     "output_type": "display_data"
    },
    {
     "data": {
      "text/html": [
       "\n",
       "    <div style='color: blue; font-weight: bold;'>Original: Hup, hup, hup!</div>\n",
       "    <div style='color: green; font-weight: bold;'>Translated: Força, força, força!</div>\n",
       "    "
      ],
      "text/plain": [
       "<IPython.core.display.HTML object>"
      ]
     },
     "metadata": {},
     "output_type": "display_data"
    },
    {
     "data": {
      "text/html": [
       "\n",
       "    <div style='color: blue; font-weight: bold;'>Original: Hup!</div>\n",
       "    <div style='color: green; font-weight: bold;'>Translated: Força!</div>\n",
       "    "
      ],
      "text/plain": [
       "<IPython.core.display.HTML object>"
      ]
     },
     "metadata": {},
     "output_type": "display_data"
    },
    {
     "data": {
      "text/html": [
       "\n",
       "    <div style='color: blue; font-weight: bold;'>Original: Pistachio. Yeah, cashew.</div>\n",
       "    <div style='color: green; font-weight: bold;'>Translated: Pistácio. Sim, caju.</div>\n",
       "    "
      ],
      "text/plain": [
       "<IPython.core.display.HTML object>"
      ]
     },
     "metadata": {},
     "output_type": "display_data"
    },
    {
     "data": {
      "text/html": [
       "\n",
       "    <div style='color: blue; font-weight: bold;'>Original: Gotcha!</div>\n",
       "    <div style='color: green; font-weight: bold;'>Translated: Entendi!</div>\n",
       "    "
      ],
      "text/plain": [
       "<IPython.core.display.HTML object>"
      ]
     },
     "metadata": {},
     "output_type": "display_data"
    },
    {
     "data": {
      "text/html": [
       "\n",
       "    <div style='color: blue; font-weight: bold;'>Original: Thanks, guys.</div>\n",
       "    <div style='color: green; font-weight: bold;'>Translated: Obrigado, pessoal.</div>\n",
       "    "
      ],
      "text/plain": [
       "<IPython.core.display.HTML object>"
      ]
     },
     "metadata": {},
     "output_type": "display_data"
    },
    {
     "data": {
      "text/html": [
       "\n",
       "    <div style='color: blue; font-weight: bold;'>Original: Ramsbottom?</div>\n",
       "    <div style='color: green; font-weight: bold;'>Translated: Ramsbottom?</div>\n",
       "    "
      ],
      "text/plain": [
       "<IPython.core.display.HTML object>"
      ]
     },
     "metadata": {},
     "output_type": "display_data"
    },
    {
     "data": {
      "text/html": [
       "\n",
       "    <div style='color: blue; font-weight: bold;'>Original: Bottom.</div>\n",
       "    <div style='color: green; font-weight: bold;'>Translated: Fundo.</div>\n",
       "    "
      ],
      "text/plain": [
       "<IPython.core.display.HTML object>"
      ]
     },
     "metadata": {},
     "output_type": "display_data"
    },
    {
     "data": {
      "text/html": [
       "\n",
       "    <div style='color: blue; font-weight: bold;'>Original: I need a word with you both.\n",
       "Sure, but what--</div>\n",
       "    <div style='color: green; font-weight: bold;'>Translated: Preciso de falar convosco os dois.\n",
       "Claro, mas sobre o quê--</div>\n",
       "    "
      ],
      "text/plain": [
       "<IPython.core.display.HTML object>"
      ]
     },
     "metadata": {},
     "output_type": "display_data"
    },
    {
     "data": {
      "text/html": [
       "\n",
       "    <div style='color: blue; font-weight: bold;'>Original: I'm sorry.\n",
       "There's no time for chitchat.</div>\n",
       "    <div style='color: green; font-weight: bold;'>Translated: Lamento.\n",
       "Não há tempo para conversas.</div>\n",
       "    "
      ],
      "text/plain": [
       "<IPython.core.display.HTML object>"
      ]
     },
     "metadata": {},
     "output_type": "display_data"
    },
    {
     "data": {
      "text/html": [
       "\n",
       "    <div style='color: blue; font-weight: bold;'>Original: Maxime Le Mal has sent you\n",
       "a message from prison.</div>\n",
       "    <div style='color: green; font-weight: bold;'>Translated: Maxime Le Mal enviou-lhe uma mensagem da prisão.</div>\n",
       "    "
      ],
      "text/plain": [
       "<IPython.core.display.HTML object>"
      ]
     },
     "metadata": {},
     "output_type": "display_data"
    },
    {
     "data": {
      "text/html": [
       "\n",
       "    <div style='color: blue; font-weight: bold;'>Original: <i>Bonjour,</i> Gru.</div>\n",
       "    <div style='color: green; font-weight: bold;'>Translated: <i>Bonjour,</i> Gru.</div>\n",
       "    "
      ],
      "text/plain": [
       "<IPython.core.display.HTML object>"
      ]
     },
     "metadata": {},
     "output_type": "display_data"
    },
    {
     "data": {
      "text/html": [
       "\n",
       "    <div style='color: blue; font-weight: bold;'>Original: I know you can hear me,\n",
       "so hear this.</div>\n",
       "    <div style='color: green; font-weight: bold;'>Translated: Eu sei que me consegues ouvir,\n",
       "então ouve isto.</div>\n",
       "    "
      ],
      "text/plain": [
       "<IPython.core.display.HTML object>"
      ]
     },
     "metadata": {},
     "output_type": "display_data"
    },
    {
     "data": {
      "text/html": [
       "\n",
       "    <div style='color: blue; font-weight: bold;'>Original: You think you can humiliate me\n",
       "and get away with it? Yes?</div>\n",
       "    <div style='color: green; font-weight: bold;'>Translated: Achas que me podes humilhar e sair impune? Sim?</div>\n",
       "    "
      ],
      "text/plain": [
       "<IPython.core.display.HTML object>"
      ]
     },
     "metadata": {},
     "output_type": "display_data"
    },
    {
     "data": {
      "text/html": [
       "\n",
       "    <div style='color: blue; font-weight: bold;'>Original: But, no!</div>\n",
       "    <div style='color: green; font-weight: bold;'>Translated: Mas, não!</div>\n",
       "    "
      ],
      "text/plain": [
       "<IPython.core.display.HTML object>"
      ]
     },
     "metadata": {},
     "output_type": "display_data"
    },
    {
     "data": {
      "text/html": [
       "\n",
       "    <div style='color: blue; font-weight: bold;'>Original: When I break out of prison,\n",
       "I'm coming for my revenge, Gru!</div>\n",
       "    <div style='color: green; font-weight: bold;'>Translated: Quando eu fugir da prisão,\n",
       "vou vingar-me, Gru!</div>\n",
       "    "
      ],
      "text/plain": [
       "<IPython.core.display.HTML object>"
      ]
     },
     "metadata": {},
     "output_type": "display_data"
    },
    {
     "data": {
      "text/html": [
       "\n",
       "    <div style='color: blue; font-weight: bold;'>Original: But this time,\n",
       "I won't go so easy on you!</div>\n",
       "    <div style='color: green; font-weight: bold;'>Translated: Mas desta vez,\n",
       "não vou facilitar tanto para ti!</div>\n",
       "    "
      ],
      "text/plain": [
       "<IPython.core.display.HTML object>"
      ]
     },
     "metadata": {},
     "output_type": "display_data"
    },
    {
     "data": {
      "text/html": [
       "\n",
       "    <div style='color: blue; font-weight: bold;'>Original: And I know where you live!</div>\n",
       "    <div style='color: green; font-weight: bold;'>Translated: E sei onde moras!</div>\n",
       "    "
      ],
      "text/plain": [
       "<IPython.core.display.HTML object>"
      ]
     },
     "metadata": {},
     "output_type": "display_data"
    },
    {
     "data": {
      "text/html": [
       "\n",
       "    <div style='color: blue; font-weight: bold;'>Original: So you better sleep\n",
       "with one eye open,\n",
       "because you can't hide from me!</div>\n",
       "    <div style='color: green; font-weight: bold;'>Translated: Então é melhor dormires\n",
       "com um olho aberto,</div>\n",
       "    "
      ],
      "text/plain": [
       "<IPython.core.display.HTML object>"
      ]
     },
     "metadata": {},
     "output_type": "display_data"
    },
    {
     "data": {
      "text/html": [
       "\n",
       "    <div style='color: blue; font-weight: bold;'>Original: Sweet dreams, Gru-ser!</div>\n",
       "    <div style='color: green; font-weight: bold;'>Translated: Doces sonhos, Gru-ser!</div>\n",
       "    "
      ],
      "text/plain": [
       "<IPython.core.display.HTML object>"
      ]
     },
     "metadata": {},
     "output_type": "display_data"
    },
    {
     "data": {
      "text/html": [
       "\n",
       "    <div style='color: blue; font-weight: bold;'>Original: Don't worry.\n",
       "He can't get out of there.</div>\n",
       "    <div style='color: green; font-weight: bold;'>Translated: Não te preocupes.\n",
       "Ele não consegue sair de lá.</div>\n",
       "    "
      ],
      "text/plain": [
       "<IPython.core.display.HTML object>"
      ]
     },
     "metadata": {},
     "output_type": "display_data"
    },
    {
     "data": {
      "text/html": [
       "\n",
       "    <div style='color: blue; font-weight: bold;'>Original: It's a maximum security prison.</div>\n",
       "    <div style='color: green; font-weight: bold;'>Translated: É uma prisão de segurança máxima.</div>\n",
       "    "
      ],
      "text/plain": [
       "<IPython.core.display.HTML object>"
      ]
     },
     "metadata": {},
     "output_type": "display_data"
    },
    {
     "data": {
      "text/html": [
       "\n",
       "    <div style='color: blue; font-weight: bold;'>Original: Ah, yes, well, um...</div>\n",
       "    <div style='color: green; font-weight: bold;'>Translated: Ah, sim, bem, er...</div>\n",
       "    "
      ],
      "text/plain": [
       "<IPython.core.display.HTML object>"
      ]
     },
     "metadata": {},
     "output_type": "display_data"
    },
    {
     "data": {
      "text/html": [
       "\n",
       "    <div style='color: blue; font-weight: bold;'>Original: ...he escaped yesterday.</div>\n",
       "    <div style='color: green; font-weight: bold;'>Translated: ...ele fugiu ontem.</div>\n",
       "    "
      ],
      "text/plain": [
       "<IPython.core.display.HTML object>"
      ]
     },
     "metadata": {},
     "output_type": "display_data"
    },
    {
     "data": {
      "text/html": [
       "\n",
       "    <div style='color: blue; font-weight: bold;'>Original: What?</div>\n",
       "    <div style='color: green; font-weight: bold;'>Translated: O quê?</div>\n",
       "    "
      ],
      "text/plain": [
       "<IPython.core.display.HTML object>"
      ]
     },
     "metadata": {},
     "output_type": "display_data"
    },
    {
     "data": {
      "text/html": [
       "\n",
       "    <div style='color: blue; font-weight: bold;'>Original: Leave our home?</div>\n",
       "    <div style='color: green; font-weight: bold;'>Translated: Deixar a nossa casa?</div>\n",
       "    "
      ],
      "text/plain": [
       "<IPython.core.display.HTML object>"
      ]
     },
     "metadata": {},
     "output_type": "display_data"
    },
    {
     "data": {
      "text/html": [
       "\n",
       "    <div style='color: blue; font-weight: bold;'>Original: Oh, no. You're gonna love it.</div>\n",
       "    <div style='color: green; font-weight: bold;'>Translated: Ah, não. Vais adorar.</div>\n",
       "    "
      ],
      "text/plain": [
       "<IPython.core.display.HTML object>"
      ]
     },
     "metadata": {},
     "output_type": "display_data"
    },
    {
     "data": {
      "text/html": [
       "\n",
       "    <div style='color: blue; font-weight: bold;'>Original: It's called \"the safe house,\"</div>\n",
       "    <div style='color: green; font-weight: bold;'>Translated: Chama-se \"a casa segura\".</div>\n",
       "    "
      ],
      "text/plain": [
       "<IPython.core.display.HTML object>"
      ]
     },
     "metadata": {},
     "output_type": "display_data"
    },
    {
     "data": {
      "text/html": [
       "\n",
       "    <div style='color: blue; font-weight: bold;'>Original: and it's fun, and it's safe,\n",
       "and it's fantastic\n",
       "and we're going.</div>\n",
       "    <div style='color: green; font-weight: bold;'>Translated: e é divertido, e é seguro,\n",
       "e é fantástico</div>\n",
       "    "
      ],
      "text/plain": [
       "<IPython.core.display.HTML object>"
      ]
     },
     "metadata": {},
     "output_type": "display_data"
    },
    {
     "data": {
      "text/html": [
       "\n",
       "    <div style='color: blue; font-weight: bold;'>Original: Yeah, you'll get a new room,\n",
       "go to a new school.</div>\n",
       "    <div style='color: green; font-weight: bold;'>Translated: Sim, vais ter um quarto novo,\n",
       "ir para uma escola nova.</div>\n",
       "    "
      ],
      "text/plain": [
       "<IPython.core.display.HTML object>"
      ]
     },
     "metadata": {},
     "output_type": "display_data"
    },
    {
     "data": {
      "text/html": [
       "\n",
       "    <div style='color: blue; font-weight: bold;'>Original: It'll be fun, right?</div>\n",
       "    <div style='color: green; font-weight: bold;'>Translated: Vai ser divertido, certo?</div>\n",
       "    "
      ],
      "text/plain": [
       "<IPython.core.display.HTML object>"
      ]
     },
     "metadata": {},
     "output_type": "display_data"
    },
    {
     "data": {
      "text/html": [
       "\n",
       "    <div style='color: blue; font-weight: bold;'>Original: Everything's gonna be new.\n",
       "We love new!</div>\n",
       "    <div style='color: green; font-weight: bold;'>Translated: Tudo vai ser novo.\n",
       "Nós adoramos novidades!</div>\n",
       "    "
      ],
      "text/plain": [
       "<IPython.core.display.HTML object>"
      ]
     },
     "metadata": {},
     "output_type": "display_data"
    },
    {
     "data": {
      "text/html": [
       "\n",
       "    <div style='color: blue; font-weight: bold;'>Original: What about all my friends?</div>\n",
       "    <div style='color: green; font-weight: bold;'>Translated: E os meus amigos?</div>\n",
       "    "
      ],
      "text/plain": [
       "<IPython.core.display.HTML object>"
      ]
     },
     "metadata": {},
     "output_type": "display_data"
    },
    {
     "data": {
      "text/html": [
       "\n",
       "    <div style='color: blue; font-weight: bold;'>Original: You'll make new friends.</div>\n",
       "    <div style='color: green; font-weight: bold;'>Translated: Vais fazer novos amigos.</div>\n",
       "    "
      ],
      "text/plain": [
       "<IPython.core.display.HTML object>"
      ]
     },
     "metadata": {},
     "output_type": "display_data"
    },
    {
     "data": {
      "text/html": [
       "\n",
       "    <div style='color: blue; font-weight: bold;'>Original: Probably better ones.</div>\n",
       "    <div style='color: green; font-weight: bold;'>Translated: Provavelmente melhores.</div>\n",
       "    "
      ],
      "text/plain": [
       "<IPython.core.display.HTML object>"
      ]
     },
     "metadata": {},
     "output_type": "display_data"
    },
    {
     "data": {
      "text/html": [
       "\n",
       "    <div style='color: blue; font-weight: bold;'>Original: I can't believe this.</div>\n",
       "    <div style='color: green; font-weight: bold;'>Translated: Não consigo acreditar nisto.</div>\n",
       "    "
      ],
      "text/plain": [
       "<IPython.core.display.HTML object>"
      ]
     },
     "metadata": {},
     "output_type": "display_data"
    },
    {
     "data": {
      "text/html": [
       "\n",
       "    <div style='color: blue; font-weight: bold;'>Original: Yes, yes. Lot of emotions.\n",
       "Big life change.</div>\n",
       "    <div style='color: green; font-weight: bold;'>Translated: Sim, sim. Muitas emoções.\n",
       "Grande mudança na vida.</div>\n",
       "    "
      ],
      "text/plain": [
       "<IPython.core.display.HTML object>"
      ]
     },
     "metadata": {},
     "output_type": "display_data"
    },
    {
     "data": {
      "text/html": [
       "\n",
       "    <div style='color: blue; font-weight: bold;'>Original: Less talking, more walking.</div>\n",
       "    <div style='color: green; font-weight: bold;'>Translated: Menos conversa, mais ação.</div>\n",
       "    "
      ],
      "text/plain": [
       "<IPython.core.display.HTML object>"
      ]
     },
     "metadata": {},
     "output_type": "display_data"
    },
    {
     "data": {
      "text/html": [
       "\n",
       "    <div style='color: blue; font-weight: bold;'>Original: Come on, here we go.</div>\n",
       "    <div style='color: green; font-weight: bold;'>Translated: Vamos, aqui vamos nós.</div>\n",
       "    "
      ],
      "text/plain": [
       "<IPython.core.display.HTML object>"
      ]
     },
     "metadata": {},
     "output_type": "display_data"
    },
    {
     "data": {
      "text/html": [
       "\n",
       "    <div style='color: blue; font-weight: bold;'>Original: I'm sorry\n",
       "you can't go with us, Lucky.</div>\n",
       "    <div style='color: green; font-weight: bold;'>Translated: Lamento, Lucky, não podes vir connosco.</div>\n",
       "    "
      ],
      "text/plain": [
       "<IPython.core.display.HTML object>"
      ]
     },
     "metadata": {},
     "output_type": "display_data"
    },
    {
     "data": {
      "text/html": [
       "\n",
       "    <div style='color: blue; font-weight: bold;'>Original: Take good care of him.</div>\n",
       "    <div style='color: green; font-weight: bold;'>Translated: Cuide bem dele.</div>\n",
       "    "
      ],
      "text/plain": [
       "<IPython.core.display.HTML object>"
      ]
     },
     "metadata": {},
     "output_type": "display_data"
    },
    {
     "data": {
      "text/html": [
       "\n",
       "    <div style='color: blue; font-weight: bold;'>Original: Be good, Lucky!</div>\n",
       "    <div style='color: green; font-weight: bold;'>Translated: Porta-te bem, Lucky!</div>\n",
       "    "
      ],
      "text/plain": [
       "<IPython.core.display.HTML object>"
      ]
     },
     "metadata": {},
     "output_type": "display_data"
    },
    {
     "data": {
      "text/html": [
       "\n",
       "    <div style='color: blue; font-weight: bold;'>Original: Don't forget\n",
       "to practice your tricks!</div>\n",
       "    <div style='color: green; font-weight: bold;'>Translated: Não te esqueças\n",
       "de praticar os teus truques!</div>\n",
       "    "
      ],
      "text/plain": [
       "<IPython.core.display.HTML object>"
      ]
     },
     "metadata": {},
     "output_type": "display_data"
    },
    {
     "data": {
      "text/html": [
       "\n",
       "    <div style='color: blue; font-weight: bold;'>Original: We'll arrive at\n",
       "the AVL safe house\n",
       "in a few hours.</div>\n",
       "    <div style='color: green; font-weight: bold;'>Translated: Chegaremos à casa segura da AVL\n",
       "dentro de algumas horas.</div>\n",
       "    "
      ],
      "text/plain": [
       "<IPython.core.display.HTML object>"
      ]
     },
     "metadata": {},
     "output_type": "display_data"
    },
    {
     "data": {
      "text/html": [
       "\n",
       "    <div style='color: blue; font-weight: bold;'>Original: Mayflower is a lovely town.</div>\n",
       "    <div style='color: green; font-weight: bold;'>Translated: Mayflower é uma cidade encantadora.</div>\n",
       "    "
      ],
      "text/plain": [
       "<IPython.core.display.HTML object>"
      ]
     },
     "metadata": {},
     "output_type": "display_data"
    },
    {
     "data": {
      "text/html": [
       "\n",
       "    <div style='color: blue; font-weight: bold;'>Original: A lovely, safe, boring town.</div>\n",
       "    <div style='color: green; font-weight: bold;'>Translated: Uma cidade encantadora, segura e aborrecida.</div>\n",
       "    "
      ],
      "text/plain": [
       "<IPython.core.display.HTML object>"
      ]
     },
     "metadata": {},
     "output_type": "display_data"
    },
    {
     "data": {
      "text/html": [
       "\n",
       "    <div style='color: blue; font-weight: bold;'>Original: Trust me,\n",
       "it is for the best, Gru.</div>\n",
       "    <div style='color: green; font-weight: bold;'>Translated: Confia em mim,\n",
       "é o melhor para ti, Gru.</div>\n",
       "    "
      ],
      "text/plain": [
       "<IPython.core.display.HTML object>"
      ]
     },
     "metadata": {},
     "output_type": "display_data"
    },
    {
     "data": {
      "text/html": [
       "\n",
       "    <div style='color: blue; font-weight: bold;'>Original: And what about Grandma\n",
       "and Uncle Dru?</div>\n",
       "    <div style='color: green; font-weight: bold;'>Translated: E a avó e o tio Dru?</div>\n",
       "    "
      ],
      "text/plain": [
       "<IPython.core.display.HTML object>"
      ]
     },
     "metadata": {},
     "output_type": "display_data"
    },
    {
     "data": {
      "text/html": [
       "\n",
       "    <div style='color: blue; font-weight: bold;'>Original: I'm sorry. No one can know\n",
       "of your whereabouts,\n",
       "not even family.</div>\n",
       "    <div style='color: green; font-weight: bold;'>Translated: Lamento, mas ninguém pode saber\n",
       "do teu paradeiro,</div>\n",
       "    "
      ],
      "text/plain": [
       "<IPython.core.display.HTML object>"
      ]
     },
     "metadata": {},
     "output_type": "display_data"
    },
    {
     "data": {
      "text/html": [
       "\n",
       "    <div style='color: blue; font-weight: bold;'>Original: Bingo!\n",
       "There's your silver lining.</div>\n",
       "    <div style='color: green; font-weight: bold;'>Translated: Bingo!\n",
       "Aí está o teu lado positivo.</div>\n",
       "    "
      ],
      "text/plain": [
       "<IPython.core.display.HTML object>"
      ]
     },
     "metadata": {},
     "output_type": "display_data"
    },
    {
     "data": {
      "text/html": [
       "\n",
       "    <div style='color: blue; font-weight: bold;'>Original: And you promise\n",
       "to take care of\n",
       "the other Minions?</div>\n",
       "    <div style='color: green; font-weight: bold;'>Translated: E prometes\n",
       "cuidar</div>\n",
       "    "
      ],
      "text/plain": [
       "<IPython.core.display.HTML object>"
      ]
     },
     "metadata": {},
     "output_type": "display_data"
    },
    {
     "data": {
      "text/html": [
       "\n",
       "    <div style='color: blue; font-weight: bold;'>Original: They'll be safe and sound\n",
       "at AVL Headquarters.</div>\n",
       "    <div style='color: green; font-weight: bold;'>Translated: Estarão seguros e salvos\n",
       "na sede da AVL.</div>\n",
       "    "
      ],
      "text/plain": [
       "<IPython.core.display.HTML object>"
      ]
     },
     "metadata": {},
     "output_type": "display_data"
    },
    {
     "data": {
      "text/html": [
       "\n",
       "    <div style='color: blue; font-weight: bold;'>Original: I have big plans for them.</div>\n",
       "    <div style='color: green; font-weight: bold;'>Translated: Tenho grandes planos para eles.</div>\n",
       "    "
      ],
      "text/plain": [
       "<IPython.core.display.HTML object>"
      ]
     },
     "metadata": {},
     "output_type": "display_data"
    },
    {
     "data": {
      "text/html": [
       "\n",
       "    <div style='color: blue; font-weight: bold;'>Original: Good luck with that.</div>\n",
       "    <div style='color: green; font-weight: bold;'>Translated: Boa sorte com isso.</div>\n",
       "    "
      ],
      "text/plain": [
       "<IPython.core.display.HTML object>"
      ]
     },
     "metadata": {},
     "output_type": "display_data"
    },
    {
     "data": {
      "text/html": [
       "\n",
       "    <div style='color: blue; font-weight: bold;'>Original: That is it!</div>\n",
       "    <div style='color: green; font-weight: bold;'>Translated: É isso!</div>\n",
       "    "
      ],
      "text/plain": [
       "<IPython.core.display.HTML object>"
      ]
     },
     "metadata": {},
     "output_type": "display_data"
    },
    {
     "data": {
      "text/html": [
       "\n",
       "    <div style='color: blue; font-weight: bold;'>Original: Quiet!</div>\n",
       "    <div style='color: green; font-weight: bold;'>Translated: Silêncio!</div>\n",
       "    "
      ],
      "text/plain": [
       "<IPython.core.display.HTML object>"
      ]
     },
     "metadata": {},
     "output_type": "display_data"
    },
    {
     "data": {
      "text/html": [
       "\n",
       "    <div style='color: blue; font-weight: bold;'>Original: You are now on Carl's bus.</div>\n",
       "    <div style='color: green; font-weight: bold;'>Translated: Estás agora no autocarro do Carl.</div>\n",
       "    "
      ],
      "text/plain": [
       "<IPython.core.display.HTML object>"
      ]
     },
     "metadata": {},
     "output_type": "display_data"
    },
    {
     "data": {
      "text/html": [
       "\n",
       "    <div style='color: blue; font-weight: bold;'>Original: And Carl is\n",
       "a longtime AVL employee</div>\n",
       "    <div style='color: green; font-weight: bold;'>Translated: E o Carl é\n",
       "um funcionário de longa data da AVL</div>\n",
       "    "
      ],
      "text/plain": [
       "<IPython.core.display.HTML object>"
      ]
     },
     "metadata": {},
     "output_type": "display_data"
    },
    {
     "data": {
      "text/html": [
       "\n",
       "    <div style='color: blue; font-weight: bold;'>Original: whose retirement benefits\n",
       "are almost vested.</div>\n",
       "    <div style='color: green; font-weight: bold;'>Translated: cuja reforma está quase consolidada.</div>\n",
       "    "
      ],
      "text/plain": [
       "<IPython.core.display.HTML object>"
      ]
     },
     "metadata": {},
     "output_type": "display_data"
    },
    {
     "data": {
      "text/html": [
       "\n",
       "    <div style='color: blue; font-weight: bold;'>Original: So, while on Carl's bus,\n",
       "you follow Carl's rules.</div>\n",
       "    <div style='color: green; font-weight: bold;'>Translated: Portanto, enquanto estiveres no autocarro do Carl, segues as regras do Carl.</div>\n",
       "    "
      ],
      "text/plain": [
       "<IPython.core.display.HTML object>"
      ]
     },
     "metadata": {},
     "output_type": "display_data"
    },
    {
     "data": {
      "text/html": [
       "\n",
       "    <div style='color: blue; font-weight: bold;'>Original: No shenanigans,\n",
       "no antics and no tomfoolery.</div>\n",
       "    <div style='color: green; font-weight: bold;'>Translated: Sem brincadeiras,\n",
       "sem palhaçadas e sem maluquices.</div>\n",
       "    "
      ],
      "text/plain": [
       "<IPython.core.display.HTML object>"
      ]
     },
     "metadata": {},
     "output_type": "display_data"
    },
    {
     "data": {
      "text/html": [
       "\n",
       "    <div style='color: blue; font-weight: bold;'>Original: Tom?</div>\n",
       "    <div style='color: green; font-weight: bold;'>Translated: Tom?</div>\n",
       "    "
      ],
      "text/plain": [
       "<IPython.core.display.HTML object>"
      ]
     },
     "metadata": {},
     "output_type": "display_data"
    },
    {
     "data": {
      "text/html": [
       "\n",
       "    <div style='color: blue; font-weight: bold;'>Original: So this ends now.</div>\n",
       "    <div style='color: green; font-weight: bold;'>Translated: Então isto acaba agora.</div>\n",
       "    "
      ],
      "text/plain": [
       "<IPython.core.display.HTML object>"
      ]
     },
     "metadata": {},
     "output_type": "display_data"
    },
    {
     "data": {
      "text/html": [
       "\n",
       "    <div style='color: blue; font-weight: bold;'>Original: Or you're gonna see\n",
       "a side of Carl\n",
       "you do not wanna see.</div>\n",
       "    <div style='color: green; font-weight: bold;'>Translated: Ou vais ver\n",
       "um lado do Carl</div>\n",
       "    "
      ],
      "text/plain": [
       "<IPython.core.display.HTML object>"
      ]
     },
     "metadata": {},
     "output_type": "display_data"
    },
    {
     "data": {
      "text/html": [
       "\n",
       "    <div style='color: blue; font-weight: bold;'>Original: Do I make myself clear?</div>\n",
       "    <div style='color: green; font-weight: bold;'>Translated: Fiz-me entender?</div>\n",
       "    "
      ],
      "text/plain": [
       "<IPython.core.display.HTML object>"
      ]
     },
     "metadata": {},
     "output_type": "display_data"
    },
    {
     "data": {
      "text/html": [
       "\n",
       "    <div style='color: blue; font-weight: bold;'>Original: Bazooka!</div>\n",
       "    <div style='color: green; font-weight: bold;'>Translated: Bazuca!</div>\n",
       "    "
      ],
      "text/plain": [
       "<IPython.core.display.HTML object>"
      ]
     },
     "metadata": {},
     "output_type": "display_data"
    },
    {
     "data": {
      "text/html": [
       "\n",
       "    <div style='color: blue; font-weight: bold;'>Original: This won't st--</div>\n",
       "    <div style='color: green; font-weight: bold;'>Translated: Isto não vai--</div>\n",
       "    "
      ],
      "text/plain": [
       "<IPython.core.display.HTML object>"
      ]
     },
     "metadata": {},
     "output_type": "display_data"
    },
    {
     "data": {
      "text/html": [
       "\n",
       "    <div style='color: blue; font-weight: bold;'>Original: Carl does not like this!</div>\n",
       "    <div style='color: green; font-weight: bold;'>Translated: O Carl não gosta disto!</div>\n",
       "    "
      ],
      "text/plain": [
       "<IPython.core.display.HTML object>"
      ]
     },
     "metadata": {},
     "output_type": "display_data"
    },
    {
     "data": {
      "text/html": [
       "\n",
       "    <div style='color: blue; font-weight: bold;'>Original: Watch your hands.\n",
       "What are you doing?\n",
       "Who's pinching?</div>\n",
       "    <div style='color: green; font-weight: bold;'>Translated: Cuida das tuas mãos.\n",
       "O que estás a fazer?</div>\n",
       "    "
      ],
      "text/plain": [
       "<IPython.core.display.HTML object>"
      ]
     },
     "metadata": {},
     "output_type": "display_data"
    },
    {
     "data": {
      "text/html": [
       "\n",
       "    <div style='color: blue; font-weight: bold;'>Original: No, no!</div>\n",
       "    <div style='color: green; font-weight: bold;'>Translated: Não, não!</div>\n",
       "    "
      ],
      "text/plain": [
       "<IPython.core.display.HTML object>"
      ]
     },
     "metadata": {},
     "output_type": "display_data"
    },
    {
     "data": {
      "text/html": [
       "\n",
       "    <div style='color: blue; font-weight: bold;'>Original: Here we are.\n",
       "The town of Mayflower.</div>\n",
       "    <div style='color: green; font-weight: bold;'>Translated: Aqui estamos.\n",
       "A cidade de Mayflower.</div>\n",
       "    "
      ],
      "text/plain": [
       "<IPython.core.display.HTML object>"
      ]
     },
     "metadata": {},
     "output_type": "display_data"
    },
    {
     "data": {
      "text/html": [
       "\n",
       "    <div style='color: blue; font-weight: bold;'>Original: This safe house has been used\n",
       "to protect our agents\n",
       "for decades now.</div>\n",
       "    <div style='color: green; font-weight: bold;'>Translated: Esta casa segura tem sido usada\n",
       "para proteger os nossos agentes</div>\n",
       "    "
      ],
      "text/plain": [
       "<IPython.core.display.HTML object>"
      ]
     },
     "metadata": {},
     "output_type": "display_data"
    },
    {
     "data": {
      "text/html": [
       "\n",
       "    <div style='color: blue; font-weight: bold;'>Original: Whoa, look at that place.</div>\n",
       "    <div style='color: green; font-weight: bold;'>Translated: Uau, olha para aquele lugar.</div>\n",
       "    "
      ],
      "text/plain": [
       "<IPython.core.display.HTML object>"
      ]
     },
     "metadata": {},
     "output_type": "display_data"
    },
    {
     "data": {
      "text/html": [
       "\n",
       "    <div style='color: blue; font-weight: bold;'>Original: Wow, look at these lawns.\n",
       "The flowers.</div>\n",
       "    <div style='color: green; font-weight: bold;'>Translated: Uau, olha para estes relvados.\n",
       "As flores.</div>\n",
       "    "
      ],
      "text/plain": [
       "<IPython.core.display.HTML object>"
      ]
     },
     "metadata": {},
     "output_type": "display_data"
    },
    {
     "data": {
      "text/html": [
       "\n",
       "    <div style='color: blue; font-weight: bold;'>Original: Whoa! That is cool.\n",
       "- Are we really gonna live here?</div>\n",
       "    <div style='color: green; font-weight: bold;'>Translated: Uau! Isso é incrível.\n",
       "- Vamos mesmo viver aqui?</div>\n",
       "    "
      ],
      "text/plain": [
       "<IPython.core.display.HTML object>"
      ]
     },
     "metadata": {},
     "output_type": "display_data"
    },
    {
     "data": {
      "text/html": [
       "\n",
       "    <div style='color: blue; font-weight: bold;'>Original: Look at that fountain.\n",
       "Whoa!</div>\n",
       "    <div style='color: green; font-weight: bold;'>Translated: Olha para aquela fonte.\n",
       "Uau!</div>\n",
       "    "
      ],
      "text/plain": [
       "<IPython.core.display.HTML object>"
      ]
     },
     "metadata": {},
     "output_type": "display_data"
    },
    {
     "data": {
      "text/html": [
       "\n",
       "    <div style='color: blue; font-weight: bold;'>Original: Awesome.</div>\n",
       "    <div style='color: green; font-weight: bold;'>Translated: Espetacular.</div>\n",
       "    "
      ],
      "text/plain": [
       "<IPython.core.display.HTML object>"
      ]
     },
     "metadata": {},
     "output_type": "display_data"
    },
    {
     "data": {
      "text/html": [
       "\n",
       "    <div style='color: blue; font-weight: bold;'>Original: Ooh, ooh, ooh,\n",
       "is that one ours?</div>\n",
       "    <div style='color: green; font-weight: bold;'>Translated: Ooh, ooh, ooh,\n",
       "essa é a nossa?</div>\n",
       "    "
      ],
      "text/plain": [
       "<IPython.core.display.HTML object>"
      ]
     },
     "metadata": {},
     "output_type": "display_data"
    },
    {
     "data": {
      "text/html": [
       "\n",
       "    <div style='color: blue; font-weight: bold;'>Original: Hey, hey.</div>\n",
       "    <div style='color: green; font-weight: bold;'>Translated: Olá, olá.</div>\n",
       "    "
      ],
      "text/plain": [
       "<IPython.core.display.HTML object>"
      ]
     },
     "metadata": {},
     "output_type": "display_data"
    },
    {
     "data": {
      "text/html": [
       "\n",
       "    <div style='color: blue; font-weight: bold;'>Original: Whoa, look at that.\n",
       "Ooh, that's pretty.</div>\n",
       "    <div style='color: green; font-weight: bold;'>Translated: Uau, olha para aquilo.\n",
       "Oh, que bonito.</div>\n",
       "    "
      ],
      "text/plain": [
       "<IPython.core.display.HTML object>"
      ]
     },
     "metadata": {},
     "output_type": "display_data"
    },
    {
     "data": {
      "text/html": [
       "\n",
       "    <div style='color: blue; font-weight: bold;'>Original: I could get used to this.</div>\n",
       "    <div style='color: green; font-weight: bold;'>Translated: Eu poderia habituar-me a isto.</div>\n",
       "    "
      ],
      "text/plain": [
       "<IPython.core.display.HTML object>"
      ]
     },
     "metadata": {},
     "output_type": "display_data"
    },
    {
     "data": {
      "text/html": [
       "\n",
       "    <div style='color: blue; font-weight: bold;'>Original: Ooh, it looks like\n",
       "a princess lives there.</div>\n",
       "    <div style='color: green; font-weight: bold;'>Translated: Ui, parece que\n",
       "uma princesa mora ali.</div>\n",
       "    "
      ],
      "text/plain": [
       "<IPython.core.display.HTML object>"
      ]
     },
     "metadata": {},
     "output_type": "display_data"
    },
    {
     "data": {
      "text/html": [
       "\n",
       "    <div style='color: blue; font-weight: bold;'>Original: And here it is.</div>\n",
       "    <div style='color: green; font-weight: bold;'>Translated: E aqui está.</div>\n",
       "    "
      ],
      "text/plain": [
       "<IPython.core.display.HTML object>"
      ]
     },
     "metadata": {},
     "output_type": "display_data"
    },
    {
     "data": {
      "text/html": [
       "\n",
       "    <div style='color: blue; font-weight: bold;'>Original: Your new home.</div>\n",
       "    <div style='color: green; font-weight: bold;'>Translated: A tua nova casa.</div>\n",
       "    "
      ],
      "text/plain": [
       "<IPython.core.display.HTML object>"
      ]
     },
     "metadata": {},
     "output_type": "display_data"
    },
    {
     "data": {
      "text/html": [
       "\n",
       "    <div style='color: blue; font-weight: bold;'>Original: Oh.</div>\n",
       "    <div style='color: green; font-weight: bold;'>Translated: Ah.</div>\n",
       "    "
      ],
      "text/plain": [
       "<IPython.core.display.HTML object>"
      ]
     },
     "metadata": {},
     "output_type": "display_data"
    },
    {
     "data": {
      "text/html": [
       "\n",
       "    <div style='color: blue; font-weight: bold;'>Original: Hmm, no fountain.</div>\n",
       "    <div style='color: green; font-weight: bold;'>Translated: Hmm, não há fonte.</div>\n",
       "    "
      ],
      "text/plain": [
       "<IPython.core.display.HTML object>"
      ]
     },
     "metadata": {},
     "output_type": "display_data"
    },
    {
     "data": {
      "text/html": [
       "\n",
       "    <div style='color: blue; font-weight: bold;'>Original: I'm sure\n",
       "it's gonna be great.</div>\n",
       "    <div style='color: green; font-weight: bold;'>Translated: Tenho a certeza\n",
       "que vai ser ótimo.</div>\n",
       "    "
      ],
      "text/plain": [
       "<IPython.core.display.HTML object>"
      ]
     },
     "metadata": {},
     "output_type": "display_data"
    },
    {
     "data": {
      "text/html": [
       "\n",
       "    <div style='color: blue; font-weight: bold;'>Original: Come on.</div>\n",
       "    <div style='color: green; font-weight: bold;'>Translated: Vamos.</div>\n",
       "    "
      ],
      "text/plain": [
       "<IPython.core.display.HTML object>"
      ]
     },
     "metadata": {},
     "output_type": "display_data"
    },
    {
     "data": {
      "text/html": [
       "\n",
       "    <div style='color: blue; font-weight: bold;'>Original: Silas says that there is\n",
       "a pool in the back.</div>\n",
       "    <div style='color: green; font-weight: bold;'>Translated: O Silas diz que há uma piscina atrás.</div>\n",
       "    "
      ],
      "text/plain": [
       "<IPython.core.display.HTML object>"
      ]
     },
     "metadata": {},
     "output_type": "display_data"
    },
    {
     "data": {
      "text/html": [
       "\n",
       "    <div style='color: blue; font-weight: bold;'>Original: That'll be fun, huh?</div>\n",
       "    <div style='color: green; font-weight: bold;'>Translated: Isso vai ser divertido, não achas?</div>\n",
       "    "
      ],
      "text/plain": [
       "<IPython.core.display.HTML object>"
      ]
     },
     "metadata": {},
     "output_type": "display_data"
    },
    {
     "data": {
      "text/html": [
       "\n",
       "    <div style='color: blue; font-weight: bold;'>Original: Wow, it's so cold\n",
       "and uninviting.</div>\n",
       "    <div style='color: green; font-weight: bold;'>Translated: Uau, está tão frio e pouco acolhedor.</div>\n",
       "    "
      ],
      "text/plain": [
       "<IPython.core.display.HTML object>"
      ]
     },
     "metadata": {},
     "output_type": "display_data"
    },
    {
     "data": {
      "text/html": [
       "\n",
       "    <div style='color: blue; font-weight: bold;'>Original: But in a homey\n",
       "kind of way.\n",
       "What?</div>\n",
       "    <div style='color: green; font-weight: bold;'>Translated: Mas de uma forma acolhedora. \n",
       "O quê?</div>\n",
       "    "
      ],
      "text/plain": [
       "<IPython.core.display.HTML object>"
      ]
     },
     "metadata": {},
     "output_type": "display_data"
    },
    {
     "data": {
      "text/html": [
       "\n",
       "    <div style='color: blue; font-weight: bold;'>Original: Yes, everything here\n",
       "is AVL standard.</div>\n",
       "    <div style='color: green; font-weight: bold;'>Translated: Sim, tudo aqui é padrão AVL.</div>\n",
       "    "
      ],
      "text/plain": [
       "<IPython.core.display.HTML object>"
      ]
     },
     "metadata": {},
     "output_type": "display_data"
    },
    {
     "data": {
      "text/html": [
       "\n",
       "    <div style='color: blue; font-weight: bold;'>Original: What it lacks in comfort,\n",
       "it more than makes up for\n",
       "in functionality.</div>\n",
       "    <div style='color: green; font-weight: bold;'>Translated: O que lhe falta em conforto,\n",
       "compensa amplamente</div>\n",
       "    "
      ],
      "text/plain": [
       "<IPython.core.display.HTML object>"
      ]
     },
     "metadata": {},
     "output_type": "display_data"
    },
    {
     "data": {
      "text/html": [
       "\n",
       "    <div style='color: blue; font-weight: bold;'>Original: There's even\n",
       "a fully automated lockdown mode.</div>\n",
       "    <div style='color: green; font-weight: bold;'>Translated: Existe até um modo de bloqueio totalmente automatizado.</div>\n",
       "    "
      ],
      "text/plain": [
       "<IPython.core.display.HTML object>"
      ]
     },
     "metadata": {},
     "output_type": "display_data"
    },
    {
     "data": {
      "text/html": [
       "\n",
       "    <div style='color: blue; font-weight: bold;'>Original: Isn't that fun?</div>\n",
       "    <div style='color: green; font-weight: bold;'>Translated: Não é divertido?</div>\n",
       "    "
      ],
      "text/plain": [
       "<IPython.core.display.HTML object>"
      ]
     },
     "metadata": {},
     "output_type": "display_data"
    },
    {
     "data": {
      "text/html": [
       "\n",
       "    <div style='color: blue; font-weight: bold;'>Original: Ooh, full lockdown mode.</div>\n",
       "    <div style='color: green; font-weight: bold;'>Translated: Ah, modo de confinamento total.</div>\n",
       "    "
      ],
      "text/plain": [
       "<IPython.core.display.HTML object>"
      ]
     },
     "metadata": {},
     "output_type": "display_data"
    },
    {
     "data": {
      "text/html": [
       "\n",
       "    <div style='color: blue; font-weight: bold;'>Original: Yay.</div>\n",
       "    <div style='color: green; font-weight: bold;'>Translated: Viva.</div>\n",
       "    "
      ],
      "text/plain": [
       "<IPython.core.display.HTML object>"
      ]
     },
     "metadata": {},
     "output_type": "display_data"
    },
    {
     "data": {
      "text/html": [
       "\n",
       "    <div style='color: blue; font-weight: bold;'>Original: It has a vending machine.\n",
       "Oh!</div>\n",
       "    <div style='color: green; font-weight: bold;'>Translated: Tem uma máquina de venda automática.\n",
       "Oh!</div>\n",
       "    "
      ],
      "text/plain": [
       "<IPython.core.display.HTML object>"
      ]
     },
     "metadata": {},
     "output_type": "display_data"
    },
    {
     "data": {
      "text/html": [
       "\n",
       "    <div style='color: blue; font-weight: bold;'>Original: I love this place!</div>\n",
       "    <div style='color: green; font-weight: bold;'>Translated: Adoro este lugar!</div>\n",
       "    "
      ],
      "text/plain": [
       "<IPython.core.display.HTML object>"
      ]
     },
     "metadata": {},
     "output_type": "display_data"
    },
    {
     "data": {
      "text/html": [
       "\n",
       "    <div style='color: blue; font-weight: bold;'>Original: Ooh.</div>\n",
       "    <div style='color: green; font-weight: bold;'>Translated: Ah.</div>\n",
       "    "
      ],
      "text/plain": [
       "<IPython.core.display.HTML object>"
      ]
     },
     "metadata": {},
     "output_type": "display_data"
    },
    {
     "data": {
      "text/html": [
       "\n",
       "    <div style='color: blue; font-weight: bold;'>Original: Eh, eh.</div>\n",
       "    <div style='color: green; font-weight: bold;'>Translated: Eh, eh.</div>\n",
       "    "
      ],
      "text/plain": [
       "<IPython.core.display.HTML object>"
      ]
     },
     "metadata": {},
     "output_type": "display_data"
    },
    {
     "data": {
      "text/html": [
       "\n",
       "    <div style='color: blue; font-weight: bold;'>Original: This will be great.</div>\n",
       "    <div style='color: green; font-weight: bold;'>Translated: Isto vai ser ótimo.</div>\n",
       "    "
      ],
      "text/plain": [
       "<IPython.core.display.HTML object>"
      ]
     },
     "metadata": {},
     "output_type": "display_data"
    },
    {
     "data": {
      "text/html": [
       "\n",
       "    <div style='color: blue; font-weight: bold;'>Original: All right,\n",
       "now down to business.</div>\n",
       "    <div style='color: green; font-weight: bold;'>Translated: Muito bem,\n",
       "vamos ao que interessa.</div>\n",
       "    "
      ],
      "text/plain": [
       "<IPython.core.display.HTML object>"
      ]
     },
     "metadata": {},
     "output_type": "display_data"
    },
    {
     "data": {
      "text/html": [
       "\n",
       "    <div style='color: blue; font-weight: bold;'>Original: For your own safety,\n",
       "you'll all be assuming\n",
       "new identities.</div>\n",
       "    <div style='color: green; font-weight: bold;'>Translated: Para a vossa própria segurança,\n",
       "todos irão assumir</div>\n",
       "    "
      ],
      "text/plain": [
       "<IPython.core.display.HTML object>"
      ]
     },
     "metadata": {},
     "output_type": "display_data"
    },
    {
     "data": {
      "text/html": [
       "\n",
       "    <div style='color: blue; font-weight: bold;'>Original: New identities?\n",
       "Is that really necessary?</div>\n",
       "    <div style='color: green; font-weight: bold;'>Translated: Novas identidades?\n",
       "É mesmo necessário?</div>\n",
       "    "
      ],
      "text/plain": [
       "<IPython.core.display.HTML object>"
      ]
     },
     "metadata": {},
     "output_type": "display_data"
    },
    {
     "data": {
      "text/html": [
       "\n",
       "    <div style='color: blue; font-weight: bold;'>Original: It's not up for debate, Gru.</div>\n",
       "    <div style='color: green; font-weight: bold;'>Translated: Não está em discussão, Gru.</div>\n",
       "    "
      ],
      "text/plain": [
       "<IPython.core.display.HTML object>"
      ]
     },
     "metadata": {},
     "output_type": "display_data"
    },
    {
     "data": {
      "text/html": [
       "\n",
       "    <div style='color: blue; font-weight: bold;'>Original: Now, you are\n",
       "a solar panel salesman.</div>\n",
       "    <div style='color: green; font-weight: bold;'>Translated: Agora, és um vendedor de painéis solares.</div>\n",
       "    "
      ],
      "text/plain": [
       "<IPython.core.display.HTML object>"
      ]
     },
     "metadata": {},
     "output_type": "display_data"
    },
    {
     "data": {
      "text/html": [
       "\n",
       "    <div style='color: blue; font-weight: bold;'>Original: Lucy, you're a hairstylist\n",
       "at an upscale salon.</div>\n",
       "    <div style='color: green; font-weight: bold;'>Translated: Lucy, és cabeleireira num salão de luxo.</div>\n",
       "    "
      ],
      "text/plain": [
       "<IPython.core.display.HTML object>"
      ]
     },
     "metadata": {},
     "output_type": "display_data"
    },
    {
     "data": {
      "text/html": [
       "\n",
       "    <div style='color: blue; font-weight: bold;'>Original: A hairstylist? Yes, jackpot!</div>\n",
       "    <div style='color: green; font-weight: bold;'>Translated: Um cabeleireiro? Sim, é um achado!</div>\n",
       "    "
      ],
      "text/plain": [
       "<IPython.core.display.HTML object>"
      ]
     },
     "metadata": {},
     "output_type": "display_data"
    },
    {
     "data": {
      "text/html": [
       "\n",
       "    <div style='color: blue; font-weight: bold;'>Original: Silas, did you choose that\n",
       "because you knew\n",
       "I cut my own hair,</div>\n",
       "    <div style='color: green; font-weight: bold;'>Translated: Silas, escolheste isso\n",
       "porque sabias</div>\n",
       "    "
      ],
      "text/plain": [
       "<IPython.core.display.HTML object>"
      ]
     },
     "metadata": {},
     "output_type": "display_data"
    },
    {
     "data": {
      "text/html": [
       "\n",
       "    <div style='color: blue; font-weight: bold;'>Original: and that I would\n",
       "totally rock at this?</div>\n",
       "    <div style='color: green; font-weight: bold;'>Translated: e que eu iria\n",
       "arrasar nisto?</div>\n",
       "    "
      ],
      "text/plain": [
       "<IPython.core.display.HTML object>"
      ]
     },
     "metadata": {},
     "output_type": "display_data"
    },
    {
     "data": {
      "text/html": [
       "\n",
       "    <div style='color: blue; font-weight: bold;'>Original: No.</div>\n",
       "    <div style='color: green; font-weight: bold;'>Translated: Não.</div>\n",
       "    "
      ],
      "text/plain": [
       "<IPython.core.display.HTML object>"
      ]
     },
     "metadata": {},
     "output_type": "display_data"
    },
    {
     "data": {
      "text/html": [
       "\n",
       "    <div style='color: blue; font-weight: bold;'>Original: \"Chet Cunningham.\"</div>\n",
       "    <div style='color: green; font-weight: bold;'>Translated: \"Chet Cunningham.\"</div>\n",
       "    "
      ],
      "text/plain": [
       "<IPython.core.display.HTML object>"
      ]
     },
     "metadata": {},
     "output_type": "display_data"
    },
    {
     "data": {
      "text/html": [
       "\n",
       "    <div style='color: blue; font-weight: bold;'>Original: Ah, that's got\n",
       "a nice ring to it.</div>\n",
       "    <div style='color: green; font-weight: bold;'>Translated: Ah, isso soa bem.</div>\n",
       "    "
      ],
      "text/plain": [
       "<IPython.core.display.HTML object>"
      ]
     },
     "metadata": {},
     "output_type": "display_data"
    },
    {
     "data": {
      "text/html": [
       "\n",
       "    <div style='color: blue; font-weight: bold;'>Original: Girls.</div>\n",
       "    <div style='color: green; font-weight: bold;'>Translated: Raparigas.</div>\n",
       "    "
      ],
      "text/plain": [
       "<IPython.core.display.HTML object>"
      ]
     },
     "metadata": {},
     "output_type": "display_data"
    },
    {
     "data": {
      "text/html": [
       "\n",
       "    <div style='color: blue; font-weight: bold;'>Original: Cool. I'm Blair.</div>\n",
       "    <div style='color: green; font-weight: bold;'>Translated: Fixe. Sou o Blair.</div>\n",
       "    "
      ],
      "text/plain": [
       "<IPython.core.display.HTML object>"
      ]
     },
     "metadata": {},
     "output_type": "display_data"
    },
    {
     "data": {
      "text/html": [
       "\n",
       "    <div style='color: blue; font-weight: bold;'>Original: \"Britney\"?</div>\n",
       "    <div style='color: green; font-weight: bold;'>Translated: \"Britney\"?</div>\n",
       "    "
      ],
      "text/plain": [
       "<IPython.core.display.HTML object>"
      ]
     },
     "metadata": {},
     "output_type": "display_data"
    },
    {
     "data": {
      "text/html": [
       "\n",
       "    <div style='color: blue; font-weight: bold;'>Original: My name is Bree?</div>\n",
       "    <div style='color: green; font-weight: bold;'>Translated: O meu nome é Bree?</div>\n",
       "    "
      ],
      "text/plain": [
       "<IPython.core.display.HTML object>"
      ]
     },
     "metadata": {},
     "output_type": "display_data"
    },
    {
     "data": {
      "text/html": [
       "\n",
       "    <div style='color: blue; font-weight: bold;'>Original: Oh, come on.\n",
       "There are worse names than Bree.</div>\n",
       "    <div style='color: green; font-weight: bold;'>Translated: Oh, vá lá.\n",
       "Há nomes piores do que Bree.</div>\n",
       "    "
      ],
      "text/plain": [
       "<IPython.core.display.HTML object>"
      ]
     },
     "metadata": {},
     "output_type": "display_data"
    },
    {
     "data": {
      "text/html": [
       "\n",
       "    <div style='color: blue; font-weight: bold;'>Original: Yeah, like Blanche.</div>\n",
       "    <div style='color: green; font-weight: bold;'>Translated: Sim, como a Blanche.</div>\n",
       "    "
      ],
      "text/plain": [
       "<IPython.core.display.HTML object>"
      ]
     },
     "metadata": {},
     "output_type": "display_data"
    },
    {
     "data": {
      "text/html": [
       "\n",
       "    <div style='color: blue; font-weight: bold;'>Original: Yes, Margo.</div>\n",
       "    <div style='color: green; font-weight: bold;'>Translated: Sim, Margo.</div>\n",
       "    "
      ],
      "text/plain": [
       "<IPython.core.display.HTML object>"
      ]
     },
     "metadata": {},
     "output_type": "display_data"
    },
    {
     "data": {
      "text/html": [
       "\n",
       "    <div style='color: blue; font-weight: bold;'>Original: Blanche? Ugh,\n",
       "that is a terrible name.</div>\n",
       "    <div style='color: green; font-weight: bold;'>Translated: Blanche? Ugh,\n",
       "que nome horrível.</div>\n",
       "    "
      ],
      "text/plain": [
       "<IPython.core.display.HTML object>"
      ]
     },
     "metadata": {},
     "output_type": "display_data"
    },
    {
     "data": {
      "text/html": [
       "\n",
       "    <div style='color: blue; font-weight: bold;'>Original: Imagine being named Blanche.</div>\n",
       "    <div style='color: green; font-weight: bold;'>Translated: Imagina seres chamado Blanche.</div>\n",
       "    "
      ],
      "text/plain": [
       "<IPython.core.display.HTML object>"
      ]
     },
     "metadata": {},
     "output_type": "display_data"
    },
    {
     "data": {
      "text/html": [
       "\n",
       "    <div style='color: blue; font-weight: bold;'>Original: Truly, I cannot think\n",
       "of a worse--</div>\n",
       "    <div style='color: green; font-weight: bold;'>Translated: Na verdade, não consigo pensar\n",
       "num pior--</div>\n",
       "    "
      ],
      "text/plain": [
       "<IPython.core.display.HTML object>"
      ]
     },
     "metadata": {},
     "output_type": "display_data"
    },
    {
     "data": {
      "text/html": [
       "\n",
       "    <div style='color: blue; font-weight: bold;'>Original: My name's Blanche, isn't it?</div>\n",
       "    <div style='color: green; font-weight: bold;'>Translated: O meu nome é Blanche, não é?</div>\n",
       "    "
      ],
      "text/plain": [
       "<IPython.core.display.HTML object>"
      ]
     },
     "metadata": {},
     "output_type": "display_data"
    },
    {
     "data": {
      "text/html": [
       "\n",
       "    <div style='color: blue; font-weight: bold;'>Original: Yep.</div>\n",
       "    <div style='color: green; font-weight: bold;'>Translated: Sim.</div>\n",
       "    "
      ],
      "text/plain": [
       "<IPython.core.display.HTML object>"
      ]
     },
     "metadata": {},
     "output_type": "display_data"
    },
    {
     "data": {
      "text/html": [
       "\n",
       "    <div style='color: blue; font-weight: bold;'>Original: Well, I'll get used to it.</div>\n",
       "    <div style='color: green; font-weight: bold;'>Translated: Bem, eu vou habituar-me.</div>\n",
       "    "
      ],
      "text/plain": [
       "<IPython.core.display.HTML object>"
      ]
     },
     "metadata": {},
     "output_type": "display_data"
    },
    {
     "data": {
      "text/html": [
       "\n",
       "    <div style='color: blue; font-weight: bold;'>Original: Well, why don't you girls go\n",
       "and pick out your rooms</div>\n",
       "    <div style='color: green; font-weight: bold;'>Translated: Bem, porque é que vocês, meninas, não vão escolher os vossos quartos?</div>\n",
       "    "
      ],
      "text/plain": [
       "<IPython.core.display.HTML object>"
      ]
     },
     "metadata": {},
     "output_type": "display_data"
    },
    {
     "data": {
      "text/html": [
       "\n",
       "    <div style='color: blue; font-weight: bold;'>Original: while I have a word\n",
       "with your parents?</div>\n",
       "    <div style='color: green; font-weight: bold;'>Translated: enquanto eu tenho uma palavra\n",
       "com os seus pais?</div>\n",
       "    "
      ],
      "text/plain": [
       "<IPython.core.display.HTML object>"
      ]
     },
     "metadata": {},
     "output_type": "display_data"
    },
    {
     "data": {
      "text/html": [
       "\n",
       "    <div style='color: blue; font-weight: bold;'>Original: Yes, I didn't want\n",
       "to frighten the girls,</div>\n",
       "    <div style='color: green; font-weight: bold;'>Translated: Sim, eu não queria\n",
       "assustar as raparigas,</div>\n",
       "    "
      ],
      "text/plain": [
       "<IPython.core.display.HTML object>"
      ]
     },
     "metadata": {},
     "output_type": "display_data"
    },
    {
     "data": {
      "text/html": [
       "\n",
       "    <div style='color: blue; font-weight: bold;'>Original: but it is absolutely crucial\n",
       "you keep your true identities\n",
       "under wraps.</div>\n",
       "    <div style='color: green; font-weight: bold;'>Translated: mas é absolutamente crucial\n",
       "que mantenham as vossas verdadeiras identidades</div>\n",
       "    "
      ],
      "text/plain": [
       "<IPython.core.display.HTML object>"
      ]
     },
     "metadata": {},
     "output_type": "display_data"
    },
    {
     "data": {
      "text/html": [
       "\n",
       "    <div style='color: blue; font-weight: bold;'>Original: Gru, you're going to have to try\n",
       "to not be so \"Gru-ish.\"</div>\n",
       "    <div style='color: green; font-weight: bold;'>Translated: Gru, vais ter de tentar não ser tão \"Gru-zão\".</div>\n",
       "    "
      ],
      "text/plain": [
       "<IPython.core.display.HTML object>"
      ]
     },
     "metadata": {},
     "output_type": "display_data"
    },
    {
     "data": {
      "text/html": [
       "\n",
       "    <div style='color: blue; font-weight: bold;'>Original: What is that supposed to mean?</div>\n",
       "    <div style='color: green; font-weight: bold;'>Translated: O que é suposto isso significar?</div>\n",
       "    "
      ],
      "text/plain": [
       "<IPython.core.display.HTML object>"
      ]
     },
     "metadata": {},
     "output_type": "display_data"
    },
    {
     "data": {
      "text/html": [
       "\n",
       "    <div style='color: blue; font-weight: bold;'>Original: Well, I'm just saying\n",
       "you tend to stand out\n",
       "in a crowd, that's all.</div>\n",
       "    <div style='color: green; font-weight: bold;'>Translated: Bem, estou apenas a dizer\n",
       "que tendes a destacar-vos</div>\n",
       "    "
      ],
      "text/plain": [
       "<IPython.core.display.HTML object>"
      ]
     },
     "metadata": {},
     "output_type": "display_data"
    },
    {
     "data": {
      "text/html": [
       "\n",
       "    <div style='color: blue; font-weight: bold;'>Original: You know...\n",
       "...like the way you're always\n",
       "cranky and irritable.</div>\n",
       "    <div style='color: green; font-weight: bold;'>Translated: Sabes...\n",
       "...como és sempre</div>\n",
       "    "
      ],
      "text/plain": [
       "<IPython.core.display.HTML object>"
      ]
     },
     "metadata": {},
     "output_type": "display_data"
    },
    {
     "data": {
      "text/html": [
       "\n",
       "    <div style='color: blue; font-weight: bold;'>Original: And how you make things\n",
       "a bit awkward\n",
       "for everyone around you.</div>\n",
       "    <div style='color: green; font-weight: bold;'>Translated: E como tornas as coisas\n",
       "um pouco desconfortáveis</div>\n",
       "    "
      ],
      "text/plain": [
       "<IPython.core.display.HTML object>"
      ]
     },
     "metadata": {},
     "output_type": "display_data"
    },
    {
     "data": {
      "text/html": [
       "\n",
       "    <div style='color: blue; font-weight: bold;'>Original: You do do that.\n",
       "I mean, you know--</div>\n",
       "    <div style='color: green; font-weight: bold;'>Translated: Tu fazes isso.\n",
       "Quero dizer, tu sabes--</div>\n",
       "    "
      ],
      "text/plain": [
       "<IPython.core.display.HTML object>"
      ]
     },
     "metadata": {},
     "output_type": "display_data"
    },
    {
     "data": {
      "text/html": [
       "\n",
       "    <div style='color: blue; font-weight: bold;'>Original: Okay, enough.</div>\n",
       "    <div style='color: green; font-weight: bold;'>Translated: Chega, basta.</div>\n",
       "    "
      ],
      "text/plain": [
       "<IPython.core.display.HTML object>"
      ]
     },
     "metadata": {},
     "output_type": "display_data"
    },
    {
     "data": {
      "text/html": [
       "\n",
       "    <div style='color: blue; font-weight: bold;'>Original: I don't make people\n",
       "awkward or uncomfortable.</div>\n",
       "    <div style='color: green; font-weight: bold;'>Translated: Eu não faço as pessoas sentirem-se constrangidas ou desconfortáveis.</div>\n",
       "    "
      ],
      "text/plain": [
       "<IPython.core.display.HTML object>"
      ]
     },
     "metadata": {},
     "output_type": "display_data"
    },
    {
     "data": {
      "text/html": [
       "\n",
       "    <div style='color: blue; font-weight: bold;'>Original: I'm very comforting.</div>\n",
       "    <div style='color: green; font-weight: bold;'>Translated: Sou muito reconfortante.</div>\n",
       "    "
      ],
      "text/plain": [
       "<IPython.core.display.HTML object>"
      ]
     },
     "metadata": {},
     "output_type": "display_data"
    },
    {
     "data": {
      "text/html": [
       "\n",
       "    <div style='color: blue; font-weight: bold;'>Original: Like a nice meat loaf.</div>\n",
       "    <div style='color: green; font-weight: bold;'>Translated: Como um bom rolo de carne.</div>\n",
       "    "
      ],
      "text/plain": [
       "<IPython.core.display.HTML object>"
      ]
     },
     "metadata": {},
     "output_type": "display_data"
    },
    {
     "data": {
      "text/html": [
       "\n",
       "    <div style='color: blue; font-weight: bold;'>Original: I'm pretty delicious.</div>\n",
       "    <div style='color: green; font-weight: bold;'>Translated: Sou bastante delicioso(a).</div>\n",
       "    "
      ],
      "text/plain": [
       "<IPython.core.display.HTML object>"
      ]
     },
     "metadata": {},
     "output_type": "display_data"
    },
    {
     "data": {
      "text/html": [
       "\n",
       "    <div style='color: blue; font-weight: bold;'>Original: This is not awkward.\n",
       "You're the ones\n",
       "who are making it awkward.</div>\n",
       "    <div style='color: green; font-weight: bold;'>Translated: Isto não é estranho.\n",
       "São vocês</div>\n",
       "    "
      ],
      "text/plain": [
       "<IPython.core.display.HTML object>"
      ]
     },
     "metadata": {},
     "output_type": "display_data"
    },
    {
     "data": {
      "text/html": [
       "\n",
       "    <div style='color: blue; font-weight: bold;'>Original: Gru, you have to blend in.</div>\n",
       "    <div style='color: green; font-weight: bold;'>Translated: Gru, tens de te integrar.</div>\n",
       "    "
      ],
      "text/plain": [
       "<IPython.core.display.HTML object>"
      ]
     },
     "metadata": {},
     "output_type": "display_data"
    },
    {
     "data": {
      "text/html": [
       "\n",
       "    <div style='color: blue; font-weight: bold;'>Original: Your family's lives\n",
       "are at stake.</div>\n",
       "    <div style='color: green; font-weight: bold;'>Translated: As vidas da tua família estão em jogo.</div>\n",
       "    "
      ],
      "text/plain": [
       "<IPython.core.display.HTML object>"
      ]
     },
     "metadata": {},
     "output_type": "display_data"
    },
    {
     "data": {
      "text/html": [
       "\n",
       "    <div style='color: blue; font-weight: bold;'>Original: You understand?</div>\n",
       "    <div style='color: green; font-weight: bold;'>Translated: Percebes?</div>\n",
       "    "
      ],
      "text/plain": [
       "<IPython.core.display.HTML object>"
      ]
     },
     "metadata": {},
     "output_type": "display_data"
    },
    {
     "data": {
      "text/html": [
       "\n",
       "    <div style='color: blue; font-weight: bold;'>Original: Of course, yes.\n",
       "Fully understand.</div>\n",
       "    <div style='color: green; font-weight: bold;'>Translated: Claro, sim.\n",
       "Compreendo perfeitamente.</div>\n",
       "    "
      ],
      "text/plain": [
       "<IPython.core.display.HTML object>"
      ]
     },
     "metadata": {},
     "output_type": "display_data"
    },
    {
     "data": {
      "text/html": [
       "\n",
       "    <div style='color: blue; font-weight: bold;'>Original: We would do anything\n",
       "to keep our family safe. Yeah.</div>\n",
       "    <div style='color: green; font-weight: bold;'>Translated: Faremos tudo\n",
       "para manter a nossa família segura. Sim.</div>\n",
       "    "
      ],
      "text/plain": [
       "<IPython.core.display.HTML object>"
      ]
     },
     "metadata": {},
     "output_type": "display_data"
    },
    {
     "data": {
      "text/html": [
       "\n",
       "    <div style='color: blue; font-weight: bold;'>Original: Right, well, I'll be in contact\n",
       "when this is all over.</div>\n",
       "    <div style='color: green; font-weight: bold;'>Translated: Certo, entrarei em contacto quando tudo isto terminar.</div>\n",
       "    "
      ],
      "text/plain": [
       "<IPython.core.display.HTML object>"
      ]
     },
     "metadata": {},
     "output_type": "display_data"
    },
    {
     "data": {
      "text/html": [
       "\n",
       "    <div style='color: blue; font-weight: bold;'>Original: Until then,\n",
       "capturing Maxime Le Mal\n",
       "is our top priority.</div>\n",
       "    <div style='color: green; font-weight: bold;'>Translated: Até lá,\n",
       "capturar o Maxime Le Mal</div>\n",
       "    "
      ],
      "text/plain": [
       "<IPython.core.display.HTML object>"
      ]
     },
     "metadata": {},
     "output_type": "display_data"
    },
    {
     "data": {
      "text/html": [
       "\n",
       "    <div style='color: blue; font-weight: bold;'>Original: Stay safe.</div>\n",
       "    <div style='color: green; font-weight: bold;'>Translated: Mantenha-se seguro.</div>\n",
       "    "
      ],
      "text/plain": [
       "<IPython.core.display.HTML object>"
      ]
     },
     "metadata": {},
     "output_type": "display_data"
    },
    {
     "data": {
      "text/html": [
       "\n",
       "    <div style='color: blue; font-weight: bold;'>Original: You know what, Gru,\n",
       "maybe this isn't so bad.</div>\n",
       "    <div style='color: green; font-weight: bold;'>Translated: Sabes que mais, Gru,\n",
       "talvez isto não seja assim tão mau.</div>\n",
       "    "
      ],
      "text/plain": [
       "<IPython.core.display.HTML object>"
      ]
     },
     "metadata": {},
     "output_type": "display_data"
    },
    {
     "data": {
      "text/html": [
       "\n",
       "    <div style='color: blue; font-weight: bold;'>Original: We need a break\n",
       "from chasing down villains\n",
       "and dangerous missions, right?</div>\n",
       "    <div style='color: green; font-weight: bold;'>Translated: Precisamos de uma pausa\n",
       "de perseguir vilões</div>\n",
       "    "
      ],
      "text/plain": [
       "<IPython.core.display.HTML object>"
      ]
     },
     "metadata": {},
     "output_type": "display_data"
    },
    {
     "data": {
      "text/html": [
       "\n",
       "    <div style='color: blue; font-weight: bold;'>Original: We can actually be\n",
       "a normal family for once.</div>\n",
       "    <div style='color: green; font-weight: bold;'>Translated: Podemos finalmente ser\n",
       "uma família normal por uma vez.</div>\n",
       "    "
      ],
      "text/plain": [
       "<IPython.core.display.HTML object>"
      ]
     },
     "metadata": {},
     "output_type": "display_data"
    },
    {
     "data": {
      "text/html": [
       "\n",
       "    <div style='color: blue; font-weight: bold;'>Original: And I can finally spend\n",
       "some real bonding time\n",
       "with the baby.</div>\n",
       "    <div style='color: green; font-weight: bold;'>Translated: E finalmente posso passar\n",
       "algum tempo de verdadeira ligação</div>\n",
       "    "
      ],
      "text/plain": [
       "<IPython.core.display.HTML object>"
      ]
     },
     "metadata": {},
     "output_type": "display_data"
    },
    {
     "data": {
      "text/html": [
       "\n",
       "    <div style='color: blue; font-weight: bold;'>Original: It's gonna be great.\n",
       "Right, pal?</div>\n",
       "    <div style='color: green; font-weight: bold;'>Translated: Vai ser ótimo.\n",
       "Não é, amigo?</div>\n",
       "    "
      ],
      "text/plain": [
       "<IPython.core.display.HTML object>"
      ]
     },
     "metadata": {},
     "output_type": "display_data"
    },
    {
     "data": {
      "text/html": [
       "\n",
       "    <div style='color: blue; font-weight: bold;'>Original: Who's got your nose?\n",
       "Who's got--</div>\n",
       "    <div style='color: green; font-weight: bold;'>Translated: Quem tem o teu nariz?\n",
       "Quem tem--</div>\n",
       "    "
      ],
      "text/plain": [
       "<IPython.core.display.HTML object>"
      ]
     },
     "metadata": {},
     "output_type": "display_data"
    },
    {
     "data": {
      "text/html": [
       "\n",
       "    <div style='color: blue; font-weight: bold;'>Original: He's got my nose.</div>\n",
       "    <div style='color: green; font-weight: bold;'>Translated: Ele tem o meu nariz.</div>\n",
       "    "
      ],
      "text/plain": [
       "<IPython.core.display.HTML object>"
      ]
     },
     "metadata": {},
     "output_type": "display_data"
    },
    {
     "data": {
      "text/html": [
       "\n",
       "    <div style='color: blue; font-weight: bold;'>Original: Quite the grip there.\n",
       "That kid is strong.</div>\n",
       "    <div style='color: green; font-weight: bold;'>Translated: Que aperto forte.\n",
       "Esse miúdo é forte.</div>\n",
       "    "
      ],
      "text/plain": [
       "<IPython.core.display.HTML object>"
      ]
     },
     "metadata": {},
     "output_type": "display_data"
    },
    {
     "data": {
      "text/html": [
       "\n",
       "    <div style='color: blue; font-weight: bold;'>Original: Ah.</div>\n",
       "    <div style='color: green; font-weight: bold;'>Translated: Ah.</div>\n",
       "    "
      ],
      "text/plain": [
       "<IPython.core.display.HTML object>"
      ]
     },
     "metadata": {},
     "output_type": "display_data"
    },
    {
     "data": {
      "text/html": [
       "\n",
       "    <div style='color: blue; font-weight: bold;'>Original: <i>♪ Let's be free, baby\n",
       "And cruise the world ♪</i></div>\n",
       "    <div style='color: green; font-weight: bold;'>Translated: <i>♪ Vamos ser livres, querida\n",
       "E percorrer o mundo ♪</i></div>\n",
       "    "
      ],
      "text/plain": [
       "<IPython.core.display.HTML object>"
      ]
     },
     "metadata": {},
     "output_type": "display_data"
    },
    {
     "data": {
      "text/html": [
       "\n",
       "    <div style='color: blue; font-weight: bold;'>Original: <i>♪ Are you with it, girl? ♪</i></div>\n",
       "    <div style='color: green; font-weight: bold;'>Translated: <i>♪ Estás nessa, rapariga? ♪</i></div>\n",
       "    "
      ],
      "text/plain": [
       "<IPython.core.display.HTML object>"
      ]
     },
     "metadata": {},
     "output_type": "display_data"
    },
    {
     "data": {
      "text/html": [
       "\n",
       "    <div style='color: blue; font-weight: bold;'>Original: <i>♪ I'm free to do what I want ♪</i></div>\n",
       "    <div style='color: green; font-weight: bold;'>Translated: <i>♪ Sou livre para fazer o que quiser ♪</i></div>\n",
       "    "
      ],
      "text/plain": [
       "<IPython.core.display.HTML object>"
      ]
     },
     "metadata": {},
     "output_type": "display_data"
    },
    {
     "data": {
      "text/html": [
       "\n",
       "    <div style='color: blue; font-weight: bold;'>Original: <i>♪ And have a good time ♪</i></div>\n",
       "    <div style='color: green; font-weight: bold;'>Translated: <i>♪ E diverte-te ♪</i></div>\n",
       "    "
      ],
      "text/plain": [
       "<IPython.core.display.HTML object>"
      ]
     },
     "metadata": {},
     "output_type": "display_data"
    },
    {
     "data": {
      "text/html": [
       "\n",
       "    <div style='color: blue; font-weight: bold;'>Original: Thank you.\n",
       "Look at everyone. Yes.</div>\n",
       "    <div style='color: green; font-weight: bold;'>Translated: Obrigado.\n",
       "Olhem para todos. Sim.</div>\n",
       "    "
      ],
      "text/plain": [
       "<IPython.core.display.HTML object>"
      ]
     },
     "metadata": {},
     "output_type": "display_data"
    },
    {
     "data": {
      "text/html": [
       "\n",
       "    <div style='color: blue; font-weight: bold;'>Original: We are having\n",
       "a good time, right?</div>\n",
       "    <div style='color: green; font-weight: bold;'>Translated: Estamos a divertir-nos, certo?</div>\n",
       "    "
      ],
      "text/plain": [
       "<IPython.core.display.HTML object>"
      ]
     },
     "metadata": {},
     "output_type": "display_data"
    },
    {
     "data": {
      "text/html": [
       "\n",
       "    <div style='color: blue; font-weight: bold;'>Original: <i>♪ I'm free to do what I want ♪</i></div>\n",
       "    <div style='color: green; font-weight: bold;'>Translated: <i>♪ Sou livre para fazer o que quiser ♪</i></div>\n",
       "    "
      ],
      "text/plain": [
       "<IPython.core.display.HTML object>"
      ]
     },
     "metadata": {},
     "output_type": "display_data"
    },
    {
     "data": {
      "text/html": [
       "\n",
       "    <div style='color: blue; font-weight: bold;'>Original: <i>♪ And have a good time ♪</i></div>\n",
       "    <div style='color: green; font-weight: bold;'>Translated: <i>♪ E diverte-te ♪</i></div>\n",
       "    "
      ],
      "text/plain": [
       "<IPython.core.display.HTML object>"
      ]
     },
     "metadata": {},
     "output_type": "display_data"
    },
    {
     "data": {
      "text/html": [
       "\n",
       "    <div style='color: blue; font-weight: bold;'>Original: Whoo! Whoo! Whoo!</div>\n",
       "    <div style='color: green; font-weight: bold;'>Translated: Uhu! Uhu! Uhu!</div>\n",
       "    "
      ],
      "text/plain": [
       "<IPython.core.display.HTML object>"
      ]
     },
     "metadata": {},
     "output_type": "display_data"
    },
    {
     "data": {
      "text/html": [
       "\n",
       "    <div style='color: blue; font-weight: bold;'>Original: Whoo-hoo!</div>\n",
       "    <div style='color: green; font-weight: bold;'>Translated: Uhu!</div>\n",
       "    "
      ],
      "text/plain": [
       "<IPython.core.display.HTML object>"
      ]
     },
     "metadata": {},
     "output_type": "display_data"
    },
    {
     "data": {
      "text/html": [
       "\n",
       "    <div style='color: blue; font-weight: bold;'>Original: No, I love you.</div>\n",
       "    <div style='color: green; font-weight: bold;'>Translated: Não, eu amo-te.</div>\n",
       "    "
      ],
      "text/plain": [
       "<IPython.core.display.HTML object>"
      ]
     },
     "metadata": {},
     "output_type": "display_data"
    },
    {
     "data": {
      "text/html": [
       "\n",
       "    <div style='color: blue; font-weight: bold;'>Original: Thank you, my beautiful army.</div>\n",
       "    <div style='color: green; font-weight: bold;'>Translated: Obrigado, meu belo exército.</div>\n",
       "    "
      ],
      "text/plain": [
       "<IPython.core.display.HTML object>"
      ]
     },
     "metadata": {},
     "output_type": "display_data"
    },
    {
     "data": {
      "text/html": [
       "\n",
       "    <div style='color: blue; font-weight: bold;'>Original: Maxime's back, baby.</div>\n",
       "    <div style='color: green; font-weight: bold;'>Translated: O Maxime está de volta, pessoal.</div>\n",
       "    "
      ],
      "text/plain": [
       "<IPython.core.display.HTML object>"
      ]
     },
     "metadata": {},
     "output_type": "display_data"
    },
    {
     "data": {
      "text/html": [
       "\n",
       "    <div style='color: blue; font-weight: bold;'>Original: And a special <i>merci beaucoup</i>\n",
       "to everyone who helped me\n",
       "break out of AVL prison.</div>\n",
       "    <div style='color: green; font-weight: bold;'>Translated: E um especial <i>merci beaucoup</i>\n",
       "a todos os que me ajudaram</div>\n",
       "    "
      ],
      "text/plain": [
       "<IPython.core.display.HTML object>"
      ]
     },
     "metadata": {},
     "output_type": "display_data"
    },
    {
     "data": {
      "text/html": [
       "\n",
       "    <div style='color: blue; font-weight: bold;'>Original: Todd and Linda, where are you?\n",
       "Where are you? Yes.</div>\n",
       "    <div style='color: green; font-weight: bold;'>Translated: Todd e Linda, onde estão?\n",
       "Onde estão? Sim.</div>\n",
       "    "
      ],
      "text/plain": [
       "<IPython.core.display.HTML object>"
      ]
     },
     "metadata": {},
     "output_type": "display_data"
    },
    {
     "data": {
      "text/html": [
       "\n",
       "    <div style='color: blue; font-weight: bold;'>Original: For distracting the guards.</div>\n",
       "    <div style='color: green; font-weight: bold;'>Translated: Para distrair os guardas.</div>\n",
       "    "
      ],
      "text/plain": [
       "<IPython.core.display.HTML object>"
      ]
     },
     "metadata": {},
     "output_type": "display_data"
    },
    {
     "data": {
      "text/html": [
       "\n",
       "    <div style='color: blue; font-weight: bold;'>Original: Oh, <i>très magnifique.</i>\n",
       "Yeah!</div>\n",
       "    <div style='color: green; font-weight: bold;'>Translated: Oh, <i>muito magnífico</i>.\n",
       "Sim!</div>\n",
       "    "
      ],
      "text/plain": [
       "<IPython.core.display.HTML object>"
      ]
     },
     "metadata": {},
     "output_type": "display_data"
    },
    {
     "data": {
      "text/html": [
       "\n",
       "    <div style='color: blue; font-weight: bold;'>Original: Now, silence!</div>\n",
       "    <div style='color: green; font-weight: bold;'>Translated: Agora, silêncio!</div>\n",
       "    "
      ],
      "text/plain": [
       "<IPython.core.display.HTML object>"
      ]
     },
     "metadata": {},
     "output_type": "display_data"
    },
    {
     "data": {
      "text/html": [
       "\n",
       "    <div style='color: blue; font-weight: bold;'>Original: We must make Gru suffer\n",
       "for arresting me.</div>\n",
       "    <div style='color: green; font-weight: bold;'>Translated: Temos de fazer o Gru sofrer por me ter prendido.</div>\n",
       "    "
      ],
      "text/plain": [
       "<IPython.core.display.HTML object>"
      ]
     },
     "metadata": {},
     "output_type": "display_data"
    },
    {
     "data": {
      "text/html": [
       "\n",
       "    <div style='color: blue; font-weight: bold;'>Original: And what better way</div>\n",
       "    <div style='color: green; font-weight: bold;'>Translated: E de que melhor maneira</div>\n",
       "    "
      ],
      "text/plain": [
       "<IPython.core.display.HTML object>"
      ]
     },
     "metadata": {},
     "output_type": "display_data"
    },
    {
     "data": {
      "text/html": [
       "\n",
       "    <div style='color: blue; font-weight: bold;'>Original: than to take away from him\n",
       "his precious little baby.</div>\n",
       "    <div style='color: green; font-weight: bold;'>Translated: do que tirar-lhe\n",
       "o seu precioso pequenino.</div>\n",
       "    "
      ],
      "text/plain": [
       "<IPython.core.display.HTML object>"
      ]
     },
     "metadata": {},
     "output_type": "display_data"
    },
    {
     "data": {
      "text/html": [
       "\n",
       "    <div style='color: blue; font-weight: bold;'>Original: I want to take that baby.</div>\n",
       "    <div style='color: green; font-weight: bold;'>Translated: Eu quero levar aquele bebé.</div>\n",
       "    "
      ],
      "text/plain": [
       "<IPython.core.display.HTML object>"
      ]
     },
     "metadata": {},
     "output_type": "display_data"
    },
    {
     "data": {
      "text/html": [
       "\n",
       "    <div style='color: blue; font-weight: bold;'>Original: Whoa.</div>\n",
       "    <div style='color: green; font-weight: bold;'>Translated: Uau.</div>\n",
       "    "
      ],
      "text/plain": [
       "<IPython.core.display.HTML object>"
      ]
     },
     "metadata": {},
     "output_type": "display_data"
    },
    {
     "data": {
      "text/html": [
       "\n",
       "    <div style='color: blue; font-weight: bold;'>Original: Yeah!</div>\n",
       "    <div style='color: green; font-weight: bold;'>Translated: Sim!</div>\n",
       "    "
      ],
      "text/plain": [
       "<IPython.core.display.HTML object>"
      ]
     },
     "metadata": {},
     "output_type": "display_data"
    },
    {
     "data": {
      "text/html": [
       "\n",
       "    <div style='color: blue; font-weight: bold;'>Original: Oh, Maxime.</div>\n",
       "    <div style='color: green; font-weight: bold;'>Translated: Oh, Maxime.</div>\n",
       "    "
      ],
      "text/plain": [
       "<IPython.core.display.HTML object>"
      ]
     },
     "metadata": {},
     "output_type": "display_data"
    },
    {
     "data": {
      "text/html": [
       "\n",
       "    <div style='color: blue; font-weight: bold;'>Original: No, no. Wait, wait. Not Maxime.</div>\n",
       "    <div style='color: green; font-weight: bold;'>Translated: Não, não. Espera, espera. Não o Maxime.</div>\n",
       "    "
      ],
      "text/plain": [
       "<IPython.core.display.HTML object>"
      ]
     },
     "metadata": {},
     "output_type": "display_data"
    },
    {
     "data": {
      "text/html": [
       "\n",
       "    <div style='color: blue; font-weight: bold;'>Original: What if I start going by\n",
       "\"Cockroach Man,\" huh?</div>\n",
       "    <div style='color: green; font-weight: bold;'>Translated: E se eu começar a ser chamado de \"Homem Barata\", hein?</div>\n",
       "    "
      ],
      "text/plain": [
       "<IPython.core.display.HTML object>"
      ]
     },
     "metadata": {},
     "output_type": "display_data"
    },
    {
     "data": {
      "text/html": [
       "\n",
       "    <div style='color: blue; font-weight: bold;'>Original: Little on the nose,\n",
       "but it is very clear.</div>\n",
       "    <div style='color: green; font-weight: bold;'>Translated: Um pouco óbvio,\n",
       "mas é muito claro.</div>\n",
       "    "
      ],
      "text/plain": [
       "<IPython.core.display.HTML object>"
      ]
     },
     "metadata": {},
     "output_type": "display_data"
    },
    {
     "data": {
      "text/html": [
       "\n",
       "    <div style='color: blue; font-weight: bold;'>Original: It's good, no?\n",
       "Ugh.</div>\n",
       "    <div style='color: green; font-weight: bold;'>Translated: É bom, não é?\n",
       "Ugh.</div>\n",
       "    "
      ],
      "text/plain": [
       "<IPython.core.display.HTML object>"
      ]
     },
     "metadata": {},
     "output_type": "display_data"
    },
    {
     "data": {
      "text/html": [
       "\n",
       "    <div style='color: blue; font-weight: bold;'>Original: I am not calling you\n",
       "that stupid name,\n",
       "but I love this evil plan.</div>\n",
       "    <div style='color: green; font-weight: bold;'>Translated: Eu não te vou chamar\n",
       "esse nome estúpido,</div>\n",
       "    "
      ],
      "text/plain": [
       "<IPython.core.display.HTML object>"
      ]
     },
     "metadata": {},
     "output_type": "display_data"
    },
    {
     "data": {
      "text/html": [
       "\n",
       "    <div style='color: blue; font-weight: bold;'>Original: Well, Gru has it coming.</div>\n",
       "    <div style='color: green; font-weight: bold;'>Translated: Bem, o Gru merece-o.</div>\n",
       "    "
      ],
      "text/plain": [
       "<IPython.core.display.HTML object>"
      ]
     },
     "metadata": {},
     "output_type": "display_data"
    },
    {
     "data": {
      "text/html": [
       "\n",
       "    <div style='color: blue; font-weight: bold;'>Original: He humiliated me\n",
       "in front of the whole school.</div>\n",
       "    <div style='color: green; font-weight: bold;'>Translated: Ele humilhou-me\n",
       "à frente de toda a escola.</div>\n",
       "    "
      ],
      "text/plain": [
       "<IPython.core.display.HTML object>"
      ]
     },
     "metadata": {},
     "output_type": "display_data"
    },
    {
     "data": {
      "text/html": [
       "\n",
       "    <div style='color: blue; font-weight: bold;'>Original: I had my trophy and everything.</div>\n",
       "    <div style='color: green; font-weight: bold;'>Translated: Eu tinha o meu troféu e tudo.</div>\n",
       "    "
      ],
      "text/plain": [
       "<IPython.core.display.HTML object>"
      ]
     },
     "metadata": {},
     "output_type": "display_data"
    },
    {
     "data": {
      "text/html": [
       "\n",
       "    <div style='color: blue; font-weight: bold;'>Original: But now the game begins.</div>\n",
       "    <div style='color: green; font-weight: bold;'>Translated: Mas agora o jogo começa.</div>\n",
       "    "
      ],
      "text/plain": [
       "<IPython.core.display.HTML object>"
      ]
     },
     "metadata": {},
     "output_type": "display_data"
    },
    {
     "data": {
      "text/html": [
       "\n",
       "    <div style='color: blue; font-weight: bold;'>Original: He runs and hides\n",
       "like the mouse,\n",
       "and we find him like the cat.</div>\n",
       "    <div style='color: green; font-weight: bold;'>Translated: Ele corre e esconde-se\n",
       "como o rato,</div>\n",
       "    "
      ],
      "text/plain": [
       "<IPython.core.display.HTML object>"
      ]
     },
     "metadata": {},
     "output_type": "display_data"
    },
    {
     "data": {
      "text/html": [
       "\n",
       "    <div style='color: blue; font-weight: bold;'>Original: Game on.</div>\n",
       "    <div style='color: green; font-weight: bold;'>Translated: Jogo começou.</div>\n",
       "    "
      ],
      "text/plain": [
       "<IPython.core.display.HTML object>"
      ]
     },
     "metadata": {},
     "output_type": "display_data"
    },
    {
     "data": {
      "text/html": [
       "\n",
       "    <div style='color: blue; font-weight: bold;'>Original: Okay, we've got Chet's famous,\n",
       "super cheesy scrambled eggs.</div>\n",
       "    <div style='color: green; font-weight: bold;'>Translated: Ok, temos os famosos ovos mexidos super queijosos do Chet.</div>\n",
       "    "
      ],
      "text/plain": [
       "<IPython.core.display.HTML object>"
      ]
     },
     "metadata": {},
     "output_type": "display_data"
    },
    {
     "data": {
      "text/html": [
       "\n",
       "    <div style='color: blue; font-weight: bold;'>Original: And Blanche's famous bacon\n",
       "that spells your name.</div>\n",
       "    <div style='color: green; font-weight: bold;'>Translated: E o famoso bacon da Blanche\n",
       "que soletra o teu nome.</div>\n",
       "    "
      ],
      "text/plain": [
       "<IPython.core.display.HTML object>"
      ]
     },
     "metadata": {},
     "output_type": "display_data"
    },
    {
     "data": {
      "text/html": [
       "\n",
       "    <div style='color: blue; font-weight: bold;'>Original: - Here you go, Britney.</div>\n",
       "    <div style='color: green; font-weight: bold;'>Translated: - Aqui tens, Britney.</div>\n",
       "    "
      ],
      "text/plain": [
       "<IPython.core.display.HTML object>"
      ]
     },
     "metadata": {},
     "output_type": "display_data"
    },
    {
     "data": {
      "text/html": [
       "\n",
       "    <div style='color: blue; font-weight: bold;'>Original: Wait, I can't say\n",
       "my name is Britney.</div>\n",
       "    <div style='color: green; font-weight: bold;'>Translated: Espera, não posso dizer\n",
       "que o meu nome é Britney.</div>\n",
       "    "
      ],
      "text/plain": [
       "<IPython.core.display.HTML object>"
      ]
     },
     "metadata": {},
     "output_type": "display_data"
    },
    {
     "data": {
      "text/html": [
       "\n",
       "    <div style='color: blue; font-weight: bold;'>Original: That would be a lie.</div>\n",
       "    <div style='color: green; font-weight: bold;'>Translated: Isso seria uma mentira.</div>\n",
       "    "
      ],
      "text/plain": [
       "<IPython.core.display.HTML object>"
      ]
     },
     "metadata": {},
     "output_type": "display_data"
    },
    {
     "data": {
      "text/html": [
       "\n",
       "    <div style='color: blue; font-weight: bold;'>Original: Yes.</div>\n",
       "    <div style='color: green; font-weight: bold;'>Translated: Sim.</div>\n",
       "    "
      ],
      "text/plain": [
       "<IPython.core.display.HTML object>"
      ]
     },
     "metadata": {},
     "output_type": "display_data"
    },
    {
     "data": {
      "text/html": [
       "\n",
       "    <div style='color: blue; font-weight: bold;'>Original: But we aren't\n",
       "\"stupposed\" to lie.</div>\n",
       "    <div style='color: green; font-weight: bold;'>Translated: Mas nós não devemos mentir.</div>\n",
       "    "
      ],
      "text/plain": [
       "<IPython.core.display.HTML object>"
      ]
     },
     "metadata": {},
     "output_type": "display_data"
    },
    {
     "data": {
      "text/html": [
       "\n",
       "    <div style='color: blue; font-weight: bold;'>Original: Don't think of it as lying.</div>\n",
       "    <div style='color: green; font-weight: bold;'>Translated: Não penses nisso como mentir.</div>\n",
       "    "
      ],
      "text/plain": [
       "<IPython.core.display.HTML object>"
      ]
     },
     "metadata": {},
     "output_type": "display_data"
    },
    {
     "data": {
      "text/html": [
       "\n",
       "    <div style='color: blue; font-weight: bold;'>Original: Think of it\n",
       "as high-stakes pretending.</div>\n",
       "    <div style='color: green; font-weight: bold;'>Translated: Pense nisso\n",
       "como uma encenação de alto risco.</div>\n",
       "    "
      ],
      "text/plain": [
       "<IPython.core.display.HTML object>"
      ]
     },
     "metadata": {},
     "output_type": "display_data"
    },
    {
     "data": {
      "text/html": [
       "\n",
       "    <div style='color: blue; font-weight: bold;'>Original: Well, I'm not going to.</div>\n",
       "    <div style='color: green; font-weight: bold;'>Translated: Bem, eu não vou.</div>\n",
       "    "
      ],
      "text/plain": [
       "<IPython.core.display.HTML object>"
      ]
     },
     "metadata": {},
     "output_type": "display_data"
    },
    {
     "data": {
      "text/html": [
       "\n",
       "    <div style='color: blue; font-weight: bold;'>Original: Bah, it's just\n",
       "a little white lie.</div>\n",
       "    <div style='color: green; font-weight: bold;'>Translated: Bah, é só uma pequena mentira piedosa.</div>\n",
       "    "
      ],
      "text/plain": [
       "<IPython.core.display.HTML object>"
      ]
     },
     "metadata": {},
     "output_type": "display_data"
    },
    {
     "data": {
      "text/html": [
       "\n",
       "    <div style='color: blue; font-weight: bold;'>Original: No.</div>\n",
       "    <div style='color: green; font-weight: bold;'>Translated: Não.</div>\n",
       "    "
      ],
      "text/plain": [
       "<IPython.core.display.HTML object>"
      ]
     },
     "metadata": {},
     "output_type": "display_data"
    },
    {
     "data": {
      "text/html": [
       "\n",
       "    <div style='color: blue; font-weight: bold;'>Original: Agnes, as your father,</div>\n",
       "    <div style='color: green; font-weight: bold;'>Translated: Agnes, como teu pai,</div>\n",
       "    "
      ],
      "text/plain": [
       "<IPython.core.display.HTML object>"
      ]
     },
     "metadata": {},
     "output_type": "display_data"
    },
    {
     "data": {
      "text/html": [
       "\n",
       "    <div style='color: blue; font-weight: bold;'>Original: I command you to lie.</div>\n",
       "    <div style='color: green; font-weight: bold;'>Translated: Eu ordeno-te que mintas.</div>\n",
       "    "
      ],
      "text/plain": [
       "<IPython.core.display.HTML object>"
      ]
     },
     "metadata": {},
     "output_type": "display_data"
    },
    {
     "data": {
      "text/html": [
       "\n",
       "    <div style='color: blue; font-weight: bold;'>Original: No.</div>\n",
       "    <div style='color: green; font-weight: bold;'>Translated: Não.</div>\n",
       "    "
      ],
      "text/plain": [
       "<IPython.core.display.HTML object>"
      ]
     },
     "metadata": {},
     "output_type": "display_data"
    },
    {
     "data": {
      "text/html": [
       "\n",
       "    <div style='color: blue; font-weight: bold;'>Original: - Yes, lie.\n",
       "- Mm-mmm.</div>\n",
       "    <div style='color: green; font-weight: bold;'>Translated: - Sim, mentira.\n",
       "- Mm-mmm.</div>\n",
       "    "
      ],
      "text/plain": [
       "<IPython.core.display.HTML object>"
      ]
     },
     "metadata": {},
     "output_type": "display_data"
    },
    {
     "data": {
      "text/html": [
       "\n",
       "    <div style='color: blue; font-weight: bold;'>Original: You are walking\n",
       "on thin ice, little lady.</div>\n",
       "    <div style='color: green; font-weight: bold;'>Translated: Estás a pisar gelo fino, menina.</div>\n",
       "    "
      ],
      "text/plain": [
       "<IPython.core.display.HTML object>"
      ]
     },
     "metadata": {},
     "output_type": "display_data"
    },
    {
     "data": {
      "text/html": [
       "\n",
       "    <div style='color: blue; font-weight: bold;'>Original: Hmm!</div>\n",
       "    <div style='color: green; font-weight: bold;'>Translated: Hmm!</div>\n",
       "    "
      ],
      "text/plain": [
       "<IPython.core.display.HTML object>"
      ]
     },
     "metadata": {},
     "output_type": "display_data"
    },
    {
     "data": {
      "text/html": [
       "\n",
       "    <div style='color: blue; font-weight: bold;'>Original: Why can't you be more\n",
       "like your sister Edith?</div>\n",
       "    <div style='color: green; font-weight: bold;'>Translated: Porque não podes ser mais como a tua irmã Edith?</div>\n",
       "    "
      ],
      "text/plain": [
       "<IPython.core.display.HTML object>"
      ]
     },
     "metadata": {},
     "output_type": "display_data"
    },
    {
     "data": {
      "text/html": [
       "\n",
       "    <div style='color: blue; font-weight: bold;'>Original: She lies all the time.</div>\n",
       "    <div style='color: green; font-weight: bold;'>Translated: Ela mente o tempo todo.</div>\n",
       "    "
      ],
      "text/plain": [
       "<IPython.core.display.HTML object>"
      ]
     },
     "metadata": {},
     "output_type": "display_data"
    },
    {
     "data": {
      "text/html": [
       "\n",
       "    <div style='color: blue; font-weight: bold;'>Original: No, I don't.</div>\n",
       "    <div style='color: green; font-weight: bold;'>Translated: Não, não tenho.</div>\n",
       "    "
      ],
      "text/plain": [
       "<IPython.core.display.HTML object>"
      ]
     },
     "metadata": {},
     "output_type": "display_data"
    },
    {
     "data": {
      "text/html": [
       "\n",
       "    <div style='color: blue; font-weight: bold;'>Original: See? See? She's lying right now.</div>\n",
       "    <div style='color: green; font-weight: bold;'>Translated: Vês? Vês? Ela está a mentir agora mesmo.</div>\n",
       "    "
      ],
      "text/plain": [
       "<IPython.core.display.HTML object>"
      ]
     },
     "metadata": {},
     "output_type": "display_data"
    },
    {
     "data": {
      "text/html": [
       "\n",
       "    <div style='color: blue; font-weight: bold;'>Original: Beautifully, I might add.</div>\n",
       "    <div style='color: green; font-weight: bold;'>Translated: Devo acrescentar, de forma bela.</div>\n",
       "    "
      ],
      "text/plain": [
       "<IPython.core.display.HTML object>"
      ]
     },
     "metadata": {},
     "output_type": "display_data"
    },
    {
     "data": {
      "text/html": [
       "\n",
       "    <div style='color: blue; font-weight: bold;'>Original: Okay, you guys.</div>\n",
       "    <div style='color: green; font-weight: bold;'>Translated: Ok, pessoal.</div>\n",
       "    "
      ],
      "text/plain": [
       "<IPython.core.display.HTML object>"
      ]
     },
     "metadata": {},
     "output_type": "display_data"
    },
    {
     "data": {
      "text/html": [
       "\n",
       "    <div style='color: blue; font-weight: bold;'>Original: This is our first big day\n",
       "in Mayflower,</div>\n",
       "    <div style='color: green; font-weight: bold;'>Translated: Este é o nosso primeiro grande dia\n",
       "em Mayflower,</div>\n",
       "    "
      ],
      "text/plain": [
       "<IPython.core.display.HTML object>"
      ]
     },
     "metadata": {},
     "output_type": "display_data"
    },
    {
     "data": {
      "text/html": [
       "\n",
       "    <div style='color: blue; font-weight: bold;'>Original: and I say\n",
       "we make it a great one.</div>\n",
       "    <div style='color: green; font-weight: bold;'>Translated: e eu digo\n",
       "vamos torná-lo excelente.</div>\n",
       "    "
      ],
      "text/plain": [
       "<IPython.core.display.HTML object>"
      ]
     },
     "metadata": {},
     "output_type": "display_data"
    },
    {
     "data": {
      "text/html": [
       "\n",
       "    <div style='color: blue; font-weight: bold;'>Original: Right, Chet Jr?</div>\n",
       "    <div style='color: green; font-weight: bold;'>Translated: Certo, Chet Jr.?</div>\n",
       "    "
      ],
      "text/plain": [
       "<IPython.core.display.HTML object>"
      ]
     },
     "metadata": {},
     "output_type": "display_data"
    },
    {
     "data": {
      "text/html": [
       "\n",
       "    <div style='color: blue; font-weight: bold;'>Original: Whoo-hoo, Mayflower. Yes!\n",
       "Whoo-hoo.</div>\n",
       "    <div style='color: green; font-weight: bold;'>Translated: Uhu, Mayflower. Sim!\n",
       "Uhu.</div>\n",
       "    "
      ],
      "text/plain": [
       "<IPython.core.display.HTML object>"
      ]
     },
     "metadata": {},
     "output_type": "display_data"
    },
    {
     "data": {
      "text/html": [
       "\n",
       "    <div style='color: blue; font-weight: bold;'>Original: We're gonna be late for karate.</div>\n",
       "    <div style='color: green; font-weight: bold;'>Translated: Vamos chegar atrasados ao karaté.</div>\n",
       "    "
      ],
      "text/plain": [
       "<IPython.core.display.HTML object>"
      ]
     },
     "metadata": {},
     "output_type": "display_data"
    },
    {
     "data": {
      "text/html": [
       "\n",
       "    <div style='color: blue; font-weight: bold;'>Original: And you have to\n",
       "get Margo to school.\n",
       "Ah.</div>\n",
       "    <div style='color: green; font-weight: bold;'>Translated: E tens de levar a Margo à escola.\n",
       "Ah.</div>\n",
       "    "
      ],
      "text/plain": [
       "<IPython.core.display.HTML object>"
      ]
     },
     "metadata": {},
     "output_type": "display_data"
    },
    {
     "data": {
      "text/html": [
       "\n",
       "    <div style='color: blue; font-weight: bold;'>Original: It's gonna be awesome.\n",
       "Ugh. Yay.</div>\n",
       "    <div style='color: green; font-weight: bold;'>Translated: Vai ser incrível.\n",
       "Ugh. Yay.</div>\n",
       "    "
      ],
      "text/plain": [
       "<IPython.core.display.HTML object>"
      ]
     },
     "metadata": {},
     "output_type": "display_data"
    },
    {
     "data": {
      "text/html": [
       "\n",
       "    <div style='color: blue; font-weight: bold;'>Original: Hey, you just have to\n",
       "put yourself out there,</div>\n",
       "    <div style='color: green; font-weight: bold;'>Translated: Olá, só tens de\n",
       "te expor um pouco,</div>\n",
       "    "
      ],
      "text/plain": [
       "<IPython.core.display.HTML object>"
      ]
     },
     "metadata": {},
     "output_type": "display_data"
    },
    {
     "data": {
      "text/html": [
       "\n",
       "    <div style='color: blue; font-weight: bold;'>Original: and I promise Mayflower\n",
       "will love Chet Cunningham.</div>\n",
       "    <div style='color: green; font-weight: bold;'>Translated: e prometo que a Mayflower\n",
       "vai adorar o Chet Cunningham.</div>\n",
       "    "
      ],
      "text/plain": [
       "<IPython.core.display.HTML object>"
      ]
     },
     "metadata": {},
     "output_type": "display_data"
    },
    {
     "data": {
      "text/html": [
       "\n",
       "    <div style='color: blue; font-weight: bold;'>Original: Well, they're gonna love him\n",
       "just as much as I do.</div>\n",
       "    <div style='color: green; font-weight: bold;'>Translated: Bem, eles vão adorá-lo tanto quanto eu.</div>\n",
       "    "
      ],
      "text/plain": [
       "<IPython.core.display.HTML object>"
      ]
     },
     "metadata": {},
     "output_type": "display_data"
    },
    {
     "data": {
      "text/html": [
       "\n",
       "    <div style='color: blue; font-weight: bold;'>Original: And you, little man,\n",
       "are gonna have so much fun\n",
       "with your daddy today.</div>\n",
       "    <div style='color: green; font-weight: bold;'>Translated: E tu, pequenino,\n",
       "vais divertir-te tanto</div>\n",
       "    "
      ],
      "text/plain": [
       "<IPython.core.display.HTML object>"
      ]
     },
     "metadata": {},
     "output_type": "display_data"
    },
    {
     "data": {
      "text/html": [
       "\n",
       "    <div style='color: blue; font-weight: bold;'>Original: Yep, just you and Dada.</div>\n",
       "    <div style='color: green; font-weight: bold;'>Translated: Sim, só tu e o Dada.</div>\n",
       "    "
      ],
      "text/plain": [
       "<IPython.core.display.HTML object>"
      ]
     },
     "metadata": {},
     "output_type": "display_data"
    },
    {
     "data": {
      "text/html": [
       "\n",
       "    <div style='color: blue; font-weight: bold;'>Original: Come on, say it. Dada.</div>\n",
       "    <div style='color: green; font-weight: bold;'>Translated: Vá lá, diz. Papá.</div>\n",
       "    "
      ],
      "text/plain": [
       "<IPython.core.display.HTML object>"
      ]
     },
     "metadata": {},
     "output_type": "display_data"
    },
    {
     "data": {
      "text/html": [
       "\n",
       "    <div style='color: blue; font-weight: bold;'>Original: Dada.</div>\n",
       "    <div style='color: green; font-weight: bold;'>Translated: Dada.</div>\n",
       "    "
      ],
      "text/plain": [
       "<IPython.core.display.HTML object>"
      ]
     },
     "metadata": {},
     "output_type": "display_data"
    },
    {
     "data": {
      "text/html": [
       "\n",
       "    <div style='color: blue; font-weight: bold;'>Original: Gonna be a fun day.</div>\n",
       "    <div style='color: green; font-weight: bold;'>Translated: Vai ser um dia divertido.</div>\n",
       "    "
      ],
      "text/plain": [
       "<IPython.core.display.HTML object>"
      ]
     },
     "metadata": {},
     "output_type": "display_data"
    },
    {
     "data": {
      "text/html": [
       "\n",
       "    <div style='color: blue; font-weight: bold;'>Original: Hup, hup, hup!</div>\n",
       "    <div style='color: green; font-weight: bold;'>Translated: Força, força, força!</div>\n",
       "    "
      ],
      "text/plain": [
       "<IPython.core.display.HTML object>"
      ]
     },
     "metadata": {},
     "output_type": "display_data"
    },
    {
     "data": {
      "text/html": [
       "\n",
       "    <div style='color: blue; font-weight: bold;'>Original: Hup, hup, hup, hup!</div>\n",
       "    <div style='color: green; font-weight: bold;'>Translated: Força, força, força, força!</div>\n",
       "    "
      ],
      "text/plain": [
       "<IPython.core.display.HTML object>"
      ]
     },
     "metadata": {},
     "output_type": "display_data"
    },
    {
     "data": {
      "text/html": [
       "\n",
       "    <div style='color: blue; font-weight: bold;'>Original: Buddies.</div>\n",
       "    <div style='color: green; font-weight: bold;'>Translated: Camaradas.</div>\n",
       "    "
      ],
      "text/plain": [
       "<IPython.core.display.HTML object>"
      ]
     },
     "metadata": {},
     "output_type": "display_data"
    },
    {
     "data": {
      "text/html": [
       "\n",
       "    <div style='color: blue; font-weight: bold;'>Original: Okay.</div>\n",
       "    <div style='color: green; font-weight: bold;'>Translated: Certo.</div>\n",
       "    "
      ],
      "text/plain": [
       "<IPython.core.display.HTML object>"
      ]
     },
     "metadata": {},
     "output_type": "display_data"
    },
    {
     "data": {
      "text/html": [
       "\n",
       "    <div style='color: blue; font-weight: bold;'>Original: Thanks a lot, guys.\n",
       "Ah, ha-ha, buddy.</div>\n",
       "    <div style='color: green; font-weight: bold;'>Translated: Muito obrigado, pessoal.\n",
       "Ah, ha-ha, amigo.</div>\n",
       "    "
      ],
      "text/plain": [
       "<IPython.core.display.HTML object>"
      ]
     },
     "metadata": {},
     "output_type": "display_data"
    },
    {
     "data": {
      "text/html": [
       "\n",
       "    <div style='color: blue; font-weight: bold;'>Original: ...check ya.</div>\n",
       "    <div style='color: green; font-weight: bold;'>Translated: ...verifica-te.</div>\n",
       "    "
      ],
      "text/plain": [
       "<IPython.core.display.HTML object>"
      ]
     },
     "metadata": {},
     "output_type": "display_data"
    },
    {
     "data": {
      "text/html": [
       "\n",
       "    <div style='color: blue; font-weight: bold;'>Original: All right. Thanks, hon.</div>\n",
       "    <div style='color: green; font-weight: bold;'>Translated: Tudo bem. Obrigado, querido(a).</div>\n",
       "    "
      ],
      "text/plain": [
       "<IPython.core.display.HTML object>"
      ]
     },
     "metadata": {},
     "output_type": "display_data"
    },
    {
     "data": {
      "text/html": [
       "\n",
       "    <div style='color: blue; font-weight: bold;'>Original: Bye.\n",
       "Bye.</div>\n",
       "    <div style='color: green; font-weight: bold;'>Translated: Adeus.\n",
       "Adeus.</div>\n",
       "    "
      ],
      "text/plain": [
       "<IPython.core.display.HTML object>"
      ]
     },
     "metadata": {},
     "output_type": "display_data"
    },
    {
     "data": {
      "text/html": [
       "\n",
       "    <div style='color: blue; font-weight: bold;'>Original: Look, Margo, neighbors.</div>\n",
       "    <div style='color: green; font-weight: bold;'>Translated: Olha, Margo, os vizinhos.</div>\n",
       "    "
      ],
      "text/plain": [
       "<IPython.core.display.HTML object>"
      ]
     },
     "metadata": {},
     "output_type": "display_data"
    },
    {
     "data": {
      "text/html": [
       "\n",
       "    <div style='color: blue; font-weight: bold;'>Original: Hello!</div>\n",
       "    <div style='color: green; font-weight: bold;'>Translated: Olá!</div>\n",
       "    "
      ],
      "text/plain": [
       "<IPython.core.display.HTML object>"
      ]
     },
     "metadata": {},
     "output_type": "display_data"
    },
    {
     "data": {
      "text/html": [
       "\n",
       "    <div style='color: blue; font-weight: bold;'>Original: Hmm?</div>\n",
       "    <div style='color: green; font-weight: bold;'>Translated: Hmm?</div>\n",
       "    "
      ],
      "text/plain": [
       "<IPython.core.display.HTML object>"
      ]
     },
     "metadata": {},
     "output_type": "display_data"
    },
    {
     "data": {
      "text/html": [
       "\n",
       "    <div style='color: blue; font-weight: bold;'>Original: Come on.</div>\n",
       "    <div style='color: green; font-weight: bold;'>Translated: Vamos.</div>\n",
       "    "
      ],
      "text/plain": [
       "<IPython.core.display.HTML object>"
      ]
     },
     "metadata": {},
     "output_type": "display_data"
    },
    {
     "data": {
      "text/html": [
       "\n",
       "    <div style='color: blue; font-weight: bold;'>Original: You got this, Chet.</div>\n",
       "    <div style='color: green; font-weight: bold;'>Translated: Tu consegues, Chet.</div>\n",
       "    "
      ],
      "text/plain": [
       "<IPython.core.display.HTML object>"
      ]
     },
     "metadata": {},
     "output_type": "display_data"
    },
    {
     "data": {
      "text/html": [
       "\n",
       "    <div style='color: blue; font-weight: bold;'>Original: I'm your new neighbor,\n",
       "Chet Cunningham.</div>\n",
       "    <div style='color: green; font-weight: bold;'>Translated: Sou o teu novo vizinho,\n",
       "Chet Cunningham.</div>\n",
       "    "
      ],
      "text/plain": [
       "<IPython.core.display.HTML object>"
      ]
     },
     "metadata": {},
     "output_type": "display_data"
    },
    {
     "data": {
      "text/html": [
       "\n",
       "    <div style='color: blue; font-weight: bold;'>Original: Uh-huh. Perry Prescott.</div>\n",
       "    <div style='color: green; font-weight: bold;'>Translated: Ah, sim. Perry Prescott.</div>\n",
       "    "
      ],
      "text/plain": [
       "<IPython.core.display.HTML object>"
      ]
     },
     "metadata": {},
     "output_type": "display_data"
    },
    {
     "data": {
      "text/html": [
       "\n",
       "    <div style='color: blue; font-weight: bold;'>Original: So, what, uh, brings you\n",
       "to the neighborhood, Chet?</div>\n",
       "    <div style='color: green; font-weight: bold;'>Translated: Então, o que te traz ao bairro, Chet?</div>\n",
       "    "
      ],
      "text/plain": [
       "<IPython.core.display.HTML object>"
      ]
     },
     "metadata": {},
     "output_type": "display_data"
    },
    {
     "data": {
      "text/html": [
       "\n",
       "    <div style='color: blue; font-weight: bold;'>Original: Well, uh...</div>\n",
       "    <div style='color: green; font-weight: bold;'>Translated: Bem, uh...</div>\n",
       "    "
      ],
      "text/plain": [
       "<IPython.core.display.HTML object>"
      ]
     },
     "metadata": {},
     "output_type": "display_data"
    },
    {
     "data": {
      "text/html": [
       "\n",
       "    <div style='color: blue; font-weight: bold;'>Original: Solar panels. That's it.\n",
       "I sell solar panels.</div>\n",
       "    <div style='color: green; font-weight: bold;'>Translated: Painéis solares. É isso.\n",
       "Eu vendo painéis solares.</div>\n",
       "    "
      ],
      "text/plain": [
       "<IPython.core.display.HTML object>"
      ]
     },
     "metadata": {},
     "output_type": "display_data"
    },
    {
     "data": {
      "text/html": [
       "\n",
       "    <div style='color: blue; font-weight: bold;'>Original: Have you joined\n",
       "the solar revolution?</div>\n",
       "    <div style='color: green; font-weight: bold;'>Translated: Já aderiste à revolução solar?</div>\n",
       "    "
      ],
      "text/plain": [
       "<IPython.core.display.HTML object>"
      ]
     },
     "metadata": {},
     "output_type": "display_data"
    },
    {
     "data": {
      "text/html": [
       "\n",
       "    <div style='color: blue; font-weight: bold;'>Original: Yeah, no.</div>\n",
       "    <div style='color: green; font-weight: bold;'>Translated: Sim, não.</div>\n",
       "    "
      ],
      "text/plain": [
       "<IPython.core.display.HTML object>"
      ]
     },
     "metadata": {},
     "output_type": "display_data"
    },
    {
     "data": {
      "text/html": [
       "\n",
       "    <div style='color: blue; font-weight: bold;'>Original: Uh, I think I'm good.</div>\n",
       "    <div style='color: green; font-weight: bold;'>Translated: Uh, acho que estou bem.</div>\n",
       "    "
      ],
      "text/plain": [
       "<IPython.core.display.HTML object>"
      ]
     },
     "metadata": {},
     "output_type": "display_data"
    },
    {
     "data": {
      "text/html": [
       "\n",
       "    <div style='color: blue; font-weight: bold;'>Original: Good to know.</div>\n",
       "    <div style='color: green; font-weight: bold;'>Translated: Bom saber.</div>\n",
       "    "
      ],
      "text/plain": [
       "<IPython.core.display.HTML object>"
      ]
     },
     "metadata": {},
     "output_type": "display_data"
    },
    {
     "data": {
      "text/html": [
       "\n",
       "    <div style='color: blue; font-weight: bold;'>Original: So, what do you do, Perry?</div>\n",
       "    <div style='color: green; font-weight: bold;'>Translated: Então, o que fazes, Perry?</div>\n",
       "    "
      ],
      "text/plain": [
       "<IPython.core.display.HTML object>"
      ]
     },
     "metadata": {},
     "output_type": "display_data"
    },
    {
     "data": {
      "text/html": [
       "\n",
       "    <div style='color: blue; font-weight: bold;'>Original: I own Prescott Motors.</div>\n",
       "    <div style='color: green; font-weight: bold;'>Translated: Eu sou o proprietário da Prescott Motors.</div>\n",
       "    "
      ],
      "text/plain": [
       "<IPython.core.display.HTML object>"
      ]
     },
     "metadata": {},
     "output_type": "display_data"
    },
    {
     "data": {
      "text/html": [
       "\n",
       "    <div style='color: blue; font-weight: bold;'>Original: The largest auto dealer\n",
       "in the state.</div>\n",
       "    <div style='color: green; font-weight: bold;'>Translated: O maior concessionário de automóveis\n",
       "do estado.</div>\n",
       "    "
      ],
      "text/plain": [
       "<IPython.core.display.HTML object>"
      ]
     },
     "metadata": {},
     "output_type": "display_data"
    },
    {
     "data": {
      "text/html": [
       "\n",
       "    <div style='color: blue; font-weight: bold;'>Original: Wow, that's impressive.</div>\n",
       "    <div style='color: green; font-weight: bold;'>Translated: Uau, isso é impressionante.</div>\n",
       "    "
      ],
      "text/plain": [
       "<IPython.core.display.HTML object>"
      ]
     },
     "metadata": {},
     "output_type": "display_data"
    },
    {
     "data": {
      "text/html": [
       "\n",
       "    <div style='color: blue; font-weight: bold;'>Original: This is my daughter Margo.</div>\n",
       "    <div style='color: green; font-weight: bold;'>Translated: Esta é a minha filha Margo.</div>\n",
       "    "
      ],
      "text/plain": [
       "<IPython.core.display.HTML object>"
      ]
     },
     "metadata": {},
     "output_type": "display_data"
    },
    {
     "data": {
      "text/html": [
       "\n",
       "    <div style='color: blue; font-weight: bold;'>Original: Bree, Dad.</div>\n",
       "    <div style='color: green; font-weight: bold;'>Translated: Bree, Pai.</div>\n",
       "    "
      ],
      "text/plain": [
       "<IPython.core.display.HTML object>"
      ]
     },
     "metadata": {},
     "output_type": "display_data"
    },
    {
     "data": {
      "text/html": [
       "\n",
       "    <div style='color: blue; font-weight: bold;'>Original: Ah, yes. Yes. Did I say \"Margo\"?</div>\n",
       "    <div style='color: green; font-weight: bold;'>Translated: Ah, sim. Sim. Eu disse \"Margo\"?</div>\n",
       "    "
      ],
      "text/plain": [
       "<IPython.core.display.HTML object>"
      ]
     },
     "metadata": {},
     "output_type": "display_data"
    },
    {
     "data": {
      "text/html": [
       "\n",
       "    <div style='color: blue; font-weight: bold;'>Original: It's funny,\n",
       "because I was thinking--</div>\n",
       "    <div style='color: green; font-weight: bold;'>Translated: É engraçado,\n",
       "porque eu estava a pensar--</div>\n",
       "    "
      ],
      "text/plain": [
       "<IPython.core.display.HTML object>"
      ]
     },
     "metadata": {},
     "output_type": "display_data"
    },
    {
     "data": {
      "text/html": [
       "\n",
       "    <div style='color: blue; font-weight: bold;'>Original: I was thinking about a fish\n",
       "I once had as a pet,\n",
       "named Margo.</div>\n",
       "    <div style='color: green; font-weight: bold;'>Translated: Estava a pensar num peixe\n",
       "que uma vez tive como animal de estimação,</div>\n",
       "    "
      ],
      "text/plain": [
       "<IPython.core.display.HTML object>"
      ]
     },
     "metadata": {},
     "output_type": "display_data"
    },
    {
     "data": {
      "text/html": [
       "\n",
       "    <div style='color: blue; font-weight: bold;'>Original: Who lived in the pond\n",
       "and then died.</div>\n",
       "    <div style='color: green; font-weight: bold;'>Translated: Quem vivia no lago\n",
       "e depois morreu.</div>\n",
       "    "
      ],
      "text/plain": [
       "<IPython.core.display.HTML object>"
      ]
     },
     "metadata": {},
     "output_type": "display_data"
    },
    {
     "data": {
      "text/html": [
       "\n",
       "    <div style='color: blue; font-weight: bold;'>Original: Uh.</div>\n",
       "    <div style='color: green; font-weight: bold;'>Translated: Uh.</div>\n",
       "    "
      ],
      "text/plain": [
       "<IPython.core.display.HTML object>"
      ]
     },
     "metadata": {},
     "output_type": "display_data"
    },
    {
     "data": {
      "text/html": [
       "\n",
       "    <div style='color: blue; font-weight: bold;'>Original: Anyway, I, uh--</div>\n",
       "    <div style='color: green; font-weight: bold;'>Translated: De qualquer forma, eu, uh--</div>\n",
       "    "
      ],
      "text/plain": [
       "<IPython.core.display.HTML object>"
      ]
     },
     "metadata": {},
     "output_type": "display_data"
    },
    {
     "data": {
      "text/html": [
       "\n",
       "    <div style='color: blue; font-weight: bold;'>Original: I'm about to take Bree\n",
       "to school for her first day.</div>\n",
       "    <div style='color: green; font-weight: bold;'>Translated: Estou prestes a levar a Bree à escola para o seu primeiro dia.</div>\n",
       "    "
      ],
      "text/plain": [
       "<IPython.core.display.HTML object>"
      ]
     },
     "metadata": {},
     "output_type": "display_data"
    },
    {
     "data": {
      "text/html": [
       "\n",
       "    <div style='color: blue; font-weight: bold;'>Original: Yeah, I was about to take Poppy\n",
       "to school, so...</div>\n",
       "    <div style='color: green; font-weight: bold;'>Translated: Sim, eu estava prestes a levar a Poppy à escola, então...</div>\n",
       "    "
      ],
      "text/plain": [
       "<IPython.core.display.HTML object>"
      ]
     },
     "metadata": {},
     "output_type": "display_data"
    },
    {
     "data": {
      "text/html": [
       "\n",
       "    <div style='color: blue; font-weight: bold;'>Original: Poppy. Hello, Poppy.</div>\n",
       "    <div style='color: green; font-weight: bold;'>Translated: Papoila. Olá, Papoila.</div>\n",
       "    "
      ],
      "text/plain": [
       "<IPython.core.display.HTML object>"
      ]
     },
     "metadata": {},
     "output_type": "display_data"
    },
    {
     "data": {
      "text/html": [
       "\n",
       "    <div style='color: blue; font-weight: bold;'>Original: That's a fun name to say.</div>\n",
       "    <div style='color: green; font-weight: bold;'>Translated: Esse é um nome divertido de se dizer.</div>\n",
       "    "
      ],
      "text/plain": [
       "<IPython.core.display.HTML object>"
      ]
     },
     "metadata": {},
     "output_type": "display_data"
    },
    {
     "data": {
      "text/html": [
       "\n",
       "    <div style='color: blue; font-weight: bold;'>Original: You want to carpool with us?</div>\n",
       "    <div style='color: green; font-weight: bold;'>Translated: Queres partilhar a viagem de carro connosco?</div>\n",
       "    "
      ],
      "text/plain": [
       "<IPython.core.display.HTML object>"
      ]
     },
     "metadata": {},
     "output_type": "display_data"
    },
    {
     "data": {
      "text/html": [
       "\n",
       "    <div style='color: blue; font-weight: bold;'>Original: No.</div>\n",
       "    <div style='color: green; font-weight: bold;'>Translated: Não.</div>\n",
       "    "
      ],
      "text/plain": [
       "<IPython.core.display.HTML object>"
      ]
     },
     "metadata": {},
     "output_type": "display_data"
    },
    {
     "data": {
      "text/html": [
       "\n",
       "    <div style='color: blue; font-weight: bold;'>Original: You could be friends\n",
       "with Bree.</div>\n",
       "    <div style='color: green; font-weight: bold;'>Translated: Poderias ser amigo(a) da Bree.</div>\n",
       "    "
      ],
      "text/plain": [
       "<IPython.core.display.HTML object>"
      ]
     },
     "metadata": {},
     "output_type": "display_data"
    },
    {
     "data": {
      "text/html": [
       "\n",
       "    <div style='color: blue; font-weight: bold;'>Original: Right, Bree?</div>\n",
       "    <div style='color: green; font-weight: bold;'>Translated: Certo, Bree?</div>\n",
       "    "
      ],
      "text/plain": [
       "<IPython.core.display.HTML object>"
      ]
     },
     "metadata": {},
     "output_type": "display_data"
    },
    {
     "data": {
      "text/html": [
       "\n",
       "    <div style='color: blue; font-weight: bold;'>Original: You don't have any friends.</div>\n",
       "    <div style='color: green; font-weight: bold;'>Translated: Não tens amigos.</div>\n",
       "    "
      ],
      "text/plain": [
       "<IPython.core.display.HTML object>"
      ]
     },
     "metadata": {},
     "output_type": "display_data"
    },
    {
     "data": {
      "text/html": [
       "\n",
       "    <div style='color: blue; font-weight: bold;'>Original: Well, love to chitchat, Chet,\n",
       "but she's got school,</div>\n",
       "    <div style='color: green; font-weight: bold;'>Translated: Bem, adorava ficar à conversa, Chet,\n",
       "mas ela tem aulas,</div>\n",
       "    "
      ],
      "text/plain": [
       "<IPython.core.display.HTML object>"
      ]
     },
     "metadata": {},
     "output_type": "display_data"
    },
    {
     "data": {
      "text/html": [
       "\n",
       "    <div style='color: blue; font-weight: bold;'>Original: and I'm meeting some pals\n",
       "over at the country club, so...</div>\n",
       "    <div style='color: green; font-weight: bold;'>Translated: e vou encontrar-me com uns amigos\n",
       "no clube de campo, então...</div>\n",
       "    "
      ],
      "text/plain": [
       "<IPython.core.display.HTML object>"
      ]
     },
     "metadata": {},
     "output_type": "display_data"
    },
    {
     "data": {
      "text/html": [
       "\n",
       "    <div style='color: blue; font-weight: bold;'>Original: Ooh, country club.\n",
       "That sounds like a lot of fun.</div>\n",
       "    <div style='color: green; font-weight: bold;'>Translated: Ah, clube de campo.\n",
       "Isso parece muito divertido.</div>\n",
       "    "
      ],
      "text/plain": [
       "<IPython.core.display.HTML object>"
      ]
     },
     "metadata": {},
     "output_type": "display_data"
    },
    {
     "data": {
      "text/html": [
       "\n",
       "    <div style='color: blue; font-weight: bold;'>Original: If I were ever invited\n",
       "to a country club,\n",
       "I am sure that I would love it.</div>\n",
       "    <div style='color: green; font-weight: bold;'>Translated: Se alguma vez fosse convidado\n",
       "para um clube de campo,</div>\n",
       "    "
      ],
      "text/plain": [
       "<IPython.core.display.HTML object>"
      ]
     },
     "metadata": {},
     "output_type": "display_data"
    },
    {
     "data": {
      "text/html": [
       "\n",
       "    <div style='color: blue; font-weight: bold;'>Original: Yeah, well,\n",
       "we really have to get going,\n",
       "so nice meeting you, Chet.</div>\n",
       "    <div style='color: green; font-weight: bold;'>Translated: Sim, bem,\n",
       "temos mesmo de ir andando,</div>\n",
       "    "
      ],
      "text/plain": [
       "<IPython.core.display.HTML object>"
      ]
     },
     "metadata": {},
     "output_type": "display_data"
    },
    {
     "data": {
      "text/html": [
       "\n",
       "    <div style='color: blue; font-weight: bold;'>Original: Okay, cool.\n",
       "Any time you want to hang out,\n",
       "just hit me up with a text.</div>\n",
       "    <div style='color: green; font-weight: bold;'>Translated: Claro, fixe.\n",
       "Sempre que quiseres sair,</div>\n",
       "    "
      ],
      "text/plain": [
       "<IPython.core.display.HTML object>"
      ]
     },
     "metadata": {},
     "output_type": "display_data"
    },
    {
     "data": {
      "text/html": [
       "\n",
       "    <div style='color: blue; font-weight: bold;'>Original: He's gonna text me.</div>\n",
       "    <div style='color: green; font-weight: bold;'>Translated: Ele vai mandar-me uma mensagem.</div>\n",
       "    "
      ],
      "text/plain": [
       "<IPython.core.display.HTML object>"
      ]
     },
     "metadata": {},
     "output_type": "display_data"
    },
    {
     "data": {
      "text/html": [
       "\n",
       "    <div style='color: blue; font-weight: bold;'>Original: That was painful.</div>\n",
       "    <div style='color: green; font-weight: bold;'>Translated: Isso foi doloroso.</div>\n",
       "    "
      ],
      "text/plain": [
       "<IPython.core.display.HTML object>"
      ]
     },
     "metadata": {},
     "output_type": "display_data"
    },
    {
     "data": {
      "text/html": [
       "\n",
       "    <div style='color: blue; font-weight: bold;'>Original: You'll see. By lunchtime,</div>\n",
       "    <div style='color: green; font-weight: bold;'>Translated: Vais ver. Até à hora de almoço,</div>\n",
       "    "
      ],
      "text/plain": [
       "<IPython.core.display.HTML object>"
      ]
     },
     "metadata": {},
     "output_type": "display_data"
    },
    {
     "data": {
      "text/html": [
       "\n",
       "    <div style='color: blue; font-weight: bold;'>Original: you will have forgotten\n",
       "all about\n",
       "your old, lousy friends.</div>\n",
       "    <div style='color: green; font-weight: bold;'>Translated: terás esquecido\n",
       "todos os</div>\n",
       "    "
      ],
      "text/plain": [
       "<IPython.core.display.HTML object>"
      ]
     },
     "metadata": {},
     "output_type": "display_data"
    },
    {
     "data": {
      "text/html": [
       "\n",
       "    <div style='color: blue; font-weight: bold;'>Original: Mmm, not so sure about that.</div>\n",
       "    <div style='color: green; font-weight: bold;'>Translated: Hmm, não tenho tanta certeza disso.</div>\n",
       "    "
      ],
      "text/plain": [
       "<IPython.core.display.HTML object>"
      ]
     },
     "metadata": {},
     "output_type": "display_data"
    },
    {
     "data": {
      "text/html": [
       "\n",
       "    <div style='color: blue; font-weight: bold;'>Original: Right? Oh, my gosh.</div>\n",
       "    <div style='color: green; font-weight: bold;'>Translated: Certo? Oh, meu Deus.</div>\n",
       "    "
      ],
      "text/plain": [
       "<IPython.core.display.HTML object>"
      ]
     },
     "metadata": {},
     "output_type": "display_data"
    },
    {
     "data": {
      "text/html": [
       "\n",
       "    <div style='color: blue; font-weight: bold;'>Original: Not my problem, bro.</div>\n",
       "    <div style='color: green; font-weight: bold;'>Translated: Não é problema meu, mano.</div>\n",
       "    "
      ],
      "text/plain": [
       "<IPython.core.display.HTML object>"
      ]
     },
     "metadata": {},
     "output_type": "display_data"
    },
    {
     "data": {
      "text/html": [
       "\n",
       "    <div style='color: blue; font-weight: bold;'>Original: Hey, honey,\n",
       "you got this.</div>\n",
       "    <div style='color: green; font-weight: bold;'>Translated: Olá, querida,\n",
       "tu consegues.</div>\n",
       "    "
      ],
      "text/plain": [
       "<IPython.core.display.HTML object>"
      ]
     },
     "metadata": {},
     "output_type": "display_data"
    },
    {
     "data": {
      "text/html": [
       "\n",
       "    <div style='color: blue; font-weight: bold;'>Original: You're smart.</div>\n",
       "    <div style='color: green; font-weight: bold;'>Translated: És inteligente.</div>\n",
       "    "
      ],
      "text/plain": [
       "<IPython.core.display.HTML object>"
      ]
     },
     "metadata": {},
     "output_type": "display_data"
    },
    {
     "data": {
      "text/html": [
       "\n",
       "    <div style='color: blue; font-weight: bold;'>Original: You're funny.</div>\n",
       "    <div style='color: green; font-weight: bold;'>Translated: És engraçado.</div>\n",
       "    "
      ],
      "text/plain": [
       "<IPython.core.display.HTML object>"
      ]
     },
     "metadata": {},
     "output_type": "display_data"
    },
    {
     "data": {
      "text/html": [
       "\n",
       "    <div style='color: blue; font-weight: bold;'>Original: What's there\n",
       "to worry about, right?</div>\n",
       "    <div style='color: green; font-weight: bold;'>Translated: Não há com que se preocupar, certo?</div>\n",
       "    "
      ],
      "text/plain": [
       "<IPython.core.display.HTML object>"
      ]
     },
     "metadata": {},
     "output_type": "display_data"
    },
    {
     "data": {
      "text/html": [
       "\n",
       "    <div style='color: blue; font-weight: bold;'>Original: They're gonna love you.</div>\n",
       "    <div style='color: green; font-weight: bold;'>Translated: Eles vão adorar-te.</div>\n",
       "    "
      ],
      "text/plain": [
       "<IPython.core.display.HTML object>"
      ]
     },
     "metadata": {},
     "output_type": "display_data"
    },
    {
     "data": {
      "text/html": [
       "\n",
       "    <div style='color: blue; font-weight: bold;'>Original: Thanks, Gru.</div>\n",
       "    <div style='color: green; font-weight: bold;'>Translated: Obrigado, Gru.</div>\n",
       "    "
      ],
      "text/plain": [
       "<IPython.core.display.HTML object>"
      ]
     },
     "metadata": {},
     "output_type": "display_data"
    },
    {
     "data": {
      "text/html": [
       "\n",
       "    <div style='color: blue; font-weight: bold;'>Original: Bye-bye.</div>\n",
       "    <div style='color: green; font-weight: bold;'>Translated: Adeus.</div>\n",
       "    "
      ],
      "text/plain": [
       "<IPython.core.display.HTML object>"
      ]
     },
     "metadata": {},
     "output_type": "display_data"
    },
    {
     "data": {
      "text/html": [
       "\n",
       "    <div style='color: blue; font-weight: bold;'>Original: Oh, please let them love you.</div>\n",
       "    <div style='color: green; font-weight: bold;'>Translated: Oh, por favor, deixa que te amem.</div>\n",
       "    "
      ],
      "text/plain": [
       "<IPython.core.display.HTML object>"
      ]
     },
     "metadata": {},
     "output_type": "display_data"
    },
    {
     "data": {
      "text/html": [
       "\n",
       "    <div style='color: blue; font-weight: bold;'>Original: Ooh!</div>\n",
       "    <div style='color: green; font-weight: bold;'>Translated: Ah!</div>\n",
       "    "
      ],
      "text/plain": [
       "<IPython.core.display.HTML object>"
      ]
     },
     "metadata": {},
     "output_type": "display_data"
    },
    {
     "data": {
      "text/html": [
       "\n",
       "    <div style='color: blue; font-weight: bold;'>Original: Hey, Poppy.</div>\n",
       "    <div style='color: green; font-weight: bold;'>Translated: Olá, Poppy.</div>\n",
       "    "
      ],
      "text/plain": [
       "<IPython.core.display.HTML object>"
      ]
     },
     "metadata": {},
     "output_type": "display_data"
    },
    {
     "data": {
      "text/html": [
       "\n",
       "    <div style='color: blue; font-weight: bold;'>Original: Eh...</div>\n",
       "    <div style='color: green; font-weight: bold;'>Translated: Eh...</div>\n",
       "    "
      ],
      "text/plain": [
       "<IPython.core.display.HTML object>"
      ]
     },
     "metadata": {},
     "output_type": "display_data"
    },
    {
     "data": {
      "text/html": [
       "\n",
       "    <div style='color: blue; font-weight: bold;'>Original: Come on. Hey. Move it!</div>\n",
       "    <div style='color: green; font-weight: bold;'>Translated: Anda lá. Ei. Mexe-te!</div>\n",
       "    "
      ],
      "text/plain": [
       "<IPython.core.display.HTML object>"
      ]
     },
     "metadata": {},
     "output_type": "display_data"
    },
    {
     "data": {
      "text/html": [
       "\n",
       "    <div style='color: blue; font-weight: bold;'>Original: Sorry. My bad.\n",
       "I'm going. All right.</div>\n",
       "    <div style='color: green; font-weight: bold;'>Translated: Desculpa. Foi erro meu.\n",
       "Vou-me embora. Está bem.</div>\n",
       "    "
      ],
      "text/plain": [
       "<IPython.core.display.HTML object>"
      ]
     },
     "metadata": {},
     "output_type": "display_data"
    },
    {
     "data": {
      "text/html": [
       "\n",
       "    <div style='color: blue; font-weight: bold;'>Original: I'm going.</div>\n",
       "    <div style='color: green; font-weight: bold;'>Translated: Eu vou.</div>\n",
       "    "
      ],
      "text/plain": [
       "<IPython.core.display.HTML object>"
      ]
     },
     "metadata": {},
     "output_type": "display_data"
    },
    {
     "data": {
      "text/html": [
       "\n",
       "    <div style='color: blue; font-weight: bold;'>Original: Ooh, glassos.</div>\n",
       "    <div style='color: green; font-weight: bold;'>Translated: Ah, copos de vidro.</div>\n",
       "    "
      ],
      "text/plain": [
       "<IPython.core.display.HTML object>"
      ]
     },
     "metadata": {},
     "output_type": "display_data"
    },
    {
     "data": {
      "text/html": [
       "\n",
       "    <div style='color: blue; font-weight: bold;'>Original: No, no, no. Sit. Sit.</div>\n",
       "    <div style='color: green; font-weight: bold;'>Translated: Não, não, não. Senta-te. Senta-te.</div>\n",
       "    "
      ],
      "text/plain": [
       "<IPython.core.display.HTML object>"
      ]
     },
     "metadata": {},
     "output_type": "display_data"
    },
    {
     "data": {
      "text/html": [
       "\n",
       "    <div style='color: blue; font-weight: bold;'>Original: No.</div>\n",
       "    <div style='color: green; font-weight: bold;'>Translated: Não.</div>\n",
       "    "
      ],
      "text/plain": [
       "<IPython.core.display.HTML object>"
      ]
     },
     "metadata": {},
     "output_type": "display_data"
    },
    {
     "data": {
      "text/html": [
       "\n",
       "    <div style='color: blue; font-weight: bold;'>Original: All right, gentlemen.</div>\n",
       "    <div style='color: green; font-weight: bold;'>Translated: Muito bem, senhores.</div>\n",
       "    "
      ],
      "text/plain": [
       "<IPython.core.display.HTML object>"
      ]
     },
     "metadata": {},
     "output_type": "display_data"
    },
    {
     "data": {
      "text/html": [
       "\n",
       "    <div style='color: blue; font-weight: bold;'>Original: Fall in.</div>\n",
       "    <div style='color: green; font-weight: bold;'>Translated: Alinhar.</div>\n",
       "    "
      ],
      "text/plain": [
       "<IPython.core.display.HTML object>"
      ]
     },
     "metadata": {},
     "output_type": "display_data"
    },
    {
     "data": {
      "text/html": [
       "\n",
       "    <div style='color: blue; font-weight: bold;'>Original: Some of you may be wondering\n",
       "why you're here.</div>\n",
       "    <div style='color: green; font-weight: bold;'>Translated: Alguns de vocês podem estar a perguntar-se\n",
       "porque estão aqui.</div>\n",
       "    "
      ],
      "text/plain": [
       "<IPython.core.display.HTML object>"
      ]
     },
     "metadata": {},
     "output_type": "display_data"
    },
    {
     "data": {
      "text/html": [
       "\n",
       "    <div style='color: blue; font-weight: bold;'>Original: Uh, <i>sí.</i></div>\n",
       "    <div style='color: green; font-weight: bold;'>Translated: Uh, <i>sim.</i></div>\n",
       "    "
      ],
      "text/plain": [
       "<IPython.core.display.HTML object>"
      ]
     },
     "metadata": {},
     "output_type": "display_data"
    },
    {
     "data": {
      "text/html": [
       "\n",
       "    <div style='color: blue; font-weight: bold;'>Original: As you may or may not know,</div>\n",
       "    <div style='color: green; font-weight: bold;'>Translated: Como pode ou não saber,</div>\n",
       "    "
      ],
      "text/plain": [
       "<IPython.core.display.HTML object>"
      ]
     },
     "metadata": {},
     "output_type": "display_data"
    },
    {
     "data": {
      "text/html": [
       "\n",
       "    <div style='color: blue; font-weight: bold;'>Original: I was recently\n",
       "called out of retirement</div>\n",
       "    <div style='color: green; font-weight: bold;'>Translated: Fui recentemente chamado de volta à atividade após a reforma.</div>\n",
       "    "
      ],
      "text/plain": [
       "<IPython.core.display.HTML object>"
      ]
     },
     "metadata": {},
     "output_type": "display_data"
    },
    {
     "data": {
      "text/html": [
       "\n",
       "    <div style='color: blue; font-weight: bold;'>Original: to head up the AVL's\n",
       "new top-secret initiative</div>\n",
       "    <div style='color: green; font-weight: bold;'>Translated: para liderar a nova iniciativa ultrassecreta da AVL</div>\n",
       "    "
      ],
      "text/plain": [
       "<IPython.core.display.HTML object>"
      ]
     },
     "metadata": {},
     "output_type": "display_data"
    },
    {
     "data": {
      "text/html": [
       "\n",
       "    <div style='color: blue; font-weight: bold;'>Original: to take down Maxime Le Mal.</div>\n",
       "    <div style='color: green; font-weight: bold;'>Translated: para derrubar Maxime Le Mal.</div>\n",
       "    "
      ],
      "text/plain": [
       "<IPython.core.display.HTML object>"
      ]
     },
     "metadata": {},
     "output_type": "display_data"
    },
    {
     "data": {
      "text/html": [
       "\n",
       "    <div style='color: blue; font-weight: bold;'>Original: And that's where you come in.</div>\n",
       "    <div style='color: green; font-weight: bold;'>Translated: E é aí que entras tu.</div>\n",
       "    "
      ],
      "text/plain": [
       "<IPython.core.display.HTML object>"
      ]
     },
     "metadata": {},
     "output_type": "display_data"
    },
    {
     "data": {
      "text/html": [
       "\n",
       "    <div style='color: blue; font-weight: bold;'>Original: We need volunteers.</div>\n",
       "    <div style='color: green; font-weight: bold;'>Translated: Precisamos de voluntários.</div>\n",
       "    "
      ],
      "text/plain": [
       "<IPython.core.display.HTML object>"
      ]
     },
     "metadata": {},
     "output_type": "display_data"
    },
    {
     "data": {
      "text/html": [
       "\n",
       "    <div style='color: blue; font-weight: bold;'>Original: Me! Me! Me!</div>\n",
       "    <div style='color: green; font-weight: bold;'>Translated: Eu! Eu! Eu!</div>\n",
       "    "
      ],
      "text/plain": [
       "<IPython.core.display.HTML object>"
      ]
     },
     "metadata": {},
     "output_type": "display_data"
    },
    {
     "data": {
      "text/html": [
       "\n",
       "    <div style='color: blue; font-weight: bold;'>Original: We are looking for\n",
       "the strong, the mighty...</div>\n",
       "    <div style='color: green; font-weight: bold;'>Translated: Estamos à procura\n",
       "dos fortes, dos poderosos...</div>\n",
       "    "
      ],
      "text/plain": [
       "<IPython.core.display.HTML object>"
      ]
     },
     "metadata": {},
     "output_type": "display_data"
    },
    {
     "data": {
      "text/html": [
       "\n",
       "    <div style='color: blue; font-weight: bold;'>Original: Ooh.</div>\n",
       "    <div style='color: green; font-weight: bold;'>Translated: Ah.</div>\n",
       "    "
      ],
      "text/plain": [
       "<IPython.core.display.HTML object>"
      ]
     },
     "metadata": {},
     "output_type": "display_data"
    },
    {
     "data": {
      "text/html": [
       "\n",
       "    <div style='color: blue; font-weight: bold;'>Original: ...the fearless.\n",
       "Uh, nope.</div>\n",
       "    <div style='color: green; font-weight: bold;'>Translated: ...os destemidos.\n",
       "Uh, não.</div>\n",
       "    "
      ],
      "text/plain": [
       "<IPython.core.display.HTML object>"
      ]
     },
     "metadata": {},
     "output_type": "display_data"
    },
    {
     "data": {
      "text/html": [
       "\n",
       "    <div style='color: blue; font-weight: bold;'>Original: We need the best of the best.</div>\n",
       "    <div style='color: green; font-weight: bold;'>Translated: Precisamos dos melhores dos melhores.</div>\n",
       "    "
      ],
      "text/plain": [
       "<IPython.core.display.HTML object>"
      ]
     },
     "metadata": {},
     "output_type": "display_data"
    },
    {
     "data": {
      "text/html": [
       "\n",
       "    <div style='color: blue; font-weight: bold;'>Original: So, who's it going to be?</div>\n",
       "    <div style='color: green; font-weight: bold;'>Translated: Então, quem vai ser?</div>\n",
       "    "
      ],
      "text/plain": [
       "<IPython.core.display.HTML object>"
      ]
     },
     "metadata": {},
     "output_type": "display_data"
    },
    {
     "data": {
      "text/html": [
       "\n",
       "    <div style='color: blue; font-weight: bold;'>Original: Yes, nice work, gentlemen.</div>\n",
       "    <div style='color: green; font-weight: bold;'>Translated: Sim, bom trabalho, senhores.</div>\n",
       "    "
      ],
      "text/plain": [
       "<IPython.core.display.HTML object>"
      ]
     },
     "metadata": {},
     "output_type": "display_data"
    },
    {
     "data": {
      "text/html": [
       "\n",
       "    <div style='color: blue; font-weight: bold;'>Original: The AVL is known for\n",
       "cutting-edge weapons\n",
       "and vehicles,</div>\n",
       "    <div style='color: green; font-weight: bold;'>Translated: O AVL é conhecido por\n",
       "armas e veículos de última geração,</div>\n",
       "    "
      ],
      "text/plain": [
       "<IPython.core.display.HTML object>"
      ]
     },
     "metadata": {},
     "output_type": "display_data"
    },
    {
     "data": {
      "text/html": [
       "\n",
       "    <div style='color: blue; font-weight: bold;'>Original: but now we are developing\n",
       "cutting-edge agents.</div>\n",
       "    <div style='color: green; font-weight: bold;'>Translated: mas agora estamos a desenvolver\n",
       "agentes de ponta.</div>\n",
       "    "
      ],
      "text/plain": [
       "<IPython.core.display.HTML object>"
      ]
     },
     "metadata": {},
     "output_type": "display_data"
    },
    {
     "data": {
      "text/html": [
       "\n",
       "    <div style='color: blue; font-weight: bold;'>Original: And I can think of\n",
       "no better guinea pigs than you.</div>\n",
       "    <div style='color: green; font-weight: bold;'>Translated: E não consigo pensar em melhores cobaias do que vocês.</div>\n",
       "    "
      ],
      "text/plain": [
       "<IPython.core.display.HTML object>"
      ]
     },
     "metadata": {},
     "output_type": "display_data"
    },
    {
     "data": {
      "text/html": [
       "\n",
       "    <div style='color: blue; font-weight: bold;'>Original: Guinea pigs!</div>\n",
       "    <div style='color: green; font-weight: bold;'>Translated: Porquinhos-da-índia!</div>\n",
       "    "
      ],
      "text/plain": [
       "<IPython.core.display.HTML object>"
      ]
     },
     "metadata": {},
     "output_type": "display_data"
    },
    {
     "data": {
      "text/html": [
       "\n",
       "    <div style='color: blue; font-weight: bold;'>Original: You will be the first\n",
       "to test our super serum.</div>\n",
       "    <div style='color: green; font-weight: bold;'>Translated: Serás o primeiro\n",
       "a testar o nosso super soro.</div>\n",
       "    "
      ],
      "text/plain": [
       "<IPython.core.display.HTML object>"
      ]
     },
     "metadata": {},
     "output_type": "display_data"
    },
    {
     "data": {
      "text/html": [
       "\n",
       "    <div style='color: blue; font-weight: bold;'>Original: Designed to transform you\n",
       "into elite agents</div>\n",
       "    <div style='color: green; font-weight: bold;'>Translated: Concebido para vos transformar em agentes de elite</div>\n",
       "    "
      ],
      "text/plain": [
       "<IPython.core.display.HTML object>"
      ]
     },
     "metadata": {},
     "output_type": "display_data"
    },
    {
     "data": {
      "text/html": [
       "\n",
       "    <div style='color: blue; font-weight: bold;'>Original: with powers and abilities\n",
       "far beyond those of mortal men.</div>\n",
       "    <div style='color: green; font-weight: bold;'>Translated: com poderes e habilidades\n",
       "muito além dos de meros mortais.</div>\n",
       "    "
      ],
      "text/plain": [
       "<IPython.core.display.HTML object>"
      ]
     },
     "metadata": {},
     "output_type": "display_data"
    },
    {
     "data": {
      "text/html": [
       "\n",
       "    <div style='color: blue; font-weight: bold;'>Original: Or you might just explode.</div>\n",
       "    <div style='color: green; font-weight: bold;'>Translated: Ou então podes simplesmente explodir.</div>\n",
       "    "
      ],
      "text/plain": [
       "<IPython.core.display.HTML object>"
      ]
     },
     "metadata": {},
     "output_type": "display_data"
    },
    {
     "data": {
      "text/html": [
       "\n",
       "    <div style='color: blue; font-weight: bold;'>Original: We don't really know.</div>\n",
       "    <div style='color: green; font-weight: bold;'>Translated: Nós realmente não sabemos.</div>\n",
       "    "
      ],
      "text/plain": [
       "<IPython.core.display.HTML object>"
      ]
     },
     "metadata": {},
     "output_type": "display_data"
    },
    {
     "data": {
      "text/html": [
       "\n",
       "    <div style='color: blue; font-weight: bold;'>Original: Eh? Huh?</div>\n",
       "    <div style='color: green; font-weight: bold;'>Translated: Eh? Como?</div>\n",
       "    "
      ],
      "text/plain": [
       "<IPython.core.display.HTML object>"
      ]
     },
     "metadata": {},
     "output_type": "display_data"
    },
    {
     "data": {
      "text/html": [
       "\n",
       "    <div style='color: blue; font-weight: bold;'>Original: Oh, ah.</div>\n",
       "    <div style='color: green; font-weight: bold;'>Translated: Oh, ah.</div>\n",
       "    "
      ],
      "text/plain": [
       "<IPython.core.display.HTML object>"
      ]
     },
     "metadata": {},
     "output_type": "display_data"
    },
    {
     "data": {
      "text/html": [
       "\n",
       "    <div style='color: blue; font-weight: bold;'>Original: Hey.</div>\n",
       "    <div style='color: green; font-weight: bold;'>Translated: Olá.</div>\n",
       "    "
      ],
      "text/plain": [
       "<IPython.core.display.HTML object>"
      ]
     },
     "metadata": {},
     "output_type": "display_data"
    },
    {
     "data": {
      "text/html": [
       "\n",
       "    <div style='color: blue; font-weight: bold;'>Original: Ladies and gentlemen,\n",
       "I give you the Mega Minions.</div>\n",
       "    <div style='color: green; font-weight: bold;'>Translated: Minhas senhoras e meus senhores,\n",
       "Apresento-vos os Mega Mínimos.</div>\n",
       "    "
      ],
      "text/plain": [
       "<IPython.core.display.HTML object>"
      ]
     },
     "metadata": {},
     "output_type": "display_data"
    },
    {
     "data": {
      "text/html": [
       "\n",
       "    <div style='color: blue; font-weight: bold;'>Original: Cool.</div>\n",
       "    <div style='color: green; font-weight: bold;'>Translated: Fixe.</div>\n",
       "    "
      ],
      "text/plain": [
       "<IPython.core.display.HTML object>"
      ]
     },
     "metadata": {},
     "output_type": "display_data"
    },
    {
     "data": {
      "text/html": [
       "\n",
       "    <div style='color: blue; font-weight: bold;'>Original: Aw, you guys look adorable.</div>\n",
       "    <div style='color: green; font-weight: bold;'>Translated: Ah, vocês estão adoráveis.</div>\n",
       "    "
      ],
      "text/plain": [
       "<IPython.core.display.HTML object>"
      ]
     },
     "metadata": {},
     "output_type": "display_data"
    },
    {
     "data": {
      "text/html": [
       "\n",
       "    <div style='color: blue; font-weight: bold;'>Original: And-- And really tough\n",
       "and scary.</div>\n",
       "    <div style='color: green; font-weight: bold;'>Translated: E-- E realmente difícil e assustador.</div>\n",
       "    "
      ],
      "text/plain": [
       "<IPython.core.display.HTML object>"
      ]
     },
     "metadata": {},
     "output_type": "display_data"
    },
    {
     "data": {
      "text/html": [
       "\n",
       "    <div style='color: blue; font-weight: bold;'>Original: I'll look even better\n",
       "when I have a black belt.\n",
       "Hi-yah!</div>\n",
       "    <div style='color: green; font-weight: bold;'>Translated: Vou ficar ainda melhor\n",
       "quando tiver um cinto preto.</div>\n",
       "    "
      ],
      "text/plain": [
       "<IPython.core.display.HTML object>"
      ]
     },
     "metadata": {},
     "output_type": "display_data"
    },
    {
     "data": {
      "text/html": [
       "\n",
       "    <div style='color: blue; font-weight: bold;'>Original: Ooh, ooh!\n",
       "I'm gonna break a brick\n",
       "with my head.</div>\n",
       "    <div style='color: green; font-weight: bold;'>Translated: Ui, ui!\n",
       "Vou partir um tijolo</div>\n",
       "    "
      ],
      "text/plain": [
       "<IPython.core.display.HTML object>"
      ]
     },
     "metadata": {},
     "output_type": "display_data"
    },
    {
     "data": {
      "text/html": [
       "\n",
       "    <div style='color: blue; font-weight: bold;'>Original: That's the spirit. Oh!</div>\n",
       "    <div style='color: green; font-weight: bold;'>Translated: É esse o espírito. Oh!</div>\n",
       "    "
      ],
      "text/plain": [
       "<IPython.core.display.HTML object>"
      ]
     },
     "metadata": {},
     "output_type": "display_data"
    },
    {
     "data": {
      "text/html": [
       "\n",
       "    <div style='color: blue; font-weight: bold;'>Original: Oh, okay. Now, go have fun\n",
       "while I'm at work.</div>\n",
       "    <div style='color: green; font-weight: bold;'>Translated: Ah, está bem. Agora, diverte-te enquanto eu estou a trabalhar.</div>\n",
       "    "
      ],
      "text/plain": [
       "<IPython.core.display.HTML object>"
      ]
     },
     "metadata": {},
     "output_type": "display_data"
    },
    {
     "data": {
      "text/html": [
       "\n",
       "    <div style='color: blue; font-weight: bold;'>Original: Blair and Britney.\n",
       "Right?\n",
       "Mmm.</div>\n",
       "    <div style='color: green; font-weight: bold;'>Translated: Blair e Britney.\n",
       "Certo?</div>\n",
       "    "
      ],
      "text/plain": [
       "<IPython.core.display.HTML object>"
      ]
     },
     "metadata": {},
     "output_type": "display_data"
    },
    {
     "data": {
      "text/html": [
       "\n",
       "    <div style='color: blue; font-weight: bold;'>Original: We will.</div>\n",
       "    <div style='color: green; font-weight: bold;'>Translated: Nós vamos.</div>\n",
       "    "
      ],
      "text/plain": [
       "<IPython.core.display.HTML object>"
      ]
     },
     "metadata": {},
     "output_type": "display_data"
    },
    {
     "data": {
      "text/html": [
       "\n",
       "    <div style='color: blue; font-weight: bold;'>Original: Okay. Bye, Mom.</div>\n",
       "    <div style='color: green; font-weight: bold;'>Translated: Ok. Adeus, mãe.</div>\n",
       "    "
      ],
      "text/plain": [
       "<IPython.core.display.HTML object>"
      ]
     },
     "metadata": {},
     "output_type": "display_data"
    },
    {
     "data": {
      "text/html": [
       "\n",
       "    <div style='color: blue; font-weight: bold;'>Original: Bye.</div>\n",
       "    <div style='color: green; font-weight: bold;'>Translated: Adeus.</div>\n",
       "    "
      ],
      "text/plain": [
       "<IPython.core.display.HTML object>"
      ]
     },
     "metadata": {},
     "output_type": "display_data"
    },
    {
     "data": {
      "text/html": [
       "\n",
       "    <div style='color: blue; font-weight: bold;'>Original: Got ya.</div>\n",
       "    <div style='color: green; font-weight: bold;'>Translated: Entendi.</div>\n",
       "    "
      ],
      "text/plain": [
       "<IPython.core.display.HTML object>"
      ]
     },
     "metadata": {},
     "output_type": "display_data"
    },
    {
     "data": {
      "text/html": [
       "\n",
       "    <div style='color: blue; font-weight: bold;'>Original: Hi-yah!</div>\n",
       "    <div style='color: green; font-weight: bold;'>Translated: Olá!</div>\n",
       "    "
      ],
      "text/plain": [
       "<IPython.core.display.HTML object>"
      ]
     },
     "metadata": {},
     "output_type": "display_data"
    },
    {
     "data": {
      "text/html": [
       "\n",
       "    <div style='color: blue; font-weight: bold;'>Original: Circle up, people.</div>\n",
       "    <div style='color: green; font-weight: bold;'>Translated: Agrupem-se, pessoal.</div>\n",
       "    "
      ],
      "text/plain": [
       "<IPython.core.display.HTML object>"
      ]
     },
     "metadata": {},
     "output_type": "display_data"
    },
    {
     "data": {
      "text/html": [
       "\n",
       "    <div style='color: blue; font-weight: bold;'>Original: Show respect for your sensei.</div>\n",
       "    <div style='color: green; font-weight: bold;'>Translated: Mostra respeito pelo teu sensei.</div>\n",
       "    "
      ],
      "text/plain": [
       "<IPython.core.display.HTML object>"
      ]
     },
     "metadata": {},
     "output_type": "display_data"
    },
    {
     "data": {
      "text/html": [
       "\n",
       "    <div style='color: blue; font-weight: bold;'>Original: Yes, Sensei O'Sullivan.</div>\n",
       "    <div style='color: green; font-weight: bold;'>Translated: Sim, Sensei O'Sullivan.</div>\n",
       "    "
      ],
      "text/plain": [
       "<IPython.core.display.HTML object>"
      ]
     },
     "metadata": {},
     "output_type": "display_data"
    },
    {
     "data": {
      "text/html": [
       "\n",
       "    <div style='color: blue; font-weight: bold;'>Original: Hai!</div>\n",
       "    <div style='color: green; font-weight: bold;'>Translated: Olá!</div>\n",
       "    "
      ],
      "text/plain": [
       "<IPython.core.display.HTML object>"
      ]
     },
     "metadata": {},
     "output_type": "display_data"
    },
    {
     "data": {
      "text/html": [
       "\n",
       "    <div style='color: blue; font-weight: bold;'>Original: You, Moscovitch,\n",
       "didn't I tell you\n",
       "to cut that hair?</div>\n",
       "    <div style='color: green; font-weight: bold;'>Translated: Tu, Moscovitch,\n",
       "não te disse</div>\n",
       "    "
      ],
      "text/plain": [
       "<IPython.core.display.HTML object>"
      ]
     },
     "metadata": {},
     "output_type": "display_data"
    },
    {
     "data": {
      "text/html": [
       "\n",
       "    <div style='color: blue; font-weight: bold;'>Original: You look like a sheepdog.</div>\n",
       "    <div style='color: green; font-weight: bold;'>Translated: Pareces um cão pastor.</div>\n",
       "    "
      ],
      "text/plain": [
       "<IPython.core.display.HTML object>"
      ]
     },
     "metadata": {},
     "output_type": "display_data"
    },
    {
     "data": {
      "text/html": [
       "\n",
       "    <div style='color: blue; font-weight: bold;'>Original: Sorry, Sensei.</div>\n",
       "    <div style='color: green; font-weight: bold;'>Translated: Desculpe, Sensei.</div>\n",
       "    "
      ],
      "text/plain": [
       "<IPython.core.display.HTML object>"
      ]
     },
     "metadata": {},
     "output_type": "display_data"
    },
    {
     "data": {
      "text/html": [
       "\n",
       "    <div style='color: blue; font-weight: bold;'>Original: Now, we have\n",
       "two new students today\n",
       "ready to begin their journey--</div>\n",
       "    <div style='color: green; font-weight: bold;'>Translated: Agora, temos\n",
       "dois novos alunos hoje</div>\n",
       "    "
      ],
      "text/plain": [
       "<IPython.core.display.HTML object>"
      ]
     },
     "metadata": {},
     "output_type": "display_data"
    },
    {
     "data": {
      "text/html": [
       "\n",
       "    <div style='color: blue; font-weight: bold;'>Original: Hi-yah! To awesomeness.</div>\n",
       "    <div style='color: green; font-weight: bold;'>Translated: Olá! Rumo à incrível.</div>\n",
       "    "
      ],
      "text/plain": [
       "<IPython.core.display.HTML object>"
      ]
     },
     "metadata": {},
     "output_type": "display_data"
    },
    {
     "data": {
      "text/html": [
       "\n",
       "    <div style='color: blue; font-weight: bold;'>Original: - You, tiny girl.</div>\n",
       "    <div style='color: green; font-weight: bold;'>Translated: - Tu, rapariga pequena.</div>\n",
       "    "
      ],
      "text/plain": [
       "<IPython.core.display.HTML object>"
      ]
     },
     "metadata": {},
     "output_type": "display_data"
    },
    {
     "data": {
      "text/html": [
       "\n",
       "    <div style='color: blue; font-weight: bold;'>Original: Step forward\n",
       "and tell us your name.</div>\n",
       "    <div style='color: green; font-weight: bold;'>Translated: Avança\n",
       "e diz-nos o teu nome.</div>\n",
       "    "
      ],
      "text/plain": [
       "<IPython.core.display.HTML object>"
      ]
     },
     "metadata": {},
     "output_type": "display_data"
    },
    {
     "data": {
      "text/html": [
       "\n",
       "    <div style='color: blue; font-weight: bold;'>Original: Um...</div>\n",
       "    <div style='color: green; font-weight: bold;'>Translated: Hum...</div>\n",
       "    "
      ],
      "text/plain": [
       "<IPython.core.display.HTML object>"
      ]
     },
     "metadata": {},
     "output_type": "display_data"
    },
    {
     "data": {
      "text/html": [
       "\n",
       "    <div style='color: blue; font-weight: bold;'>Original: It's Britney.</div>\n",
       "    <div style='color: green; font-weight: bold;'>Translated: É a Britney.</div>\n",
       "    "
      ],
      "text/plain": [
       "<IPython.core.display.HTML object>"
      ]
     },
     "metadata": {},
     "output_type": "display_data"
    },
    {
     "data": {
      "text/html": [
       "\n",
       "    <div style='color: blue; font-weight: bold;'>Original: Uh, m-my name?</div>\n",
       "    <div style='color: green; font-weight: bold;'>Translated: Ah, o meu nome?</div>\n",
       "    "
      ],
      "text/plain": [
       "<IPython.core.display.HTML object>"
      ]
     },
     "metadata": {},
     "output_type": "display_data"
    },
    {
     "data": {
      "text/html": [
       "\n",
       "    <div style='color: blue; font-weight: bold;'>Original: I can't.</div>\n",
       "    <div style='color: green; font-weight: bold;'>Translated: Eu não consigo.</div>\n",
       "    "
      ],
      "text/plain": [
       "<IPython.core.display.HTML object>"
      ]
     },
     "metadata": {},
     "output_type": "display_data"
    },
    {
     "data": {
      "text/html": [
       "\n",
       "    <div style='color: blue; font-weight: bold;'>Original: There's no \"can't\" in karate.</div>\n",
       "    <div style='color: green; font-weight: bold;'>Translated: Não existe \"não posso\" no karaté.</div>\n",
       "    "
      ],
      "text/plain": [
       "<IPython.core.display.HTML object>"
      ]
     },
     "metadata": {},
     "output_type": "display_data"
    },
    {
     "data": {
      "text/html": [
       "\n",
       "    <div style='color: blue; font-weight: bold;'>Original: Ten push-ups after class!</div>\n",
       "    <div style='color: green; font-weight: bold;'>Translated: Dez flexões depois da aula!</div>\n",
       "    "
      ],
      "text/plain": [
       "<IPython.core.display.HTML object>"
      ]
     },
     "metadata": {},
     "output_type": "display_data"
    },
    {
     "data": {
      "text/html": [
       "\n",
       "    <div style='color: blue; font-weight: bold;'>Original: Hey, that's not fair.</div>\n",
       "    <div style='color: green; font-weight: bold;'>Translated: Ei, isso não é justo.</div>\n",
       "    "
      ],
      "text/plain": [
       "<IPython.core.display.HTML object>"
      ]
     },
     "metadata": {},
     "output_type": "display_data"
    },
    {
     "data": {
      "text/html": [
       "\n",
       "    <div style='color: blue; font-weight: bold;'>Original: Huh! Ha! You better not be\n",
       "talking back to your sensei.</div>\n",
       "    <div style='color: green; font-weight: bold;'>Translated: Huh! Ha! É melhor não estares a responder ao teu sensei.</div>\n",
       "    "
      ],
      "text/plain": [
       "<IPython.core.display.HTML object>"
      ]
     },
     "metadata": {},
     "output_type": "display_data"
    },
    {
     "data": {
      "text/html": [
       "\n",
       "    <div style='color: blue; font-weight: bold;'>Original: Hi-yah!</div>\n",
       "    <div style='color: green; font-weight: bold;'>Translated: Olá!</div>\n",
       "    "
      ],
      "text/plain": [
       "<IPython.core.display.HTML object>"
      ]
     },
     "metadata": {},
     "output_type": "display_data"
    },
    {
     "data": {
      "text/html": [
       "\n",
       "    <div style='color: blue; font-weight: bold;'>Original: Now, are you ready\n",
       "to tell us your name\n",
       "and participate?</div>\n",
       "    <div style='color: green; font-weight: bold;'>Translated: Agora, estás pronto\n",
       "para nos dizer o teu nome</div>\n",
       "    "
      ],
      "text/plain": [
       "<IPython.core.display.HTML object>"
      ]
     },
     "metadata": {},
     "output_type": "display_data"
    },
    {
     "data": {
      "text/html": [
       "\n",
       "    <div style='color: blue; font-weight: bold;'>Original: Mmm.</div>\n",
       "    <div style='color: green; font-weight: bold;'>Translated: Mmm.</div>\n",
       "    "
      ],
      "text/plain": [
       "<IPython.core.display.HTML object>"
      ]
     },
     "metadata": {},
     "output_type": "display_data"
    },
    {
     "data": {
      "text/html": [
       "\n",
       "    <div style='color: blue; font-weight: bold;'>Original: I guess not.</div>\n",
       "    <div style='color: green; font-weight: bold;'>Translated: Acho que não.</div>\n",
       "    "
      ],
      "text/plain": [
       "<IPython.core.display.HTML object>"
      ]
     },
     "metadata": {},
     "output_type": "display_data"
    },
    {
     "data": {
      "text/html": [
       "\n",
       "    <div style='color: blue; font-weight: bold;'>Original: Then why don't you go sit\n",
       "in the corner of\n",
       "disgrace and reflection</div>\n",
       "    <div style='color: green; font-weight: bold;'>Translated: Então porque não vais sentar-te\n",
       "no canto</div>\n",
       "    "
      ],
      "text/plain": [
       "<IPython.core.display.HTML object>"
      ]
     },
     "metadata": {},
     "output_type": "display_data"
    },
    {
     "data": {
      "text/html": [
       "\n",
       "    <div style='color: blue; font-weight: bold;'>Original: and think about\n",
       "what kind of person\n",
       "you wanna be?</div>\n",
       "    <div style='color: green; font-weight: bold;'>Translated: e pensa sobre\n",
       "que tipo de pessoa</div>\n",
       "    "
      ],
      "text/plain": [
       "<IPython.core.display.HTML object>"
      ]
     },
     "metadata": {},
     "output_type": "display_data"
    },
    {
     "data": {
      "text/html": [
       "\n",
       "    <div style='color: blue; font-weight: bold;'>Original: Now, am I gonna get\n",
       "any trouble from you?</div>\n",
       "    <div style='color: green; font-weight: bold;'>Translated: Agora, vou ter algum problema contigo?</div>\n",
       "    "
      ],
      "text/plain": [
       "<IPython.core.display.HTML object>"
      ]
     },
     "metadata": {},
     "output_type": "display_data"
    },
    {
     "data": {
      "text/html": [
       "\n",
       "    <div style='color: blue; font-weight: bold;'>Original: Yeah, probably.</div>\n",
       "    <div style='color: green; font-weight: bold;'>Translated: Sim, provavelmente.</div>\n",
       "    "
      ],
      "text/plain": [
       "<IPython.core.display.HTML object>"
      ]
     },
     "metadata": {},
     "output_type": "display_data"
    },
    {
     "data": {
      "text/html": [
       "\n",
       "    <div style='color: blue; font-weight: bold;'>Original: Excuse me?</div>\n",
       "    <div style='color: green; font-weight: bold;'>Translated: Desculpe?</div>\n",
       "    "
      ],
      "text/plain": [
       "<IPython.core.display.HTML object>"
      ]
     },
     "metadata": {},
     "output_type": "display_data"
    },
    {
     "data": {
      "text/html": [
       "\n",
       "    <div style='color: blue; font-weight: bold;'>Original: If you think\n",
       "I'm above fighting children,</div>\n",
       "    <div style='color: green; font-weight: bold;'>Translated: Se achas\n",
       "que estou acima de lutar com crianças,</div>\n",
       "    "
      ],
      "text/plain": [
       "<IPython.core.display.HTML object>"
      ]
     },
     "metadata": {},
     "output_type": "display_data"
    },
    {
     "data": {
      "text/html": [
       "\n",
       "    <div style='color: blue; font-weight: bold;'>Original: you picked the wrong dojo.</div>\n",
       "    <div style='color: green; font-weight: bold;'>Translated: escolheste o dojo errado.</div>\n",
       "    "
      ],
      "text/plain": [
       "<IPython.core.display.HTML object>"
      ]
     },
     "metadata": {},
     "output_type": "display_data"
    },
    {
     "data": {
      "text/html": [
       "\n",
       "    <div style='color: blue; font-weight: bold;'>Original: Hi-yah, hi-yah, hi-yah!\n",
       "Hi-yah!</div>\n",
       "    <div style='color: green; font-weight: bold;'>Translated: Olá, olá, olá!\n",
       "Olá!</div>\n",
       "    "
      ],
      "text/plain": [
       "<IPython.core.display.HTML object>"
      ]
     },
     "metadata": {},
     "output_type": "display_data"
    },
    {
     "data": {
      "text/html": [
       "\n",
       "    <div style='color: blue; font-weight: bold;'>Original: Ha!</div>\n",
       "    <div style='color: green; font-weight: bold;'>Translated: Ah!</div>\n",
       "    "
      ],
      "text/plain": [
       "<IPython.core.display.HTML object>"
      ]
     },
     "metadata": {},
     "output_type": "display_data"
    },
    {
     "data": {
      "text/html": [
       "\n",
       "    <div style='color: blue; font-weight: bold;'>Original: Yeah!</div>\n",
       "    <div style='color: green; font-weight: bold;'>Translated: Sim!</div>\n",
       "    "
      ],
      "text/plain": [
       "<IPython.core.display.HTML object>"
      ]
     },
     "metadata": {},
     "output_type": "display_data"
    },
    {
     "data": {
      "text/html": [
       "\n",
       "    <div style='color: blue; font-weight: bold;'>Original: That was for my sister.</div>\n",
       "    <div style='color: green; font-weight: bold;'>Translated: Isso foi para a minha irmã.</div>\n",
       "    "
      ],
      "text/plain": [
       "<IPython.core.display.HTML object>"
      ]
     },
     "metadata": {},
     "output_type": "display_data"
    },
    {
     "data": {
      "text/html": [
       "\n",
       "    <div style='color: blue; font-weight: bold;'>Original: You broke my pinkie toe.</div>\n",
       "    <div style='color: green; font-weight: bold;'>Translated: Partiste-me o dedo mindinho do pé.</div>\n",
       "    "
      ],
      "text/plain": [
       "<IPython.core.display.HTML object>"
      ]
     },
     "metadata": {},
     "output_type": "display_data"
    },
    {
     "data": {
      "text/html": [
       "\n",
       "    <div style='color: blue; font-weight: bold;'>Original: That's gonna be\n",
       "a lot of push-ups.</div>\n",
       "    <div style='color: green; font-weight: bold;'>Translated: Isso vai ser\n",
       "muitas flexões.</div>\n",
       "    "
      ],
      "text/plain": [
       "<IPython.core.display.HTML object>"
      ]
     },
     "metadata": {},
     "output_type": "display_data"
    },
    {
     "data": {
      "text/html": [
       "\n",
       "    <div style='color: blue; font-weight: bold;'>Original: Okay,\n",
       "then put this over here,\n",
       "then the hair gel.</div>\n",
       "    <div style='color: green; font-weight: bold;'>Translated: Ok,\n",
       "depois coloca isto aqui,</div>\n",
       "    "
      ],
      "text/plain": [
       "<IPython.core.display.HTML object>"
      ]
     },
     "metadata": {},
     "output_type": "display_data"
    },
    {
     "data": {
      "text/html": [
       "\n",
       "    <div style='color: blue; font-weight: bold;'>Original: Hair spray.\n",
       "Oh, uh,\n",
       "Mrs. Cunningham?</div>\n",
       "    <div style='color: green; font-weight: bold;'>Translated: Laca para cabelo.\n",
       "Oh, uh,</div>\n",
       "    "
      ],
      "text/plain": [
       "<IPython.core.display.HTML object>"
      ]
     },
     "metadata": {},
     "output_type": "display_data"
    },
    {
     "data": {
      "text/html": [
       "\n",
       "    <div style='color: blue; font-weight: bold;'>Original: I have to say,\n",
       "this is quite a résumé.</div>\n",
       "    <div style='color: green; font-weight: bold;'>Translated: Tenho de dizer,\n",
       "este é um currículo impressionante.</div>\n",
       "    "
      ],
      "text/plain": [
       "<IPython.core.display.HTML object>"
      ]
     },
     "metadata": {},
     "output_type": "display_data"
    },
    {
     "data": {
      "text/html": [
       "\n",
       "    <div style='color: blue; font-weight: bold;'>Original: Well, what can I say?</div>\n",
       "    <div style='color: green; font-weight: bold;'>Translated: Bem, o que posso dizer?</div>\n",
       "    "
      ],
      "text/plain": [
       "<IPython.core.display.HTML object>"
      ]
     },
     "metadata": {},
     "output_type": "display_data"
    },
    {
     "data": {
      "text/html": [
       "\n",
       "    <div style='color: blue; font-weight: bold;'>Original: I'm good at what I do.</div>\n",
       "    <div style='color: green; font-weight: bold;'>Translated: Sou bom no que faço.</div>\n",
       "    "
      ],
      "text/plain": [
       "<IPython.core.display.HTML object>"
      ]
     },
     "metadata": {},
     "output_type": "display_data"
    },
    {
     "data": {
      "text/html": [
       "\n",
       "    <div style='color: blue; font-weight: bold;'>Original: Well, you are\n",
       "exactly what we need here.</div>\n",
       "    <div style='color: green; font-weight: bold;'>Translated: Bem, és exatamente o que precisamos aqui.</div>\n",
       "    "
      ],
      "text/plain": [
       "<IPython.core.display.HTML object>"
      ]
     },
     "metadata": {},
     "output_type": "display_data"
    },
    {
     "data": {
      "text/html": [
       "\n",
       "    <div style='color: blue; font-weight: bold;'>Original: Lot of vain, demanding divas\n",
       "in this town.</div>\n",
       "    <div style='color: green; font-weight: bold;'>Translated: Muitas divas vaidosas e exigentes nesta cidade.</div>\n",
       "    "
      ],
      "text/plain": [
       "<IPython.core.display.HTML object>"
      ]
     },
     "metadata": {},
     "output_type": "display_data"
    },
    {
     "data": {
      "text/html": [
       "\n",
       "    <div style='color: blue; font-weight: bold;'>Original: I have a hair emergency, people.</div>\n",
       "    <div style='color: green; font-weight: bold;'>Translated: Estou com uma emergência capilar, pessoal.</div>\n",
       "    "
      ],
      "text/plain": [
       "<IPython.core.display.HTML object>"
      ]
     },
     "metadata": {},
     "output_type": "display_data"
    },
    {
     "data": {
      "text/html": [
       "\n",
       "    <div style='color: blue; font-weight: bold;'>Original: Where's what's-her-name?</div>\n",
       "    <div style='color: green; font-weight: bold;'>Translated: Onde está como-é-que-ela-se-chama?</div>\n",
       "    "
      ],
      "text/plain": [
       "<IPython.core.display.HTML object>"
      ]
     },
     "metadata": {},
     "output_type": "display_data"
    },
    {
     "data": {
      "text/html": [
       "\n",
       "    <div style='color: blue; font-weight: bold;'>Original: Remy? Rhonda?</div>\n",
       "    <div style='color: green; font-weight: bold;'>Translated: Remy? Rhonda?</div>\n",
       "    "
      ],
      "text/plain": [
       "<IPython.core.display.HTML object>"
      ]
     },
     "metadata": {},
     "output_type": "display_data"
    },
    {
     "data": {
      "text/html": [
       "\n",
       "    <div style='color: blue; font-weight: bold;'>Original: Oh, Melora, I'm so sorry.</div>\n",
       "    <div style='color: green; font-weight: bold;'>Translated: Oh, Melora, lamento tanto.</div>\n",
       "    "
      ],
      "text/plain": [
       "<IPython.core.display.HTML object>"
      ]
     },
     "metadata": {},
     "output_type": "display_data"
    },
    {
     "data": {
      "text/html": [
       "\n",
       "    <div style='color: blue; font-weight: bold;'>Original: Rachel's on maternity leave.</div>\n",
       "    <div style='color: green; font-weight: bold;'>Translated: A Rachel está de licença de maternidade.</div>\n",
       "    "
      ],
      "text/plain": [
       "<IPython.core.display.HTML object>"
      ]
     },
     "metadata": {},
     "output_type": "display_data"
    },
    {
     "data": {
      "text/html": [
       "\n",
       "    <div style='color: blue; font-weight: bold;'>Original: What? Oh, that is unacceptable.</div>\n",
       "    <div style='color: green; font-weight: bold;'>Translated: O quê? Oh, isso é inaceitável.</div>\n",
       "    "
      ],
      "text/plain": [
       "<IPython.core.display.HTML object>"
      ]
     },
     "metadata": {},
     "output_type": "display_data"
    },
    {
     "data": {
      "text/html": [
       "\n",
       "    <div style='color: blue; font-weight: bold;'>Original: But you are in luck,\n",
       "because Blanche here\n",
       "is fantastic.</div>\n",
       "    <div style='color: green; font-weight: bold;'>Translated: Mas tens sorte,\n",
       "porque a Blanche aqui</div>\n",
       "    "
      ],
      "text/plain": [
       "<IPython.core.display.HTML object>"
      ]
     },
     "metadata": {},
     "output_type": "display_data"
    },
    {
     "data": {
      "text/html": [
       "\n",
       "    <div style='color: blue; font-weight: bold;'>Original: Perfect. I'll be in my chair.</div>\n",
       "    <div style='color: green; font-weight: bold;'>Translated: Perfeito. Estarei na minha cadeira.</div>\n",
       "    "
      ],
      "text/plain": [
       "<IPython.core.display.HTML object>"
      ]
     },
     "metadata": {},
     "output_type": "display_data"
    },
    {
     "data": {
      "text/html": [
       "\n",
       "    <div style='color: blue; font-weight: bold;'>Original: Okay, kiddo, you're up.</div>\n",
       "    <div style='color: green; font-weight: bold;'>Translated: Está na tua vez, miúdo.</div>\n",
       "    "
      ],
      "text/plain": [
       "<IPython.core.display.HTML object>"
      ]
     },
     "metadata": {},
     "output_type": "display_data"
    },
    {
     "data": {
      "text/html": [
       "\n",
       "    <div style='color: blue; font-weight: bold;'>Original: So, Melora,\n",
       "what are we thinking?</div>\n",
       "    <div style='color: green; font-weight: bold;'>Translated: Então, Melora,\n",
       "o que estamos a pensar?</div>\n",
       "    "
      ],
      "text/plain": [
       "<IPython.core.display.HTML object>"
      ]
     },
     "metadata": {},
     "output_type": "display_data"
    },
    {
     "data": {
      "text/html": [
       "\n",
       "    <div style='color: blue; font-weight: bold;'>Original: What if we just wet the hair\n",
       "and let it dry in the air?</div>\n",
       "    <div style='color: green; font-weight: bold;'>Translated: E se simplesmente molhássemos o cabelo\n",
       "e o deixássemos secar ao ar?</div>\n",
       "    "
      ],
      "text/plain": [
       "<IPython.core.display.HTML object>"
      ]
     },
     "metadata": {},
     "output_type": "display_data"
    },
    {
     "data": {
      "text/html": [
       "\n",
       "    <div style='color: blue; font-weight: bold;'>Original: Let nature do its thang...\n",
       "...you know?</div>\n",
       "    <div style='color: green; font-weight: bold;'>Translated: Deixa a natureza fazer o seu trabalho...\n",
       "...sabes?</div>\n",
       "    "
      ],
      "text/plain": [
       "<IPython.core.display.HTML object>"
      ]
     },
     "metadata": {},
     "output_type": "display_data"
    },
    {
     "data": {
      "text/html": [
       "\n",
       "    <div style='color: blue; font-weight: bold;'>Original: No, no, no, no.\n",
       "That style is dead to me.</div>\n",
       "    <div style='color: green; font-weight: bold;'>Translated: Não, não, não, não.\n",
       "Esse estilo está morto para mim.</div>\n",
       "    "
      ],
      "text/plain": [
       "<IPython.core.display.HTML object>"
      ]
     },
     "metadata": {},
     "output_type": "display_data"
    },
    {
     "data": {
      "text/html": [
       "\n",
       "    <div style='color: blue; font-weight: bold;'>Original: It's-It's time\n",
       "for a whole new Melora.</div>\n",
       "    <div style='color: green; font-weight: bold;'>Translated: É hora de uma nova Melora completamente diferente.</div>\n",
       "    "
      ],
      "text/plain": [
       "<IPython.core.display.HTML object>"
      ]
     },
     "metadata": {},
     "output_type": "display_data"
    },
    {
     "data": {
      "text/html": [
       "\n",
       "    <div style='color: blue; font-weight: bold;'>Original: I want this.</div>\n",
       "    <div style='color: green; font-weight: bold;'>Translated: Eu quero isto.</div>\n",
       "    "
      ],
      "text/plain": [
       "<IPython.core.display.HTML object>"
      ]
     },
     "metadata": {},
     "output_type": "display_data"
    },
    {
     "data": {
      "text/html": [
       "\n",
       "    <div style='color: blue; font-weight: bold;'>Original: Wow.</div>\n",
       "    <div style='color: green; font-weight: bold;'>Translated: Uau.</div>\n",
       "    "
      ],
      "text/plain": [
       "<IPython.core.display.HTML object>"
      ]
     },
     "metadata": {},
     "output_type": "display_data"
    },
    {
     "data": {
      "text/html": [
       "\n",
       "    <div style='color: blue; font-weight: bold;'>Original: Wow. Um...</div>\n",
       "    <div style='color: green; font-weight: bold;'>Translated: Uau. Hum...</div>\n",
       "    "
      ],
      "text/plain": [
       "<IPython.core.display.HTML object>"
      ]
     },
     "metadata": {},
     "output_type": "display_data"
    },
    {
     "data": {
      "text/html": [
       "\n",
       "    <div style='color: blue; font-weight: bold;'>Original: Okay, let's start with color?</div>\n",
       "    <div style='color: green; font-weight: bold;'>Translated: Ok, vamos começar com a cor?</div>\n",
       "    "
      ],
      "text/plain": [
       "<IPython.core.display.HTML object>"
      ]
     },
     "metadata": {},
     "output_type": "display_data"
    },
    {
     "data": {
      "text/html": [
       "\n",
       "    <div style='color: blue; font-weight: bold;'>Original: Yes, color.\n",
       "Because that's what\n",
       "you start with.</div>\n",
       "    <div style='color: green; font-weight: bold;'>Translated: Sim, cor.\n",
       "Porque é com isso</div>\n",
       "    "
      ],
      "text/plain": [
       "<IPython.core.display.HTML object>"
      ]
     },
     "metadata": {},
     "output_type": "display_data"
    },
    {
     "data": {
      "text/html": [
       "\n",
       "    <div style='color: blue; font-weight: bold;'>Original: Little of this.</div>\n",
       "    <div style='color: green; font-weight: bold;'>Translated: Um pouco disto.</div>\n",
       "    "
      ],
      "text/plain": [
       "<IPython.core.display.HTML object>"
      ]
     },
     "metadata": {},
     "output_type": "display_data"
    },
    {
     "data": {
      "text/html": [
       "\n",
       "    <div style='color: blue; font-weight: bold;'>Original: Some of that.</div>\n",
       "    <div style='color: green; font-weight: bold;'>Translated: Um pouco disso.</div>\n",
       "    "
      ],
      "text/plain": [
       "<IPython.core.display.HTML object>"
      ]
     },
     "metadata": {},
     "output_type": "display_data"
    },
    {
     "data": {
      "text/html": [
       "\n",
       "    <div style='color: blue; font-weight: bold;'>Original: Ooh, that's pretty.</div>\n",
       "    <div style='color: green; font-weight: bold;'>Translated: Oh, que bonito.</div>\n",
       "    "
      ],
      "text/plain": [
       "<IPython.core.display.HTML object>"
      ]
     },
     "metadata": {},
     "output_type": "display_data"
    },
    {
     "data": {
      "text/html": [
       "\n",
       "    <div style='color: blue; font-weight: bold;'>Original: This isn't so hard.</div>\n",
       "    <div style='color: green; font-weight: bold;'>Translated: Isto não é tão difícil.</div>\n",
       "    "
      ],
      "text/plain": [
       "<IPython.core.display.HTML object>"
      ]
     },
     "metadata": {},
     "output_type": "display_data"
    },
    {
     "data": {
      "text/html": [
       "\n",
       "    <div style='color: blue; font-weight: bold;'>Original: Uh...</div>\n",
       "    <div style='color: green; font-weight: bold;'>Translated: Uh...</div>\n",
       "    "
      ],
      "text/plain": [
       "<IPython.core.display.HTML object>"
      ]
     },
     "metadata": {},
     "output_type": "display_data"
    },
    {
     "data": {
      "text/html": [
       "\n",
       "    <div style='color: blue; font-weight: bold;'>Original: What?</div>\n",
       "    <div style='color: green; font-weight: bold;'>Translated: O quê?</div>\n",
       "    "
      ],
      "text/plain": [
       "<IPython.core.display.HTML object>"
      ]
     },
     "metadata": {},
     "output_type": "display_data"
    },
    {
     "data": {
      "text/html": [
       "\n",
       "    <div style='color: blue; font-weight: bold;'>Original: Should it be smoking?</div>\n",
       "    <div style='color: green; font-weight: bold;'>Translated: Deveria estar a fumar?</div>\n",
       "    "
      ],
      "text/plain": [
       "<IPython.core.display.HTML object>"
      ]
     },
     "metadata": {},
     "output_type": "display_data"
    },
    {
     "data": {
      "text/html": [
       "\n",
       "    <div style='color: blue; font-weight: bold;'>Original: Yes. Uh-huh.</div>\n",
       "    <div style='color: green; font-weight: bold;'>Translated: Sim. Uh-huh.</div>\n",
       "    "
      ],
      "text/plain": [
       "<IPython.core.display.HTML object>"
      ]
     },
     "metadata": {},
     "output_type": "display_data"
    },
    {
     "data": {
      "text/html": [
       "\n",
       "    <div style='color: blue; font-weight: bold;'>Original: Smoking means it's working.</div>\n",
       "    <div style='color: green; font-weight: bold;'>Translated: Fumar significa que está a funcionar.</div>\n",
       "    "
      ],
      "text/plain": [
       "<IPython.core.display.HTML object>"
      ]
     },
     "metadata": {},
     "output_type": "display_data"
    },
    {
     "data": {
      "text/html": [
       "\n",
       "    <div style='color: blue; font-weight: bold;'>Original: What's going on?</div>\n",
       "    <div style='color: green; font-weight: bold;'>Translated: O que se passa?</div>\n",
       "    "
      ],
      "text/plain": [
       "<IPython.core.display.HTML object>"
      ]
     },
     "metadata": {},
     "output_type": "display_data"
    },
    {
     "data": {
      "text/html": [
       "\n",
       "    <div style='color: blue; font-weight: bold;'>Original: Perfect. No one panic.</div>\n",
       "    <div style='color: green; font-weight: bold;'>Translated: Perfeito. Ninguém entre em pânico.</div>\n",
       "    "
      ],
      "text/plain": [
       "<IPython.core.display.HTML object>"
      ]
     },
     "metadata": {},
     "output_type": "display_data"
    },
    {
     "data": {
      "text/html": [
       "\n",
       "    <div style='color: blue; font-weight: bold;'>Original: Call 911.</div>\n",
       "    <div style='color: green; font-weight: bold;'>Translated: Ligue para o 112.</div>\n",
       "    "
      ],
      "text/plain": [
       "<IPython.core.display.HTML object>"
      ]
     },
     "metadata": {},
     "output_type": "display_data"
    },
    {
     "data": {
      "text/html": [
       "\n",
       "    <div style='color: blue; font-weight: bold;'>Original: Quickly, quickly.</div>\n",
       "    <div style='color: green; font-weight: bold;'>Translated: Rapidamente, rapidamente.</div>\n",
       "    "
      ],
      "text/plain": [
       "<IPython.core.display.HTML object>"
      ]
     },
     "metadata": {},
     "output_type": "display_data"
    },
    {
     "data": {
      "text/html": [
       "\n",
       "    <div style='color: blue; font-weight: bold;'>Original: Oh...\n",
       "...wonder where they're going.</div>\n",
       "    <div style='color: green; font-weight: bold;'>Translated: Oh...\n",
       "...pergunto-me para onde irão.</div>\n",
       "    "
      ],
      "text/plain": [
       "<IPython.core.display.HTML object>"
      ]
     },
     "metadata": {},
     "output_type": "display_data"
    },
    {
     "data": {
      "text/html": [
       "\n",
       "    <div style='color: blue; font-weight: bold;'>Original: Voilà! My latest creation.</div>\n",
       "    <div style='color: green; font-weight: bold;'>Translated: Eis a minha última criação.</div>\n",
       "    "
      ],
      "text/plain": [
       "<IPython.core.display.HTML object>"
      ]
     },
     "metadata": {},
     "output_type": "display_data"
    },
    {
     "data": {
      "text/html": [
       "\n",
       "    <div style='color: blue; font-weight: bold;'>Original: All of my transformation powers\n",
       "in a handheld design, huh?</div>\n",
       "    <div style='color: green; font-weight: bold;'>Translated: Todos os meus poderes de transformação num design portátil, hein?</div>\n",
       "    "
      ],
      "text/plain": [
       "<IPython.core.display.HTML object>"
      ]
     },
     "metadata": {},
     "output_type": "display_data"
    },
    {
     "data": {
      "text/html": [
       "\n",
       "    <div style='color: blue; font-weight: bold;'>Original: <i>Ay!</i> I love it.</div>\n",
       "    <div style='color: green; font-weight: bold;'>Translated: <i>Ay!</i> Adoro.</div>\n",
       "    "
      ],
      "text/plain": [
       "<IPython.core.display.HTML object>"
      ]
     },
     "metadata": {},
     "output_type": "display_data"
    },
    {
     "data": {
      "text/html": [
       "\n",
       "    <div style='color: blue; font-weight: bold;'>Original: Oh, and look at\n",
       "the little antenna.\n",
       "That's so cute.</div>\n",
       "    <div style='color: green; font-weight: bold;'>Translated: Ah, e olha para\n",
       "a pequena antena.</div>\n",
       "    "
      ],
      "text/plain": [
       "<IPython.core.display.HTML object>"
      ]
     },
     "metadata": {},
     "output_type": "display_data"
    },
    {
     "data": {
      "text/html": [
       "\n",
       "    <div style='color: blue; font-weight: bold;'>Original: It's not supposed\n",
       "to be cute. No.</div>\n",
       "    <div style='color: green; font-weight: bold;'>Translated: Não é suposto ser fofo. Não.</div>\n",
       "    "
      ],
      "text/plain": [
       "<IPython.core.display.HTML object>"
      ]
     },
     "metadata": {},
     "output_type": "display_data"
    },
    {
     "data": {
      "text/html": [
       "\n",
       "    <div style='color: blue; font-weight: bold;'>Original: I'm going for intimidating.\n",
       "Terrifying, even.</div>\n",
       "    <div style='color: green; font-weight: bold;'>Translated: Vou optar por intimidante.\n",
       "Aterrorizante, até.</div>\n",
       "    "
      ],
      "text/plain": [
       "<IPython.core.display.HTML object>"
      ]
     },
     "metadata": {},
     "output_type": "display_data"
    },
    {
     "data": {
      "text/html": [
       "\n",
       "    <div style='color: blue; font-weight: bold;'>Original: Now, all I have to do is find\n",
       "that walking boiled potato,</div>\n",
       "    <div style='color: green; font-weight: bold;'>Translated: Agora, tudo o que tenho de fazer é encontrar\n",
       "essa batata cozida ambulante,</div>\n",
       "    "
      ],
      "text/plain": [
       "<IPython.core.display.HTML object>"
      ]
     },
     "metadata": {},
     "output_type": "display_data"
    },
    {
     "data": {
      "text/html": [
       "\n",
       "    <div style='color: blue; font-weight: bold;'>Original: and his baby is mine.</div>\n",
       "    <div style='color: green; font-weight: bold;'>Translated: e o seu bebé é meu.</div>\n",
       "    "
      ],
      "text/plain": [
       "<IPython.core.display.HTML object>"
      ]
     },
     "metadata": {},
     "output_type": "display_data"
    },
    {
     "data": {
      "text/html": [
       "\n",
       "    <div style='color: blue; font-weight: bold;'>Original: Check this out.</div>\n",
       "    <div style='color: green; font-weight: bold;'>Translated: Vê isto.</div>\n",
       "    "
      ],
      "text/plain": [
       "<IPython.core.display.HTML object>"
      ]
     },
     "metadata": {},
     "output_type": "display_data"
    },
    {
     "data": {
      "text/html": [
       "\n",
       "    <div style='color: blue; font-weight: bold;'>Original: Whoa!</div>\n",
       "    <div style='color: green; font-weight: bold;'>Translated: Uau!</div>\n",
       "    "
      ],
      "text/plain": [
       "<IPython.core.display.HTML object>"
      ]
     },
     "metadata": {},
     "output_type": "display_data"
    },
    {
     "data": {
      "text/html": [
       "\n",
       "    <div style='color: blue; font-weight: bold;'>Original: No, I kid you not.\n",
       "I'm being serious-- Whoa!</div>\n",
       "    <div style='color: green; font-weight: bold;'>Translated: Não, não estou a brincar.\n",
       "Estou a falar a sério-- Uau!</div>\n",
       "    "
      ],
      "text/plain": [
       "<IPython.core.display.HTML object>"
      ]
     },
     "metadata": {},
     "output_type": "display_data"
    },
    {
     "data": {
      "text/html": [
       "\n",
       "    <div style='color: blue; font-weight: bold;'>Original: Whoa!</div>\n",
       "    <div style='color: green; font-weight: bold;'>Translated: Uau!</div>\n",
       "    "
      ],
      "text/plain": [
       "<IPython.core.display.HTML object>"
      ]
     },
     "metadata": {},
     "output_type": "display_data"
    },
    {
     "data": {
      "text/html": [
       "\n",
       "    <div style='color: blue; font-weight: bold;'>Original: Oh, this is going to be so good.</div>\n",
       "    <div style='color: green; font-weight: bold;'>Translated: Ah, isto vai ser tão bom.</div>\n",
       "    "
      ],
      "text/plain": [
       "<IPython.core.display.HTML object>"
      ]
     },
     "metadata": {},
     "output_type": "display_data"
    },
    {
     "data": {
      "text/html": [
       "\n",
       "    <div style='color: blue; font-weight: bold;'>Original: - Okay, Daddy is\n",
       "officially exhausted.</div>\n",
       "    <div style='color: green; font-weight: bold;'>Translated: - Está bem, o papá está oficialmente exausto.</div>\n",
       "    "
      ],
      "text/plain": [
       "<IPython.core.display.HTML object>"
      ]
     },
     "metadata": {},
     "output_type": "display_data"
    },
    {
     "data": {
      "text/html": [
       "\n",
       "    <div style='color: blue; font-weight: bold;'>Original: I changed your diaper.</div>\n",
       "    <div style='color: green; font-weight: bold;'>Translated: Eu mudei a tua fralda.</div>\n",
       "    "
      ],
      "text/plain": [
       "<IPython.core.display.HTML object>"
      ]
     },
     "metadata": {},
     "output_type": "display_data"
    },
    {
     "data": {
      "text/html": [
       "\n",
       "    <div style='color: blue; font-weight: bold;'>Original: I've got your bottle,\n",
       "your Binky,\n",
       "and here are your balloons.</div>\n",
       "    <div style='color: green; font-weight: bold;'>Translated: Tenho a tua garrafa,\n",
       "o teu chupeta,</div>\n",
       "    "
      ],
      "text/plain": [
       "<IPython.core.display.HTML object>"
      ]
     },
     "metadata": {},
     "output_type": "display_data"
    },
    {
     "data": {
      "text/html": [
       "\n",
       "    <div style='color: blue; font-weight: bold;'>Original: There you go.\n",
       "You like those, right?</div>\n",
       "    <div style='color: green; font-weight: bold;'>Translated: Aqui tens.\n",
       "Gostas desses, certo?</div>\n",
       "    "
      ],
      "text/plain": [
       "<IPython.core.display.HTML object>"
      ]
     },
     "metadata": {},
     "output_type": "display_data"
    },
    {
     "data": {
      "text/html": [
       "\n",
       "    <div style='color: blue; font-weight: bold;'>Original: All right.\n",
       "A little bit of me time.</div>\n",
       "    <div style='color: green; font-weight: bold;'>Translated: Está bem.\n",
       "Um pouco de tempo para mim.</div>\n",
       "    "
      ],
      "text/plain": [
       "<IPython.core.display.HTML object>"
      ]
     },
     "metadata": {},
     "output_type": "display_data"
    },
    {
     "data": {
      "text/html": [
       "\n",
       "    <div style='color: blue; font-weight: bold;'>Original: Ah!</div>\n",
       "    <div style='color: green; font-weight: bold;'>Translated: Ah!</div>\n",
       "    "
      ],
      "text/plain": [
       "<IPython.core.display.HTML object>"
      ]
     },
     "metadata": {},
     "output_type": "display_data"
    },
    {
     "data": {
      "text/html": [
       "\n",
       "    <div style='color: blue; font-weight: bold;'>Original: Someone put a glitter bomb\n",
       "in my locker. Ugh.</div>\n",
       "    <div style='color: green; font-weight: bold;'>Translated: Alguém colocou uma bomba de purpurinas no meu cacifo. Que seca.</div>\n",
       "    "
      ],
      "text/plain": [
       "<IPython.core.display.HTML object>"
      ]
     },
     "metadata": {},
     "output_type": "display_data"
    },
    {
     "data": {
      "text/html": [
       "\n",
       "    <div style='color: blue; font-weight: bold;'>Original: Teenagers are the worst.</div>\n",
       "    <div style='color: green; font-weight: bold;'>Translated: Os adolescentes são os piores.</div>\n",
       "    "
      ],
      "text/plain": [
       "<IPython.core.display.HTML object>"
      ]
     },
     "metadata": {},
     "output_type": "display_data"
    },
    {
     "data": {
      "text/html": [
       "\n",
       "    <div style='color: blue; font-weight: bold;'>Original: Yeah. Babies are\n",
       "no picnic either.</div>\n",
       "    <div style='color: green; font-weight: bold;'>Translated: Sim. Os bebés também não são nada fáceis.</div>\n",
       "    "
      ],
      "text/plain": [
       "<IPython.core.display.HTML object>"
      ]
     },
     "metadata": {},
     "output_type": "display_data"
    },
    {
     "data": {
      "text/html": [
       "\n",
       "    <div style='color: blue; font-weight: bold;'>Original: Ah!</div>\n",
       "    <div style='color: green; font-weight: bold;'>Translated: Ah!</div>\n",
       "    "
      ],
      "text/plain": [
       "<IPython.core.display.HTML object>"
      ]
     },
     "metadata": {},
     "output_type": "display_data"
    },
    {
     "data": {
      "text/html": [
       "\n",
       "    <div style='color: blue; font-weight: bold;'>Original: Junior!</div>\n",
       "    <div style='color: green; font-weight: bold;'>Translated: Júnior!</div>\n",
       "    "
      ],
      "text/plain": [
       "<IPython.core.display.HTML object>"
      ]
     },
     "metadata": {},
     "output_type": "display_data"
    },
    {
     "data": {
      "text/html": [
       "\n",
       "    <div style='color: blue; font-weight: bold;'>Original: Ah, okay. Okay.</div>\n",
       "    <div style='color: green; font-weight: bold;'>Translated: Ah, está bem. Está bem.</div>\n",
       "    "
      ],
      "text/plain": [
       "<IPython.core.display.HTML object>"
      ]
     },
     "metadata": {},
     "output_type": "display_data"
    },
    {
     "data": {
      "text/html": [
       "\n",
       "    <div style='color: blue; font-weight: bold;'>Original: - Dua Lipa prosciutto.</div>\n",
       "    <div style='color: green; font-weight: bold;'>Translated: - Dua Lipa presunto.</div>\n",
       "    "
      ],
      "text/plain": [
       "<IPython.core.display.HTML object>"
      ]
     },
     "metadata": {},
     "output_type": "display_data"
    },
    {
     "data": {
      "text/html": [
       "\n",
       "    <div style='color: blue; font-weight: bold;'>Original: Fire in the bowl.</div>\n",
       "    <div style='color: green; font-weight: bold;'>Translated: Fogo na tigela.</div>\n",
       "    "
      ],
      "text/plain": [
       "<IPython.core.display.HTML object>"
      ]
     },
     "metadata": {},
     "output_type": "display_data"
    },
    {
     "data": {
      "text/html": [
       "\n",
       "    <div style='color: blue; font-weight: bold;'>Original: Good night, Ralph.</div>\n",
       "    <div style='color: green; font-weight: bold;'>Translated: Boa noite, Ralph.</div>\n",
       "    "
      ],
      "text/plain": [
       "<IPython.core.display.HTML object>"
      ]
     },
     "metadata": {},
     "output_type": "display_data"
    },
    {
     "data": {
      "text/html": [
       "\n",
       "    <div style='color: blue; font-weight: bold;'>Original: <i>♪ Taking out the trash\n",
       "'Cause I'm an awesome dad ♪</i></div>\n",
       "    <div style='color: green; font-weight: bold;'>Translated: <i>♪ A tirar o lixo\n",
       "Porque sou um pai incrível ♪</i></div>\n",
       "    "
      ],
      "text/plain": [
       "<IPython.core.display.HTML object>"
      ]
     },
     "metadata": {},
     "output_type": "display_data"
    },
    {
     "data": {
      "text/html": [
       "\n",
       "    <div style='color: blue; font-weight: bold;'>Original: <i>♪ And the baby\n",
       "Finally went to sleep ♪</i></div>\n",
       "    <div style='color: green; font-weight: bold;'>Translated: <i>♪ E o bebé\n",
       "Finalmente adormeceu ♪</i></div>\n",
       "    "
      ],
      "text/plain": [
       "<IPython.core.display.HTML object>"
      ]
     },
     "metadata": {},
     "output_type": "display_data"
    },
    {
     "data": {
      "text/html": [
       "\n",
       "    <div style='color: blue; font-weight: bold;'>Original: Hello, Gru.</div>\n",
       "    <div style='color: green; font-weight: bold;'>Translated: Olá, Gru.</div>\n",
       "    "
      ],
      "text/plain": [
       "<IPython.core.display.HTML object>"
      ]
     },
     "metadata": {},
     "output_type": "display_data"
    },
    {
     "data": {
      "text/html": [
       "\n",
       "    <div style='color: blue; font-weight: bold;'>Original: Hello. Hey! What the...</div>\n",
       "    <div style='color: green; font-weight: bold;'>Translated: Olá. Ei! Mas o que...</div>\n",
       "    "
      ],
      "text/plain": [
       "<IPython.core.display.HTML object>"
      ]
     },
     "metadata": {},
     "output_type": "display_data"
    },
    {
     "data": {
      "text/html": [
       "\n",
       "    <div style='color: blue; font-weight: bold;'>Original: Oh, hello, Poppy.\n",
       "Did you say something?</div>\n",
       "    <div style='color: green; font-weight: bold;'>Translated: Olá, Poppy.\n",
       "Disseste alguma coisa?</div>\n",
       "    "
      ],
      "text/plain": [
       "<IPython.core.display.HTML object>"
      ]
     },
     "metadata": {},
     "output_type": "display_data"
    },
    {
     "data": {
      "text/html": [
       "\n",
       "    <div style='color: blue; font-weight: bold;'>Original: Wha-- Uh...\n",
       "...my name's Chet, by the way.</div>\n",
       "    <div style='color: green; font-weight: bold;'>Translated: Ah-- Uh...\n",
       "...o meu nome é Chet, já agora.</div>\n",
       "    "
      ],
      "text/plain": [
       "<IPython.core.display.HTML object>"
      ]
     },
     "metadata": {},
     "output_type": "display_data"
    },
    {
     "data": {
      "text/html": [
       "\n",
       "    <div style='color: blue; font-weight: bold;'>Original: Chet Cunningham.</div>\n",
       "    <div style='color: green; font-weight: bold;'>Translated: Chet Cunningham.</div>\n",
       "    "
      ],
      "text/plain": [
       "<IPython.core.display.HTML object>"
      ]
     },
     "metadata": {},
     "output_type": "display_data"
    },
    {
     "data": {
      "text/html": [
       "\n",
       "    <div style='color: blue; font-weight: bold;'>Original: Gru? What does that even mean?</div>\n",
       "    <div style='color: green; font-weight: bold;'>Translated: Gru? O que isso significa sequer?</div>\n",
       "    "
      ],
      "text/plain": [
       "<IPython.core.display.HTML object>"
      ]
     },
     "metadata": {},
     "output_type": "display_data"
    },
    {
     "data": {
      "text/html": [
       "\n",
       "    <div style='color: blue; font-weight: bold;'>Original: It means you're bad at lying.</div>\n",
       "    <div style='color: green; font-weight: bold;'>Translated: Isso significa que és mau a mentir.</div>\n",
       "    "
      ],
      "text/plain": [
       "<IPython.core.display.HTML object>"
      ]
     },
     "metadata": {},
     "output_type": "display_data"
    },
    {
     "data": {
      "text/html": [
       "\n",
       "    <div style='color: blue; font-weight: bold;'>Original: Hey. That's not nice.</div>\n",
       "    <div style='color: green; font-weight: bold;'>Translated: Olá. Isso não é simpático.</div>\n",
       "    "
      ],
      "text/plain": [
       "<IPython.core.display.HTML object>"
      ]
     },
     "metadata": {},
     "output_type": "display_data"
    },
    {
     "data": {
      "text/html": [
       "\n",
       "    <div style='color: blue; font-weight: bold;'>Original: Ever hear of\n",
       "respecting your elders?</div>\n",
       "    <div style='color: green; font-weight: bold;'>Translated: Já ouviste falar em respeitar os mais velhos?</div>\n",
       "    "
      ],
      "text/plain": [
       "<IPython.core.display.HTML object>"
      ]
     },
     "metadata": {},
     "output_type": "display_data"
    },
    {
     "data": {
      "text/html": [
       "\n",
       "    <div style='color: blue; font-weight: bold;'>Original: I don't respect boomers.</div>\n",
       "    <div style='color: green; font-weight: bold;'>Translated: Eu não respeito os boomers.</div>\n",
       "    "
      ],
      "text/plain": [
       "<IPython.core.display.HTML object>"
      ]
     },
     "metadata": {},
     "output_type": "display_data"
    },
    {
     "data": {
      "text/html": [
       "\n",
       "    <div style='color: blue; font-weight: bold;'>Original: I just mock them.</div>\n",
       "    <div style='color: green; font-weight: bold;'>Translated: Eu apenas gozo com eles.</div>\n",
       "    "
      ],
      "text/plain": [
       "<IPython.core.display.HTML object>"
      ]
     },
     "metadata": {},
     "output_type": "display_data"
    },
    {
     "data": {
      "text/html": [
       "\n",
       "    <div style='color: blue; font-weight: bold;'>Original: Ah, ha, ha. Is that, like,\n",
       "a joke you read on the Web?</div>\n",
       "    <div style='color: green; font-weight: bold;'>Translated: Ah, ha, ha. Isso é, tipo,\n",
       "uma piada que leste na Internet?</div>\n",
       "    "
      ],
      "text/plain": [
       "<IPython.core.display.HTML object>"
      ]
     },
     "metadata": {},
     "output_type": "display_data"
    },
    {
     "data": {
      "text/html": [
       "\n",
       "    <div style='color: blue; font-weight: bold;'>Original: Wow. \"The Web\"? How old are you?</div>\n",
       "    <div style='color: green; font-weight: bold;'>Translated: Uau. \"A Web\"? Quantos anos tens?</div>\n",
       "    "
      ],
      "text/plain": [
       "<IPython.core.display.HTML object>"
      ]
     },
     "metadata": {},
     "output_type": "display_data"
    },
    {
     "data": {
      "text/html": [
       "\n",
       "    <div style='color: blue; font-weight: bold;'>Original: Well, old enough to know\n",
       "that you are a rotten little--</div>\n",
       "    <div style='color: green; font-weight: bold;'>Translated: Bem velho o suficiente para saber\n",
       "que és um pequeno podre--</div>\n",
       "    "
      ],
      "text/plain": [
       "<IPython.core.display.HTML object>"
      ]
     },
     "metadata": {},
     "output_type": "display_data"
    },
    {
     "data": {
      "text/html": [
       "\n",
       "    <div style='color: blue; font-weight: bold;'>Original: Huh?</div>\n",
       "    <div style='color: green; font-weight: bold;'>Translated: Hã?</div>\n",
       "    "
      ],
      "text/plain": [
       "<IPython.core.display.HTML object>"
      ]
     },
     "metadata": {},
     "output_type": "display_data"
    },
    {
     "data": {
      "text/html": [
       "\n",
       "    <div style='color: blue; font-weight: bold;'>Original: You better watch yourself.</div>\n",
       "    <div style='color: green; font-weight: bold;'>Translated: É melhor teres cuidado contigo mesmo.</div>\n",
       "    "
      ],
      "text/plain": [
       "<IPython.core.display.HTML object>"
      ]
     },
     "metadata": {},
     "output_type": "display_data"
    },
    {
     "data": {
      "text/html": [
       "\n",
       "    <div style='color: blue; font-weight: bold;'>Original: Ooh-hoo. Oof.</div>\n",
       "    <div style='color: green; font-weight: bold;'>Translated: Ui-ui. Ai.</div>\n",
       "    "
      ],
      "text/plain": [
       "<IPython.core.display.HTML object>"
      ]
     },
     "metadata": {},
     "output_type": "display_data"
    },
    {
     "data": {
      "text/html": [
       "\n",
       "    <div style='color: blue; font-weight: bold;'>Original: You used to be a master villain.</div>\n",
       "    <div style='color: green; font-weight: bold;'>Translated: Costumavas ser um mestre vilão.</div>\n",
       "    "
      ],
      "text/plain": [
       "<IPython.core.display.HTML object>"
      ]
     },
     "metadata": {},
     "output_type": "display_data"
    },
    {
     "data": {
      "text/html": [
       "\n",
       "    <div style='color: blue; font-weight: bold;'>Original: That's not me.\n",
       "I don't even see a resemblance.</div>\n",
       "    <div style='color: green; font-weight: bold;'>Translated: Isso não sou eu.\n",
       "Nem vejo semelhança.</div>\n",
       "    "
      ],
      "text/plain": [
       "<IPython.core.display.HTML object>"
      ]
     },
     "metadata": {},
     "output_type": "display_data"
    },
    {
     "data": {
      "text/html": [
       "\n",
       "    <div style='color: blue; font-weight: bold;'>Original: Clearly, you have the wrong guy,\n",
       "as I sell, mmm, solar panels.</div>\n",
       "    <div style='color: green; font-weight: bold;'>Translated: Claramente, enganou-se na pessoa,\n",
       "pois eu vendo, mmm, painéis solares.</div>\n",
       "    "
      ],
      "text/plain": [
       "<IPython.core.display.HTML object>"
      ]
     },
     "metadata": {},
     "output_type": "display_data"
    },
    {
     "data": {
      "text/html": [
       "\n",
       "    <div style='color: blue; font-weight: bold;'>Original: Oh, don't worry.\n",
       "I'm not gonna expose you.</div>\n",
       "    <div style='color: green; font-weight: bold;'>Translated: Ah, não te preocupes.\n",
       "Não te vou expor.</div>\n",
       "    "
      ],
      "text/plain": [
       "<IPython.core.display.HTML object>"
      ]
     },
     "metadata": {},
     "output_type": "display_data"
    },
    {
     "data": {
      "text/html": [
       "\n",
       "    <div style='color: blue; font-weight: bold;'>Original: Because you're gonna\n",
       "help me pull a heist.</div>\n",
       "    <div style='color: green; font-weight: bold;'>Translated: Porque vais ajudar-me a fazer um assalto.</div>\n",
       "    "
      ],
      "text/plain": [
       "<IPython.core.display.HTML object>"
      ]
     },
     "metadata": {},
     "output_type": "display_data"
    },
    {
     "data": {
      "text/html": [
       "\n",
       "    <div style='color: blue; font-weight: bold;'>Original: We start planning tomorrow.</div>\n",
       "    <div style='color: green; font-weight: bold;'>Translated: Começamos a planear amanhã.</div>\n",
       "    "
      ],
      "text/plain": [
       "<IPython.core.display.HTML object>"
      ]
     },
     "metadata": {},
     "output_type": "display_data"
    },
    {
     "data": {
      "text/html": [
       "\n",
       "    <div style='color: blue; font-weight: bold;'>Original: You want to pull a heist?</div>\n",
       "    <div style='color: green; font-weight: bold;'>Translated: Queres fazer um assalto?</div>\n",
       "    "
      ],
      "text/plain": [
       "<IPython.core.display.HTML object>"
      ]
     },
     "metadata": {},
     "output_type": "display_data"
    },
    {
     "data": {
      "text/html": [
       "\n",
       "    <div style='color: blue; font-weight: bold;'>Original: Listen, kid,\n",
       "I'm not going to--</div>\n",
       "    <div style='color: green; font-weight: bold;'>Translated: Ouve, miúdo,\n",
       "Eu não vou--</div>\n",
       "    "
      ],
      "text/plain": [
       "<IPython.core.display.HTML object>"
      ]
     },
     "metadata": {},
     "output_type": "display_data"
    },
    {
     "data": {
      "text/html": [
       "\n",
       "    <div style='color: blue; font-weight: bold;'>Original: No. You listen, old man.</div>\n",
       "    <div style='color: green; font-weight: bold;'>Translated: Não. Ouve, homem velho.</div>\n",
       "    "
      ],
      "text/plain": [
       "<IPython.core.display.HTML object>"
      ]
     },
     "metadata": {},
     "output_type": "display_data"
    },
    {
     "data": {
      "text/html": [
       "\n",
       "    <div style='color: blue; font-weight: bold;'>Original: Ow.\n",
       "I own you.</div>\n",
       "    <div style='color: green; font-weight: bold;'>Translated: Ai.\n",
       "Eu possuo-te.</div>\n",
       "    "
      ],
      "text/plain": [
       "<IPython.core.display.HTML object>"
      ]
     },
     "metadata": {},
     "output_type": "display_data"
    },
    {
     "data": {
      "text/html": [
       "\n",
       "    <div style='color: blue; font-weight: bold;'>Original: And I promise,\n",
       "you do not want to cross me.</div>\n",
       "    <div style='color: green; font-weight: bold;'>Translated: E eu prometo,\n",
       "não vais querer enfrentar-me.</div>\n",
       "    "
      ],
      "text/plain": [
       "<IPython.core.display.HTML object>"
      ]
     },
     "metadata": {},
     "output_type": "display_data"
    },
    {
     "data": {
      "text/html": [
       "\n",
       "    <div style='color: blue; font-weight: bold;'>Original: But tomorrow is\n",
       "not really good timing.</div>\n",
       "    <div style='color: green; font-weight: bold;'>Translated: Mas amanhã\n",
       "não é realmente uma boa altura.</div>\n",
       "    "
      ],
      "text/plain": [
       "<IPython.core.display.HTML object>"
      ]
     },
     "metadata": {},
     "output_type": "display_data"
    },
    {
     "data": {
      "text/html": [
       "\n",
       "    <div style='color: blue; font-weight: bold;'>Original: Bummer for you.</div>\n",
       "    <div style='color: green; font-weight: bold;'>Translated: Que azar para ti.</div>\n",
       "    "
      ],
      "text/plain": [
       "<IPython.core.display.HTML object>"
      ]
     },
     "metadata": {},
     "output_type": "display_data"
    },
    {
     "data": {
      "text/html": [
       "\n",
       "    <div style='color: blue; font-weight: bold;'>Original: Because this is happening.</div>\n",
       "    <div style='color: green; font-weight: bold;'>Translated: Porque isto está a acontecer.</div>\n",
       "    "
      ],
      "text/plain": [
       "<IPython.core.display.HTML object>"
      ]
     },
     "metadata": {},
     "output_type": "display_data"
    },
    {
     "data": {
      "text/html": [
       "\n",
       "    <div style='color: blue; font-weight: bold;'>Original: Unless you want the whole world\n",
       "to know exactly who you are...</div>\n",
       "    <div style='color: green; font-weight: bold;'>Translated: A menos que queiras que o mundo inteiro\n",
       "saiba exatamente quem és...</div>\n",
       "    "
      ],
      "text/plain": [
       "<IPython.core.display.HTML object>"
      ]
     },
     "metadata": {},
     "output_type": "display_data"
    },
    {
     "data": {
      "text/html": [
       "\n",
       "    <div style='color: blue; font-weight: bold;'>Original: Gru.</div>\n",
       "    <div style='color: green; font-weight: bold;'>Translated: Gru.</div>\n",
       "    "
      ],
      "text/plain": [
       "<IPython.core.display.HTML object>"
      ]
     },
     "metadata": {},
     "output_type": "display_data"
    },
    {
     "data": {
      "text/html": [
       "\n",
       "    <div style='color: blue; font-weight: bold;'>Original: She is terrifying.</div>\n",
       "    <div style='color: green; font-weight: bold;'>Translated: Ela é aterradora.</div>\n",
       "    "
      ],
      "text/plain": [
       "<IPython.core.display.HTML object>"
      ]
     },
     "metadata": {},
     "output_type": "display_data"
    },
    {
     "data": {
      "text/html": [
       "\n",
       "    <div style='color: blue; font-weight: bold;'>Original: Ow!\n",
       "Ooh!</div>\n",
       "    <div style='color: green; font-weight: bold;'>Translated: Ai!\n",
       "Ui!</div>\n",
       "    "
      ],
      "text/plain": [
       "<IPython.core.display.HTML object>"
      ]
     },
     "metadata": {},
     "output_type": "display_data"
    },
    {
     "data": {
      "text/html": [
       "\n",
       "    <div style='color: blue; font-weight: bold;'>Original: Whoo-hoo-hoo!</div>\n",
       "    <div style='color: green; font-weight: bold;'>Translated: Uhu-hu-hu!</div>\n",
       "    "
      ],
      "text/plain": [
       "<IPython.core.display.HTML object>"
      ]
     },
     "metadata": {},
     "output_type": "display_data"
    },
    {
     "data": {
      "text/html": [
       "\n",
       "    <div style='color: blue; font-weight: bold;'>Original: ...five!</div>\n",
       "    <div style='color: green; font-weight: bold;'>Translated: ...cinco!</div>\n",
       "    "
      ],
      "text/plain": [
       "<IPython.core.display.HTML object>"
      ]
     },
     "metadata": {},
     "output_type": "display_data"
    },
    {
     "data": {
      "text/html": [
       "\n",
       "    <div style='color: blue; font-weight: bold;'>Original: Oh!</div>\n",
       "    <div style='color: green; font-weight: bold;'>Translated: Ah!</div>\n",
       "    "
      ],
      "text/plain": [
       "<IPython.core.display.HTML object>"
      ]
     },
     "metadata": {},
     "output_type": "display_data"
    },
    {
     "data": {
      "text/html": [
       "\n",
       "    <div style='color: blue; font-weight: bold;'>Original: Yay!</div>\n",
       "    <div style='color: green; font-weight: bold;'>Translated: Viva!</div>\n",
       "    "
      ],
      "text/plain": [
       "<IPython.core.display.HTML object>"
      ]
     },
     "metadata": {},
     "output_type": "display_data"
    },
    {
     "data": {
      "text/html": [
       "\n",
       "    <div style='color: blue; font-weight: bold;'>Original: Aw.</div>\n",
       "    <div style='color: green; font-weight: bold;'>Translated: Ai.</div>\n",
       "    "
      ],
      "text/plain": [
       "<IPython.core.display.HTML object>"
      ]
     },
     "metadata": {},
     "output_type": "display_data"
    },
    {
     "data": {
      "text/html": [
       "\n",
       "    <div style='color: blue; font-weight: bold;'>Original: Hey, Jiminy!</div>\n",
       "    <div style='color: green; font-weight: bold;'>Translated: Olá, Jiminy!</div>\n",
       "    "
      ],
      "text/plain": [
       "<IPython.core.display.HTML object>"
      ]
     },
     "metadata": {},
     "output_type": "display_data"
    },
    {
     "data": {
      "text/html": [
       "\n",
       "    <div style='color: blue; font-weight: bold;'>Original: No problemo.</div>\n",
       "    <div style='color: green; font-weight: bold;'>Translated: Sem problema.</div>\n",
       "    "
      ],
      "text/plain": [
       "<IPython.core.display.HTML object>"
      ]
     },
     "metadata": {},
     "output_type": "display_data"
    },
    {
     "data": {
      "text/html": [
       "\n",
       "    <div style='color: blue; font-weight: bold;'>Original: Oh, phew.</div>\n",
       "    <div style='color: green; font-weight: bold;'>Translated: Ah, ainda bem.</div>\n",
       "    "
      ],
      "text/plain": [
       "<IPython.core.display.HTML object>"
      ]
     },
     "metadata": {},
     "output_type": "display_data"
    },
    {
     "data": {
      "text/html": [
       "\n",
       "    <div style='color: blue; font-weight: bold;'>Original: Oy.</div>\n",
       "    <div style='color: green; font-weight: bold;'>Translated: Olá.</div>\n",
       "    "
      ],
      "text/plain": [
       "<IPython.core.display.HTML object>"
      ]
     },
     "metadata": {},
     "output_type": "display_data"
    },
    {
     "data": {
      "text/html": [
       "\n",
       "    <div style='color: blue; font-weight: bold;'>Original: All right, all right.\n",
       "Settle down.</div>\n",
       "    <div style='color: green; font-weight: bold;'>Translated: Está bem, está bem.\n",
       "Acalmem-se.</div>\n",
       "    "
      ],
      "text/plain": [
       "<IPython.core.display.HTML object>"
      ]
     },
     "metadata": {},
     "output_type": "display_data"
    },
    {
     "data": {
      "text/html": [
       "\n",
       "    <div style='color: blue; font-weight: bold;'>Original: Settle down!</div>\n",
       "    <div style='color: green; font-weight: bold;'>Translated: Acalma-te!</div>\n",
       "    "
      ],
      "text/plain": [
       "<IPython.core.display.HTML object>"
      ]
     },
     "metadata": {},
     "output_type": "display_data"
    },
    {
     "data": {
      "text/html": [
       "\n",
       "    <div style='color: blue; font-weight: bold;'>Original: Thank you.</div>\n",
       "    <div style='color: green; font-weight: bold;'>Translated: Obrigado.</div>\n",
       "    "
      ],
      "text/plain": [
       "<IPython.core.display.HTML object>"
      ]
     },
     "metadata": {},
     "output_type": "display_data"
    },
    {
     "data": {
      "text/html": [
       "\n",
       "    <div style='color: blue; font-weight: bold;'>Original: It's time to get you out\n",
       "for some real-world training.</div>\n",
       "    <div style='color: green; font-weight: bold;'>Translated: É hora de te levar para fora\n",
       "para um treino no mundo real.</div>\n",
       "    "
      ],
      "text/plain": [
       "<IPython.core.display.HTML object>"
      ]
     },
     "metadata": {},
     "output_type": "display_data"
    },
    {
     "data": {
      "text/html": [
       "\n",
       "    <div style='color: blue; font-weight: bold;'>Original: Liberty.</div>\n",
       "    <div style='color: green; font-weight: bold;'>Translated: Liberdade.</div>\n",
       "    "
      ],
      "text/plain": [
       "<IPython.core.display.HTML object>"
      ]
     },
     "metadata": {},
     "output_type": "display_data"
    },
    {
     "data": {
      "text/html": [
       "\n",
       "    <div style='color: blue; font-weight: bold;'>Original: And, if you do well out there,</div>\n",
       "    <div style='color: green; font-weight: bold;'>Translated: E, se te saíres bem lá fora,</div>\n",
       "    "
      ],
      "text/plain": [
       "<IPython.core.display.HTML object>"
      ]
     },
     "metadata": {},
     "output_type": "display_data"
    },
    {
     "data": {
      "text/html": [
       "\n",
       "    <div style='color: blue; font-weight: bold;'>Original: you'll be\n",
       "the AVL's new secret weapon.</div>\n",
       "    <div style='color: green; font-weight: bold;'>Translated: serás\n",
       "a nova arma secreta da AVL.</div>\n",
       "    "
      ],
      "text/plain": [
       "<IPython.core.display.HTML object>"
      ]
     },
     "metadata": {},
     "output_type": "display_data"
    },
    {
     "data": {
      "text/html": [
       "\n",
       "    <div style='color: blue; font-weight: bold;'>Original: Pomodoro!</div>\n",
       "    <div style='color: green; font-weight: bold;'>Translated: Pomodoro!</div>\n",
       "    "
      ],
      "text/plain": [
       "<IPython.core.display.HTML object>"
      ]
     },
     "metadata": {},
     "output_type": "display_data"
    },
    {
     "data": {
      "text/html": [
       "\n",
       "    <div style='color: blue; font-weight: bold;'>Original: Pomodoro!</div>\n",
       "    <div style='color: green; font-weight: bold;'>Translated: Pomodoro!</div>\n",
       "    "
      ],
      "text/plain": [
       "<IPython.core.display.HTML object>"
      ]
     },
     "metadata": {},
     "output_type": "display_data"
    },
    {
     "data": {
      "text/html": [
       "\n",
       "    <div style='color: blue; font-weight: bold;'>Original: Ouch.</div>\n",
       "    <div style='color: green; font-weight: bold;'>Translated: Ai.</div>\n",
       "    "
      ],
      "text/plain": [
       "<IPython.core.display.HTML object>"
      ]
     },
     "metadata": {},
     "output_type": "display_data"
    },
    {
     "data": {
      "text/html": [
       "\n",
       "    <div style='color: blue; font-weight: bold;'>Original: I'm quite sure\n",
       "I won't regret this.</div>\n",
       "    <div style='color: green; font-weight: bold;'>Translated: Tenho a certeza\n",
       "de que não me vou arrepender disto.</div>\n",
       "    "
      ],
      "text/plain": [
       "<IPython.core.display.HTML object>"
      ]
     },
     "metadata": {},
     "output_type": "display_data"
    },
    {
     "data": {
      "text/html": [
       "\n",
       "    <div style='color: blue; font-weight: bold;'>Original: No.\n",
       "The painters canceled.\n",
       "Uh-huh.</div>\n",
       "    <div style='color: green; font-weight: bold;'>Translated: Não.\n",
       "Os pintores cancelaram.</div>\n",
       "    "
      ],
      "text/plain": [
       "<IPython.core.display.HTML object>"
      ]
     },
     "metadata": {},
     "output_type": "display_data"
    },
    {
     "data": {
      "text/html": [
       "\n",
       "    <div style='color: blue; font-weight: bold;'>Original: True story.\n",
       "Wow.</div>\n",
       "    <div style='color: green; font-weight: bold;'>Translated: História verdadeira.\n",
       "Uau.</div>\n",
       "    "
      ],
      "text/plain": [
       "<IPython.core.display.HTML object>"
      ]
     },
     "metadata": {},
     "output_type": "display_data"
    },
    {
     "data": {
      "text/html": [
       "\n",
       "    <div style='color: blue; font-weight: bold;'>Original: I don't know\n",
       "what is the deal with--</div>\n",
       "    <div style='color: green; font-weight: bold;'>Translated: Eu não sei\n",
       "qual é o problema com--</div>\n",
       "    "
      ],
      "text/plain": [
       "<IPython.core.display.HTML object>"
      ]
     },
     "metadata": {},
     "output_type": "display_data"
    },
    {
     "data": {
      "text/html": [
       "\n",
       "    <div style='color: blue; font-weight: bold;'>Original: Morning, neighbors.</div>\n",
       "    <div style='color: green; font-weight: bold;'>Translated: Bom dia, vizinhos.</div>\n",
       "    "
      ],
      "text/plain": [
       "<IPython.core.display.HTML object>"
      ]
     },
     "metadata": {},
     "output_type": "display_data"
    },
    {
     "data": {
      "text/html": [
       "\n",
       "    <div style='color: blue; font-weight: bold;'>Original: Hey there!</div>\n",
       "    <div style='color: green; font-weight: bold;'>Translated: Olá!</div>\n",
       "    "
      ],
      "text/plain": [
       "<IPython.core.display.HTML object>"
      ]
     },
     "metadata": {},
     "output_type": "display_data"
    },
    {
     "data": {
      "text/html": [
       "\n",
       "    <div style='color: blue; font-weight: bold;'>Original: Still waiting on\n",
       "that invite, Perry.</div>\n",
       "    <div style='color: green; font-weight: bold;'>Translated: Ainda à espera\n",
       "do convite, Perry.</div>\n",
       "    "
      ],
      "text/plain": [
       "<IPython.core.display.HTML object>"
      ]
     },
     "metadata": {},
     "output_type": "display_data"
    },
    {
     "data": {
      "text/html": [
       "\n",
       "    <div style='color: blue; font-weight: bold;'>Original: Ugh.\n",
       "Oh!</div>\n",
       "    <div style='color: green; font-weight: bold;'>Translated: Ai.\n",
       "Ah!</div>\n",
       "    "
      ],
      "text/plain": [
       "<IPython.core.display.HTML object>"
      ]
     },
     "metadata": {},
     "output_type": "display_data"
    },
    {
     "data": {
      "text/html": [
       "\n",
       "    <div style='color: blue; font-weight: bold;'>Original: No. No, no.\n",
       "Yoo-hoo!</div>\n",
       "    <div style='color: green; font-weight: bold;'>Translated: Não. Não, não.\n",
       "Olá!</div>\n",
       "    "
      ],
      "text/plain": [
       "<IPython.core.display.HTML object>"
      ]
     },
     "metadata": {},
     "output_type": "display_data"
    },
    {
     "data": {
      "text/html": [
       "\n",
       "    <div style='color: blue; font-weight: bold;'>Original: Patsy!\n",
       "Oh, neighbors.</div>\n",
       "    <div style='color: green; font-weight: bold;'>Translated: Patsy!\n",
       "Oh, vizinhos.</div>\n",
       "    "
      ],
      "text/plain": [
       "<IPython.core.display.HTML object>"
      ]
     },
     "metadata": {},
     "output_type": "display_data"
    },
    {
     "data": {
      "text/html": [
       "\n",
       "    <div style='color: blue; font-weight: bold;'>Original: Oh, Patsy.</div>\n",
       "    <div style='color: green; font-weight: bold;'>Translated: Oh, Patsy.</div>\n",
       "    "
      ],
      "text/plain": [
       "<IPython.core.display.HTML object>"
      ]
     },
     "metadata": {},
     "output_type": "display_data"
    },
    {
     "data": {
      "text/html": [
       "\n",
       "    <div style='color: blue; font-weight: bold;'>Original: Hi there.\n",
       "I'm Perry's wife, Patsy.</div>\n",
       "    <div style='color: green; font-weight: bold;'>Translated: Olá.\n",
       "Sou a esposa do Perry, Patsy.</div>\n",
       "    "
      ],
      "text/plain": [
       "<IPython.core.display.HTML object>"
      ]
     },
     "metadata": {},
     "output_type": "display_data"
    },
    {
     "data": {
      "text/html": [
       "\n",
       "    <div style='color: blue; font-weight: bold;'>Original: Oh! I'm Blanche.\n",
       "And this is Chet.</div>\n",
       "    <div style='color: green; font-weight: bold;'>Translated: Ah! Eu sou a Blanche.\n",
       "E este é o Chet.</div>\n",
       "    "
      ],
      "text/plain": [
       "<IPython.core.display.HTML object>"
      ]
     },
     "metadata": {},
     "output_type": "display_data"
    },
    {
     "data": {
      "text/html": [
       "\n",
       "    <div style='color: blue; font-weight: bold;'>Original: Hi. So, I look over here\n",
       "and I see you...</div>\n",
       "    <div style='color: green; font-weight: bold;'>Translated: Olá. Então, eu olho para aqui\n",
       "e vejo-te...</div>\n",
       "    "
      ],
      "text/plain": [
       "<IPython.core.display.HTML object>"
      ]
     },
     "metadata": {},
     "output_type": "display_data"
    },
    {
     "data": {
      "text/html": [
       "\n",
       "    <div style='color: blue; font-weight: bold;'>Original: ...and I have\n",
       "one of my brilliant ideas.</div>\n",
       "    <div style='color: green; font-weight: bold;'>Translated: ...e tive uma das minhas ideias brilhantes.</div>\n",
       "    "
      ],
      "text/plain": [
       "<IPython.core.display.HTML object>"
      ]
     },
     "metadata": {},
     "output_type": "display_data"
    },
    {
     "data": {
      "text/html": [
       "\n",
       "    <div style='color: blue; font-weight: bold;'>Original: Perry needs a fourth\n",
       "for tennis tomorrow.</div>\n",
       "    <div style='color: green; font-weight: bold;'>Translated: O Perry precisa de um quarto jogador para ténis amanhã.</div>\n",
       "    "
      ],
      "text/plain": [
       "<IPython.core.display.HTML object>"
      ]
     },
     "metadata": {},
     "output_type": "display_data"
    },
    {
     "data": {
      "text/html": [
       "\n",
       "    <div style='color: blue; font-weight: bold;'>Original: Oh, honey.</div>\n",
       "    <div style='color: green; font-weight: bold;'>Translated: Oh, querida.</div>\n",
       "    "
      ],
      "text/plain": [
       "<IPython.core.display.HTML object>"
      ]
     },
     "metadata": {},
     "output_type": "display_data"
    },
    {
     "data": {
      "text/html": [
       "\n",
       "    <div style='color: blue; font-weight: bold;'>Original: I don't know.</div>\n",
       "    <div style='color: green; font-weight: bold;'>Translated: Eu não sei.</div>\n",
       "    "
      ],
      "text/plain": [
       "<IPython.core.display.HTML object>"
      ]
     },
     "metadata": {},
     "output_type": "display_data"
    },
    {
     "data": {
      "text/html": [
       "\n",
       "    <div style='color: blue; font-weight: bold;'>Original: He doesn't seem like\n",
       "much of a tennis guy.</div>\n",
       "    <div style='color: green; font-weight: bold;'>Translated: Ele não parece ser muito adepto de ténis.</div>\n",
       "    "
      ],
      "text/plain": [
       "<IPython.core.display.HTML object>"
      ]
     },
     "metadata": {},
     "output_type": "display_data"
    },
    {
     "data": {
      "text/html": [
       "\n",
       "    <div style='color: blue; font-weight: bold;'>Original: Much of a tennis guy?\n",
       "I'm too much of a tennis guy.</div>\n",
       "    <div style='color: green; font-weight: bold;'>Translated: Gostas muito de ténis?\n",
       "Eu gosto demasiado de ténis.</div>\n",
       "    "
      ],
      "text/plain": [
       "<IPython.core.display.HTML object>"
      ]
     },
     "metadata": {},
     "output_type": "display_data"
    },
    {
     "data": {
      "text/html": [
       "\n",
       "    <div style='color: blue; font-weight: bold;'>Original: I'm Mr. Tennis.</div>\n",
       "    <div style='color: green; font-weight: bold;'>Translated: Sou o Sr. Ténis.</div>\n",
       "    "
      ],
      "text/plain": [
       "<IPython.core.display.HTML object>"
      ]
     },
     "metadata": {},
     "output_type": "display_data"
    },
    {
     "data": {
      "text/html": [
       "\n",
       "    <div style='color: blue; font-weight: bold;'>Original: It's my favorite\n",
       "of all the sports games.</div>\n",
       "    <div style='color: green; font-weight: bold;'>Translated: É o meu favorito\n",
       "de todos os jogos desportivos.</div>\n",
       "    "
      ],
      "text/plain": [
       "<IPython.core.display.HTML object>"
      ]
     },
     "metadata": {},
     "output_type": "display_data"
    },
    {
     "data": {
      "text/html": [
       "\n",
       "    <div style='color: blue; font-weight: bold;'>Original: With the racket\n",
       "and with the balls.\n",
       "So yellow and fuzzy.</div>\n",
       "    <div style='color: green; font-weight: bold;'>Translated: Com a raquete\n",
       "e com as bolas.</div>\n",
       "    "
      ],
      "text/plain": [
       "<IPython.core.display.HTML object>"
      ]
     },
     "metadata": {},
     "output_type": "display_data"
    },
    {
     "data": {
      "text/html": [
       "\n",
       "    <div style='color: blue; font-weight: bold;'>Original: Oh, then we're all set.</div>\n",
       "    <div style='color: green; font-weight: bold;'>Translated: Ah, então estamos todos prontos.</div>\n",
       "    "
      ],
      "text/plain": [
       "<IPython.core.display.HTML object>"
      ]
     },
     "metadata": {},
     "output_type": "display_data"
    },
    {
     "data": {
      "text/html": [
       "\n",
       "    <div style='color: blue; font-weight: bold;'>Original: See you two\n",
       "at the club tomorrow.</div>\n",
       "    <div style='color: green; font-weight: bold;'>Translated: Vejo-vos aos dois\n",
       "no clube amanhã.</div>\n",
       "    "
      ],
      "text/plain": [
       "<IPython.core.display.HTML object>"
      ]
     },
     "metadata": {},
     "output_type": "display_data"
    },
    {
     "data": {
      "text/html": [
       "\n",
       "    <div style='color: blue; font-weight: bold;'>Original: Toodle-oo!</div>\n",
       "    <div style='color: green; font-weight: bold;'>Translated: Adeus!</div>\n",
       "    "
      ],
      "text/plain": [
       "<IPython.core.display.HTML object>"
      ]
     },
     "metadata": {},
     "output_type": "display_data"
    },
    {
     "data": {
      "text/html": [
       "\n",
       "    <div style='color: blue; font-weight: bold;'>Original: Okay. Toodle-oo\n",
       "to you two too.</div>\n",
       "    <div style='color: green; font-weight: bold;'>Translated: Até já. Para vocês os dois também.</div>\n",
       "    "
      ],
      "text/plain": [
       "<IPython.core.display.HTML object>"
      ]
     },
     "metadata": {},
     "output_type": "display_data"
    },
    {
     "data": {
      "text/html": [
       "\n",
       "    <div style='color: blue; font-weight: bold;'>Original: So, you-- you play tennis?</div>\n",
       "    <div style='color: green; font-weight: bold;'>Translated: Então, tu-- tu jogas ténis?</div>\n",
       "    "
      ],
      "text/plain": [
       "<IPython.core.display.HTML object>"
      ]
     },
     "metadata": {},
     "output_type": "display_data"
    },
    {
     "data": {
      "text/html": [
       "\n",
       "    <div style='color: blue; font-weight: bold;'>Original: Yes. Yes. I play tennis.</div>\n",
       "    <div style='color: green; font-weight: bold;'>Translated: Sim. Sim. Eu jogo ténis.</div>\n",
       "    "
      ],
      "text/plain": [
       "<IPython.core.display.HTML object>"
      ]
     },
     "metadata": {},
     "output_type": "display_data"
    },
    {
     "data": {
      "text/html": [
       "\n",
       "    <div style='color: blue; font-weight: bold;'>Original: I'm pretty fantastic actually.</div>\n",
       "    <div style='color: green; font-weight: bold;'>Translated: Na verdade, estou bastante fantástico.</div>\n",
       "    "
      ],
      "text/plain": [
       "<IPython.core.display.HTML object>"
      ]
     },
     "metadata": {},
     "output_type": "display_data"
    },
    {
     "data": {
      "text/html": [
       "\n",
       "    <div style='color: blue; font-weight: bold;'>Original: Well, at least\n",
       "I was at summer camp.</div>\n",
       "    <div style='color: green; font-weight: bold;'>Translated: Bem, pelo menos\n",
       "eu estava no campo de férias.</div>\n",
       "    "
      ],
      "text/plain": [
       "<IPython.core.display.HTML object>"
      ]
     },
     "metadata": {},
     "output_type": "display_data"
    },
    {
     "data": {
      "text/html": [
       "\n",
       "    <div style='color: blue; font-weight: bold;'>Original: Wow. That's great.\n",
       "Here you go.</div>\n",
       "    <div style='color: green; font-weight: bold;'>Translated: Uau. Isso é ótimo.\n",
       "Aqui tens.</div>\n",
       "    "
      ],
      "text/plain": [
       "<IPython.core.display.HTML object>"
      ]
     },
     "metadata": {},
     "output_type": "display_data"
    },
    {
     "data": {
      "text/html": [
       "\n",
       "    <div style='color: blue; font-weight: bold;'>Original: - Okay, bye.</div>\n",
       "    <div style='color: green; font-weight: bold;'>Translated: - Está bem, adeus.</div>\n",
       "    "
      ],
      "text/plain": [
       "<IPython.core.display.HTML object>"
      ]
     },
     "metadata": {},
     "output_type": "display_data"
    },
    {
     "data": {
      "text/html": [
       "\n",
       "    <div style='color: blue; font-weight: bold;'>Original: Have fun!</div>\n",
       "    <div style='color: green; font-weight: bold;'>Translated: Diverte-te!</div>\n",
       "    "
      ],
      "text/plain": [
       "<IPython.core.display.HTML object>"
      ]
     },
     "metadata": {},
     "output_type": "display_data"
    },
    {
     "data": {
      "text/html": [
       "\n",
       "    <div style='color: blue; font-weight: bold;'>Original: There you go.</div>\n",
       "    <div style='color: green; font-weight: bold;'>Translated: Aqui tens.</div>\n",
       "    "
      ],
      "text/plain": [
       "<IPython.core.display.HTML object>"
      ]
     },
     "metadata": {},
     "output_type": "display_data"
    },
    {
     "data": {
      "text/html": [
       "\n",
       "    <div style='color: blue; font-weight: bold;'>Original: Okay.</div>\n",
       "    <div style='color: green; font-weight: bold;'>Translated: Certo.</div>\n",
       "    "
      ],
      "text/plain": [
       "<IPython.core.display.HTML object>"
      ]
     },
     "metadata": {},
     "output_type": "display_data"
    },
    {
     "data": {
      "text/html": [
       "\n",
       "    <div style='color: blue; font-weight: bold;'>Original: Huh?</div>\n",
       "    <div style='color: green; font-weight: bold;'>Translated: Hã?</div>\n",
       "    "
      ],
      "text/plain": [
       "<IPython.core.display.HTML object>"
      ]
     },
     "metadata": {},
     "output_type": "display_data"
    },
    {
     "data": {
      "text/html": [
       "\n",
       "    <div style='color: blue; font-weight: bold;'>Original: What the...</div>\n",
       "    <div style='color: green; font-weight: bold;'>Translated: O que é isto...</div>\n",
       "    "
      ],
      "text/plain": [
       "<IPython.core.display.HTML object>"
      ]
     },
     "metadata": {},
     "output_type": "display_data"
    },
    {
     "data": {
      "text/html": [
       "\n",
       "    <div style='color: blue; font-weight: bold;'>Original: Gru.</div>\n",
       "    <div style='color: green; font-weight: bold;'>Translated: Gru.</div>\n",
       "    "
      ],
      "text/plain": [
       "<IPython.core.display.HTML object>"
      ]
     },
     "metadata": {},
     "output_type": "display_data"
    },
    {
     "data": {
      "text/html": [
       "\n",
       "    <div style='color: blue; font-weight: bold;'>Original: You can't hide from me, Gru.</div>\n",
       "    <div style='color: green; font-weight: bold;'>Translated: Não te podes esconder de mim, Gru.</div>\n",
       "    "
      ],
      "text/plain": [
       "<IPython.core.display.HTML object>"
      ]
     },
     "metadata": {},
     "output_type": "display_data"
    },
    {
     "data": {
      "text/html": [
       "\n",
       "    <div style='color: blue; font-weight: bold;'>Original: <i>Ay!</i> My back is killing me.</div>\n",
       "    <div style='color: green; font-weight: bold;'>Translated: <i>Ay!</i> Estou com uma dor de costas terrível.</div>\n",
       "    "
      ],
      "text/plain": [
       "<IPython.core.display.HTML object>"
      ]
     },
     "metadata": {},
     "output_type": "display_data"
    },
    {
     "data": {
      "text/html": [
       "\n",
       "    <div style='color: blue; font-weight: bold;'>Original: How long is this gonna take?</div>\n",
       "    <div style='color: green; font-weight: bold;'>Translated: Quanto tempo vai demorar?</div>\n",
       "    "
      ],
      "text/plain": [
       "<IPython.core.display.HTML object>"
      ]
     },
     "metadata": {},
     "output_type": "display_data"
    },
    {
     "data": {
      "text/html": [
       "\n",
       "    <div style='color: blue; font-weight: bold;'>Original: It will take\n",
       "as long as it takes.</div>\n",
       "    <div style='color: green; font-weight: bold;'>Translated: Vai demorar\n",
       "o tempo que for necessário.</div>\n",
       "    "
      ],
      "text/plain": [
       "<IPython.core.display.HTML object>"
      ]
     },
     "metadata": {},
     "output_type": "display_data"
    },
    {
     "data": {
      "text/html": [
       "\n",
       "    <div style='color: blue; font-weight: bold;'>Original: Mark my words, Gru will not win.</div>\n",
       "    <div style='color: green; font-weight: bold;'>Translated: Marca as minhas palavras, o Gru não vai ganhar.</div>\n",
       "    "
      ],
      "text/plain": [
       "<IPython.core.display.HTML object>"
      ]
     },
     "metadata": {},
     "output_type": "display_data"
    },
    {
     "data": {
      "text/html": [
       "\n",
       "    <div style='color: blue; font-weight: bold;'>Original: This won't be like\n",
       "the ninth-grade talent show.</div>\n",
       "    <div style='color: green; font-weight: bold;'>Translated: Isto não será como\n",
       "o espetáculo de talentos do nono ano.</div>\n",
       "    "
      ],
      "text/plain": [
       "<IPython.core.display.HTML object>"
      ]
     },
     "metadata": {},
     "output_type": "display_data"
    },
    {
     "data": {
      "text/html": [
       "\n",
       "    <div style='color: blue; font-weight: bold;'>Original: <i>Ay,</i> again with this.</div>\n",
       "    <div style='color: green; font-weight: bold;'>Translated: <i>Ay,</i> outra vez com isto.</div>\n",
       "    "
      ],
      "text/plain": [
       "<IPython.core.display.HTML object>"
      ]
     },
     "metadata": {},
     "output_type": "display_data"
    },
    {
     "data": {
      "text/html": [
       "\n",
       "    <div style='color: blue; font-weight: bold;'>Original: Yes, again.\n",
       "It was a pivotal moment.</div>\n",
       "    <div style='color: green; font-weight: bold;'>Translated: Sim, novamente.\n",
       "Foi um momento crucial.</div>\n",
       "    "
      ],
      "text/plain": [
       "<IPython.core.display.HTML object>"
      ]
     },
     "metadata": {},
     "output_type": "display_data"
    },
    {
     "data": {
      "text/html": [
       "\n",
       "    <div style='color: blue; font-weight: bold;'>Original: Why can't you indulge me?</div>\n",
       "    <div style='color: green; font-weight: bold;'>Translated: Porque não me podes satisfazer?</div>\n",
       "    "
      ],
      "text/plain": [
       "<IPython.core.display.HTML object>"
      ]
     },
     "metadata": {},
     "output_type": "display_data"
    },
    {
     "data": {
      "text/html": [
       "\n",
       "    <div style='color: blue; font-weight: bold;'>Original: It was the night\n",
       "of the big show.</div>\n",
       "    <div style='color: green; font-weight: bold;'>Translated: Era a noite\n",
       "do grande espetáculo.</div>\n",
       "    "
      ],
      "text/plain": [
       "<IPython.core.display.HTML object>"
      ]
     },
     "metadata": {},
     "output_type": "display_data"
    },
    {
     "data": {
      "text/html": [
       "\n",
       "    <div style='color: blue; font-weight: bold;'>Original: <i>I had practiced for weeks,</i></div>\n",
       "    <div style='color: green; font-weight: bold;'>Translated: <i>Eu tinha praticado durante semanas,</i></div>\n",
       "    "
      ],
      "text/plain": [
       "<IPython.core.display.HTML object>"
      ]
     },
     "metadata": {},
     "output_type": "display_data"
    },
    {
     "data": {
      "text/html": [
       "\n",
       "    <div style='color: blue; font-weight: bold;'>Original: <i>perfecting a number that would\n",
       "blow my classmates away.</i></div>\n",
       "    <div style='color: green; font-weight: bold;'>Translated: aperfeiçoando um número que iria\n",
       "deixar os meus colegas de boca aberta.</div>\n",
       "    "
      ],
      "text/plain": [
       "<IPython.core.display.HTML object>"
      ]
     },
     "metadata": {},
     "output_type": "display_data"
    },
    {
     "data": {
      "text/html": [
       "\n",
       "    <div style='color: blue; font-weight: bold;'>Original: <i>♪ Karma, karma\n",
       "Karma, karma chameleon ♪</i></div>\n",
       "    <div style='color: green; font-weight: bold;'>Translated: <i>♪ Karma, karma\n",
       "Karma, karma camaleão ♪</i></div>\n",
       "    "
      ],
      "text/plain": [
       "<IPython.core.display.HTML object>"
      ]
     },
     "metadata": {},
     "output_type": "display_data"
    },
    {
     "data": {
      "text/html": [
       "\n",
       "    <div style='color: blue; font-weight: bold;'>Original: <i>I was about\n",
       "to go on when...</i></div>\n",
       "    <div style='color: green; font-weight: bold;'>Translated: <i>Estava prestes a continuar quando...</i></div>\n",
       "    "
      ],
      "text/plain": [
       "<IPython.core.display.HTML object>"
      ]
     },
     "metadata": {},
     "output_type": "display_data"
    },
    {
     "data": {
      "text/html": [
       "\n",
       "    <div style='color: blue; font-weight: bold;'>Original: What? Wh-- Oh!\n",
       "<i>...I heard it.</i></div>\n",
       "    <div style='color: green; font-weight: bold;'>Translated: O quê? O qu-- Ah!\n",
       "<i>...Eu ouvi.</i></div>\n",
       "    "
      ],
      "text/plain": [
       "<IPython.core.display.HTML object>"
      ]
     },
     "metadata": {},
     "output_type": "display_data"
    },
    {
     "data": {
      "text/html": [
       "\n",
       "    <div style='color: blue; font-weight: bold;'>Original: <i>♪ Karma, karma\n",
       "Karma, karma chameleon ♪</i></div>\n",
       "    <div style='color: green; font-weight: bold;'>Translated: <i>♪ Karma, karma\n",
       "Karma, karma camaleão ♪</i></div>\n",
       "    "
      ],
      "text/plain": [
       "<IPython.core.display.HTML object>"
      ]
     },
     "metadata": {},
     "output_type": "display_data"
    },
    {
     "data": {
      "text/html": [
       "\n",
       "    <div style='color: blue; font-weight: bold;'>Original: <i>There was that little jerk\n",
       "doing my big number.</i></div>\n",
       "    <div style='color: green; font-weight: bold;'>Translated: <i>Lá estava aquele pequeno idiota\n",
       "a fazer o meu grande número.</i></div>\n",
       "    "
      ],
      "text/plain": [
       "<IPython.core.display.HTML object>"
      ]
     },
     "metadata": {},
     "output_type": "display_data"
    },
    {
     "data": {
      "text/html": [
       "\n",
       "    <div style='color: blue; font-weight: bold;'>Original: <i>♪ You come and go ♪</i></div>\n",
       "    <div style='color: green; font-weight: bold;'>Translated: <i>♪ Vens e vais ♪</i></div>\n",
       "    "
      ],
      "text/plain": [
       "<IPython.core.display.HTML object>"
      ]
     },
     "metadata": {},
     "output_type": "display_data"
    },
    {
     "data": {
      "text/html": [
       "\n",
       "    <div style='color: blue; font-weight: bold;'>Original: He ruined everything.</div>\n",
       "    <div style='color: green; font-weight: bold;'>Translated: Ele estragou tudo.</div>\n",
       "    "
      ],
      "text/plain": [
       "<IPython.core.display.HTML object>"
      ]
     },
     "metadata": {},
     "output_type": "display_data"
    },
    {
     "data": {
      "text/html": [
       "\n",
       "    <div style='color: blue; font-weight: bold;'>Original: I couldn't go on after him.\n",
       "I would have looked like a fool.</div>\n",
       "    <div style='color: green; font-weight: bold;'>Translated: Eu não conseguia continuar depois dele.\n",
       "Pareceria um tolo.</div>\n",
       "    "
      ],
      "text/plain": [
       "<IPython.core.display.HTML object>"
      ]
     },
     "metadata": {},
     "output_type": "display_data"
    },
    {
     "data": {
      "text/html": [
       "\n",
       "    <div style='color: blue; font-weight: bold;'>Original: Like I was copying him.</div>\n",
       "    <div style='color: green; font-weight: bold;'>Translated: Como se estivesse a copiá-lo.</div>\n",
       "    "
      ],
      "text/plain": [
       "<IPython.core.display.HTML object>"
      ]
     },
     "metadata": {},
     "output_type": "display_data"
    },
    {
     "data": {
      "text/html": [
       "\n",
       "    <div style='color: blue; font-weight: bold;'>Original: Maybe it was just a coincidence.</div>\n",
       "    <div style='color: green; font-weight: bold;'>Translated: Talvez tenha sido apenas uma coincidência.</div>\n",
       "    "
      ],
      "text/plain": [
       "<IPython.core.display.HTML object>"
      ]
     },
     "metadata": {},
     "output_type": "display_data"
    },
    {
     "data": {
      "text/html": [
       "\n",
       "    <div style='color: blue; font-weight: bold;'>Original: That was a very popular song.</div>\n",
       "    <div style='color: green; font-weight: bold;'>Translated: Essa era uma música muito popular.</div>\n",
       "    "
      ],
      "text/plain": [
       "<IPython.core.display.HTML object>"
      ]
     },
     "metadata": {},
     "output_type": "display_data"
    },
    {
     "data": {
      "text/html": [
       "\n",
       "    <div style='color: blue; font-weight: bold;'>Original: Oh, no, no, no, no. He knew.</div>\n",
       "    <div style='color: green; font-weight: bold;'>Translated: Ah, não, não, não, não. Ele sabia.</div>\n",
       "    "
      ],
      "text/plain": [
       "<IPython.core.display.HTML object>"
      ]
     },
     "metadata": {},
     "output_type": "display_data"
    },
    {
     "data": {
      "text/html": [
       "\n",
       "    <div style='color: blue; font-weight: bold;'>Original: He did it on purpose.</div>\n",
       "    <div style='color: green; font-weight: bold;'>Translated: Ele fez isso de propósito.</div>\n",
       "    "
      ],
      "text/plain": [
       "<IPython.core.display.HTML object>"
      ]
     },
     "metadata": {},
     "output_type": "display_data"
    },
    {
     "data": {
      "text/html": [
       "\n",
       "    <div style='color: blue; font-weight: bold;'>Original: He reveled in\n",
       "humiliating me. Oh!</div>\n",
       "    <div style='color: green; font-weight: bold;'>Translated: Ele deleitava-se em humilhar-me. Oh!</div>\n",
       "    "
      ],
      "text/plain": [
       "<IPython.core.display.HTML object>"
      ]
     },
     "metadata": {},
     "output_type": "display_data"
    },
    {
     "data": {
      "text/html": [
       "\n",
       "    <div style='color: blue; font-weight: bold;'>Original: What now?</div>\n",
       "    <div style='color: green; font-weight: bold;'>Translated: E agora?</div>\n",
       "    "
      ],
      "text/plain": [
       "<IPython.core.display.HTML object>"
      ]
     },
     "metadata": {},
     "output_type": "display_data"
    },
    {
     "data": {
      "text/html": [
       "\n",
       "    <div style='color: blue; font-weight: bold;'>Original: We're low on fuel.</div>\n",
       "    <div style='color: green; font-weight: bold;'>Translated: Estamos com pouco combustível.</div>\n",
       "    "
      ],
      "text/plain": [
       "<IPython.core.display.HTML object>"
      ]
     },
     "metadata": {},
     "output_type": "display_data"
    },
    {
     "data": {
      "text/html": [
       "\n",
       "    <div style='color: blue; font-weight: bold;'>Original: It's always something.</div>\n",
       "    <div style='color: green; font-weight: bold;'>Translated: É sempre alguma coisa.</div>\n",
       "    "
      ],
      "text/plain": [
       "<IPython.core.display.HTML object>"
      ]
     },
     "metadata": {},
     "output_type": "display_data"
    },
    {
     "data": {
      "text/html": [
       "\n",
       "    <div style='color: blue; font-weight: bold;'>Original: Look, I can never focus\n",
       "on just being evil.</div>\n",
       "    <div style='color: green; font-weight: bold;'>Translated: Olha, eu nunca consigo concentrar-me\n",
       "apenas em ser mau.</div>\n",
       "    "
      ],
      "text/plain": [
       "<IPython.core.display.HTML object>"
      ]
     },
     "metadata": {},
     "output_type": "display_data"
    },
    {
     "data": {
      "text/html": [
       "\n",
       "    <div style='color: blue; font-weight: bold;'>Original: Okay. Pull over.</div>\n",
       "    <div style='color: green; font-weight: bold;'>Translated: Está bem. Encosta.</div>\n",
       "    "
      ],
      "text/plain": [
       "<IPython.core.display.HTML object>"
      ]
     },
     "metadata": {},
     "output_type": "display_data"
    },
    {
     "data": {
      "text/html": [
       "\n",
       "    <div style='color: blue; font-weight: bold;'>Original: Okay, let's see.</div>\n",
       "    <div style='color: green; font-weight: bold;'>Translated: Certo, vamos ver.</div>\n",
       "    "
      ],
      "text/plain": [
       "<IPython.core.display.HTML object>"
      ]
     },
     "metadata": {},
     "output_type": "display_data"
    },
    {
     "data": {
      "text/html": [
       "\n",
       "    <div style='color: blue; font-weight: bold;'>Original: Regular unleaded. Oh.</div>\n",
       "    <div style='color: green; font-weight: bold;'>Translated: Gasolina sem chumbo regular. Oh.</div>\n",
       "    "
      ],
      "text/plain": [
       "<IPython.core.display.HTML object>"
      ]
     },
     "metadata": {},
     "output_type": "display_data"
    },
    {
     "data": {
      "text/html": [
       "\n",
       "    <div style='color: blue; font-weight: bold;'>Original: Wow. It is expensive, no?</div>\n",
       "    <div style='color: green; font-weight: bold;'>Translated: Uau. É caro, não é?</div>\n",
       "    "
      ],
      "text/plain": [
       "<IPython.core.display.HTML object>"
      ]
     },
     "metadata": {},
     "output_type": "display_data"
    },
    {
     "data": {
      "text/html": [
       "\n",
       "    <div style='color: blue; font-weight: bold;'>Original: Okay. Insert card\n",
       "and remove rapidly.</div>\n",
       "    <div style='color: green; font-weight: bold;'>Translated: Insira o cartão\n",
       "e retire rapidamente.</div>\n",
       "    "
      ],
      "text/plain": [
       "<IPython.core.display.HTML object>"
      ]
     },
     "metadata": {},
     "output_type": "display_data"
    },
    {
     "data": {
      "text/html": [
       "\n",
       "    <div style='color: blue; font-weight: bold;'>Original: \"Card not read\"?</div>\n",
       "    <div style='color: green; font-weight: bold;'>Translated: \"Cartão não lido\"?</div>\n",
       "    "
      ],
      "text/plain": [
       "<IPython.core.display.HTML object>"
      ]
     },
     "metadata": {},
     "output_type": "display_data"
    },
    {
     "data": {
      "text/html": [
       "\n",
       "    <div style='color: blue; font-weight: bold;'>Original: - Oh, come on.</div>\n",
       "    <div style='color: green; font-weight: bold;'>Translated: - Oh, vá lá.</div>\n",
       "    "
      ],
      "text/plain": [
       "<IPython.core.display.HTML object>"
      ]
     },
     "metadata": {},
     "output_type": "display_data"
    },
    {
     "data": {
      "text/html": [
       "\n",
       "    <div style='color: blue; font-weight: bold;'>Original: Did you pull it out rapidly?</div>\n",
       "    <div style='color: green; font-weight: bold;'>Translated: Tiraste-o rapidamente?</div>\n",
       "    "
      ],
      "text/plain": [
       "<IPython.core.display.HTML object>"
      ]
     },
     "metadata": {},
     "output_type": "display_data"
    },
    {
     "data": {
      "text/html": [
       "\n",
       "    <div style='color: blue; font-weight: bold;'>Original: Yes. Yes. Very rapidly.</div>\n",
       "    <div style='color: green; font-weight: bold;'>Translated: Sim. Sim. Muito rapidamente.</div>\n",
       "    "
      ],
      "text/plain": [
       "<IPython.core.display.HTML object>"
      ]
     },
     "metadata": {},
     "output_type": "display_data"
    },
    {
     "data": {
      "text/html": [
       "\n",
       "    <div style='color: blue; font-weight: bold;'>Original: Come--</div>\n",
       "    <div style='color: green; font-weight: bold;'>Translated: Vem--</div>\n",
       "    "
      ],
      "text/plain": [
       "<IPython.core.display.HTML object>"
      ]
     },
     "metadata": {},
     "output_type": "display_data"
    },
    {
     "data": {
      "text/html": [
       "\n",
       "    <div style='color: blue; font-weight: bold;'>Original: <i>Ay,</i> get me a slushy.\n",
       "It's my cheat day.</div>\n",
       "    <div style='color: green; font-weight: bold;'>Translated: <i>Ay,</i> arranja-me um granizado.\n",
       "É o meu dia de asneira.</div>\n",
       "    "
      ],
      "text/plain": [
       "<IPython.core.display.HTML object>"
      ]
     },
     "metadata": {},
     "output_type": "display_data"
    },
    {
     "data": {
      "text/html": [
       "\n",
       "    <div style='color: blue; font-weight: bold;'>Original: Hey, you. Your stupid machine\n",
       "won't read my card.</div>\n",
       "    <div style='color: green; font-weight: bold;'>Translated: Olá, a tua máquina estúpida não está a ler o meu cartão.</div>\n",
       "    "
      ],
      "text/plain": [
       "<IPython.core.display.HTML object>"
      ]
     },
     "metadata": {},
     "output_type": "display_data"
    },
    {
     "data": {
      "text/html": [
       "\n",
       "    <div style='color: blue; font-weight: bold;'>Original: Did you remove it rapidly?</div>\n",
       "    <div style='color: green; font-weight: bold;'>Translated: Removeste-o rapidamente?</div>\n",
       "    "
      ],
      "text/plain": [
       "<IPython.core.display.HTML object>"
      ]
     },
     "metadata": {},
     "output_type": "display_data"
    },
    {
     "data": {
      "text/html": [
       "\n",
       "    <div style='color: blue; font-weight: bold;'>Original: Yes.</div>\n",
       "    <div style='color: green; font-weight: bold;'>Translated: Sim.</div>\n",
       "    "
      ],
      "text/plain": [
       "<IPython.core.display.HTML object>"
      ]
     },
     "metadata": {},
     "output_type": "display_data"
    },
    {
     "data": {
      "text/html": [
       "\n",
       "    <div style='color: blue; font-weight: bold;'>Original: Well, sometimes it's too rapid.\n",
       "You should probably try again.</div>\n",
       "    <div style='color: green; font-weight: bold;'>Translated: Bem, às vezes é demasiado rápido.\n",
       "Provavelmente deverias tentar novamente.</div>\n",
       "    "
      ],
      "text/plain": [
       "<IPython.core.display.HTML object>"
      ]
     },
     "metadata": {},
     "output_type": "display_data"
    },
    {
     "data": {
      "text/html": [
       "\n",
       "    <div style='color: blue; font-weight: bold;'>Original: I don't have\n",
       "time for this.</div>\n",
       "    <div style='color: green; font-weight: bold;'>Translated: Não tenho tempo para isto.</div>\n",
       "    "
      ],
      "text/plain": [
       "<IPython.core.display.HTML object>"
      ]
     },
     "metadata": {},
     "output_type": "display_data"
    },
    {
     "data": {
      "text/html": [
       "\n",
       "    <div style='color: blue; font-weight: bold;'>Original: Okay. Whoa!</div>\n",
       "    <div style='color: green; font-weight: bold;'>Translated: Ok. Uau!</div>\n",
       "    "
      ],
      "text/plain": [
       "<IPython.core.display.HTML object>"
      ]
     },
     "metadata": {},
     "output_type": "display_data"
    },
    {
     "data": {
      "text/html": [
       "\n",
       "    <div style='color: blue; font-weight: bold;'>Original: I'm trying to\n",
       "destroy my arch nemesis!</div>\n",
       "    <div style='color: green; font-weight: bold;'>Translated: Estou a tentar destruir o meu arqui-inimigo!</div>\n",
       "    "
      ],
      "text/plain": [
       "<IPython.core.display.HTML object>"
      ]
     },
     "metadata": {},
     "output_type": "display_data"
    },
    {
     "data": {
      "text/html": [
       "\n",
       "    <div style='color: blue; font-weight: bold;'>Original: Now, give me 900 gallons\n",
       "on pump four, you idiot.</div>\n",
       "    <div style='color: green; font-weight: bold;'>Translated: Agora, dá-me 900 galões na bomba quatro, seu idiota.</div>\n",
       "    "
      ],
      "text/plain": [
       "<IPython.core.display.HTML object>"
      ]
     },
     "metadata": {},
     "output_type": "display_data"
    },
    {
     "data": {
      "text/html": [
       "\n",
       "    <div style='color: blue; font-weight: bold;'>Original: Whoa! Please, don't hurt me.</div>\n",
       "    <div style='color: green; font-weight: bold;'>Translated: Uau! Por favor, não me magoes.</div>\n",
       "    "
      ],
      "text/plain": [
       "<IPython.core.display.HTML object>"
      ]
     },
     "metadata": {},
     "output_type": "display_data"
    },
    {
     "data": {
      "text/html": [
       "\n",
       "    <div style='color: blue; font-weight: bold;'>Original: Oh, I'm not going to hurt you.</div>\n",
       "    <div style='color: green; font-weight: bold;'>Translated: Ah, eu não te vou fazer mal.</div>\n",
       "    "
      ],
      "text/plain": [
       "<IPython.core.display.HTML object>"
      ]
     },
     "metadata": {},
     "output_type": "display_data"
    },
    {
     "data": {
      "text/html": [
       "\n",
       "    <div style='color: blue; font-weight: bold;'>Original: Wha--</div>\n",
       "    <div style='color: green; font-weight: bold;'>Translated: O quê--</div>\n",
       "    "
      ],
      "text/plain": [
       "<IPython.core.display.HTML object>"
      ]
     },
     "metadata": {},
     "output_type": "display_data"
    },
    {
     "data": {
      "text/html": [
       "\n",
       "    <div style='color: blue; font-weight: bold;'>Original: Oh! Look at you!</div>\n",
       "    <div style='color: green; font-weight: bold;'>Translated: Olha para ti!</div>\n",
       "    "
      ],
      "text/plain": [
       "<IPython.core.display.HTML object>"
      ]
     },
     "metadata": {},
     "output_type": "display_data"
    },
    {
     "data": {
      "text/html": [
       "\n",
       "    <div style='color: blue; font-weight: bold;'>Original: Ha, ha! Much better.</div>\n",
       "    <div style='color: green; font-weight: bold;'>Translated: Ah, ah! Muito melhor.</div>\n",
       "    "
      ],
      "text/plain": [
       "<IPython.core.display.HTML object>"
      ]
     },
     "metadata": {},
     "output_type": "display_data"
    },
    {
     "data": {
      "text/html": [
       "\n",
       "    <div style='color: blue; font-weight: bold;'>Original: Now, get me a purple slushy!</div>\n",
       "    <div style='color: green; font-weight: bold;'>Translated: Agora, arranja-me um granizado roxo!</div>\n",
       "    "
      ],
      "text/plain": [
       "<IPython.core.display.HTML object>"
      ]
     },
     "metadata": {},
     "output_type": "display_data"
    },
    {
     "data": {
      "text/html": [
       "\n",
       "    <div style='color: blue; font-weight: bold;'>Original: I'm not paying for that,\n",
       "just so you know. So there.</div>\n",
       "    <div style='color: green; font-weight: bold;'>Translated: Só para que saibas, não vou pagar por isso. Pronto.</div>\n",
       "    "
      ],
      "text/plain": [
       "<IPython.core.display.HTML object>"
      ]
     },
     "metadata": {},
     "output_type": "display_data"
    },
    {
     "data": {
      "text/html": [
       "\n",
       "    <div style='color: blue; font-weight: bold;'>Original: I know. I'm so bad.</div>\n",
       "    <div style='color: green; font-weight: bold;'>Translated: Eu sei. Sou tão mau.</div>\n",
       "    "
      ],
      "text/plain": [
       "<IPython.core.display.HTML object>"
      ]
     },
     "metadata": {},
     "output_type": "display_data"
    },
    {
     "data": {
      "text/html": [
       "\n",
       "    <div style='color: blue; font-weight: bold;'>Original: Hmm. Okay, why don't you guys\n",
       "pick out a healthy cereal?</div>\n",
       "    <div style='color: green; font-weight: bold;'>Translated: Hmm. Ok, porque é que vocês não escolhem um cereal saudável?</div>\n",
       "    "
      ],
      "text/plain": [
       "<IPython.core.display.HTML object>"
      ]
     },
     "metadata": {},
     "output_type": "display_data"
    },
    {
     "data": {
      "text/html": [
       "\n",
       "    <div style='color: blue; font-weight: bold;'>Original: This is\n",
       "Lucky's favorite cereal.</div>\n",
       "    <div style='color: green; font-weight: bold;'>Translated: Este é\n",
       "o cereal preferido do Lucky.</div>\n",
       "    "
      ],
      "text/plain": [
       "<IPython.core.display.HTML object>"
      ]
     },
     "metadata": {},
     "output_type": "display_data"
    },
    {
     "data": {
      "text/html": [
       "\n",
       "    <div style='color: blue; font-weight: bold;'>Original: You don't think he'll forget me?</div>\n",
       "    <div style='color: green; font-weight: bold;'>Translated: Achas que ele se vai esquecer de mim?</div>\n",
       "    "
      ],
      "text/plain": [
       "<IPython.core.display.HTML object>"
      ]
     },
     "metadata": {},
     "output_type": "display_data"
    },
    {
     "data": {
      "text/html": [
       "\n",
       "    <div style='color: blue; font-weight: bold;'>Original: Do you?</div>\n",
       "    <div style='color: green; font-weight: bold;'>Translated: Tu fazes?</div>\n",
       "    "
      ],
      "text/plain": [
       "<IPython.core.display.HTML object>"
      ]
     },
     "metadata": {},
     "output_type": "display_data"
    },
    {
     "data": {
      "text/html": [
       "\n",
       "    <div style='color: blue; font-weight: bold;'>Original: Oh, sweetheart,\n",
       "that's impossible.</div>\n",
       "    <div style='color: green; font-weight: bold;'>Translated: Oh, querida,\n",
       "isso é impossível.</div>\n",
       "    "
      ],
      "text/plain": [
       "<IPython.core.display.HTML object>"
      ]
     },
     "metadata": {},
     "output_type": "display_data"
    },
    {
     "data": {
      "text/html": [
       "\n",
       "    <div style='color: blue; font-weight: bold;'>Original: You play with Lucky\n",
       "and dress him up.</div>\n",
       "    <div style='color: green; font-weight: bold;'>Translated: Brincas com o Lucky\n",
       "e vestes-lhe roupa.</div>\n",
       "    "
      ],
      "text/plain": [
       "<IPython.core.display.HTML object>"
      ]
     },
     "metadata": {},
     "output_type": "display_data"
    },
    {
     "data": {
      "text/html": [
       "\n",
       "    <div style='color: blue; font-weight: bold;'>Original: And you guys have your podcast.</div>\n",
       "    <div style='color: green; font-weight: bold;'>Translated: E vocês têm o vosso podcast.</div>\n",
       "    "
      ],
      "text/plain": [
       "<IPython.core.display.HTML object>"
      ]
     },
     "metadata": {},
     "output_type": "display_data"
    },
    {
     "data": {
      "text/html": [
       "\n",
       "    <div style='color: blue; font-weight: bold;'>Original: There is no way in this world\n",
       "he could ever forget\n",
       "his best friend.</div>\n",
       "    <div style='color: green; font-weight: bold;'>Translated: Não há maneira neste mundo\n",
       "de ele alguma vez esquecer</div>\n",
       "    "
      ],
      "text/plain": [
       "<IPython.core.display.HTML object>"
      ]
     },
     "metadata": {},
     "output_type": "display_data"
    },
    {
     "data": {
      "text/html": [
       "\n",
       "    <div style='color: blue; font-weight: bold;'>Original: Thanks, Mom.</div>\n",
       "    <div style='color: green; font-weight: bold;'>Translated: Obrigado, mãe.</div>\n",
       "    "
      ],
      "text/plain": [
       "<IPython.core.display.HTML object>"
      ]
     },
     "metadata": {},
     "output_type": "display_data"
    },
    {
     "data": {
      "text/html": [
       "\n",
       "    <div style='color: blue; font-weight: bold;'>Original: Oh, lookit!</div>\n",
       "    <div style='color: green; font-weight: bold;'>Translated: Olha só!</div>\n",
       "    "
      ],
      "text/plain": [
       "<IPython.core.display.HTML object>"
      ]
     },
     "metadata": {},
     "output_type": "display_data"
    },
    {
     "data": {
      "text/html": [
       "\n",
       "    <div style='color: blue; font-weight: bold;'>Original: This one has extra marshmallows.</div>\n",
       "    <div style='color: green; font-weight: bold;'>Translated: Este tem marshmallows extra.</div>\n",
       "    "
      ],
      "text/plain": [
       "<IPython.core.display.HTML object>"
      ]
     },
     "metadata": {},
     "output_type": "display_data"
    },
    {
     "data": {
      "text/html": [
       "\n",
       "    <div style='color: blue; font-weight: bold;'>Original: Double-frosted choco clusters.</div>\n",
       "    <div style='color: green; font-weight: bold;'>Translated: Cachos de chocolate com cobertura dupla.</div>\n",
       "    "
      ],
      "text/plain": [
       "<IPython.core.display.HTML object>"
      ]
     },
     "metadata": {},
     "output_type": "display_data"
    },
    {
     "data": {
      "text/html": [
       "\n",
       "    <div style='color: blue; font-weight: bold;'>Original: Yeah.\n",
       "Yeah.\n",
       "Let's go with those.</div>\n",
       "    <div style='color: green; font-weight: bold;'>Translated: Sim.\n",
       "Sim.</div>\n",
       "    "
      ],
      "text/plain": [
       "<IPython.core.display.HTML object>"
      ]
     },
     "metadata": {},
     "output_type": "display_data"
    },
    {
     "data": {
      "text/html": [
       "\n",
       "    <div style='color: blue; font-weight: bold;'>Original: All right. What else do we need?</div>\n",
       "    <div style='color: green; font-weight: bold;'>Translated: Certo. De que mais precisamos?</div>\n",
       "    "
      ],
      "text/plain": [
       "<IPython.core.display.HTML object>"
      ]
     },
     "metadata": {},
     "output_type": "display_data"
    },
    {
     "data": {
      "text/html": [
       "\n",
       "    <div style='color: blue; font-weight: bold;'>Original: Oh, no.</div>\n",
       "    <div style='color: green; font-weight: bold;'>Translated: Oh, não.</div>\n",
       "    "
      ],
      "text/plain": [
       "<IPython.core.display.HTML object>"
      ]
     },
     "metadata": {},
     "output_type": "display_data"
    },
    {
     "data": {
      "text/html": [
       "\n",
       "    <div style='color: blue; font-weight: bold;'>Original: Nobody see. Nobody notice.\n",
       "Nobody notice.</div>\n",
       "    <div style='color: green; font-weight: bold;'>Translated: Ninguém vê. Ninguém repara.\n",
       "Ninguém repara.</div>\n",
       "    "
      ],
      "text/plain": [
       "<IPython.core.display.HTML object>"
      ]
     },
     "metadata": {},
     "output_type": "display_data"
    },
    {
     "data": {
      "text/html": [
       "\n",
       "    <div style='color: blue; font-weight: bold;'>Original: What's wrong?\n",
       "Huh?</div>\n",
       "    <div style='color: green; font-weight: bold;'>Translated: O que se passa?\n",
       "Hã?</div>\n",
       "    "
      ],
      "text/plain": [
       "<IPython.core.display.HTML object>"
      ]
     },
     "metadata": {},
     "output_type": "display_data"
    },
    {
     "data": {
      "text/html": [
       "\n",
       "    <div style='color: blue; font-weight: bold;'>Original: Oh, nothing. Just, uh... Ooh.</div>\n",
       "    <div style='color: green; font-weight: bold;'>Translated: Ah, nada. Só, uh... Oh.</div>\n",
       "    "
      ],
      "text/plain": [
       "<IPython.core.display.HTML object>"
      ]
     },
     "metadata": {},
     "output_type": "display_data"
    },
    {
     "data": {
      "text/html": [
       "\n",
       "    <div style='color: blue; font-weight: bold;'>Original: Stretching before\n",
       "we hit the aisles.</div>\n",
       "    <div style='color: green; font-weight: bold;'>Translated: Alongando antes de irmos pelos corredores.</div>\n",
       "    "
      ],
      "text/plain": [
       "<IPython.core.display.HTML object>"
      ]
     },
     "metadata": {},
     "output_type": "display_data"
    },
    {
     "data": {
      "text/html": [
       "\n",
       "    <div style='color: blue; font-weight: bold;'>Original: Shopping is the number one\n",
       "cause of pulled hamstrings.</div>\n",
       "    <div style='color: green; font-weight: bold;'>Translated: As compras são a principal causa de distensões nos isquiotibiais.</div>\n",
       "    "
      ],
      "text/plain": [
       "<IPython.core.display.HTML object>"
      ]
     },
     "metadata": {},
     "output_type": "display_data"
    },
    {
     "data": {
      "text/html": [
       "\n",
       "    <div style='color: blue; font-weight: bold;'>Original: Huh. You probably\n",
       "didn't know that.</div>\n",
       "    <div style='color: green; font-weight: bold;'>Translated: Huh. Provavelmente não sabias isso.</div>\n",
       "    "
      ],
      "text/plain": [
       "<IPython.core.display.HTML object>"
      ]
     },
     "metadata": {},
     "output_type": "display_data"
    },
    {
     "data": {
      "text/html": [
       "\n",
       "    <div style='color: blue; font-weight: bold;'>Original: Okay, all stretched. Let's go.</div>\n",
       "    <div style='color: green; font-weight: bold;'>Translated: Ok, já estou alongado. Vamos embora.</div>\n",
       "    "
      ],
      "text/plain": [
       "<IPython.core.display.HTML object>"
      ]
     },
     "metadata": {},
     "output_type": "display_data"
    },
    {
     "data": {
      "text/html": [
       "\n",
       "    <div style='color: blue; font-weight: bold;'>Original: Quickly. Quick, quick, quick.</div>\n",
       "    <div style='color: green; font-weight: bold;'>Translated: Rapidamente. Rápido, rápido, rápido.</div>\n",
       "    "
      ],
      "text/plain": [
       "<IPython.core.display.HTML object>"
      ]
     },
     "metadata": {},
     "output_type": "display_data"
    },
    {
     "data": {
      "text/html": [
       "\n",
       "    <div style='color: blue; font-weight: bold;'>Original: Okay.\n",
       "Coast is clear--</div>\n",
       "    <div style='color: green; font-weight: bold;'>Translated: Está tudo tranquilo--</div>\n",
       "    "
      ],
      "text/plain": [
       "<IPython.core.display.HTML object>"
      ]
     },
     "metadata": {},
     "output_type": "display_data"
    },
    {
     "data": {
      "text/html": [
       "\n",
       "    <div style='color: blue; font-weight: bold;'>Original: Oh.</div>\n",
       "    <div style='color: green; font-weight: bold;'>Translated: Ah.</div>\n",
       "    "
      ],
      "text/plain": [
       "<IPython.core.display.HTML object>"
      ]
     },
     "metadata": {},
     "output_type": "display_data"
    },
    {
     "data": {
      "text/html": [
       "\n",
       "    <div style='color: blue; font-weight: bold;'>Original: You.</div>\n",
       "    <div style='color: green; font-weight: bold;'>Translated: Tu.</div>\n",
       "    "
      ],
      "text/plain": [
       "<IPython.core.display.HTML object>"
      ]
     },
     "metadata": {},
     "output_type": "display_data"
    },
    {
     "data": {
      "text/html": [
       "\n",
       "    <div style='color: blue; font-weight: bold;'>Original: You did this to me, you fraud.</div>\n",
       "    <div style='color: green; font-weight: bold;'>Translated: Fizeste-me isto, seu impostor.</div>\n",
       "    "
      ],
      "text/plain": [
       "<IPython.core.display.HTML object>"
      ]
     },
     "metadata": {},
     "output_type": "display_data"
    },
    {
     "data": {
      "text/html": [
       "\n",
       "    <div style='color: blue; font-weight: bold;'>Original: Come on, girls.</div>\n",
       "    <div style='color: green; font-weight: bold;'>Translated: Vamos, meninas.</div>\n",
       "    "
      ],
      "text/plain": [
       "<IPython.core.display.HTML object>"
      ]
     },
     "metadata": {},
     "output_type": "display_data"
    },
    {
     "data": {
      "text/html": [
       "\n",
       "    <div style='color: blue; font-weight: bold;'>Original: Clean up on aisle nine!</div>\n",
       "    <div style='color: green; font-weight: bold;'>Translated: Limpeza no corredor nove!</div>\n",
       "    "
      ],
      "text/plain": [
       "<IPython.core.display.HTML object>"
      ]
     },
     "metadata": {},
     "output_type": "display_data"
    },
    {
     "data": {
      "text/html": [
       "\n",
       "    <div style='color: blue; font-weight: bold;'>Original: I've always wanted to say that.\n",
       "Just hide over here.</div>\n",
       "    <div style='color: green; font-weight: bold;'>Translated: Sempre quis dizer isso.\n",
       "Esconde-te aqui.</div>\n",
       "    "
      ],
      "text/plain": [
       "<IPython.core.display.HTML object>"
      ]
     },
     "metadata": {},
     "output_type": "display_data"
    },
    {
     "data": {
      "text/html": [
       "\n",
       "    <div style='color: blue; font-weight: bold;'>Original: What does that lady want?</div>\n",
       "    <div style='color: green; font-weight: bold;'>Translated: O que é que aquela senhora quer?</div>\n",
       "    "
      ],
      "text/plain": [
       "<IPython.core.display.HTML object>"
      ]
     },
     "metadata": {},
     "output_type": "display_data"
    },
    {
     "data": {
      "text/html": [
       "\n",
       "    <div style='color: blue; font-weight: bold;'>Original: Lady? I didn't see a lady.</div>\n",
       "    <div style='color: green; font-weight: bold;'>Translated: Senhora? Não vi nenhuma senhora.</div>\n",
       "    "
      ],
      "text/plain": [
       "<IPython.core.display.HTML object>"
      ]
     },
     "metadata": {},
     "output_type": "display_data"
    },
    {
     "data": {
      "text/html": [
       "\n",
       "    <div style='color: blue; font-weight: bold;'>Original: Lady!</div>\n",
       "    <div style='color: green; font-weight: bold;'>Translated: Senhora!</div>\n",
       "    "
      ],
      "text/plain": [
       "<IPython.core.display.HTML object>"
      ]
     },
     "metadata": {},
     "output_type": "display_data"
    },
    {
     "data": {
      "text/html": [
       "\n",
       "    <div style='color: blue; font-weight: bold;'>Original: Come on. Let's go.</div>\n",
       "    <div style='color: green; font-weight: bold;'>Translated: Vamos embora.</div>\n",
       "    "
      ],
      "text/plain": [
       "<IPython.core.display.HTML object>"
      ]
     },
     "metadata": {},
     "output_type": "display_data"
    },
    {
     "data": {
      "text/html": [
       "\n",
       "    <div style='color: blue; font-weight: bold;'>Original: Faster!\n",
       "Whoa!</div>\n",
       "    <div style='color: green; font-weight: bold;'>Translated: Mais rápido!\n",
       "Uau!</div>\n",
       "    "
      ],
      "text/plain": [
       "<IPython.core.display.HTML object>"
      ]
     },
     "metadata": {},
     "output_type": "display_data"
    },
    {
     "data": {
      "text/html": [
       "\n",
       "    <div style='color: blue; font-weight: bold;'>Original: You're no hairdresser.</div>\n",
       "    <div style='color: green; font-weight: bold;'>Translated: Não és cabeleireiro.</div>\n",
       "    "
      ],
      "text/plain": [
       "<IPython.core.display.HTML object>"
      ]
     },
     "metadata": {},
     "output_type": "display_data"
    },
    {
     "data": {
      "text/html": [
       "\n",
       "    <div style='color: blue; font-weight: bold;'>Original: I'm on to you! Get back here.</div>\n",
       "    <div style='color: green; font-weight: bold;'>Translated: Eu estou de olho em ti! Volta aqui.</div>\n",
       "    "
      ],
      "text/plain": [
       "<IPython.core.display.HTML object>"
      ]
     },
     "metadata": {},
     "output_type": "display_data"
    },
    {
     "data": {
      "text/html": [
       "\n",
       "    <div style='color: blue; font-weight: bold;'>Original: I gotta get out of here.</div>\n",
       "    <div style='color: green; font-weight: bold;'>Translated: Eu tenho de sair daqui.</div>\n",
       "    "
      ],
      "text/plain": [
       "<IPython.core.display.HTML object>"
      ]
     },
     "metadata": {},
     "output_type": "display_data"
    },
    {
     "data": {
      "text/html": [
       "\n",
       "    <div style='color: blue; font-weight: bold;'>Original: Okay.</div>\n",
       "    <div style='color: green; font-weight: bold;'>Translated: Certo.</div>\n",
       "    "
      ],
      "text/plain": [
       "<IPython.core.display.HTML object>"
      ]
     },
     "metadata": {},
     "output_type": "display_data"
    },
    {
     "data": {
      "text/html": [
       "\n",
       "    <div style='color: blue; font-weight: bold;'>Original: Come back here.</div>\n",
       "    <div style='color: green; font-weight: bold;'>Translated: Volta para cá.</div>\n",
       "    "
      ],
      "text/plain": [
       "<IPython.core.display.HTML object>"
      ]
     },
     "metadata": {},
     "output_type": "display_data"
    },
    {
     "data": {
      "text/html": [
       "\n",
       "    <div style='color: blue; font-weight: bold;'>Original: Whoa-ho-ho.</div>\n",
       "    <div style='color: green; font-weight: bold;'>Translated: Uau-hu-hu.</div>\n",
       "    "
      ],
      "text/plain": [
       "<IPython.core.display.HTML object>"
      ]
     },
     "metadata": {},
     "output_type": "display_data"
    },
    {
     "data": {
      "text/html": [
       "\n",
       "    <div style='color: blue; font-weight: bold;'>Original: Hey! No, no, no, no!</div>\n",
       "    <div style='color: green; font-weight: bold;'>Translated: Olá! Não, não, não, não!</div>\n",
       "    "
      ],
      "text/plain": [
       "<IPython.core.display.HTML object>"
      ]
     },
     "metadata": {},
     "output_type": "display_data"
    },
    {
     "data": {
      "text/html": [
       "\n",
       "    <div style='color: blue; font-weight: bold;'>Original: - You can't just--\n",
       "- Open, open, open!</div>\n",
       "    <div style='color: green; font-weight: bold;'>Translated: - Não podes simplesmente--\n",
       "- Abre, abre, abre!</div>\n",
       "    "
      ],
      "text/plain": [
       "<IPython.core.display.HTML object>"
      ]
     },
     "metadata": {},
     "output_type": "display_data"
    },
    {
     "data": {
      "text/html": [
       "\n",
       "    <div style='color: blue; font-weight: bold;'>Original: Whoa!</div>\n",
       "    <div style='color: green; font-weight: bold;'>Translated: Uau!</div>\n",
       "    "
      ],
      "text/plain": [
       "<IPython.core.display.HTML object>"
      ]
     },
     "metadata": {},
     "output_type": "display_data"
    },
    {
     "data": {
      "text/html": [
       "\n",
       "    <div style='color: blue; font-weight: bold;'>Original: Let's go!</div>\n",
       "    <div style='color: green; font-weight: bold;'>Translated: Vamos!</div>\n",
       "    "
      ],
      "text/plain": [
       "<IPython.core.display.HTML object>"
      ]
     },
     "metadata": {},
     "output_type": "display_data"
    },
    {
     "data": {
      "text/html": [
       "\n",
       "    <div style='color: blue; font-weight: bold;'>Original: Stop! Come here, you!</div>\n",
       "    <div style='color: green; font-weight: bold;'>Translated: Pare! Vem aqui, tu!</div>\n",
       "    "
      ],
      "text/plain": [
       "<IPython.core.display.HTML object>"
      ]
     },
     "metadata": {},
     "output_type": "display_data"
    },
    {
     "data": {
      "text/html": [
       "\n",
       "    <div style='color: blue; font-weight: bold;'>Original: Whew. That was a close one.</div>\n",
       "    <div style='color: green; font-weight: bold;'>Translated: Ufa. Essa foi por pouco.</div>\n",
       "    "
      ],
      "text/plain": [
       "<IPython.core.display.HTML object>"
      ]
     },
     "metadata": {},
     "output_type": "display_data"
    },
    {
     "data": {
      "text/html": [
       "\n",
       "    <div style='color: blue; font-weight: bold;'>Original: Always a fun time\n",
       "when you go shopping with Mom.</div>\n",
       "    <div style='color: green; font-weight: bold;'>Translated: Sempre um momento divertido\n",
       "quando vais às compras com a mãe.</div>\n",
       "    "
      ],
      "text/plain": [
       "<IPython.core.display.HTML object>"
      ]
     },
     "metadata": {},
     "output_type": "display_data"
    },
    {
     "data": {
      "text/html": [
       "\n",
       "    <div style='color: blue; font-weight: bold;'>Original: - Yeah! I feel so alive!\n",
       "- Best shopping trip ever!</div>\n",
       "    <div style='color: green; font-weight: bold;'>Translated: - Sim! Sinto-me tão vivo!\n",
       "- A melhor ida às compras de sempre!</div>\n",
       "    "
      ],
      "text/plain": [
       "<IPython.core.display.HTML object>"
      ]
     },
     "metadata": {},
     "output_type": "display_data"
    },
    {
     "data": {
      "text/html": [
       "\n",
       "    <div style='color: blue; font-weight: bold;'>Original: <i>Perfecto.</i></div>\n",
       "    <div style='color: green; font-weight: bold;'>Translated: <i>Perfeito.</i></div>\n",
       "    "
      ],
      "text/plain": [
       "<IPython.core.display.HTML object>"
      ]
     },
     "metadata": {},
     "output_type": "display_data"
    },
    {
     "data": {
      "text/html": [
       "\n",
       "    <div style='color: blue; font-weight: bold;'>Original: <i>Poppy!</i></div>\n",
       "    <div style='color: green; font-weight: bold;'>Translated: <i>Papoula!</i></div>\n",
       "    "
      ],
      "text/plain": [
       "<IPython.core.display.HTML object>"
      ]
     },
     "metadata": {},
     "output_type": "display_data"
    },
    {
     "data": {
      "text/html": [
       "\n",
       "    <div style='color: blue; font-weight: bold;'>Original: <i>Poppy!</i></div>\n",
       "    <div style='color: green; font-weight: bold;'>Translated: <i>Papoula!</i></div>\n",
       "    "
      ],
      "text/plain": [
       "<IPython.core.display.HTML object>"
      ]
     },
     "metadata": {},
     "output_type": "display_data"
    },
    {
     "data": {
      "text/html": [
       "\n",
       "    <div style='color: blue; font-weight: bold;'>Original: <i>I don't see her, Junior.</i></div>\n",
       "    <div style='color: green; font-weight: bold;'>Translated: <i>Eu não a vejo, Júnior.</i></div>\n",
       "    "
      ],
      "text/plain": [
       "<IPython.core.display.HTML object>"
      ]
     },
     "metadata": {},
     "output_type": "display_data"
    },
    {
     "data": {
      "text/html": [
       "\n",
       "    <div style='color: blue; font-weight: bold;'>Original: Look up, genius.</div>\n",
       "    <div style='color: green; font-weight: bold;'>Translated: Olha para cima, génio.</div>\n",
       "    "
      ],
      "text/plain": [
       "<IPython.core.display.HTML object>"
      ]
     },
     "metadata": {},
     "output_type": "display_data"
    },
    {
     "data": {
      "text/html": [
       "\n",
       "    <div style='color: blue; font-weight: bold;'>Original: Huh?\n",
       "<i>You're late.</i></div>\n",
       "    <div style='color: green; font-weight: bold;'>Translated: Hã?\n",
       "<i>Estás atrasado.</i></div>\n",
       "    "
      ],
      "text/plain": [
       "<IPython.core.display.HTML object>"
      ]
     },
     "metadata": {},
     "output_type": "display_data"
    },
    {
     "data": {
      "text/html": [
       "\n",
       "    <div style='color: blue; font-weight: bold;'>Original: How do I get up there?</div>\n",
       "    <div style='color: green; font-weight: bold;'>Translated: Como é que eu chego lá acima?</div>\n",
       "    "
      ],
      "text/plain": [
       "<IPython.core.display.HTML object>"
      ]
     },
     "metadata": {},
     "output_type": "display_data"
    },
    {
     "data": {
      "text/html": [
       "\n",
       "    <div style='color: blue; font-weight: bold;'>Original: <i>Use the trampoline.</i></div>\n",
       "    <div style='color: green; font-weight: bold;'>Translated: Use o trampolim.</div>\n",
       "    "
      ],
      "text/plain": [
       "<IPython.core.display.HTML object>"
      ]
     },
     "metadata": {},
     "output_type": "display_data"
    },
    {
     "data": {
      "text/html": [
       "\n",
       "    <div style='color: blue; font-weight: bold;'>Original: Huh?</div>\n",
       "    <div style='color: green; font-weight: bold;'>Translated: Hã?</div>\n",
       "    "
      ],
      "text/plain": [
       "<IPython.core.display.HTML object>"
      ]
     },
     "metadata": {},
     "output_type": "display_data"
    },
    {
     "data": {
      "text/html": [
       "\n",
       "    <div style='color: blue; font-weight: bold;'>Original: Here we go.</div>\n",
       "    <div style='color: green; font-weight: bold;'>Translated: Aqui vamos nós.</div>\n",
       "    "
      ],
      "text/plain": [
       "<IPython.core.display.HTML object>"
      ]
     },
     "metadata": {},
     "output_type": "display_data"
    },
    {
     "data": {
      "text/html": [
       "\n",
       "    <div style='color: blue; font-weight: bold;'>Original: Ow, ow, ow, ah, ow!</div>\n",
       "    <div style='color: green; font-weight: bold;'>Translated: Ai, ai, ai, ah, ai!</div>\n",
       "    "
      ],
      "text/plain": [
       "<IPython.core.display.HTML object>"
      ]
     },
     "metadata": {},
     "output_type": "display_data"
    },
    {
     "data": {
      "text/html": [
       "\n",
       "    <div style='color: blue; font-weight: bold;'>Original: It is I,</div>\n",
       "    <div style='color: green; font-weight: bold;'>Translated: Sou eu,</div>\n",
       "    "
      ],
      "text/plain": [
       "<IPython.core.display.HTML object>"
      ]
     },
     "metadata": {},
     "output_type": "display_data"
    },
    {
     "data": {
      "text/html": [
       "\n",
       "    <div style='color: blue; font-weight: bold;'>Original: - Poppy Prescott, villainess.</div>\n",
       "    <div style='color: green; font-weight: bold;'>Translated: - Poppy Prescott, a vilã.</div>\n",
       "    "
      ],
      "text/plain": [
       "<IPython.core.display.HTML object>"
      ]
     },
     "metadata": {},
     "output_type": "display_data"
    },
    {
     "data": {
      "text/html": [
       "\n",
       "    <div style='color: blue; font-weight: bold;'>Original: Have a seat, Gru.</div>\n",
       "    <div style='color: green; font-weight: bold;'>Translated: Senta-te, Gru.</div>\n",
       "    "
      ],
      "text/plain": [
       "<IPython.core.display.HTML object>"
      ]
     },
     "metadata": {},
     "output_type": "display_data"
    },
    {
     "data": {
      "text/html": [
       "\n",
       "    <div style='color: blue; font-weight: bold;'>Original: All right, I'll sit-- Ah!</div>\n",
       "    <div style='color: green; font-weight: bold;'>Translated: Está bem, vou sentar-me-- Ah!</div>\n",
       "    "
      ],
      "text/plain": [
       "<IPython.core.display.HTML object>"
      ]
     },
     "metadata": {},
     "output_type": "display_data"
    },
    {
     "data": {
      "text/html": [
       "\n",
       "    <div style='color: blue; font-weight: bold;'>Original: Okay. Why am I here?</div>\n",
       "    <div style='color: green; font-weight: bold;'>Translated: Ok. Porque estou aqui?</div>\n",
       "    "
      ],
      "text/plain": [
       "<IPython.core.display.HTML object>"
      ]
     },
     "metadata": {},
     "output_type": "display_data"
    },
    {
     "data": {
      "text/html": [
       "\n",
       "    <div style='color: blue; font-weight: bold;'>Original: Because, like you,\n",
       "I was born to be bad.</div>\n",
       "    <div style='color: green; font-weight: bold;'>Translated: Porque, tal como tu,\n",
       "Eu nasci para ser mau.</div>\n",
       "    "
      ],
      "text/plain": [
       "<IPython.core.display.HTML object>"
      ]
     },
     "metadata": {},
     "output_type": "display_data"
    },
    {
     "data": {
      "text/html": [
       "\n",
       "    <div style='color: blue; font-weight: bold;'>Original: And now, it's time to discuss\n",
       "our big heist.</div>\n",
       "    <div style='color: green; font-weight: bold;'>Translated: E agora, é hora de discutir\n",
       "o nosso grande assalto.</div>\n",
       "    "
      ],
      "text/plain": [
       "<IPython.core.display.HTML object>"
      ]
     },
     "metadata": {},
     "output_type": "display_data"
    },
    {
     "data": {
      "text/html": [
       "\n",
       "    <div style='color: blue; font-weight: bold;'>Original: Pfft, heist. Please.\n",
       "You're just a child.</div>\n",
       "    <div style='color: green; font-weight: bold;'>Translated: Pfft, assalto. Por favor.\n",
       "És apenas uma criança.</div>\n",
       "    "
      ],
      "text/plain": [
       "<IPython.core.display.HTML object>"
      ]
     },
     "metadata": {},
     "output_type": "display_data"
    },
    {
     "data": {
      "text/html": [
       "\n",
       "    <div style='color: blue; font-weight: bold;'>Original: All great villains start young.</div>\n",
       "    <div style='color: green; font-weight: bold;'>Translated: Todos os grandes vilões começam jovens.</div>\n",
       "    "
      ],
      "text/plain": [
       "<IPython.core.display.HTML object>"
      ]
     },
     "metadata": {},
     "output_type": "display_data"
    },
    {
     "data": {
      "text/html": [
       "\n",
       "    <div style='color: blue; font-weight: bold;'>Original: Didn't you steal\n",
       "the Crown Jewels\n",
       "when you were 12?</div>\n",
       "    <div style='color: green; font-weight: bold;'>Translated: Não roubaste\n",
       "as Joias da Coroa</div>\n",
       "    "
      ],
      "text/plain": [
       "<IPython.core.display.HTML object>"
      ]
     },
     "metadata": {},
     "output_type": "display_data"
    },
    {
     "data": {
      "text/html": [
       "\n",
       "    <div style='color: blue; font-weight: bold;'>Original: I was a lot younger than that.</div>\n",
       "    <div style='color: green; font-weight: bold;'>Translated: Eu era muito mais novo do que isso.</div>\n",
       "    "
      ],
      "text/plain": [
       "<IPython.core.display.HTML object>"
      ]
     },
     "metadata": {},
     "output_type": "display_data"
    },
    {
     "data": {
      "text/html": [
       "\n",
       "    <div style='color: blue; font-weight: bold;'>Original: And, no offense,\n",
       "but you're not me.</div>\n",
       "    <div style='color: green; font-weight: bold;'>Translated: E, sem ofensa,\n",
       "mas tu não és eu.</div>\n",
       "    "
      ],
      "text/plain": [
       "<IPython.core.display.HTML object>"
      ]
     },
     "metadata": {},
     "output_type": "display_data"
    },
    {
     "data": {
      "text/html": [
       "\n",
       "    <div style='color: blue; font-weight: bold;'>Original: Oh, I plan on being\n",
       "a lot better than you.</div>\n",
       "    <div style='color: green; font-weight: bold;'>Translated: Ah, eu planeio ser muito melhor do que tu.</div>\n",
       "    "
      ],
      "text/plain": [
       "<IPython.core.display.HTML object>"
      ]
     },
     "metadata": {},
     "output_type": "display_data"
    },
    {
     "data": {
      "text/html": [
       "\n",
       "    <div style='color: blue; font-weight: bold;'>Original: Check this out.</div>\n",
       "    <div style='color: green; font-weight: bold;'>Translated: Vê isto.</div>\n",
       "    "
      ],
      "text/plain": [
       "<IPython.core.display.HTML object>"
      ]
     },
     "metadata": {},
     "output_type": "display_data"
    },
    {
     "data": {
      "text/html": [
       "\n",
       "    <div style='color: blue; font-weight: bold;'>Original: Hey, is that my old school?</div>\n",
       "    <div style='color: green; font-weight: bold;'>Translated: Olá, essa é a minha antiga escola?</div>\n",
       "    "
      ],
      "text/plain": [
       "<IPython.core.display.HTML object>"
      ]
     },
     "metadata": {},
     "output_type": "display_data"
    },
    {
     "data": {
      "text/html": [
       "\n",
       "    <div style='color: blue; font-weight: bold;'>Original: Bingo.</div>\n",
       "    <div style='color: green; font-weight: bold;'>Translated: Bingo.</div>\n",
       "    "
      ],
      "text/plain": [
       "<IPython.core.display.HTML object>"
      ]
     },
     "metadata": {},
     "output_type": "display_data"
    },
    {
     "data": {
      "text/html": [
       "\n",
       "    <div style='color: blue; font-weight: bold;'>Original: Which I have expertly modeled</div>\n",
       "    <div style='color: green; font-weight: bold;'>Translated: O qual modelei habilmente.</div>\n",
       "    "
      ],
      "text/plain": [
       "<IPython.core.display.HTML object>"
      ]
     },
     "metadata": {},
     "output_type": "display_data"
    },
    {
     "data": {
      "text/html": [
       "\n",
       "    <div style='color: blue; font-weight: bold;'>Original: with glue and Popsicle sticks.</div>\n",
       "    <div style='color: green; font-weight: bold;'>Translated: com cola e paus de gelado.</div>\n",
       "    "
      ],
      "text/plain": [
       "<IPython.core.display.HTML object>"
      ]
     },
     "metadata": {},
     "output_type": "display_data"
    },
    {
     "data": {
      "text/html": [
       "\n",
       "    <div style='color: blue; font-weight: bold;'>Original: And it's where we are going\n",
       "to steal the school mascot.</div>\n",
       "    <div style='color: green; font-weight: bold;'>Translated: E é onde vamos roubar a mascote da escola.</div>\n",
       "    "
      ],
      "text/plain": [
       "<IPython.core.display.HTML object>"
      ]
     },
     "metadata": {},
     "output_type": "display_data"
    },
    {
     "data": {
      "text/html": [
       "\n",
       "    <div style='color: blue; font-weight: bold;'>Original: You want to steal Lenny?</div>\n",
       "    <div style='color: green; font-weight: bold;'>Translated: Queres roubar o Lenny?</div>\n",
       "    "
      ],
      "text/plain": [
       "<IPython.core.display.HTML object>"
      ]
     },
     "metadata": {},
     "output_type": "display_data"
    },
    {
     "data": {
      "text/html": [
       "\n",
       "    <div style='color: blue; font-weight: bold;'>Original: Exactly.</div>\n",
       "    <div style='color: green; font-weight: bold;'>Translated: Exatamente.</div>\n",
       "    "
      ],
      "text/plain": [
       "<IPython.core.display.HTML object>"
      ]
     },
     "metadata": {},
     "output_type": "display_data"
    },
    {
     "data": {
      "text/html": [
       "\n",
       "    <div style='color: blue; font-weight: bold;'>Original: Lycée Pas Bon\n",
       "has always been my dream school.</div>\n",
       "    <div style='color: green; font-weight: bold;'>Translated: O Liceu Pas Bon\n",
       "sempre foi a escola dos meus sonhos.</div>\n",
       "    "
      ],
      "text/plain": [
       "<IPython.core.display.HTML object>"
      ]
     },
     "metadata": {},
     "output_type": "display_data"
    },
    {
     "data": {
      "text/html": [
       "\n",
       "    <div style='color: blue; font-weight: bold;'>Original: And this heist will\n",
       "look so great on\n",
       "my villain transcripts.</div>\n",
       "    <div style='color: green; font-weight: bold;'>Translated: E este assalto vai\n",
       "ficar tão bem no</div>\n",
       "    "
      ],
      "text/plain": [
       "<IPython.core.display.HTML object>"
      ]
     },
     "metadata": {},
     "output_type": "display_data"
    },
    {
     "data": {
      "text/html": [
       "\n",
       "    <div style='color: blue; font-weight: bold;'>Original: That is a terrible idea.</div>\n",
       "    <div style='color: green; font-weight: bold;'>Translated: Isso é uma péssima ideia.</div>\n",
       "    "
      ],
      "text/plain": [
       "<IPython.core.display.HTML object>"
      ]
     },
     "metadata": {},
     "output_type": "display_data"
    },
    {
     "data": {
      "text/html": [
       "\n",
       "    <div style='color: blue; font-weight: bold;'>Original: Have you ever even seen\n",
       "a honey badger?</div>\n",
       "    <div style='color: green; font-weight: bold;'>Translated: Já alguma vez viste\n",
       "um texugo-do-mel?</div>\n",
       "    "
      ],
      "text/plain": [
       "<IPython.core.display.HTML object>"
      ]
     },
     "metadata": {},
     "output_type": "display_data"
    },
    {
     "data": {
      "text/html": [
       "\n",
       "    <div style='color: blue; font-weight: bold;'>Original: They are vicious\n",
       "little monsters.</div>\n",
       "    <div style='color: green; font-weight: bold;'>Translated: São pequenos monstros ferozes.</div>\n",
       "    "
      ],
      "text/plain": [
       "<IPython.core.display.HTML object>"
      ]
     },
     "metadata": {},
     "output_type": "display_data"
    },
    {
     "data": {
      "text/html": [
       "\n",
       "    <div style='color: blue; font-weight: bold;'>Original: They literally eat bees\n",
       "and cobras for breakfast.</div>\n",
       "    <div style='color: green; font-weight: bold;'>Translated: Eles literalmente comem abelhas e cobras ao pequeno-almoço.</div>\n",
       "    "
      ],
      "text/plain": [
       "<IPython.core.display.HTML object>"
      ]
     },
     "metadata": {},
     "output_type": "display_data"
    },
    {
     "data": {
      "text/html": [
       "\n",
       "    <div style='color: blue; font-weight: bold;'>Original: Honey badger don't care.</div>\n",
       "    <div style='color: green; font-weight: bold;'>Translated: O texugo mel não se importa.</div>\n",
       "    "
      ],
      "text/plain": [
       "<IPython.core.display.HTML object>"
      ]
     },
     "metadata": {},
     "output_type": "display_data"
    },
    {
     "data": {
      "text/html": [
       "\n",
       "    <div style='color: blue; font-weight: bold;'>Original: No way. No way am I helping you.</div>\n",
       "    <div style='color: green; font-weight: bold;'>Translated: De maneira nenhuma. De maneira nenhuma vou ajudar-te.</div>\n",
       "    "
      ],
      "text/plain": [
       "<IPython.core.display.HTML object>"
      ]
     },
     "metadata": {},
     "output_type": "display_data"
    },
    {
     "data": {
      "text/html": [
       "\n",
       "    <div style='color: blue; font-weight: bold;'>Original: Well, that's the thing\n",
       "with blackmail,</div>\n",
       "    <div style='color: green; font-weight: bold;'>Translated: Pois, é isso\n",
       "com o chantagem,</div>\n",
       "    "
      ],
      "text/plain": [
       "<IPython.core.display.HTML object>"
      ]
     },
     "metadata": {},
     "output_type": "display_data"
    },
    {
     "data": {
      "text/html": [
       "\n",
       "    <div style='color: blue; font-weight: bold;'>Original: you kinda have no choice.</div>\n",
       "    <div style='color: green; font-weight: bold;'>Translated: não tens propriamente escolha.</div>\n",
       "    "
      ],
      "text/plain": [
       "<IPython.core.display.HTML object>"
      ]
     },
     "metadata": {},
     "output_type": "display_data"
    },
    {
     "data": {
      "text/html": [
       "\n",
       "    <div style='color: blue; font-weight: bold;'>Original: Ha, ha!</div>\n",
       "    <div style='color: green; font-weight: bold;'>Translated: Ah, ah!</div>\n",
       "    "
      ],
      "text/plain": [
       "<IPython.core.display.HTML object>"
      ]
     },
     "metadata": {},
     "output_type": "display_data"
    },
    {
     "data": {
      "text/html": [
       "\n",
       "    <div style='color: blue; font-weight: bold;'>Original: Okay.</div>\n",
       "    <div style='color: green; font-weight: bold;'>Translated: Certo.</div>\n",
       "    "
      ],
      "text/plain": [
       "<IPython.core.display.HTML object>"
      ]
     },
     "metadata": {},
     "output_type": "display_data"
    },
    {
     "data": {
      "text/html": [
       "\n",
       "    <div style='color: blue; font-weight: bold;'>Original: Oh. Ah. Uh...</div>\n",
       "    <div style='color: green; font-weight: bold;'>Translated: Oh. Ah. Eh...</div>\n",
       "    "
      ],
      "text/plain": [
       "<IPython.core.display.HTML object>"
      ]
     },
     "metadata": {},
     "output_type": "display_data"
    },
    {
     "data": {
      "text/html": [
       "\n",
       "    <div style='color: blue; font-weight: bold;'>Original: Tim! Tim.</div>\n",
       "    <div style='color: green; font-weight: bold;'>Translated: Tim! Tim.</div>\n",
       "    "
      ],
      "text/plain": [
       "<IPython.core.display.HTML object>"
      ]
     },
     "metadata": {},
     "output_type": "display_data"
    },
    {
     "data": {
      "text/html": [
       "\n",
       "    <div style='color: blue; font-weight: bold;'>Original: Go, go, go!</div>\n",
       "    <div style='color: green; font-weight: bold;'>Translated: Vai, vai, vai!</div>\n",
       "    "
      ],
      "text/plain": [
       "<IPython.core.display.HTML object>"
      ]
     },
     "metadata": {},
     "output_type": "display_data"
    },
    {
     "data": {
      "text/html": [
       "\n",
       "    <div style='color: blue; font-weight: bold;'>Original: Chihuahua.</div>\n",
       "    <div style='color: green; font-weight: bold;'>Translated: Chihuahua.</div>\n",
       "    "
      ],
      "text/plain": [
       "<IPython.core.display.HTML object>"
      ]
     },
     "metadata": {},
     "output_type": "display_data"
    },
    {
     "data": {
      "text/html": [
       "\n",
       "    <div style='color: blue; font-weight: bold;'>Original: No!</div>\n",
       "    <div style='color: green; font-weight: bold;'>Translated: Não!</div>\n",
       "    "
      ],
      "text/plain": [
       "<IPython.core.display.HTML object>"
      ]
     },
     "metadata": {},
     "output_type": "display_data"
    },
    {
     "data": {
      "text/html": [
       "\n",
       "    <div style='color: blue; font-weight: bold;'>Original: Suppository!</div>\n",
       "    <div style='color: green; font-weight: bold;'>Translated: Supositório!</div>\n",
       "    "
      ],
      "text/plain": [
       "<IPython.core.display.HTML object>"
      ]
     },
     "metadata": {},
     "output_type": "display_data"
    },
    {
     "data": {
      "text/html": [
       "\n",
       "    <div style='color: blue; font-weight: bold;'>Original: Give it!</div>\n",
       "    <div style='color: green; font-weight: bold;'>Translated: Dá cá!</div>\n",
       "    "
      ],
      "text/plain": [
       "<IPython.core.display.HTML object>"
      ]
     },
     "metadata": {},
     "output_type": "display_data"
    },
    {
     "data": {
      "text/html": [
       "\n",
       "    <div style='color: blue; font-weight: bold;'>Original: Hey! Police!</div>\n",
       "    <div style='color: green; font-weight: bold;'>Translated: Olá! Polícia!</div>\n",
       "    "
      ],
      "text/plain": [
       "<IPython.core.display.HTML object>"
      ]
     },
     "metadata": {},
     "output_type": "display_data"
    },
    {
     "data": {
      "text/html": [
       "\n",
       "    <div style='color: blue; font-weight: bold;'>Original: No problemo!</div>\n",
       "    <div style='color: green; font-weight: bold;'>Translated: Sem problema!</div>\n",
       "    "
      ],
      "text/plain": [
       "<IPython.core.display.HTML object>"
      ]
     },
     "metadata": {},
     "output_type": "display_data"
    },
    {
     "data": {
      "text/html": [
       "\n",
       "    <div style='color: blue; font-weight: bold;'>Original: Ooh.</div>\n",
       "    <div style='color: green; font-weight: bold;'>Translated: Ah.</div>\n",
       "    "
      ],
      "text/plain": [
       "<IPython.core.display.HTML object>"
      ]
     },
     "metadata": {},
     "output_type": "display_data"
    },
    {
     "data": {
      "text/html": [
       "\n",
       "    <div style='color: blue; font-weight: bold;'>Original: Uh, piña colada.</div>\n",
       "    <div style='color: green; font-weight: bold;'>Translated: Uh, piña colada.</div>\n",
       "    "
      ],
      "text/plain": [
       "<IPython.core.display.HTML object>"
      ]
     },
     "metadata": {},
     "output_type": "display_data"
    },
    {
     "data": {
      "text/html": [
       "\n",
       "    <div style='color: blue; font-weight: bold;'>Original: Help!</div>\n",
       "    <div style='color: green; font-weight: bold;'>Translated: Socorro!</div>\n",
       "    "
      ],
      "text/plain": [
       "<IPython.core.display.HTML object>"
      ]
     },
     "metadata": {},
     "output_type": "display_data"
    },
    {
     "data": {
      "text/html": [
       "\n",
       "    <div style='color: blue; font-weight: bold;'>Original: Hola.</div>\n",
       "    <div style='color: green; font-weight: bold;'>Translated: Olá.</div>\n",
       "    "
      ],
      "text/plain": [
       "<IPython.core.display.HTML object>"
      ]
     },
     "metadata": {},
     "output_type": "display_data"
    },
    {
     "data": {
      "text/html": [
       "\n",
       "    <div style='color: blue; font-weight: bold;'>Original: Please. Can you help me?</div>\n",
       "    <div style='color: green; font-weight: bold;'>Translated: Por favor. Pode ajudar-me?</div>\n",
       "    "
      ],
      "text/plain": [
       "<IPython.core.display.HTML object>"
      ]
     },
     "metadata": {},
     "output_type": "display_data"
    },
    {
     "data": {
      "text/html": [
       "\n",
       "    <div style='color: blue; font-weight: bold;'>Original: Oh, <i>sí, sí.</i></div>\n",
       "    <div style='color: green; font-weight: bold;'>Translated: Ah, <i>sim, sim.</i></div>\n",
       "    "
      ],
      "text/plain": [
       "<IPython.core.display.HTML object>"
      ]
     },
     "metadata": {},
     "output_type": "display_data"
    },
    {
     "data": {
      "text/html": [
       "\n",
       "    <div style='color: blue; font-weight: bold;'>Original: Ah.\n",
       "Hey! All is good. Ciao!</div>\n",
       "    <div style='color: green; font-weight: bold;'>Translated: Ah.\n",
       "Olá! Está tudo bem. Adeus!</div>\n",
       "    "
      ],
      "text/plain": [
       "<IPython.core.display.HTML object>"
      ]
     },
     "metadata": {},
     "output_type": "display_data"
    },
    {
     "data": {
      "text/html": [
       "\n",
       "    <div style='color: blue; font-weight: bold;'>Original: Smudge!\n",
       "Smudge, come down.\n",
       "Hey!</div>\n",
       "    <div style='color: green; font-weight: bold;'>Translated: Mancha!\n",
       "Mancha, desce.</div>\n",
       "    "
      ],
      "text/plain": [
       "<IPython.core.display.HTML object>"
      ]
     },
     "metadata": {},
     "output_type": "display_data"
    },
    {
     "data": {
      "text/html": [
       "\n",
       "    <div style='color: blue; font-weight: bold;'>Original: <i>El gato.</i></div>\n",
       "    <div style='color: green; font-weight: bold;'>Translated: O gato.</div>\n",
       "    "
      ],
      "text/plain": [
       "<IPython.core.display.HTML object>"
      ]
     },
     "metadata": {},
     "output_type": "display_data"
    },
    {
     "data": {
      "text/html": [
       "\n",
       "    <div style='color: blue; font-weight: bold;'>Original: Thank you. Thank you.</div>\n",
       "    <div style='color: green; font-weight: bold;'>Translated: Obrigado. Obrigado.</div>\n",
       "    "
      ],
      "text/plain": [
       "<IPython.core.display.HTML object>"
      ]
     },
     "metadata": {},
     "output_type": "display_data"
    },
    {
     "data": {
      "text/html": [
       "\n",
       "    <div style='color: blue; font-weight: bold;'>Original: Ooh, smooch.</div>\n",
       "    <div style='color: green; font-weight: bold;'>Translated: Oh, beijinho.</div>\n",
       "    "
      ],
      "text/plain": [
       "<IPython.core.display.HTML object>"
      ]
     },
     "metadata": {},
     "output_type": "display_data"
    },
    {
     "data": {
      "text/html": [
       "\n",
       "    <div style='color: blue; font-weight: bold;'>Original: Smoochy.</div>\n",
       "    <div style='color: green; font-weight: bold;'>Translated: Fofinho.</div>\n",
       "    "
      ],
      "text/plain": [
       "<IPython.core.display.HTML object>"
      ]
     },
     "metadata": {},
     "output_type": "display_data"
    },
    {
     "data": {
      "text/html": [
       "\n",
       "    <div style='color: blue; font-weight: bold;'>Original: Help!</div>\n",
       "    <div style='color: green; font-weight: bold;'>Translated: Socorro!</div>\n",
       "    "
      ],
      "text/plain": [
       "<IPython.core.display.HTML object>"
      ]
     },
     "metadata": {},
     "output_type": "display_data"
    },
    {
     "data": {
      "text/html": [
       "\n",
       "    <div style='color: blue; font-weight: bold;'>Original: Bazooka!</div>\n",
       "    <div style='color: green; font-weight: bold;'>Translated: Bazuca!</div>\n",
       "    "
      ],
      "text/plain": [
       "<IPython.core.display.HTML object>"
      ]
     },
     "metadata": {},
     "output_type": "display_data"
    },
    {
     "data": {
      "text/html": [
       "\n",
       "    <div style='color: blue; font-weight: bold;'>Original: Ah. Eh.</div>\n",
       "    <div style='color: green; font-weight: bold;'>Translated: Ah. Eh.</div>\n",
       "    "
      ],
      "text/plain": [
       "<IPython.core.display.HTML object>"
      ]
     },
     "metadata": {},
     "output_type": "display_data"
    },
    {
     "data": {
      "text/html": [
       "\n",
       "    <div style='color: blue; font-weight: bold;'>Original: Hey, hey.</div>\n",
       "    <div style='color: green; font-weight: bold;'>Translated: Olá, olá.</div>\n",
       "    "
      ],
      "text/plain": [
       "<IPython.core.display.HTML object>"
      ]
     },
     "metadata": {},
     "output_type": "display_data"
    },
    {
     "data": {
      "text/html": [
       "\n",
       "    <div style='color: blue; font-weight: bold;'>Original: Yeah!</div>\n",
       "    <div style='color: green; font-weight: bold;'>Translated: Sim!</div>\n",
       "    "
      ],
      "text/plain": [
       "<IPython.core.display.HTML object>"
      ]
     },
     "metadata": {},
     "output_type": "display_data"
    },
    {
     "data": {
      "text/html": [
       "\n",
       "    <div style='color: blue; font-weight: bold;'>Original: There they are.\n",
       "Those guys crushed my car.</div>\n",
       "    <div style='color: green; font-weight: bold;'>Translated: Lá estão eles.\n",
       "Aqueles tipos esmagaram o meu carro.</div>\n",
       "    "
      ],
      "text/plain": [
       "<IPython.core.display.HTML object>"
      ]
     },
     "metadata": {},
     "output_type": "display_data"
    },
    {
     "data": {
      "text/html": [
       "\n",
       "    <div style='color: blue; font-weight: bold;'>Original: They destroyed the coffee shop.</div>\n",
       "    <div style='color: green; font-weight: bold;'>Translated: Eles destruíram a cafetaria.</div>\n",
       "    "
      ],
      "text/plain": [
       "<IPython.core.display.HTML object>"
      ]
     },
     "metadata": {},
     "output_type": "display_data"
    },
    {
     "data": {
      "text/html": [
       "\n",
       "    <div style='color: blue; font-weight: bold;'>Original: Yeah! Get outta here!</div>\n",
       "    <div style='color: green; font-weight: bold;'>Translated: Sim! Sai daqui!</div>\n",
       "    "
      ],
      "text/plain": [
       "<IPython.core.display.HTML object>"
      ]
     },
     "metadata": {},
     "output_type": "display_data"
    },
    {
     "data": {
      "text/html": [
       "\n",
       "    <div style='color: blue; font-weight: bold;'>Original: They're ruining everything.</div>\n",
       "    <div style='color: green; font-weight: bold;'>Translated: Estão a estragar tudo.</div>\n",
       "    "
      ],
      "text/plain": [
       "<IPython.core.display.HTML object>"
      ]
     },
     "metadata": {},
     "output_type": "display_data"
    },
    {
     "data": {
      "text/html": [
       "\n",
       "    <div style='color: blue; font-weight: bold;'>Original: I'm sick of superheroes.\n",
       "Yeah! Let's get 'em.</div>\n",
       "    <div style='color: green; font-weight: bold;'>Translated: Estou farto de super-heróis.\n",
       "Sim! Vamos apanhá-los.</div>\n",
       "    "
      ],
      "text/plain": [
       "<IPython.core.display.HTML object>"
      ]
     },
     "metadata": {},
     "output_type": "display_data"
    },
    {
     "data": {
      "text/html": [
       "\n",
       "    <div style='color: blue; font-weight: bold;'>Original: No more superheroes!\n",
       "Oh, no, no, no!</div>\n",
       "    <div style='color: green; font-weight: bold;'>Translated: Chega de super-heróis!\n",
       "Oh, não, não, não!</div>\n",
       "    "
      ],
      "text/plain": [
       "<IPython.core.display.HTML object>"
      ]
     },
     "metadata": {},
     "output_type": "display_data"
    },
    {
     "data": {
      "text/html": [
       "\n",
       "    <div style='color: blue; font-weight: bold;'>Original: Get in!</div>\n",
       "    <div style='color: green; font-weight: bold;'>Translated: Entra!</div>\n",
       "    "
      ],
      "text/plain": [
       "<IPython.core.display.HTML object>"
      ]
     },
     "metadata": {},
     "output_type": "display_data"
    },
    {
     "data": {
      "text/html": [
       "\n",
       "    <div style='color: blue; font-weight: bold;'>Original: Boo!\n",
       "Yeah,\n",
       "get outta here!</div>\n",
       "    <div style='color: green; font-weight: bold;'>Translated: Boo!\n",
       "Sim,</div>\n",
       "    "
      ],
      "text/plain": [
       "<IPython.core.display.HTML object>"
      ]
     },
     "metadata": {},
     "output_type": "display_data"
    },
    {
     "data": {
      "text/html": [
       "\n",
       "    <div style='color: blue; font-weight: bold;'>Original: Gentlemen...</div>\n",
       "    <div style='color: green; font-weight: bold;'>Translated: Senhores...</div>\n",
       "    "
      ],
      "text/plain": [
       "<IPython.core.display.HTML object>"
      ]
     },
     "metadata": {},
     "output_type": "display_data"
    },
    {
     "data": {
      "text/html": [
       "\n",
       "    <div style='color: blue; font-weight: bold;'>Original: ...our experiment has failed.</div>\n",
       "    <div style='color: green; font-weight: bold;'>Translated: ...o nosso experimento falhou.</div>\n",
       "    "
      ],
      "text/plain": [
       "<IPython.core.display.HTML object>"
      ]
     },
     "metadata": {},
     "output_type": "display_data"
    },
    {
     "data": {
      "text/html": [
       "\n",
       "    <div style='color: blue; font-weight: bold;'>Original: You are officially\n",
       "going to be retired.</div>\n",
       "    <div style='color: green; font-weight: bold;'>Translated: Está oficialmente\n",
       "reformado.</div>\n",
       "    "
      ],
      "text/plain": [
       "<IPython.core.display.HTML object>"
      ]
     },
     "metadata": {},
     "output_type": "display_data"
    },
    {
     "data": {
      "text/html": [
       "\n",
       "    <div style='color: blue; font-weight: bold;'>Original: Retirement!</div>\n",
       "    <div style='color: green; font-weight: bold;'>Translated: Reforma!</div>\n",
       "    "
      ],
      "text/plain": [
       "<IPython.core.display.HTML object>"
      ]
     },
     "metadata": {},
     "output_type": "display_data"
    },
    {
     "data": {
      "text/html": [
       "\n",
       "    <div style='color: blue; font-weight: bold;'>Original: Uh, no?</div>\n",
       "    <div style='color: green; font-weight: bold;'>Translated: Uh, não?</div>\n",
       "    "
      ],
      "text/plain": [
       "<IPython.core.display.HTML object>"
      ]
     },
     "metadata": {},
     "output_type": "display_data"
    },
    {
     "data": {
      "text/html": [
       "\n",
       "    <div style='color: blue; font-weight: bold;'>Original: Whoa. There it is.</div>\n",
       "    <div style='color: green; font-weight: bold;'>Translated: Uau. Lá está.</div>\n",
       "    "
      ],
      "text/plain": [
       "<IPython.core.display.HTML object>"
      ]
     },
     "metadata": {},
     "output_type": "display_data"
    },
    {
     "data": {
      "text/html": [
       "\n",
       "    <div style='color: blue; font-weight: bold;'>Original: The castle, the gargoyles.</div>\n",
       "    <div style='color: green; font-weight: bold;'>Translated: O castelo, as gárgulas.</div>\n",
       "    "
      ],
      "text/plain": [
       "<IPython.core.display.HTML object>"
      ]
     },
     "metadata": {},
     "output_type": "display_data"
    },
    {
     "data": {
      "text/html": [
       "\n",
       "    <div style='color: blue; font-weight: bold;'>Original: I can't believe\n",
       "I'm really here.</div>\n",
       "    <div style='color: green; font-weight: bold;'>Translated: Não consigo acreditar\n",
       "que estou mesmo aqui.</div>\n",
       "    "
      ],
      "text/plain": [
       "<IPython.core.display.HTML object>"
      ]
     },
     "metadata": {},
     "output_type": "display_data"
    },
    {
     "data": {
      "text/html": [
       "\n",
       "    <div style='color: blue; font-weight: bold;'>Original: Okay.</div>\n",
       "    <div style='color: green; font-weight: bold;'>Translated: Certo.</div>\n",
       "    "
      ],
      "text/plain": [
       "<IPython.core.display.HTML object>"
      ]
     },
     "metadata": {},
     "output_type": "display_data"
    },
    {
     "data": {
      "text/html": [
       "\n",
       "    <div style='color: blue; font-weight: bold;'>Original: Okay.\n",
       "Let's get this over with.</div>\n",
       "    <div style='color: green; font-weight: bold;'>Translated: Ok.\n",
       "Vamos despachar isto.</div>\n",
       "    "
      ],
      "text/plain": [
       "<IPython.core.display.HTML object>"
      ]
     },
     "metadata": {},
     "output_type": "display_data"
    },
    {
     "data": {
      "text/html": [
       "\n",
       "    <div style='color: blue; font-weight: bold;'>Original: Ron, hand me my gear.\n",
       "Voilà.</div>\n",
       "    <div style='color: green; font-weight: bold;'>Translated: Ron, passa-me o meu equipamento.\n",
       "Aqui está.</div>\n",
       "    "
      ],
      "text/plain": [
       "<IPython.core.display.HTML object>"
      ]
     },
     "metadata": {},
     "output_type": "display_data"
    },
    {
     "data": {
      "text/html": [
       "\n",
       "    <div style='color: blue; font-weight: bold;'>Original: Keep a close eye on him.\n",
       "Okay.</div>\n",
       "    <div style='color: green; font-weight: bold;'>Translated: Mantenha-o debaixo de olho.\n",
       "Está bem.</div>\n",
       "    "
      ],
      "text/plain": [
       "<IPython.core.display.HTML object>"
      ]
     },
     "metadata": {},
     "output_type": "display_data"
    },
    {
     "data": {
      "text/html": [
       "\n",
       "    <div style='color: blue; font-weight: bold;'>Original: If you need anything...\n",
       "Uh-huh.</div>\n",
       "    <div style='color: green; font-weight: bold;'>Translated: Se precisares de alguma coisa...\n",
       "Uh-huh.</div>\n",
       "    "
      ],
      "text/plain": [
       "<IPython.core.display.HTML object>"
      ]
     },
     "metadata": {},
     "output_type": "display_data"
    },
    {
     "data": {
      "text/html": [
       "\n",
       "    <div style='color: blue; font-weight: bold;'>Original: ...I brought formula,\n",
       "extra diapers,\n",
       "his favorite Binky--</div>\n",
       "    <div style='color: green; font-weight: bold;'>Translated: ...trouxe fórmula,\n",
       "fraldas extra,</div>\n",
       "    "
      ],
      "text/plain": [
       "<IPython.core.display.HTML object>"
      ]
     },
     "metadata": {},
     "output_type": "display_data"
    },
    {
     "data": {
      "text/html": [
       "\n",
       "    <div style='color: blue; font-weight: bold;'>Original: Come on. Let's go.\n",
       "Let's go.</div>\n",
       "    <div style='color: green; font-weight: bold;'>Translated: Vamos. Vamos embora.\n",
       "Vamos embora.</div>\n",
       "    "
      ],
      "text/plain": [
       "<IPython.core.display.HTML object>"
      ]
     },
     "metadata": {},
     "output_type": "display_data"
    },
    {
     "data": {
      "text/html": [
       "\n",
       "    <div style='color: blue; font-weight: bold;'>Original: And now, we cut through\n",
       "the glass with my...</div>\n",
       "    <div style='color: green; font-weight: bold;'>Translated: E agora, cortamos o vidro com o meu...</div>\n",
       "    "
      ],
      "text/plain": [
       "<IPython.core.display.HTML object>"
      ]
     },
     "metadata": {},
     "output_type": "display_data"
    },
    {
     "data": {
      "text/html": [
       "\n",
       "    <div style='color: blue; font-weight: bold;'>Original: diapers?</div>\n",
       "    <div style='color: green; font-weight: bold;'>Translated: fraldas?</div>\n",
       "    "
      ],
      "text/plain": [
       "<IPython.core.display.HTML object>"
      ]
     },
     "metadata": {},
     "output_type": "display_data"
    },
    {
     "data": {
      "text/html": [
       "\n",
       "    <div style='color: blue; font-weight: bold;'>Original: What? You've got to\n",
       "be kidding with me.</div>\n",
       "    <div style='color: green; font-weight: bold;'>Translated: O quê? Estás a brincar comigo.</div>\n",
       "    "
      ],
      "text/plain": [
       "<IPython.core.display.HTML object>"
      ]
     },
     "metadata": {},
     "output_type": "display_data"
    },
    {
     "data": {
      "text/html": [
       "\n",
       "    <div style='color: blue; font-weight: bold;'>Original: <i>Muerte a la piñata!</i></div>\n",
       "    <div style='color: green; font-weight: bold;'>Translated: <i>Morte à piñata!</i></div>\n",
       "    "
      ],
      "text/plain": [
       "<IPython.core.display.HTML object>"
      ]
     },
     "metadata": {},
     "output_type": "display_data"
    },
    {
     "data": {
      "text/html": [
       "\n",
       "    <div style='color: blue; font-weight: bold;'>Original: Hey, guys.\n",
       "Guys. Guys? Guys!</div>\n",
       "    <div style='color: green; font-weight: bold;'>Translated: Olá, pessoal.\n",
       "Pessoal. Pessoal? Pessoal!</div>\n",
       "    "
      ],
      "text/plain": [
       "<IPython.core.display.HTML object>"
      ]
     },
     "metadata": {},
     "output_type": "display_data"
    },
    {
     "data": {
      "text/html": [
       "\n",
       "    <div style='color: blue; font-weight: bold;'>Original: Guys, where is\n",
       "the other bag with my gear?</div>\n",
       "    <div style='color: green; font-weight: bold;'>Translated: Malta, onde está a outra mala com o meu equipamento?</div>\n",
       "    "
      ],
      "text/plain": [
       "<IPython.core.display.HTML object>"
      ]
     },
     "metadata": {},
     "output_type": "display_data"
    },
    {
     "data": {
      "text/html": [
       "\n",
       "    <div style='color: blue; font-weight: bold;'>Original: Balloon.</div>\n",
       "    <div style='color: green; font-weight: bold;'>Translated: Balão.</div>\n",
       "    "
      ],
      "text/plain": [
       "<IPython.core.display.HTML object>"
      ]
     },
     "metadata": {},
     "output_type": "display_data"
    },
    {
     "data": {
      "text/html": [
       "\n",
       "    <div style='color: blue; font-weight: bold;'>Original: Ah.</div>\n",
       "    <div style='color: green; font-weight: bold;'>Translated: Ah.</div>\n",
       "    "
      ],
      "text/plain": [
       "<IPython.core.display.HTML object>"
      ]
     },
     "metadata": {},
     "output_type": "display_data"
    },
    {
     "data": {
      "text/html": [
       "\n",
       "    <div style='color: blue; font-weight: bold;'>Original: Oops.</div>\n",
       "    <div style='color: green; font-weight: bold;'>Translated: Ups.</div>\n",
       "    "
      ],
      "text/plain": [
       "<IPython.core.display.HTML object>"
      ]
     },
     "metadata": {},
     "output_type": "display_data"
    },
    {
     "data": {
      "text/html": [
       "\n",
       "    <div style='color: blue; font-weight: bold;'>Original: What? How--</div>\n",
       "    <div style='color: green; font-weight: bold;'>Translated: O quê? Como--</div>\n",
       "    "
      ],
      "text/plain": [
       "<IPython.core.display.HTML object>"
      ]
     },
     "metadata": {},
     "output_type": "display_data"
    },
    {
     "data": {
      "text/html": [
       "\n",
       "    <div style='color: blue; font-weight: bold;'>Original: All right. All right.\n",
       "Let's see what\n",
       "I got in here. Uh...</div>\n",
       "    <div style='color: green; font-weight: bold;'>Translated: Tudo bem. Tudo bem.\n",
       "Vamos ver o que</div>\n",
       "    "
      ],
      "text/plain": [
       "<IPython.core.display.HTML object>"
      ]
     },
     "metadata": {},
     "output_type": "display_data"
    },
    {
     "data": {
      "text/html": [
       "\n",
       "    <div style='color: blue; font-weight: bold;'>Original: Come on. Come on,\n",
       "come on, come on. Aha!</div>\n",
       "    <div style='color: green; font-weight: bold;'>Translated: Vamos. Vamos,\n",
       "vamos, vamos. Aha!</div>\n",
       "    "
      ],
      "text/plain": [
       "<IPython.core.display.HTML object>"
      ]
     },
     "metadata": {},
     "output_type": "display_data"
    },
    {
     "data": {
      "text/html": [
       "\n",
       "    <div style='color: blue; font-weight: bold;'>Original: Easy-peasy.</div>\n",
       "    <div style='color: green; font-weight: bold;'>Translated: Facílimo.</div>\n",
       "    "
      ],
      "text/plain": [
       "<IPython.core.display.HTML object>"
      ]
     },
     "metadata": {},
     "output_type": "display_data"
    },
    {
     "data": {
      "text/html": [
       "\n",
       "    <div style='color: blue; font-weight: bold;'>Original: Huh?</div>\n",
       "    <div style='color: green; font-weight: bold;'>Translated: Hã?</div>\n",
       "    "
      ],
      "text/plain": [
       "<IPython.core.display.HTML object>"
      ]
     },
     "metadata": {},
     "output_type": "display_data"
    },
    {
     "data": {
      "text/html": [
       "\n",
       "    <div style='color: blue; font-weight: bold;'>Original: That's Mr. Friendly.</div>\n",
       "    <div style='color: green; font-weight: bold;'>Translated: Esse é o Sr. Amigável.</div>\n",
       "    "
      ],
      "text/plain": [
       "<IPython.core.display.HTML object>"
      ]
     },
     "metadata": {},
     "output_type": "display_data"
    },
    {
     "data": {
      "text/html": [
       "\n",
       "    <div style='color: blue; font-weight: bold;'>Original: Stupid kids.</div>\n",
       "    <div style='color: green; font-weight: bold;'>Translated: Crianças estúpidas.</div>\n",
       "    "
      ],
      "text/plain": [
       "<IPython.core.display.HTML object>"
      ]
     },
     "metadata": {},
     "output_type": "display_data"
    },
    {
     "data": {
      "text/html": [
       "\n",
       "    <div style='color: blue; font-weight: bold;'>Original: No, no, no!</div>\n",
       "    <div style='color: green; font-weight: bold;'>Translated: Não, não, não!</div>\n",
       "    "
      ],
      "text/plain": [
       "<IPython.core.display.HTML object>"
      ]
     },
     "metadata": {},
     "output_type": "display_data"
    },
    {
     "data": {
      "text/html": [
       "\n",
       "    <div style='color: blue; font-weight: bold;'>Original: Oh, I hate my job.</div>\n",
       "    <div style='color: green; font-weight: bold;'>Translated: Oh, odeio o meu trabalho.</div>\n",
       "    "
      ],
      "text/plain": [
       "<IPython.core.display.HTML object>"
      ]
     },
     "metadata": {},
     "output_type": "display_data"
    },
    {
     "data": {
      "text/html": [
       "\n",
       "    <div style='color: blue; font-weight: bold;'>Original: Whew.</div>\n",
       "    <div style='color: green; font-weight: bold;'>Translated: Ufa.</div>\n",
       "    "
      ],
      "text/plain": [
       "<IPython.core.display.HTML object>"
      ]
     },
     "metadata": {},
     "output_type": "display_data"
    },
    {
     "data": {
      "text/html": [
       "\n",
       "    <div style='color: blue; font-weight: bold;'>Original: Stupid kids.</div>\n",
       "    <div style='color: green; font-weight: bold;'>Translated: Crianças estúpidas.</div>\n",
       "    "
      ],
      "text/plain": [
       "<IPython.core.display.HTML object>"
      ]
     },
     "metadata": {},
     "output_type": "display_data"
    },
    {
     "data": {
      "text/html": [
       "\n",
       "    <div style='color: blue; font-weight: bold;'>Original: Ha-ha-ha.</div>\n",
       "    <div style='color: green; font-weight: bold;'>Translated: Ha-ha-ha.</div>\n",
       "    "
      ],
      "text/plain": [
       "<IPython.core.display.HTML object>"
      ]
     },
     "metadata": {},
     "output_type": "display_data"
    },
    {
     "data": {
      "text/html": [
       "\n",
       "    <div style='color: blue; font-weight: bold;'>Original: That's Dr. Destructo.\n",
       "He was just a kid.</div>\n",
       "    <div style='color: green; font-weight: bold;'>Translated: Esse é o Dr. Destructo.\n",
       "Ele era apenas uma criança.</div>\n",
       "    "
      ],
      "text/plain": [
       "<IPython.core.display.HTML object>"
      ]
     },
     "metadata": {},
     "output_type": "display_data"
    },
    {
     "data": {
      "text/html": [
       "\n",
       "    <div style='color: blue; font-weight: bold;'>Original: And there is Killer Driller's\n",
       "original helmet.</div>\n",
       "    <div style='color: green; font-weight: bold;'>Translated: E ali está o capacete original do Killer Driller.</div>\n",
       "    "
      ],
      "text/plain": [
       "<IPython.core.display.HTML object>"
      ]
     },
     "metadata": {},
     "output_type": "display_data"
    },
    {
     "data": {
      "text/html": [
       "\n",
       "    <div style='color: blue; font-weight: bold;'>Original: Come on!</div>\n",
       "    <div style='color: green; font-weight: bold;'>Translated: Vamos!</div>\n",
       "    "
      ],
      "text/plain": [
       "<IPython.core.display.HTML object>"
      ]
     },
     "metadata": {},
     "output_type": "display_data"
    },
    {
     "data": {
      "text/html": [
       "\n",
       "    <div style='color: blue; font-weight: bold;'>Original: Stay focused.</div>\n",
       "    <div style='color: green; font-weight: bold;'>Translated: Mantém o foco.</div>\n",
       "    "
      ],
      "text/plain": [
       "<IPython.core.display.HTML object>"
      ]
     },
     "metadata": {},
     "output_type": "display_data"
    },
    {
     "data": {
      "text/html": [
       "\n",
       "    <div style='color: blue; font-weight: bold;'>Original: Diaper.</div>\n",
       "    <div style='color: green; font-weight: bold;'>Translated: Fralda.</div>\n",
       "    "
      ],
      "text/plain": [
       "<IPython.core.display.HTML object>"
      ]
     },
     "metadata": {},
     "output_type": "display_data"
    },
    {
     "data": {
      "text/html": [
       "\n",
       "    <div style='color: blue; font-weight: bold;'>Original: I need something like--\n",
       "Something that I can--</div>\n",
       "    <div style='color: green; font-weight: bold;'>Translated: Preciso de algo como--\n",
       "Algo que eu possa--</div>\n",
       "    "
      ],
      "text/plain": [
       "<IPython.core.display.HTML object>"
      ]
     },
     "metadata": {},
     "output_type": "display_data"
    },
    {
     "data": {
      "text/html": [
       "\n",
       "    <div style='color: blue; font-weight: bold;'>Original: How about this?</div>\n",
       "    <div style='color: green; font-weight: bold;'>Translated: Que tal isto?</div>\n",
       "    "
      ],
      "text/plain": [
       "<IPython.core.display.HTML object>"
      ]
     },
     "metadata": {},
     "output_type": "display_data"
    },
    {
     "data": {
      "text/html": [
       "\n",
       "    <div style='color: blue; font-weight: bold;'>Original: Nice.</div>\n",
       "    <div style='color: green; font-weight: bold;'>Translated: Agradável.</div>\n",
       "    "
      ],
      "text/plain": [
       "<IPython.core.display.HTML object>"
      ]
     },
     "metadata": {},
     "output_type": "display_data"
    },
    {
     "data": {
      "text/html": [
       "\n",
       "    <div style='color: blue; font-weight: bold;'>Original: Yes!</div>\n",
       "    <div style='color: green; font-weight: bold;'>Translated: Sim!</div>\n",
       "    "
      ],
      "text/plain": [
       "<IPython.core.display.HTML object>"
      ]
     },
     "metadata": {},
     "output_type": "display_data"
    },
    {
     "data": {
      "text/html": [
       "\n",
       "    <div style='color: blue; font-weight: bold;'>Original: We're in.</div>\n",
       "    <div style='color: green; font-weight: bold;'>Translated: Estamos dentro.</div>\n",
       "    "
      ],
      "text/plain": [
       "<IPython.core.display.HTML object>"
      ]
     },
     "metadata": {},
     "output_type": "display_data"
    },
    {
     "data": {
      "text/html": [
       "\n",
       "    <div style='color: blue; font-weight: bold;'>Original: Wait. No, no, no.</div>\n",
       "    <div style='color: green; font-weight: bold;'>Translated: Espera. Não, não, não.</div>\n",
       "    "
      ],
      "text/plain": [
       "<IPython.core.display.HTML object>"
      ]
     },
     "metadata": {},
     "output_type": "display_data"
    },
    {
     "data": {
      "text/html": [
       "\n",
       "    <div style='color: blue; font-weight: bold;'>Original: Baby powder!</div>\n",
       "    <div style='color: green; font-weight: bold;'>Translated: Pó de talco!</div>\n",
       "    "
      ],
      "text/plain": [
       "<IPython.core.display.HTML object>"
      ]
     },
     "metadata": {},
     "output_type": "display_data"
    },
    {
     "data": {
      "text/html": [
       "\n",
       "    <div style='color: blue; font-weight: bold;'>Original: Ah, <i>sí, sí.</i></div>\n",
       "    <div style='color: green; font-weight: bold;'>Translated: Ah, <i>sim, sim.</i></div>\n",
       "    "
      ],
      "text/plain": [
       "<IPython.core.display.HTML object>"
      ]
     },
     "metadata": {},
     "output_type": "display_data"
    },
    {
     "data": {
      "text/html": [
       "\n",
       "    <div style='color: blue; font-weight: bold;'>Original: Whoa!</div>\n",
       "    <div style='color: green; font-weight: bold;'>Translated: Uau!</div>\n",
       "    "
      ],
      "text/plain": [
       "<IPython.core.display.HTML object>"
      ]
     },
     "metadata": {},
     "output_type": "display_data"
    },
    {
     "data": {
      "text/html": [
       "\n",
       "    <div style='color: blue; font-weight: bold;'>Original: You know,\n",
       "the most important part\n",
       "of a heist</div>\n",
       "    <div style='color: green; font-weight: bold;'>Translated: Sabes,\n",
       "a parte mais importante</div>\n",
       "    "
      ],
      "text/plain": [
       "<IPython.core.display.HTML object>"
      ]
     },
     "metadata": {},
     "output_type": "display_data"
    },
    {
     "data": {
      "text/html": [
       "\n",
       "    <div style='color: blue; font-weight: bold;'>Original: is being constantly aware\n",
       "of potential danger.</div>\n",
       "    <div style='color: green; font-weight: bold;'>Translated: estar constantemente consciente\n",
       "do perigo potencial.</div>\n",
       "    "
      ],
      "text/plain": [
       "<IPython.core.display.HTML object>"
      ]
     },
     "metadata": {},
     "output_type": "display_data"
    },
    {
     "data": {
      "text/html": [
       "\n",
       "    <div style='color: blue; font-weight: bold;'>Original: Tiramisu!</div>\n",
       "    <div style='color: green; font-weight: bold;'>Translated: Tiramisu!</div>\n",
       "    "
      ],
      "text/plain": [
       "<IPython.core.display.HTML object>"
      ]
     },
     "metadata": {},
     "output_type": "display_data"
    },
    {
     "data": {
      "text/html": [
       "\n",
       "    <div style='color: blue; font-weight: bold;'>Original: No. Junior!</div>\n",
       "    <div style='color: green; font-weight: bold;'>Translated: Não, Júnior!</div>\n",
       "    "
      ],
      "text/plain": [
       "<IPython.core.display.HTML object>"
      ]
     },
     "metadata": {},
     "output_type": "display_data"
    },
    {
     "data": {
      "text/html": [
       "\n",
       "    <div style='color: blue; font-weight: bold;'>Original: Junior, come back here.</div>\n",
       "    <div style='color: green; font-weight: bold;'>Translated: Junior, volta para cá.</div>\n",
       "    "
      ],
      "text/plain": [
       "<IPython.core.display.HTML object>"
      ]
     },
     "metadata": {},
     "output_type": "display_data"
    },
    {
     "data": {
      "text/html": [
       "\n",
       "    <div style='color: blue; font-weight: bold;'>Original: So, what's your plan now?</div>\n",
       "    <div style='color: green; font-weight: bold;'>Translated: Então, qual é o teu plano agora?</div>\n",
       "    "
      ],
      "text/plain": [
       "<IPython.core.display.HTML object>"
      ]
     },
     "metadata": {},
     "output_type": "display_data"
    },
    {
     "data": {
      "text/html": [
       "\n",
       "    <div style='color: blue; font-weight: bold;'>Original: I am dealing with it.</div>\n",
       "    <div style='color: green; font-weight: bold;'>Translated: Estou a tratar disso.</div>\n",
       "    "
      ],
      "text/plain": [
       "<IPython.core.display.HTML object>"
      ]
     },
     "metadata": {},
     "output_type": "display_data"
    },
    {
     "data": {
      "text/html": [
       "\n",
       "    <div style='color: blue; font-weight: bold;'>Original: Don't touch anything. No.</div>\n",
       "    <div style='color: green; font-weight: bold;'>Translated: Não toques em nada. Não.</div>\n",
       "    "
      ],
      "text/plain": [
       "<IPython.core.display.HTML object>"
      ]
     },
     "metadata": {},
     "output_type": "display_data"
    },
    {
     "data": {
      "text/html": [
       "\n",
       "    <div style='color: blue; font-weight: bold;'>Original: No, no, no!</div>\n",
       "    <div style='color: green; font-weight: bold;'>Translated: Não, não, não!</div>\n",
       "    "
      ],
      "text/plain": [
       "<IPython.core.display.HTML object>"
      ]
     },
     "metadata": {},
     "output_type": "display_data"
    },
    {
     "data": {
      "text/html": [
       "\n",
       "    <div style='color: blue; font-weight: bold;'>Original: Good job, Junior.\n",
       "Way to go.</div>\n",
       "    <div style='color: green; font-weight: bold;'>Translated: Bom trabalho, Junior.\n",
       "Continua assim.</div>\n",
       "    "
      ],
      "text/plain": [
       "<IPython.core.display.HTML object>"
      ]
     },
     "metadata": {},
     "output_type": "display_data"
    },
    {
     "data": {
      "text/html": [
       "\n",
       "    <div style='color: blue; font-weight: bold;'>Original: Aw, he's having fun.</div>\n",
       "    <div style='color: green; font-weight: bold;'>Translated: Ah, ele está a divertir-se.</div>\n",
       "    "
      ],
      "text/plain": [
       "<IPython.core.display.HTML object>"
      ]
     },
     "metadata": {},
     "output_type": "display_data"
    },
    {
     "data": {
      "text/html": [
       "\n",
       "    <div style='color: blue; font-weight: bold;'>Original: Ugh, too much fun.</div>\n",
       "    <div style='color: green; font-weight: bold;'>Translated: Ugh, diversão a mais.</div>\n",
       "    "
      ],
      "text/plain": [
       "<IPython.core.display.HTML object>"
      ]
     },
     "metadata": {},
     "output_type": "display_data"
    },
    {
     "data": {
      "text/html": [
       "\n",
       "    <div style='color: blue; font-weight: bold;'>Original: Please, Junior.</div>\n",
       "    <div style='color: green; font-weight: bold;'>Translated: Por favor, Júnior.</div>\n",
       "    "
      ],
      "text/plain": [
       "<IPython.core.display.HTML object>"
      ]
     },
     "metadata": {},
     "output_type": "display_data"
    },
    {
     "data": {
      "text/html": [
       "\n",
       "    <div style='color: blue; font-weight: bold;'>Original: Daddy needs to steal\n",
       "a honey badger.</div>\n",
       "    <div style='color: green; font-weight: bold;'>Translated: O papá precisa de roubar\n",
       "um texugo-mel.</div>\n",
       "    "
      ],
      "text/plain": [
       "<IPython.core.display.HTML object>"
      ]
     },
     "metadata": {},
     "output_type": "display_data"
    },
    {
     "data": {
      "text/html": [
       "\n",
       "    <div style='color: blue; font-weight: bold;'>Original: Okay.</div>\n",
       "    <div style='color: green; font-weight: bold;'>Translated: Certo.</div>\n",
       "    "
      ],
      "text/plain": [
       "<IPython.core.display.HTML object>"
      ]
     },
     "metadata": {},
     "output_type": "display_data"
    },
    {
     "data": {
      "text/html": [
       "\n",
       "    <div style='color: blue; font-weight: bold;'>Original: I know they keep\n",
       "Lenny here at night.</div>\n",
       "    <div style='color: green; font-weight: bold;'>Translated: Eu sei que eles mantêm o Lenny aqui à noite.</div>\n",
       "    "
      ],
      "text/plain": [
       "<IPython.core.display.HTML object>"
      ]
     },
     "metadata": {},
     "output_type": "display_data"
    },
    {
     "data": {
      "text/html": [
       "\n",
       "    <div style='color: blue; font-weight: bold;'>Original: And, if memory serves,</div>\n",
       "    <div style='color: green; font-weight: bold;'>Translated: E, se a memória não me falha,</div>\n",
       "    "
      ],
      "text/plain": [
       "<IPython.core.display.HTML object>"
      ]
     },
     "metadata": {},
     "output_type": "display_data"
    },
    {
     "data": {
      "text/html": [
       "\n",
       "    <div style='color: blue; font-weight: bold;'>Original: there is a hidden switch\n",
       "around here somewhere.</div>\n",
       "    <div style='color: green; font-weight: bold;'>Translated: há um interruptor escondido\n",
       "por aqui algures.</div>\n",
       "    "
      ],
      "text/plain": [
       "<IPython.core.display.HTML object>"
      ]
     },
     "metadata": {},
     "output_type": "display_data"
    },
    {
     "data": {
      "text/html": [
       "\n",
       "    <div style='color: blue; font-weight: bold;'>Original: Ah! Ha-ha.</div>\n",
       "    <div style='color: green; font-weight: bold;'>Translated: Ah! Ha-ha.</div>\n",
       "    "
      ],
      "text/plain": [
       "<IPython.core.display.HTML object>"
      ]
     },
     "metadata": {},
     "output_type": "display_data"
    },
    {
     "data": {
      "text/html": [
       "\n",
       "    <div style='color: blue; font-weight: bold;'>Original: Yes!</div>\n",
       "    <div style='color: green; font-weight: bold;'>Translated: Sim!</div>\n",
       "    "
      ],
      "text/plain": [
       "<IPython.core.display.HTML object>"
      ]
     },
     "metadata": {},
     "output_type": "display_data"
    },
    {
     "data": {
      "text/html": [
       "\n",
       "    <div style='color: blue; font-weight: bold;'>Original: Ooh.</div>\n",
       "    <div style='color: green; font-weight: bold;'>Translated: Ah.</div>\n",
       "    "
      ],
      "text/plain": [
       "<IPython.core.display.HTML object>"
      ]
     },
     "metadata": {},
     "output_type": "display_data"
    },
    {
     "data": {
      "text/html": [
       "\n",
       "    <div style='color: blue; font-weight: bold;'>Original: I'll hit him with this.</div>\n",
       "    <div style='color: green; font-weight: bold;'>Translated: Vou acertar-lhe com isto.</div>\n",
       "    "
      ],
      "text/plain": [
       "<IPython.core.display.HTML object>"
      ]
     },
     "metadata": {},
     "output_type": "display_data"
    },
    {
     "data": {
      "text/html": [
       "\n",
       "    <div style='color: blue; font-weight: bold;'>Original: Once he's knocked out,\n",
       "we'll open the cage.</div>\n",
       "    <div style='color: green; font-weight: bold;'>Translated: Assim que ele estiver inconsciente,\n",
       "abriremos a jaula.</div>\n",
       "    "
      ],
      "text/plain": [
       "<IPython.core.display.HTML object>"
      ]
     },
     "metadata": {},
     "output_type": "display_data"
    },
    {
     "data": {
      "text/html": [
       "\n",
       "    <div style='color: blue; font-weight: bold;'>Original: That fuzzy demon\n",
       "will sleep like a baby\n",
       "the whole--</div>\n",
       "    <div style='color: green; font-weight: bold;'>Translated: Esse demónio felpudo\n",
       "vai dormir como um bebé</div>\n",
       "    "
      ],
      "text/plain": [
       "<IPython.core.display.HTML object>"
      ]
     },
     "metadata": {},
     "output_type": "display_data"
    },
    {
     "data": {
      "text/html": [
       "\n",
       "    <div style='color: blue; font-weight: bold;'>Original: Okay.\n",
       "He's still asleep.</div>\n",
       "    <div style='color: green; font-weight: bold;'>Translated: Ele ainda está a dormir.</div>\n",
       "    "
      ],
      "text/plain": [
       "<IPython.core.display.HTML object>"
      ]
     },
     "metadata": {},
     "output_type": "display_data"
    },
    {
     "data": {
      "text/html": [
       "\n",
       "    <div style='color: blue; font-weight: bold;'>Original: Mamma mia!</div>\n",
       "    <div style='color: green; font-weight: bold;'>Translated: Mamma mia!</div>\n",
       "    "
      ],
      "text/plain": [
       "<IPython.core.display.HTML object>"
      ]
     },
     "metadata": {},
     "output_type": "display_data"
    },
    {
     "data": {
      "text/html": [
       "\n",
       "    <div style='color: blue; font-weight: bold;'>Original: I tranked myself.</div>\n",
       "    <div style='color: green; font-weight: bold;'>Translated: Eu droguei-me a mim mesmo.</div>\n",
       "    "
      ],
      "text/plain": [
       "<IPython.core.display.HTML object>"
      ]
     },
     "metadata": {},
     "output_type": "display_data"
    },
    {
     "data": {
      "text/html": [
       "\n",
       "    <div style='color: blue; font-weight: bold;'>Original: Hey! Hey!</div>\n",
       "    <div style='color: green; font-weight: bold;'>Translated: Olá! Olá!</div>\n",
       "    "
      ],
      "text/plain": [
       "<IPython.core.display.HTML object>"
      ]
     },
     "metadata": {},
     "output_type": "display_data"
    },
    {
     "data": {
      "text/html": [
       "\n",
       "    <div style='color: blue; font-weight: bold;'>Original: Gru, what do we do?</div>\n",
       "    <div style='color: green; font-weight: bold;'>Translated: Gru, o que fazemos?</div>\n",
       "    "
      ],
      "text/plain": [
       "<IPython.core.display.HTML object>"
      ]
     },
     "metadata": {},
     "output_type": "display_data"
    },
    {
     "data": {
      "text/html": [
       "\n",
       "    <div style='color: blue; font-weight: bold;'>Original: No!</div>\n",
       "    <div style='color: green; font-weight: bold;'>Translated: Não!</div>\n",
       "    "
      ],
      "text/plain": [
       "<IPython.core.display.HTML object>"
      ]
     },
     "metadata": {},
     "output_type": "display_data"
    },
    {
     "data": {
      "text/html": [
       "\n",
       "    <div style='color: blue; font-weight: bold;'>Original: Oh, no!\n",
       "I've ruined our heist.</div>\n",
       "    <div style='color: green; font-weight: bold;'>Translated: Oh, não!\n",
       "Estraguei o nosso assalto.</div>\n",
       "    "
      ],
      "text/plain": [
       "<IPython.core.display.HTML object>"
      ]
     },
     "metadata": {},
     "output_type": "display_data"
    },
    {
     "data": {
      "text/html": [
       "\n",
       "    <div style='color: blue; font-weight: bold;'>Original: What? Who dares?</div>\n",
       "    <div style='color: green; font-weight: bold;'>Translated: O quê? Quem se atreve?</div>\n",
       "    "
      ],
      "text/plain": [
       "<IPython.core.display.HTML object>"
      ]
     },
     "metadata": {},
     "output_type": "display_data"
    },
    {
     "data": {
      "text/html": [
       "\n",
       "    <div style='color: blue; font-weight: bold;'>Original: Intruders!</div>\n",
       "    <div style='color: green; font-weight: bold;'>Translated: Intrusos!</div>\n",
       "    "
      ],
      "text/plain": [
       "<IPython.core.display.HTML object>"
      ]
     },
     "metadata": {},
     "output_type": "display_data"
    },
    {
     "data": {
      "text/html": [
       "\n",
       "    <div style='color: blue; font-weight: bold;'>Original: Intruders!</div>\n",
       "    <div style='color: green; font-weight: bold;'>Translated: Intrusos!</div>\n",
       "    "
      ],
      "text/plain": [
       "<IPython.core.display.HTML object>"
      ]
     },
     "metadata": {},
     "output_type": "display_data"
    },
    {
     "data": {
      "text/html": [
       "\n",
       "    <div style='color: blue; font-weight: bold;'>Original: Wake up!</div>\n",
       "    <div style='color: green; font-weight: bold;'>Translated: Acorda!</div>\n",
       "    "
      ],
      "text/plain": [
       "<IPython.core.display.HTML object>"
      ]
     },
     "metadata": {},
     "output_type": "display_data"
    },
    {
     "data": {
      "text/html": [
       "\n",
       "    <div style='color: blue; font-weight: bold;'>Original: No!</div>\n",
       "    <div style='color: green; font-weight: bold;'>Translated: Não!</div>\n",
       "    "
      ],
      "text/plain": [
       "<IPython.core.display.HTML object>"
      ]
     },
     "metadata": {},
     "output_type": "display_data"
    },
    {
     "data": {
      "text/html": [
       "\n",
       "    <div style='color: blue; font-weight: bold;'>Original: What?</div>\n",
       "    <div style='color: green; font-weight: bold;'>Translated: O quê?</div>\n",
       "    "
      ],
      "text/plain": [
       "<IPython.core.display.HTML object>"
      ]
     },
     "metadata": {},
     "output_type": "display_data"
    },
    {
     "data": {
      "text/html": [
       "\n",
       "    <div style='color: blue; font-weight: bold;'>Original: Hmm.</div>\n",
       "    <div style='color: green; font-weight: bold;'>Translated: Hmm.</div>\n",
       "    "
      ],
      "text/plain": [
       "<IPython.core.display.HTML object>"
      ]
     },
     "metadata": {},
     "output_type": "display_data"
    },
    {
     "data": {
      "text/html": [
       "\n",
       "    <div style='color: blue; font-weight: bold;'>Original: Aw.</div>\n",
       "    <div style='color: green; font-weight: bold;'>Translated: Ai.</div>\n",
       "    "
      ],
      "text/plain": [
       "<IPython.core.display.HTML object>"
      ]
     },
     "metadata": {},
     "output_type": "display_data"
    },
    {
     "data": {
      "text/html": [
       "\n",
       "    <div style='color: blue; font-weight: bold;'>Original: Aw.</div>\n",
       "    <div style='color: green; font-weight: bold;'>Translated: Ai.</div>\n",
       "    "
      ],
      "text/plain": [
       "<IPython.core.display.HTML object>"
      ]
     },
     "metadata": {},
     "output_type": "display_data"
    },
    {
     "data": {
      "text/html": [
       "\n",
       "    <div style='color: blue; font-weight: bold;'>Original: No. Nope.</div>\n",
       "    <div style='color: green; font-weight: bold;'>Translated: Não. De maneira nenhuma.</div>\n",
       "    "
      ],
      "text/plain": [
       "<IPython.core.display.HTML object>"
      ]
     },
     "metadata": {},
     "output_type": "display_data"
    },
    {
     "data": {
      "text/html": [
       "\n",
       "    <div style='color: blue; font-weight: bold;'>Original: Come on. We have to go.</div>\n",
       "    <div style='color: green; font-weight: bold;'>Translated: Vamos. Temos de ir.</div>\n",
       "    "
      ],
      "text/plain": [
       "<IPython.core.display.HTML object>"
      ]
     },
     "metadata": {},
     "output_type": "display_data"
    },
    {
     "data": {
      "text/html": [
       "\n",
       "    <div style='color: blue; font-weight: bold;'>Original: Intruders!</div>\n",
       "    <div style='color: green; font-weight: bold;'>Translated: Intrusos!</div>\n",
       "    "
      ],
      "text/plain": [
       "<IPython.core.display.HTML object>"
      ]
     },
     "metadata": {},
     "output_type": "display_data"
    },
    {
     "data": {
      "text/html": [
       "\n",
       "    <div style='color: blue; font-weight: bold;'>Original: You messed with\n",
       "the wrong principal.</div>\n",
       "    <div style='color: green; font-weight: bold;'>Translated: Meteu-se com o diretor errado.</div>\n",
       "    "
      ],
      "text/plain": [
       "<IPython.core.display.HTML object>"
      ]
     },
     "metadata": {},
     "output_type": "display_data"
    },
    {
     "data": {
      "text/html": [
       "\n",
       "    <div style='color: blue; font-weight: bold;'>Original: Here we go.\n",
       "Come on. Come on.</div>\n",
       "    <div style='color: green; font-weight: bold;'>Translated: Vamos lá.\n",
       "Anda lá. Anda lá.</div>\n",
       "    "
      ],
      "text/plain": [
       "<IPython.core.display.HTML object>"
      ]
     },
     "metadata": {},
     "output_type": "display_data"
    },
    {
     "data": {
      "text/html": [
       "\n",
       "    <div style='color: blue; font-weight: bold;'>Original: Go, go, go!\n",
       "Go, go, go.</div>\n",
       "    <div style='color: green; font-weight: bold;'>Translated: Vai, vai, vai!\n",
       "Vai, vai, vai.</div>\n",
       "    "
      ],
      "text/plain": [
       "<IPython.core.display.HTML object>"
      ]
     },
     "metadata": {},
     "output_type": "display_data"
    },
    {
     "data": {
      "text/html": [
       "\n",
       "    <div style='color: blue; font-weight: bold;'>Original: Come on! Come on!\n",
       "Ooh, you won't\n",
       "get away with this.</div>\n",
       "    <div style='color: green; font-weight: bold;'>Translated: Vamos! Vamos!\n",
       "Ooh, não vais</div>\n",
       "    "
      ],
      "text/plain": [
       "<IPython.core.display.HTML object>"
      ]
     },
     "metadata": {},
     "output_type": "display_data"
    },
    {
     "data": {
      "text/html": [
       "\n",
       "    <div style='color: blue; font-weight: bold;'>Original: Ah!</div>\n",
       "    <div style='color: green; font-weight: bold;'>Translated: Ah!</div>\n",
       "    "
      ],
      "text/plain": [
       "<IPython.core.display.HTML object>"
      ]
     },
     "metadata": {},
     "output_type": "display_data"
    },
    {
     "data": {
      "text/html": [
       "\n",
       "    <div style='color: blue; font-weight: bold;'>Original: Prepare to feel\n",
       "the wrath of Übelschlecht!</div>\n",
       "    <div style='color: green; font-weight: bold;'>Translated: Prepara-te para sentir\n",
       "a ira do Übelschlecht!</div>\n",
       "    "
      ],
      "text/plain": [
       "<IPython.core.display.HTML object>"
      ]
     },
     "metadata": {},
     "output_type": "display_data"
    },
    {
     "data": {
      "text/html": [
       "\n",
       "    <div style='color: blue; font-weight: bold;'>Original: Diaper rash cream.</div>\n",
       "    <div style='color: green; font-weight: bold;'>Translated: Creme para assaduras.</div>\n",
       "    "
      ],
      "text/plain": [
       "<IPython.core.display.HTML object>"
      ]
     },
     "metadata": {},
     "output_type": "display_data"
    },
    {
     "data": {
      "text/html": [
       "\n",
       "    <div style='color: blue; font-weight: bold;'>Original: Oh, no. Oh, no!</div>\n",
       "    <div style='color: green; font-weight: bold;'>Translated: Oh, não. Oh, não!</div>\n",
       "    "
      ],
      "text/plain": [
       "<IPython.core.display.HTML object>"
      ]
     },
     "metadata": {},
     "output_type": "display_data"
    },
    {
     "data": {
      "text/html": [
       "\n",
       "    <div style='color: blue; font-weight: bold;'>Original: Stop, stop, stop!</div>\n",
       "    <div style='color: green; font-weight: bold;'>Translated: Pare, pare, pare!</div>\n",
       "    "
      ],
      "text/plain": [
       "<IPython.core.display.HTML object>"
      ]
     },
     "metadata": {},
     "output_type": "display_data"
    },
    {
     "data": {
      "text/html": [
       "\n",
       "    <div style='color: blue; font-weight: bold;'>Original: Oh, dear.</div>\n",
       "    <div style='color: green; font-weight: bold;'>Translated: Ai, querido.</div>\n",
       "    "
      ],
      "text/plain": [
       "<IPython.core.display.HTML object>"
      ]
     },
     "metadata": {},
     "output_type": "display_data"
    },
    {
     "data": {
      "text/html": [
       "\n",
       "    <div style='color: blue; font-weight: bold;'>Original: Oof!</div>\n",
       "    <div style='color: green; font-weight: bold;'>Translated: Ui!</div>\n",
       "    "
      ],
      "text/plain": [
       "<IPython.core.display.HTML object>"
      ]
     },
     "metadata": {},
     "output_type": "display_data"
    },
    {
     "data": {
      "text/html": [
       "\n",
       "    <div style='color: blue; font-weight: bold;'>Original: Get back here, you.</div>\n",
       "    <div style='color: green; font-weight: bold;'>Translated: Volta aqui, tu.</div>\n",
       "    "
      ],
      "text/plain": [
       "<IPython.core.display.HTML object>"
      ]
     },
     "metadata": {},
     "output_type": "display_data"
    },
    {
     "data": {
      "text/html": [
       "\n",
       "    <div style='color: blue; font-weight: bold;'>Original: I want my Lenny!</div>\n",
       "    <div style='color: green; font-weight: bold;'>Translated: Quero o meu Lenny!</div>\n",
       "    "
      ],
      "text/plain": [
       "<IPython.core.display.HTML object>"
      ]
     },
     "metadata": {},
     "output_type": "display_data"
    },
    {
     "data": {
      "text/html": [
       "\n",
       "    <div style='color: blue; font-weight: bold;'>Original: How are we getting out of here?</div>\n",
       "    <div style='color: green; font-weight: bold;'>Translated: Como vamos sair daqui?</div>\n",
       "    "
      ],
      "text/plain": [
       "<IPython.core.display.HTML object>"
      ]
     },
     "metadata": {},
     "output_type": "display_data"
    },
    {
     "data": {
      "text/html": [
       "\n",
       "    <div style='color: blue; font-weight: bold;'>Original: Follow me.</div>\n",
       "    <div style='color: green; font-weight: bold;'>Translated: Segue-me.</div>\n",
       "    "
      ],
      "text/plain": [
       "<IPython.core.display.HTML object>"
      ]
     },
     "metadata": {},
     "output_type": "display_data"
    },
    {
     "data": {
      "text/html": [
       "\n",
       "    <div style='color: blue; font-weight: bold;'>Original: Get in!</div>\n",
       "    <div style='color: green; font-weight: bold;'>Translated: Entra!</div>\n",
       "    "
      ],
      "text/plain": [
       "<IPython.core.display.HTML object>"
      ]
     },
     "metadata": {},
     "output_type": "display_data"
    },
    {
     "data": {
      "text/html": [
       "\n",
       "    <div style='color: blue; font-weight: bold;'>Original: Come on, come on, come on.</div>\n",
       "    <div style='color: green; font-weight: bold;'>Translated: Vamos, vamos, vamos.</div>\n",
       "    "
      ],
      "text/plain": [
       "<IPython.core.display.HTML object>"
      ]
     },
     "metadata": {},
     "output_type": "display_data"
    },
    {
     "data": {
      "text/html": [
       "\n",
       "    <div style='color: blue; font-weight: bold;'>Original: Mr. Friendly!</div>\n",
       "    <div style='color: green; font-weight: bold;'>Translated: Sr. Simpático!</div>\n",
       "    "
      ],
      "text/plain": [
       "<IPython.core.display.HTML object>"
      ]
     },
     "metadata": {},
     "output_type": "display_data"
    },
    {
     "data": {
      "text/html": [
       "\n",
       "    <div style='color: blue; font-weight: bold;'>Original: Whoa!</div>\n",
       "    <div style='color: green; font-weight: bold;'>Translated: Uau!</div>\n",
       "    "
      ],
      "text/plain": [
       "<IPython.core.display.HTML object>"
      ]
     },
     "metadata": {},
     "output_type": "display_data"
    },
    {
     "data": {
      "text/html": [
       "\n",
       "    <div style='color: blue; font-weight: bold;'>Original: I have to say,\n",
       "that was without a doubt\n",
       "the coolest night of my life.</div>\n",
       "    <div style='color: green; font-weight: bold;'>Translated: Tenho de dizer,\n",
       "que foi, sem dúvida,</div>\n",
       "    "
      ],
      "text/plain": [
       "<IPython.core.display.HTML object>"
      ]
     },
     "metadata": {},
     "output_type": "display_data"
    },
    {
     "data": {
      "text/html": [
       "\n",
       "    <div style='color: blue; font-weight: bold;'>Original: I can't believe\n",
       "we actually pulled that off.</div>\n",
       "    <div style='color: green; font-weight: bold;'>Translated: Não consigo acreditar que conseguimos mesmo fazer isso.</div>\n",
       "    "
      ],
      "text/plain": [
       "<IPython.core.display.HTML object>"
      ]
     },
     "metadata": {},
     "output_type": "display_data"
    },
    {
     "data": {
      "text/html": [
       "\n",
       "    <div style='color: blue; font-weight: bold;'>Original: Not gonna lie,\n",
       "that was pretty fun.</div>\n",
       "    <div style='color: green; font-weight: bold;'>Translated: Não vou mentir,\n",
       "isso foi bastante divertido.</div>\n",
       "    "
      ],
      "text/plain": [
       "<IPython.core.display.HTML object>"
      ]
     },
     "metadata": {},
     "output_type": "display_data"
    },
    {
     "data": {
      "text/html": [
       "\n",
       "    <div style='color: blue; font-weight: bold;'>Original: Thanks, Ron.</div>\n",
       "    <div style='color: green; font-weight: bold;'>Translated: Obrigado, Ron.</div>\n",
       "    "
      ],
      "text/plain": [
       "<IPython.core.display.HTML object>"
      ]
     },
     "metadata": {},
     "output_type": "display_data"
    },
    {
     "data": {
      "text/html": [
       "\n",
       "    <div style='color: blue; font-weight: bold;'>Original: Phew.</div>\n",
       "    <div style='color: green; font-weight: bold;'>Translated: Ufa.</div>\n",
       "    "
      ],
      "text/plain": [
       "<IPython.core.display.HTML object>"
      ]
     },
     "metadata": {},
     "output_type": "display_data"
    },
    {
     "data": {
      "text/html": [
       "\n",
       "    <div style='color: blue; font-weight: bold;'>Original: And thank you for everything.</div>\n",
       "    <div style='color: green; font-weight: bold;'>Translated: E obrigado por tudo.</div>\n",
       "    "
      ],
      "text/plain": [
       "<IPython.core.display.HTML object>"
      ]
     },
     "metadata": {},
     "output_type": "display_data"
    },
    {
     "data": {
      "text/html": [
       "\n",
       "    <div style='color: blue; font-weight: bold;'>Original: Oh, and hey. Don't worry.</div>\n",
       "    <div style='color: green; font-weight: bold;'>Translated: Ah, e olá. Não te preocupes.</div>\n",
       "    "
      ],
      "text/plain": [
       "<IPython.core.display.HTML object>"
      ]
     },
     "metadata": {},
     "output_type": "display_data"
    },
    {
     "data": {
      "text/html": [
       "\n",
       "    <div style='color: blue; font-weight: bold;'>Original: Your secret\n",
       "is safe with me, partner.</div>\n",
       "    <div style='color: green; font-weight: bold;'>Translated: O teu segredo\n",
       "está seguro comigo, parceiro.</div>\n",
       "    "
      ],
      "text/plain": [
       "<IPython.core.display.HTML object>"
      ]
     },
     "metadata": {},
     "output_type": "display_data"
    },
    {
     "data": {
      "text/html": [
       "\n",
       "    <div style='color: blue; font-weight: bold;'>Original: Thanks.</div>\n",
       "    <div style='color: green; font-weight: bold;'>Translated: Obrigado.</div>\n",
       "    "
      ],
      "text/plain": [
       "<IPython.core.display.HTML object>"
      ]
     },
     "metadata": {},
     "output_type": "display_data"
    },
    {
     "data": {
      "text/html": [
       "\n",
       "    <div style='color: blue; font-weight: bold;'>Original: Good night.</div>\n",
       "    <div style='color: green; font-weight: bold;'>Translated: Boa noite.</div>\n",
       "    "
      ],
      "text/plain": [
       "<IPython.core.display.HTML object>"
      ]
     },
     "metadata": {},
     "output_type": "display_data"
    },
    {
     "data": {
      "text/html": [
       "\n",
       "    <div style='color: blue; font-weight: bold;'>Original: Your dada did\n",
       "pretty good, huh, Junior?</div>\n",
       "    <div style='color: green; font-weight: bold;'>Translated: O teu pai portou-se bastante bem, não foi, Júnior?</div>\n",
       "    "
      ],
      "text/plain": [
       "<IPython.core.display.HTML object>"
      ]
     },
     "metadata": {},
     "output_type": "display_data"
    },
    {
     "data": {
      "text/html": [
       "\n",
       "    <div style='color: blue; font-weight: bold;'>Original: <i>Sí, sí, sí.</i> Go, go.</div>\n",
       "    <div style='color: green; font-weight: bold;'>Translated: <i>Sim, sim, sim.</i> Vai, vai.</div>\n",
       "    "
      ],
      "text/plain": [
       "<IPython.core.display.HTML object>"
      ]
     },
     "metadata": {},
     "output_type": "display_data"
    },
    {
     "data": {
      "text/html": [
       "\n",
       "    <div style='color: blue; font-weight: bold;'>Original: Hello, Maxime.</div>\n",
       "    <div style='color: green; font-weight: bold;'>Translated: Olá, Maxime.</div>\n",
       "    "
      ],
      "text/plain": [
       "<IPython.core.display.HTML object>"
      ]
     },
     "metadata": {},
     "output_type": "display_data"
    },
    {
     "data": {
      "text/html": [
       "\n",
       "    <div style='color: blue; font-weight: bold;'>Original: How's my favorite student?</div>\n",
       "    <div style='color: green; font-weight: bold;'>Translated: Como está o meu aluno preferido?</div>\n",
       "    "
      ],
      "text/plain": [
       "<IPython.core.display.HTML object>"
      ]
     },
     "metadata": {},
     "output_type": "display_data"
    },
    {
     "data": {
      "text/html": [
       "\n",
       "    <div style='color: blue; font-weight: bold;'>Original: You know, I think you and I\n",
       "might be looking for\n",
       "the same person.</div>\n",
       "    <div style='color: green; font-weight: bold;'>Translated: Sabes, acho que tu e eu\n",
       "podemos estar à procura</div>\n",
       "    "
      ],
      "text/plain": [
       "<IPython.core.display.HTML object>"
      ]
     },
     "metadata": {},
     "output_type": "display_data"
    },
    {
     "data": {
      "text/html": [
       "\n",
       "    <div style='color: blue; font-weight: bold;'>Original: And I know exactly where he is.</div>\n",
       "    <div style='color: green; font-weight: bold;'>Translated: E sei exatamente onde ele está.</div>\n",
       "    "
      ],
      "text/plain": [
       "<IPython.core.display.HTML object>"
      ]
     },
     "metadata": {},
     "output_type": "display_data"
    },
    {
     "data": {
      "text/html": [
       "\n",
       "    <div style='color: blue; font-weight: bold;'>Original: Thank you,\n",
       "Principal Übelschlecht.</div>\n",
       "    <div style='color: green; font-weight: bold;'>Translated: Obrigado,\n",
       "Diretor Übelschlecht.</div>\n",
       "    "
      ],
      "text/plain": [
       "<IPython.core.display.HTML object>"
      ]
     },
     "metadata": {},
     "output_type": "display_data"
    },
    {
     "data": {
      "text/html": [
       "\n",
       "    <div style='color: blue; font-weight: bold;'>Original: We got him.</div>\n",
       "    <div style='color: green; font-weight: bold;'>Translated: Nós apanhámo-lo.</div>\n",
       "    "
      ],
      "text/plain": [
       "<IPython.core.display.HTML object>"
      ]
     },
     "metadata": {},
     "output_type": "display_data"
    },
    {
     "data": {
      "text/html": [
       "\n",
       "    <div style='color: blue; font-weight: bold;'>Original: Valentina, to Mayflower.</div>\n",
       "    <div style='color: green; font-weight: bold;'>Translated: Valentina, para Mayflower.</div>\n",
       "    "
      ],
      "text/plain": [
       "<IPython.core.display.HTML object>"
      ]
     },
     "metadata": {},
     "output_type": "display_data"
    },
    {
     "data": {
      "text/html": [
       "\n",
       "    <div style='color: blue; font-weight: bold;'>Original: With pleasure.</div>\n",
       "    <div style='color: green; font-weight: bold;'>Translated: Com prazer.</div>\n",
       "    "
      ],
      "text/plain": [
       "<IPython.core.display.HTML object>"
      ]
     },
     "metadata": {},
     "output_type": "display_data"
    },
    {
     "data": {
      "text/html": [
       "\n",
       "    <div style='color: blue; font-weight: bold;'>Original: Ah, here we go.</div>\n",
       "    <div style='color: green; font-weight: bold;'>Translated: Ah, cá vamos nós.</div>\n",
       "    "
      ],
      "text/plain": [
       "<IPython.core.display.HTML object>"
      ]
     },
     "metadata": {},
     "output_type": "display_data"
    },
    {
     "data": {
      "text/html": [
       "\n",
       "    <div style='color: blue; font-weight: bold;'>Original: Okay. Yeah. Yeah.</div>\n",
       "    <div style='color: green; font-weight: bold;'>Translated: Certo. Sim. Sim.</div>\n",
       "    "
      ],
      "text/plain": [
       "<IPython.core.display.HTML object>"
      ]
     },
     "metadata": {},
     "output_type": "display_data"
    },
    {
     "data": {
      "text/html": [
       "\n",
       "    <div style='color: blue; font-weight: bold;'>Original: It's all coming back to me.</div>\n",
       "    <div style='color: green; font-weight: bold;'>Translated: Está tudo a voltar-me à memória.</div>\n",
       "    "
      ],
      "text/plain": [
       "<IPython.core.display.HTML object>"
      ]
     },
     "metadata": {},
     "output_type": "display_data"
    },
    {
     "data": {
      "text/html": [
       "\n",
       "    <div style='color: blue; font-weight: bold;'>Original: Oops.</div>\n",
       "    <div style='color: green; font-weight: bold;'>Translated: Ups.</div>\n",
       "    "
      ],
      "text/plain": [
       "<IPython.core.display.HTML object>"
      ]
     },
     "metadata": {},
     "output_type": "display_data"
    },
    {
     "data": {
      "text/html": [
       "\n",
       "    <div style='color: blue; font-weight: bold;'>Original: Okay.\n",
       "See you later.</div>\n",
       "    <div style='color: green; font-weight: bold;'>Translated: Até logo.</div>\n",
       "    "
      ],
      "text/plain": [
       "<IPython.core.display.HTML object>"
      ]
     },
     "metadata": {},
     "output_type": "display_data"
    },
    {
     "data": {
      "text/html": [
       "\n",
       "    <div style='color: blue; font-weight: bold;'>Original: Say, \"Bye, Mommy and Daddy.\"</div>\n",
       "    <div style='color: green; font-weight: bold;'>Translated: Diz, \"Adeus, mamã e papá.\"</div>\n",
       "    "
      ],
      "text/plain": [
       "<IPython.core.display.HTML object>"
      ]
     },
     "metadata": {},
     "output_type": "display_data"
    },
    {
     "data": {
      "text/html": [
       "\n",
       "    <div style='color: blue; font-weight: bold;'>Original: Have fun at the club!</div>\n",
       "    <div style='color: green; font-weight: bold;'>Translated: Diverte-te no clube!</div>\n",
       "    "
      ],
      "text/plain": [
       "<IPython.core.display.HTML object>"
      ]
     },
     "metadata": {},
     "output_type": "display_data"
    },
    {
     "data": {
      "text/html": [
       "\n",
       "    <div style='color: blue; font-weight: bold;'>Original: Make good choices.</div>\n",
       "    <div style='color: green; font-weight: bold;'>Translated: Faz boas escolhas.</div>\n",
       "    "
      ],
      "text/plain": [
       "<IPython.core.display.HTML object>"
      ]
     },
     "metadata": {},
     "output_type": "display_data"
    },
    {
     "data": {
      "text/html": [
       "\n",
       "    <div style='color: blue; font-weight: bold;'>Original: Bye, guys.\n",
       "Goodbye!</div>\n",
       "    <div style='color: green; font-weight: bold;'>Translated: Adeus, pessoal.\n",
       "Adeus!</div>\n",
       "    "
      ],
      "text/plain": [
       "<IPython.core.display.HTML object>"
      ]
     },
     "metadata": {},
     "output_type": "display_data"
    },
    {
     "data": {
      "text/html": [
       "\n",
       "    <div style='color: blue; font-weight: bold;'>Original: Bye!</div>\n",
       "    <div style='color: green; font-weight: bold;'>Translated: Adeus!</div>\n",
       "    "
      ],
      "text/plain": [
       "<IPython.core.display.HTML object>"
      ]
     },
     "metadata": {},
     "output_type": "display_data"
    },
    {
     "data": {
      "text/html": [
       "\n",
       "    <div style='color: blue; font-weight: bold;'>Original: Hey, Cunninghams.</div>\n",
       "    <div style='color: green; font-weight: bold;'>Translated: Olá, Cunninghams.</div>\n",
       "    "
      ],
      "text/plain": [
       "<IPython.core.display.HTML object>"
      ]
     },
     "metadata": {},
     "output_type": "display_data"
    },
    {
     "data": {
      "text/html": [
       "\n",
       "    <div style='color: blue; font-weight: bold;'>Original: Um, hey, Poppy.</div>\n",
       "    <div style='color: green; font-weight: bold;'>Translated: Olá, Poppy.</div>\n",
       "    "
      ],
      "text/plain": [
       "<IPython.core.display.HTML object>"
      ]
     },
     "metadata": {},
     "output_type": "display_data"
    },
    {
     "data": {
      "text/html": [
       "\n",
       "    <div style='color: blue; font-weight: bold;'>Original: I heard our parents\n",
       "are having a playdate,\n",
       "which is adorable, by the way,</div>\n",
       "    <div style='color: green; font-weight: bold;'>Translated: Ouvi dizer que os nossos pais\n",
       "vão ter um encontro,</div>\n",
       "    "
      ],
      "text/plain": [
       "<IPython.core.display.HTML object>"
      ]
     },
     "metadata": {},
     "output_type": "display_data"
    },
    {
     "data": {
      "text/html": [
       "\n",
       "    <div style='color: blue; font-weight: bold;'>Original: and I thought\n",
       "you might wanna hang out.</div>\n",
       "    <div style='color: green; font-weight: bold;'>Translated: e pensei que talvez quisesses sair.</div>\n",
       "    "
      ],
      "text/plain": [
       "<IPython.core.display.HTML object>"
      ]
     },
     "metadata": {},
     "output_type": "display_data"
    },
    {
     "data": {
      "text/html": [
       "\n",
       "    <div style='color: blue; font-weight: bold;'>Original: Oh, yeah. Sure. Come on in.</div>\n",
       "    <div style='color: green; font-weight: bold;'>Translated: Ah, sim. Claro. Entra.</div>\n",
       "    "
      ],
      "text/plain": [
       "<IPython.core.display.HTML object>"
      ]
     },
     "metadata": {},
     "output_type": "display_data"
    },
    {
     "data": {
      "text/html": [
       "\n",
       "    <div style='color: blue; font-weight: bold;'>Original: Let's get\n",
       "this party started, people.</div>\n",
       "    <div style='color: green; font-weight: bold;'>Translated: Vamos começar esta festa, pessoal.</div>\n",
       "    "
      ],
      "text/plain": [
       "<IPython.core.display.HTML object>"
      ]
     },
     "metadata": {},
     "output_type": "display_data"
    },
    {
     "data": {
      "text/html": [
       "\n",
       "    <div style='color: blue; font-weight: bold;'>Original: I like her.</div>\n",
       "    <div style='color: green; font-weight: bold;'>Translated: Eu gosto dela.</div>\n",
       "    "
      ],
      "text/plain": [
       "<IPython.core.display.HTML object>"
      ]
     },
     "metadata": {},
     "output_type": "display_data"
    },
    {
     "data": {
      "text/html": [
       "\n",
       "    <div style='color: blue; font-weight: bold;'>Original: Yeah. Most people do.</div>\n",
       "    <div style='color: green; font-weight: bold;'>Translated: Sim. A maioria das pessoas faz.</div>\n",
       "    "
      ],
      "text/plain": [
       "<IPython.core.display.HTML object>"
      ]
     },
     "metadata": {},
     "output_type": "display_data"
    },
    {
     "data": {
      "text/html": [
       "\n",
       "    <div style='color: blue; font-weight: bold;'>Original: Sweet.</div>\n",
       "    <div style='color: green; font-weight: bold;'>Translated: Doce.</div>\n",
       "    "
      ],
      "text/plain": [
       "<IPython.core.display.HTML object>"
      ]
     },
     "metadata": {},
     "output_type": "display_data"
    },
    {
     "data": {
      "text/html": [
       "\n",
       "    <div style='color: blue; font-weight: bold;'>Original: So, have you guys\n",
       "ever seen a honey badger?</div>\n",
       "    <div style='color: green; font-weight: bold;'>Translated: Então, vocês já\n",
       "alguma vez viram um texugo-mel?</div>\n",
       "    "
      ],
      "text/plain": [
       "<IPython.core.display.HTML object>"
      ]
     },
     "metadata": {},
     "output_type": "display_data"
    },
    {
     "data": {
      "text/html": [
       "\n",
       "    <div style='color: blue; font-weight: bold;'>Original: Whoa, okay, these guys\n",
       "aren't messing around.</div>\n",
       "    <div style='color: green; font-weight: bold;'>Translated: Uau, ok, estes tipos não estão para brincadeiras.</div>\n",
       "    "
      ],
      "text/plain": [
       "<IPython.core.display.HTML object>"
      ]
     },
     "metadata": {},
     "output_type": "display_data"
    },
    {
     "data": {
      "text/html": [
       "\n",
       "    <div style='color: blue; font-weight: bold;'>Original: There are\n",
       "my favorite new neighbors.</div>\n",
       "    <div style='color: green; font-weight: bold;'>Translated: Aí estão\n",
       "os meus novos vizinhos preferidos.</div>\n",
       "    "
      ],
      "text/plain": [
       "<IPython.core.display.HTML object>"
      ]
     },
     "metadata": {},
     "output_type": "display_data"
    },
    {
     "data": {
      "text/html": [
       "\n",
       "    <div style='color: blue; font-weight: bold;'>Original: Hi.</div>\n",
       "    <div style='color: green; font-weight: bold;'>Translated: Olá.</div>\n",
       "    "
      ],
      "text/plain": [
       "<IPython.core.display.HTML object>"
      ]
     },
     "metadata": {},
     "output_type": "display_data"
    },
    {
     "data": {
      "text/html": [
       "\n",
       "    <div style='color: blue; font-weight: bold;'>Original: I'm loving this whole vibe.</div>\n",
       "    <div style='color: green; font-weight: bold;'>Translated: Estou a adorar esta vibe toda.</div>\n",
       "    "
      ],
      "text/plain": [
       "<IPython.core.display.HTML object>"
      ]
     },
     "metadata": {},
     "output_type": "display_data"
    },
    {
     "data": {
      "text/html": [
       "\n",
       "    <div style='color: blue; font-weight: bold;'>Original: You two look like\n",
       "a couple of pros.</div>\n",
       "    <div style='color: green; font-weight: bold;'>Translated: Vocês os dois parecem\n",
       "um par de profissionais.</div>\n",
       "    "
      ],
      "text/plain": [
       "<IPython.core.display.HTML object>"
      ]
     },
     "metadata": {},
     "output_type": "display_data"
    },
    {
     "data": {
      "text/html": [
       "\n",
       "    <div style='color: blue; font-weight: bold;'>Original: Yeah, but we're not.</div>\n",
       "    <div style='color: green; font-weight: bold;'>Translated: Sim, mas nós não estamos.</div>\n",
       "    "
      ],
      "text/plain": [
       "<IPython.core.display.HTML object>"
      ]
     },
     "metadata": {},
     "output_type": "display_data"
    },
    {
     "data": {
      "text/html": [
       "\n",
       "    <div style='color: blue; font-weight: bold;'>Original: Perry and the boys are waiting\n",
       "for y'all on the court,</div>\n",
       "    <div style='color: green; font-weight: bold;'>Translated: O Perry e os rapazes estão à espera\n",
       "de vocês no campo,</div>\n",
       "    "
      ],
      "text/plain": [
       "<IPython.core.display.HTML object>"
      ]
     },
     "metadata": {},
     "output_type": "display_data"
    },
    {
     "data": {
      "text/html": [
       "\n",
       "    <div style='color: blue; font-weight: bold;'>Original: and we are\n",
       "hitting the clubhouse.</div>\n",
       "    <div style='color: green; font-weight: bold;'>Translated: e estamos a ir para o clubhouse.</div>\n",
       "    "
      ],
      "text/plain": [
       "<IPython.core.display.HTML object>"
      ]
     },
     "metadata": {},
     "output_type": "display_data"
    },
    {
     "data": {
      "text/html": [
       "\n",
       "    <div style='color: blue; font-weight: bold;'>Original: And you're telling me\n",
       "where you got\n",
       "that to-die-for outfit.</div>\n",
       "    <div style='color: green; font-weight: bold;'>Translated: E vais dizer-me\n",
       "onde conseguiste</div>\n",
       "    "
      ],
      "text/plain": [
       "<IPython.core.display.HTML object>"
      ]
     },
     "metadata": {},
     "output_type": "display_data"
    },
    {
     "data": {
      "text/html": [
       "\n",
       "    <div style='color: blue; font-weight: bold;'>Original: Ah!\n",
       "Ugh.</div>\n",
       "    <div style='color: green; font-weight: bold;'>Translated: Ah!\n",
       "Ugh.</div>\n",
       "    "
      ],
      "text/plain": [
       "<IPython.core.display.HTML object>"
      ]
     },
     "metadata": {},
     "output_type": "display_data"
    },
    {
     "data": {
      "text/html": [
       "\n",
       "    <div style='color: blue; font-weight: bold;'>Original: Over here, Chet.</div>\n",
       "    <div style='color: green; font-weight: bold;'>Translated: Para aqui, Chet.</div>\n",
       "    "
      ],
      "text/plain": [
       "<IPython.core.display.HTML object>"
      ]
     },
     "metadata": {},
     "output_type": "display_data"
    },
    {
     "data": {
      "text/html": [
       "\n",
       "    <div style='color: blue; font-weight: bold;'>Original: Hello.</div>\n",
       "    <div style='color: green; font-weight: bold;'>Translated: Olá.</div>\n",
       "    "
      ],
      "text/plain": [
       "<IPython.core.display.HTML object>"
      ]
     },
     "metadata": {},
     "output_type": "display_data"
    },
    {
     "data": {
      "text/html": [
       "\n",
       "    <div style='color: blue; font-weight: bold;'>Original: Okay.</div>\n",
       "    <div style='color: green; font-weight: bold;'>Translated: Certo.</div>\n",
       "    "
      ],
      "text/plain": [
       "<IPython.core.display.HTML object>"
      ]
     },
     "metadata": {},
     "output_type": "display_data"
    },
    {
     "data": {
      "text/html": [
       "\n",
       "    <div style='color: blue; font-weight: bold;'>Original: Skip, Chip, Chet.</div>\n",
       "    <div style='color: green; font-weight: bold;'>Translated: Saltar, Lasca, Chet.</div>\n",
       "    "
      ],
      "text/plain": [
       "<IPython.core.display.HTML object>"
      ]
     },
     "metadata": {},
     "output_type": "display_data"
    },
    {
     "data": {
      "text/html": [
       "\n",
       "    <div style='color: blue; font-weight: bold;'>Original: Chet, Skip, Chip.</div>\n",
       "    <div style='color: green; font-weight: bold;'>Translated: Chet, Skip, Chip.</div>\n",
       "    "
      ],
      "text/plain": [
       "<IPython.core.display.HTML object>"
      ]
     },
     "metadata": {},
     "output_type": "display_data"
    },
    {
     "data": {
      "text/html": [
       "\n",
       "    <div style='color: blue; font-weight: bold;'>Original: Hey there, fellas.</div>\n",
       "    <div style='color: green; font-weight: bold;'>Translated: Olá pessoal.</div>\n",
       "    "
      ],
      "text/plain": [
       "<IPython.core.display.HTML object>"
      ]
     },
     "metadata": {},
     "output_type": "display_data"
    },
    {
     "data": {
      "text/html": [
       "\n",
       "    <div style='color: blue; font-weight: bold;'>Original: Hello.\n",
       "How are you doing, Chet?</div>\n",
       "    <div style='color: green; font-weight: bold;'>Translated: Olá.\n",
       "Como estás, Chet?</div>\n",
       "    "
      ],
      "text/plain": [
       "<IPython.core.display.HTML object>"
      ]
     },
     "metadata": {},
     "output_type": "display_data"
    },
    {
     "data": {
      "text/html": [
       "\n",
       "    <div style='color: blue; font-weight: bold;'>Original: Okay.</div>\n",
       "    <div style='color: green; font-weight: bold;'>Translated: Certo.</div>\n",
       "    "
      ],
      "text/plain": [
       "<IPython.core.display.HTML object>"
      ]
     },
     "metadata": {},
     "output_type": "display_data"
    },
    {
     "data": {
      "text/html": [
       "\n",
       "    <div style='color: blue; font-weight: bold;'>Original: Chet here is gonna show\n",
       "us fellas how it's done.</div>\n",
       "    <div style='color: green; font-weight: bold;'>Translated: O Chet vai mostrar-nos como se faz.</div>\n",
       "    "
      ],
      "text/plain": [
       "<IPython.core.display.HTML object>"
      ]
     },
     "metadata": {},
     "output_type": "display_data"
    },
    {
     "data": {
      "text/html": [
       "\n",
       "    <div style='color: blue; font-weight: bold;'>Original: Right?</div>\n",
       "    <div style='color: green; font-weight: bold;'>Translated: Certo?</div>\n",
       "    "
      ],
      "text/plain": [
       "<IPython.core.display.HTML object>"
      ]
     },
     "metadata": {},
     "output_type": "display_data"
    },
    {
     "data": {
      "text/html": [
       "\n",
       "    <div style='color: blue; font-weight: bold;'>Original: Um.</div>\n",
       "    <div style='color: green; font-weight: bold;'>Translated: Um.</div>\n",
       "    "
      ],
      "text/plain": [
       "<IPython.core.display.HTML object>"
      ]
     },
     "metadata": {},
     "output_type": "display_data"
    },
    {
     "data": {
      "text/html": [
       "\n",
       "    <div style='color: blue; font-weight: bold;'>Original: I'm gonna smoke this guy.</div>\n",
       "    <div style='color: green; font-weight: bold;'>Translated: Vou arrasar com este tipo.</div>\n",
       "    "
      ],
      "text/plain": [
       "<IPython.core.display.HTML object>"
      ]
     },
     "metadata": {},
     "output_type": "display_data"
    },
    {
     "data": {
      "text/html": [
       "\n",
       "    <div style='color: blue; font-weight: bold;'>Original: Okay.</div>\n",
       "    <div style='color: green; font-weight: bold;'>Translated: Certo.</div>\n",
       "    "
      ],
      "text/plain": [
       "<IPython.core.display.HTML object>"
      ]
     },
     "metadata": {},
     "output_type": "display_data"
    },
    {
     "data": {
      "text/html": [
       "\n",
       "    <div style='color: blue; font-weight: bold;'>Original: - Huh?</div>\n",
       "    <div style='color: green; font-weight: bold;'>Translated: - Hã?</div>\n",
       "    "
      ],
      "text/plain": [
       "<IPython.core.display.HTML object>"
      ]
     },
     "metadata": {},
     "output_type": "display_data"
    },
    {
     "data": {
      "text/html": [
       "\n",
       "    <div style='color: blue; font-weight: bold;'>Original: What the...</div>\n",
       "    <div style='color: green; font-weight: bold;'>Translated: O que é isto...</div>\n",
       "    "
      ],
      "text/plain": [
       "<IPython.core.display.HTML object>"
      ]
     },
     "metadata": {},
     "output_type": "display_data"
    },
    {
     "data": {
      "text/html": [
       "\n",
       "    <div style='color: blue; font-weight: bold;'>Original: Okay, let's do this.</div>\n",
       "    <div style='color: green; font-weight: bold;'>Translated: Vamos a isso.</div>\n",
       "    "
      ],
      "text/plain": [
       "<IPython.core.display.HTML object>"
      ]
     },
     "metadata": {},
     "output_type": "display_data"
    },
    {
     "data": {
      "text/html": [
       "\n",
       "    <div style='color: blue; font-weight: bold;'>Original: Huh? You've gotta be kidding.</div>\n",
       "    <div style='color: green; font-weight: bold;'>Translated: Hã? Estás a brincar, certo?</div>\n",
       "    "
      ],
      "text/plain": [
       "<IPython.core.display.HTML object>"
      ]
     },
     "metadata": {},
     "output_type": "display_data"
    },
    {
     "data": {
      "text/html": [
       "\n",
       "    <div style='color: blue; font-weight: bold;'>Original: Okay, okay.</div>\n",
       "    <div style='color: green; font-weight: bold;'>Translated: Está bem, está bem.</div>\n",
       "    "
      ],
      "text/plain": [
       "<IPython.core.display.HTML object>"
      ]
     },
     "metadata": {},
     "output_type": "display_data"
    },
    {
     "data": {
      "text/html": [
       "\n",
       "    <div style='color: blue; font-weight: bold;'>Original: Better?</div>\n",
       "    <div style='color: green; font-weight: bold;'>Translated: Melhor?</div>\n",
       "    "
      ],
      "text/plain": [
       "<IPython.core.display.HTML object>"
      ]
     },
     "metadata": {},
     "output_type": "display_data"
    },
    {
     "data": {
      "text/html": [
       "\n",
       "    <div style='color: blue; font-weight: bold;'>Original: What?</div>\n",
       "    <div style='color: green; font-weight: bold;'>Translated: O quê?</div>\n",
       "    "
      ],
      "text/plain": [
       "<IPython.core.display.HTML object>"
      ]
     },
     "metadata": {},
     "output_type": "display_data"
    },
    {
     "data": {
      "text/html": [
       "\n",
       "    <div style='color: blue; font-weight: bold;'>Original: That doesn't count.</div>\n",
       "    <div style='color: green; font-weight: bold;'>Translated: Isso não conta.</div>\n",
       "    "
      ],
      "text/plain": [
       "<IPython.core.display.HTML object>"
      ]
     },
     "metadata": {},
     "output_type": "display_data"
    },
    {
     "data": {
      "text/html": [
       "\n",
       "    <div style='color: blue; font-weight: bold;'>Original: And--</div>\n",
       "    <div style='color: green; font-weight: bold;'>Translated: E--</div>\n",
       "    "
      ],
      "text/plain": [
       "<IPython.core.display.HTML object>"
      ]
     },
     "metadata": {},
     "output_type": "display_data"
    },
    {
     "data": {
      "text/html": [
       "\n",
       "    <div style='color: blue; font-weight: bold;'>Original: What? You can't just j--\n",
       "Hey!</div>\n",
       "    <div style='color: green; font-weight: bold;'>Translated: O quê? Não podes simplesmente in--\n",
       "Ei!</div>\n",
       "    "
      ],
      "text/plain": [
       "<IPython.core.display.HTML object>"
      ]
     },
     "metadata": {},
     "output_type": "display_data"
    },
    {
     "data": {
      "text/html": [
       "\n",
       "    <div style='color: blue; font-weight: bold;'>Original: This is ridiculous!</div>\n",
       "    <div style='color: green; font-weight: bold;'>Translated: Isto é ridículo!</div>\n",
       "    "
      ],
      "text/plain": [
       "<IPython.core.display.HTML object>"
      ]
     },
     "metadata": {},
     "output_type": "display_data"
    },
    {
     "data": {
      "text/html": [
       "\n",
       "    <div style='color: blue; font-weight: bold;'>Original: ...burrito.</div>\n",
       "    <div style='color: green; font-weight: bold;'>Translated: ...burrito.</div>\n",
       "    "
      ],
      "text/plain": [
       "<IPython.core.display.HTML object>"
      ]
     },
     "metadata": {},
     "output_type": "display_data"
    },
    {
     "data": {
      "text/html": [
       "\n",
       "    <div style='color: blue; font-weight: bold;'>Original: Thanks, Ron.</div>\n",
       "    <div style='color: green; font-weight: bold;'>Translated: Obrigado, Ron.</div>\n",
       "    "
      ],
      "text/plain": [
       "<IPython.core.display.HTML object>"
      ]
     },
     "metadata": {},
     "output_type": "display_data"
    },
    {
     "data": {
      "text/html": [
       "\n",
       "    <div style='color: blue; font-weight: bold;'>Original: Hey, no! Oh, no.</div>\n",
       "    <div style='color: green; font-weight: bold;'>Translated: Ei, não! Oh, não.</div>\n",
       "    "
      ],
      "text/plain": [
       "<IPython.core.display.HTML object>"
      ]
     },
     "metadata": {},
     "output_type": "display_data"
    },
    {
     "data": {
      "text/html": [
       "\n",
       "    <div style='color: blue; font-weight: bold;'>Original: Come and get it.</div>\n",
       "    <div style='color: green; font-weight: bold;'>Translated: Vem buscá-lo.</div>\n",
       "    "
      ],
      "text/plain": [
       "<IPython.core.display.HTML object>"
      ]
     },
     "metadata": {},
     "output_type": "display_data"
    },
    {
     "data": {
      "text/html": [
       "\n",
       "    <div style='color: blue; font-weight: bold;'>Original: Aw, he's so cute.\n",
       "Whoa!</div>\n",
       "    <div style='color: green; font-weight: bold;'>Translated: Oh, ele é tão fofo.\n",
       "Uau!</div>\n",
       "    "
      ],
      "text/plain": [
       "<IPython.core.display.HTML object>"
      ]
     },
     "metadata": {},
     "output_type": "display_data"
    },
    {
     "data": {
      "text/html": [
       "\n",
       "    <div style='color: blue; font-weight: bold;'>Original: This is the weirdest dog ever.</div>\n",
       "    <div style='color: green; font-weight: bold;'>Translated: Este é o cão mais estranho de sempre.</div>\n",
       "    "
      ],
      "text/plain": [
       "<IPython.core.display.HTML object>"
      ]
     },
     "metadata": {},
     "output_type": "display_data"
    },
    {
     "data": {
      "text/html": [
       "\n",
       "    <div style='color: blue; font-weight: bold;'>Original: I'll get it.</div>\n",
       "    <div style='color: green; font-weight: bold;'>Translated: Eu vou buscar.</div>\n",
       "    "
      ],
      "text/plain": [
       "<IPython.core.display.HTML object>"
      ]
     },
     "metadata": {},
     "output_type": "display_data"
    },
    {
     "data": {
      "text/html": [
       "\n",
       "    <div style='color: blue; font-weight: bold;'>Original: Well, hello, little one.\n",
       "Is your daddy home?</div>\n",
       "    <div style='color: green; font-weight: bold;'>Translated: Olá, pequenino.\n",
       "O teu papá está em casa?</div>\n",
       "    "
      ],
      "text/plain": [
       "<IPython.core.display.HTML object>"
      ]
     },
     "metadata": {},
     "output_type": "display_data"
    },
    {
     "data": {
      "text/html": [
       "\n",
       "    <div style='color: blue; font-weight: bold;'>Original: Sorry. I'm not \"stupposed\"\n",
       "to talk to strangers.</div>\n",
       "    <div style='color: green; font-weight: bold;'>Translated: Desculpe. Não devo falar com estranhos.</div>\n",
       "    "
      ],
      "text/plain": [
       "<IPython.core.display.HTML object>"
      ]
     },
     "metadata": {},
     "output_type": "display_data"
    },
    {
     "data": {
      "text/html": [
       "\n",
       "    <div style='color: blue; font-weight: bold;'>Original: Oh,\n",
       "I'm not a stranger.</div>\n",
       "    <div style='color: green; font-weight: bold;'>Translated: Ah,\n",
       "Eu não sou um estranho.</div>\n",
       "    "
      ],
      "text/plain": [
       "<IPython.core.display.HTML object>"
      ]
     },
     "metadata": {},
     "output_type": "display_data"
    },
    {
     "data": {
      "text/html": [
       "\n",
       "    <div style='color: blue; font-weight: bold;'>Original: Well, you look strange to me.</div>\n",
       "    <div style='color: green; font-weight: bold;'>Translated: Pareces-me estranho.</div>\n",
       "    "
      ],
      "text/plain": [
       "<IPython.core.display.HTML object>"
      ]
     },
     "metadata": {},
     "output_type": "display_data"
    },
    {
     "data": {
      "text/html": [
       "\n",
       "    <div style='color: blue; font-weight: bold;'>Original: Who is it?</div>\n",
       "    <div style='color: green; font-weight: bold;'>Translated: Quem é?</div>\n",
       "    "
      ],
      "text/plain": [
       "<IPython.core.display.HTML object>"
      ]
     },
     "metadata": {},
     "output_type": "display_data"
    },
    {
     "data": {
      "text/html": [
       "\n",
       "    <div style='color: blue; font-weight: bold;'>Original: I don't know.</div>\n",
       "    <div style='color: green; font-weight: bold;'>Translated: Eu não sei.</div>\n",
       "    "
      ],
      "text/plain": [
       "<IPython.core.display.HTML object>"
      ]
     },
     "metadata": {},
     "output_type": "display_data"
    },
    {
     "data": {
      "text/html": [
       "\n",
       "    <div style='color: blue; font-weight: bold;'>Original: But she's old\n",
       "and smells like pickles.</div>\n",
       "    <div style='color: green; font-weight: bold;'>Translated: Mas ela é velha\n",
       "e cheira a pickles.</div>\n",
       "    "
      ],
      "text/plain": [
       "<IPython.core.display.HTML object>"
      ]
     },
     "metadata": {},
     "output_type": "display_data"
    },
    {
     "data": {
      "text/html": [
       "\n",
       "    <div style='color: blue; font-weight: bold;'>Original: Okay, I'm coming.</div>\n",
       "    <div style='color: green; font-weight: bold;'>Translated: Estou a caminho.</div>\n",
       "    "
      ],
      "text/plain": [
       "<IPython.core.display.HTML object>"
      ]
     },
     "metadata": {},
     "output_type": "display_data"
    },
    {
     "data": {
      "text/html": [
       "\n",
       "    <div style='color: blue; font-weight: bold;'>Original: Oh, no. Oh.</div>\n",
       "    <div style='color: green; font-weight: bold;'>Translated: Oh, não. Oh.</div>\n",
       "    "
      ],
      "text/plain": [
       "<IPython.core.display.HTML object>"
      ]
     },
     "metadata": {},
     "output_type": "display_data"
    },
    {
     "data": {
      "text/html": [
       "\n",
       "    <div style='color: blue; font-weight: bold;'>Original: I'll be right back.</div>\n",
       "    <div style='color: green; font-weight: bold;'>Translated: Já volto.</div>\n",
       "    "
      ],
      "text/plain": [
       "<IPython.core.display.HTML object>"
      ]
     },
     "metadata": {},
     "output_type": "display_data"
    },
    {
     "data": {
      "text/html": [
       "\n",
       "    <div style='color: blue; font-weight: bold;'>Original: Can I help you?</div>\n",
       "    <div style='color: green; font-weight: bold;'>Translated: Posso ajudá-lo?</div>\n",
       "    "
      ],
      "text/plain": [
       "<IPython.core.display.HTML object>"
      ]
     },
     "metadata": {},
     "output_type": "display_data"
    },
    {
     "data": {
      "text/html": [
       "\n",
       "    <div style='color: blue; font-weight: bold;'>Original: Well, I hope so.</div>\n",
       "    <div style='color: green; font-weight: bold;'>Translated: Bem, espero que sim.</div>\n",
       "    "
      ],
      "text/plain": [
       "<IPython.core.display.HTML object>"
      ]
     },
     "metadata": {},
     "output_type": "display_data"
    },
    {
     "data": {
      "text/html": [
       "\n",
       "    <div style='color: blue; font-weight: bold;'>Original: I'm an old friend of Gru's.</div>\n",
       "    <div style='color: green; font-weight: bold;'>Translated: Sou um velho amigo do Gru.</div>\n",
       "    "
      ],
      "text/plain": [
       "<IPython.core.display.HTML object>"
      ]
     },
     "metadata": {},
     "output_type": "display_data"
    },
    {
     "data": {
      "text/html": [
       "\n",
       "    <div style='color: blue; font-weight: bold;'>Original: Well, he's not here, so...</div>\n",
       "    <div style='color: green; font-weight: bold;'>Translated: Bem, ele não está aqui, então...</div>\n",
       "    "
      ],
      "text/plain": [
       "<IPython.core.display.HTML object>"
      ]
     },
     "metadata": {},
     "output_type": "display_data"
    },
    {
     "data": {
      "text/html": [
       "\n",
       "    <div style='color: blue; font-weight: bold;'>Original: Oh, that's all right.</div>\n",
       "    <div style='color: green; font-weight: bold;'>Translated: Ah, está tudo bem.</div>\n",
       "    "
      ],
      "text/plain": [
       "<IPython.core.display.HTML object>"
      ]
     },
     "metadata": {},
     "output_type": "display_data"
    },
    {
     "data": {
      "text/html": [
       "\n",
       "    <div style='color: blue; font-weight: bold;'>Original: I'll wait.</div>\n",
       "    <div style='color: green; font-weight: bold;'>Translated: Eu vou esperar.</div>\n",
       "    "
      ],
      "text/plain": [
       "<IPython.core.display.HTML object>"
      ]
     },
     "metadata": {},
     "output_type": "display_data"
    },
    {
     "data": {
      "text/html": [
       "\n",
       "    <div style='color: blue; font-weight: bold;'>Original: What? No.</div>\n",
       "    <div style='color: green; font-weight: bold;'>Translated: O quê? Não.</div>\n",
       "    "
      ],
      "text/plain": [
       "<IPython.core.display.HTML object>"
      ]
     },
     "metadata": {},
     "output_type": "display_data"
    },
    {
     "data": {
      "text/html": [
       "\n",
       "    <div style='color: blue; font-weight: bold;'>Original: Whenever you're ready, Perry.</div>\n",
       "    <div style='color: green; font-weight: bold;'>Translated: Quando estiveres pronto, Perry.</div>\n",
       "    "
      ],
      "text/plain": [
       "<IPython.core.display.HTML object>"
      ]
     },
     "metadata": {},
     "output_type": "display_data"
    },
    {
     "data": {
      "text/html": [
       "\n",
       "    <div style='color: blue; font-weight: bold;'>Original: Hmm?</div>\n",
       "    <div style='color: green; font-weight: bold;'>Translated: Hmm?</div>\n",
       "    "
      ],
      "text/plain": [
       "<IPython.core.display.HTML object>"
      ]
     },
     "metadata": {},
     "output_type": "display_data"
    },
    {
     "data": {
      "text/html": [
       "\n",
       "    <div style='color: blue; font-weight: bold;'>Original: Needless to say,</div>\n",
       "    <div style='color: green; font-weight: bold;'>Translated: Escusado será dizer,</div>\n",
       "    "
      ],
      "text/plain": [
       "<IPython.core.display.HTML object>"
      ]
     },
     "metadata": {},
     "output_type": "display_data"
    },
    {
     "data": {
      "text/html": [
       "\n",
       "    <div style='color: blue; font-weight: bold;'>Original: Perry and I are\n",
       "no longer welcome</div>\n",
       "    <div style='color: green; font-weight: bold;'>Translated: O Perry e eu já não somos bem-vindos.</div>\n",
       "    "
      ],
      "text/plain": [
       "<IPython.core.display.HTML object>"
      ]
     },
     "metadata": {},
     "output_type": "display_data"
    },
    {
     "data": {
      "text/html": [
       "\n",
       "    <div style='color: blue; font-weight: bold;'>Original: on the island of Oahu.</div>\n",
       "    <div style='color: green; font-weight: bold;'>Translated: na ilha de Oahu.</div>\n",
       "    "
      ],
      "text/plain": [
       "<IPython.core.display.HTML object>"
      ]
     },
     "metadata": {},
     "output_type": "display_data"
    },
    {
     "data": {
      "text/html": [
       "\n",
       "    <div style='color: blue; font-weight: bold;'>Original: - True story.</div>\n",
       "    <div style='color: green; font-weight: bold;'>Translated: - História verdadeira.</div>\n",
       "    "
      ],
      "text/plain": [
       "<IPython.core.display.HTML object>"
      ]
     },
     "metadata": {},
     "output_type": "display_data"
    },
    {
     "data": {
      "text/html": [
       "\n",
       "    <div style='color: blue; font-weight: bold;'>Original: Honey!\n",
       "Oh, thank goodness.</div>\n",
       "    <div style='color: green; font-weight: bold;'>Translated: Querido(a)!\n",
       "Oh, ainda bem.</div>\n",
       "    "
      ],
      "text/plain": [
       "<IPython.core.display.HTML object>"
      ]
     },
     "metadata": {},
     "output_type": "display_data"
    },
    {
     "data": {
      "text/html": [
       "\n",
       "    <div style='color: blue; font-weight: bold;'>Original: It's the children.\n",
       "We have to go now.</div>\n",
       "    <div style='color: green; font-weight: bold;'>Translated: São as crianças.\n",
       "Temos de ir agora.</div>\n",
       "    "
      ],
      "text/plain": [
       "<IPython.core.display.HTML object>"
      ]
     },
     "metadata": {},
     "output_type": "display_data"
    },
    {
     "data": {
      "text/html": [
       "\n",
       "    <div style='color: blue; font-weight: bold;'>Original: Thanks. Bye.</div>\n",
       "    <div style='color: green; font-weight: bold;'>Translated: Obrigado. Adeus.</div>\n",
       "    "
      ],
      "text/plain": [
       "<IPython.core.display.HTML object>"
      ]
     },
     "metadata": {},
     "output_type": "display_data"
    },
    {
     "data": {
      "text/html": [
       "\n",
       "    <div style='color: blue; font-weight: bold;'>Original: Our cover's blown!\n",
       "What?</div>\n",
       "    <div style='color: green; font-weight: bold;'>Translated: A nossa cobertura foi descoberta!\n",
       "Como assim?</div>\n",
       "    "
      ],
      "text/plain": [
       "<IPython.core.display.HTML object>"
      ]
     },
     "metadata": {},
     "output_type": "display_data"
    },
    {
     "data": {
      "text/html": [
       "\n",
       "    <div style='color: blue; font-weight: bold;'>Original: Call Silas!\n",
       "Oh, no.</div>\n",
       "    <div style='color: green; font-weight: bold;'>Translated: Liga ao Silas!\n",
       "Oh, não.</div>\n",
       "    "
      ],
      "text/plain": [
       "<IPython.core.display.HTML object>"
      ]
     },
     "metadata": {},
     "output_type": "display_data"
    },
    {
     "data": {
      "text/html": [
       "\n",
       "    <div style='color: blue; font-weight: bold;'>Original: <i>♪ Happy birthday to you ♪</i></div>\n",
       "    <div style='color: green; font-weight: bold;'>Translated: <i>♪ Parabéns a você ♪</i></div>\n",
       "    "
      ],
      "text/plain": [
       "<IPython.core.display.HTML object>"
      ]
     },
     "metadata": {},
     "output_type": "display_data"
    },
    {
     "data": {
      "text/html": [
       "\n",
       "    <div style='color: blue; font-weight: bold;'>Original: Ah.</div>\n",
       "    <div style='color: green; font-weight: bold;'>Translated: Ah.</div>\n",
       "    "
      ],
      "text/plain": [
       "<IPython.core.display.HTML object>"
      ]
     },
     "metadata": {},
     "output_type": "display_data"
    },
    {
     "data": {
      "text/html": [
       "\n",
       "    <div style='color: blue; font-weight: bold;'>Original: Gru's been compromised.</div>\n",
       "    <div style='color: green; font-weight: bold;'>Translated: O Gru foi comprometido.</div>\n",
       "    "
      ],
      "text/plain": [
       "<IPython.core.display.HTML object>"
      ]
     },
     "metadata": {},
     "output_type": "display_data"
    },
    {
     "data": {
      "text/html": [
       "\n",
       "    <div style='color: blue; font-weight: bold;'>Original: This is an emergency, people.</div>\n",
       "    <div style='color: green; font-weight: bold;'>Translated: Isto é uma emergência, pessoal.</div>\n",
       "    "
      ],
      "text/plain": [
       "<IPython.core.display.HTML object>"
      ]
     },
     "metadata": {},
     "output_type": "display_data"
    },
    {
     "data": {
      "text/html": [
       "\n",
       "    <div style='color: blue; font-weight: bold;'>Original: Retirement is officially over.</div>\n",
       "    <div style='color: green; font-weight: bold;'>Translated: A reforma acabou oficialmente.</div>\n",
       "    "
      ],
      "text/plain": [
       "<IPython.core.display.HTML object>"
      ]
     },
     "metadata": {},
     "output_type": "display_data"
    },
    {
     "data": {
      "text/html": [
       "\n",
       "    <div style='color: blue; font-weight: bold;'>Original: Assemble the Mega Minions.</div>\n",
       "    <div style='color: green; font-weight: bold;'>Translated: Montem os Mega Mínions.</div>\n",
       "    "
      ],
      "text/plain": [
       "<IPython.core.display.HTML object>"
      ]
     },
     "metadata": {},
     "output_type": "display_data"
    },
    {
     "data": {
      "text/html": [
       "\n",
       "    <div style='color: blue; font-weight: bold;'>Original: Oh!</div>\n",
       "    <div style='color: green; font-weight: bold;'>Translated: Ah!</div>\n",
       "    "
      ],
      "text/plain": [
       "<IPython.core.display.HTML object>"
      ]
     },
     "metadata": {},
     "output_type": "display_data"
    },
    {
     "data": {
      "text/html": [
       "\n",
       "    <div style='color: blue; font-weight: bold;'>Original: Pomodoro!</div>\n",
       "    <div style='color: green; font-weight: bold;'>Translated: Pomodoro!</div>\n",
       "    "
      ],
      "text/plain": [
       "<IPython.core.display.HTML object>"
      ]
     },
     "metadata": {},
     "output_type": "display_data"
    },
    {
     "data": {
      "text/html": [
       "\n",
       "    <div style='color: blue; font-weight: bold;'>Original: Mmm.</div>\n",
       "    <div style='color: green; font-weight: bold;'>Translated: Mmm.</div>\n",
       "    "
      ],
      "text/plain": [
       "<IPython.core.display.HTML object>"
      ]
     },
     "metadata": {},
     "output_type": "display_data"
    },
    {
     "data": {
      "text/html": [
       "\n",
       "    <div style='color: blue; font-weight: bold;'>Original: Ah! Pomodoro!</div>\n",
       "    <div style='color: green; font-weight: bold;'>Translated: Ah! Pomodoro!</div>\n",
       "    "
      ],
      "text/plain": [
       "<IPython.core.display.HTML object>"
      ]
     },
     "metadata": {},
     "output_type": "display_data"
    },
    {
     "data": {
      "text/html": [
       "\n",
       "    <div style='color: blue; font-weight: bold;'>Original: Hey.</div>\n",
       "    <div style='color: green; font-weight: bold;'>Translated: Olá.</div>\n",
       "    "
      ],
      "text/plain": [
       "<IPython.core.display.HTML object>"
      ]
     },
     "metadata": {},
     "output_type": "display_data"
    },
    {
     "data": {
      "text/html": [
       "\n",
       "    <div style='color: blue; font-weight: bold;'>Original: Busy bee.</div>\n",
       "    <div style='color: green; font-weight: bold;'>Translated: Abelha ocupada.</div>\n",
       "    "
      ],
      "text/plain": [
       "<IPython.core.display.HTML object>"
      ]
     },
     "metadata": {},
     "output_type": "display_data"
    },
    {
     "data": {
      "text/html": [
       "\n",
       "    <div style='color: blue; font-weight: bold;'>Original: Aw.</div>\n",
       "    <div style='color: green; font-weight: bold;'>Translated: Ai.</div>\n",
       "    "
      ],
      "text/plain": [
       "<IPython.core.display.HTML object>"
      ]
     },
     "metadata": {},
     "output_type": "display_data"
    },
    {
     "data": {
      "text/html": [
       "\n",
       "    <div style='color: blue; font-weight: bold;'>Original: Pomodoro!</div>\n",
       "    <div style='color: green; font-weight: bold;'>Translated: Pomodoro!</div>\n",
       "    "
      ],
      "text/plain": [
       "<IPython.core.display.HTML object>"
      ]
     },
     "metadata": {},
     "output_type": "display_data"
    },
    {
     "data": {
      "text/html": [
       "\n",
       "    <div style='color: blue; font-weight: bold;'>Original: Yeehaw.</div>\n",
       "    <div style='color: green; font-weight: bold;'>Translated: Iupi.</div>\n",
       "    "
      ],
      "text/plain": [
       "<IPython.core.display.HTML object>"
      ]
     },
     "metadata": {},
     "output_type": "display_data"
    },
    {
     "data": {
      "text/html": [
       "\n",
       "    <div style='color: blue; font-weight: bold;'>Original: Pomodoro!</div>\n",
       "    <div style='color: green; font-weight: bold;'>Translated: Pomodoro!</div>\n",
       "    "
      ],
      "text/plain": [
       "<IPython.core.display.HTML object>"
      ]
     },
     "metadata": {},
     "output_type": "display_data"
    },
    {
     "data": {
      "text/html": [
       "\n",
       "    <div style='color: blue; font-weight: bold;'>Original: Pomodoro! Yeehaw!</div>\n",
       "    <div style='color: green; font-weight: bold;'>Translated: Pomodoro! Yeehaw!</div>\n",
       "    "
      ],
      "text/plain": [
       "<IPython.core.display.HTML object>"
      ]
     },
     "metadata": {},
     "output_type": "display_data"
    },
    {
     "data": {
      "text/html": [
       "\n",
       "    <div style='color: blue; font-weight: bold;'>Original: Huh?</div>\n",
       "    <div style='color: green; font-weight: bold;'>Translated: Hã?</div>\n",
       "    "
      ],
      "text/plain": [
       "<IPython.core.display.HTML object>"
      ]
     },
     "metadata": {},
     "output_type": "display_data"
    },
    {
     "data": {
      "text/html": [
       "\n",
       "    <div style='color: blue; font-weight: bold;'>Original: Whoa! Ha-ha! Yeah!</div>\n",
       "    <div style='color: green; font-weight: bold;'>Translated: Uau! Ha-ha! Sim!</div>\n",
       "    "
      ],
      "text/plain": [
       "<IPython.core.display.HTML object>"
      ]
     },
     "metadata": {},
     "output_type": "display_data"
    },
    {
     "data": {
      "text/html": [
       "\n",
       "    <div style='color: blue; font-weight: bold;'>Original: So...</div>\n",
       "    <div style='color: green; font-weight: bold;'>Translated: Então...</div>\n",
       "    "
      ],
      "text/plain": [
       "<IPython.core.display.HTML object>"
      ]
     },
     "metadata": {},
     "output_type": "display_data"
    },
    {
     "data": {
      "text/html": [
       "\n",
       "    <div style='color: blue; font-weight: bold;'>Original: your father has been naughty.</div>\n",
       "    <div style='color: green; font-weight: bold;'>Translated: o teu pai tem sido maroto.</div>\n",
       "    "
      ],
      "text/plain": [
       "<IPython.core.display.HTML object>"
      ]
     },
     "metadata": {},
     "output_type": "display_data"
    },
    {
     "data": {
      "text/html": [
       "\n",
       "    <div style='color: blue; font-weight: bold;'>Original: Very naughty.</div>\n",
       "    <div style='color: green; font-weight: bold;'>Translated: Muito travesso.</div>\n",
       "    "
      ],
      "text/plain": [
       "<IPython.core.display.HTML object>"
      ]
     },
     "metadata": {},
     "output_type": "display_data"
    },
    {
     "data": {
      "text/html": [
       "\n",
       "    <div style='color: blue; font-weight: bold;'>Original: He took something of mine\n",
       "that I desperately want back.</div>\n",
       "    <div style='color: green; font-weight: bold;'>Translated: Ele levou algo que é meu\n",
       "que eu desesperadamente quero de volta.</div>\n",
       "    "
      ],
      "text/plain": [
       "<IPython.core.display.HTML object>"
      ]
     },
     "metadata": {},
     "output_type": "display_data"
    },
    {
     "data": {
      "text/html": [
       "\n",
       "    <div style='color: blue; font-weight: bold;'>Original: Ah!\n",
       "Ha!</div>\n",
       "    <div style='color: green; font-weight: bold;'>Translated: Ah!\n",
       "Ah!</div>\n",
       "    "
      ],
      "text/plain": [
       "<IPython.core.display.HTML object>"
      ]
     },
     "metadata": {},
     "output_type": "display_data"
    },
    {
     "data": {
      "text/html": [
       "\n",
       "    <div style='color: blue; font-weight: bold;'>Original: Principal Übelschlecht?</div>\n",
       "    <div style='color: green; font-weight: bold;'>Translated: Principal Übelschlecht?</div>\n",
       "    "
      ],
      "text/plain": [
       "<IPython.core.display.HTML object>"
      ]
     },
     "metadata": {},
     "output_type": "display_data"
    },
    {
     "data": {
      "text/html": [
       "\n",
       "    <div style='color: blue; font-weight: bold;'>Original: Ooh! I know you took my Lenny.</div>\n",
       "    <div style='color: green; font-weight: bold;'>Translated: Ah! Eu sei que levaste o meu Lenny.</div>\n",
       "    "
      ],
      "text/plain": [
       "<IPython.core.display.HTML object>"
      ]
     },
     "metadata": {},
     "output_type": "display_data"
    },
    {
     "data": {
      "text/html": [
       "\n",
       "    <div style='color: blue; font-weight: bold;'>Original: Now hand him over.\n",
       "Ah! Ow!</div>\n",
       "    <div style='color: green; font-weight: bold;'>Translated: Agora entrega-o.\n",
       "Ah! Ai!</div>\n",
       "    "
      ],
      "text/plain": [
       "<IPython.core.display.HTML object>"
      ]
     },
     "metadata": {},
     "output_type": "display_data"
    },
    {
     "data": {
      "text/html": [
       "\n",
       "    <div style='color: blue; font-weight: bold;'>Original: That's actually\n",
       "a very funny story.</div>\n",
       "    <div style='color: green; font-weight: bold;'>Translated: Isso é, na verdade,\n",
       "uma história muito engraçada.</div>\n",
       "    "
      ],
      "text/plain": [
       "<IPython.core.display.HTML object>"
      ]
     },
     "metadata": {},
     "output_type": "display_data"
    },
    {
     "data": {
      "text/html": [
       "\n",
       "    <div style='color: blue; font-weight: bold;'>Original: Zip it.</div>\n",
       "    <div style='color: green; font-weight: bold;'>Translated: Cala-te.</div>\n",
       "    "
      ],
      "text/plain": [
       "<IPython.core.display.HTML object>"
      ]
     },
     "metadata": {},
     "output_type": "display_data"
    },
    {
     "data": {
      "text/html": [
       "\n",
       "    <div style='color: blue; font-weight: bold;'>Original: I don't wanna hear your excuses.</div>\n",
       "    <div style='color: green; font-weight: bold;'>Translated: Não quero ouvir as tuas desculpas.</div>\n",
       "    "
      ],
      "text/plain": [
       "<IPython.core.display.HTML object>"
      ]
     },
     "metadata": {},
     "output_type": "display_data"
    },
    {
     "data": {
      "text/html": [
       "\n",
       "    <div style='color: blue; font-weight: bold;'>Original: I'm here to teach you a lesson.\n",
       "Let's go, tough guy.</div>\n",
       "    <div style='color: green; font-weight: bold;'>Translated: Estou aqui para te ensinar uma lição.\n",
       "Vamos lá, durão.</div>\n",
       "    "
      ],
      "text/plain": [
       "<IPython.core.display.HTML object>"
      ]
     },
     "metadata": {},
     "output_type": "display_data"
    },
    {
     "data": {
      "text/html": [
       "\n",
       "    <div style='color: blue; font-weight: bold;'>Original: Okay. Okay. I'm not going to\n",
       "fight an old lady.</div>\n",
       "    <div style='color: green; font-weight: bold;'>Translated: Está bem. Está bem. Não vou\n",
       "lutar contra uma senhora idosa.</div>\n",
       "    "
      ],
      "text/plain": [
       "<IPython.core.display.HTML object>"
      ]
     },
     "metadata": {},
     "output_type": "display_data"
    },
    {
     "data": {
      "text/html": [
       "\n",
       "    <div style='color: blue; font-weight: bold;'>Original: Oh, yeah?</div>\n",
       "    <div style='color: green; font-weight: bold;'>Translated: Ah, sim?</div>\n",
       "    "
      ],
      "text/plain": [
       "<IPython.core.display.HTML object>"
      ]
     },
     "metadata": {},
     "output_type": "display_data"
    },
    {
     "data": {
      "text/html": [
       "\n",
       "    <div style='color: blue; font-weight: bold;'>Original: Well, I'm gonna give you\n",
       "a whupping\n",
       "for the history books.</div>\n",
       "    <div style='color: green; font-weight: bold;'>Translated: Bem, vou-te dar\n",
       "uma tareia</div>\n",
       "    "
      ],
      "text/plain": [
       "<IPython.core.display.HTML object>"
      ]
     },
     "metadata": {},
     "output_type": "display_data"
    },
    {
     "data": {
      "text/html": [
       "\n",
       "    <div style='color: blue; font-weight: bold;'>Original: Whoa! Whoa!</div>\n",
       "    <div style='color: green; font-weight: bold;'>Translated: Calma! Calma!</div>\n",
       "    "
      ],
      "text/plain": [
       "<IPython.core.display.HTML object>"
      ]
     },
     "metadata": {},
     "output_type": "display_data"
    },
    {
     "data": {
      "text/html": [
       "\n",
       "    <div style='color: blue; font-weight: bold;'>Original: Take that.</div>\n",
       "    <div style='color: green; font-weight: bold;'>Translated: Toma isso.</div>\n",
       "    "
      ],
      "text/plain": [
       "<IPython.core.display.HTML object>"
      ]
     },
     "metadata": {},
     "output_type": "display_data"
    },
    {
     "data": {
      "text/html": [
       "\n",
       "    <div style='color: blue; font-weight: bold;'>Original: Yeah! Go!</div>\n",
       "    <div style='color: green; font-weight: bold;'>Translated: Sim! Vamos!</div>\n",
       "    "
      ],
      "text/plain": [
       "<IPython.core.display.HTML object>"
      ]
     },
     "metadata": {},
     "output_type": "display_data"
    },
    {
     "data": {
      "text/html": [
       "\n",
       "    <div style='color: blue; font-weight: bold;'>Original: Girls, look out! Over here!</div>\n",
       "    <div style='color: green; font-weight: bold;'>Translated: Meninas, olhem! Para aqui!</div>\n",
       "    "
      ],
      "text/plain": [
       "<IPython.core.display.HTML object>"
      ]
     },
     "metadata": {},
     "output_type": "display_data"
    },
    {
     "data": {
      "text/html": [
       "\n",
       "    <div style='color: blue; font-weight: bold;'>Original: Everyone, get down!</div>\n",
       "    <div style='color: green; font-weight: bold;'>Translated: Todos, abaixem-se!</div>\n",
       "    "
      ],
      "text/plain": [
       "<IPython.core.display.HTML object>"
      ]
     },
     "metadata": {},
     "output_type": "display_data"
    },
    {
     "data": {
      "text/html": [
       "\n",
       "    <div style='color: blue; font-weight: bold;'>Original: Hey, back off, lady!</div>\n",
       "    <div style='color: green; font-weight: bold;'>Translated: Ei, afaste-se, senhora!</div>\n",
       "    "
      ],
      "text/plain": [
       "<IPython.core.display.HTML object>"
      ]
     },
     "metadata": {},
     "output_type": "display_data"
    },
    {
     "data": {
      "text/html": [
       "\n",
       "    <div style='color: blue; font-weight: bold;'>Original: Ow!</div>\n",
       "    <div style='color: green; font-weight: bold;'>Translated: Ai!</div>\n",
       "    "
      ],
      "text/plain": [
       "<IPython.core.display.HTML object>"
      ]
     },
     "metadata": {},
     "output_type": "display_data"
    },
    {
     "data": {
      "text/html": [
       "\n",
       "    <div style='color: blue; font-weight: bold;'>Original: Stop it!</div>\n",
       "    <div style='color: green; font-weight: bold;'>Translated: Pára com isso!</div>\n",
       "    "
      ],
      "text/plain": [
       "<IPython.core.display.HTML object>"
      ]
     },
     "metadata": {},
     "output_type": "display_data"
    },
    {
     "data": {
      "text/html": [
       "\n",
       "    <div style='color: blue; font-weight: bold;'>Original: Let him go!</div>\n",
       "    <div style='color: green; font-weight: bold;'>Translated: Deixa-o ir!</div>\n",
       "    "
      ],
      "text/plain": [
       "<IPython.core.display.HTML object>"
      ]
     },
     "metadata": {},
     "output_type": "display_data"
    },
    {
     "data": {
      "text/html": [
       "\n",
       "    <div style='color: blue; font-weight: bold;'>Original: Take that!</div>\n",
       "    <div style='color: green; font-weight: bold;'>Translated: Toma lá!</div>\n",
       "    "
      ],
      "text/plain": [
       "<IPython.core.display.HTML object>"
      ]
     },
     "metadata": {},
     "output_type": "display_data"
    },
    {
     "data": {
      "text/html": [
       "\n",
       "    <div style='color: blue; font-weight: bold;'>Original: Now we have to\n",
       "get in there\n",
       "and find that baby.</div>\n",
       "    <div style='color: green; font-weight: bold;'>Translated: Agora temos de\n",
       "entrar lá</div>\n",
       "    "
      ],
      "text/plain": [
       "<IPython.core.display.HTML object>"
      ]
     },
     "metadata": {},
     "output_type": "display_data"
    },
    {
     "data": {
      "text/html": [
       "\n",
       "    <div style='color: blue; font-weight: bold;'>Original: What?</div>\n",
       "    <div style='color: green; font-weight: bold;'>Translated: O quê?</div>\n",
       "    "
      ],
      "text/plain": [
       "<IPython.core.display.HTML object>"
      ]
     },
     "metadata": {},
     "output_type": "display_data"
    },
    {
     "data": {
      "text/html": [
       "\n",
       "    <div style='color: blue; font-weight: bold;'>Original: Oh, jackpot, huh?</div>\n",
       "    <div style='color: green; font-weight: bold;'>Translated: Ah, jackpot, hein?</div>\n",
       "    "
      ],
      "text/plain": [
       "<IPython.core.display.HTML object>"
      ]
     },
     "metadata": {},
     "output_type": "display_data"
    },
    {
     "data": {
      "text/html": [
       "\n",
       "    <div style='color: blue; font-weight: bold;'>Original: <i>Ay,</i> Maxime.\n",
       "This is too easy.</div>\n",
       "    <div style='color: green; font-weight: bold;'>Translated: <i>Ay,</i> Maxime.\n",
       "Isto é demasiado fácil.</div>\n",
       "    "
      ],
      "text/plain": [
       "<IPython.core.display.HTML object>"
      ]
     },
     "metadata": {},
     "output_type": "display_data"
    },
    {
     "data": {
      "text/html": [
       "\n",
       "    <div style='color: blue; font-weight: bold;'>Original: Come here, little <i>bébé.</i></div>\n",
       "    <div style='color: green; font-weight: bold;'>Translated: Vem cá, pequeno <i>bébé</i>.</div>\n",
       "    "
      ],
      "text/plain": [
       "<IPython.core.display.HTML object>"
      ]
     },
     "metadata": {},
     "output_type": "display_data"
    },
    {
     "data": {
      "text/html": [
       "\n",
       "    <div style='color: blue; font-weight: bold;'>Original: Come to Maxime.</div>\n",
       "    <div style='color: green; font-weight: bold;'>Translated: Vem ao Maxime.</div>\n",
       "    "
      ],
      "text/plain": [
       "<IPython.core.display.HTML object>"
      ]
     },
     "metadata": {},
     "output_type": "display_data"
    },
    {
     "data": {
      "text/html": [
       "\n",
       "    <div style='color: blue; font-weight: bold;'>Original: Yes. Coochy, coochy--</div>\n",
       "    <div style='color: green; font-weight: bold;'>Translated: Sim. Cócegas, cócegas--</div>\n",
       "    "
      ],
      "text/plain": [
       "<IPython.core.display.HTML object>"
      ]
     },
     "metadata": {},
     "output_type": "display_data"
    },
    {
     "data": {
      "text/html": [
       "\n",
       "    <div style='color: blue; font-weight: bold;'>Original: Oh!\n",
       "<i>Ay,</i> Maxime.</div>\n",
       "    <div style='color: green; font-weight: bold;'>Translated: Oh!\n",
       "<i>Ay,</i> Maxime.</div>\n",
       "    "
      ],
      "text/plain": [
       "<IPython.core.display.HTML object>"
      ]
     },
     "metadata": {},
     "output_type": "display_data"
    },
    {
     "data": {
      "text/html": [
       "\n",
       "    <div style='color: blue; font-weight: bold;'>Original: You little--</div>\n",
       "    <div style='color: green; font-weight: bold;'>Translated: Seu pequeno--</div>\n",
       "    "
      ],
      "text/plain": [
       "<IPython.core.display.HTML object>"
      ]
     },
     "metadata": {},
     "output_type": "display_data"
    },
    {
     "data": {
      "text/html": [
       "\n",
       "    <div style='color: blue; font-weight: bold;'>Original: You are in big trouble.</div>\n",
       "    <div style='color: green; font-weight: bold;'>Translated: Estás em grandes apuros.</div>\n",
       "    "
      ],
      "text/plain": [
       "<IPython.core.display.HTML object>"
      ]
     },
     "metadata": {},
     "output_type": "display_data"
    },
    {
     "data": {
      "text/html": [
       "\n",
       "    <div style='color: blue; font-weight: bold;'>Original: Gotcha!</div>\n",
       "    <div style='color: green; font-weight: bold;'>Translated: Entendi!</div>\n",
       "    "
      ],
      "text/plain": [
       "<IPython.core.display.HTML object>"
      ]
     },
     "metadata": {},
     "output_type": "display_data"
    },
    {
     "data": {
      "text/html": [
       "\n",
       "    <div style='color: blue; font-weight: bold;'>Original: Hi-yah!</div>\n",
       "    <div style='color: green; font-weight: bold;'>Translated: Olá!</div>\n",
       "    "
      ],
      "text/plain": [
       "<IPython.core.display.HTML object>"
      ]
     },
     "metadata": {},
     "output_type": "display_data"
    },
    {
     "data": {
      "text/html": [
       "\n",
       "    <div style='color: blue; font-weight: bold;'>Original: Whew.</div>\n",
       "    <div style='color: green; font-weight: bold;'>Translated: Ufa.</div>\n",
       "    "
      ],
      "text/plain": [
       "<IPython.core.display.HTML object>"
      ]
     },
     "metadata": {},
     "output_type": "display_data"
    },
    {
     "data": {
      "text/html": [
       "\n",
       "    <div style='color: blue; font-weight: bold;'>Original: Wait. Where's the baby?</div>\n",
       "    <div style='color: green; font-weight: bold;'>Translated: Espera. Onde está o bebé?</div>\n",
       "    "
      ],
      "text/plain": [
       "<IPython.core.display.HTML object>"
      ]
     },
     "metadata": {},
     "output_type": "display_data"
    },
    {
     "data": {
      "text/html": [
       "\n",
       "    <div style='color: blue; font-weight: bold;'>Original: Where's the baby?</div>\n",
       "    <div style='color: green; font-weight: bold;'>Translated: Onde está o bebé?</div>\n",
       "    "
      ],
      "text/plain": [
       "<IPython.core.display.HTML object>"
      ]
     },
     "metadata": {},
     "output_type": "display_data"
    },
    {
     "data": {
      "text/html": [
       "\n",
       "    <div style='color: blue; font-weight: bold;'>Original: Junior?</div>\n",
       "    <div style='color: green; font-weight: bold;'>Translated: Júnior?</div>\n",
       "    "
      ],
      "text/plain": [
       "<IPython.core.display.HTML object>"
      ]
     },
     "metadata": {},
     "output_type": "display_data"
    },
    {
     "data": {
      "text/html": [
       "\n",
       "    <div style='color: blue; font-weight: bold;'>Original: Lucy!</div>\n",
       "    <div style='color: green; font-weight: bold;'>Translated: Lucy!</div>\n",
       "    "
      ],
      "text/plain": [
       "<IPython.core.display.HTML object>"
      ]
     },
     "metadata": {},
     "output_type": "display_data"
    },
    {
     "data": {
      "text/html": [
       "\n",
       "    <div style='color: blue; font-weight: bold;'>Original: Go after the baby.</div>\n",
       "    <div style='color: green; font-weight: bold;'>Translated: Vai atrás do bebé.</div>\n",
       "    "
      ],
      "text/plain": [
       "<IPython.core.display.HTML object>"
      ]
     },
     "metadata": {},
     "output_type": "display_data"
    },
    {
     "data": {
      "text/html": [
       "\n",
       "    <div style='color: blue; font-weight: bold;'>Original: Maxime.</div>\n",
       "    <div style='color: green; font-weight: bold;'>Translated: Máximo.</div>\n",
       "    "
      ],
      "text/plain": [
       "<IPython.core.display.HTML object>"
      ]
     },
     "metadata": {},
     "output_type": "display_data"
    },
    {
     "data": {
      "text/html": [
       "\n",
       "    <div style='color: blue; font-weight: bold;'>Original: Say au revoir, Gru.</div>\n",
       "    <div style='color: green; font-weight: bold;'>Translated: Diz adeus, Gru.</div>\n",
       "    "
      ],
      "text/plain": [
       "<IPython.core.display.HTML object>"
      ]
     },
     "metadata": {},
     "output_type": "display_data"
    },
    {
     "data": {
      "text/html": [
       "\n",
       "    <div style='color: blue; font-weight: bold;'>Original: Oh, and don't worry.</div>\n",
       "    <div style='color: green; font-weight: bold;'>Translated: Ah, e não te preocupes.</div>\n",
       "    "
      ],
      "text/plain": [
       "<IPython.core.display.HTML object>"
      ]
     },
     "metadata": {},
     "output_type": "display_data"
    },
    {
     "data": {
      "text/html": [
       "\n",
       "    <div style='color: blue; font-weight: bold;'>Original: He will be very happy\n",
       "with his new daddy.</div>\n",
       "    <div style='color: green; font-weight: bold;'>Translated: Ele vai ficar muito feliz\n",
       "com o seu novo papá.</div>\n",
       "    "
      ],
      "text/plain": [
       "<IPython.core.display.HTML object>"
      ]
     },
     "metadata": {},
     "output_type": "display_data"
    },
    {
     "data": {
      "text/html": [
       "\n",
       "    <div style='color: blue; font-weight: bold;'>Original: Right? Look at him.\n",
       "Oh, he loves his new daddy.</div>\n",
       "    <div style='color: green; font-weight: bold;'>Translated: Certo? Olha para ele.\n",
       "Oh, ele adora o seu novo papá.</div>\n",
       "    "
      ],
      "text/plain": [
       "<IPython.core.display.HTML object>"
      ]
     },
     "metadata": {},
     "output_type": "display_data"
    },
    {
     "data": {
      "text/html": [
       "\n",
       "    <div style='color: blue; font-weight: bold;'>Original: Junior!</div>\n",
       "    <div style='color: green; font-weight: bold;'>Translated: Júnior!</div>\n",
       "    "
      ],
      "text/plain": [
       "<IPython.core.display.HTML object>"
      ]
     },
     "metadata": {},
     "output_type": "display_data"
    },
    {
     "data": {
      "text/html": [
       "\n",
       "    <div style='color: blue; font-weight: bold;'>Original: No!</div>\n",
       "    <div style='color: green; font-weight: bold;'>Translated: Não!</div>\n",
       "    "
      ],
      "text/plain": [
       "<IPython.core.display.HTML object>"
      ]
     },
     "metadata": {},
     "output_type": "display_data"
    },
    {
     "data": {
      "text/html": [
       "\n",
       "    <div style='color: blue; font-weight: bold;'>Original: Get in.</div>\n",
       "    <div style='color: green; font-weight: bold;'>Translated: Entra.</div>\n",
       "    "
      ],
      "text/plain": [
       "<IPython.core.display.HTML object>"
      ]
     },
     "metadata": {},
     "output_type": "display_data"
    },
    {
     "data": {
      "text/html": [
       "\n",
       "    <div style='color: blue; font-weight: bold;'>Original: We've got a baby to save.</div>\n",
       "    <div style='color: green; font-weight: bold;'>Translated: Temos um bebé para salvar.</div>\n",
       "    "
      ],
      "text/plain": [
       "<IPython.core.display.HTML object>"
      ]
     },
     "metadata": {},
     "output_type": "display_data"
    },
    {
     "data": {
      "text/html": [
       "\n",
       "    <div style='color: blue; font-weight: bold;'>Original: We got him!</div>\n",
       "    <div style='color: green; font-weight: bold;'>Translated: Nós apanhámo-lo!</div>\n",
       "    "
      ],
      "text/plain": [
       "<IPython.core.display.HTML object>"
      ]
     },
     "metadata": {},
     "output_type": "display_data"
    },
    {
     "data": {
      "text/html": [
       "\n",
       "    <div style='color: blue; font-weight: bold;'>Original: Oh, ho. Who is ready\n",
       "to become a little roach?</div>\n",
       "    <div style='color: green; font-weight: bold;'>Translated: Oh, ho. Quem está pronto\n",
       "para se tornar uma pequena barata?</div>\n",
       "    "
      ],
      "text/plain": [
       "<IPython.core.display.HTML object>"
      ]
     },
     "metadata": {},
     "output_type": "display_data"
    },
    {
     "data": {
      "text/html": [
       "\n",
       "    <div style='color: blue; font-weight: bold;'>Original: Let go!</div>\n",
       "    <div style='color: green; font-weight: bold;'>Translated: Solta!</div>\n",
       "    "
      ],
      "text/plain": [
       "<IPython.core.display.HTML object>"
      ]
     },
     "metadata": {},
     "output_type": "display_data"
    },
    {
     "data": {
      "text/html": [
       "\n",
       "    <div style='color: blue; font-weight: bold;'>Original: Those are very sensitive. Ah!</div>\n",
       "    <div style='color: green; font-weight: bold;'>Translated: Esses são muito sensíveis. Ah!</div>\n",
       "    "
      ],
      "text/plain": [
       "<IPython.core.display.HTML object>"
      ]
     },
     "metadata": {},
     "output_type": "display_data"
    },
    {
     "data": {
      "text/html": [
       "\n",
       "    <div style='color: blue; font-weight: bold;'>Original: You squirmy little--</div>\n",
       "    <div style='color: green; font-weight: bold;'>Translated: Seu pequeno esguio--</div>\n",
       "    "
      ],
      "text/plain": [
       "<IPython.core.display.HTML object>"
      ]
     },
     "metadata": {},
     "output_type": "display_data"
    },
    {
     "data": {
      "text/html": [
       "\n",
       "    <div style='color: blue; font-weight: bold;'>Original: Oh!</div>\n",
       "    <div style='color: green; font-weight: bold;'>Translated: Ah!</div>\n",
       "    "
      ],
      "text/plain": [
       "<IPython.core.display.HTML object>"
      ]
     },
     "metadata": {},
     "output_type": "display_data"
    },
    {
     "data": {
      "text/html": [
       "\n",
       "    <div style='color: blue; font-weight: bold;'>Original: Oh! Are you kidding me?</div>\n",
       "    <div style='color: green; font-weight: bold;'>Translated: Ah! Estás a brincar comigo?</div>\n",
       "    "
      ],
      "text/plain": [
       "<IPython.core.display.HTML object>"
      ]
     },
     "metadata": {},
     "output_type": "display_data"
    },
    {
     "data": {
      "text/html": [
       "\n",
       "    <div style='color: blue; font-weight: bold;'>Original: You got pee-pee\n",
       "all over my ship.</div>\n",
       "    <div style='color: green; font-weight: bold;'>Translated: Fizeste xixi por todo o meu navio.</div>\n",
       "    "
      ],
      "text/plain": [
       "<IPython.core.display.HTML object>"
      ]
     },
     "metadata": {},
     "output_type": "display_data"
    },
    {
     "data": {
      "text/html": [
       "\n",
       "    <div style='color: blue; font-weight: bold;'>Original: Valentina!</div>\n",
       "    <div style='color: green; font-weight: bold;'>Translated: Valentina!</div>\n",
       "    "
      ],
      "text/plain": [
       "<IPython.core.display.HTML object>"
      ]
     },
     "metadata": {},
     "output_type": "display_data"
    },
    {
     "data": {
      "text/html": [
       "\n",
       "    <div style='color: blue; font-weight: bold;'>Original: Bring me the Roachification Ray!</div>\n",
       "    <div style='color: green; font-weight: bold;'>Translated: Traga-me o Raio Roachificador!</div>\n",
       "    "
      ],
      "text/plain": [
       "<IPython.core.display.HTML object>"
      ]
     },
     "metadata": {},
     "output_type": "display_data"
    },
    {
     "data": {
      "text/html": [
       "\n",
       "    <div style='color: blue; font-weight: bold;'>Original: There they are.</div>\n",
       "    <div style='color: green; font-weight: bold;'>Translated: Lá estão eles.</div>\n",
       "    "
      ],
      "text/plain": [
       "<IPython.core.display.HTML object>"
      ]
     },
     "metadata": {},
     "output_type": "display_data"
    },
    {
     "data": {
      "text/html": [
       "\n",
       "    <div style='color: blue; font-weight: bold;'>Original: I'm on it.</div>\n",
       "    <div style='color: green; font-weight: bold;'>Translated: Estou a tratar disso.</div>\n",
       "    "
      ],
      "text/plain": [
       "<IPython.core.display.HTML object>"
      ]
     },
     "metadata": {},
     "output_type": "display_data"
    },
    {
     "data": {
      "text/html": [
       "\n",
       "    <div style='color: blue; font-weight: bold;'>Original: Here we go.</div>\n",
       "    <div style='color: green; font-weight: bold;'>Translated: Aqui vamos nós.</div>\n",
       "    "
      ],
      "text/plain": [
       "<IPython.core.display.HTML object>"
      ]
     },
     "metadata": {},
     "output_type": "display_data"
    },
    {
     "data": {
      "text/html": [
       "\n",
       "    <div style='color: blue; font-weight: bold;'>Original: Whoa, whoa, whoa,\n",
       "whoa, whoa, whoa, whoa.</div>\n",
       "    <div style='color: green; font-weight: bold;'>Translated: Uau, uau, uau,\n",
       "uau, uau, uau, uau.</div>\n",
       "    "
      ],
      "text/plain": [
       "<IPython.core.display.HTML object>"
      ]
     },
     "metadata": {},
     "output_type": "display_data"
    },
    {
     "data": {
      "text/html": [
       "\n",
       "    <div style='color: blue; font-weight: bold;'>Original: Mmm.</div>\n",
       "    <div style='color: green; font-weight: bold;'>Translated: Mmm.</div>\n",
       "    "
      ],
      "text/plain": [
       "<IPython.core.display.HTML object>"
      ]
     },
     "metadata": {},
     "output_type": "display_data"
    },
    {
     "data": {
      "text/html": [
       "\n",
       "    <div style='color: blue; font-weight: bold;'>Original: What's that? Oh!</div>\n",
       "    <div style='color: green; font-weight: bold;'>Translated: O que é isso? Oh!</div>\n",
       "    "
      ],
      "text/plain": [
       "<IPython.core.display.HTML object>"
      ]
     },
     "metadata": {},
     "output_type": "display_data"
    },
    {
     "data": {
      "text/html": [
       "\n",
       "    <div style='color: blue; font-weight: bold;'>Original: Ugh. Gru!</div>\n",
       "    <div style='color: green; font-weight: bold;'>Translated: Ugh. Gru!</div>\n",
       "    "
      ],
      "text/plain": [
       "<IPython.core.display.HTML object>"
      ]
     },
     "metadata": {},
     "output_type": "display_data"
    },
    {
     "data": {
      "text/html": [
       "\n",
       "    <div style='color: blue; font-weight: bold;'>Original: Get me closer!</div>\n",
       "    <div style='color: green; font-weight: bold;'>Translated: Aproxima-me!</div>\n",
       "    "
      ],
      "text/plain": [
       "<IPython.core.display.HTML object>"
      ]
     },
     "metadata": {},
     "output_type": "display_data"
    },
    {
     "data": {
      "text/html": [
       "\n",
       "    <div style='color: blue; font-weight: bold;'>Original: Almost there.</div>\n",
       "    <div style='color: green; font-weight: bold;'>Translated: Quase lá.</div>\n",
       "    "
      ],
      "text/plain": [
       "<IPython.core.display.HTML object>"
      ]
     },
     "metadata": {},
     "output_type": "display_data"
    },
    {
     "data": {
      "text/html": [
       "\n",
       "    <div style='color: blue; font-weight: bold;'>Original: Take them out!</div>\n",
       "    <div style='color: green; font-weight: bold;'>Translated: Tire-os daí!</div>\n",
       "    "
      ],
      "text/plain": [
       "<IPython.core.display.HTML object>"
      ]
     },
     "metadata": {},
     "output_type": "display_data"
    },
    {
     "data": {
      "text/html": [
       "\n",
       "    <div style='color: blue; font-weight: bold;'>Original: You're doing great.</div>\n",
       "    <div style='color: green; font-weight: bold;'>Translated: Estás a fazer um ótimo trabalho.</div>\n",
       "    "
      ],
      "text/plain": [
       "<IPython.core.display.HTML object>"
      ]
     },
     "metadata": {},
     "output_type": "display_data"
    },
    {
     "data": {
      "text/html": [
       "\n",
       "    <div style='color: blue; font-weight: bold;'>Original: Go get 'em, partner.</div>\n",
       "    <div style='color: green; font-weight: bold;'>Translated: Vai buscá-los, parceiro.</div>\n",
       "    "
      ],
      "text/plain": [
       "<IPython.core.display.HTML object>"
      ]
     },
     "metadata": {},
     "output_type": "display_data"
    },
    {
     "data": {
      "text/html": [
       "\n",
       "    <div style='color: blue; font-weight: bold;'>Original: <i>Ay!</i> I can't see!</div>\n",
       "    <div style='color: green; font-weight: bold;'>Translated: <i>Ai!</i> Não consigo ver!</div>\n",
       "    "
      ],
      "text/plain": [
       "<IPython.core.display.HTML object>"
      ]
     },
     "metadata": {},
     "output_type": "display_data"
    },
    {
     "data": {
      "text/html": [
       "\n",
       "    <div style='color: blue; font-weight: bold;'>Original: Junior!</div>\n",
       "    <div style='color: green; font-weight: bold;'>Translated: Júnior!</div>\n",
       "    "
      ],
      "text/plain": [
       "<IPython.core.display.HTML object>"
      ]
     },
     "metadata": {},
     "output_type": "display_data"
    },
    {
     "data": {
      "text/html": [
       "\n",
       "    <div style='color: blue; font-weight: bold;'>Original: Don't worry, Gru.</div>\n",
       "    <div style='color: green; font-weight: bold;'>Translated: Não te preocupes, Gru.</div>\n",
       "    "
      ],
      "text/plain": [
       "<IPython.core.display.HTML object>"
      ]
     },
     "metadata": {},
     "output_type": "display_data"
    },
    {
     "data": {
      "text/html": [
       "\n",
       "    <div style='color: blue; font-weight: bold;'>Original: The baby is fine.</div>\n",
       "    <div style='color: green; font-weight: bold;'>Translated: O bebé está bem.</div>\n",
       "    "
      ],
      "text/plain": [
       "<IPython.core.display.HTML object>"
      ]
     },
     "metadata": {},
     "output_type": "display_data"
    },
    {
     "data": {
      "text/html": [
       "\n",
       "    <div style='color: blue; font-weight: bold;'>Original: See for yourself.</div>\n",
       "    <div style='color: green; font-weight: bold;'>Translated: Veja por si mesmo.</div>\n",
       "    "
      ],
      "text/plain": [
       "<IPython.core.display.HTML object>"
      ]
     },
     "metadata": {},
     "output_type": "display_data"
    },
    {
     "data": {
      "text/html": [
       "\n",
       "    <div style='color: blue; font-weight: bold;'>Original: Oh, Junior.</div>\n",
       "    <div style='color: green; font-weight: bold;'>Translated: Oh, Júnior.</div>\n",
       "    "
      ],
      "text/plain": [
       "<IPython.core.display.HTML object>"
      ]
     },
     "metadata": {},
     "output_type": "display_data"
    },
    {
     "data": {
      "text/html": [
       "\n",
       "    <div style='color: blue; font-weight: bold;'>Original: And now he belongs to me.</div>\n",
       "    <div style='color: green; font-weight: bold;'>Translated: E agora ele pertence-me.</div>\n",
       "    "
      ],
      "text/plain": [
       "<IPython.core.display.HTML object>"
      ]
     },
     "metadata": {},
     "output_type": "display_data"
    },
    {
     "data": {
      "text/html": [
       "\n",
       "    <div style='color: blue; font-weight: bold;'>Original: Isn't that right, Maxime Jr?</div>\n",
       "    <div style='color: green; font-weight: bold;'>Translated: Não é verdade, Maxime Jr.?</div>\n",
       "    "
      ],
      "text/plain": [
       "<IPython.core.display.HTML object>"
      ]
     },
     "metadata": {},
     "output_type": "display_data"
    },
    {
     "data": {
      "text/html": [
       "\n",
       "    <div style='color: blue; font-weight: bold;'>Original: Together we will wreak havoc,</div>\n",
       "    <div style='color: green; font-weight: bold;'>Translated: Juntos vamos causar o caos,</div>\n",
       "    "
      ],
      "text/plain": [
       "<IPython.core.display.HTML object>"
      ]
     },
     "metadata": {},
     "output_type": "display_data"
    },
    {
     "data": {
      "text/html": [
       "\n",
       "    <div style='color: blue; font-weight: bold;'>Original: cause mayhem,</div>\n",
       "    <div style='color: green; font-weight: bold;'>Translated: causar caos,</div>\n",
       "    "
      ],
      "text/plain": [
       "<IPython.core.display.HTML object>"
      ]
     },
     "metadata": {},
     "output_type": "display_data"
    },
    {
     "data": {
      "text/html": [
       "\n",
       "    <div style='color: blue; font-weight: bold;'>Original: and have so much fun\n",
       "doing it, huh?</div>\n",
       "    <div style='color: green; font-weight: bold;'>Translated: e divertires-te tanto a fazê-lo, não é verdade?</div>\n",
       "    "
      ],
      "text/plain": [
       "<IPython.core.display.HTML object>"
      ]
     },
     "metadata": {},
     "output_type": "display_data"
    },
    {
     "data": {
      "text/html": [
       "\n",
       "    <div style='color: blue; font-weight: bold;'>Original: And best of all, he hates you!</div>\n",
       "    <div style='color: green; font-weight: bold;'>Translated: E o melhor de tudo, ele odeia-te!</div>\n",
       "    "
      ],
      "text/plain": [
       "<IPython.core.display.HTML object>"
      ]
     },
     "metadata": {},
     "output_type": "display_data"
    },
    {
     "data": {
      "text/html": [
       "\n",
       "    <div style='color: blue; font-weight: bold;'>Original: He really does.</div>\n",
       "    <div style='color: green; font-weight: bold;'>Translated: Ele realmente faz.</div>\n",
       "    "
      ],
      "text/plain": [
       "<IPython.core.display.HTML object>"
      ]
     },
     "metadata": {},
     "output_type": "display_data"
    },
    {
     "data": {
      "text/html": [
       "\n",
       "    <div style='color: blue; font-weight: bold;'>Original: Let my son go!</div>\n",
       "    <div style='color: green; font-weight: bold;'>Translated: Deixe o meu filho ir!</div>\n",
       "    "
      ],
      "text/plain": [
       "<IPython.core.display.HTML object>"
      ]
     },
     "metadata": {},
     "output_type": "display_data"
    },
    {
     "data": {
      "text/html": [
       "\n",
       "    <div style='color: blue; font-weight: bold;'>Original: No, I don't think so.</div>\n",
       "    <div style='color: green; font-weight: bold;'>Translated: Não, não me parece.</div>\n",
       "    "
      ],
      "text/plain": [
       "<IPython.core.display.HTML object>"
      ]
     },
     "metadata": {},
     "output_type": "display_data"
    },
    {
     "data": {
      "text/html": [
       "\n",
       "    <div style='color: blue; font-weight: bold;'>Original: The fun is just about\n",
       "to start, huh?</div>\n",
       "    <div style='color: green; font-weight: bold;'>Translated: A diversão está prestes a começar, não é?</div>\n",
       "    "
      ],
      "text/plain": [
       "<IPython.core.display.HTML object>"
      ]
     },
     "metadata": {},
     "output_type": "display_data"
    },
    {
     "data": {
      "text/html": [
       "\n",
       "    <div style='color: blue; font-weight: bold;'>Original: Oh! Look at what a coward\n",
       "your old daddy is, huh?</div>\n",
       "    <div style='color: green; font-weight: bold;'>Translated: Ah! Vê só que cobarde\n",
       "é o teu velho pai, hein?</div>\n",
       "    "
      ],
      "text/plain": [
       "<IPython.core.display.HTML object>"
      ]
     },
     "metadata": {},
     "output_type": "display_data"
    },
    {
     "data": {
      "text/html": [
       "\n",
       "    <div style='color: blue; font-weight: bold;'>Original: You crossed the line, Maxime.</div>\n",
       "    <div style='color: green; font-weight: bold;'>Translated: Ultrapassaste o limite, Maxime.</div>\n",
       "    "
      ],
      "text/plain": [
       "<IPython.core.display.HTML object>"
      ]
     },
     "metadata": {},
     "output_type": "display_data"
    },
    {
     "data": {
      "text/html": [
       "\n",
       "    <div style='color: blue; font-weight: bold;'>Original: Now, give me my son.</div>\n",
       "    <div style='color: green; font-weight: bold;'>Translated: Agora, dá-me o meu filho.</div>\n",
       "    "
      ],
      "text/plain": [
       "<IPython.core.display.HTML object>"
      ]
     },
     "metadata": {},
     "output_type": "display_data"
    },
    {
     "data": {
      "text/html": [
       "\n",
       "    <div style='color: blue; font-weight: bold;'>Original: I told you.</div>\n",
       "    <div style='color: green; font-weight: bold;'>Translated: Eu disse-te.</div>\n",
       "    "
      ],
      "text/plain": [
       "<IPython.core.display.HTML object>"
      ]
     },
     "metadata": {},
     "output_type": "display_data"
    },
    {
     "data": {
      "text/html": [
       "\n",
       "    <div style='color: blue; font-weight: bold;'>Original: He is my son now.</div>\n",
       "    <div style='color: green; font-weight: bold;'>Translated: Ele é o meu filho agora.</div>\n",
       "    "
      ],
      "text/plain": [
       "<IPython.core.display.HTML object>"
      ]
     },
     "metadata": {},
     "output_type": "display_data"
    },
    {
     "data": {
      "text/html": [
       "\n",
       "    <div style='color: blue; font-weight: bold;'>Original: Watch your step, Gru.</div>\n",
       "    <div style='color: green; font-weight: bold;'>Translated: Cuidado com o passo, Gru.</div>\n",
       "    "
      ],
      "text/plain": [
       "<IPython.core.display.HTML object>"
      ]
     },
     "metadata": {},
     "output_type": "display_data"
    },
    {
     "data": {
      "text/html": [
       "\n",
       "    <div style='color: blue; font-weight: bold;'>Original: It's a doozy!</div>\n",
       "    <div style='color: green; font-weight: bold;'>Translated: É complicado!</div>\n",
       "    "
      ],
      "text/plain": [
       "<IPython.core.display.HTML object>"
      ]
     },
     "metadata": {},
     "output_type": "display_data"
    },
    {
     "data": {
      "text/html": [
       "\n",
       "    <div style='color: blue; font-weight: bold;'>Original: Too bad\n",
       "you can't fly, huh?</div>\n",
       "    <div style='color: green; font-weight: bold;'>Translated: É uma pena\n",
       "não poderes voar, não é?</div>\n",
       "    "
      ],
      "text/plain": [
       "<IPython.core.display.HTML object>"
      ]
     },
     "metadata": {},
     "output_type": "display_data"
    },
    {
     "data": {
      "text/html": [
       "\n",
       "    <div style='color: blue; font-weight: bold;'>Original: Let go!\n",
       "Ow! Ugh!</div>\n",
       "    <div style='color: green; font-weight: bold;'>Translated: Larga!\n",
       "Ai! Uh!</div>\n",
       "    "
      ],
      "text/plain": [
       "<IPython.core.display.HTML object>"
      ]
     },
     "metadata": {},
     "output_type": "display_data"
    },
    {
     "data": {
      "text/html": [
       "\n",
       "    <div style='color: blue; font-weight: bold;'>Original: Oh!</div>\n",
       "    <div style='color: green; font-weight: bold;'>Translated: Ah!</div>\n",
       "    "
      ],
      "text/plain": [
       "<IPython.core.display.HTML object>"
      ]
     },
     "metadata": {},
     "output_type": "display_data"
    },
    {
     "data": {
      "text/html": [
       "\n",
       "    <div style='color: blue; font-weight: bold;'>Original: This ends now!</div>\n",
       "    <div style='color: green; font-weight: bold;'>Translated: Isto acaba agora!</div>\n",
       "    "
      ],
      "text/plain": [
       "<IPython.core.display.HTML object>"
      ]
     },
     "metadata": {},
     "output_type": "display_data"
    },
    {
     "data": {
      "text/html": [
       "\n",
       "    <div style='color: blue; font-weight: bold;'>Original: Say goodbye to Daddy.</div>\n",
       "    <div style='color: green; font-weight: bold;'>Translated: Diz adeus ao papá.</div>\n",
       "    "
      ],
      "text/plain": [
       "<IPython.core.display.HTML object>"
      ]
     },
     "metadata": {},
     "output_type": "display_data"
    },
    {
     "data": {
      "text/html": [
       "\n",
       "    <div style='color: blue; font-weight: bold;'>Original: It's okay, Junior.</div>\n",
       "    <div style='color: green; font-weight: bold;'>Translated: Está tudo bem, Júnior.</div>\n",
       "    "
      ],
      "text/plain": [
       "<IPython.core.display.HTML object>"
      ]
     },
     "metadata": {},
     "output_type": "display_data"
    },
    {
     "data": {
      "text/html": [
       "\n",
       "    <div style='color: blue; font-weight: bold;'>Original: Dada loves you.</div>\n",
       "    <div style='color: green; font-weight: bold;'>Translated: O Dada ama-te.</div>\n",
       "    "
      ],
      "text/plain": [
       "<IPython.core.display.HTML object>"
      ]
     },
     "metadata": {},
     "output_type": "display_data"
    },
    {
     "data": {
      "text/html": [
       "\n",
       "    <div style='color: blue; font-weight: bold;'>Original: Oh!</div>\n",
       "    <div style='color: green; font-weight: bold;'>Translated: Ah!</div>\n",
       "    "
      ],
      "text/plain": [
       "<IPython.core.display.HTML object>"
      ]
     },
     "metadata": {},
     "output_type": "display_data"
    },
    {
     "data": {
      "text/html": [
       "\n",
       "    <div style='color: blue; font-weight: bold;'>Original: Get back here.</div>\n",
       "    <div style='color: green; font-weight: bold;'>Translated: Volta para cá.</div>\n",
       "    "
      ],
      "text/plain": [
       "<IPython.core.display.HTML object>"
      ]
     },
     "metadata": {},
     "output_type": "display_data"
    },
    {
     "data": {
      "text/html": [
       "\n",
       "    <div style='color: blue; font-weight: bold;'>Original: Bad baby.</div>\n",
       "    <div style='color: green; font-weight: bold;'>Translated: Bebé mau.</div>\n",
       "    "
      ],
      "text/plain": [
       "<IPython.core.display.HTML object>"
      ]
     },
     "metadata": {},
     "output_type": "display_data"
    },
    {
     "data": {
      "text/html": [
       "\n",
       "    <div style='color: blue; font-weight: bold;'>Original: Ow, ow, ow! Ow!</div>\n",
       "    <div style='color: green; font-weight: bold;'>Translated: Ai, ai, ai! Ai!</div>\n",
       "    "
      ],
      "text/plain": [
       "<IPython.core.display.HTML object>"
      ]
     },
     "metadata": {},
     "output_type": "display_data"
    },
    {
     "data": {
      "text/html": [
       "\n",
       "    <div style='color: blue; font-weight: bold;'>Original: Get off me, you demon.</div>\n",
       "    <div style='color: green; font-weight: bold;'>Translated: Larga-me, seu demónio.</div>\n",
       "    "
      ],
      "text/plain": [
       "<IPython.core.display.HTML object>"
      ]
     },
     "metadata": {},
     "output_type": "display_data"
    },
    {
     "data": {
      "text/html": [
       "\n",
       "    <div style='color: blue; font-weight: bold;'>Original: - You're going to\n",
       "feel the wrath of--</div>\n",
       "    <div style='color: green; font-weight: bold;'>Translated: - Vais sentir a ira de--</div>\n",
       "    "
      ],
      "text/plain": [
       "<IPython.core.display.HTML object>"
      ]
     },
     "metadata": {},
     "output_type": "display_data"
    },
    {
     "data": {
      "text/html": [
       "\n",
       "    <div style='color: blue; font-weight: bold;'>Original: Whoa.</div>\n",
       "    <div style='color: green; font-weight: bold;'>Translated: Uau.</div>\n",
       "    "
      ],
      "text/plain": [
       "<IPython.core.display.HTML object>"
      ]
     },
     "metadata": {},
     "output_type": "display_data"
    },
    {
     "data": {
      "text/html": [
       "\n",
       "    <div style='color: blue; font-weight: bold;'>Original: Ow! Oh.</div>\n",
       "    <div style='color: green; font-weight: bold;'>Translated: Ai! Oh.</div>\n",
       "    "
      ],
      "text/plain": [
       "<IPython.core.display.HTML object>"
      ]
     },
     "metadata": {},
     "output_type": "display_data"
    },
    {
     "data": {
      "text/html": [
       "\n",
       "    <div style='color: blue; font-weight: bold;'>Original: See? Not a scratch.</div>\n",
       "    <div style='color: green; font-weight: bold;'>Translated: Vês? Nem um arranhão.</div>\n",
       "    "
      ],
      "text/plain": [
       "<IPython.core.display.HTML object>"
      ]
     },
     "metadata": {},
     "output_type": "display_data"
    },
    {
     "data": {
      "text/html": [
       "\n",
       "    <div style='color: blue; font-weight: bold;'>Original: Huh? What?</div>\n",
       "    <div style='color: green; font-weight: bold;'>Translated: Hã? Como?</div>\n",
       "    "
      ],
      "text/plain": [
       "<IPython.core.display.HTML object>"
      ]
     },
     "metadata": {},
     "output_type": "display_data"
    },
    {
     "data": {
      "text/html": [
       "\n",
       "    <div style='color: blue; font-weight: bold;'>Original: Salami!</div>\n",
       "    <div style='color: green; font-weight: bold;'>Translated: Salame!</div>\n",
       "    "
      ],
      "text/plain": [
       "<IPython.core.display.HTML object>"
      ]
     },
     "metadata": {},
     "output_type": "display_data"
    },
    {
     "data": {
      "text/html": [
       "\n",
       "    <div style='color: blue; font-weight: bold;'>Original: Pastrami!</div>\n",
       "    <div style='color: green; font-weight: bold;'>Translated: Pastrami!</div>\n",
       "    "
      ],
      "text/plain": [
       "<IPython.core.display.HTML object>"
      ]
     },
     "metadata": {},
     "output_type": "display_data"
    },
    {
     "data": {
      "text/html": [
       "\n",
       "    <div style='color: blue; font-weight: bold;'>Original: No, no, no, no, no.</div>\n",
       "    <div style='color: green; font-weight: bold;'>Translated: Não, não, não, não, não.</div>\n",
       "    "
      ],
      "text/plain": [
       "<IPython.core.display.HTML object>"
      ]
     },
     "metadata": {},
     "output_type": "display_data"
    },
    {
     "data": {
      "text/html": [
       "\n",
       "    <div style='color: blue; font-weight: bold;'>Original: What?\n",
       "Prosciutto!</div>\n",
       "    <div style='color: green; font-weight: bold;'>Translated: O quê?\n",
       "Presunto!</div>\n",
       "    "
      ],
      "text/plain": [
       "<IPython.core.display.HTML object>"
      ]
     },
     "metadata": {},
     "output_type": "display_data"
    },
    {
     "data": {
      "text/html": [
       "\n",
       "    <div style='color: blue; font-weight: bold;'>Original: Ew! Ew! Ew! Gross!</div>\n",
       "    <div style='color: green; font-weight: bold;'>Translated: Que nojo! Que nojo! Que nojo! Que asco!</div>\n",
       "    "
      ],
      "text/plain": [
       "<IPython.core.display.HTML object>"
      ]
     },
     "metadata": {},
     "output_type": "display_data"
    },
    {
     "data": {
      "text/html": [
       "\n",
       "    <div style='color: blue; font-weight: bold;'>Original: Ha! Nice try. When I--</div>\n",
       "    <div style='color: green; font-weight: bold;'>Translated: Ha! Boa tentativa. Quando eu--</div>\n",
       "    "
      ],
      "text/plain": [
       "<IPython.core.display.HTML object>"
      ]
     },
     "metadata": {},
     "output_type": "display_data"
    },
    {
     "data": {
      "text/html": [
       "\n",
       "    <div style='color: blue; font-weight: bold;'>Original: Antipasti.</div>\n",
       "    <div style='color: green; font-weight: bold;'>Translated: Antipastos.</div>\n",
       "    "
      ],
      "text/plain": [
       "<IPython.core.display.HTML object>"
      ]
     },
     "metadata": {},
     "output_type": "display_data"
    },
    {
     "data": {
      "text/html": [
       "\n",
       "    <div style='color: blue; font-weight: bold;'>Original: Ho, ho!</div>\n",
       "    <div style='color: green; font-weight: bold;'>Translated: Olá, olá!</div>\n",
       "    "
      ],
      "text/plain": [
       "<IPython.core.display.HTML object>"
      ]
     },
     "metadata": {},
     "output_type": "display_data"
    },
    {
     "data": {
      "text/html": [
       "\n",
       "    <div style='color: blue; font-weight: bold;'>Original: Gru.\n",
       "Gru!</div>\n",
       "    <div style='color: green; font-weight: bold;'>Translated: Gru.\n",
       "Gru!</div>\n",
       "    "
      ],
      "text/plain": [
       "<IPython.core.display.HTML object>"
      ]
     },
     "metadata": {},
     "output_type": "display_data"
    },
    {
     "data": {
      "text/html": [
       "\n",
       "    <div style='color: blue; font-weight: bold;'>Original: - Yeah, yeah!\n",
       "- Junior!</div>\n",
       "    <div style='color: green; font-weight: bold;'>Translated: - Sim, sim!\n",
       "- Júnior!</div>\n",
       "    "
      ],
      "text/plain": [
       "<IPython.core.display.HTML object>"
      ]
     },
     "metadata": {},
     "output_type": "display_data"
    },
    {
     "data": {
      "text/html": [
       "\n",
       "    <div style='color: blue; font-weight: bold;'>Original: Woo!</div>\n",
       "    <div style='color: green; font-weight: bold;'>Translated: Uau!</div>\n",
       "    "
      ],
      "text/plain": [
       "<IPython.core.display.HTML object>"
      ]
     },
     "metadata": {},
     "output_type": "display_data"
    },
    {
     "data": {
      "text/html": [
       "\n",
       "    <div style='color: blue; font-weight: bold;'>Original: Yes!</div>\n",
       "    <div style='color: green; font-weight: bold;'>Translated: Sim!</div>\n",
       "    "
      ],
      "text/plain": [
       "<IPython.core.display.HTML object>"
      ]
     },
     "metadata": {},
     "output_type": "display_data"
    },
    {
     "data": {
      "text/html": [
       "\n",
       "    <div style='color: blue; font-weight: bold;'>Original: Yippee!\n",
       "Holy cow!</div>\n",
       "    <div style='color: green; font-weight: bold;'>Translated: Viva!\n",
       "Caramba!</div>\n",
       "    "
      ],
      "text/plain": [
       "<IPython.core.display.HTML object>"
      ]
     },
     "metadata": {},
     "output_type": "display_data"
    },
    {
     "data": {
      "text/html": [
       "\n",
       "    <div style='color: blue; font-weight: bold;'>Original: You guys okay?\n",
       "That was insane!</div>\n",
       "    <div style='color: green; font-weight: bold;'>Translated: Vocês estão bem?\n",
       "Isso foi uma loucura!</div>\n",
       "    "
      ],
      "text/plain": [
       "<IPython.core.display.HTML object>"
      ]
     },
     "metadata": {},
     "output_type": "display_data"
    },
    {
     "data": {
      "text/html": [
       "\n",
       "    <div style='color: blue; font-weight: bold;'>Original: Dada.</div>\n",
       "    <div style='color: green; font-weight: bold;'>Translated: Dada.</div>\n",
       "    "
      ],
      "text/plain": [
       "<IPython.core.display.HTML object>"
      ]
     },
     "metadata": {},
     "output_type": "display_data"
    },
    {
     "data": {
      "text/html": [
       "\n",
       "    <div style='color: blue; font-weight: bold;'>Original: Mmm.</div>\n",
       "    <div style='color: green; font-weight: bold;'>Translated: Mmm.</div>\n",
       "    "
      ],
      "text/plain": [
       "<IPython.core.display.HTML object>"
      ]
     },
     "metadata": {},
     "output_type": "display_data"
    },
    {
     "data": {
      "text/html": [
       "\n",
       "    <div style='color: blue; font-weight: bold;'>Original: Aw!</div>\n",
       "    <div style='color: green; font-weight: bold;'>Translated: Ai!</div>\n",
       "    "
      ],
      "text/plain": [
       "<IPython.core.display.HTML object>"
      ]
     },
     "metadata": {},
     "output_type": "display_data"
    },
    {
     "data": {
      "text/html": [
       "\n",
       "    <div style='color: blue; font-weight: bold;'>Original: - Oh, my boys.\n",
       "- Dada.</div>\n",
       "    <div style='color: green; font-weight: bold;'>Translated: - Oh, os meus rapazes.\n",
       "- Papá.</div>\n",
       "    "
      ],
      "text/plain": [
       "<IPython.core.display.HTML object>"
      ]
     },
     "metadata": {},
     "output_type": "display_data"
    },
    {
     "data": {
      "text/html": [
       "\n",
       "    <div style='color: blue; font-weight: bold;'>Original: You know something?</div>\n",
       "    <div style='color: green; font-weight: bold;'>Translated: Sabes uma coisa?</div>\n",
       "    "
      ],
      "text/plain": [
       "<IPython.core.display.HTML object>"
      ]
     },
     "metadata": {},
     "output_type": "display_data"
    },
    {
     "data": {
      "text/html": [
       "\n",
       "    <div style='color: blue; font-weight: bold;'>Original: Today has been a real\n",
       "roller coaster of emotion.</div>\n",
       "    <div style='color: green; font-weight: bold;'>Translated: Hoje foi uma verdadeira montanha-russa de emoções.</div>\n",
       "    "
      ],
      "text/plain": [
       "<IPython.core.display.HTML object>"
      ]
     },
     "metadata": {},
     "output_type": "display_data"
    },
    {
     "data": {
      "text/html": [
       "\n",
       "    <div style='color: blue; font-weight: bold;'>Original: Uh, Gru?</div>\n",
       "    <div style='color: green; font-weight: bold;'>Translated: Uh, Gru?</div>\n",
       "    "
      ],
      "text/plain": [
       "<IPython.core.display.HTML object>"
      ]
     },
     "metadata": {},
     "output_type": "display_data"
    },
    {
     "data": {
      "text/html": [
       "\n",
       "    <div style='color: blue; font-weight: bold;'>Original: Can we go back home now?</div>\n",
       "    <div style='color: green; font-weight: bold;'>Translated: Podemos voltar para casa agora?</div>\n",
       "    "
      ],
      "text/plain": [
       "<IPython.core.display.HTML object>"
      ]
     },
     "metadata": {},
     "output_type": "display_data"
    },
    {
     "data": {
      "text/html": [
       "\n",
       "    <div style='color: blue; font-weight: bold;'>Original: All right. There you go.</div>\n",
       "    <div style='color: green; font-weight: bold;'>Translated: Está bem. Aqui tens.</div>\n",
       "    "
      ],
      "text/plain": [
       "<IPython.core.display.HTML object>"
      ]
     },
     "metadata": {},
     "output_type": "display_data"
    },
    {
     "data": {
      "text/html": [
       "\n",
       "    <div style='color: blue; font-weight: bold;'>Original: Yay.</div>\n",
       "    <div style='color: green; font-weight: bold;'>Translated: Viva.</div>\n",
       "    "
      ],
      "text/plain": [
       "<IPython.core.display.HTML object>"
      ]
     },
     "metadata": {},
     "output_type": "display_data"
    },
    {
     "data": {
      "text/html": [
       "\n",
       "    <div style='color: blue; font-weight: bold;'>Original: Thanks, Dr. Nefario.</div>\n",
       "    <div style='color: green; font-weight: bold;'>Translated: Obrigado, Dr. Nefario.</div>\n",
       "    "
      ],
      "text/plain": [
       "<IPython.core.display.HTML object>"
      ]
     },
     "metadata": {},
     "output_type": "display_data"
    },
    {
     "data": {
      "text/html": [
       "\n",
       "    <div style='color: blue; font-weight: bold;'>Original: Good as new.</div>\n",
       "    <div style='color: green; font-weight: bold;'>Translated: Como novo.</div>\n",
       "    "
      ],
      "text/plain": [
       "<IPython.core.display.HTML object>"
      ]
     },
     "metadata": {},
     "output_type": "display_data"
    },
    {
     "data": {
      "text/html": [
       "\n",
       "    <div style='color: blue; font-weight: bold;'>Original: No job too small,</div>\n",
       "    <div style='color: green; font-weight: bold;'>Translated: Nenhum trabalho é demasiado pequeno.</div>\n",
       "    "
      ],
      "text/plain": [
       "<IPython.core.display.HTML object>"
      ]
     },
     "metadata": {},
     "output_type": "display_data"
    },
    {
     "data": {
      "text/html": [
       "\n",
       "    <div style='color: blue; font-weight: bold;'>Original: or too mad.</div>\n",
       "    <div style='color: green; font-weight: bold;'>Translated: ou demasiado louco.</div>\n",
       "    "
      ],
      "text/plain": [
       "<IPython.core.display.HTML object>"
      ]
     },
     "metadata": {},
     "output_type": "display_data"
    },
    {
     "data": {
      "text/html": [
       "\n",
       "    <div style='color: blue; font-weight: bold;'>Original: Bye, then.</div>\n",
       "    <div style='color: green; font-weight: bold;'>Translated: Adeus, então.</div>\n",
       "    "
      ],
      "text/plain": [
       "<IPython.core.display.HTML object>"
      ]
     },
     "metadata": {},
     "output_type": "display_data"
    },
    {
     "data": {
      "text/html": [
       "\n",
       "    <div style='color: blue; font-weight: bold;'>Original: Bye.</div>\n",
       "    <div style='color: green; font-weight: bold;'>Translated: Adeus.</div>\n",
       "    "
      ],
      "text/plain": [
       "<IPython.core.display.HTML object>"
      ]
     },
     "metadata": {},
     "output_type": "display_data"
    },
    {
     "data": {
      "text/html": [
       "\n",
       "    <div style='color: blue; font-weight: bold;'>Original: Hey. You okay, sweetie?</div>\n",
       "    <div style='color: green; font-weight: bold;'>Translated: Olá. Estás bem, querida?</div>\n",
       "    "
      ],
      "text/plain": [
       "<IPython.core.display.HTML object>"
      ]
     },
     "metadata": {},
     "output_type": "display_data"
    },
    {
     "data": {
      "text/html": [
       "\n",
       "    <div style='color: blue; font-weight: bold;'>Original: Agnes,\n",
       "someone's here to see you!</div>\n",
       "    <div style='color: green; font-weight: bold;'>Translated: Agnes,\n",
       "alguém está aqui para te ver!</div>\n",
       "    "
      ],
      "text/plain": [
       "<IPython.core.display.HTML object>"
      ]
     },
     "metadata": {},
     "output_type": "display_data"
    },
    {
     "data": {
      "text/html": [
       "\n",
       "    <div style='color: blue; font-weight: bold;'>Original: Lucky?</div>\n",
       "    <div style='color: green; font-weight: bold;'>Translated: Sortudo?</div>\n",
       "    "
      ],
      "text/plain": [
       "<IPython.core.display.HTML object>"
      ]
     },
     "metadata": {},
     "output_type": "display_data"
    },
    {
     "data": {
      "text/html": [
       "\n",
       "    <div style='color: blue; font-weight: bold;'>Original: Lucky!</div>\n",
       "    <div style='color: green; font-weight: bold;'>Translated: Sortudo!</div>\n",
       "    "
      ],
      "text/plain": [
       "<IPython.core.display.HTML object>"
      ]
     },
     "metadata": {},
     "output_type": "display_data"
    },
    {
     "data": {
      "text/html": [
       "\n",
       "    <div style='color: blue; font-weight: bold;'>Original: Did you practice your tricks?</div>\n",
       "    <div style='color: green; font-weight: bold;'>Translated: Praticaste os teus truques?</div>\n",
       "    "
      ],
      "text/plain": [
       "<IPython.core.display.HTML object>"
      ]
     },
     "metadata": {},
     "output_type": "display_data"
    },
    {
     "data": {
      "text/html": [
       "\n",
       "    <div style='color: blue; font-weight: bold;'>Original: Okay. Play dead.</div>\n",
       "    <div style='color: green; font-weight: bold;'>Translated: Está bem. Faz de morto.</div>\n",
       "    "
      ],
      "text/plain": [
       "<IPython.core.display.HTML object>"
      ]
     },
     "metadata": {},
     "output_type": "display_data"
    },
    {
     "data": {
      "text/html": [
       "\n",
       "    <div style='color: blue; font-weight: bold;'>Original: Yay!</div>\n",
       "    <div style='color: green; font-weight: bold;'>Translated: Viva!</div>\n",
       "    "
      ],
      "text/plain": [
       "<IPython.core.display.HTML object>"
      ]
     },
     "metadata": {},
     "output_type": "display_data"
    },
    {
     "data": {
      "text/html": [
       "\n",
       "    <div style='color: blue; font-weight: bold;'>Original: Ah, that was disturbing.\n",
       "Yeah, little bit.</div>\n",
       "    <div style='color: green; font-weight: bold;'>Translated: Ah, isso foi perturbador.\n",
       "Sim, um pouco.</div>\n",
       "    "
      ],
      "text/plain": [
       "<IPython.core.display.HTML object>"
      ]
     },
     "metadata": {},
     "output_type": "display_data"
    },
    {
     "data": {
      "text/html": [
       "\n",
       "    <div style='color: blue; font-weight: bold;'>Original: - Lucky.</div>\n",
       "    <div style='color: green; font-weight: bold;'>Translated: - Sortudo.</div>\n",
       "    "
      ],
      "text/plain": [
       "<IPython.core.display.HTML object>"
      ]
     },
     "metadata": {},
     "output_type": "display_data"
    },
    {
     "data": {
      "text/html": [
       "\n",
       "    <div style='color: blue; font-weight: bold;'>Original: Hey, I'll, uh...\n",
       "I'll be back soon.</div>\n",
       "    <div style='color: green; font-weight: bold;'>Translated: Olá, eu... eu vou voltar em breve.</div>\n",
       "    "
      ],
      "text/plain": [
       "<IPython.core.display.HTML object>"
      ]
     },
     "metadata": {},
     "output_type": "display_data"
    },
    {
     "data": {
      "text/html": [
       "\n",
       "    <div style='color: blue; font-weight: bold;'>Original: Oh, okay.</div>\n",
       "    <div style='color: green; font-weight: bold;'>Translated: Ah, está bem.</div>\n",
       "    "
      ],
      "text/plain": [
       "<IPython.core.display.HTML object>"
      ]
     },
     "metadata": {},
     "output_type": "display_data"
    },
    {
     "data": {
      "text/html": [
       "\n",
       "    <div style='color: blue; font-weight: bold;'>Original: There's something\n",
       "I need to take care of.\n",
       "Yeah.</div>\n",
       "    <div style='color: green; font-weight: bold;'>Translated: Há algo\n",
       "que preciso tratar.</div>\n",
       "    "
      ],
      "text/plain": [
       "<IPython.core.display.HTML object>"
      ]
     },
     "metadata": {},
     "output_type": "display_data"
    },
    {
     "data": {
      "text/html": [
       "\n",
       "    <div style='color: blue; font-weight: bold;'>Original: See you later, buddy.</div>\n",
       "    <div style='color: green; font-weight: bold;'>Translated: Até logo, amigo.</div>\n",
       "    "
      ],
      "text/plain": [
       "<IPython.core.display.HTML object>"
      ]
     },
     "metadata": {},
     "output_type": "display_data"
    },
    {
     "data": {
      "text/html": [
       "\n",
       "    <div style='color: blue; font-weight: bold;'>Original: Love you, honey.</div>\n",
       "    <div style='color: green; font-weight: bold;'>Translated: Amo-te, querida.</div>\n",
       "    "
      ],
      "text/plain": [
       "<IPython.core.display.HTML object>"
      ]
     },
     "metadata": {},
     "output_type": "display_data"
    },
    {
     "data": {
      "text/html": [
       "\n",
       "    <div style='color: blue; font-weight: bold;'>Original: Oh, how you doing, Maxime?</div>\n",
       "    <div style='color: green; font-weight: bold;'>Translated: Olá, como estás, Maxime?</div>\n",
       "    "
      ],
      "text/plain": [
       "<IPython.core.display.HTML object>"
      ]
     },
     "metadata": {},
     "output_type": "display_data"
    },
    {
     "data": {
      "text/html": [
       "\n",
       "    <div style='color: blue; font-weight: bold;'>Original: Ugh, what are\n",
       "you doing here, Gru?</div>\n",
       "    <div style='color: green; font-weight: bold;'>Translated: Ugh, o que estás a fazer aqui, Gru?</div>\n",
       "    "
      ],
      "text/plain": [
       "<IPython.core.display.HTML object>"
      ]
     },
     "metadata": {},
     "output_type": "display_data"
    },
    {
     "data": {
      "text/html": [
       "\n",
       "    <div style='color: blue; font-weight: bold;'>Original: You came to gloat? No?</div>\n",
       "    <div style='color: green; font-weight: bold;'>Translated: Vieste para te gabares? Não?</div>\n",
       "    "
      ],
      "text/plain": [
       "<IPython.core.display.HTML object>"
      ]
     },
     "metadata": {},
     "output_type": "display_data"
    },
    {
     "data": {
      "text/html": [
       "\n",
       "    <div style='color: blue; font-weight: bold;'>Original: Gloat? No, no, no, no. I just--</div>\n",
       "    <div style='color: green; font-weight: bold;'>Translated: Gabar-me? Não, não, não, não. Eu apenas--</div>\n",
       "    "
      ],
      "text/plain": [
       "<IPython.core.display.HTML object>"
      ]
     },
     "metadata": {},
     "output_type": "display_data"
    },
    {
     "data": {
      "text/html": [
       "\n",
       "    <div style='color: blue; font-weight: bold;'>Original: - I wanted to\n",
       "get something off my chest.</div>\n",
       "    <div style='color: green; font-weight: bold;'>Translated: - Queria desabafar algo.</div>\n",
       "    "
      ],
      "text/plain": [
       "<IPython.core.display.HTML object>"
      ]
     },
     "metadata": {},
     "output_type": "display_data"
    },
    {
     "data": {
      "text/html": [
       "\n",
       "    <div style='color: blue; font-weight: bold;'>Original: And it concerns\n",
       "the ninth-grade talent show.</div>\n",
       "    <div style='color: green; font-weight: bold;'>Translated: E diz respeito\n",
       "ao espetáculo de talentos do nono ano.</div>\n",
       "    "
      ],
      "text/plain": [
       "<IPython.core.display.HTML object>"
      ]
     },
     "metadata": {},
     "output_type": "display_data"
    },
    {
     "data": {
      "text/html": [
       "\n",
       "    <div style='color: blue; font-weight: bold;'>Original: Well,</div>\n",
       "    <div style='color: green; font-weight: bold;'>Translated: Bem,</div>\n",
       "    "
      ],
      "text/plain": [
       "<IPython.core.display.HTML object>"
      ]
     },
     "metadata": {},
     "output_type": "display_data"
    },
    {
     "data": {
      "text/html": [
       "\n",
       "    <div style='color: blue; font-weight: bold;'>Original: actually,</div>\n",
       "    <div style='color: green; font-weight: bold;'>Translated: na verdade,</div>\n",
       "    "
      ],
      "text/plain": [
       "<IPython.core.display.HTML object>"
      ]
     },
     "metadata": {},
     "output_type": "display_data"
    },
    {
     "data": {
      "text/html": [
       "\n",
       "    <div style='color: blue; font-weight: bold;'>Original: I did steal your song.</div>\n",
       "    <div style='color: green; font-weight: bold;'>Translated: Eu roubei a tua música.</div>\n",
       "    "
      ],
      "text/plain": [
       "<IPython.core.display.HTML object>"
      ]
     },
     "metadata": {},
     "output_type": "display_data"
    },
    {
     "data": {
      "text/html": [
       "\n",
       "    <div style='color: blue; font-weight: bold;'>Original: What? I knew it!</div>\n",
       "    <div style='color: green; font-weight: bold;'>Translated: O quê? Eu sabia!</div>\n",
       "    "
      ],
      "text/plain": [
       "<IPython.core.display.HTML object>"
      ]
     },
     "metadata": {},
     "output_type": "display_data"
    },
    {
     "data": {
      "text/html": [
       "\n",
       "    <div style='color: blue; font-weight: bold;'>Original: I knew there was no coincidence.\n",
       "You little liar!</div>\n",
       "    <div style='color: green; font-weight: bold;'>Translated: Eu sabia que não era coincidência.\n",
       "Seu pequeno mentiroso!</div>\n",
       "    "
      ],
      "text/plain": [
       "<IPython.core.display.HTML object>"
      ]
     },
     "metadata": {},
     "output_type": "display_data"
    },
    {
     "data": {
      "text/html": [
       "\n",
       "    <div style='color: blue; font-weight: bold;'>Original: Well?</div>\n",
       "    <div style='color: green; font-weight: bold;'>Translated: Então?</div>\n",
       "    "
      ],
      "text/plain": [
       "<IPython.core.display.HTML object>"
      ]
     },
     "metadata": {},
     "output_type": "display_data"
    },
    {
     "data": {
      "text/html": [
       "\n",
       "    <div style='color: blue; font-weight: bold;'>Original: Well, what?</div>\n",
       "    <div style='color: green; font-weight: bold;'>Translated: Então, o quê?</div>\n",
       "    "
      ],
      "text/plain": [
       "<IPython.core.display.HTML object>"
      ]
     },
     "metadata": {},
     "output_type": "display_data"
    },
    {
     "data": {
      "text/html": [
       "\n",
       "    <div style='color: blue; font-weight: bold;'>Original: Well, where's my apology?\n",
       "Apolo--</div>\n",
       "    <div style='color: green; font-weight: bold;'>Translated: Bem, onde está o meu pedido de desculpas?\n",
       "Pedid--</div>\n",
       "    "
      ],
      "text/plain": [
       "<IPython.core.display.HTML object>"
      ]
     },
     "metadata": {},
     "output_type": "display_data"
    },
    {
     "data": {
      "text/html": [
       "\n",
       "    <div style='color: blue; font-weight: bold;'>Original: What are you talking about?\n",
       "I just apologized.</div>\n",
       "    <div style='color: green; font-weight: bold;'>Translated: Sobre o que estás a falar?\n",
       "Acabei de pedir desculpa.</div>\n",
       "    "
      ],
      "text/plain": [
       "<IPython.core.display.HTML object>"
      ]
     },
     "metadata": {},
     "output_type": "display_data"
    },
    {
     "data": {
      "text/html": [
       "\n",
       "    <div style='color: blue; font-weight: bold;'>Original: Oh, no, no, no.</div>\n",
       "    <div style='color: green; font-weight: bold;'>Translated: Oh, não, não, não.</div>\n",
       "    "
      ],
      "text/plain": [
       "<IPython.core.display.HTML object>"
      ]
     },
     "metadata": {},
     "output_type": "display_data"
    },
    {
     "data": {
      "text/html": [
       "\n",
       "    <div style='color: blue; font-weight: bold;'>Original: No, that was no apology.</div>\n",
       "    <div style='color: green; font-weight: bold;'>Translated: Não, isso não foi um pedido de desculpas.</div>\n",
       "    "
      ],
      "text/plain": [
       "<IPython.core.display.HTML object>"
      ]
     },
     "metadata": {},
     "output_type": "display_data"
    },
    {
     "data": {
      "text/html": [
       "\n",
       "    <div style='color: blue; font-weight: bold;'>Original: You just wanted to rub it in.</div>\n",
       "    <div style='color: green; font-weight: bold;'>Translated: Só querias esfregar na cara.</div>\n",
       "    "
      ],
      "text/plain": [
       "<IPython.core.display.HTML object>"
      ]
     },
     "metadata": {},
     "output_type": "display_data"
    },
    {
     "data": {
      "text/html": [
       "\n",
       "    <div style='color: blue; font-weight: bold;'>Original: I can't believe\n",
       "you stole my song!\n",
       "Hey!</div>\n",
       "    <div style='color: green; font-weight: bold;'>Translated: Não consigo acreditar\n",
       "que roubaste a minha música!</div>\n",
       "    "
      ],
      "text/plain": [
       "<IPython.core.display.HTML object>"
      ]
     },
     "metadata": {},
     "output_type": "display_data"
    },
    {
     "data": {
      "text/html": [
       "\n",
       "    <div style='color: blue; font-weight: bold;'>Original: I only did that to get back\n",
       "at you for pantsing me\n",
       "at the homecoming dance.</div>\n",
       "    <div style='color: green; font-weight: bold;'>Translated: Eu só fiz isso para me vingar\n",
       "por me teres baixado as calças</div>\n",
       "    "
      ],
      "text/plain": [
       "<IPython.core.display.HTML object>"
      ]
     },
     "metadata": {},
     "output_type": "display_data"
    },
    {
     "data": {
      "text/html": [
       "\n",
       "    <div style='color: blue; font-weight: bold;'>Original: - Besides, you could've\n",
       "gone on after me.</div>\n",
       "    <div style='color: green; font-weight: bold;'>Translated: - Além disso, podias ter continuado depois de mim.</div>\n",
       "    "
      ],
      "text/plain": [
       "<IPython.core.display.HTML object>"
      ]
     },
     "metadata": {},
     "output_type": "display_data"
    },
    {
     "data": {
      "text/html": [
       "\n",
       "    <div style='color: blue; font-weight: bold;'>Original: It is not my fault\n",
       "that you were afraid.</div>\n",
       "    <div style='color: green; font-weight: bold;'>Translated: Não é culpa minha\n",
       "que tivesses medo.</div>\n",
       "    "
      ],
      "text/plain": [
       "<IPython.core.display.HTML object>"
      ]
     },
     "metadata": {},
     "output_type": "display_data"
    },
    {
     "data": {
      "text/html": [
       "\n",
       "    <div style='color: blue; font-weight: bold;'>Original: Afraid because I killed it!</div>\n",
       "    <div style='color: green; font-weight: bold;'>Translated: Com medo porque o matei!</div>\n",
       "    "
      ],
      "text/plain": [
       "<IPython.core.display.HTML object>"
      ]
     },
     "metadata": {},
     "output_type": "display_data"
    },
    {
     "data": {
      "text/html": [
       "\n",
       "    <div style='color: blue; font-weight: bold;'>Original: Afraid? Ha!</div>\n",
       "    <div style='color: green; font-weight: bold;'>Translated: Com medo? Ha!</div>\n",
       "    "
      ],
      "text/plain": [
       "<IPython.core.display.HTML object>"
      ]
     },
     "metadata": {},
     "output_type": "display_data"
    },
    {
     "data": {
      "text/html": [
       "\n",
       "    <div style='color: blue; font-weight: bold;'>Original: I could outsing you\n",
       "any day of the week\n",
       "and all day Sunday.</div>\n",
       "    <div style='color: green; font-weight: bold;'>Translated: Eu conseguia cantar melhor do que tu\n",
       "em qualquer dia da semana</div>\n",
       "    "
      ],
      "text/plain": [
       "<IPython.core.display.HTML object>"
      ]
     },
     "metadata": {},
     "output_type": "display_data"
    },
    {
     "data": {
      "text/html": [
       "\n",
       "    <div style='color: blue; font-weight: bold;'>Original: I'd like to see that.</div>\n",
       "    <div style='color: green; font-weight: bold;'>Translated: Gostaria de ver isso.</div>\n",
       "    "
      ],
      "text/plain": [
       "<IPython.core.display.HTML object>"
      ]
     },
     "metadata": {},
     "output_type": "display_data"
    },
    {
     "data": {
      "text/html": [
       "\n",
       "    <div style='color: blue; font-weight: bold;'>Original: Anytime, anyplace.</div>\n",
       "    <div style='color: green; font-weight: bold;'>Translated: A qualquer hora, em qualquer lugar.</div>\n",
       "    "
      ],
      "text/plain": [
       "<IPython.core.display.HTML object>"
      ]
     },
     "metadata": {},
     "output_type": "display_data"
    },
    {
     "data": {
      "text/html": [
       "\n",
       "    <div style='color: blue; font-weight: bold;'>Original: You name it, <i>mon ami.</i></div>\n",
       "    <div style='color: green; font-weight: bold;'>Translated: Diz lá, <i>mon ami.</i></div>\n",
       "    "
      ],
      "text/plain": [
       "<IPython.core.display.HTML object>"
      ]
     },
     "metadata": {},
     "output_type": "display_data"
    },
    {
     "data": {
      "text/html": [
       "\n",
       "    <div style='color: blue; font-weight: bold;'>Original: Oh, yeah.</div>\n",
       "    <div style='color: green; font-weight: bold;'>Translated: Ah, sim.</div>\n",
       "    "
      ],
      "text/plain": [
       "<IPython.core.display.HTML object>"
      ]
     },
     "metadata": {},
     "output_type": "display_data"
    },
    {
     "data": {
      "text/html": [
       "\n",
       "    <div style='color: blue; font-weight: bold;'>Original: <i>♪ Welcome to your life... ♪</i></div>\n",
       "    <div style='color: green; font-weight: bold;'>Translated: <i>♪ Bem-vindo à tua vida... ♪</i></div>\n",
       "    "
      ],
      "text/plain": [
       "<IPython.core.display.HTML object>"
      ]
     },
     "metadata": {},
     "output_type": "display_data"
    },
    {
     "data": {
      "text/html": [
       "\n",
       "    <div style='color: blue; font-weight: bold;'>Original: <i>♪ There's\n",
       "no turning back... ♪</i></div>\n",
       "    <div style='color: green; font-weight: bold;'>Translated: <i>♪ Não há volta a dar... ♪</i></div>\n",
       "    "
      ],
      "text/plain": [
       "<IPython.core.display.HTML object>"
      ]
     },
     "metadata": {},
     "output_type": "display_data"
    },
    {
     "data": {
      "text/html": [
       "\n",
       "    <div style='color: blue; font-weight: bold;'>Original: <i>♪ ...Even while we sleep... ♪</i></div>\n",
       "    <div style='color: green; font-weight: bold;'>Translated: <i>♪ ...Mesmo enquanto dormimos... ♪</i></div>\n",
       "    "
      ],
      "text/plain": [
       "<IPython.core.display.HTML object>"
      ]
     },
     "metadata": {},
     "output_type": "display_data"
    },
    {
     "data": {
      "text/html": [
       "\n",
       "    <div style='color: blue; font-weight: bold;'>Original: Oh, come on.</div>\n",
       "    <div style='color: green; font-weight: bold;'>Translated: Oh, vá lá.</div>\n",
       "    "
      ],
      "text/plain": [
       "<IPython.core.display.HTML object>"
      ]
     },
     "metadata": {},
     "output_type": "display_data"
    },
    {
     "data": {
      "text/html": [
       "\n",
       "    <div style='color: blue; font-weight: bold;'>Original: <i>♪ ...We will find you ♪</i></div>\n",
       "    <div style='color: green; font-weight: bold;'>Translated: <i>♪ ...Nós vamos encontrar-te ♪</i></div>\n",
       "    "
      ],
      "text/plain": [
       "<IPython.core.display.HTML object>"
      ]
     },
     "metadata": {},
     "output_type": "display_data"
    },
    {
     "data": {
      "text/html": [
       "\n",
       "    <div style='color: blue; font-weight: bold;'>Original: <i>♪ Act-- ♪\n",
       "♪ ...ing on\n",
       "your best behavior ♪</i></div>\n",
       "    <div style='color: green; font-weight: bold;'>Translated: <i>♪ Age-- ♪\n",
       "♪ ...indo com</div>\n",
       "    "
      ],
      "text/plain": [
       "<IPython.core.display.HTML object>"
      ]
     },
     "metadata": {},
     "output_type": "display_data"
    },
    {
     "data": {
      "text/html": [
       "\n",
       "    <div style='color: blue; font-weight: bold;'>Original: <i>♪ Turn your back\n",
       "On Mother Nature ♪</i></div>\n",
       "    <div style='color: green; font-weight: bold;'>Translated: <i>♪ Vira as costas\n",
       "À Mãe Natureza ♪</i></div>\n",
       "    "
      ],
      "text/plain": [
       "<IPython.core.display.HTML object>"
      ]
     },
     "metadata": {},
     "output_type": "display_data"
    },
    {
     "data": {
      "text/html": [
       "\n",
       "    <div style='color: blue; font-weight: bold;'>Original: <i>♪ Everybody wants to\n",
       "Rule the world... ♪</i></div>\n",
       "    <div style='color: green; font-weight: bold;'>Translated: <i>♪ Todos querem\n",
       "Dominar o mundo... ♪</i></div>\n",
       "    "
      ],
      "text/plain": [
       "<IPython.core.display.HTML object>"
      ]
     },
     "metadata": {},
     "output_type": "display_data"
    },
    {
     "data": {
      "text/html": [
       "\n",
       "    <div style='color: blue; font-weight: bold;'>Original: Yes!\n",
       "Whoo! Yeah!</div>\n",
       "    <div style='color: green; font-weight: bold;'>Translated: Sim!\n",
       "Whoo! Sim!</div>\n",
       "    "
      ],
      "text/plain": [
       "<IPython.core.display.HTML object>"
      ]
     },
     "metadata": {},
     "output_type": "display_data"
    },
    {
     "data": {
      "text/html": [
       "\n",
       "    <div style='color: blue; font-weight: bold;'>Original: <i>♪ It's my own design... ♪</i></div>\n",
       "    <div style='color: green; font-weight: bold;'>Translated: <i>♪ É o meu próprio design... ♪</i></div>\n",
       "    "
      ],
      "text/plain": [
       "<IPython.core.display.HTML object>"
      ]
     },
     "metadata": {},
     "output_type": "display_data"
    },
    {
     "data": {
      "text/html": [
       "\n",
       "    <div style='color: blue; font-weight: bold;'>Original: Uh-huh. Oh, yeah.</div>\n",
       "    <div style='color: green; font-weight: bold;'>Translated: Uh-huh. Oh, sim.</div>\n",
       "    "
      ],
      "text/plain": [
       "<IPython.core.display.HTML object>"
      ]
     },
     "metadata": {},
     "output_type": "display_data"
    },
    {
     "data": {
      "text/html": [
       "\n",
       "    <div style='color: blue; font-weight: bold;'>Original: <i>♪ ...It's my own remorse... ♪</i></div>\n",
       "    <div style='color: green; font-weight: bold;'>Translated: <i>♪ ...É o meu próprio remorso... ♪</i></div>\n",
       "    "
      ],
      "text/plain": [
       "<IPython.core.display.HTML object>"
      ]
     },
     "metadata": {},
     "output_type": "display_data"
    },
    {
     "data": {
      "text/html": [
       "\n",
       "    <div style='color: blue; font-weight: bold;'>Original: Let's boogie!</div>\n",
       "    <div style='color: green; font-weight: bold;'>Translated: Vamos dançar!</div>\n",
       "    "
      ],
      "text/plain": [
       "<IPython.core.display.HTML object>"
      ]
     },
     "metadata": {},
     "output_type": "display_data"
    },
    {
     "data": {
      "text/html": [
       "\n",
       "    <div style='color: blue; font-weight: bold;'>Original: <i>♪ ...Help me to decide... ♪</i></div>\n",
       "    <div style='color: green; font-weight: bold;'>Translated: <i>♪ ...Ajuda-me a decidir... ♪</i></div>\n",
       "    "
      ],
      "text/plain": [
       "<IPython.core.display.HTML object>"
      ]
     },
     "metadata": {},
     "output_type": "display_data"
    },
    {
     "data": {
      "text/html": [
       "\n",
       "    <div style='color: blue; font-weight: bold;'>Original: Whoo-hoo!</div>\n",
       "    <div style='color: green; font-weight: bold;'>Translated: Uhu!</div>\n",
       "    "
      ],
      "text/plain": [
       "<IPython.core.display.HTML object>"
      ]
     },
     "metadata": {},
     "output_type": "display_data"
    },
    {
     "data": {
      "text/html": [
       "\n",
       "    <div style='color: blue; font-weight: bold;'>Original: <i>♪ ...Help me make the ♪</i></div>\n",
       "    <div style='color: green; font-weight: bold;'>Translated: <i>♪ ...Ajuda-me a fazer o ♪</i></div>\n",
       "    "
      ],
      "text/plain": [
       "<IPython.core.display.HTML object>"
      ]
     },
     "metadata": {},
     "output_type": "display_data"
    },
    {
     "data": {
      "text/html": [
       "\n",
       "    <div style='color: blue; font-weight: bold;'>Original: <i>♪ Most of freedom\n",
       "And of pleasure ♪</i></div>\n",
       "    <div style='color: green; font-weight: bold;'>Translated: <i>♪ Maior parte de liberdade\n",
       "E de prazer ♪</i></div>\n",
       "    "
      ],
      "text/plain": [
       "<IPython.core.display.HTML object>"
      ]
     },
     "metadata": {},
     "output_type": "display_data"
    },
    {
     "data": {
      "text/html": [
       "\n",
       "    <div style='color: blue; font-weight: bold;'>Original: <i>♪ Nothing ever lasts forever ♪</i></div>\n",
       "    <div style='color: green; font-weight: bold;'>Translated: <i>♪ Nada dura para sempre ♪</i></div>\n",
       "    "
      ],
      "text/plain": [
       "<IPython.core.display.HTML object>"
      ]
     },
     "metadata": {},
     "output_type": "display_data"
    },
    {
     "data": {
      "text/html": [
       "\n",
       "    <div style='color: blue; font-weight: bold;'>Original: <i>♪ Everybody wants to\n",
       "Rule the world ♪</i></div>\n",
       "    <div style='color: green; font-weight: bold;'>Translated: <i>♪ Todos querem\n",
       "Dominar o mundo ♪</i></div>\n",
       "    "
      ],
      "text/plain": [
       "<IPython.core.display.HTML object>"
      ]
     },
     "metadata": {},
     "output_type": "display_data"
    },
    {
     "data": {
      "text/html": [
       "\n",
       "    <div style='color: blue; font-weight: bold;'>Original: <i>♪ There's a room where\n",
       "The light won't find you ♪</i></div>\n",
       "    <div style='color: green; font-weight: bold;'>Translated: <i>♪ Há um quarto onde\n",
       "A luz não te encontrará ♪</i></div>\n",
       "    "
      ],
      "text/plain": [
       "<IPython.core.display.HTML object>"
      ]
     },
     "metadata": {},
     "output_type": "display_data"
    },
    {
     "data": {
      "text/html": [
       "\n",
       "    <div style='color: blue; font-weight: bold;'>Original: <i>♪ Holding hands\n",
       "While the walls\n",
       "Come tumbling down ♪</i></div>\n",
       "    <div style='color: green; font-weight: bold;'>Translated: <i>♪ De mãos dadas\n",
       "Enquanto as paredes</div>\n",
       "    "
      ],
      "text/plain": [
       "<IPython.core.display.HTML object>"
      ]
     },
     "metadata": {},
     "output_type": "display_data"
    },
    {
     "data": {
      "text/html": [
       "\n",
       "    <div style='color: blue; font-weight: bold;'>Original: <i>♪ When they do\n",
       "I'll be right behind you ♪</i></div>\n",
       "    <div style='color: green; font-weight: bold;'>Translated: <i>♪ Quando o fizerem\n",
       "Estarei bem atrás de ti ♪</i></div>\n",
       "    "
      ],
      "text/plain": [
       "<IPython.core.display.HTML object>"
      ]
     },
     "metadata": {},
     "output_type": "display_data"
    },
    {
     "data": {
      "text/html": [
       "\n",
       "    <div style='color: blue; font-weight: bold;'>Original: <i>♪ So glad\n",
       "We've almost made it ♪</i></div>\n",
       "    <div style='color: green; font-weight: bold;'>Translated: <i>♪ Tão feliz\n",
       "Quase conseguimos ♪</i></div>\n",
       "    "
      ],
      "text/plain": [
       "<IPython.core.display.HTML object>"
      ]
     },
     "metadata": {},
     "output_type": "display_data"
    },
    {
     "data": {
      "text/html": [
       "\n",
       "    <div style='color: blue; font-weight: bold;'>Original: <i>♪ So sad they had to fade it ♪</i></div>\n",
       "    <div style='color: green; font-weight: bold;'>Translated: <i>♪ Tão triste terem de o desvanecer ♪</i></div>\n",
       "    "
      ],
      "text/plain": [
       "<IPython.core.display.HTML object>"
      ]
     },
     "metadata": {},
     "output_type": "display_data"
    },
    {
     "data": {
      "text/html": [
       "\n",
       "    <div style='color: blue; font-weight: bold;'>Original: <i>♪ Pom, pom, pom, pom\n",
       "Tra la la la la ♪</i></div>\n",
       "    <div style='color: green; font-weight: bold;'>Translated: <i>♪ Pom, pom, pom, pom\n",
       "Tra la la la la ♪</i></div>\n",
       "    "
      ],
      "text/plain": [
       "<IPython.core.display.HTML object>"
      ]
     },
     "metadata": {},
     "output_type": "display_data"
    },
    {
     "data": {
      "text/html": [
       "\n",
       "    <div style='color: blue; font-weight: bold;'>Original: <i>♪ Everybody wants to\n",
       "Rule the world ♪</i></div>\n",
       "    <div style='color: green; font-weight: bold;'>Translated: <i>♪ Todos querem\n",
       "Dominar o mundo ♪</i></div>\n",
       "    "
      ],
      "text/plain": [
       "<IPython.core.display.HTML object>"
      ]
     },
     "metadata": {},
     "output_type": "display_data"
    },
    {
     "data": {
      "text/html": [
       "\n",
       "    <div style='color: blue; font-weight: bold;'>Original: <i>♪ Say that you'll never, never\n",
       "Never, never need it ♪</i></div>\n",
       "    <div style='color: green; font-weight: bold;'>Translated: <i>♪ Diz que nunca, nunca\n",
       "Nunca, nunca precisarás ♪</i></div>\n",
       "    "
      ],
      "text/plain": [
       "<IPython.core.display.HTML object>"
      ]
     },
     "metadata": {},
     "output_type": "display_data"
    },
    {
     "data": {
      "text/html": [
       "\n",
       "    <div style='color: blue; font-weight: bold;'>Original: <i>♪ One headline\n",
       "Why believe it? ♪</i></div>\n",
       "    <div style='color: green; font-weight: bold;'>Translated: <i>♪ Uma manchete\n",
       "Porque acreditar? ♪</i></div>\n",
       "    "
      ],
      "text/plain": [
       "<IPython.core.display.HTML object>"
      ]
     },
     "metadata": {},
     "output_type": "display_data"
    },
    {
     "data": {
      "text/html": [
       "\n",
       "    <div style='color: blue; font-weight: bold;'>Original: <i>♪ Everybody wants to\n",
       "Rule the world ♪</i></div>\n",
       "    <div style='color: green; font-weight: bold;'>Translated: <i>♪ Todos querem\n",
       "Dominar o mundo ♪</i></div>\n",
       "    "
      ],
      "text/plain": [
       "<IPython.core.display.HTML object>"
      ]
     },
     "metadata": {},
     "output_type": "display_data"
    },
    {
     "data": {
      "text/html": [
       "\n",
       "    <div style='color: blue; font-weight: bold;'>Original: <i>♪ All for freedom\n",
       "And for pleasure ♪</i></div>\n",
       "    <div style='color: green; font-weight: bold;'>Translated: <i>♪ Tudo pela liberdade\n",
       "E pelo prazer ♪</i></div>\n",
       "    "
      ],
      "text/plain": [
       "<IPython.core.display.HTML object>"
      ]
     },
     "metadata": {},
     "output_type": "display_data"
    },
    {
     "data": {
      "text/html": [
       "\n",
       "    <div style='color: blue; font-weight: bold;'>Original: <i>♪ Nothing ever lasts forever ♪</i></div>\n",
       "    <div style='color: green; font-weight: bold;'>Translated: <i>♪ Nada dura para sempre ♪</i></div>\n",
       "    "
      ],
      "text/plain": [
       "<IPython.core.display.HTML object>"
      ]
     },
     "metadata": {},
     "output_type": "display_data"
    },
    {
     "data": {
      "text/html": [
       "\n",
       "    <div style='color: blue; font-weight: bold;'>Original: <i>♪ Everybody wants to\n",
       "Rule the world ♪</i></div>\n",
       "    <div style='color: green; font-weight: bold;'>Translated: <i>♪ Todos querem\n",
       "Dominar o mundo ♪</i></div>\n",
       "    "
      ],
      "text/plain": [
       "<IPython.core.display.HTML object>"
      ]
     },
     "metadata": {},
     "output_type": "display_data"
    },
    {
     "data": {
      "text/html": [
       "\n",
       "    <div style='color: blue; font-weight: bold;'>Original: <i>Oh, yeah!</i></div>\n",
       "    <div style='color: green; font-weight: bold;'>Translated: Ah, sim!</div>\n",
       "    "
      ],
      "text/plain": [
       "<IPython.core.display.HTML object>"
      ]
     },
     "metadata": {},
     "output_type": "display_data"
    },
    {
     "data": {
      "text/html": [
       "\n",
       "    <div style='color: blue; font-weight: bold;'>Original: Whoo-hoo-hoo!</div>\n",
       "    <div style='color: green; font-weight: bold;'>Translated: Uhu-u-u!</div>\n",
       "    "
      ],
      "text/plain": [
       "<IPython.core.display.HTML object>"
      ]
     },
     "metadata": {},
     "output_type": "display_data"
    },
    {
     "data": {
      "text/html": [
       "\n",
       "    <div style='color: blue; font-weight: bold;'>Original: Oh, strudel.</div>\n",
       "    <div style='color: green; font-weight: bold;'>Translated: Ah, strudel.</div>\n",
       "    "
      ],
      "text/plain": [
       "<IPython.core.display.HTML object>"
      ]
     },
     "metadata": {},
     "output_type": "display_data"
    },
    {
     "data": {
      "text/html": [
       "\n",
       "    <div style='color: blue; font-weight: bold;'>Original: Whoo-hoo-hoo-hoo!</div>\n",
       "    <div style='color: green; font-weight: bold;'>Translated: Uhu-hu-hu-hu!</div>\n",
       "    "
      ],
      "text/plain": [
       "<IPython.core.display.HTML object>"
      ]
     },
     "metadata": {},
     "output_type": "display_data"
    },
    {
     "data": {
      "text/html": [
       "\n",
       "    <div style='color: blue; font-weight: bold;'>Original: Ah, whoops.</div>\n",
       "    <div style='color: green; font-weight: bold;'>Translated: Ah, enganei-me.</div>\n",
       "    "
      ],
      "text/plain": [
       "<IPython.core.display.HTML object>"
      ]
     },
     "metadata": {},
     "output_type": "display_data"
    },
    {
     "data": {
      "text/html": [
       "\n",
       "    <div style='color: blue; font-weight: bold;'>Original: Huh?</div>\n",
       "    <div style='color: green; font-weight: bold;'>Translated: Hã?</div>\n",
       "    "
      ],
      "text/plain": [
       "<IPython.core.display.HTML object>"
      ]
     },
     "metadata": {},
     "output_type": "display_data"
    },
    {
     "data": {
      "text/html": [
       "\n",
       "    <div style='color: blue; font-weight: bold;'>Original: Mmm.</div>\n",
       "    <div style='color: green; font-weight: bold;'>Translated: Mmm.</div>\n",
       "    "
      ],
      "text/plain": [
       "<IPython.core.display.HTML object>"
      ]
     },
     "metadata": {},
     "output_type": "display_data"
    },
    {
     "data": {
      "text/html": [
       "\n",
       "    <div style='color: blue; font-weight: bold;'>Original: No, no, no, no, no.</div>\n",
       "    <div style='color: green; font-weight: bold;'>Translated: Não, não, não, não, não.</div>\n",
       "    "
      ],
      "text/plain": [
       "<IPython.core.display.HTML object>"
      ]
     },
     "metadata": {},
     "output_type": "display_data"
    },
    {
     "data": {
      "text/html": [
       "\n",
       "    <div style='color: blue; font-weight: bold;'>Original: Ooh!</div>\n",
       "    <div style='color: green; font-weight: bold;'>Translated: Ah!</div>\n",
       "    "
      ],
      "text/plain": [
       "<IPython.core.display.HTML object>"
      ]
     },
     "metadata": {},
     "output_type": "display_data"
    },
    {
     "data": {
      "text/html": [
       "\n",
       "    <div style='color: blue; font-weight: bold;'>Original: Uh...</div>\n",
       "    <div style='color: green; font-weight: bold;'>Translated: Uh...</div>\n",
       "    "
      ],
      "text/plain": [
       "<IPython.core.display.HTML object>"
      ]
     },
     "metadata": {},
     "output_type": "display_data"
    },
    {
     "data": {
      "text/html": [
       "\n",
       "    <div style='color: blue; font-weight: bold;'>Original: Uh-oh.</div>\n",
       "    <div style='color: green; font-weight: bold;'>Translated: Ui-ui.</div>\n",
       "    "
      ],
      "text/plain": [
       "<IPython.core.display.HTML object>"
      ]
     },
     "metadata": {},
     "output_type": "display_data"
    },
    {
     "data": {
      "text/html": [
       "\n",
       "    <div style='color: blue; font-weight: bold;'>Original: Ugh.</div>\n",
       "    <div style='color: green; font-weight: bold;'>Translated: Ai.</div>\n",
       "    "
      ],
      "text/plain": [
       "<IPython.core.display.HTML object>"
      ]
     },
     "metadata": {},
     "output_type": "display_data"
    },
    {
     "data": {
      "text/html": [
       "\n",
       "    <div style='color: blue; font-weight: bold;'>Original: - Oh?</div>\n",
       "    <div style='color: green; font-weight: bold;'>Translated: - Ah?</div>\n",
       "    "
      ],
      "text/plain": [
       "<IPython.core.display.HTML object>"
      ]
     },
     "metadata": {},
     "output_type": "display_data"
    },
    {
     "data": {
      "text/html": [
       "\n",
       "    <div style='color: blue; font-weight: bold;'>Original: Blah, blah, blah.\n",
       "Blah, blah, blah.\n",
       "Blah, blah, blah.</div>\n",
       "    <div style='color: green; font-weight: bold;'>Translated: Blá, blá, blá.\n",
       "Blá, blá, blá.</div>\n",
       "    "
      ],
      "text/plain": [
       "<IPython.core.display.HTML object>"
      ]
     },
     "metadata": {},
     "output_type": "display_data"
    },
    {
     "name": "stdout",
     "output_type": "stream",
     "text": [
      "\u001b[32mTranslation complete! Translated file saved as /Users/f.nuno/Downloads/Extracted_Subtitles/subtitle_track_2_PT-PT.srt\u001b[0m\n"
     ]
    }
   ],
   "source": [
    "import os\n",
    "import re\n",
    "import openai\n",
    "from tqdm.auto import tqdm\n",
    "from dotenv import load_dotenv\n",
    "from tkinter import Tk, filedialog\n",
    "from termcolor import colored\n",
    "from IPython.display import display, HTML\n",
    "\n",
    "# Load environment variables from .env file\n",
    "load_dotenv()\n",
    "\n",
    "# Retrieve the OpenAI API key from environment variables\n",
    "OPENAI_API_KEY = os.getenv(\"OPENAI_API_KEY\")\n",
    "if not OPENAI_API_KEY:\n",
    "    raise ValueError(\"API key not found. Set the OPENAI_API_KEY environment variable in your .env file.\")\n",
    "\n",
    "# Initialize OpenAI client\n",
    "openai.api_key = OPENAI_API_KEY\n",
    "\n",
    "def translate_text(text, source_lang=\"en\", target_lang=\"pt-PT\"):\n",
    "    \"\"\"Translate text using GPT-4-turbo.\"\"\"\n",
    "    # Display the text being translated\n",
    "    # display(Markdown(f\"**Translating text:** `{text[:100]}...`\"))  # Uncomment if needed for debugging\n",
    "    response = openai.chat.completions.create(\n",
    "        model=\"gpt-4-turbo\",\n",
    "        messages=[\n",
    "            {\"role\": \"system\", \"content\": f\"You are a translator. Translate from {source_lang} to {target_lang}.\"},\n",
    "            {\"role\": \"user\", \"content\": text}\n",
    "        ],\n",
    "        temperature=0,\n",
    "        max_tokens=500\n",
    "    )\n",
    "    # Extract the translation from the response\n",
    "    translation = response.choices[0].message.content.strip()\n",
    "    return translation\n",
    "\n",
    "def parse_srt(file_path):\n",
    "    \"\"\"Parse SRT file into a list of tuples (index, timestamp, text).\"\"\"\n",
    "    with open(file_path, 'r', encoding='utf-8') as file:\n",
    "        content = file.read()\n",
    "    \n",
    "    subtitles = []\n",
    "    parts = re.split(r'\\n\\n', content.strip())\n",
    "    for part in parts:\n",
    "        lines = part.split('\\n')\n",
    "        if len(lines) >= 3:\n",
    "            index = lines[0]\n",
    "            timestamp = lines[1]\n",
    "            text = '\\n'.join(lines[2:])\n",
    "            subtitles.append((index, timestamp, text))\n",
    "    return subtitles\n",
    "\n",
    "def write_srt(subtitles, file_path):\n",
    "    \"\"\"Write translated subtitles to a new SRT file.\"\"\"\n",
    "    with open(file_path, 'w', encoding='utf-8') as file:\n",
    "        for index, timestamp, text in subtitles:\n",
    "            file.write(f\"{index}\\n{timestamp}\\n{text}\\n\\n\")\n",
    "\n",
    "def display_translations(original, translated):\n",
    "    \"\"\"Display original and translated texts in colored HTML.\"\"\"\n",
    "    html_content = f\"\"\"\n",
    "    <div style='color: blue; font-weight: bold;'>Original: {original}</div>\n",
    "    <div style='color: green; font-weight: bold;'>Translated: {translated}</div>\n",
    "    \"\"\"\n",
    "    display(HTML(html_content))\n",
    "\n",
    "def main(input_file):\n",
    "    print(colored(f\"Reading file: {input_file}\", \"cyan\"))\n",
    "    subtitles = parse_srt(input_file)\n",
    "    \n",
    "    # Generate the output file name\n",
    "    base, ext = os.path.splitext(input_file)\n",
    "    output_file = f\"{base}_PT-PT{ext}\"\n",
    "    \n",
    "    # Translate subtitles with a progress bar\n",
    "    translated_subtitles = []\n",
    "    for index, timestamp, text in tqdm(subtitles, desc=\"Translating Subtitles\"):\n",
    "        # Skip sounds or comments\n",
    "        if re.search(r'\\[.*?\\]', text):\n",
    "            translated_subtitles.append((index, timestamp, text))\n",
    "            continue\n",
    "        \n",
    "        # Translate and correct the text\n",
    "        translated_text = translate_text(text)\n",
    "        \n",
    "        # Ensure text fits in 2 lines\n",
    "        lines = translated_text.split('\\n')\n",
    "        if len(lines) > 2:\n",
    "            translated_text = '\\n'.join(lines[:2])\n",
    "        \n",
    "        # Display original and translated texts in colored HTML\n",
    "        display_translations(text, translated_text)\n",
    "        \n",
    "        translated_subtitles.append((index, timestamp, translated_text))\n",
    "    \n",
    "    # Write the translated subtitles to a new SRT file\n",
    "    write_srt(translated_subtitles, output_file)\n",
    "    print(colored(f\"Translation complete! Translated file saved as {output_file}\", \"green\"))\n",
    "\n",
    "if __name__ == \"__main__\":\n",
    "    # Create a Tkinter root window and hide it\n",
    "    root = Tk()\n",
    "    root.withdraw()\n",
    "    \n",
    "    # Ask the user to select an SRT file\n",
    "    input_subtitle_path = filedialog.askopenfilename(\n",
    "        title=\"Select the English SRT file\",\n",
    "        filetypes=[(\"SRT files\", \"*.srt\"), (\"All files\", \"*.*\")]\n",
    "    )\n",
    "    \n",
    "    # Check if a file was selected\n",
    "    if input_subtitle_path:\n",
    "        main(input_subtitle_path)\n",
    "    else:\n",
    "        print(colored(\"No file selected. Exiting.\", \"red\"))\n"
   ]
  },
  {
   "cell_type": "code",
   "execution_count": null,
   "id": "e1a3c08a-0342-4b4c-be49-5344a8b655bd",
   "metadata": {},
   "outputs": [],
   "source": []
  }
 ],
 "metadata": {
  "kernelspec": {
   "display_name": "Python 3 (ipykernel)",
   "language": "python",
   "name": "python3"
  },
  "language_info": {
   "codemirror_mode": {
    "name": "ipython",
    "version": 3
   },
   "file_extension": ".py",
   "mimetype": "text/x-python",
   "name": "python",
   "nbconvert_exporter": "python",
   "pygments_lexer": "ipython3",
   "version": "3.12.2"
  }
 },
 "nbformat": 4,
 "nbformat_minor": 5
}
